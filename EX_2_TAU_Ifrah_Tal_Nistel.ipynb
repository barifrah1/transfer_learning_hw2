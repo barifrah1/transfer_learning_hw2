{
  "nbformat": 4,
  "nbformat_minor": 0,
  "metadata": {
    "kernelspec": {
      "name": "python3",
      "display_name": "Python 3.7.0 64-bit",
      "metadata": {
        "interpreter": {
          "hash": "764e53dc5e3cc7b54d77b51f4fb7ab4789ad4d184d9b79883b073a8f85e8cc44"
        }
      }
    },
    "language_info": {
      "codemirror_mode": {
        "name": "ipython",
        "version": 3
      },
      "file_extension": ".py",
      "mimetype": "text/x-python",
      "name": "python",
      "nbconvert_exporter": "python",
      "pygments_lexer": "ipython3",
      "version": "3.7.0-final"
    },
    "colab": {
      "name": "EX_2_TAU.ipynb",
      "provenance": [],
      "collapsed_sections": [],
      "toc_visible": true
    }
  },
  "cells": [
    {
      "cell_type": "markdown",
      "metadata": {
        "id": "ELYNCTlcNhDe"
      },
      "source": [
        "# Transfer Learning with Pytorch"
      ]
    },
    {
      "cell_type": "markdown",
      "metadata": {
        "id": "v5LqZ96tNhDm"
      },
      "source": [
        "In this excercise, you will implement a 2-class classification neural network, using transfer learning from a pre-trained resnet18 network. A pre-trained model is a model that was trained on a large benchmark dataset to solve a problem similar to the one that we want to solve (but not identical). The pre-trained network could have been trained on a different dataset and sometimes also on a different task. The important thing is that it would be a related task and a realted dataset. This way, we can leverage previous learneinng to solve the new problem (instead of training the model from scratch). The ResNet18 model was pre-trained on the [ImageNet](http://image-net.org/index) dataset (a large dataset consisting of 1.4M images and 1000 classes). \n",
        "\n",
        "Transfer learning can be used in two ways:\n",
        "1. Feature extractor: Here we remove top layers, freeze the weights of all remaining layers, add a new fully connected layers on top of the pretrained model. Then. we train only these new layers to solve the new task.\n",
        "2. Fine tuning: Here we unfreezing the entire model (or part of it), add a new fully connected layers on top of the pre-trained model (as before) and re-train the entire model on the new data with a very low learning rate. We can use either end-to-end re-training, or re-train only part of the network.\n",
        "\n",
        "### CIFAR-10 Dataset:\n",
        "\n",
        "In this assignment, you will need to perform transfer learning using the ResNet18 network in order to classify and discern between images of cats and dogs in a different dataset: [CIFAR-10](https://www.cs.toronto.edu/~kriz/cifar.html) \n",
        "\n"
      ]
    },
    {
      "cell_type": "markdown",
      "metadata": {
        "id": "_nqsh39INhDn"
      },
      "source": [
        "# Part 1- Feature Extractor"
      ]
    },
    {
      "cell_type": "markdown",
      "metadata": {
        "id": "CnvyeWmyNhDn"
      },
      "source": [
        "In this part of the exercise, you need to classify images of 'Cat' and 'Dog' by using transfer learning with the feature extractor approach and a pre-trained ResNet18 network.\n",
        "\n",
        "The pre-trained model is built out of two main parts, the features and the classifier. The features part is a stack of convolutional layers. You will need to extract the image representation that should be fed into a classifier. For the classifier, please use a single fully-connected layer. \n",
        "\n",
        "\n",
        "In order to make things efficient, start by using the ResNet18 network in order to extract image represetnations for the images in CIFAR-10 dataset. Please make sure to this only once (please do not extract the image representations each time it is needed in the training phase)! You can store the resulting image representations as feature vectors and train the classifier using these vectors. At test time, you can merge both network in order to achive a single end-to-end classifier.  \n",
        "Note: This is different from what you saw in the recitation (dl_r4_cnns).\n",
        "\n",
        "At the test time, you can merge the feature extraction netowork with the new prediction head, in order to recive a \"full solution\".\n"
      ]
    },
    {
      "cell_type": "markdown",
      "metadata": {
        "id": "bER05IpTNhDo"
      },
      "source": [
        "**Let's first import all the packages that you will need during this part of assignment:**"
      ]
    },
    {
      "cell_type": "code",
      "metadata": {
        "id": "7YpD2XWzNhDo"
      },
      "source": [
        "import torch\n",
        "from torch import nn\n",
        "import torchvision\n",
        "from torchvision import datasets, models, transforms\n",
        "from torch import optim\n",
        "\n",
        "import matplotlib.pyplot as plt\n",
        "import numpy as np\n",
        "from sklearn.linear_model import LogisticRegression, LogisticRegressionCV\n",
        "import time\n",
        "import tqdm\n",
        "from tqdm import tqdm\n",
        "import sklearn\n",
        "from sklearn.linear_model import LogisticRegression, LinearRegression\n",
        "from sklearn.metrics import roc_auc_score, roc_curve, auc\n",
        "from torch.utils.data import DataLoader, Dataset\n",
        "import os"
      ],
      "execution_count": 223,
      "outputs": []
    },
    {
      "cell_type": "markdown",
      "metadata": {
        "id": "EIZ1DudkNhDp"
      },
      "source": [
        "The ResNet18 network requires images of at least 200x200 pixels. However, the CIFAR-10 dataset consists of small images of 32x32 pixels. Hence, you will need to reshape the images before we use them into the ResNet18 network.\n",
        "Additionally, you will need to match the normalization used while training the ResNet18: each color channel should be normalized separately. The channel means are [0.485, 0.456, 0.406] and the standard deviations are [0.229, 0.224, 0.225]."
      ]
    },
    {
      "cell_type": "markdown",
      "metadata": {
        "id": "rHLdd1RcNhDp"
      },
      "source": [
        "**Use the transforms library from  torchvision and definethese transformations:**"
      ]
    },
    {
      "cell_type": "code",
      "metadata": {
        "id": "Icj127ojNhDq"
      },
      "source": [
        "# Specify transforms using torchvision.transforms as transforms library\n",
        "\n",
        "#transformation for the training data - here we will take 224 pixels every time from different part of the picture for generalization\n",
        "train_transform = transforms.Compose(\n",
        "    [\n",
        "        transforms.Resize(256),\n",
        "        transforms.RandomCrop(224),\n",
        "        transforms.ToTensor(),\n",
        "        transforms.Normalize([0.485, 0.456, 0.406], [\n",
        "            0.229, 0.224, 0.225]),\n",
        "    ]\n",
        ")\n",
        "#transformation for the validation data - here we take always the center of the image to get better results\n",
        "infer_transform = transforms.Compose(\n",
        "    [\n",
        "        transforms.Resize(256),\n",
        "        transforms.CenterCrop(224),\n",
        "        transforms.ToTensor(),\n",
        "        transforms.Normalize([0.485, 0.456, 0.406], [\n",
        "            0.229, 0.224, 0.225]),\n",
        "    ]\n",
        ")\n"
      ],
      "execution_count": 224,
      "outputs": []
    },
    {
      "cell_type": "markdown",
      "metadata": {
        "id": "t8Amslg0NPEt"
      },
      "source": [
        ""
      ]
    },
    {
      "cell_type": "markdown",
      "metadata": {
        "id": "Pu-adJyONhDq"
      },
      "source": [
        "#### Load CIFAR10 dataset and transform dataset from torchvision:"
      ]
    },
    {
      "cell_type": "code",
      "metadata": {
        "id": "7r_0V7AiNhDq"
      },
      "source": [
        "\n",
        "# a class that was made to take only the 'cat' and 'dog' labels from ciphar dataset\n",
        "\n",
        "\n",
        "class SubLoader(torchvision.datasets.CIFAR10):\n",
        "    def __init__(self, exclude_list, *args, **kwargs):\n",
        "        super(SubLoader, self).__init__(*args, **kwargs)\n",
        "\n",
        "        if exclude_list == []:\n",
        "            return\n",
        "        labels = np.array(self.targets)\n",
        "        exclude = np.array(exclude_list).reshape(1, -1)\n",
        "        mask = ~(labels.reshape(-1, 1) == exclude).any(axis=1)\n",
        "        self.data = self.data[mask]\n",
        "        self.targets = labels[mask].tolist()\n",
        "        self.targets = list(map(lambda x: 1 if x == 5 else 0, self.targets))\n",
        "\n",
        "\n",
        "# a class that inherit from Dataset and overide __len__ and __getitem__\n",
        "# overrides __len__ in order to limit the number of rows returned to a given parameter len_limit as we asked\n",
        "# overrides __getitem__ to return equal number of rows for each label as we asked(equal number of dogs and cats)\n",
        "class CIFAR10_DataLoader_Len_Limited(Dataset):\n",
        "    def __init__(self, original_datset, len_limit=None):\n",
        "        self.len_limit = len_limit\n",
        "        self.original_datset = original_datset\n",
        "        self.label_to_indices = {label: np.where(np.array(self.original_datset.targets) == label)[0].tolist()\n",
        "                                 for label in [0, 1]}\n",
        "        # random.shuffle(self.label_to_indices[0])\n",
        "        # random.shuffle(self.label_to_indices[1])\n",
        "        self.ind_0 = 0  # counter for label 0\n",
        "        self.ind_1 = 0  # couner for label 1\n",
        "\n",
        "    def __getitem__(self, ind):\n",
        "        # In case we have already return more label 1 rows than label 0 rows, so the next row will be taken\n",
        "        # from the minority class\n",
        "        if(self.ind_0 <= self.ind_1):\n",
        "            next_ind = self.label_to_indices[0][self.ind_0]\n",
        "            label = self.original_datset.targets[next_ind]\n",
        "            self.ind_0 += 1\n",
        "            if(ind == self.len_limit-1):\n",
        "                self.ind_0 = 0\n",
        "                self.ind_1 = 0\n",
        "            return self.original_datset[next_ind]\n",
        "        else:\n",
        "            next_ind = self.label_to_indices[1][self.ind_1]\n",
        "            label = self.original_datset.targets[next_ind]\n",
        "            self.ind_1 += 1\n",
        "            if(ind == self.len_limit-1):\n",
        "                self.ind_0 = 0\n",
        "                self.ind_1 = 0\n",
        "            return self.original_datset[next_ind]\n",
        "\n",
        "    def __len__(self):  # return at most len_limit rows from the dataset\n",
        "        # we were asked to limit the number of training examples to do the training process more efficient\n",
        "        if self.len_limit:\n",
        "            return min(len(self.original_datset), self.len_limit)\n",
        "        return len(self.original_datset)\n",
        "\n",
        "\n",
        "\n",
        "\n"
      ],
      "execution_count": 225,
      "outputs": []
    },
    {
      "cell_type": "code",
      "metadata": {
        "id": "A8gchqicQsy0"
      },
      "source": [
        "# arguments for Net and dataloaders\r\n",
        "class NetArgs:\r\n",
        "    lr = 1e-4\r\n",
        "    lr_finetune = 1e-5\r\n",
        "    weight_decay = 5e-6\r\n",
        "    num_epochs = 5000\r\n",
        "    early_stopping_min_improvement = 1e-7\r\n",
        "    early_stopping_num_epochs = 5\r\n",
        "    early_stopping_min_improvement_ft = 1e-2\r\n",
        "    early_stopping_num_epochs_ft = 2\r\n",
        "    batch_size = 150\r\n",
        "    train_size = 2*800\r\n",
        "    test_size = 2*250\r\n",
        "    X_train_extracted_from_resnet18_file_name = \"X_extracted_features_train18.pt\"\r\n",
        "    y_train_extracted_from_resnet18_file_name = \"y_extracted_features_train18.pt\"\r\n",
        "    X_test_extracted_from_resnet18_file_name = \"X_extracted_features_test18.pt\"\r\n",
        "    y_test_extracted_from_resnet18_file_name = \"y_extracted_features_test18.pt\"\r\n",
        "    X_train_extracted_from_resnet34_file_name = \"X_extracted_features_train34.pt\"\r\n",
        "    y_train_extracted_from_resnet34_file_name = \"y_extracted_features_train34.pt\"\r\n",
        "    X_test_extracted_from_resnet34_file_name = \"X_extracted_features_test34.pt\"\r\n",
        "    y_test_extracted_from_resnet34_file_name = \"y_extracted_features_test34.pt\"\r\n",
        "\r\n",
        "args = NetArgs()"
      ],
      "execution_count": 226,
      "outputs": []
    },
    {
      "cell_type": "code",
      "metadata": {
        "colab": {
          "base_uri": "https://localhost:8080/"
        },
        "id": "lZa9oIVhNhDr",
        "outputId": "7a43f759-8315-49bf-a001-b0b9148d125e"
      },
      "source": [
        "# Note: In order to separating the data/label you can apply \"classes\"/\"targets\" methods on CIFAR10 data sets\n",
        "\n",
        "#flag that checkes if loading again and extract resnet18 features is needed or we should use extracted features files(used during development)\n",
        "RESNET18_EXTRACTED_DATA_EXIST = (os.path.exists(args.X_train_extracted_from_resnet18_file_name) == True and\n",
        "                                     os.path.exists(args.y_train_extracted_from_resnet18_file_name) == True and\n",
        "                                     os.path.exists(args.X_test_extracted_from_resnet18_file_name) == True and\n",
        "                                     os.path.exists(args.y_test_extracted_from_resnet18_file_name) == True)\n",
        "#flag that checkes if loading again and extract resnet34 features is needed or we should use extracted features files\n",
        "RESNET34_EXTRACTED_DATA_EXIST = (os.path.exists(args.X_train_extracted_from_resnet34_file_name) == True and\n",
        "                                     os.path.exists(args.y_train_extracted_from_resnet34_file_name) == True and\n",
        "                                     os.path.exists(args.X_test_extracted_from_resnet34_file_name) == True and\n",
        "                                     os.path.exists(args.y_test_extracted_from_resnet34_file_name) == True)\n",
        "\n",
        "# classes of the ciphar-10\n",
        "labels = {'airplane': 0, 'automobile': 1, 'bird': 2, 'cat': 3,\n",
        "          'deer': 4, 'dog': 5, 'frog': 6, 'horse': 7, 'ship': 8, 'truck': 9}\n",
        "print(labels)\n",
        "#exclude all classes except dog and cat\n",
        "exclude_labels = labels\n",
        "del exclude_labels['dog']\n",
        "del exclude_labels['cat']\n",
        "exclude_labels = list(exclude_labels.values())\n",
        "\n",
        "# Subloader inherits from Dataloader and overrides __init__. It takes only the 'dog' and 'cat' examples from the dataset\n",
        "tr_dataset = SubLoader(exclude_labels, \"cifar\",\n",
        "                        transform=train_transform, train=True, download=True)\n",
        "# CIFAR10_DataLoader_Len_Limited is a class inherits from cifar10DataSet and limits and number of examples used from the dataset to len_limit\n",
        "tr_dataloader = DataLoader(\n",
        "    CIFAR10_DataLoader_Len_Limited(tr_dataset, int(args.train_size)), batch_size=args.batch_size\n",
        ")\n",
        "#create validation dataloader\n",
        "val_dataset = SubLoader(exclude_labels, \"cifar\",\n",
        "                        transform=infer_transform, train=False, download=False)\n",
        "val_dataloader = DataLoader(\n",
        "    CIFAR10_DataLoader_Len_Limited(val_dataset, int(args.test_size)), batch_size=int(args.test_size)\n",
        ")\n"
      ],
      "execution_count": 227,
      "outputs": [
        {
          "output_type": "stream",
          "text": [
            "{'airplane': 0, 'automobile': 1, 'bird': 2, 'cat': 3, 'deer': 4, 'dog': 5, 'frog': 6, 'horse': 7, 'ship': 8, 'truck': 9}\n",
            "Files already downloaded and verified\n"
          ],
          "name": "stdout"
        }
      ]
    },
    {
      "cell_type": "markdown",
      "metadata": {
        "id": "7IWhAINENhDq"
      },
      "source": [
        "**Note that the CIFAR10 data set includes 10 labels. Please extract from the entire dataset, only the images with 'Cat' or 'Dog' labels.\n",
        "In order to make the training process faster, you will need to trim the train set to 800 training images of each label (800 dogs and 800 cats). The test set should be trimmed to 250 images of cats and 250 images of dogs.**"
      ]
    },
    {
      "cell_type": "markdown",
      "metadata": {
        "id": "GfrK1EE7NhDr"
      },
      "source": [
        "**Download the ResNet18 Network from torchvision.models (as seen in the tutorial):**"
      ]
    },
    {
      "cell_type": "code",
      "metadata": {
        "id": "DN4DPC5UNhDr"
      },
      "source": [
        "import matplotlib.pyplot as plt\n",
        "\n",
        "class MyResNet(nn.Module):\n",
        "#A class inherits from nn and gets 2 parameter classifyer that replaces resnet head and which version \n",
        "#of resnet we should load resnet18 or resnet34\n",
        "    def __init__(self, classifyer, res34or18):\n",
        "        super(MyResNet, self).__init__()\n",
        "        if(res34or18 == 18):\n",
        "            resnet = models.resnet18(pretrained=True)\n",
        "        else:\n",
        "            resnet = models.resnet34(pretrained=True)\n",
        "        num_ftrs = resnet.fc.in_features\n",
        "        #cut resnet head\n",
        "        resnet.fc = nn.Identity()\n",
        "        #save features extractor as self.features\n",
        "        self.features = resnet\n",
        "        # Freezing resnet params:\n",
        "        for param in self.features.parameters():\n",
        "            param.requires_grad = False\n",
        "        # fc layer with softMax for classifying(given as parameter)\n",
        "        self.classifyer = classifyer\n",
        "    # function that feed forward images in resnet and returns tensor of extracted features\n",
        "    def extract_features_from_dataloader(self, dataloader):\n",
        "        X_extracted_features = torch.empty([0, 512])\n",
        "        y_extracted_features = torch.empty([0]).long()\n",
        "        self.features.eval()\n",
        "        with torch.no_grad():\n",
        "            for X, y in dataloader:\n",
        "                extracted_batch_features = self.features(X)\n",
        "                X_extracted_features = torch.cat(\n",
        "                    [X_extracted_features, extracted_batch_features], dim=0)\n",
        "                y_extracted_features = torch.cat(\n",
        "                    [y_extracted_features, y], dim=0)\n",
        "\n",
        "        return X_extracted_features, y_extracted_features\n",
        "\n",
        "    def forward(self, X):\n",
        "      # In case we get extracted features tensor (The length of it's shape is 2)\n",
        "        if(len(X.shape) != 4):\n",
        "            return self.classifyer(X)\n",
        "        # The (The length of image shape is 4)\n",
        "        #in case we feed forward images with shape [n,C,H,W] the len of shape is 4 so we need only to extract features\n",
        "        # using self.features and then feed it to the classifyer to get the output probabilities\n",
        "        else:\n",
        "            X = self.features(X)\n",
        "            return self.classifyer(X)\n",
        "\n",
        "\n",
        "\n"
      ],
      "execution_count": 228,
      "outputs": []
    },
    {
      "cell_type": "markdown",
      "metadata": {
        "id": "lp6gyGdKNhDr"
      },
      "source": [
        "#### Now, use the pre-trained Resnet18 to extract feautres from the CIFAR10 dataset and feed your classifier with these feature vectors. To do that, you need to cut the head of the pre-trained ResNet18 model, then feed the model with the CIFAR10 data sets (train and test).  The resulting image representations should be \"flattened\" and used as feature vectors:"
      ]
    },
    {
      "cell_type": "code",
      "metadata": {
        "id": "QrAjcVBSNhDs"
      },
      "source": [
        "classifyer = nn.Sequential(nn.Linear(512, 2)) # classifyer is one linear layer(softmax layer from CrossEntropyLoss)\n",
        "net = MyResNet(classifyer, 18) #resnet18  with classifyer instead of resnet.fc\n",
        "# in case we already extracted the features using resnet18, skip the extraction process and load it from the files(for development mode)\n",
        "if(RESNET18_EXTRACTED_DATA_EXIST == False):\n",
        "  #extract training features tensor with shape  of [800*2,512]\n",
        "    X_extracted_features_train, y_extracted_features_train = net.extract_features_from_dataloader(\n",
        "        tr_dataloader)\n",
        "  #extract validation features tensor with shape  of [250*2,512]\n",
        "    X_extracted_features_test, y_extracted_features_test = net.extract_features_from_dataloader(\n",
        "        val_dataloader)\n",
        "    print(X_extracted_features_train.shape)\n",
        "    print(X_extracted_features_test.shape)\n",
        "    # save the extracted features to files(for development mode)\n",
        "    torch.save(X_extracted_features_train,\n",
        "                args.X_train_extracted_from_resnet18_file_name)\n",
        "    torch.save(y_extracted_features_train,\n",
        "                args.y_train_extracted_from_resnet18_file_name)\n",
        "    torch.save(X_extracted_features_test,\n",
        "                args.X_test_extracted_from_resnet18_file_name)\n",
        "    torch.save(y_extracted_features_test,\n",
        "                args.y_test_extracted_from_resnet18_file_name)\n",
        "else:\n",
        "    # load the extracted features files(for development mode)\n",
        "    X_extracted_features_train = torch.load(\n",
        "        args.X_train_extracted_from_resnet18_file_name)\n",
        "    y_extracted_features_train = torch.load(\n",
        "        args.y_train_extracted_from_resnet18_file_name)\n",
        "    X_extracted_features_test = torch.load(\n",
        "        args.X_test_extracted_from_resnet18_file_name)\n",
        "    y_extracted_features_test = torch.load(\n",
        "        args.y_test_extracted_from_resnet18_file_name)\n"
      ],
      "execution_count": 229,
      "outputs": []
    },
    {
      "cell_type": "markdown",
      "metadata": {
        "id": "93Ve1J_4NhDs"
      },
      "source": [
        "# Logistic Regression with scikit-learn library:"
      ]
    },
    {
      "cell_type": "markdown",
      "metadata": {
        "id": "oMiW5c3FNhDs"
      },
      "source": [
        "#### Here, you need to use a logistic regession model from scikit-learn and train it with the data you prepared above. You need to calculate and report the accuracy and AUC for the train and test sets and explain your results."
      ]
    },
    {
      "cell_type": "code",
      "metadata": {
        "colab": {
          "base_uri": "https://localhost:8080/"
        },
        "id": "BvwBRemgNhDs",
        "outputId": "0d6dc4dd-345b-45c3-d5a0-6b6c1883208d"
      },
      "source": [
        "\n",
        "# logistic regression with sklearn\n",
        "\n",
        "logisticRegr = LogisticRegression(penalty='l2',solver='lbfgs',tol=1e-3, max_iter=1000)\n",
        "clf = logisticRegr.fit(X_extracted_features_train.numpy(),\n",
        "                        y_extracted_features_train.numpy())\n",
        "pred_probs_train_lr = clf.predict_proba(X_extracted_features_train)[:,1] # prediction on training set\n",
        "pred_probs_test_lr = clf.predict_proba(X_extracted_features_test)[:,1]  #prediction on test set\n",
        "\n",
        "\n",
        "# train accuracy and auc\n",
        "accuracy_train_lr = clf.score(\n",
        "    X_extracted_features_train, y_extracted_features_train)\n",
        "auc_train_lr = roc_auc_score(y_extracted_features_train.numpy(),pred_probs_train_lr)\n",
        "# test accuracy and auc\n",
        "accuracy_test_lr = clf.score(\n",
        "    X_extracted_features_test, y_extracted_features_test)\n",
        "auc_test_lr = roc_auc_score(y_extracted_features_test.numpy(),pred_probs_test_lr)\n",
        "\n",
        "print(\"train results:\")\n",
        "print('accuracy:', accuracy_train_lr)\n",
        "print('auc', auc_train_lr)\n",
        "print(\"test results:\")\n",
        "print('accuracy:', accuracy_test_lr)\n",
        "print('auc', auc_test_lr)\n",
        "\n",
        "\n",
        "\n"
      ],
      "execution_count": 230,
      "outputs": [
        {
          "output_type": "stream",
          "text": [
            "train results:\n",
            "accuracy: 0.979375\n",
            "auc 0.9987\n",
            "test results:\n",
            "accuracy: 0.844\n",
            "auc 0.920352\n"
          ],
          "name": "stdout"
        }
      ]
    },
    {
      "cell_type": "markdown",
      "metadata": {
        "id": "Rei66JcAeVWT"
      },
      "source": [
        "We used Logisitic regression algorithm to classify the images. First we used Resnet to extract the features into 1 dimensional vector, then we could have use any supevised learning algorithm(SVM,Random Forest, Logistic regression,...) to make the classification on the 1 dimensional vectors.\r\n",
        "We used logistic regression to get probablistic result and as we can see the training error is very small (auc and accuracy close to 1) while the accuracy on the test set is 0.83(overfitted even we used L2 regularization)"
      ]
    },
    {
      "cell_type": "markdown",
      "metadata": {
        "id": "7wc-gEx4NhDt"
      },
      "source": [
        "# Logistic Regression with pytorch:\n",
        "\n",
        "#### Next, you need to use a logistic regession using pythourch as follows:\n",
        "\n",
        "\n",
        "1. Explain the choice of architecture in the head of the neural network.\n",
        "2. Plot training loss per epoch.\n",
        "3. Plot AUC per epoch for train and validation sets.\n",
        "4. Explain your results and findings.\n",
        "5. Does adding one or two hidden layers affect the generalization capabilities of the model?"
      ]
    },
    {
      "cell_type": "markdown",
      "metadata": {
        "id": "cB7fPgqiNhDt"
      },
      "source": [
        "#### Define the model:"
      ]
    },
    {
      "cell_type": "code",
      "metadata": {
        "id": "N-nbKl3zNhDu",
        "colab": {
          "base_uri": "https://localhost:8080/"
        },
        "outputId": "e484395c-b046-489b-c53f-4d16e3f4cee9"
      },
      "source": [
        "#Define above in MyResNet class\r\n",
        "net"
      ],
      "execution_count": 231,
      "outputs": [
        {
          "output_type": "execute_result",
          "data": {
            "text/plain": [
              "MyResNet(\n",
              "  (features): ResNet(\n",
              "    (conv1): Conv2d(3, 64, kernel_size=(7, 7), stride=(2, 2), padding=(3, 3), bias=False)\n",
              "    (bn1): BatchNorm2d(64, eps=1e-05, momentum=0.1, affine=True, track_running_stats=True)\n",
              "    (relu): ReLU(inplace=True)\n",
              "    (maxpool): MaxPool2d(kernel_size=3, stride=2, padding=1, dilation=1, ceil_mode=False)\n",
              "    (layer1): Sequential(\n",
              "      (0): BasicBlock(\n",
              "        (conv1): Conv2d(64, 64, kernel_size=(3, 3), stride=(1, 1), padding=(1, 1), bias=False)\n",
              "        (bn1): BatchNorm2d(64, eps=1e-05, momentum=0.1, affine=True, track_running_stats=True)\n",
              "        (relu): ReLU(inplace=True)\n",
              "        (conv2): Conv2d(64, 64, kernel_size=(3, 3), stride=(1, 1), padding=(1, 1), bias=False)\n",
              "        (bn2): BatchNorm2d(64, eps=1e-05, momentum=0.1, affine=True, track_running_stats=True)\n",
              "      )\n",
              "      (1): BasicBlock(\n",
              "        (conv1): Conv2d(64, 64, kernel_size=(3, 3), stride=(1, 1), padding=(1, 1), bias=False)\n",
              "        (bn1): BatchNorm2d(64, eps=1e-05, momentum=0.1, affine=True, track_running_stats=True)\n",
              "        (relu): ReLU(inplace=True)\n",
              "        (conv2): Conv2d(64, 64, kernel_size=(3, 3), stride=(1, 1), padding=(1, 1), bias=False)\n",
              "        (bn2): BatchNorm2d(64, eps=1e-05, momentum=0.1, affine=True, track_running_stats=True)\n",
              "      )\n",
              "    )\n",
              "    (layer2): Sequential(\n",
              "      (0): BasicBlock(\n",
              "        (conv1): Conv2d(64, 128, kernel_size=(3, 3), stride=(2, 2), padding=(1, 1), bias=False)\n",
              "        (bn1): BatchNorm2d(128, eps=1e-05, momentum=0.1, affine=True, track_running_stats=True)\n",
              "        (relu): ReLU(inplace=True)\n",
              "        (conv2): Conv2d(128, 128, kernel_size=(3, 3), stride=(1, 1), padding=(1, 1), bias=False)\n",
              "        (bn2): BatchNorm2d(128, eps=1e-05, momentum=0.1, affine=True, track_running_stats=True)\n",
              "        (downsample): Sequential(\n",
              "          (0): Conv2d(64, 128, kernel_size=(1, 1), stride=(2, 2), bias=False)\n",
              "          (1): BatchNorm2d(128, eps=1e-05, momentum=0.1, affine=True, track_running_stats=True)\n",
              "        )\n",
              "      )\n",
              "      (1): BasicBlock(\n",
              "        (conv1): Conv2d(128, 128, kernel_size=(3, 3), stride=(1, 1), padding=(1, 1), bias=False)\n",
              "        (bn1): BatchNorm2d(128, eps=1e-05, momentum=0.1, affine=True, track_running_stats=True)\n",
              "        (relu): ReLU(inplace=True)\n",
              "        (conv2): Conv2d(128, 128, kernel_size=(3, 3), stride=(1, 1), padding=(1, 1), bias=False)\n",
              "        (bn2): BatchNorm2d(128, eps=1e-05, momentum=0.1, affine=True, track_running_stats=True)\n",
              "      )\n",
              "    )\n",
              "    (layer3): Sequential(\n",
              "      (0): BasicBlock(\n",
              "        (conv1): Conv2d(128, 256, kernel_size=(3, 3), stride=(2, 2), padding=(1, 1), bias=False)\n",
              "        (bn1): BatchNorm2d(256, eps=1e-05, momentum=0.1, affine=True, track_running_stats=True)\n",
              "        (relu): ReLU(inplace=True)\n",
              "        (conv2): Conv2d(256, 256, kernel_size=(3, 3), stride=(1, 1), padding=(1, 1), bias=False)\n",
              "        (bn2): BatchNorm2d(256, eps=1e-05, momentum=0.1, affine=True, track_running_stats=True)\n",
              "        (downsample): Sequential(\n",
              "          (0): Conv2d(128, 256, kernel_size=(1, 1), stride=(2, 2), bias=False)\n",
              "          (1): BatchNorm2d(256, eps=1e-05, momentum=0.1, affine=True, track_running_stats=True)\n",
              "        )\n",
              "      )\n",
              "      (1): BasicBlock(\n",
              "        (conv1): Conv2d(256, 256, kernel_size=(3, 3), stride=(1, 1), padding=(1, 1), bias=False)\n",
              "        (bn1): BatchNorm2d(256, eps=1e-05, momentum=0.1, affine=True, track_running_stats=True)\n",
              "        (relu): ReLU(inplace=True)\n",
              "        (conv2): Conv2d(256, 256, kernel_size=(3, 3), stride=(1, 1), padding=(1, 1), bias=False)\n",
              "        (bn2): BatchNorm2d(256, eps=1e-05, momentum=0.1, affine=True, track_running_stats=True)\n",
              "      )\n",
              "    )\n",
              "    (layer4): Sequential(\n",
              "      (0): BasicBlock(\n",
              "        (conv1): Conv2d(256, 512, kernel_size=(3, 3), stride=(2, 2), padding=(1, 1), bias=False)\n",
              "        (bn1): BatchNorm2d(512, eps=1e-05, momentum=0.1, affine=True, track_running_stats=True)\n",
              "        (relu): ReLU(inplace=True)\n",
              "        (conv2): Conv2d(512, 512, kernel_size=(3, 3), stride=(1, 1), padding=(1, 1), bias=False)\n",
              "        (bn2): BatchNorm2d(512, eps=1e-05, momentum=0.1, affine=True, track_running_stats=True)\n",
              "        (downsample): Sequential(\n",
              "          (0): Conv2d(256, 512, kernel_size=(1, 1), stride=(2, 2), bias=False)\n",
              "          (1): BatchNorm2d(512, eps=1e-05, momentum=0.1, affine=True, track_running_stats=True)\n",
              "        )\n",
              "      )\n",
              "      (1): BasicBlock(\n",
              "        (conv1): Conv2d(512, 512, kernel_size=(3, 3), stride=(1, 1), padding=(1, 1), bias=False)\n",
              "        (bn1): BatchNorm2d(512, eps=1e-05, momentum=0.1, affine=True, track_running_stats=True)\n",
              "        (relu): ReLU(inplace=True)\n",
              "        (conv2): Conv2d(512, 512, kernel_size=(3, 3), stride=(1, 1), padding=(1, 1), bias=False)\n",
              "        (bn2): BatchNorm2d(512, eps=1e-05, momentum=0.1, affine=True, track_running_stats=True)\n",
              "      )\n",
              "    )\n",
              "    (avgpool): AdaptiveAvgPool2d(output_size=(1, 1))\n",
              "    (fc): Identity()\n",
              "  )\n",
              "  (classifyer): Sequential(\n",
              "    (0): Linear(in_features=512, out_features=2, bias=True)\n",
              "  )\n",
              ")"
            ]
          },
          "metadata": {
            "tags": []
          },
          "execution_count": 231
        }
      ]
    },
    {
      "cell_type": "markdown",
      "metadata": {
        "id": "gy7uiaf_gQ6k"
      },
      "source": [
        "We used this head: Linear(in_features=512, out_features=2, bias=True) because the last layer of resnet18 and resnet 34 returns a tensor with shape [n,512] .  out_features=2 because we classify into 2 classes dogs and cats(we could have use also out_features=1 with BCELoss but we wanted to try to use CrossEntropyLoss  (even it's the same for the binary case).CrossEntropyLoss executes Softmax on the output before calculating loss."
      ]
    },
    {
      "cell_type": "markdown",
      "metadata": {
        "id": "DhYf3bbvNhDu"
      },
      "source": [
        "#### Training and validation:"
      ]
    },
    {
      "cell_type": "markdown",
      "metadata": {
        "id": "j10IZCdPhuaO"
      },
      "source": [
        "Training Loop, Infer and graphs functions"
      ]
    },
    {
      "cell_type": "code",
      "metadata": {
        "id": "ngAH1eFQNhDu",
        "tags": []
      },
      "source": [
        "\n",
        "# can pass to function dataloader or X,y\n",
        "def infer(net, criterion, X=None, y=None, dataloader=None):\n",
        "    net.eval()\n",
        "    running_loss = 0\n",
        "    running_auc = 0\n",
        "    num_of_rows = 0\n",
        "    train_on_gpu2 = torch.cuda.is_available()\n",
        "    with torch.no_grad():\n",
        "        # case when gets X and y tensors\n",
        "        if(dataloader == None):\n",
        "            pred = net(X)\n",
        "            loss = criterion(pred, y).item()\n",
        "            output_for_auc = torch.sigmoid(pred).detach().numpy()[:, 1]\n",
        "            auc = roc_auc_score(y, output_for_auc)\n",
        "            return loss, auc\n",
        "        # case when gets dataloader\n",
        "        else:\n",
        "            for X_batch, y_batch in dataloader:\n",
        "                if train_on_gpu2:\n",
        "                    X_batch, y_batch = X_batch.cuda(), y_batch.cuda()\n",
        "                pred = net(X_batch)\n",
        "                loss = criterion(pred, y_batch).item()\n",
        "                output_for_auc = torch.sigmoid(pred).detach().numpy()[:, 1]\n",
        "                auc = roc_auc_score(y_batch, output_for_auc)\n",
        "                running_loss += loss*y_batch.shape[0]\n",
        "                running_auc += auc*y_batch.shape[0]\n",
        "                num_of_rows += y_batch.shape[0]\n",
        "            return running_loss / num_of_rows, running_auc / num_of_rows\n",
        "\n",
        "# training loop function\n",
        "# gets: net,arguments of the net, train and validation data, Loss function and optimizer\n",
        "def training_loop(\n",
        "    args,\n",
        "    net,\n",
        "    X_train,\n",
        "    y_train,\n",
        "    X_test,\n",
        "    y_test,\n",
        "    tr_dataloader=None,\n",
        "    val_dataloader=None,\n",
        "    criterion_func=nn.CrossEntropyLoss,\n",
        "    optimizer_func=optim.SGD,\n",
        "):\n",
        "    train_on_gpu = torch.cuda.is_available()\n",
        "    criterion = criterion_func()\n",
        "    optimizer = optim.Adam(net.parameters(), lr=args.lr,\n",
        "                           weight_decay=args.weight_decay)\n",
        "    tr_loss, val_loss = [None] * args.num_epochs, [None] * args.num_epochs\n",
        "    tr_auc, val_auc = [None] * args.num_epochs, [None] * args.num_epochs\n",
        "    test_loss, untrained_test_loss = None, None\n",
        "    test_auc, untrained_test_auc = None, None\n",
        "    # calculate error before training on testset\n",
        "    auc_and_loss = infer(\n",
        "        net,  criterion, X=X_test, y=y_test, dataloader=val_dataloader)\n",
        "    untrained_test_loss = auc_and_loss[0]\n",
        "    untrained_test_auc = auc_and_loss[1]\n",
        "    for epoch in range(args.num_epochs):\n",
        "        net.train()\n",
        "        running_tr_loss = 0\n",
        "        running_tr_auc = 0\n",
        "        data_size = len(X_train) # get tesnor length(how many rows)\n",
        "        if(data_size % args.batch_size == 0):\n",
        "            no_of_batches = data_size // args.batch_size #calculate numbeer of batches\n",
        "        else:\n",
        "            no_of_batches = (data_size // args.batch_size)+1\n",
        "        for i in tqdm(range(no_of_batches)):\n",
        "            #build the next batch\n",
        "            start = i*args.batch_size\n",
        "            end = i*args.batch_size + args.batch_size\n",
        "            x = X_train[start:end]\n",
        "            y = y_train[start:end]\n",
        "            optimizer.zero_grad()\n",
        "            #in case we have gpu send x,y and net to gpu\n",
        "            if train_on_gpu:\n",
        "                net.cuda()\n",
        "                x, y = x.cuda(), y.cuda()\n",
        "            #calculate prediction using current net\n",
        "            pred = net(x)\n",
        "            #calculate auc and then loss with crossEntropyLoss\n",
        "            output_for_auc = torch.sigmoid(pred).detach().numpy()[:, 1]\n",
        "            auc = roc_auc_score(y, output_for_auc)\n",
        "            loss = criterion(pred, y)\n",
        "            # update weights using backpropgation\n",
        "            loss.backward()\n",
        "            optimizer.step()\n",
        "            #update train_loss and auc_train for current iter\n",
        "            running_tr_loss += loss*x.shape[0]\n",
        "            running_tr_auc += auc*x.shape[0]\n",
        "        #calculate train and validation losses and auc at the end of iteration\n",
        "        tr_loss[epoch] = running_tr_loss.item() / data_size\n",
        "        tr_auc[epoch] = running_tr_auc.item() / data_size\n",
        "        auc_and_loss = infer(\n",
        "            net, criterion, X=X_test, y=y_test, dataloader=None)\n",
        "        val_loss[epoch] = auc_and_loss[0]\n",
        "        val_auc[epoch] = auc_and_loss[1]\n",
        "        print(\n",
        "            f\"Train loss: {tr_loss[epoch]:.2e}, Val loss: {val_loss[epoch]:.2e}\")\n",
        "        print(\n",
        "            f\"Best val loss is: {min(x for x in val_loss if x is not None):.2e}\")\n",
        "        #early stopping - stop if improvment in validation set is not greater than args.early_stopping_min_improvement in the last args.early_stopping_num_epochs\n",
        "        if epoch >= args.early_stopping_num_epochs:\n",
        "            improvement = (\n",
        "                val_loss[epoch - args.early_stopping_num_epochs] -\n",
        "                val_loss[epoch]\n",
        "            )\n",
        "            if improvement < args.early_stopping_min_improvement:\n",
        "                break\n",
        "    auc_and_loss = infer(net, criterion, X=X_test, y=y_test, dataloader=None)\n",
        "    test_loss = auc_and_loss[0]\n",
        "    test_auc = auc_and_loss[1]\n",
        "    print(f\"Stopped training after {epoch+1}/{args.num_epochs} epochs.\")\n",
        "    print(\n",
        "        f\"The loss is {untrained_test_loss:.2e} before training and {test_loss:.2e} after training.\"\n",
        "    )\n",
        "    print(\n",
        "        f\"The training and validation losses are \"\n",
        "        f\"\\n\\t{tr_loss}, \\n\\t{val_loss}, \\n\\tover the training epochs, respectively.\"\n",
        "    )\n",
        "    return tr_loss, val_loss, test_loss, tr_auc, val_auc, untrained_test_loss, untrained_test_auc\n",
        "\n",
        "# Almost the same as trainig loop but using dataloaders, only used for finetuning part\n",
        "def training_loop_with_dataloaders(\n",
        "    args,\n",
        "    net,\n",
        "    tr_dataloader=None,\n",
        "    val_dataloader=None,\n",
        "    criterion_func=nn.CrossEntropyLoss,\n",
        "    optimizer_func=optim.SGD,\n",
        "    fine_tune=False\n",
        "):\n",
        "    train_on_gpu = torch.cuda.is_available()\n",
        "    num_of_params = 0\n",
        "    for par in net.features.parameters():\n",
        "        num_of_params += 1\n",
        "    criterion = criterion_func()\n",
        "    #args.lr = args.lr * (0.01)\n",
        "    optimizer = optim.Adam(net.parameters(), lr=args.lr,\n",
        "                           weight_decay=args.weight_decay)\n",
        "    tr_loss, val_loss = [None] * args.num_epochs, [None] * args.num_epochs\n",
        "    tr_auc, val_auc = [None] * args.num_epochs, [None] * args.num_epochs\n",
        "    test_loss, untrained_test_loss = None, None\n",
        "    test_auc, untrained_test_auc = None, None\n",
        "    # Note that I moved the inferences to a function because it was too much code duplication to read.\n",
        "    # calculate error before training\n",
        "    auc_and_loss = infer(\n",
        "        net,  criterion, X=None, y=None, dataloader=val_dataloader)\n",
        "    untrained_test_loss = auc_and_loss[0]\n",
        "    untrained_test_auc = auc_and_loss[1]\n",
        "    for epoch in range(args.num_epochs):\n",
        "        net.eval()\n",
        "        running_tr_loss = 0\n",
        "        running_tr_auc = 0\n",
        "        for x, y in tr_dataloader:\n",
        "            print(1)\n",
        "            optimizer.zero_grad()\n",
        "            if train_on_gpu:\n",
        "                net.cuda()\n",
        "                x, y = x_train.cuda(), y_train.cuda()\n",
        "            pred = net(x)\n",
        "            output_for_auc = torch.sigmoid(pred).detach().numpy()[:, 1]\n",
        "            auc = roc_auc_score(y, output_for_auc)\n",
        "            loss = criterion(pred, y)\n",
        "            loss.backward()\n",
        "            optimizer.step()\n",
        "            running_tr_loss += loss*x.shape[0]\n",
        "            running_tr_auc += auc*x.shape[0]\n",
        "\n",
        "        tr_loss[epoch] = running_tr_loss.item() / args.train_size\n",
        "        tr_auc[epoch] = running_tr_auc.item() / args.train_size\n",
        "        auc_and_loss = infer(\n",
        "            net, criterion, X=None, y=None, dataloader=val_dataloader)\n",
        "        val_loss[epoch] = auc_and_loss[0]\n",
        "        val_auc[epoch] = auc_and_loss[1]\n",
        "        print(\n",
        "            f\"Train loss: {tr_loss[epoch]:.2e}, Val loss: {val_loss[epoch]:.2e}\")\n",
        "        print(\n",
        "            f\"Best val loss is: {min(x for x in val_loss if x is not None):.2e}\")\n",
        "        if epoch >= args.early_stopping_num_epochs:\n",
        "            improvement = (\n",
        "                val_loss[epoch - args.early_stopping_num_epochs] -\n",
        "                val_loss[epoch]\n",
        "            )\n",
        "            if improvement < args.early_stopping_min_improvement:\n",
        "                break\n",
        "        \n",
        "    auc_and_loss = infer(net, criterion, X=None, y=None,\n",
        "                         dataloader=val_dataloader)\n",
        "    test_loss = auc_and_loss[0]\n",
        "    test_auc = auc_and_loss[1]\n",
        "    print(f\"Stopped training after {epoch+1}/{args.num_epochs} epochs.\")\n",
        "    print(\n",
        "        f\"The loss is {untrained_test_loss:.2e} before training and {test_loss:.2e} after training.\"\n",
        "    )\n",
        "    print(\n",
        "        f\"The training and validation losses are \"\n",
        "        f\"\\n\\t{tr_loss}, \\n\\t{val_loss}, \\n\\tover the training epochs, respectively.\"\n",
        "    )\n",
        "    return tr_loss, val_loss, test_loss, tr_auc, val_auc, untrained_test_loss, untrained_test_auc\n",
        "\n",
        "# plot loss grpah\n",
        "def plot_loss_graph(train_loss_list, validation_loss_list):\n",
        "    plt.plot(train_loss_list, 'g', label='Training loss')\n",
        "    plt.plot(validation_loss_list, 'b', label='validation loss')\n",
        "    plt.title('Training and Validation loss')\n",
        "    plt.xlabel('Epochs')\n",
        "    plt.ylabel('Loss')\n",
        "    plt.legend()\n",
        "    plt.show()\n",
        "\n",
        "#plot auc graph\n",
        "def plot_auc_graph(auc_train_list, auc_val_list):\n",
        "    plt.plot(auc_train_list, 'g', label='Training AUC')\n",
        "    plt.plot(auc_val_list, 'b', label='validation AUC')\n",
        "    plt.title('Training and Validation AUC')\n",
        "    plt.xlabel('Epochs')\n",
        "    plt.ylabel('AUC')\n",
        "    plt.legend()\n",
        "    plt.show()\n",
        "\n",
        "#plot roc curve graph\n",
        "def plot_roc(fpr, tpr):\n",
        "    plt.figure()\n",
        "    lw = 2\n",
        "    plt.plot(fpr, tpr, color='darkorange',\n",
        "             lw=lw)\n",
        "    plt.plot([0, 1], [0, 1], color='navy', lw=lw, linestyle='--')\n",
        "    plt.xlim([0.0, 1.0])\n",
        "    plt.ylim([0.0, 1.05])\n",
        "    plt.xlabel('False Positive Rate')\n",
        "    plt.ylabel('True Positive Rate')\n",
        "    plt.title('Roc curve on test set')\n",
        "    plt.legend(loc=\"lower right\")\n",
        "    plt.show()\n",
        "\n"
      ],
      "execution_count": 232,
      "outputs": []
    },
    {
      "cell_type": "code",
      "metadata": {
        "colab": {
          "base_uri": "https://localhost:8080/"
        },
        "id": "N6sI2QpolTOg",
        "outputId": "26e08748-6edb-42cd-ba86-cc79d806904c"
      },
      "source": [
        " # train the model using pytorch logistic regression  on resnet18 extracted features data\r\n",
        " tr_loss, val_loss, test_loss, tr_auc, val_auc, untrained_test_loss, untrained_test_auc = training_loop(\r\n",
        "      args,\r\n",
        "      net,\r\n",
        "      X_extracted_features_train,\r\n",
        "      y_extracted_features_train,\r\n",
        "      X_extracted_features_test,\r\n",
        "      y_extracted_features_test,\r\n",
        "      val_dataloader=None,\r\n",
        "      criterion_func=nn.CrossEntropyLoss\r\n",
        "  )"
      ],
      "execution_count": 233,
      "outputs": [
        {
          "output_type": "stream",
          "text": [
            "100%|██████████| 11/11 [00:00<00:00, 372.57it/s]\n",
            "100%|██████████| 11/11 [00:00<00:00, 378.90it/s]\n",
            "100%|██████████| 11/11 [00:00<00:00, 387.04it/s]\n",
            "100%|██████████| 11/11 [00:00<00:00, 327.11it/s]\n",
            "100%|██████████| 11/11 [00:00<00:00, 365.59it/s]\n",
            "100%|██████████| 11/11 [00:00<00:00, 370.77it/s]\n",
            "  0%|          | 0/11 [00:00<?, ?it/s]"
          ],
          "name": "stderr"
        },
        {
          "output_type": "stream",
          "text": [
            "Train loss: 7.43e-01, Val loss: 7.11e-01\n",
            "Best val loss is: 7.11e-01\n",
            "Train loss: 7.06e-01, Val loss: 6.92e-01\n",
            "Best val loss is: 6.92e-01\n",
            "Train loss: 6.83e-01, Val loss: 6.66e-01\n",
            "Best val loss is: 6.66e-01\n",
            "Train loss: 6.60e-01, Val loss: 6.45e-01\n",
            "Best val loss is: 6.45e-01\n",
            "Train loss: 6.39e-01, Val loss: 6.24e-01\n",
            "Best val loss is: 6.24e-01\n",
            "Train loss: 6.20e-01, Val loss: 6.06e-01\n",
            "Best val loss is: 6.06e-01\n"
          ],
          "name": "stdout"
        },
        {
          "output_type": "stream",
          "text": [
            "100%|██████████| 11/11 [00:00<00:00, 337.04it/s]\n",
            "100%|██████████| 11/11 [00:00<00:00, 316.66it/s]\n",
            "100%|██████████| 11/11 [00:00<00:00, 358.70it/s]\n",
            "100%|██████████| 11/11 [00:00<00:00, 394.72it/s]\n",
            "100%|██████████| 11/11 [00:00<00:00, 376.87it/s]\n",
            "100%|██████████| 11/11 [00:00<00:00, 402.71it/s]\n",
            "  0%|          | 0/11 [00:00<?, ?it/s]"
          ],
          "name": "stderr"
        },
        {
          "output_type": "stream",
          "text": [
            "Train loss: 6.02e-01, Val loss: 5.88e-01\n",
            "Best val loss is: 5.88e-01\n",
            "Train loss: 5.85e-01, Val loss: 5.73e-01\n",
            "Best val loss is: 5.73e-01\n",
            "Train loss: 5.69e-01, Val loss: 5.58e-01\n",
            "Best val loss is: 5.58e-01\n",
            "Train loss: 5.55e-01, Val loss: 5.45e-01\n",
            "Best val loss is: 5.45e-01\n",
            "Train loss: 5.42e-01, Val loss: 5.33e-01\n",
            "Best val loss is: 5.33e-01\n",
            "Train loss: 5.30e-01, Val loss: 5.22e-01\n",
            "Best val loss is: 5.22e-01\n"
          ],
          "name": "stdout"
        },
        {
          "output_type": "stream",
          "text": [
            "100%|██████████| 11/11 [00:00<00:00, 339.26it/s]\n",
            "100%|██████████| 11/11 [00:00<00:00, 334.00it/s]\n",
            "100%|██████████| 11/11 [00:00<00:00, 359.60it/s]\n",
            "100%|██████████| 11/11 [00:00<00:00, 366.68it/s]\n",
            "100%|██████████| 11/11 [00:00<00:00, 344.01it/s]\n",
            "100%|██████████| 11/11 [00:00<00:00, 380.39it/s]\n",
            "  0%|          | 0/11 [00:00<?, ?it/s]"
          ],
          "name": "stderr"
        },
        {
          "output_type": "stream",
          "text": [
            "Train loss: 5.19e-01, Val loss: 5.12e-01\n",
            "Best val loss is: 5.12e-01\n",
            "Train loss: 5.08e-01, Val loss: 5.03e-01\n",
            "Best val loss is: 5.03e-01\n",
            "Train loss: 4.98e-01, Val loss: 4.95e-01\n",
            "Best val loss is: 4.95e-01\n",
            "Train loss: 4.89e-01, Val loss: 4.87e-01\n",
            "Best val loss is: 4.87e-01\n",
            "Train loss: 4.81e-01, Val loss: 4.80e-01\n",
            "Best val loss is: 4.80e-01\n",
            "Train loss: 4.73e-01, Val loss: 4.73e-01\n",
            "Best val loss is: 4.73e-01\n"
          ],
          "name": "stdout"
        },
        {
          "output_type": "stream",
          "text": [
            "100%|██████████| 11/11 [00:00<00:00, 328.04it/s]\n",
            "100%|██████████| 11/11 [00:00<00:00, 383.80it/s]\n",
            "100%|██████████| 11/11 [00:00<00:00, 373.93it/s]\n",
            "100%|██████████| 11/11 [00:00<00:00, 365.06it/s]\n",
            "100%|██████████| 11/11 [00:00<00:00, 311.43it/s]\n",
            "100%|██████████| 11/11 [00:00<00:00, 360.44it/s]\n",
            "  0%|          | 0/11 [00:00<?, ?it/s]"
          ],
          "name": "stderr"
        },
        {
          "output_type": "stream",
          "text": [
            "Train loss: 4.66e-01, Val loss: 4.67e-01\n",
            "Best val loss is: 4.67e-01\n",
            "Train loss: 4.59e-01, Val loss: 4.61e-01\n",
            "Best val loss is: 4.61e-01\n",
            "Train loss: 4.52e-01, Val loss: 4.56e-01\n",
            "Best val loss is: 4.56e-01\n",
            "Train loss: 4.46e-01, Val loss: 4.51e-01\n",
            "Best val loss is: 4.51e-01\n",
            "Train loss: 4.40e-01, Val loss: 4.47e-01\n",
            "Best val loss is: 4.47e-01\n",
            "Train loss: 4.35e-01, Val loss: 4.42e-01\n",
            "Best val loss is: 4.42e-01\n"
          ],
          "name": "stdout"
        },
        {
          "output_type": "stream",
          "text": [
            "100%|██████████| 11/11 [00:00<00:00, 351.49it/s]\n",
            "100%|██████████| 11/11 [00:00<00:00, 368.15it/s]\n",
            "100%|██████████| 11/11 [00:00<00:00, 379.10it/s]\n",
            "100%|██████████| 11/11 [00:00<00:00, 385.91it/s]\n",
            "100%|██████████| 11/11 [00:00<00:00, 387.35it/s]\n",
            "100%|██████████| 11/11 [00:00<00:00, 266.44it/s]\n"
          ],
          "name": "stderr"
        },
        {
          "output_type": "stream",
          "text": [
            "Train loss: 4.29e-01, Val loss: 4.38e-01\n",
            "Best val loss is: 4.38e-01\n",
            "Train loss: 4.25e-01, Val loss: 4.35e-01\n",
            "Best val loss is: 4.35e-01\n",
            "Train loss: 4.20e-01, Val loss: 4.31e-01\n",
            "Best val loss is: 4.31e-01\n",
            "Train loss: 4.15e-01, Val loss: 4.28e-01\n",
            "Best val loss is: 4.28e-01\n",
            "Train loss: 4.11e-01, Val loss: 4.24e-01\n",
            "Best val loss is: 4.24e-01\n"
          ],
          "name": "stdout"
        },
        {
          "output_type": "stream",
          "text": [
            "100%|██████████| 11/11 [00:00<00:00, 306.10it/s]\n",
            "100%|██████████| 11/11 [00:00<00:00, 393.14it/s]\n",
            "100%|██████████| 11/11 [00:00<00:00, 377.79it/s]\n",
            "100%|██████████| 11/11 [00:00<00:00, 381.27it/s]\n",
            "100%|██████████| 11/11 [00:00<00:00, 365.96it/s]\n",
            "  0%|          | 0/11 [00:00<?, ?it/s]"
          ],
          "name": "stderr"
        },
        {
          "output_type": "stream",
          "text": [
            "Train loss: 4.07e-01, Val loss: 4.21e-01\n",
            "Best val loss is: 4.21e-01\n",
            "Train loss: 4.03e-01, Val loss: 4.19e-01\n",
            "Best val loss is: 4.19e-01\n",
            "Train loss: 3.99e-01, Val loss: 4.16e-01\n",
            "Best val loss is: 4.16e-01\n",
            "Train loss: 3.96e-01, Val loss: 4.13e-01\n",
            "Best val loss is: 4.13e-01\n",
            "Train loss: 3.92e-01, Val loss: 4.11e-01\n",
            "Best val loss is: 4.11e-01\n",
            "Train loss: 3.89e-01, Val loss: 4.09e-01\n",
            "Best val loss is: 4.09e-01\n"
          ],
          "name": "stdout"
        },
        {
          "output_type": "stream",
          "text": [
            "100%|██████████| 11/11 [00:00<00:00, 313.33it/s]\n",
            "100%|██████████| 11/11 [00:00<00:00, 390.86it/s]\n",
            "100%|██████████| 11/11 [00:00<00:00, 340.21it/s]\n",
            "100%|██████████| 11/11 [00:00<00:00, 329.20it/s]\n",
            "100%|██████████| 11/11 [00:00<00:00, 326.39it/s]\n",
            "100%|██████████| 11/11 [00:00<00:00, 378.00it/s]"
          ],
          "name": "stderr"
        },
        {
          "output_type": "stream",
          "text": [
            "Train loss: 3.86e-01, Val loss: 4.06e-01\n",
            "Best val loss is: 4.06e-01\n",
            "Train loss: 3.83e-01, Val loss: 4.04e-01\n",
            "Best val loss is: 4.04e-01\n",
            "Train loss: 3.80e-01, Val loss: 4.02e-01\n",
            "Best val loss is: 4.02e-01\n",
            "Train loss: 3.77e-01, Val loss: 4.00e-01\n",
            "Best val loss is: 4.00e-01\n",
            "Train loss: 3.74e-01, Val loss: 3.98e-01\n",
            "Best val loss is: 3.98e-01\n"
          ],
          "name": "stdout"
        },
        {
          "output_type": "stream",
          "text": [
            "\n",
            "100%|██████████| 11/11 [00:00<00:00, 385.36it/s]\n",
            "100%|██████████| 11/11 [00:00<00:00, 377.64it/s]\n",
            "100%|██████████| 11/11 [00:00<00:00, 383.62it/s]\n",
            "100%|██████████| 11/11 [00:00<00:00, 366.61it/s]\n",
            "100%|██████████| 11/11 [00:00<00:00, 265.24it/s]"
          ],
          "name": "stderr"
        },
        {
          "output_type": "stream",
          "text": [
            "Train loss: 3.71e-01, Val loss: 3.97e-01\n",
            "Best val loss is: 3.97e-01\n",
            "Train loss: 3.69e-01, Val loss: 3.95e-01\n",
            "Best val loss is: 3.95e-01\n",
            "Train loss: 3.66e-01, Val loss: 3.93e-01\n",
            "Best val loss is: 3.93e-01\n",
            "Train loss: 3.64e-01, Val loss: 3.92e-01\n",
            "Best val loss is: 3.92e-01\n",
            "Train loss: 3.62e-01, Val loss: 3.90e-01\n",
            "Best val loss is: 3.90e-01\n",
            "Train loss: 3.59e-01, Val loss: 3.89e-01\n",
            "Best val loss is: 3.89e-01"
          ],
          "name": "stdout"
        },
        {
          "output_type": "stream",
          "text": [
            "\n",
            "100%|██████████| 11/11 [00:00<00:00, 347.57it/s]\n",
            "100%|██████████| 11/11 [00:00<00:00, 361.05it/s]\n",
            "100%|██████████| 11/11 [00:00<00:00, 373.49it/s]\n",
            "100%|██████████| 11/11 [00:00<00:00, 385.51it/s]\n",
            "100%|██████████| 11/11 [00:00<00:00, 401.77it/s]\n",
            "  0%|          | 0/11 [00:00<?, ?it/s]"
          ],
          "name": "stderr"
        },
        {
          "output_type": "stream",
          "text": [
            "\n",
            "Train loss: 3.57e-01, Val loss: 3.88e-01\n",
            "Best val loss is: 3.88e-01\n",
            "Train loss: 3.55e-01, Val loss: 3.86e-01\n",
            "Best val loss is: 3.86e-01\n",
            "Train loss: 3.53e-01, Val loss: 3.85e-01\n",
            "Best val loss is: 3.85e-01\n",
            "Train loss: 3.51e-01, Val loss: 3.84e-01\n",
            "Best val loss is: 3.84e-01\n",
            "Train loss: 3.49e-01, Val loss: 3.82e-01\n",
            "Best val loss is: 3.82e-01\n"
          ],
          "name": "stdout"
        },
        {
          "output_type": "stream",
          "text": [
            "100%|██████████| 11/11 [00:00<00:00, 348.15it/s]\n",
            "100%|██████████| 11/11 [00:00<00:00, 356.31it/s]\n",
            "100%|██████████| 11/11 [00:00<00:00, 382.14it/s]\n",
            "100%|██████████| 11/11 [00:00<00:00, 331.65it/s]\n",
            "100%|██████████| 11/11 [00:00<00:00, 298.07it/s]\n",
            "100%|██████████| 11/11 [00:00<00:00, 352.95it/s]"
          ],
          "name": "stderr"
        },
        {
          "output_type": "stream",
          "text": [
            "Train loss: 3.47e-01, Val loss: 3.81e-01\n",
            "Best val loss is: 3.81e-01\n",
            "Train loss: 3.45e-01, Val loss: 3.80e-01\n",
            "Best val loss is: 3.80e-01\n",
            "Train loss: 3.43e-01, Val loss: 3.79e-01\n",
            "Best val loss is: 3.79e-01\n",
            "Train loss: 3.42e-01, Val loss: 3.78e-01\n",
            "Best val loss is: 3.78e-01\n",
            "Train loss: 3.40e-01, Val loss: 3.77e-01\n",
            "Best val loss is: 3.77e-01\n"
          ],
          "name": "stdout"
        },
        {
          "output_type": "stream",
          "text": [
            "\n",
            "100%|██████████| 11/11 [00:00<00:00, 367.63it/s]\n",
            "100%|██████████| 11/11 [00:00<00:00, 331.65it/s]\n",
            "100%|██████████| 11/11 [00:00<00:00, 377.89it/s]\n",
            "100%|██████████| 11/11 [00:00<00:00, 362.09it/s]\n",
            "100%|██████████| 11/11 [00:00<00:00, 363.13it/s]\n",
            "100%|██████████| 11/11 [00:00<00:00, 342.32it/s]\n"
          ],
          "name": "stderr"
        },
        {
          "output_type": "stream",
          "text": [
            "Train loss: 3.38e-01, Val loss: 3.76e-01\n",
            "Best val loss is: 3.76e-01\n",
            "Train loss: 3.36e-01, Val loss: 3.75e-01\n",
            "Best val loss is: 3.75e-01\n",
            "Train loss: 3.35e-01, Val loss: 3.74e-01\n",
            "Best val loss is: 3.74e-01\n",
            "Train loss: 3.33e-01, Val loss: 3.73e-01\n",
            "Best val loss is: 3.73e-01\n",
            "Train loss: 3.32e-01, Val loss: 3.73e-01\n",
            "Best val loss is: 3.73e-01\n",
            "Train loss: 3.30e-01, Val loss: 3.72e-01\n",
            "Best val loss is: 3.72e-01\n",
            "Train loss: 3.29e-01, Val loss: 3.71e-01\n",
            "Best val loss is: 3.71e-01\n"
          ],
          "name": "stdout"
        },
        {
          "output_type": "stream",
          "text": [
            "100%|██████████| 11/11 [00:00<00:00, 350.08it/s]\n",
            "100%|██████████| 11/11 [00:00<00:00, 348.00it/s]\n",
            "100%|██████████| 11/11 [00:00<00:00, 334.54it/s]\n",
            "100%|██████████| 11/11 [00:00<00:00, 346.30it/s]\n",
            "100%|██████████| 11/11 [00:00<00:00, 345.90it/s]\n",
            "100%|██████████| 11/11 [00:00<00:00, 365.24it/s]"
          ],
          "name": "stderr"
        },
        {
          "output_type": "stream",
          "text": [
            "Train loss: 3.27e-01, Val loss: 3.70e-01\n",
            "Best val loss is: 3.70e-01\n",
            "Train loss: 3.26e-01, Val loss: 3.69e-01\n",
            "Best val loss is: 3.69e-01\n",
            "Train loss: 3.25e-01, Val loss: 3.69e-01\n",
            "Best val loss is: 3.69e-01\n",
            "Train loss: 3.23e-01, Val loss: 3.68e-01\n",
            "Best val loss is: 3.68e-01\n",
            "Train loss: 3.22e-01, Val loss: 3.67e-01\n",
            "Best val loss is: 3.67e-01\n"
          ],
          "name": "stdout"
        },
        {
          "output_type": "stream",
          "text": [
            "\n",
            "100%|██████████| 11/11 [00:00<00:00, 336.51it/s]\n",
            "100%|██████████| 11/11 [00:00<00:00, 335.85it/s]\n",
            "100%|██████████| 11/11 [00:00<00:00, 325.96it/s]\n",
            "100%|██████████| 11/11 [00:00<00:00, 321.91it/s]\n",
            "  0%|          | 0/11 [00:00<?, ?it/s]"
          ],
          "name": "stderr"
        },
        {
          "output_type": "stream",
          "text": [
            "Train loss: 3.21e-01, Val loss: 3.67e-01\n",
            "Best val loss is: 3.67e-01\n",
            "Train loss: 3.19e-01, Val loss: 3.66e-01\n",
            "Best val loss is: 3.66e-01\n",
            "Train loss: 3.18e-01, Val loss: 3.65e-01\n",
            "Best val loss is: 3.65e-01\n",
            "Train loss: 3.17e-01, Val loss: 3.65e-01\n",
            "Best val loss is: 3.65e-01\n",
            "Train loss: 3.16e-01, Val loss: 3.64e-01\n",
            "Best val loss is: 3.64e-01\n"
          ],
          "name": "stdout"
        },
        {
          "output_type": "stream",
          "text": [
            "100%|██████████| 11/11 [00:00<00:00, 313.64it/s]\n",
            "100%|██████████| 11/11 [00:00<00:00, 345.52it/s]\n",
            "100%|██████████| 11/11 [00:00<00:00, 370.55it/s]\n",
            "100%|██████████| 11/11 [00:00<00:00, 352.49it/s]\n",
            "100%|██████████| 11/11 [00:00<00:00, 348.86it/s]\n",
            "100%|██████████| 11/11 [00:00<00:00, 317.80it/s]"
          ],
          "name": "stderr"
        },
        {
          "output_type": "stream",
          "text": [
            "Train loss: 3.14e-01, Val loss: 3.64e-01\n",
            "Best val loss is: 3.64e-01\n",
            "Train loss: 3.13e-01, Val loss: 3.63e-01\n",
            "Best val loss is: 3.63e-01\n",
            "Train loss: 3.12e-01, Val loss: 3.62e-01\n",
            "Best val loss is: 3.62e-01\n",
            "Train loss: 3.11e-01, Val loss: 3.62e-01\n",
            "Best val loss is: 3.62e-01\n",
            "Train loss: 3.10e-01, Val loss: 3.61e-01\n",
            "Best val loss is: 3.61e-01\n",
            "Train loss: 3.09e-01, Val loss: 3.61e-01\n",
            "Best val loss is: 3.61e-01\n"
          ],
          "name": "stdout"
        },
        {
          "output_type": "stream",
          "text": [
            "\n",
            "100%|██████████| 11/11 [00:00<00:00, 239.88it/s]\n",
            "100%|██████████| 11/11 [00:00<00:00, 282.29it/s]\n",
            "100%|██████████| 11/11 [00:00<00:00, 388.38it/s]\n",
            "100%|██████████| 11/11 [00:00<00:00, 381.74it/s]\n",
            "100%|██████████| 11/11 [00:00<00:00, 365.93it/s]\n",
            "100%|██████████| 11/11 [00:00<00:00, 366.83it/s]\n",
            "  0%|          | 0/11 [00:00<?, ?it/s]"
          ],
          "name": "stderr"
        },
        {
          "output_type": "stream",
          "text": [
            "Train loss: 3.08e-01, Val loss: 3.60e-01\n",
            "Best val loss is: 3.60e-01\n",
            "Train loss: 3.07e-01, Val loss: 3.60e-01\n",
            "Best val loss is: 3.60e-01\n",
            "Train loss: 3.06e-01, Val loss: 3.59e-01\n",
            "Best val loss is: 3.59e-01\n",
            "Train loss: 3.05e-01, Val loss: 3.59e-01\n",
            "Best val loss is: 3.59e-01\n",
            "Train loss: 3.04e-01, Val loss: 3.58e-01\n",
            "Best val loss is: 3.58e-01\n",
            "Train loss: 3.03e-01, Val loss: 3.58e-01\n",
            "Best val loss is: 3.58e-01\n"
          ],
          "name": "stdout"
        },
        {
          "output_type": "stream",
          "text": [
            "100%|██████████| 11/11 [00:00<00:00, 344.49it/s]\n",
            "100%|██████████| 11/11 [00:00<00:00, 320.57it/s]\n",
            "100%|██████████| 11/11 [00:00<00:00, 361.29it/s]\n",
            "100%|██████████| 11/11 [00:00<00:00, 371.52it/s]\n",
            "100%|██████████| 11/11 [00:00<00:00, 353.51it/s]\n",
            "100%|██████████| 11/11 [00:00<00:00, 366.94it/s]\n",
            "  0%|          | 0/11 [00:00<?, ?it/s]"
          ],
          "name": "stderr"
        },
        {
          "output_type": "stream",
          "text": [
            "Train loss: 3.02e-01, Val loss: 3.58e-01\n",
            "Best val loss is: 3.58e-01\n",
            "Train loss: 3.01e-01, Val loss: 3.57e-01\n",
            "Best val loss is: 3.57e-01\n",
            "Train loss: 3.00e-01, Val loss: 3.57e-01\n",
            "Best val loss is: 3.57e-01\n",
            "Train loss: 2.99e-01, Val loss: 3.56e-01\n",
            "Best val loss is: 3.56e-01\n",
            "Train loss: 2.98e-01, Val loss: 3.56e-01\n",
            "Best val loss is: 3.56e-01\n",
            "Train loss: 2.97e-01, Val loss: 3.56e-01\n",
            "Best val loss is: 3.56e-01\n"
          ],
          "name": "stdout"
        },
        {
          "output_type": "stream",
          "text": [
            "100%|██████████| 11/11 [00:00<00:00, 306.02it/s]\n",
            "100%|██████████| 11/11 [00:00<00:00, 352.58it/s]\n",
            "100%|██████████| 11/11 [00:00<00:00, 356.69it/s]\n",
            "100%|██████████| 11/11 [00:00<00:00, 339.68it/s]\n",
            "100%|██████████| 11/11 [00:00<00:00, 370.14it/s]\n",
            "100%|██████████| 11/11 [00:00<00:00, 378.43it/s]\n"
          ],
          "name": "stderr"
        },
        {
          "output_type": "stream",
          "text": [
            "Train loss: 2.96e-01, Val loss: 3.55e-01\n",
            "Best val loss is: 3.55e-01\n",
            "Train loss: 2.96e-01, Val loss: 3.55e-01\n",
            "Best val loss is: 3.55e-01\n",
            "Train loss: 2.95e-01, Val loss: 3.55e-01\n",
            "Best val loss is: 3.55e-01\n",
            "Train loss: 2.94e-01, Val loss: 3.54e-01\n",
            "Best val loss is: 3.54e-01\n",
            "Train loss: 2.93e-01, Val loss: 3.54e-01\n",
            "Best val loss is: 3.54e-01\n",
            "Train loss: 2.92e-01, Val loss: 3.54e-01\n",
            "Best val loss is: 3.54e-01\n"
          ],
          "name": "stdout"
        },
        {
          "output_type": "stream",
          "text": [
            "100%|██████████| 11/11 [00:00<00:00, 336.41it/s]\n",
            "100%|██████████| 11/11 [00:00<00:00, 366.32it/s]\n",
            "100%|██████████| 11/11 [00:00<00:00, 362.87it/s]\n",
            "100%|██████████| 11/11 [00:00<00:00, 376.71it/s]\n",
            "100%|██████████| 11/11 [00:00<00:00, 370.82it/s]\n",
            "100%|██████████| 11/11 [00:00<00:00, 375.77it/s]\n",
            "  0%|          | 0/11 [00:00<?, ?it/s]"
          ],
          "name": "stderr"
        },
        {
          "output_type": "stream",
          "text": [
            "Train loss: 2.91e-01, Val loss: 3.53e-01\n",
            "Best val loss is: 3.53e-01\n",
            "Train loss: 2.91e-01, Val loss: 3.53e-01\n",
            "Best val loss is: 3.53e-01\n",
            "Train loss: 2.90e-01, Val loss: 3.53e-01\n",
            "Best val loss is: 3.53e-01\n",
            "Train loss: 2.89e-01, Val loss: 3.52e-01\n",
            "Best val loss is: 3.52e-01\n",
            "Train loss: 2.88e-01, Val loss: 3.52e-01\n",
            "Best val loss is: 3.52e-01\n",
            "Train loss: 2.88e-01, Val loss: 3.52e-01\n",
            "Best val loss is: 3.52e-01\n"
          ],
          "name": "stdout"
        },
        {
          "output_type": "stream",
          "text": [
            "100%|██████████| 11/11 [00:00<00:00, 322.50it/s]\n",
            "100%|██████████| 11/11 [00:00<00:00, 280.96it/s]\n",
            "100%|██████████| 11/11 [00:00<00:00, 378.83it/s]\n",
            "100%|██████████| 11/11 [00:00<00:00, 367.24it/s]\n",
            "100%|██████████| 11/11 [00:00<00:00, 363.86it/s]\n",
            "  0%|          | 0/11 [00:00<?, ?it/s]"
          ],
          "name": "stderr"
        },
        {
          "output_type": "stream",
          "text": [
            "Train loss: 2.87e-01, Val loss: 3.52e-01\n",
            "Best val loss is: 3.52e-01\n",
            "Train loss: 2.86e-01, Val loss: 3.51e-01\n",
            "Best val loss is: 3.51e-01\n",
            "Train loss: 2.85e-01, Val loss: 3.51e-01\n",
            "Best val loss is: 3.51e-01\n",
            "Train loss: 2.85e-01, Val loss: 3.51e-01\n",
            "Best val loss is: 3.51e-01\n",
            "Train loss: 2.84e-01, Val loss: 3.50e-01\n",
            "Best val loss is: 3.50e-01\n"
          ],
          "name": "stdout"
        },
        {
          "output_type": "stream",
          "text": [
            "100%|██████████| 11/11 [00:00<00:00, 320.02it/s]\n",
            "100%|██████████| 11/11 [00:00<00:00, 396.66it/s]\n",
            "100%|██████████| 11/11 [00:00<00:00, 353.20it/s]\n",
            "100%|██████████| 11/11 [00:00<00:00, 373.48it/s]\n",
            "100%|██████████| 11/11 [00:00<00:00, 311.88it/s]\n",
            "100%|██████████| 11/11 [00:00<00:00, 351.15it/s]"
          ],
          "name": "stderr"
        },
        {
          "output_type": "stream",
          "text": [
            "Train loss: 2.83e-01, Val loss: 3.50e-01\n",
            "Best val loss is: 3.50e-01\n",
            "Train loss: 2.82e-01, Val loss: 3.50e-01\n",
            "Best val loss is: 3.50e-01\n",
            "Train loss: 2.82e-01, Val loss: 3.50e-01\n",
            "Best val loss is: 3.50e-01\n",
            "Train loss: 2.81e-01, Val loss: 3.50e-01\n",
            "Best val loss is: 3.50e-01\n",
            "Train loss: 2.80e-01, Val loss: 3.49e-01\n",
            "Best val loss is: 3.49e-01\n"
          ],
          "name": "stdout"
        },
        {
          "output_type": "stream",
          "text": [
            "\n",
            "100%|██████████| 11/11 [00:00<00:00, 342.99it/s]\n",
            "100%|██████████| 11/11 [00:00<00:00, 381.40it/s]\n",
            "100%|██████████| 11/11 [00:00<00:00, 304.52it/s]\n",
            "100%|██████████| 11/11 [00:00<00:00, 341.59it/s]\n",
            "100%|██████████| 11/11 [00:00<00:00, 370.20it/s]\n"
          ],
          "name": "stderr"
        },
        {
          "output_type": "stream",
          "text": [
            "Train loss: 2.80e-01, Val loss: 3.49e-01\n",
            "Best val loss is: 3.49e-01\n",
            "Train loss: 2.79e-01, Val loss: 3.49e-01\n",
            "Best val loss is: 3.49e-01\n",
            "Train loss: 2.79e-01, Val loss: 3.49e-01\n",
            "Best val loss is: 3.49e-01\n",
            "Train loss: 2.78e-01, Val loss: 3.48e-01\n",
            "Best val loss is: 3.48e-01\n",
            "Train loss: 2.77e-01, Val loss: 3.48e-01\n",
            "Best val loss is: 3.48e-01\n",
            "Train loss: 2.77e-01, Val loss: 3.48e-01\n",
            "Best val loss is: 3.48e-01\n"
          ],
          "name": "stdout"
        },
        {
          "output_type": "stream",
          "text": [
            "100%|██████████| 11/11 [00:00<00:00, 348.06it/s]\n",
            "100%|██████████| 11/11 [00:00<00:00, 347.12it/s]\n",
            "100%|██████████| 11/11 [00:00<00:00, 319.85it/s]\n",
            "100%|██████████| 11/11 [00:00<00:00, 357.41it/s]\n",
            "100%|██████████| 11/11 [00:00<00:00, 364.92it/s]\n",
            "100%|██████████| 11/11 [00:00<00:00, 394.02it/s]"
          ],
          "name": "stderr"
        },
        {
          "output_type": "stream",
          "text": [
            "Train loss: 2.76e-01, Val loss: 3.48e-01\n",
            "Best val loss is: 3.48e-01\n",
            "Train loss: 2.75e-01, Val loss: 3.48e-01\n",
            "Best val loss is: 3.48e-01\n",
            "Train loss: 2.75e-01, Val loss: 3.48e-01\n",
            "Best val loss is: 3.48e-01\n",
            "Train loss: 2.74e-01, Val loss: 3.47e-01\n",
            "Best val loss is: 3.47e-01\n",
            "Train loss: 2.74e-01, Val loss: 3.47e-01\n",
            "Best val loss is: 3.47e-01\n"
          ],
          "name": "stdout"
        },
        {
          "output_type": "stream",
          "text": [
            "\n",
            "100%|██████████| 11/11 [00:00<00:00, 358.72it/s]\n",
            "100%|██████████| 11/11 [00:00<00:00, 391.89it/s]\n",
            "100%|██████████| 11/11 [00:00<00:00, 325.88it/s]\n",
            "100%|██████████| 11/11 [00:00<00:00, 343.46it/s]\n",
            "  0%|          | 0/11 [00:00<?, ?it/s]"
          ],
          "name": "stderr"
        },
        {
          "output_type": "stream",
          "text": [
            "Train loss: 2.73e-01, Val loss: 3.47e-01\n",
            "Best val loss is: 3.47e-01\n",
            "Train loss: 2.72e-01, Val loss: 3.47e-01\n",
            "Best val loss is: 3.47e-01\n",
            "Train loss: 2.72e-01, Val loss: 3.47e-01\n",
            "Best val loss is: 3.47e-01\n",
            "Train loss: 2.71e-01, Val loss: 3.47e-01\n",
            "Best val loss is: 3.47e-01\n",
            "Train loss: 2.71e-01, Val loss: 3.46e-01\n",
            "Best val loss is: 3.46e-01\n"
          ],
          "name": "stdout"
        },
        {
          "output_type": "stream",
          "text": [
            "100%|██████████| 11/11 [00:00<00:00, 275.78it/s]\n",
            "100%|██████████| 11/11 [00:00<00:00, 385.54it/s]\n",
            "100%|██████████| 11/11 [00:00<00:00, 396.43it/s]\n",
            "100%|██████████| 11/11 [00:00<00:00, 382.19it/s]\n",
            "100%|██████████| 11/11 [00:00<00:00, 359.33it/s]\n",
            "100%|██████████| 11/11 [00:00<00:00, 381.73it/s]\n",
            "  0%|          | 0/11 [00:00<?, ?it/s]"
          ],
          "name": "stderr"
        },
        {
          "output_type": "stream",
          "text": [
            "Train loss: 2.70e-01, Val loss: 3.46e-01\n",
            "Best val loss is: 3.46e-01\n",
            "Train loss: 2.70e-01, Val loss: 3.46e-01\n",
            "Best val loss is: 3.46e-01\n",
            "Train loss: 2.69e-01, Val loss: 3.46e-01\n",
            "Best val loss is: 3.46e-01\n",
            "Train loss: 2.69e-01, Val loss: 3.46e-01\n",
            "Best val loss is: 3.46e-01\n",
            "Train loss: 2.68e-01, Val loss: 3.46e-01\n",
            "Best val loss is: 3.46e-01\n",
            "Train loss: 2.67e-01, Val loss: 3.46e-01\n",
            "Best val loss is: 3.46e-01\n"
          ],
          "name": "stdout"
        },
        {
          "output_type": "stream",
          "text": [
            "100%|██████████| 11/11 [00:00<00:00, 331.36it/s]\n",
            "100%|██████████| 11/11 [00:00<00:00, 348.46it/s]\n",
            "100%|██████████| 11/11 [00:00<00:00, 376.53it/s]\n",
            "100%|██████████| 11/11 [00:00<00:00, 330.41it/s]\n",
            "100%|██████████| 11/11 [00:00<00:00, 343.98it/s]\n",
            "100%|██████████| 11/11 [00:00<00:00, 344.44it/s]"
          ],
          "name": "stderr"
        },
        {
          "output_type": "stream",
          "text": [
            "Train loss: 2.67e-01, Val loss: 3.45e-01\n",
            "Best val loss is: 3.45e-01\n",
            "Train loss: 2.66e-01, Val loss: 3.45e-01\n",
            "Best val loss is: 3.45e-01\n",
            "Train loss: 2.66e-01, Val loss: 3.45e-01\n",
            "Best val loss is: 3.45e-01\n",
            "Train loss: 2.65e-01, Val loss: 3.45e-01\n",
            "Best val loss is: 3.45e-01\n",
            "Train loss: 2.65e-01, Val loss: 3.45e-01\n",
            "Best val loss is: 3.45e-01\n",
            "Train loss: 2.64e-01, Val loss: 3.45e-01\n",
            "Best val loss is: 3.45e-01\n"
          ],
          "name": "stdout"
        },
        {
          "output_type": "stream",
          "text": [
            "\n",
            "100%|██████████| 11/11 [00:00<00:00, 341.46it/s]\n",
            "100%|██████████| 11/11 [00:00<00:00, 346.99it/s]\n",
            "100%|██████████| 11/11 [00:00<00:00, 330.10it/s]\n",
            "100%|██████████| 11/11 [00:00<00:00, 377.94it/s]\n",
            "100%|██████████| 11/11 [00:00<00:00, 377.89it/s]\n",
            "100%|██████████| 11/11 [00:00<00:00, 403.25it/s]\n",
            "  0%|          | 0/11 [00:00<?, ?it/s]"
          ],
          "name": "stderr"
        },
        {
          "output_type": "stream",
          "text": [
            "Train loss: 2.64e-01, Val loss: 3.45e-01\n",
            "Best val loss is: 3.45e-01\n",
            "Train loss: 2.63e-01, Val loss: 3.45e-01\n",
            "Best val loss is: 3.45e-01\n",
            "Train loss: 2.63e-01, Val loss: 3.44e-01\n",
            "Best val loss is: 3.44e-01\n",
            "Train loss: 2.62e-01, Val loss: 3.44e-01\n",
            "Best val loss is: 3.44e-01\n",
            "Train loss: 2.62e-01, Val loss: 3.44e-01\n",
            "Best val loss is: 3.44e-01\n",
            "Train loss: 2.61e-01, Val loss: 3.44e-01\n",
            "Best val loss is: 3.44e-01\n"
          ],
          "name": "stdout"
        },
        {
          "output_type": "stream",
          "text": [
            "100%|██████████| 11/11 [00:00<00:00, 336.36it/s]\n",
            "100%|██████████| 11/11 [00:00<00:00, 209.88it/s]\n",
            "100%|██████████| 11/11 [00:00<00:00, 362.91it/s]\n",
            "100%|██████████| 11/11 [00:00<00:00, 327.06it/s]\n",
            "100%|██████████| 11/11 [00:00<00:00, 380.92it/s]\n",
            "  0%|          | 0/11 [00:00<?, ?it/s]"
          ],
          "name": "stderr"
        },
        {
          "output_type": "stream",
          "text": [
            "Train loss: 2.61e-01, Val loss: 3.44e-01\n",
            "Best val loss is: 3.44e-01\n",
            "Train loss: 2.61e-01, Val loss: 3.44e-01\n",
            "Best val loss is: 3.44e-01\n",
            "Train loss: 2.60e-01, Val loss: 3.44e-01\n",
            "Best val loss is: 3.44e-01\n",
            "Train loss: 2.60e-01, Val loss: 3.44e-01\n",
            "Best val loss is: 3.44e-01\n",
            "Train loss: 2.59e-01, Val loss: 3.44e-01\n",
            "Best val loss is: 3.44e-01\n"
          ],
          "name": "stdout"
        },
        {
          "output_type": "stream",
          "text": [
            "100%|██████████| 11/11 [00:00<00:00, 345.69it/s]\n",
            "100%|██████████| 11/11 [00:00<00:00, 404.41it/s]\n",
            "100%|██████████| 11/11 [00:00<00:00, 305.72it/s]\n",
            "100%|██████████| 11/11 [00:00<00:00, 384.30it/s]\n",
            "100%|██████████| 11/11 [00:00<00:00, 390.32it/s]\n",
            "100%|██████████| 11/11 [00:00<00:00, 372.85it/s]\n",
            "  0%|          | 0/11 [00:00<?, ?it/s]"
          ],
          "name": "stderr"
        },
        {
          "output_type": "stream",
          "text": [
            "Train loss: 2.59e-01, Val loss: 3.44e-01\n",
            "Best val loss is: 3.44e-01\n",
            "Train loss: 2.58e-01, Val loss: 3.44e-01\n",
            "Best val loss is: 3.44e-01\n",
            "Train loss: 2.58e-01, Val loss: 3.43e-01\n",
            "Best val loss is: 3.43e-01\n",
            "Train loss: 2.57e-01, Val loss: 3.43e-01\n",
            "Best val loss is: 3.43e-01\n",
            "Train loss: 2.57e-01, Val loss: 3.43e-01\n",
            "Best val loss is: 3.43e-01\n",
            "Train loss: 2.57e-01, Val loss: 3.43e-01\n",
            "Best val loss is: 3.43e-01\n"
          ],
          "name": "stdout"
        },
        {
          "output_type": "stream",
          "text": [
            "100%|██████████| 11/11 [00:00<00:00, 342.99it/s]\n",
            "100%|██████████| 11/11 [00:00<00:00, 354.89it/s]\n",
            "100%|██████████| 11/11 [00:00<00:00, 391.48it/s]\n",
            "100%|██████████| 11/11 [00:00<00:00, 354.23it/s]\n",
            "100%|██████████| 11/11 [00:00<00:00, 329.17it/s]\n",
            "  0%|          | 0/11 [00:00<?, ?it/s]"
          ],
          "name": "stderr"
        },
        {
          "output_type": "stream",
          "text": [
            "Train loss: 2.56e-01, Val loss: 3.43e-01\n",
            "Best val loss is: 3.43e-01\n",
            "Train loss: 2.56e-01, Val loss: 3.43e-01\n",
            "Best val loss is: 3.43e-01\n",
            "Train loss: 2.55e-01, Val loss: 3.43e-01\n",
            "Best val loss is: 3.43e-01\n",
            "Train loss: 2.55e-01, Val loss: 3.43e-01\n",
            "Best val loss is: 3.43e-01\n",
            "Train loss: 2.54e-01, Val loss: 3.43e-01\n",
            "Best val loss is: 3.43e-01\n"
          ],
          "name": "stdout"
        },
        {
          "output_type": "stream",
          "text": [
            "100%|██████████| 11/11 [00:00<00:00, 338.19it/s]\n",
            "100%|██████████| 11/11 [00:00<00:00, 331.65it/s]\n",
            "100%|██████████| 11/11 [00:00<00:00, 340.13it/s]\n",
            "100%|██████████| 11/11 [00:00<00:00, 337.01it/s]\n",
            "100%|██████████| 11/11 [00:00<00:00, 350.42it/s]\n",
            "  0%|          | 0/11 [00:00<?, ?it/s]"
          ],
          "name": "stderr"
        },
        {
          "output_type": "stream",
          "text": [
            "Train loss: 2.54e-01, Val loss: 3.43e-01\n",
            "Best val loss is: 3.43e-01\n",
            "Train loss: 2.54e-01, Val loss: 3.43e-01\n",
            "Best val loss is: 3.43e-01\n",
            "Train loss: 2.53e-01, Val loss: 3.43e-01\n",
            "Best val loss is: 3.43e-01\n",
            "Train loss: 2.53e-01, Val loss: 3.43e-01\n",
            "Best val loss is: 3.43e-01\n",
            "Train loss: 2.52e-01, Val loss: 3.43e-01\n",
            "Best val loss is: 3.43e-01\n"
          ],
          "name": "stdout"
        },
        {
          "output_type": "stream",
          "text": [
            "100%|██████████| 11/11 [00:00<00:00, 310.33it/s]\n",
            "100%|██████████| 11/11 [00:00<00:00, 315.57it/s]\n",
            "100%|██████████| 11/11 [00:00<00:00, 314.38it/s]\n",
            "100%|██████████| 11/11 [00:00<00:00, 344.37it/s]\n",
            "100%|██████████| 11/11 [00:00<00:00, 385.38it/s]\n",
            "100%|██████████| 11/11 [00:00<00:00, 361.23it/s]"
          ],
          "name": "stderr"
        },
        {
          "output_type": "stream",
          "text": [
            "Train loss: 2.52e-01, Val loss: 3.43e-01\n",
            "Best val loss is: 3.43e-01\n",
            "Train loss: 2.52e-01, Val loss: 3.43e-01\n",
            "Best val loss is: 3.43e-01\n",
            "Train loss: 2.51e-01, Val loss: 3.42e-01\n",
            "Best val loss is: 3.42e-01\n",
            "Train loss: 2.51e-01, Val loss: 3.42e-01\n",
            "Best val loss is: 3.42e-01\n",
            "Train loss: 2.50e-01, Val loss: 3.42e-01\n",
            "Best val loss is: 3.42e-01\n"
          ],
          "name": "stdout"
        },
        {
          "output_type": "stream",
          "text": [
            "\n",
            "100%|██████████| 11/11 [00:00<00:00, 392.24it/s]\n",
            "100%|██████████| 11/11 [00:00<00:00, 388.82it/s]\n",
            "100%|██████████| 11/11 [00:00<00:00, 346.65it/s]\n",
            "100%|██████████| 11/11 [00:00<00:00, 279.68it/s]\n",
            "100%|██████████| 11/11 [00:00<00:00, 366.77it/s]\n"
          ],
          "name": "stderr"
        },
        {
          "output_type": "stream",
          "text": [
            "Train loss: 2.50e-01, Val loss: 3.42e-01\n",
            "Best val loss is: 3.42e-01\n",
            "Train loss: 2.50e-01, Val loss: 3.42e-01\n",
            "Best val loss is: 3.42e-01\n",
            "Train loss: 2.49e-01, Val loss: 3.42e-01\n",
            "Best val loss is: 3.42e-01\n",
            "Train loss: 2.49e-01, Val loss: 3.42e-01\n",
            "Best val loss is: 3.42e-01\n",
            "Train loss: 2.49e-01, Val loss: 3.42e-01\n",
            "Best val loss is: 3.42e-01\n"
          ],
          "name": "stdout"
        },
        {
          "output_type": "stream",
          "text": [
            "100%|██████████| 11/11 [00:00<00:00, 325.37it/s]\n",
            "100%|██████████| 11/11 [00:00<00:00, 372.28it/s]\n",
            "100%|██████████| 11/11 [00:00<00:00, 331.59it/s]\n",
            "100%|██████████| 11/11 [00:00<00:00, 384.82it/s]\n",
            "100%|██████████| 11/11 [00:00<00:00, 340.59it/s]"
          ],
          "name": "stderr"
        },
        {
          "output_type": "stream",
          "text": [
            "Train loss: 2.48e-01, Val loss: 3.42e-01\n",
            "Best val loss is: 3.42e-01\n",
            "Train loss: 2.48e-01, Val loss: 3.42e-01\n",
            "Best val loss is: 3.42e-01\n",
            "Train loss: 2.47e-01, Val loss: 3.42e-01\n",
            "Best val loss is: 3.42e-01\n",
            "Train loss: 2.47e-01, Val loss: 3.42e-01\n",
            "Best val loss is: 3.42e-01\n",
            "Train loss: 2.47e-01, Val loss: 3.42e-01\n",
            "Best val loss is: 3.42e-01\n"
          ],
          "name": "stdout"
        },
        {
          "output_type": "stream",
          "text": [
            "\n",
            "100%|██████████| 11/11 [00:00<00:00, 341.52it/s]\n",
            "100%|██████████| 11/11 [00:00<00:00, 400.35it/s]\n",
            "100%|██████████| 11/11 [00:00<00:00, 367.74it/s]\n",
            "100%|██████████| 11/11 [00:00<00:00, 371.67it/s]\n",
            "100%|██████████| 11/11 [00:00<00:00, 383.04it/s]\n",
            "100%|██████████| 11/11 [00:00<00:00, 376.96it/s]\n",
            "  0%|          | 0/11 [00:00<?, ?it/s]"
          ],
          "name": "stderr"
        },
        {
          "output_type": "stream",
          "text": [
            "Train loss: 2.46e-01, Val loss: 3.42e-01\n",
            "Best val loss is: 3.42e-01\n",
            "Train loss: 2.46e-01, Val loss: 3.42e-01\n",
            "Best val loss is: 3.42e-01\n",
            "Train loss: 2.46e-01, Val loss: 3.42e-01\n",
            "Best val loss is: 3.42e-01\n",
            "Train loss: 2.45e-01, Val loss: 3.42e-01\n",
            "Best val loss is: 3.42e-01\n",
            "Train loss: 2.45e-01, Val loss: 3.42e-01\n",
            "Best val loss is: 3.42e-01\n",
            "Train loss: 2.45e-01, Val loss: 3.42e-01\n",
            "Best val loss is: 3.42e-01\n",
            "Train loss: 2.44e-01, Val loss: 3.42e-01\n",
            "Best val loss is: 3.42e-01\n"
          ],
          "name": "stdout"
        },
        {
          "output_type": "stream",
          "text": [
            "100%|██████████| 11/11 [00:00<00:00, 335.22it/s]\n",
            "100%|██████████| 11/11 [00:00<00:00, 382.74it/s]\n",
            "100%|██████████| 11/11 [00:00<00:00, 341.92it/s]\n",
            "100%|██████████| 11/11 [00:00<00:00, 325.47it/s]\n",
            "100%|██████████| 11/11 [00:00<00:00, 358.03it/s]\n",
            "100%|██████████| 11/11 [00:00<00:00, 380.09it/s]\n"
          ],
          "name": "stderr"
        },
        {
          "output_type": "stream",
          "text": [
            "Train loss: 2.44e-01, Val loss: 3.42e-01\n",
            "Best val loss is: 3.42e-01\n",
            "Train loss: 2.44e-01, Val loss: 3.42e-01\n",
            "Best val loss is: 3.42e-01\n",
            "Train loss: 2.43e-01, Val loss: 3.42e-01\n",
            "Best val loss is: 3.42e-01\n",
            "Train loss: 2.43e-01, Val loss: 3.42e-01\n",
            "Best val loss is: 3.42e-01\n",
            "Train loss: 2.43e-01, Val loss: 3.42e-01\n",
            "Best val loss is: 3.42e-01\n",
            "Train loss: 2.42e-01, Val loss: 3.42e-01\n",
            "Best val loss is: 3.42e-01\n"
          ],
          "name": "stdout"
        },
        {
          "output_type": "stream",
          "text": [
            "100%|██████████| 11/11 [00:00<00:00, 336.29it/s]\n",
            "100%|██████████| 11/11 [00:00<00:00, 389.14it/s]\n",
            "100%|██████████| 11/11 [00:00<00:00, 375.69it/s]\n",
            "100%|██████████| 11/11 [00:00<00:00, 404.47it/s]\n",
            "100%|██████████| 11/11 [00:00<00:00, 354.32it/s]\n",
            "100%|██████████| 11/11 [00:00<00:00, 357.80it/s]\n"
          ],
          "name": "stderr"
        },
        {
          "output_type": "stream",
          "text": [
            "Train loss: 2.42e-01, Val loss: 3.42e-01\n",
            "Best val loss is: 3.42e-01\n",
            "Train loss: 2.42e-01, Val loss: 3.42e-01\n",
            "Best val loss is: 3.42e-01\n",
            "Train loss: 2.41e-01, Val loss: 3.42e-01\n",
            "Best val loss is: 3.42e-01\n",
            "Train loss: 2.41e-01, Val loss: 3.42e-01\n",
            "Best val loss is: 3.42e-01\n",
            "Train loss: 2.41e-01, Val loss: 3.42e-01\n",
            "Best val loss is: 3.42e-01\n",
            "Train loss: 2.40e-01, Val loss: 3.42e-01\n",
            "Best val loss is: 3.42e-01\n"
          ],
          "name": "stdout"
        },
        {
          "output_type": "stream",
          "text": [
            "100%|██████████| 11/11 [00:00<00:00, 340.89it/s]\n",
            "100%|██████████| 11/11 [00:00<00:00, 338.46it/s]\n",
            "100%|██████████| 11/11 [00:00<00:00, 289.80it/s]\n",
            "100%|██████████| 11/11 [00:00<00:00, 372.47it/s]\n",
            "100%|██████████| 11/11 [00:00<00:00, 384.22it/s]\n",
            "100%|██████████| 11/11 [00:00<00:00, 347.14it/s]"
          ],
          "name": "stderr"
        },
        {
          "output_type": "stream",
          "text": [
            "Train loss: 2.40e-01, Val loss: 3.42e-01\n",
            "Best val loss is: 3.42e-01\n",
            "Train loss: 2.40e-01, Val loss: 3.42e-01\n",
            "Best val loss is: 3.42e-01\n",
            "Train loss: 2.39e-01, Val loss: 3.42e-01\n",
            "Best val loss is: 3.42e-01\n",
            "Train loss: 2.39e-01, Val loss: 3.42e-01\n",
            "Best val loss is: 3.42e-01\n",
            "Train loss: 2.39e-01, Val loss: 3.42e-01\n",
            "Best val loss is: 3.42e-01\n"
          ],
          "name": "stdout"
        },
        {
          "output_type": "stream",
          "text": [
            "\n",
            "100%|██████████| 11/11 [00:00<00:00, 308.71it/s]\n",
            "100%|██████████| 11/11 [00:00<00:00, 392.00it/s]\n",
            "100%|██████████| 11/11 [00:00<00:00, 402.46it/s]\n",
            "100%|██████████| 11/11 [00:00<00:00, 306.11it/s]\n"
          ],
          "name": "stderr"
        },
        {
          "output_type": "stream",
          "text": [
            "Train loss: 2.38e-01, Val loss: 3.42e-01\n",
            "Best val loss is: 3.42e-01\n",
            "Train loss: 2.38e-01, Val loss: 3.42e-01\n",
            "Best val loss is: 3.42e-01\n",
            "Train loss: 2.38e-01, Val loss: 3.42e-01\n",
            "Best val loss is: 3.42e-01\n",
            "Train loss: 2.37e-01, Val loss: 3.42e-01\n",
            "Best val loss is: 3.42e-01\n",
            "Train loss: 2.37e-01, Val loss: 3.42e-01\n",
            "Best val loss is: 3.42e-01\n",
            "Stopped training after 212/5000 epochs.\n",
            "The loss is 7.77e-01 before training and 3.42e-01 after training.\n",
            "The training and validation losses are \n",
            "\t[0.7429445648193359, 0.7058242034912109, 0.6825197601318359, 0.6601091003417969, 0.6394844818115234, 0.6199212646484376, 0.601743049621582, 0.5849831008911133, 0.5694981002807618, 0.5551961517333984, 0.5420012283325195, 0.5298139190673828, 0.5185351181030273, 0.508080177307129, 0.4983700942993164, 0.4893312835693359, 0.48089893341064455, 0.4730150604248047, 0.4656276321411133, 0.45869056701660155, 0.45216285705566406, 0.4460080337524414, 0.44019359588623047, 0.4346905136108398, 0.4294730758666992, 0.42451824188232423, 0.4198050308227539, 0.415315055847168, 0.4110314178466797, 0.4069391632080078, 0.40302452087402346, 0.3992752456665039, 0.395679931640625, 0.3922285461425781, 0.3889115524291992, 0.38572059631347655, 0.38264778137207034, 0.3796860122680664, 0.37682865142822264, 0.3740697860717773, 0.3714036178588867, 0.36882511138916013, 0.3663294219970703, 0.3639123153686523, 0.36156951904296875, 0.35929718017578127, 0.3570918655395508, 0.35495018005371093, 0.3528691482543945, 0.35084579467773436, 0.3488773345947266, 0.34696140289306643, 0.3450955963134766, 0.3432775497436523, 0.34150535583496094, 0.33977691650390623, 0.3380904769897461, 0.3364442443847656, 0.3348366165161133, 0.3332659149169922, 0.33173088073730467, 0.33022987365722656, 0.32876182556152345, 0.327325325012207, 0.32591922760009767, 0.32454246520996094, 0.3231939697265625, 0.32187259674072266, 0.3205775833129883, 0.3193079376220703, 0.318062744140625, 0.3168412017822266, 0.3156425857543945, 0.3144660377502441, 0.31331085205078124, 0.31217647552490235, 0.31106210708618165, 0.3099671745300293, 0.3088910675048828, 0.3078331565856934, 0.3067930221557617, 0.3057700538635254, 0.3047637367248535, 0.3037735939025879, 0.3027992057800293, 0.3018401336669922, 0.3008958625793457, 0.29996599197387697, 0.29905025482177733, 0.298148136138916, 0.29725927352905274, 0.2963833808898926, 0.29552011489868163, 0.294669132232666, 0.29383005142211915, 0.2930026626586914, 0.2921866226196289, 0.29138166427612305, 0.2905875205993652, 0.28980390548706053, 0.2890306091308594, 0.28826738357543946, 0.2875139045715332, 0.28677001953125, 0.28603546142578123, 0.2853100776672363, 0.2845936393737793, 0.28388593673706053, 0.2831867218017578, 0.28249589920043944, 0.2818131828308105, 0.2811384963989258, 0.28047163009643555, 0.2798123741149902, 0.27916067123413085, 0.27851625442504885, 0.2778789520263672, 0.2772488021850586, 0.2766254997253418, 0.27600894927978514, 0.2753989601135254, 0.2747955322265625, 0.2741984176635742, 0.2736075401306152, 0.2730227851867676, 0.272443962097168, 0.2718710517883301, 0.2713039398193359, 0.2707424354553223, 0.2701865577697754, 0.26963605880737307, 0.26909091949462893, 0.26855112075805665, 0.26801639556884765, 0.2674867820739746, 0.2669620895385742, 0.2664423751831055, 0.2659273910522461, 0.26541719436645506, 0.26491159439086914, 0.264410514831543, 0.26391403198242186, 0.26342187881469725, 0.26293407440185546, 0.26245058059692383, 0.2619712257385254, 0.26149600982666016, 0.2610248756408691, 0.2605577087402344, 0.26009450912475585, 0.2596351814270019, 0.2591796112060547, 0.2587278175354004, 0.25827970504760744, 0.25783523559570315, 0.25739437103271484, 0.25695697784423827, 0.2565231132507324, 0.25609258651733396, 0.2556654930114746, 0.25524169921875, 0.25482118606567383, 0.2544038963317871, 0.25398979187011717, 0.25357879638671876, 0.25317089080810545, 0.25276607513427735, 0.25236417770385744, 0.25196525573730466, 0.25156929016113283, 0.2511761665344238, 0.2507859039306641, 0.2503984069824219, 0.25001373291015627, 0.24963172912597656, 0.2492523956298828, 0.24887575149536134, 0.24850170135498048, 0.2481302261352539, 0.2477613639831543, 0.24739492416381836, 0.24703100204467773, 0.24666957855224608, 0.24631053924560548, 0.24595392227172852, 0.24559957504272462, 0.24524763107299805, 0.24489797592163087, 0.24455057144165038, 0.24420541763305664, 0.24386247634887695, 0.24352176666259764, 0.2431831932067871, 0.2428467559814453, 0.24251243591308594, 0.24218019485473632, 0.24185001373291015, 0.24152183532714844, 0.2411957550048828, 0.2408716583251953, 0.24054946899414062, 0.24022924423217773, 0.23991098403930664, 0.23959459304809572, 0.23928010940551758, 0.2389674186706543, 0.23865659713745116, 0.2383476448059082, 0.2380404281616211, 0.2377350425720215, 0.2374313735961914, 0.23712947845458984, None, None, None, None, None, None, None, None, None, None, None, None, None, None, None, None, None, None, None, None, None, None, None, None, None, None, None, None, None, None, None, None, None, None, None, None, None, None, None, None, None, None, None, None, None, None, None, None, None, None, None, None, None, None, None, None, None, None, None, None, None, None, None, None, None, None, None, None, None, None, None, None, None, None, None, None, None, None, None, None, None, None, None, None, None, None, None, None, None, None, None, None, None, None, None, None, None, None, None, None, None, None, None, None, None, None, None, None, None, None, None, None, None, None, None, None, None, None, None, None, None, None, None, None, None, None, None, None, None, None, None, None, None, None, None, None, None, None, None, None, None, None, None, None, None, None, None, None, None, None, None, None, None, None, None, None, None, None, None, None, None, None, None, None, None, None, None, None, None, None, None, None, None, None, None, None, None, None, None, None, None, None, None, None, None, None, None, None, None, None, None, None, None, None, None, None, None, None, None, None, None, None, None, None, None, None, None, None, None, None, None, None, None, None, None, None, None, None, None, None, None, None, None, None, None, None, None, None, None, None, None, None, None, None, None, None, None, None, None, None, None, None, None, None, None, None, None, None, None, None, None, None, None, None, None, None, None, None, None, None, None, None, None, None, None, None, None, None, None, None, None, None, None, None, None, None, None, None, None, None, None, None, None, None, None, None, None, None, None, None, None, None, None, None, None, None, None, None, None, None, None, None, None, None, None, None, None, None, None, None, None, None, None, None, None, None, None, None, None, None, None, None, None, None, None, None, None, None, None, None, None, None, None, None, None, None, None, None, None, None, None, None, None, None, None, None, None, None, None, None, None, None, None, None, None, None, None, None, None, None, None, None, None, None, None, None, None, None, None, None, None, None, None, None, None, None, None, None, None, None, None, None, None, None, None, None, None, None, None, None, None, None, None, None, None, None, None, None, None, None, None, None, None, None, None, None, None, None, None, None, None, None, None, None, None, None, None, None, None, None, None, None, None, None, None, None, None, None, None, None, None, None, None, None, None, None, None, None, None, None, None, None, None, None, None, None, None, None, None, None, None, None, None, None, None, None, None, None, None, None, None, None, None, None, None, None, None, None, None, None, None, None, None, None, None, None, None, None, None, None, None, None, None, None, None, None, None, None, None, None, None, None, None, None, None, None, None, None, None, None, None, None, None, None, None, None, None, None, None, None, None, None, None, None, None, None, None, None, None, None, None, None, None, None, None, None, None, None, None, None, None, None, None, None, None, None, None, None, None, None, None, None, None, None, None, None, None, None, None, None, None, None, None, None, None, None, None, None, None, None, None, None, None, None, None, None, None, None, None, None, None, None, None, None, None, None, None, None, None, None, None, None, None, None, None, None, None, None, None, None, None, None, None, None, None, None, None, None, None, None, None, None, None, None, None, None, None, None, None, None, None, None, None, None, None, None, None, None, None, None, None, None, None, None, None, None, None, None, None, None, None, None, None, None, None, None, None, None, None, None, None, None, None, None, None, None, None, None, None, None, None, None, None, None, None, None, None, None, None, None, None, None, None, None, None, None, None, None, None, None, None, None, None, None, None, None, None, None, None, None, None, None, None, None, None, None, None, None, None, None, None, None, None, None, None, None, None, None, None, None, None, None, None, None, None, None, None, None, None, None, None, None, None, None, None, None, None, None, None, None, None, None, None, None, None, None, None, None, None, None, None, None, None, None, None, None, None, None, None, None, None, None, None, None, None, None, None, None, None, None, None, None, None, None, None, None, None, None, None, None, None, None, None, None, None, None, None, None, None, None, None, None, None, None, None, None, None, None, None, None, None, None, None, None, None, None, None, None, None, None, None, None, None, None, None, None, None, None, None, None, None, None, None, None, None, None, None, None, None, None, None, None, None, None, None, None, None, None, None, None, None, None, None, None, None, None, None, None, None, None, None, None, None, None, None, None, None, None, None, None, None, None, None, None, None, None, None, None, None, None, None, None, None, None, None, None, None, None, None, None, None, None, None, None, None, None, None, None, None, None, None, None, None, None, None, None, None, None, None, None, None, None, None, None, None, None, None, None, None, None, None, None, None, None, None, None, None, None, None, None, None, None, None, None, None, None, None, None, None, None, None, None, None, None, None, None, None, None, None, None, None, None, None, None, None, None, None, None, None, None, None, None, None, None, None, None, None, None, None, None, None, None, None, None, None, None, None, None, None, None, None, None, None, None, None, None, None, None, None, None, None, None, None, None, None, None, None, None, None, None, None, None, None, None, None, None, None, None, None, None, None, None, None, None, None, None, None, None, None, None, None, None, None, None, None, None, None, None, None, None, None, None, None, None, None, None, None, None, None, None, None, None, None, None, None, None, None, None, None, None, None, None, None, None, None, None, None, None, None, None, None, None, None, None, None, None, None, None, None, None, None, None, None, None, None, None, None, None, None, None, None, None, None, None, None, None, None, None, None, None, None, None, None, None, None, None, None, None, None, None, None, None, None, None, None, None, None, None, None, None, None, None, None, None, None, None, None, None, None, None, None, None, None, None, None, None, None, None, None, None, None, None, None, None, None, None, None, None, None, None, None, None, None, None, None, None, None, None, None, None, None, None, None, None, None, None, None, None, None, None, None, None, None, None, None, None, None, None, None, None, None, None, None, None, None, None, None, None, None, None, None, None, None, None, None, None, None, None, None, None, None, None, None, None, None, None, None, None, None, None, None, None, None, None, None, None, None, None, None, None, None, None, None, None, None, None, None, None, None, None, None, None, None, None, None, None, None, None, None, None, None, None, None, None, None, None, None, None, None, None, None, None, None, None, None, None, None, None, None, None, None, None, None, None, None, None, None, None, None, None, None, None, None, None, None, None, None, None, None, None, None, None, None, None, None, None, None, None, None, None, None, None, None, None, None, None, None, None, None, None, None, None, None, None, None, None, None, None, None, None, None, None, None, None, None, None, None, None, None, None, None, None, None, None, None, None, None, None, None, None, None, None, None, None, None, None, None, None, None, None, None, None, None, None, None, None, None, None, None, None, None, None, None, None, None, None, None, None, None, None, None, None, None, None, None, None, None, None, None, None, None, None, None, None, None, None, None, None, None, None, None, None, None, None, None, None, None, None, None, None, None, None, None, None, None, None, None, None, None, None, None, None, None, None, None, None, None, None, None, None, None, None, None, None, None, None, None, None, None, None, None, None, None, None, None, None, None, None, None, None, None, None, None, None, None, None, None, None, None, None, None, None, None, None, None, None, None, None, None, None, None, None, None, None, None, None, None, None, None, None, None, None, None, None, None, None, None, None, None, None, None, None, None, None, None, None, None, None, None, None, None, None, None, None, None, None, None, None, None, None, None, None, None, None, None, None, None, None, None, None, None, None, None, None, None, None, None, None, None, None, None, None, None, None, None, None, None, None, None, None, None, None, None, None, None, None, None, None, None, None, None, None, None, None, None, None, None, None, None, None, None, None, None, None, None, None, None, None, None, None, None, None, None, None, None, None, None, None, None, None, None, None, None, None, None, None, None, None, None, None, None, None, None, None, None, None, None, None, None, None, None, None, None, None, None, None, None, None, None, None, None, None, None, None, None, None, None, None, None, None, None, None, None, None, None, None, None, None, None, None, None, None, None, None, None, None, None, None, None, None, None, None, None, None, None, None, None, None, None, None, None, None, None, None, None, None, None, None, None, None, None, None, None, None, None, None, None, None, None, None, None, None, None, None, None, None, None, None, None, None, None, None, None, None, None, None, None, None, None, None, None, None, None, None, None, None, None, None, None, None, None, None, None, None, None, None, None, None, None, None, None, None, None, None, None, None, None, None, None, None, None, None, None, None, None, None, None, None, None, None, None, None, None, None, None, None, None, None, None, None, None, None, None, None, None, None, None, None, None, None, None, None, None, None, None, None, None, None, None, None, None, None, None, None, None, None, None, None, None, None, None, None, None, None, None, None, None, None, None, None, None, None, None, None, None, None, None, None, None, None, None, None, None, None, None, None, None, None, None, None, None, None, None, None, None, None, None, None, None, None, None, None, None, None, None, None, None, None, None, None, None, None, None, None, None, None, None, None, None, None, None, None, None, None, None, None, None, None, None, None, None, None, None, None, None, None, None, None, None, None, None, None, None, None, None, None, None, None, None, None, None, None, None, None, None, None, None, None, None, None, None, None, None, None, None, None, None, None, None, None, None, None, None, None, None, None, None, None, None, None, None, None, None, None, None, None, None, None, None, None, None, None, None, None, None, None, None, None, None, None, None, None, None, None, None, None, None, None, None, None, None, None, None, None, None, None, None, None, None, None, None, None, None, None, None, None, None, None, None, None, None, None, None, None, None, None, None, None, None, None, None, None, None, None, None, None, None, None, None, None, None, None, None, None, None, None, None, None, None, None, None, None, None, None, None, None, None, None, None, None, None, None, None, None, None, None, None, None, None, None, None, None, None, None, None, None, None, None, None, None, None, None, None, None, None, None, None, None, None, None, None, None, None, None, None, None, None, None, None, None, None, None, None, None, None, None, None, None, None, None, None, None, None, None, None, None, None, None, None, None, None, None, None, None, None, None, None, None, None, None, None, None, None, None, None, None, None, None, None, None, None, None, None, None, None, None, None, None, None, None, None, None, None, None, None, None, None, None, None, None, None, None, None, None, None, None, None, None, None, None, None, None, None, None, None, None, None, None, None, None, None, None, None, None, None, None, None, None, None, None, None, None, None, None, None, None, None, None, None, None, None, None, None, None, None, None, None, None, None, None, None, None, None, None, None, None, None, None, None, None, None, None, None, None, None, None, None, None, None, None, None, None, None, None, None, None, None, None, None, None, None, None, None, None, None, None, None, None, None, None, None, None, None, None, None, None, None, None, None, None, None, None, None, None, None, None, None, None, None, None, None, None, None, None, None, None, None, None, None, None, None, None, None, None, None, None, None, None, None, None, None, None, None, None, None, None, None, None, None, None, None, None, None, None, None, None, None, None, None, None, None, None, None, None, None, None, None, None, None, None, None, None, None, None, None, None, None, None, None, None, None, None, None, None, None, None, None, None, None, None, None, None, None, None, None, None, None, None, None, None, None, None, None, None, None, None, None, None, None, None, None, None, None, None, None, None, None, None, None, None, None, None, None, None, None, None, None, None, None, None, None, None, None, None, None, None, None, None, None, None, None, None, None, None, None, None, None, None, None, None, None, None, None, None, None, None, None, None, None, None, None, None, None, None, None, None, None, None, None, None, None, None, None, None, None, None, None, None, None, None, None, None, None, None, None, None, None, None, None, None, None, None, None, None, None, None, None, None, None, None, None, None, None, None, None, None, None, None, None, None, None, None, None, None, None, None, None, None, None, None, None, None, None, None, None, None, None, None, None, None, None, None, None, None, None, None, None, None, None, None, None, None, None, None, None, None, None, None, None, None, None, None, None, None, None, None, None, None, None, None, None, None, None, None, None, None, None, None, None, None, None, None, None, None, None, None, None, None, None, None, None, None, None, None, None, None, None, None, None, None, None, None, None, None, None, None, None, None, None, None, None, None, None, None, None, None, None, None, None, None, None, None, None, None, None, None, None, None, None, None, None, None, None, None, None, None, None, None, None, None, None, None, None, None, None, None, None, None, None, None, None, None, None, None, None, None, None, None, None, None, None, None, None, None, None, None, None, None, None, None, None, None, None, None, None, None, None, None, None, None, None, None, None, None, None, None, None, None, None, None, None, None, None, None, None, None, None, None, None, None, None, None, None, None, None, None, None, None, None, None, None, None, None, None, None, None, None, None, None, None, None, None, None, None, None, None, None, None, None, None, None, None, None, None, None, None, None, None, None, None, None, None, None, None, None, None, None, None, None, None, None, None, None, None, None, None, None, None, None, None, None, None, None, None, None, None, None, None, None, None, None, None, None, None, None, None, None, None, None, None, None, None, None, None, None, None, None, None, None, None, None, None, None, None, None, None, None, None, None, None, None, None, None, None, None, None, None, None, None, None, None, None, None, None, None, None, None, None, None, None, None, None, None, None, None, None, None, None, None, None, None, None, None, None, None, None, None, None, None, None, None, None, None, None, None, None, None, None, None, None, None, None, None, None, None, None, None, None, None, None, None, None, None, None, None, None, None, None, None, None, None, None, None, None, None, None, None, None, None, None, None, None, None, None, None, None, None, None, None, None, None, None, None, None, None, None, None, None, None, None, None, None, None, None, None, None, None, None, None, None, None, None, None, None, None, None, None, None, None, None, None, None, None, None, None, None, None, None, None, None, None, None, None, None, None, None, None, None, None, None, None, None, None, None, None, None, None, None, None, None, None, None, None, None, None, None, None, None, None, None, None, None, None, None, None, None, None, None, None, None, None, None, None, None, None, None, None, None, None, None, None, None, None, None, None, None, None, None, None, None, None, None, None, None, None, None, None, None, None, None, None, None, None, None, None, None, None, None, None, None, None, None, None, None, None, None, None, None, None, None, None, None, None, None, None, None, None, None, None, None, None, None, None, None, None, None, None, None, None, None, None, None, None, None, None, None, None, None, None, None, None, None, None, None, None, None, None, None, None, None, None, None, None, None, None, None, None, None, None, None, None, None, None, None, None, None, None, None, None, None, None, None, None, None, None, None, None, None, None, None, None, None, None, None, None, None, None, None, None, None, None, None, None, None, None, None, None, None, None, None, None, None, None, None, None, None, None, None, None, None, None, None, None, None, None, None, None, None, None, None, None, None, None, None, None, None, None, None, None, None, None, None, None, None, None, None, None, None, None, None, None, None, None, None, None, None, None, None, None, None, None, None, None, None, None, None, None, None, None, None, None, None, None, None, None, None, None, None, None, None, None, None, None, None, None, None, None, None, None, None, None, None, None, None, None, None, None, None, None, None, None, None, None, None, None, None, None, None, None, None, None, None, None, None, None, None, None, None, None, None, None, None, None, None, None, None, None, None, None, None, None, None, None, None, None, None, None, None, None, None, None, None, None, None, None, None, None, None, None, None, None, None, None, None, None, None, None, None, None, None, None, None, None, None, None, None, None, None, None, None, None, None, None, None, None, None, None, None, None, None, None, None, None, None, None, None, None, None, None, None, None, None, None, None, None, None, None, None, None, None, None, None, None, None, None, None, None, None, None, None, None, None, None, None, None, None, None, None, None, None, None, None, None, None, None, None, None, None, None, None, None, None, None, None, None, None, None, None, None, None, None, None, None, None, None, None, None, None, None, None, None, None, None, None, None, None, None, None, None, None, None, None, None, None, None, None, None, None, None, None, None, None, None, None, None, None, None, None, None, None, None, None, None, None, None, None, None, None, None, None, None, None, None, None, None, None, None, None, None, None, None, None, None, None, None, None, None, None, None, None, None, None, None, None, None, None, None, None, None, None, None, None, None, None, None, None, None, None, None, None, None, None, None, None, None, None, None, None, None, None, None, None, None, None, None, None, None, None, None, None, None, None, None, None, None, None, None, None, None, None, None, None, None, None, None, None, None, None, None, None, None, None, None, None, None, None, None, None, None, None, None, None, None, None, None, None, None, None, None, None, None, None, None, None, None, None, None, None, None, None, None, None, None, None, None, None, None, None, None, None, None, None, None, None, None, None, None, None, None, None, None, None, None, None, None, None, None, None, None, None, None, None, None, None, None, None, None, None, None, None, None, None, None, None, None, None, None, None, None, None, None, None, None, None, None, None, None, None, None, None, None, None, None, None, None, None, None, None, None, None, None, None, None, None, None, None, None, None, None, None, None, None, None, None, None, None, None, None, None, None, None, None, None, None, None, None, None, None, None, None, None, None, None, None, None, None, None, None, None, None, None, None, None, None, None, None, None, None, None, None, None, None, None, None, None, None, None, None, None, None, None, None, None, None, None, None, None, None, None, None, None, None, None, None, None, None, None, None, None, None, None, None, None, None, None, None, None, None, None, None, None, None, None, None, None, None, None, None, None, None, None, None, None, None, None, None, None, None, None, None, None, None, None, None, None, None, None, None, None, None, None, None, None, None, None, None, None, None, None, None, None, None, None, None, None, None, None, None, None, None, None, None, None, None, None, None, None, None, None, None, None, None, None, None, None, None, None, None, None, None, None, None, None, None, None, None, None, None, None, None, None, None, None, None, None, None, None, None, None, None, None, None, None, None, None, None, None, None, None, None, None, None, None, None, None, None, None, None, None, None, None, None, None, None, None, None, None, None, None, None, None, None, None, None, None, None, None, None, None, None, None, None, None, None, None, None, None, None, None, None, None, None, None, None, None, None, None, None, None, None, None, None, None, None, None, None, None, None, None, None, None, None, None, None, None, None, None, None, None, None, None, None, None, None, None, None, None, None, None, None, None, None, None, None, None, None, None, None, None, None, None, None, None, None, None, None, None, None, None, None, None, None, None, None, None, None, None, None, None, None, None, None, None, None, None, None, None, None, None, None, None, None, None, None, None, None, None, None, None, None, None, None, None, None, None, None, None, None, None, None, None, None, None, None, None, None, None, None, None, None, None, None, None, None, None, None, None, None, None, None, None, None, None, None, None, None, None, None, None, None, None, None, None, None, None, None, None, None, None, None, None, None, None, None, None, None, None, None, None, None, None, None, None, None, None, None, None, None, None, None, None, None, None, None, None, None, None, None, None, None, None, None, None, None, None, None, None, None, None, None, None, None, None, None, None, None, None, None, None, None, None, None, None, None, None, None, None, None, None, None, None, None, None, None, None, None, None, None, None, None, None, None, None, None, None, None, None, None, None, None, None, None, None, None, None, None, None, None, None, None, None, None, None, None, None, None, None, None, None, None, None, None, None, None, None, None, None, None, None, None, None, None, None, None, None, None, None, None, None, None, None, None, None, None, None, None, None, None, None, None, None, None, None, None, None, None, None, None, None, None, None, None, None, None, None, None, None, None, None, None, None, None, None, None, None, None, None, None, None, None, None, None, None, None, None, None, None, None, None, None, None, None, None, None, None, None, None, None, None, None, None, None, None, None, None, None, None, None, None, None, None, None, None, None, None, None, None, None, None, None, None, None, None, None, None, None, None, None, None, None, None, None, None, None, None, None, None, None, None, None, None, None, None, None, None, None, None, None, None, None, None, None, None, None, None, None, None, None, None, None, None, None, None, None, None, None, None, None, None, None, None, None, None, None, None, None, None, None, None, None, None, None, None, None, None, None, None, None, None, None, None, None, None, None, None, None, None, None, None, None, None, None, None, None, None, None, None, None, None, None, None, None, None, None, None, None, None, None, None, None, None, None, None, None, None, None, None, None, None, None, None, None, None, None, None, None, None, None, None, None, None, None, None, None, None, None, None, None, None, None, None, None, None, None, None, None, None, None, None, None, None, None, None, None, None, None, None, None, None, None, None, None, None, None, None, None, None, None, None, None, None, None, None, None, None, None, None, None, None, None, None, None, None, None, None, None, None, None, None, None, None, None, None, None, None, None, None, None, None, None, None, None, None, None, None, None, None, None, None, None, None, None, None, None, None, None, None, None, None, None, None, None, None, None, None, None, None, None, None, None, None, None, None, None, None, None, None, None, None, None, None, None, None, None, None, None, None, None, None, None, None, None, None, None, None, None, None, None, None, None, None, None, None, None, None, None, None, None, None, None, None, None, None, None, None, None, None, None, None, None, None, None, None, None, None, None, None, None, None, None, None, None, None, None, None, None, None, None, None, None, None, None, None, None, None, None, None, None, None, None, None, None, None, None, None, None, None, None, None, None, None, None, None, None, None, None, None, None, None, None, None, None, None, None, None, None, None, None, None, None, None, None, None, None, None, None, None, None, None, None, None, None, None, None, None, None, None, None, None, None, None, None, None, None, None, None, None, None, None, None, None, None, None, None, None, None, None, None, None, None, None, None, None, None, None, None, None, None, None, None, None, None, None, None, None, None, None, None, None, None, None, None, None, None, None, None, None, None, None, None, None, None, None, None, None, None, None, None, None, None, None, None, None, None, None, None, None, None, None, None, None, None, None, None, None, None, None, None, None, None, None, None, None, None, None, None, None, None, None, None, None, None, None, None, None, None, None, None, None, None, None, None, None, None, None, None, None, None, None, None, None, None, None, None, None, None, None, None, None, None, None, None, None, None, None, None, None, None, None, None, None, None, None, None, None, None, None, None, None, None, None, None, None, None, None, None, None, None, None, None, None, None, None, None, None, None, None, None, None, None, None, None, None, None, None, None, None, None, None, None, None, None, None, None, None, None, None, None, None, None, None, None, None, None, None, None, None, None, None, None, None, None, None, None, None, None, None, None, None, None, None, None, None, None, None, None, None, None, None, None, None, None, None, None, None, None, None, None, None, None, None, None, None, None, None, None, None, None, None, None, None, None, None, None, None, None, None, None, None, None, None, None, None, None, None, None, None, None, None, None, None, None, None, None, None, None, None, None, None, None, None, None, None, None, None, None, None, None, None, None, None, None, None, None, None, None, None, None, None, None, None, None, None, None, None, None, None, None, None, None, None, None, None, None, None, None, None, None, None, None, None, None, None, None, None, None, None, None, None, None, None, None, None, None, None, None, None, None, None, None, None, None, None, None, None, None, None, None, None, None, None, None, None, None, None, None, None, None, None, None, None, None, None, None, None, None, None, None, None, None, None, None, None, None, None, None, None, None, None, None, None, None, None, None, None, None, None, None, None, None, None, None, None, None, None, None, None, None, None, None, None, None, None, None, None, None, None, None, None, None, None, None, None, None, None, None, None, None, None, None, None, None, None, None, None, None, None, None, None, None, None, None, None, None, None, None, None, None, None, None, None, None, None, None, None, None, None, None, None, None, None, None, None, None, None, None, None, None, None, None, None, None, None, None, None, None, None, None, None, None, None, None, None, None, None, None, None, None, None, None, None, None, None, None, None, None, None, None, None, None, None, None, None, None, None, None, None, None, None, None, None, None, None, None, None, None, None, None, None, None, None, None, None, None, None, None, None, None], \n",
            "\t[0.7112957835197449, 0.6922221779823303, 0.6663016676902771, 0.6445317268371582, 0.6243956089019775, 0.605698823928833, 0.5883048176765442, 0.5725458264350891, 0.5581954717636108, 0.5450564026832581, 0.5330798625946045, 0.5221592783927917, 0.5121657848358154, 0.5030099749565125, 0.49460911750793457, 0.4868798851966858, 0.47975337505340576, 0.47316792607307434, 0.467068076133728, 0.46140575408935547, 0.4561372697353363, 0.4512256681919098, 0.4466361105442047, 0.44234007596969604, 0.4383104145526886, 0.4345240294933319, 0.43096011877059937, 0.4275996685028076, 0.4244260787963867, 0.42142489552497864, 0.41858217120170593, 0.41588592529296875, 0.41332554817199707, 0.4108906686306, 0.4085730016231537, 0.4063640236854553, 0.40425625443458557, 0.4022436738014221, 0.4003194272518158, 0.39847806096076965, 0.39671462774276733, 0.39502453804016113, 0.3934027850627899, 0.391846239566803, 0.3903505802154541, 0.3889126479625702, 0.387529194355011, 0.3861970901489258, 0.3849140703678131, 0.38367724418640137, 0.3824847340583801, 0.38133352994918823, 0.38022226095199585, 0.37914881110191345, 0.3781113028526306, 0.37710827589035034, 0.3761378824710846, 0.3751988708972931, 0.3742899000644684, 0.3734094798564911, 0.37255632877349854, 0.3717295229434967, 0.3709277808666229, 0.370150089263916, 0.3693956136703491, 0.36866334080696106, 0.36795198917388916, 0.36726176738739014, 0.36659109592437744, 0.3659394085407257, 0.3653058111667633, 0.3646899163722992, 0.36409109830856323, 0.36350831389427185, 0.36294177174568176, 0.36239033937454224, 0.3618535101413727, 0.3613308072090149, 0.36082199215888977, 0.36032634973526, 0.3598436713218689, 0.3593732416629791, 0.3589150905609131, 0.3584684729576111, 0.35803306102752686, 0.35760852694511414, 0.35719478130340576, 0.3567914664745331, 0.35639792680740356, 0.3560139834880829, 0.35563942790031433, 0.3552740216255188, 0.35491764545440674, 0.3545696437358856, 0.3542301058769226, 0.3538986146450043, 0.35357505083084106, 0.35325929522514343, 0.3529508709907532, 0.35264983773231506, 0.3523559868335724, 0.3520689010620117, 0.3517885208129883, 0.35151463747024536, 0.35124731063842773, 0.3509860932826996, 0.3507308065891266, 0.35048165917396545, 0.35023799538612366, 0.3500005304813385, 0.3497677743434906, 0.34954091906547546, 0.3493190407752991, 0.3491021394729614, 0.348890483379364, 0.34868380427360535, 0.3484817147254944, 0.3482842445373535, 0.348091185092926, 0.34790295362472534, 0.34771841764450073, 0.34753888845443726, 0.34736308455467224, 0.34719136357307434, 0.34702372550964355, 0.34685981273651123, 0.3466997742652893, 0.3465433120727539, 0.3463910222053528, 0.3462415337562561, 0.3460961878299713, 0.34595394134521484, 0.3458150029182434, 0.34567952156066895, 0.3455471098423004, 0.34541797637939453, 0.3452918231487274, 0.3451687693595886, 0.34504884481430054, 0.34493157267570496, 0.3448171615600586, 0.34470564126968384, 0.3445970118045807, 0.34449079632759094, 0.3443872630596161, 0.3442865014076233, 0.34418851137161255, 0.34409257769584656, 0.3439989984035492, 0.34390825033187866, 0.3438197374343872, 0.34373337030410767, 0.34364959597587585, 0.34356769919395447, 0.3434882164001465, 0.34341102838516235, 0.3433358371257782, 0.34326282143592834, 0.34319162368774414, 0.3431226909160614, 0.3430556356906891, 0.3429904282093048, 0.34292709827423096, 0.3428660035133362, 0.34280651807785034, 0.3427489101886749, 0.342693030834198, 0.3426389992237091, 0.3425866663455963, 0.3425361216068268, 0.34248700737953186, 0.34243983030319214, 0.34239429235458374, 0.34235021471977234, 0.3423074781894684, 0.34226682782173157, 0.34222733974456787, 0.3421895205974579, 0.3421529233455658, 0.34211814403533936, 0.3420843183994293, 0.3420522212982178, 0.34202179312705994, 0.34199243783950806, 0.34196433424949646, 0.34193775057792664, 0.34191232919692993, 0.3418881595134735, 0.3418653905391693, 0.34184378385543823, 0.341823548078537, 0.3418043851852417, 0.3417865037918091, 0.34176957607269287, 0.34175413846969604, 0.3417396545410156, 0.3417264521121979, 0.34171438217163086, 0.3417033851146698, 0.3416935205459595, 0.3416844308376312, 0.34167659282684326, 0.34166955947875977, 0.34166383743286133, 0.3416590690612793, 0.3416554629802704, 0.34165260195732117, 0.34165093302726746, 0.3416498601436615, 0.3416498899459839, 0.3416506052017212, 0.3416529893875122, None, None, None, None, None, None, None, None, None, None, None, None, None, None, None, None, None, None, None, None, None, None, None, None, None, None, None, None, None, None, None, None, None, None, None, None, None, None, None, None, None, None, None, None, None, None, None, None, None, None, None, None, None, None, None, None, None, None, None, None, None, None, None, None, None, None, None, None, None, None, None, None, None, None, None, None, None, None, None, None, None, None, None, None, None, None, None, None, None, None, None, None, None, None, None, None, None, None, None, None, None, None, None, None, None, None, None, None, None, None, None, None, None, None, None, None, None, None, None, None, None, None, None, None, None, None, None, None, None, None, None, None, None, None, None, None, None, None, None, None, None, None, None, None, None, None, None, None, None, None, None, None, None, None, None, None, None, None, None, None, None, None, None, None, None, None, None, None, None, None, None, None, None, None, None, None, None, None, None, None, None, None, None, None, None, None, None, None, None, None, None, None, None, None, None, None, None, None, None, None, None, None, None, None, None, None, None, None, None, None, None, None, None, None, None, None, None, None, None, None, None, None, None, None, None, None, None, None, None, None, None, None, None, None, None, None, None, None, None, None, None, None, None, None, None, None, None, None, None, None, None, None, None, None, None, None, None, None, None, None, None, None, None, None, None, None, None, None, None, None, None, None, None, None, None, None, None, None, None, None, None, None, None, None, None, None, None, None, None, None, None, None, None, None, None, None, None, None, None, None, None, None, None, None, None, None, None, None, None, None, None, None, None, None, None, None, None, None, None, None, None, None, None, None, None, None, None, None, None, None, None, None, None, None, None, None, None, None, None, None, None, None, None, None, None, None, None, None, None, None, None, None, None, None, None, None, None, None, None, None, None, None, None, None, None, None, None, None, None, None, None, None, None, None, None, None, None, None, None, None, None, None, None, None, None, None, None, None, None, None, None, None, None, None, None, None, None, None, None, None, None, None, None, None, None, None, None, None, None, None, None, None, None, None, None, None, None, None, None, None, None, None, None, None, None, None, None, None, None, None, None, None, None, None, None, None, None, None, None, None, None, None, None, None, None, None, None, None, None, None, None, None, None, None, None, None, None, None, None, None, None, None, None, None, None, None, None, None, None, None, None, None, None, None, None, None, None, None, None, None, None, None, None, None, None, None, None, None, None, None, None, None, None, None, None, None, None, None, None, None, None, None, None, None, None, None, None, None, None, None, None, None, None, None, None, None, None, None, None, None, None, None, None, None, None, None, None, None, None, None, None, None, None, None, None, None, None, None, None, None, None, None, None, None, None, None, None, None, None, None, None, None, None, None, None, None, None, None, None, None, None, None, None, None, None, None, None, None, None, None, None, None, None, None, None, None, None, None, None, None, None, None, None, None, None, None, None, None, None, None, None, None, None, None, None, None, None, None, None, None, None, None, None, None, None, None, None, None, None, None, None, None, None, None, None, None, None, None, None, None, None, None, None, None, None, None, None, None, None, None, None, None, None, None, None, None, None, None, None, None, None, None, None, None, None, None, None, None, None, None, None, None, None, None, None, None, None, None, None, None, None, None, None, None, None, None, None, None, None, None, None, None, None, None, None, None, None, None, None, None, None, None, None, None, None, None, None, None, None, None, None, None, None, None, None, None, None, None, None, None, None, None, None, None, None, None, None, None, None, None, None, None, None, None, None, None, None, None, None, None, None, None, None, None, None, None, None, None, None, None, None, None, None, None, None, None, None, None, None, None, None, None, None, None, None, None, None, None, None, None, None, None, None, None, None, None, None, None, None, None, None, None, None, None, None, None, None, None, None, None, None, None, None, None, None, None, None, None, None, None, None, None, None, None, None, None, None, None, None, None, None, None, None, None, None, None, None, None, None, None, None, None, None, None, None, None, None, None, None, None, None, None, None, None, None, None, None, None, None, None, None, None, None, None, None, None, None, None, None, None, None, None, None, None, None, None, None, None, None, None, None, None, None, None, None, None, None, None, None, None, None, None, None, None, None, None, None, None, None, None, None, None, None, None, None, None, None, None, None, None, None, None, None, None, None, None, None, None, None, None, None, None, None, None, None, None, None, None, None, None, None, None, None, None, None, None, None, None, None, None, None, None, None, None, None, None, None, None, None, None, None, None, None, None, None, None, None, None, None, None, None, None, None, None, None, None, None, None, None, None, None, None, None, None, None, None, None, None, None, None, None, None, None, None, None, None, None, None, None, None, None, None, None, None, None, None, None, None, None, None, None, None, None, None, None, None, None, None, None, None, None, None, None, None, None, None, None, None, None, None, None, None, None, None, None, None, None, None, None, None, None, None, None, None, None, None, None, None, None, None, None, None, None, None, None, None, None, None, None, None, None, None, None, None, None, None, None, None, None, None, None, None, None, None, None, None, None, None, None, None, None, None, None, None, None, None, None, None, None, None, None, None, None, None, None, None, None, None, None, None, None, None, None, None, None, None, None, None, None, None, None, None, None, None, None, None, None, None, None, None, None, None, None, None, None, None, None, None, None, None, None, None, None, None, None, None, None, None, None, None, None, None, None, None, None, None, None, None, None, None, None, None, None, None, None, None, None, None, None, None, None, None, None, None, None, None, None, None, None, None, None, None, None, None, None, None, None, None, None, None, None, None, None, None, None, None, None, None, None, None, None, None, None, None, None, None, None, None, None, None, None, None, None, None, None, None, None, None, None, None, None, None, None, None, None, None, None, None, None, None, None, None, None, None, None, None, None, None, None, None, None, None, None, None, None, None, None, None, None, None, None, None, None, None, None, None, None, None, None, None, None, None, None, None, None, None, None, None, None, None, None, None, None, None, None, None, None, None, None, None, None, None, None, None, None, None, None, None, None, None, None, None, None, None, None, None, None, None, None, None, None, None, None, None, None, None, None, None, None, None, None, None, None, None, None, None, None, None, None, None, None, None, None, None, None, None, None, None, None, None, None, None, None, None, None, None, None, None, None, None, None, None, None, None, None, None, None, None, None, None, None, None, None, None, None, None, None, None, None, None, None, None, None, None, None, None, None, None, None, None, None, None, None, None, None, None, None, None, None, None, None, None, None, None, None, None, None, None, None, None, None, None, None, None, None, None, None, None, None, None, None, None, None, None, None, None, None, None, None, None, None, None, None, None, None, None, None, None, None, None, None, None, None, None, None, None, None, None, None, None, None, None, None, None, None, None, None, None, None, None, None, None, None, None, None, None, None, None, None, None, None, None, None, None, None, None, None, None, None, None, None, None, None, None, None, None, None, None, None, None, None, None, None, None, None, None, None, None, None, None, None, None, None, None, None, None, None, None, None, None, None, None, None, None, None, None, None, None, None, None, None, None, None, None, None, None, None, None, None, None, None, None, None, None, None, None, None, None, None, None, None, None, None, None, None, None, None, None, None, None, None, None, None, None, None, None, None, None, None, None, None, None, None, None, None, None, None, None, None, None, None, None, None, None, None, None, None, None, None, None, None, None, None, None, None, None, None, None, None, None, None, None, None, None, None, None, None, None, None, None, None, None, None, None, None, None, None, None, None, None, None, None, None, None, None, None, None, None, None, None, None, None, None, None, None, None, None, None, None, None, None, None, None, None, None, None, None, None, None, None, None, None, None, None, None, None, None, None, None, None, None, None, None, None, None, None, None, None, None, None, None, None, None, None, None, None, None, None, None, None, None, None, None, None, None, None, None, None, None, None, None, None, None, None, None, None, None, None, None, None, None, None, None, None, None, None, None, None, None, None, None, None, None, None, None, None, None, None, None, None, None, None, None, None, None, None, None, None, None, None, None, None, None, None, None, None, None, None, None, None, None, None, None, None, None, None, None, None, None, None, None, None, None, None, None, None, None, None, None, None, None, None, None, None, None, None, None, None, None, None, None, None, None, None, None, None, None, None, None, None, None, None, None, None, None, None, None, None, None, None, None, None, None, None, None, None, None, None, None, None, None, None, None, None, None, None, None, None, None, None, None, None, None, None, None, None, None, None, None, None, None, None, None, None, None, None, None, None, None, None, None, None, None, None, None, None, None, None, None, None, None, None, None, None, None, None, None, None, None, None, None, None, None, None, None, None, None, None, None, None, None, None, None, None, None, None, None, None, None, None, None, None, None, None, None, None, None, None, None, None, None, None, None, None, None, None, None, None, None, None, None, None, None, None, None, None, None, None, None, None, None, None, None, None, None, None, None, None, None, None, None, None, None, None, None, None, None, None, None, None, None, None, None, None, None, None, None, None, None, None, None, None, None, None, None, None, None, None, None, None, None, None, None, None, None, None, None, None, None, None, None, None, None, None, None, None, None, None, None, None, None, None, None, None, None, None, None, None, None, None, None, None, None, None, None, None, None, None, None, None, None, None, None, None, None, None, None, None, None, None, None, None, None, None, None, None, None, None, None, None, None, None, None, None, None, None, None, None, None, None, None, None, None, None, None, None, None, None, None, None, None, None, None, None, None, None, None, None, None, None, None, None, None, None, None, None, None, None, None, None, None, None, None, None, None, None, None, None, None, None, None, None, None, None, None, None, None, None, None, None, None, None, None, None, None, None, None, None, None, None, None, None, None, None, None, None, None, None, None, None, None, None, None, None, None, None, None, None, None, None, None, None, None, None, None, None, None, None, None, None, None, None, None, None, None, None, None, None, None, None, None, None, None, None, None, None, None, None, None, None, None, None, None, None, None, None, None, None, None, None, None, None, None, None, None, None, None, None, None, None, None, None, None, None, None, None, None, None, None, None, None, None, None, None, None, None, None, None, None, None, None, None, None, None, None, None, None, None, None, None, None, None, None, None, None, None, None, None, None, None, None, None, None, None, None, None, None, None, None, None, None, None, None, None, None, None, None, None, None, None, None, None, None, None, None, None, None, None, None, None, None, None, None, None, None, None, None, None, None, None, None, None, None, None, None, None, None, None, None, None, None, None, None, None, None, None, None, None, None, None, None, None, None, None, None, None, None, None, None, None, None, None, None, None, None, None, None, None, None, None, None, None, None, None, None, None, None, None, None, None, None, None, None, None, None, None, None, None, None, None, None, None, None, None, None, None, None, None, None, None, None, None, None, None, None, None, None, None, None, None, None, None, None, None, None, None, None, None, None, None, None, None, None, None, None, None, None, None, None, None, None, None, None, None, None, None, None, None, None, None, None, None, None, None, None, None, None, None, None, None, None, None, None, None, None, None, None, None, None, None, None, None, None, None, None, None, None, None, None, None, None, None, None, None, None, None, None, None, None, None, None, None, None, None, None, None, None, None, None, None, None, None, None, None, None, None, None, None, None, None, None, None, None, None, None, None, None, None, None, None, None, None, None, None, None, None, None, None, None, None, None, None, None, None, None, None, None, None, None, None, None, None, None, None, None, None, None, None, None, None, None, None, None, None, None, None, None, None, None, None, None, None, None, None, None, None, None, None, None, None, None, None, None, None, None, None, None, None, None, None, None, None, None, None, None, None, None, None, None, None, None, None, None, None, None, None, None, None, None, None, None, None, None, None, None, None, None, None, None, None, None, None, None, None, None, None, None, None, None, None, None, None, None, None, None, None, None, None, None, None, None, None, None, None, None, None, None, None, None, None, None, None, None, None, None, None, None, None, None, None, None, None, None, None, None, None, None, None, None, None, None, None, None, None, None, None, None, None, None, None, None, None, None, None, None, None, None, None, None, None, None, None, None, None, None, None, None, None, None, None, None, None, None, None, None, None, None, None, None, None, None, None, None, None, None, None, None, None, None, None, None, None, None, None, None, None, None, None, None, None, None, None, None, None, None, None, None, None, None, None, None, None, None, None, None, None, None, None, None, None, None, None, None, None, None, None, None, None, None, None, None, None, None, None, None, None, None, None, None, None, None, None, None, None, None, None, None, None, None, None, None, None, None, None, None, None, None, None, None, None, None, None, None, None, None, None, None, None, None, None, None, None, None, None, None, None, None, None, None, None, None, None, None, None, None, None, None, None, None, None, None, None, None, None, None, None, None, None, None, None, None, None, None, None, None, None, None, None, None, None, None, None, None, None, None, None, None, None, None, None, None, None, None, None, None, None, None, None, None, None, None, None, None, None, None, None, None, None, None, None, None, None, None, None, None, None, None, None, None, None, None, None, None, None, None, None, None, None, None, None, None, None, None, None, None, None, None, None, None, None, None, None, None, None, None, None, None, None, None, None, None, None, None, None, None, None, None, None, None, None, None, None, None, None, None, None, None, None, None, None, None, None, None, None, None, None, None, None, None, None, None, None, None, None, None, None, None, None, None, None, None, None, None, None, None, None, None, None, None, None, None, None, None, None, None, None, None, None, None, None, None, None, None, None, None, None, None, None, None, None, None, None, None, None, None, None, None, None, None, None, None, None, None, None, None, None, None, None, None, None, None, None, None, None, None, None, None, None, None, None, None, None, None, None, None, None, None, None, None, None, None, None, None, None, None, None, None, None, None, None, None, None, None, None, None, None, None, None, None, None, None, None, None, None, None, None, None, None, None, None, None, None, None, None, None, None, None, None, None, None, None, None, None, None, None, None, None, None, None, None, None, None, None, None, None, None, None, None, None, None, None, None, None, None, None, None, None, None, None, None, None, None, None, None, None, None, None, None, None, None, None, None, None, None, None, None, None, None, None, None, None, None, None, None, None, None, None, None, None, None, None, None, None, None, None, None, None, None, None, None, None, None, None, None, None, None, None, None, None, None, None, None, None, None, None, None, None, None, None, None, None, None, None, None, None, None, None, None, None, None, None, None, None, None, None, None, None, None, None, None, None, None, None, None, None, None, None, None, None, None, None, None, None, None, None, None, None, None, None, None, None, None, None, None, None, None, None, None, None, None, None, None, None, None, None, None, None, None, None, None, None, None, None, None, None, None, None, None, None, None, None, None, None, None, None, None, None, None, None, None, None, None, None, None, None, None, None, None, None, None, None, None, None, None, None, None, None, None, None, None, None, None, None, None, None, None, None, None, None, None, None, None, None, None, None, None, None, None, None, None, None, None, None, None, None, None, None, None, None, None, None, None, None, None, None, None, None, None, None, None, None, None, None, None, None, None, None, None, None, None, None, None, None, None, None, None, None, None, None, None, None, None, None, None, None, None, None, None, None, None, None, None, None, None, None, None, None, None, None, None, None, None, None, None, None, None, None, None, None, None, None, None, None, None, None, None, None, None, None, None, None, None, None, None, None, None, None, None, None, None, None, None, None, None, None, None, None, None, None, None, None, None, None, None, None, None, None, None, None, None, None, None, None, None, None, None, None, None, None, None, None, None, None, None, None, None, None, None, None, None, None, None, None, None, None, None, None, None, None, None, None, None, None, None, None, None, None, None, None, None, None, None, None, None, None, None, None, None, None, None, None, None, None, None, None, None, None, None, None, None, None, None, None, None, None, None, None, None, None, None, None, None, None, None, None, None, None, None, None, None, None, None, None, None, None, None, None, None, None, None, None, None, None, None, None, None, None, None, None, None, None, None, None, None, None, None, None, None, None, None, None, None, None, None, None, None, None, None, None, None, None, None, None, None, None, None, None, None, None, None, None, None, None, None, None, None, None, None, None, None, None, None, None, None, None, None, None, None, None, None, None, None, None, None, None, None, None, None, None, None, None, None, None, None, None, None, None, None, None, None, None, None, None, None, None, None, None, None, None, None, None, None, None, None, None, None, None, None, None, None, None, None, None, None, None, None, None, None, None, None, None, None, None, None, None, None, None, None, None, None, None, None, None, None, None, None, None, None, None, None, None, None, None, None, None, None, None, None, None, None, None, None, None, None, None, None, None, None, None, None, None, None, None, None, None, None, None, None, None, None, None, None, None, None, None, None, None, None, None, None, None, None, None, None, None, None, None, None, None, None, None, None, None, None, None, None, None, None, None, None, None, None, None, None, None, None, None, None, None, None, None, None, None, None, None, None, None, None, None, None, None, None, None, None, None, None, None, None, None, None, None, None, None, None, None, None, None, None, None, None, None, None, None, None, None, None, None, None, None, None, None, None, None, None, None, None, None, None, None, None, None, None, None, None, None, None, None, None, None, None, None, None, None, None, None, None, None, None, None, None, None, None, None, None, None, None, None, None, None, None, None, None, None, None, None, None, None, None, None, None, None, None, None, None, None, None, None, None, None, None, None, None, None, None, None, None, None, None, None, None, None, None, None, None, None, None, None, None, None, None, None, None, None, None, None, None, None, None, None, None, None, None, None, None, None, None, None, None, None, None, None, None, None, None, None, None, None, None, None, None, None, None, None, None, None, None, None, None, None, None, None, None, None, None, None, None, None, None, None, None, None, None, None, None, None, None, None, None, None, None, None, None, None, None, None, None, None, None, None, None, None, None, None, None, None, None, None, None, None, None, None, None, None, None, None, None, None, None, None, None, None, None, None, None, None, None, None, None, None, None, None, None, None, None, None, None, None, None, None, None, None, None, None, None, None, None, None, None, None, None, None, None, None, None, None, None, None, None, None, None, None, None, None, None, None, None, None, None, None, None, None, None, None, None, None, None, None, None, None, None, None, None, None, None, None, None, None, None, None, None, None, None, None, None, None, None, None, None, None, None, None, None, None, None, None, None, None, None, None, None, None, None, None, None, None, None, None, None, None, None, None, None, None, None, None, None, None, None, None, None, None, None, None, None, None, None, None, None, None, None, None, None, None, None, None, None, None, None, None, None, None, None, None, None, None, None, None, None, None, None, None, None, None, None, None, None, None, None, None, None, None, None, None, None, None, None, None, None, None, None, None, None, None, None, None, None, None, None, None, None, None, None, None, None, None, None, None, None, None, None, None, None, None, None, None, None, None, None, None, None, None, None, None, None, None, None, None, None, None, None, None, None, None, None, None, None, None, None, None, None, None, None, None, None, None, None, None, None, None, None, None, None, None, None, None, None, None, None, None, None, None, None, None, None, None, None, None, None, None, None, None, None, None, None, None, None, None, None, None, None, None, None, None, None, None, None, None, None, None, None, None, None, None, None, None, None, None, None, None, None, None, None, None, None, None, None, None, None, None, None, None, None, None, None, None, None, None, None, None, None, None, None, None, None, None, None, None, None, None, None, None, None, None, None, None, None, None, None, None, None, None, None, None, None, None, None, None, None, None, None, None, None, None, None, None, None, None, None, None, None, None, None, None, None, None, None, None, None, None, None, None, None, None, None, None, None, None, None, None, None, None, None, None, None, None, None, None, None, None, None, None, None, None, None, None, None, None, None, None, None, None, None, None, None, None, None, None, None, None, None, None, None, None, None, None, None, None, None, None, None, None, None, None, None, None, None, None, None, None, None, None, None, None, None, None, None, None, None, None, None, None, None, None, None, None, None, None, None, None, None, None, None, None, None, None, None, None, None, None, None, None, None, None, None, None, None, None, None, None, None, None, None, None, None, None, None, None, None, None, None, None, None, None, None, None, None, None, None, None, None, None, None, None, None, None, None, None, None, None, None, None, None, None, None, None, None, None, None, None, None, None, None, None, None, None, None, None, None, None, None, None, None, None, None, None, None, None, None, None, None, None, None, None, None, None, None, None, None, None, None, None, None, None, None, None, None, None, None, None, None, None, None, None, None, None, None, None, None, None, None, None, None, None, None, None, None, None, None, None, None, None, None, None, None, None, None, None, None, None, None, None, None, None, None, None, None, None, None, None, None, None, None, None, None, None, None, None, None, None, None, None, None, None, None, None, None, None, None, None, None, None, None, None, None, None, None, None, None, None, None, None, None, None, None, None, None, None, None, None, None, None, None, None, None, None, None, None, None, None, None, None, None, None, None, None, None, None, None, None, None, None, None, None, None, None, None, None, None, None, None, None, None, None, None, None, None, None, None, None, None, None, None, None, None, None, None, None, None, None, None, None, None, None, None, None, None, None, None, None, None, None, None, None, None, None, None, None, None, None, None, None, None, None, None, None, None, None, None, None, None, None, None, None, None, None, None, None, None, None, None, None, None, None, None, None, None, None, None, None, None, None, None, None, None, None, None, None, None, None, None, None, None, None, None, None, None, None, None, None, None, None, None, None, None, None, None, None, None, None, None, None, None, None, None, None, None, None, None, None, None, None, None, None, None, None, None, None, None, None, None, None, None, None, None, None, None, None, None, None, None, None, None, None, None, None, None, None, None, None, None, None, None, None, None, None, None, None, None, None, None, None, None, None, None, None, None, None, None, None, None, None, None, None, None, None, None, None, None, None, None, None, None, None, None, None, None, None, None, None, None, None, None, None, None, None, None, None, None, None, None, None, None, None, None, None, None, None, None, None, None, None, None, None, None, None, None, None, None, None, None, None, None, None, None, None, None, None, None, None, None, None, None, None, None, None, None, None, None, None, None, None, None, None, None, None, None, None, None, None, None, None, None, None, None, None, None, None, None, None, None, None, None, None, None, None, None, None, None, None, None, None, None, None, None, None, None, None, None, None, None, None, None, None, None, None, None, None, None, None, None, None, None, None, None, None, None, None, None, None, None, None, None, None, None, None, None, None, None, None, None, None, None, None, None, None, None, None, None, None, None, None, None, None, None, None, None, None, None, None, None, None, None, None, None, None, None, None, None, None, None, None, None, None, None, None, None, None, None, None, None, None, None, None, None, None, None, None, None, None, None, None, None, None, None, None, None, None, None, None, None, None, None, None, None, None, None, None, None, None, None, None, None, None, None, None, None, None, None, None, None, None, None, None, None, None, None, None, None, None, None, None, None, None, None, None, None, None, None, None, None, None, None, None, None, None, None, None, None, None, None, None, None, None, None, None, None, None, None, None, None, None, None, None, None, None, None, None, None, None, None, None, None, None, None, None, None, None, None, None, None, None, None, None, None, None, None, None, None, None, None, None, None, None, None, None, None, None, None, None, None, None, None, None, None, None, None, None, None, None, None, None, None, None, None, None, None, None, None, None, None, None, None, None, None, None, None, None, None, None, None, None, None, None, None, None, None, None, None], \n",
            "\tover the training epochs, respectively.\n"
          ],
          "name": "stdout"
        }
      ]
    },
    {
      "cell_type": "markdown",
      "metadata": {
        "id": "47DGt7MKNhDu"
      },
      "source": [
        "#### Visualizing the plots:"
      ]
    },
    {
      "cell_type": "code",
      "metadata": {
        "id": "Ffs5QkbRNhDu",
        "colab": {
          "base_uri": "https://localhost:8080/",
          "height": 573
        },
        "outputId": "66c0faf6-3e0c-4b6e-eb23-33a2f40bd09a"
      },
      "source": [
        "plot_loss_graph(tr_loss,val_loss)\n",
        "plot_auc_graph(tr_auc,val_auc) \n",
        "\n"
      ],
      "execution_count": 234,
      "outputs": [
        {
          "output_type": "display_data",
          "data": {
            "image/png": "[encoded data removed]",
            "text/plain": [
              "<Figure size 432x288 with 1 Axes>"
            ]
          },
          "metadata": {
            "tags": [],
            "needs_background": "light"
          }
        },
        {
          "output_type": "display_data",
          "data": {
            "image/png": "[encoded data removed]",
            "text/plain": [
              "<Figure size 432x288 with 1 Axes>"
            ]
          },
          "metadata": {
            "tags": [],
            "needs_background": "light"
          }
        }
      ]
    },
    {
      "cell_type": "markdown",
      "metadata": {
        "id": "TpCqUVVkpINB"
      },
      "source": [
        "We got a loss of ~0.33 on validation set when auc on validation set is ~0.92. we stopped the training when the validation loss improvment is too small over 5 consecutive epoches "
      ]
    },
    {
      "cell_type": "markdown",
      "metadata": {
        "id": "l0rfAb_anAnE"
      },
      "source": [
        "**Adding Hidden layers to classifyer**\r\n",
        "Now we want to check if adding more hidden layers to the classifyer will improve the results"
      ]
    },
    {
      "cell_type": "code",
      "metadata": {
        "colab": {
          "base_uri": "https://localhost:8080/",
          "height": 1000
        },
        "id": "_hQGPw-ynOpG",
        "outputId": "a6682f29-2836-42a3-eb2c-39e152b11070"
      },
      "source": [
        "classifyer_with_3_layers = nn.Sequential(\r\n",
        "    nn.Linear(512, 20), nn.Linear(20, 10), nn.Linear(10, 2))\r\n",
        "net_with_3_layers_in_head = MyResNet(classifyer_with_3_layers, 18)\r\n",
        "tr_loss_3_layers, val_loss_3_layers, test_loss_3_layers, tr_auc_3_layers, val_auc_3_layers, untrained_test_loss_3_layers, untrained_test_auc_3_layers = training_loop(\r\n",
        "    args,\r\n",
        "    net_with_3_layers_in_head,\r\n",
        "    X_extracted_features_train,\r\n",
        "    y_extracted_features_train,\r\n",
        "    X_extracted_features_test,\r\n",
        "    y_extracted_features_test,\r\n",
        "    val_dataloader=None,\r\n",
        "    criterion_func=nn.CrossEntropyLoss\r\n",
        ")\r\n",
        "plot_loss_graph(tr_loss_3_layers, val_loss_3_layers)\r\n",
        "plot_auc_graph(tr_auc_3_layers, val_auc_3_layers)"
      ],
      "execution_count": 235,
      "outputs": [
        {
          "output_type": "stream",
          "text": [
            "100%|██████████| 11/11 [00:00<00:00, 234.56it/s]\n",
            "100%|██████████| 11/11 [00:00<00:00, 259.68it/s]\n",
            "100%|██████████| 11/11 [00:00<00:00, 298.32it/s]\n",
            "100%|██████████| 11/11 [00:00<00:00, 282.27it/s]\n",
            "100%|██████████| 11/11 [00:00<00:00, 291.13it/s]\n",
            "  0%|          | 0/11 [00:00<?, ?it/s]"
          ],
          "name": "stderr"
        },
        {
          "output_type": "stream",
          "text": [
            "Train loss: 7.13e-01, Val loss: 6.97e-01\n",
            "Best val loss is: 6.97e-01\n",
            "Train loss: 6.83e-01, Val loss: 6.77e-01\n",
            "Best val loss is: 6.77e-01\n",
            "Train loss: 6.63e-01, Val loss: 6.56e-01\n",
            "Best val loss is: 6.56e-01\n",
            "Train loss: 6.42e-01, Val loss: 6.36e-01\n",
            "Best val loss is: 6.36e-01\n",
            "Train loss: 6.22e-01, Val loss: 6.16e-01\n",
            "Best val loss is: 6.16e-01\n"
          ],
          "name": "stdout"
        },
        {
          "output_type": "stream",
          "text": [
            "100%|██████████| 11/11 [00:00<00:00, 250.18it/s]\n",
            "100%|██████████| 11/11 [00:00<00:00, 277.91it/s]\n",
            "100%|██████████| 11/11 [00:00<00:00, 268.07it/s]\n",
            "100%|██████████| 11/11 [00:00<00:00, 179.56it/s]\n",
            "  0%|          | 0/11 [00:00<?, ?it/s]"
          ],
          "name": "stderr"
        },
        {
          "output_type": "stream",
          "text": [
            "Train loss: 6.01e-01, Val loss: 5.96e-01\n",
            "Best val loss is: 5.96e-01\n",
            "Train loss: 5.80e-01, Val loss: 5.76e-01\n",
            "Best val loss is: 5.76e-01\n",
            "Train loss: 5.59e-01, Val loss: 5.56e-01\n",
            "Best val loss is: 5.56e-01\n",
            "Train loss: 5.39e-01, Val loss: 5.37e-01\n",
            "Best val loss is: 5.37e-01\n"
          ],
          "name": "stdout"
        },
        {
          "output_type": "stream",
          "text": [
            "100%|██████████| 11/11 [00:00<00:00, 246.55it/s]\n",
            "100%|██████████| 11/11 [00:00<00:00, 238.50it/s]\n",
            "100%|██████████| 11/11 [00:00<00:00, 270.99it/s]\n",
            "100%|██████████| 11/11 [00:00<00:00, 269.40it/s]\n",
            "100%|██████████| 11/11 [00:00<00:00, 285.33it/s]"
          ],
          "name": "stderr"
        },
        {
          "output_type": "stream",
          "text": [
            "Train loss: 5.19e-01, Val loss: 5.19e-01\n",
            "Best val loss is: 5.19e-01\n",
            "Train loss: 5.00e-01, Val loss: 5.02e-01\n",
            "Best val loss is: 5.02e-01\n",
            "Train loss: 4.81e-01, Val loss: 4.86e-01\n",
            "Best val loss is: 4.86e-01\n",
            "Train loss: 4.64e-01, Val loss: 4.72e-01\n",
            "Best val loss is: 4.72e-01\n",
            "Train loss: 4.48e-01, Val loss: 4.59e-01\n",
            "Best val loss is: 4.59e-01\n"
          ],
          "name": "stdout"
        },
        {
          "output_type": "stream",
          "text": [
            "\n",
            "100%|██████████| 11/11 [00:00<00:00, 253.47it/s]\n",
            "100%|██████████| 11/11 [00:00<00:00, 277.34it/s]\n",
            "100%|██████████| 11/11 [00:00<00:00, 275.98it/s]\n",
            "100%|██████████| 11/11 [00:00<00:00, 256.68it/s]\n",
            "100%|██████████| 11/11 [00:00<00:00, 262.34it/s]"
          ],
          "name": "stderr"
        },
        {
          "output_type": "stream",
          "text": [
            "Train loss: 4.34e-01, Val loss: 4.48e-01\n",
            "Best val loss is: 4.48e-01\n",
            "Train loss: 4.20e-01, Val loss: 4.38e-01\n",
            "Best val loss is: 4.38e-01\n",
            "Train loss: 4.08e-01, Val loss: 4.29e-01\n",
            "Best val loss is: 4.29e-01\n",
            "Train loss: 3.97e-01, Val loss: 4.21e-01\n",
            "Best val loss is: 4.21e-01\n",
            "Train loss: 3.87e-01, Val loss: 4.14e-01"
          ],
          "name": "stdout"
        },
        {
          "output_type": "stream",
          "text": [
            "\n",
            "100%|██████████| 11/11 [00:00<00:00, 264.42it/s]\n",
            "100%|██████████| 11/11 [00:00<00:00, 259.78it/s]\n",
            "100%|██████████| 11/11 [00:00<00:00, 266.99it/s]\n",
            "100%|██████████| 11/11 [00:00<00:00, 284.98it/s]"
          ],
          "name": "stderr"
        },
        {
          "output_type": "stream",
          "text": [
            "\n",
            "Best val loss is: 4.14e-01\n",
            "Train loss: 3.78e-01, Val loss: 4.07e-01\n",
            "Best val loss is: 4.07e-01\n",
            "Train loss: 3.69e-01, Val loss: 4.02e-01\n",
            "Best val loss is: 4.02e-01\n",
            "Train loss: 3.62e-01, Val loss: 3.97e-01\n",
            "Best val loss is: 3.97e-01\n",
            "Train loss: 3.54e-01, Val loss: 3.92e-01\n",
            "Best val loss is: 3.92e-01\n"
          ],
          "name": "stdout"
        },
        {
          "output_type": "stream",
          "text": [
            "\n",
            "100%|██████████| 11/11 [00:00<00:00, 261.84it/s]\n",
            "100%|██████████| 11/11 [00:00<00:00, 287.29it/s]\n",
            "100%|██████████| 11/11 [00:00<00:00, 270.47it/s]\n",
            "100%|██████████| 11/11 [00:00<00:00, 256.05it/s]\n",
            "100%|██████████| 11/11 [00:00<00:00, 261.74it/s]"
          ],
          "name": "stderr"
        },
        {
          "output_type": "stream",
          "text": [
            "Train loss: 3.48e-01, Val loss: 3.88e-01\n",
            "Best val loss is: 3.88e-01\n",
            "Train loss: 3.42e-01, Val loss: 3.85e-01\n",
            "Best val loss is: 3.85e-01\n",
            "Train loss: 3.36e-01, Val loss: 3.81e-01\n",
            "Best val loss is: 3.81e-01\n",
            "Train loss: 3.30e-01, Val loss: 3.78e-01\n",
            "Best val loss is: 3.78e-01\n"
          ],
          "name": "stdout"
        },
        {
          "output_type": "stream",
          "text": [
            "\n",
            "100%|██████████| 11/11 [00:00<00:00, 277.46it/s]\n",
            "100%|██████████| 11/11 [00:00<00:00, 303.18it/s]\n",
            "100%|██████████| 11/11 [00:00<00:00, 262.89it/s]\n",
            "100%|██████████| 11/11 [00:00<00:00, 260.80it/s]"
          ],
          "name": "stderr"
        },
        {
          "output_type": "stream",
          "text": [
            "Train loss: 3.25e-01, Val loss: 3.76e-01\n",
            "Best val loss is: 3.76e-01\n",
            "Train loss: 3.21e-01, Val loss: 3.73e-01\n",
            "Best val loss is: 3.73e-01\n",
            "Train loss: 3.16e-01, Val loss: 3.71e-01\n",
            "Best val loss is: 3.71e-01\n",
            "Train loss: 3.12e-01, Val loss: 3.69e-01\n",
            "Best val loss is: 3.69e-01\n"
          ],
          "name": "stdout"
        },
        {
          "output_type": "stream",
          "text": [
            "\n",
            "100%|██████████| 11/11 [00:00<00:00, 292.95it/s]\n",
            "100%|██████████| 11/11 [00:00<00:00, 300.05it/s]\n",
            "100%|██████████| 11/11 [00:00<00:00, 272.20it/s]\n",
            "100%|██████████| 11/11 [00:00<00:00, 300.49it/s]\n",
            "  0%|          | 0/11 [00:00<?, ?it/s]"
          ],
          "name": "stderr"
        },
        {
          "output_type": "stream",
          "text": [
            "Train loss: 3.08e-01, Val loss: 3.67e-01\n",
            "Best val loss is: 3.67e-01\n",
            "Train loss: 3.04e-01, Val loss: 3.65e-01\n",
            "Best val loss is: 3.65e-01\n",
            "Train loss: 3.01e-01, Val loss: 3.64e-01\n",
            "Best val loss is: 3.64e-01\n",
            "Train loss: 2.98e-01, Val loss: 3.62e-01\n",
            "Best val loss is: 3.62e-01\n",
            "Train loss: 2.94e-01, Val loss: 3.61e-01\n",
            "Best val loss is: 3.61e-01\n"
          ],
          "name": "stdout"
        },
        {
          "output_type": "stream",
          "text": [
            "100%|██████████| 11/11 [00:00<00:00, 271.93it/s]\n",
            "100%|██████████| 11/11 [00:00<00:00, 295.18it/s]\n",
            "100%|██████████| 11/11 [00:00<00:00, 279.34it/s]\n",
            "100%|██████████| 11/11 [00:00<00:00, 301.37it/s]\n",
            "100%|██████████| 11/11 [00:00<00:00, 248.73it/s]\n",
            "  0%|          | 0/11 [00:00<?, ?it/s]"
          ],
          "name": "stderr"
        },
        {
          "output_type": "stream",
          "text": [
            "Train loss: 2.91e-01, Val loss: 3.60e-01\n",
            "Best val loss is: 3.60e-01\n",
            "Train loss: 2.88e-01, Val loss: 3.59e-01\n",
            "Best val loss is: 3.59e-01\n",
            "Train loss: 2.85e-01, Val loss: 3.58e-01\n",
            "Best val loss is: 3.58e-01\n",
            "Train loss: 2.83e-01, Val loss: 3.57e-01\n",
            "Best val loss is: 3.57e-01\n",
            "Train loss: 2.80e-01, Val loss: 3.56e-01\n",
            "Best val loss is: 3.56e-01\n"
          ],
          "name": "stdout"
        },
        {
          "output_type": "stream",
          "text": [
            "100%|██████████| 11/11 [00:00<00:00, 264.85it/s]\n",
            "100%|██████████| 11/11 [00:00<00:00, 284.18it/s]\n",
            "100%|██████████| 11/11 [00:00<00:00, 274.69it/s]\n",
            "100%|██████████| 11/11 [00:00<00:00, 291.66it/s]\n",
            "100%|██████████| 11/11 [00:00<00:00, 308.71it/s]\n",
            "  0%|          | 0/11 [00:00<?, ?it/s]"
          ],
          "name": "stderr"
        },
        {
          "output_type": "stream",
          "text": [
            "Train loss: 2.78e-01, Val loss: 3.55e-01\n",
            "Best val loss is: 3.55e-01\n",
            "Train loss: 2.75e-01, Val loss: 3.55e-01\n",
            "Best val loss is: 3.55e-01\n",
            "Train loss: 2.73e-01, Val loss: 3.54e-01\n",
            "Best val loss is: 3.54e-01\n",
            "Train loss: 2.71e-01, Val loss: 3.53e-01\n",
            "Best val loss is: 3.53e-01\n",
            "Train loss: 2.69e-01, Val loss: 3.53e-01\n",
            "Best val loss is: 3.53e-01\n"
          ],
          "name": "stdout"
        },
        {
          "output_type": "stream",
          "text": [
            "100%|██████████| 11/11 [00:00<00:00, 251.94it/s]\n",
            "100%|██████████| 11/11 [00:00<00:00, 294.79it/s]\n",
            "100%|██████████| 11/11 [00:00<00:00, 297.96it/s]\n",
            "100%|██████████| 11/11 [00:00<00:00, 265.22it/s]\n",
            "100%|██████████| 11/11 [00:00<00:00, 294.43it/s]\n",
            "  0%|          | 0/11 [00:00<?, ?it/s]"
          ],
          "name": "stderr"
        },
        {
          "output_type": "stream",
          "text": [
            "Train loss: 2.66e-01, Val loss: 3.53e-01\n",
            "Best val loss is: 3.53e-01\n",
            "Train loss: 2.64e-01, Val loss: 3.52e-01\n",
            "Best val loss is: 3.52e-01\n",
            "Train loss: 2.62e-01, Val loss: 3.52e-01\n",
            "Best val loss is: 3.52e-01\n",
            "Train loss: 2.61e-01, Val loss: 3.52e-01\n",
            "Best val loss is: 3.52e-01\n",
            "Train loss: 2.59e-01, Val loss: 3.51e-01\n",
            "Best val loss is: 3.51e-01\n"
          ],
          "name": "stdout"
        },
        {
          "output_type": "stream",
          "text": [
            "100%|██████████| 11/11 [00:00<00:00, 262.28it/s]\n",
            "100%|██████████| 11/11 [00:00<00:00, 269.63it/s]\n",
            "100%|██████████| 11/11 [00:00<00:00, 292.68it/s]\n",
            "100%|██████████| 11/11 [00:00<00:00, 296.05it/s]\n",
            "100%|██████████| 11/11 [00:00<00:00, 297.35it/s]\n",
            "  0%|          | 0/11 [00:00<?, ?it/s]"
          ],
          "name": "stderr"
        },
        {
          "output_type": "stream",
          "text": [
            "Train loss: 2.57e-01, Val loss: 3.51e-01\n",
            "Best val loss is: 3.51e-01\n",
            "Train loss: 2.55e-01, Val loss: 3.51e-01\n",
            "Best val loss is: 3.51e-01\n",
            "Train loss: 2.53e-01, Val loss: 3.51e-01\n",
            "Best val loss is: 3.51e-01\n",
            "Train loss: 2.52e-01, Val loss: 3.51e-01\n",
            "Best val loss is: 3.51e-01\n",
            "Train loss: 2.50e-01, Val loss: 3.51e-01\n",
            "Best val loss is: 3.51e-01\n"
          ],
          "name": "stdout"
        },
        {
          "output_type": "stream",
          "text": [
            "100%|██████████| 11/11 [00:00<00:00, 269.78it/s]\n",
            "100%|██████████| 11/11 [00:00<00:00, 300.44it/s]\n",
            "100%|██████████| 11/11 [00:00<00:00, 279.81it/s]\n"
          ],
          "name": "stderr"
        },
        {
          "output_type": "stream",
          "text": [
            "Train loss: 2.49e-01, Val loss: 3.51e-01\n",
            "Best val loss is: 3.51e-01\n",
            "Train loss: 2.47e-01, Val loss: 3.51e-01\n",
            "Best val loss is: 3.51e-01\n",
            "Train loss: 2.46e-01, Val loss: 3.51e-01\n",
            "Best val loss is: 3.51e-01\n",
            "Stopped training after 59/5000 epochs.\n",
            "The loss is 7.45e-01 before training and 3.51e-01 after training.\n",
            "The training and validation losses are \n",
            "\t[0.7125059509277344, 0.6834049224853516, 0.6629479217529297, 0.6422764587402344, 0.621848373413086, 0.6011237335205079, 0.5802664566040039, 0.5594439697265625, 0.5388616943359374, 0.5187923431396484, 0.49951419830322263, 0.4812431335449219, 0.4641450881958008, 0.4483062744140625, 0.43374061584472656, 0.42041290283203125, 0.4082490921020508, 0.39715675354003904, 0.387035026550293, 0.37778339385986326, 0.36930667877197265, 0.36151771545410155, 0.35433841705322267, 0.3476995849609375, 0.34154056549072265, 0.33580860137939456, 0.3304578399658203, 0.3254482650756836, 0.3207452011108398, 0.31631860733032224, 0.3121420097351074, 0.30819225311279297, 0.3044491195678711, 0.3008946228027344, 0.29751291275024416, 0.29428979873657224, 0.2912127494812012, 0.2882704162597656, 0.28545251846313474, 0.2827499580383301, 0.2801544189453125, 0.2776582527160645, 0.27525470733642576, 0.27293731689453127, 0.27070045471191406, 0.26853887557983397, 0.2664476013183594, 0.2644223213195801, 0.2624588775634766, 0.2605534934997559, 0.2587027740478516, 0.25690343856811526, 0.2551525115966797, 0.253447208404541, 0.25178510665893555, 0.2501637268066406, 0.24858091354370118, 0.24703458786010743, 0.24552295684814454, None, None, None, None, None, None, None, None, None, None, None, None, None, None, None, None, None, None, None, None, None, None, None, None, None, None, None, None, None, None, None, None, None, None, None, None, None, None, None, None, None, None, None, None, None, None, None, None, None, None, None, None, None, None, None, None, None, None, None, None, None, None, None, None, None, None, None, None, None, None, None, None, None, None, None, None, None, None, None, None, None, None, None, None, None, None, None, None, None, None, None, None, None, None, None, None, None, None, None, None, None, None, None, None, None, None, None, None, None, None, None, None, None, None, None, None, None, None, None, None, None, None, None, None, None, None, None, None, None, None, None, None, None, None, None, None, None, None, None, None, None, None, None, None, None, None, None, None, None, None, None, None, None, None, None, None, None, None, None, None, None, None, None, None, None, None, None, None, None, None, None, None, None, None, None, None, None, None, None, None, None, None, None, None, None, None, None, None, None, None, None, None, None, None, None, None, None, None, None, None, None, None, None, None, None, None, None, None, None, None, None, None, None, None, None, None, None, None, None, None, None, None, None, None, None, None, None, None, None, None, None, None, None, None, None, None, None, None, None, None, None, None, None, None, None, None, None, None, None, None, None, None, None, None, None, None, None, None, None, None, None, None, None, None, None, None, None, None, None, None, None, None, None, None, None, None, None, None, None, None, None, None, None, None, None, None, None, None, None, None, None, None, None, None, None, None, None, None, None, None, None, None, None, None, None, None, None, None, None, None, None, None, None, None, None, None, None, None, None, None, None, None, None, None, None, None, None, None, None, None, None, None, None, None, None, None, None, None, None, None, None, None, None, None, None, None, None, None, None, None, None, None, None, None, None, None, None, None, None, None, None, None, None, None, None, None, None, None, None, None, None, None, None, None, None, None, None, None, None, None, None, None, None, None, None, None, None, None, None, None, None, None, None, None, None, None, None, None, None, None, None, None, None, None, None, None, None, None, None, None, None, None, None, None, None, None, None, None, None, None, None, None, None, None, None, None, None, None, None, None, None, None, None, None, None, None, None, None, None, None, None, None, None, None, None, None, None, None, None, None, None, None, None, None, None, None, None, None, None, None, None, None, None, None, None, None, None, None, None, None, None, None, None, None, None, None, None, None, None, None, None, None, None, None, None, None, None, None, None, None, None, None, None, None, None, None, None, None, None, None, None, None, None, None, None, None, None, None, None, None, None, None, None, None, None, None, None, None, None, None, None, None, None, None, None, None, None, None, None, None, None, None, None, None, None, None, None, None, None, None, None, None, None, None, None, None, None, None, None, None, None, None, None, None, None, None, None, None, None, None, None, None, None, None, None, None, None, None, None, None, None, None, None, None, None, None, None, None, None, None, None, None, None, None, None, None, None, None, None, None, None, None, None, None, None, None, None, None, None, None, None, None, None, None, None, None, None, None, None, None, None, None, None, None, None, None, None, None, None, None, None, None, None, None, None, None, None, None, None, None, None, None, None, None, None, None, None, None, None, None, None, None, None, None, None, None, None, None, None, None, None, None, None, None, None, None, None, None, None, None, None, None, None, None, None, None, None, None, None, None, None, None, None, None, None, None, None, None, None, None, None, None, None, None, None, None, None, None, None, None, None, None, None, None, None, None, None, None, None, None, None, None, None, None, None, None, None, None, None, None, None, None, None, None, None, None, None, None, None, None, None, None, None, None, None, None, None, None, None, None, None, None, None, None, None, None, None, None, None, None, None, None, None, None, None, None, None, None, None, None, None, None, None, None, None, None, None, None, None, None, None, None, None, None, None, None, None, None, None, None, None, None, None, None, None, None, None, None, None, None, None, None, None, None, None, None, None, None, None, None, None, None, None, None, None, None, None, None, None, None, None, None, None, None, None, None, None, None, None, None, None, None, None, None, None, None, None, None, None, None, None, None, None, None, None, None, None, None, None, None, None, None, None, None, None, None, None, None, None, None, None, None, None, None, None, None, None, None, None, None, None, None, None, None, None, None, None, None, None, None, None, None, None, None, None, None, None, None, None, None, None, None, None, None, None, None, None, None, None, None, None, None, None, None, None, None, None, None, None, None, None, None, None, None, None, None, None, None, None, None, None, None, None, None, None, None, None, None, None, None, None, None, None, None, None, None, None, None, None, None, None, None, None, None, None, None, None, None, None, None, None, None, None, None, None, None, None, None, None, None, None, None, None, None, None, None, None, None, None, None, None, None, None, None, None, None, None, None, None, None, None, None, None, None, None, None, None, None, None, None, None, None, None, None, None, None, None, None, None, None, None, None, None, None, None, None, None, None, None, None, None, None, None, None, None, None, None, None, None, None, None, None, None, None, None, None, None, None, None, None, None, None, None, None, None, None, None, None, None, None, None, None, None, None, None, None, None, None, None, None, None, None, None, None, None, None, None, None, None, None, None, None, None, None, None, None, None, None, None, None, None, None, None, None, None, None, None, None, None, None, None, None, None, None, None, None, None, None, None, None, None, None, None, None, None, None, None, None, None, None, None, None, None, None, None, None, None, None, None, None, None, None, None, None, None, None, None, None, None, None, None, None, None, None, None, None, None, None, None, None, None, None, None, None, None, None, None, None, None, None, None, None, None, None, None, None, None, None, None, None, None, None, None, None, None, None, None, None, None, None, None, None, None, None, None, None, None, None, None, None, None, None, None, None, None, None, None, None, None, None, None, None, None, None, None, None, None, None, None, None, None, None, None, None, None, None, None, None, None, None, None, None, None, None, None, None, None, None, None, None, None, None, None, None, None, None, None, None, None, None, None, None, None, None, None, None, None, None, None, None, None, None, None, None, None, None, None, None, None, None, None, None, None, None, None, None, None, None, None, None, None, None, None, None, None, None, None, None, None, None, None, None, None, None, None, None, None, None, None, None, None, None, None, None, None, None, None, None, None, None, None, None, None, None, None, None, None, None, None, None, None, None, None, None, None, None, None, None, None, None, None, None, None, None, None, None, None, None, None, None, None, None, None, None, None, None, None, None, None, None, None, None, None, None, None, None, None, None, None, None, None, None, None, None, None, None, None, None, None, None, None, None, None, None, None, None, None, None, None, None, None, None, None, None, None, None, None, None, None, None, None, None, None, None, None, None, None, None, None, None, None, None, None, None, None, None, None, None, None, None, None, None, None, None, None, None, None, None, None, None, None, None, None, None, None, None, None, None, None, None, None, None, None, None, None, None, None, None, None, None, None, None, None, None, None, None, None, None, None, None, None, None, None, None, None, None, None, None, None, None, None, None, None, None, None, None, None, None, None, None, None, None, None, None, None, None, None, None, None, None, None, None, None, None, None, None, None, None, None, None, None, None, None, None, None, None, None, None, None, None, None, None, None, None, None, None, None, None, None, None, None, None, None, None, None, None, None, None, None, None, None, None, None, None, None, None, None, None, None, None, None, None, None, None, None, None, None, None, None, None, None, None, None, None, None, None, None, None, None, None, None, None, None, None, None, None, None, None, None, None, None, None, None, None, None, None, None, None, None, None, None, None, None, None, None, None, None, None, None, None, None, None, None, None, None, None, None, None, None, None, None, None, None, None, None, None, None, None, None, None, None, None, None, None, None, None, None, None, None, None, None, None, None, None, None, None, None, None, None, None, None, None, None, None, None, None, None, None, None, None, None, None, None, None, None, None, None, None, None, None, None, None, None, None, None, None, None, None, None, None, None, None, None, None, None, None, None, None, None, None, None, None, None, None, None, None, None, None, None, None, None, None, None, None, None, None, None, None, None, None, None, None, None, None, None, None, None, None, None, None, None, None, None, None, None, None, None, None, None, None, None, None, None, None, None, None, None, None, None, None, None, None, None, None, None, None, None, None, None, None, None, None, None, None, None, None, None, None, None, None, None, None, None, None, None, None, None, None, None, None, None, None, None, None, None, None, None, None, None, None, None, None, None, None, None, None, None, None, None, None, None, None, None, None, None, None, None, None, None, None, None, None, None, None, None, None, None, None, None, None, None, None, None, None, None, None, None, None, None, None, None, None, None, None, None, None, None, None, None, None, None, None, None, None, None, None, None, None, None, None, None, None, None, None, None, None, None, None, None, None, None, None, None, None, None, None, None, None, None, None, None, None, None, None, None, None, None, None, None, None, None, None, None, None, None, None, None, None, None, None, None, None, None, None, None, None, None, None, None, None, None, None, None, None, None, None, None, None, None, None, None, None, None, None, None, None, None, None, None, None, None, None, None, None, None, None, None, None, None, None, None, None, None, None, None, None, None, None, None, None, None, None, None, None, None, None, None, None, None, None, None, None, None, None, None, None, None, None, None, None, None, None, None, None, None, None, None, None, None, None, None, None, None, None, None, None, None, None, None, None, None, None, None, None, None, None, None, None, None, None, None, None, None, None, None, None, None, None, None, None, None, None, None, None, None, None, None, None, None, None, None, None, None, None, None, None, None, None, None, None, None, None, None, None, None, None, None, None, None, None, None, None, None, None, None, None, None, None, None, None, None, None, None, None, None, None, None, None, None, None, None, None, None, None, None, None, None, None, None, None, None, None, None, None, None, None, None, None, None, None, None, None, None, None, None, None, None, None, None, None, None, None, None, None, None, None, None, None, None, None, None, None, None, None, None, None, None, None, None, None, None, None, None, None, None, None, None, None, None, None, None, None, None, None, None, None, None, None, None, None, None, None, None, None, None, None, None, None, None, None, None, None, None, None, None, None, None, None, None, None, None, None, None, None, None, None, None, None, None, None, None, None, None, None, None, None, None, None, None, None, None, None, None, None, None, None, None, None, None, None, None, None, None, None, None, None, None, None, None, None, None, None, None, None, None, None, None, None, None, None, None, None, None, None, None, None, None, None, None, None, None, None, None, None, None, None, None, None, None, None, None, None, None, None, None, None, None, None, None, None, None, None, None, None, None, None, None, None, None, None, None, None, None, None, None, None, None, None, None, None, None, None, None, None, None, None, None, None, None, None, None, None, None, None, None, None, None, None, None, None, None, None, None, None, None, None, None, None, None, None, None, None, None, None, None, None, None, None, None, None, None, None, None, None, None, None, None, None, None, None, None, None, None, None, None, None, None, None, None, None, None, None, None, None, None, None, None, None, None, None, None, None, None, None, None, None, None, None, None, None, None, None, None, None, None, None, None, None, None, None, None, None, None, None, None, None, None, None, None, None, None, None, None, None, None, None, None, None, None, None, None, None, None, None, None, None, None, None, None, None, None, None, None, None, None, None, None, None, None, None, None, None, None, None, None, None, None, None, None, None, None, None, None, None, None, None, None, None, None, None, None, None, None, None, None, None, None, None, None, None, None, None, None, None, None, None, None, None, None, None, None, None, None, None, None, None, None, None, None, None, None, None, None, None, None, None, None, None, None, None, None, None, None, None, None, None, None, None, None, None, None, None, None, None, None, None, None, None, None, None, None, None, None, None, None, None, None, None, None, None, None, None, None, None, None, None, None, None, None, None, None, None, None, None, None, None, None, None, None, None, None, None, None, None, None, None, None, None, None, None, None, None, None, None, None, None, None, None, None, None, None, None, None, None, None, None, None, None, None, None, None, None, None, None, None, None, None, None, None, None, None, None, None, None, None, None, None, None, None, None, None, None, None, None, None, None, None, None, None, None, None, None, None, None, None, None, None, None, None, None, None, None, None, None, None, None, None, None, None, None, None, None, None, None, None, None, None, None, None, None, None, None, None, None, None, None, None, None, None, None, None, None, None, None, None, None, None, None, None, None, None, None, None, None, None, None, None, None, None, None, None, None, None, None, None, None, None, None, None, None, None, None, None, None, None, None, None, None, None, None, None, None, None, None, None, None, None, None, None, None, None, None, None, None, None, None, None, None, None, None, None, None, None, None, None, None, None, None, None, None, None, None, None, None, None, None, None, None, None, None, None, None, None, None, None, None, None, None, None, None, None, None, None, None, None, None, None, None, None, None, None, None, None, None, None, None, None, None, None, None, None, None, None, None, None, None, None, None, None, None, None, None, None, None, None, None, None, None, None, None, None, None, None, None, None, None, None, None, None, None, None, None, None, None, None, None, None, None, None, None, None, None, None, None, None, None, None, None, None, None, None, None, None, None, None, None, None, None, None, None, None, None, None, None, None, None, None, None, None, None, None, None, None, None, None, None, None, None, None, None, None, None, None, None, None, None, None, None, None, None, None, None, None, None, None, None, None, None, None, None, None, None, None, None, None, None, None, None, None, None, None, None, None, None, None, None, None, None, None, None, None, None, None, None, None, None, None, None, None, None, None, None, None, None, None, None, None, None, None, None, None, None, None, None, None, None, None, None, None, None, None, None, None, None, None, None, None, None, None, None, None, None, None, None, None, None, None, None, None, None, None, None, None, None, None, None, None, None, None, None, None, None, None, None, None, None, None, None, None, None, None, None, None, None, None, None, None, None, None, None, None, None, None, None, None, None, None, None, None, None, None, None, None, None, None, None, None, None, None, None, None, None, None, None, None, None, None, None, None, None, None, None, None, None, None, None, None, None, None, None, None, None, None, None, None, None, None, None, None, None, None, None, None, None, None, None, None, None, None, None, None, None, None, None, None, None, None, None, None, None, None, None, None, None, None, None, None, None, None, None, None, None, None, None, None, None, None, None, None, None, None, None, None, None, None, None, None, None, None, None, None, None, None, None, None, None, None, None, None, None, None, None, None, None, None, None, None, None, None, None, None, None, None, None, None, None, None, None, None, None, None, None, None, None, None, None, None, None, None, None, None, None, None, None, None, None, None, None, None, None, None, None, None, None, None, None, None, None, None, None, None, None, None, None, None, None, None, None, None, None, None, None, None, None, None, None, None, None, None, None, None, None, None, None, None, None, None, None, None, None, None, None, None, None, None, None, None, None, None, None, None, None, None, None, None, None, None, None, None, None, None, None, None, None, None, None, None, None, None, None, None, None, None, None, None, None, None, None, None, None, None, None, None, None, None, None, None, None, None, None, None, None, None, None, None, None, None, None, None, None, None, None, None, None, None, None, None, None, None, None, None, None, None, None, None, None, None, None, None, None, None, None, None, None, None, None, None, None, None, None, None, None, None, None, None, None, None, None, None, None, None, None, None, None, None, None, None, None, None, None, None, None, None, None, None, None, None, None, None, None, None, None, None, None, None, None, None, None, None, None, None, None, None, None, None, None, None, None, None, None, None, None, None, None, None, None, None, None, None, None, None, None, None, None, None, None, None, None, None, None, None, None, None, None, None, None, None, None, None, None, None, None, None, None, None, None, None, None, None, None, None, None, None, None, None, None, None, None, None, None, None, None, None, None, None, None, None, None, None, None, None, None, None, None, None, None, None, None, None, None, None, None, None, None, None, None, None, None, None, None, None, None, None, None, None, None, None, None, None, None, None, None, None, None, None, None, None, None, None, None, None, None, None, None, None, None, None, None, None, None, None, None, None, None, None, None, None, None, None, None, None, None, None, None, None, None, None, None, None, None, None, None, None, None, None, None, None, None, None, None, None, None, None, None, None, None, None, None, None, None, None, None, None, None, None, None, None, None, None, None, None, None, None, None, None, None, None, None, None, None, None, None, None, None, None, None, None, None, None, None, None, None, None, None, None, None, None, None, None, None, None, None, None, None, None, None, None, None, None, None, None, None, None, None, None, None, None, None, None, None, None, None, None, None, None, None, None, None, None, None, None, None, None, None, None, None, None, None, None, None, None, None, None, None, None, None, None, None, None, None, None, None, None, None, None, None, None, None, None, None, None, None, None, None, None, None, None, None, None, None, None, None, None, None, None, None, None, None, None, None, None, None, None, None, None, None, None, None, None, None, None, None, None, None, None, None, None, None, None, None, None, None, None, None, None, None, None, None, None, None, None, None, None, None, None, None, None, None, None, None, None, None, None, None, None, None, None, None, None, None, None, None, None, None, None, None, None, None, None, None, None, None, None, None, None, None, None, None, None, None, None, None, None, None, None, None, None, None, None, None, None, None, None, None, None, None, None, None, None, None, None, None, None, None, None, None, None, None, None, None, None, None, None, None, None, None, None, None, None, None, None, None, None, None, None, None, None, None, None, None, None, None, None, None, None, None, None, None, None, None, None, None, None, None, None, None, None, None, None, None, None, None, None, None, None, None, None, None, None, None, None, None, None, None, None, None, None, None, None, None, None, None, None, None, None, None, None, None, None, None, None, None, None, None, None, None, None, None, None, None, None, None, None, None, None, None, None, None, None, None, None, None, None, None, None, None, None, None, None, None, None, None, None, None, None, None, None, None, None, None, None, None, None, None, None, None, None, None, None, None, None, None, None, None, None, None, None, None, None, None, None, None, None, None, None, None, None, None, None, None, None, None, None, None, None, None, None, None, None, None, None, None, None, None, None, None, None, None, None, None, None, None, None, None, None, None, None, None, None, None, None, None, None, None, None, None, None, None, None, None, None, None, None, None, None, None, None, None, None, None, None, None, None, None, None, None, None, None, None, None, None, None, None, None, None, None, None, None, None, None, None, None, None, None, None, None, None, None, None, None, None, None, None, None, None, None, None, None, None, None, None, None, None, None, None, None, None, None, None, None, None, None, None, None, None, None, None, None, None, None, None, None, None, None, None, None, None, None, None, None, None, None, None, None, None, None, None, None, None, None, None, None, None, None, None, None, None, None, None, None, None, None, None, None, None, None, None, None, None, None, None, None, None, None, None, None, None, None, None, None, None, None, None, None, None, None, None, None, None, None, None, None, None, None, None, None, None, None, None, None, None, None, None, None, None, None, None, None, None, None, None, None, None, None, None, None, None, None, None, None, None, None, None, None, None, None, None, None, None, None, None, None, None, None, None, None, None, None, None, None, None, None, None, None, None, None, None, None, None, None, None, None, None, None, None, None, None, None, None, None, None, None, None, None, None, None, None, None, None, None, None, None, None, None, None, None, None, None, None, None, None, None, None, None, None, None, None, None, None, None, None, None, None, None, None, None, None, None, None, None, None, None, None, None, None, None, None, None, None, None, None, None, None, None, None, None, None, None, None, None, None, None, None, None, None, None, None, None, None, None, None, None, None, None, None, None, None, None, None, None, None, None, None, None, None, None, None, None, None, None, None, None, None, None, None, None, None, None, None, None, None, None, None, None, None, None, None, None, None, None, None, None, None, None, None, None, None, None, None, None, None, None, None, None, None, None, None, None, None, None, None, None, None, None, None, None, None, None, None, None, None, None, None, None, None, None, None, None, None, None, None, None, None, None, None, None, None, None, None, None, None, None, None, None, None, None, None, None, None, None, None, None, None, None, None, None, None, None, None, None, None, None, None, None, None, None, None, None, None, None, None, None, None, None, None, None, None, None, None, None, None, None, None, None, None, None, None, None, None, None, None, None, None, None, None, None, None, None, None, None, None, None, None, None, None, None, None, None, None, None, None, None, None, None, None, None, None, None, None, None, None, None, None, None, None, None, None, None, None, None, None, None, None, None, None, None, None, None, None, None, None, None, None, None, None, None, None, None, None, None, None, None, None, None, None, None, None, None, None, None, None, None, None, None, None, None, None, None, None, None, None, None, None, None, None, None, None, None, None, None, None, None, None, None, None, None, None, None, None, None, None, None, None, None, None, None, None, None, None, None, None, None, None, None, None, None, None, None, None, None, None, None, None, None, None, None, None, None, None, None, None, None, None, None, None, None, None, None, None, None, None, None, None, None, None, None, None, None, None, None, None, None, None, None, None, None, None, None, None, None, None, None, None, None, None, None, None, None, None, None, None, None, None, None, None, None, None, None, None, None, None, None, None, None, None, None, None, None, None, None, None, None, None, None, None, None, None, None, None, None, None, None, None, None, None, None, None, None, None, None, None, None, None, None, None, None, None, None, None, None, None, None, None, None, None, None, None, None, None, None, None, None, None, None, None, None, None, None, None, None, None, None, None, None, None, None, None, None, None, None, None, None, None, None, None, None, None, None, None, None, None, None, None, None, None, None, None, None, None, None, None, None, None, None, None, None, None, None, None, None, None, None, None, None, None, None, None, None, None, None, None, None, None, None, None, None, None, None, None, None, None, None, None, None, None, None, None, None, None, None, None, None, None, None, None, None, None, None, None, None, None, None, None, None, None, None, None, None, None, None, None, None, None, None, None, None, None, None, None, None, None, None, None, None, None, None, None, None, None, None, None, None, None, None, None, None, None, None, None, None, None, None, None, None, None, None, None, None, None, None, None, None, None, None, None, None, None, None, None, None, None, None, None, None, None, None, None, None, None, None, None, None, None, None, None, None, None, None, None, None, None, None, None, None, None, None, None, None, None, None, None, None, None, None, None, None, None, None, None, None, None, None, None, None, None, None, None, None, None, None, None, None, None, None, None, None, None, None, None, None, None, None, None, None, None, None, None, None, None, None, None, None, None, None, None, None, None, None, None, None, None, None, None, None, None, None, None, None, None, None, None, None, None, None, None, None, None, None, None, None, None, None, None, None, None, None, None, None, None, None, None, None, None, None, None, None, None, None, None, None, None, None, None, None, None, None, None, None, None, None, None, None, None, None, None, None, None, None, None, None, None, None, None, None, None, None, None, None, None, None, None, None, None, None, None, None, None, None, None, None, None, None, None, None, None, None, None, None, None, None, None, None, None, None, None, None, None, None, None, None, None, None, None, None, None, None, None, None, None, None, None, None, None, None, None, None, None, None, None, None, None, None, None, None, None, None, None, None, None, None, None, None, None, None, None, None, None, None, None, None, None, None, None, None, None, None, None, None, None, None, None, None, None, None, None, None, None, None, None, None, None, None, None, None, None, None, None, None, None, None, None, None, None, None, None, None, None, None, None, None, None, None, None, None, None, None, None, None, None, None, None, None, None, None, None, None, None, None, None, None, None, None, None, None, None, None, None, None, None, None, None, None, None, None, None, None, None, None, None, None, None, None, None, None, None, None, None, None, None, None, None, None, None, None, None, None, None, None, None, None, None, None, None, None, None, None, None, None, None, None, None, None, None, None, None, None, None, None, None, None, None, None, None, None, None, None, None, None, None, None, None, None, None, None, None, None, None, None, None, None, None, None, None, None, None, None, None, None, None, None, None, None, None, None, None, None, None, None, None, None, None, None, None, None, None, None, None, None, None, None, None, None, None, None, None, None, None, None, None, None, None, None, None, None, None, None, None, None, None, None, None, None, None, None, None, None, None, None, None, None, None, None, None, None, None, None, None, None, None, None, None, None, None, None, None, None, None, None, None, None, None, None, None, None, None, None, None, None, None, None, None, None, None, None, None, None, None, None, None, None, None, None, None, None, None, None, None, None, None, None, None], \n",
            "\t[0.6971222162246704, 0.6770263910293579, 0.6560268998146057, 0.6360796689987183, 0.6157550811767578, 0.5955466032028198, 0.5755318999290466, 0.5558673143386841, 0.5368438959121704, 0.5187567472457886, 0.5018169283866882, 0.48620477318763733, 0.4720073342323303, 0.45922690629959106, 0.4478127956390381, 0.4376661479473114, 0.4286700189113617, 0.4206976592540741, 0.41362565755844116, 0.40734097361564636, 0.4017406404018402, 0.3967348635196686, 0.3922466039657593, 0.38820958137512207, 0.38456809520721436, 0.38127389550209045, 0.3782874643802643, 0.3755738139152527, 0.3731042444705963, 0.37085339426994324, 0.36879977583885193, 0.36692506074905396, 0.3652127981185913, 0.363648921251297, 0.36222097277641296, 0.36091774702072144, 0.359729528427124, 0.3586476147174835, 0.3576638400554657, 0.3567712604999542, 0.35596394538879395, 0.35523518919944763, 0.3545799255371094, 0.3539934456348419, 0.3534714877605438, 0.35301005840301514, 0.35260504484176636, 0.35225293040275574, 0.3519511818885803, 0.35169681906700134, 0.35148707032203674, 0.35131916403770447, 0.3511912524700165, 0.35110098123550415, 0.3510466516017914, 0.351026326417923, 0.35103848576545715, 0.3510814309120178, 0.35115376114845276, None, None, None, None, None, None, None, None, None, None, None, None, None, None, None, None, None, None, None, None, None, None, None, None, None, None, None, None, None, None, None, None, None, None, None, None, None, None, None, None, None, None, None, None, None, None, None, None, None, None, None, None, None, None, None, None, None, None, None, None, None, None, None, None, None, None, None, None, None, None, None, None, None, None, None, None, None, None, None, None, None, None, None, None, None, None, None, None, None, None, None, None, None, None, None, None, None, None, None, None, None, None, None, None, None, None, None, None, None, None, None, None, None, None, None, None, None, None, None, None, None, None, None, None, None, None, None, None, None, None, None, None, None, None, None, None, None, None, None, None, None, None, None, None, None, None, None, None, None, None, None, None, None, None, None, None, None, None, None, None, None, None, None, None, None, None, None, None, None, None, None, None, None, None, None, None, None, None, None, None, None, None, None, None, None, None, None, None, None, None, None, None, None, None, None, None, None, None, None, None, None, None, None, None, None, None, None, None, None, None, None, None, None, None, None, None, None, None, None, None, None, None, None, None, None, None, None, None, None, None, None, None, None, None, None, None, None, None, None, None, None, None, None, None, None, None, None, None, None, None, None, None, None, None, None, None, None, None, None, None, None, None, None, None, None, None, None, None, None, None, None, None, None, None, None, None, None, None, None, None, None, None, None, None, None, None, None, None, None, None, None, None, None, None, None, None, None, None, None, None, None, None, None, None, None, None, None, None, None, None, None, None, None, None, None, None, None, None, None, None, None, None, None, None, None, None, None, None, None, None, None, None, None, None, None, None, None, None, None, None, None, None, None, None, None, None, None, None, None, None, None, None, None, None, None, None, None, None, None, None, None, None, None, None, None, None, None, None, None, None, None, None, None, None, None, None, None, None, None, None, None, None, None, None, None, None, None, None, None, None, None, None, None, None, None, None, None, None, None, None, None, None, None, None, None, None, None, None, None, None, None, None, None, None, None, None, None, None, None, None, None, None, None, None, None, None, None, None, None, None, None, None, None, None, None, None, None, None, None, None, None, None, None, None, None, None, None, None, None, None, None, None, None, None, None, None, None, None, None, None, None, None, None, None, None, None, None, None, None, None, None, None, None, None, None, None, None, None, None, None, None, None, None, None, None, None, None, None, None, None, None, None, None, None, None, None, None, None, None, None, None, None, None, None, None, None, None, None, None, None, None, None, None, None, None, None, None, None, None, None, None, None, None, None, None, None, None, None, None, None, None, None, None, None, None, None, None, None, None, None, None, None, None, None, None, None, None, None, None, None, None, None, None, None, None, None, None, None, None, None, None, None, None, None, None, None, None, None, None, None, None, None, None, None, None, None, None, None, None, None, None, None, None, None, None, None, None, None, None, None, None, None, None, None, None, None, None, None, None, None, None, None, None, None, None, None, None, None, None, None, None, None, None, None, None, None, None, None, None, None, None, None, None, None, None, None, None, None, None, None, None, None, None, None, None, None, None, None, None, None, None, None, None, None, None, None, None, None, None, None, None, None, None, None, None, None, None, None, None, None, None, None, None, None, None, None, None, None, None, None, None, None, None, None, None, None, None, None, None, None, None, None, None, None, None, None, None, None, None, None, None, None, None, None, None, None, None, None, None, None, None, None, None, None, None, None, None, None, None, None, None, None, None, None, None, None, None, None, None, None, None, None, None, None, None, None, None, None, None, None, None, None, None, None, None, None, None, None, None, None, None, None, None, None, None, None, None, None, None, None, None, None, None, None, None, None, None, None, None, None, None, None, None, None, None, None, None, None, None, None, None, None, None, None, None, None, None, None, None, None, None, None, None, None, None, None, None, None, None, None, None, None, None, None, None, None, None, None, None, None, None, None, None, None, None, None, None, None, None, None, None, None, None, None, None, None, None, None, None, None, None, None, None, None, None, None, None, None, None, None, None, None, None, None, None, None, None, None, None, None, None, None, None, None, None, None, None, None, None, None, None, None, None, None, None, None, None, None, None, None, None, None, None, None, None, None, None, None, None, None, None, None, None, None, None, None, None, None, None, None, None, None, None, None, None, None, None, None, None, None, None, None, None, None, None, None, None, None, None, None, None, None, None, None, None, None, None, None, None, None, None, None, None, None, None, None, None, None, None, None, None, None, None, None, None, None, None, None, None, None, None, None, None, None, None, None, None, None, None, None, None, None, None, None, None, None, None, None, None, None, None, None, None, None, None, None, None, None, None, None, None, None, None, None, None, None, None, None, None, None, None, None, None, None, None, None, None, None, None, None, None, None, None, None, None, None, None, None, None, None, None, None, None, None, None, None, None, None, None, None, None, None, None, None, None, None, None, None, None, None, None, None, None, None, None, None, None, None, None, None, None, None, None, None, None, None, None, None, None, None, None, None, None, None, None, None, None, None, None, None, None, None, None, None, None, None, None, None, None, None, None, None, None, None, None, None, None, None, None, None, None, None, None, None, None, None, None, None, None, None, None, None, None, None, None, None, None, None, None, None, None, None, None, None, None, None, None, None, None, None, None, None, None, None, None, None, None, None, None, None, None, None, None, None, None, None, None, None, None, None, None, None, None, None, None, None, None, None, None, None, None, None, None, None, None, None, None, None, None, None, None, None, None, None, None, None, None, None, None, None, None, None, None, None, None, None, None, None, None, None, None, None, None, None, None, None, None, None, None, None, None, None, None, None, None, None, None, None, None, None, None, None, None, None, None, None, None, None, None, None, None, None, None, None, None, None, None, None, None, None, None, None, None, None, None, None, None, None, None, None, None, None, None, None, None, None, None, None, None, None, None, None, None, None, None, None, None, None, None, None, None, None, None, None, None, None, None, None, None, None, None, None, None, None, None, None, None, None, None, None, None, None, None, None, None, None, None, None, None, None, None, None, None, None, None, None, None, None, None, None, None, None, None, None, None, None, None, None, None, None, None, None, None, None, None, None, None, None, None, None, None, None, None, None, None, None, None, None, None, None, None, None, None, None, None, None, None, None, None, None, None, None, None, None, None, None, None, None, None, None, None, None, None, None, None, None, None, None, None, None, None, None, None, None, None, None, None, None, None, None, None, None, None, None, None, None, None, None, None, None, None, None, None, None, None, None, None, None, None, None, None, None, None, None, None, None, None, None, None, None, None, None, None, None, None, None, None, None, None, None, None, None, None, None, None, None, None, None, None, None, None, None, None, None, None, None, None, None, None, None, None, None, None, None, None, None, None, None, None, None, None, None, None, None, None, None, None, None, None, None, None, None, None, None, None, None, None, None, None, None, None, None, None, None, None, None, None, None, None, None, None, None, None, None, None, None, None, None, None, None, None, None, None, None, None, None, None, None, None, None, None, None, None, None, None, None, None, None, None, None, None, None, None, None, None, None, None, None, None, None, None, None, None, None, None, None, None, None, None, None, None, None, None, None, None, None, None, None, None, None, None, None, None, None, None, None, None, None, None, None, None, None, None, None, None, None, None, None, None, None, None, None, None, None, None, None, None, None, None, None, None, None, None, None, None, None, None, None, None, None, None, None, None, None, None, None, None, None, None, None, None, None, None, None, None, None, None, None, None, None, None, None, None, None, None, None, None, None, None, None, None, None, None, None, None, None, None, None, None, None, None, None, None, None, None, None, None, None, None, None, None, None, None, None, None, None, None, None, None, None, None, None, None, None, None, None, None, None, None, None, None, None, None, None, None, None, None, None, None, None, None, None, None, None, None, None, None, None, None, None, None, None, None, None, None, None, None, None, None, None, None, None, None, None, None, None, None, None, None, None, None, None, None, None, None, None, None, None, None, None, None, None, None, None, None, None, None, None, None, None, None, None, None, None, None, None, None, None, None, None, None, None, None, None, None, None, None, None, None, None, None, None, None, None, None, None, None, None, None, None, None, None, None, None, None, None, None, None, None, None, None, None, None, None, None, None, None, None, None, None, None, None, None, None, None, None, None, None, None, None, None, None, None, None, None, None, None, None, None, None, None, None, None, None, None, None, None, None, None, None, None, None, None, None, None, None, None, None, None, None, None, None, None, None, None, None, None, None, None, None, None, None, None, None, None, None, None, None, None, None, None, None, None, None, None, None, None, None, None, None, None, None, None, None, None, None, None, None, None, None, None, None, None, None, None, None, None, None, None, None, None, None, None, None, None, None, None, None, None, None, None, None, None, None, None, None, None, None, None, None, None, None, None, None, None, None, None, None, None, None, None, None, None, None, None, None, None, None, None, None, None, None, None, None, None, None, None, None, None, None, None, None, None, None, None, None, None, None, None, None, None, None, None, None, None, None, None, None, None, None, None, None, None, None, None, None, None, None, None, None, None, None, None, None, None, None, None, None, None, None, None, None, None, None, None, None, None, None, None, None, None, None, None, None, None, None, None, None, None, None, None, None, None, None, None, None, None, None, None, None, None, None, None, None, None, None, None, None, None, None, None, None, None, None, None, None, None, None, None, None, None, None, None, None, None, None, None, None, None, None, None, None, None, None, None, None, None, None, None, None, None, None, None, None, None, None, None, None, None, None, None, None, None, None, None, None, None, None, None, None, None, None, None, None, None, None, None, None, None, None, None, None, None, None, None, None, None, None, None, None, None, None, None, None, None, None, None, None, None, None, None, None, None, None, None, None, None, None, None, None, None, None, None, None, None, None, None, None, None, None, None, None, None, None, None, None, None, None, None, None, None, None, None, None, None, None, None, None, None, None, None, None, None, None, None, None, None, None, None, None, None, None, None, None, None, None, None, None, None, None, None, None, None, None, None, None, None, None, None, None, None, None, None, None, None, None, None, None, None, None, None, None, None, None, None, None, None, None, None, None, None, None, None, None, None, None, None, None, None, None, None, None, None, None, None, None, None, None, None, None, None, None, None, None, None, None, None, None, None, None, None, None, None, None, None, None, None, None, None, None, None, None, None, None, None, None, None, None, None, None, None, None, None, None, None, None, None, None, None, None, None, None, None, None, None, None, None, None, None, None, None, None, None, None, None, None, None, None, None, None, None, None, None, None, None, None, None, None, None, None, None, None, None, None, None, None, None, None, None, None, None, None, None, None, None, None, None, None, None, None, None, None, None, None, None, None, None, None, None, None, None, None, None, None, None, None, None, None, None, None, None, None, None, None, None, None, None, None, None, None, None, None, None, None, None, None, None, None, None, None, None, None, None, None, None, None, None, None, None, None, None, None, None, None, None, None, None, None, None, None, None, None, None, None, None, None, None, None, None, None, None, None, None, None, None, None, None, None, None, None, None, None, None, None, None, None, None, None, None, None, None, None, None, None, None, None, None, None, None, None, None, None, None, None, None, None, None, None, None, None, None, None, None, None, None, None, None, None, None, None, None, None, None, None, None, None, None, None, None, None, None, None, None, None, None, None, None, None, None, None, None, None, None, None, None, None, None, None, None, None, None, None, None, None, None, None, None, None, None, None, None, None, None, None, None, None, None, None, None, None, None, None, None, None, None, None, None, None, None, None, None, None, None, None, None, None, None, None, None, None, None, None, None, None, None, None, None, None, None, None, None, None, None, None, None, None, None, None, None, None, None, None, None, None, None, None, None, None, None, None, None, None, None, None, None, None, None, None, None, None, None, None, None, None, None, None, None, None, None, None, None, None, None, None, None, None, None, None, None, None, None, None, None, None, None, None, None, None, None, None, None, None, None, None, None, None, None, None, None, None, None, None, None, None, None, None, None, None, None, None, None, None, None, None, None, None, None, None, None, None, None, None, None, None, None, None, None, None, None, None, None, None, None, None, None, None, None, None, None, None, None, None, None, None, None, None, None, None, None, None, None, None, None, None, None, None, None, None, None, None, None, None, None, None, None, None, None, None, None, None, None, None, None, None, None, None, None, None, None, None, None, None, None, None, None, None, None, None, None, None, None, None, None, None, None, None, None, None, None, None, None, None, None, None, None, None, None, None, None, None, None, None, None, None, None, None, None, None, None, None, None, None, None, None, None, None, None, None, None, None, None, None, None, None, None, None, None, None, None, None, None, None, None, None, None, None, None, None, None, None, None, None, None, None, None, None, None, None, None, None, None, None, None, None, None, None, None, None, None, None, None, None, None, None, None, None, None, None, None, None, None, None, None, None, None, None, None, None, None, None, None, None, None, None, None, None, None, None, None, None, None, None, None, None, None, None, None, None, None, None, None, None, None, None, None, None, None, None, None, None, None, None, None, None, None, None, None, None, None, None, None, None, None, None, None, None, None, None, None, None, None, None, None, None, None, None, None, None, None, None, None, None, None, None, None, None, None, None, None, None, None, None, None, None, None, None, None, None, None, None, None, None, None, None, None, None, None, None, None, None, None, None, None, None, None, None, None, None, None, None, None, None, None, None, None, None, None, None, None, None, None, None, None, None, None, None, None, None, None, None, None, None, None, None, None, None, None, None, None, None, None, None, None, None, None, None, None, None, None, None, None, None, None, None, None, None, None, None, None, None, None, None, None, None, None, None, None, None, None, None, None, None, None, None, None, None, None, None, None, None, None, None, None, None, None, None, None, None, None, None, None, None, None, None, None, None, None, None, None, None, None, None, None, None, None, None, None, None, None, None, None, None, None, None, None, None, None, None, None, None, None, None, None, None, None, None, None, None, None, None, None, None, None, None, None, None, None, None, None, None, None, None, None, None, None, None, None, None, None, None, None, None, None, None, None, None, None, None, None, None, None, None, None, None, None, None, None, None, None, None, None, None, None, None, None, None, None, None, None, None, None, None, None, None, None, None, None, None, None, None, None, None, None, None, None, None, None, None, None, None, None, None, None, None, None, None, None, None, None, None, None, None, None, None, None, None, None, None, None, None, None, None, None, None, None, None, None, None, None, None, None, None, None, None, None, None, None, None, None, None, None, None, None, None, None, None, None, None, None, None, None, None, None, None, None, None, None, None, None, None, None, None, None, None, None, None, None, None, None, None, None, None, None, None, None, None, None, None, None, None, None, None, None, None, None, None, None, None, None, None, None, None, None, None, None, None, None, None, None, None, None, None, None, None, None, None, None, None, None, None, None, None, None, None, None, None, None, None, None, None, None, None, None, None, None, None, None, None, None, None, None, None, None, None, None, None, None, None, None, None, None, None, None, None, None, None, None, None, None, None, None, None, None, None, None, None, None, None, None, None, None, None, None, None, None, None, None, None, None, None, None, None, None, None, None, None, None, None, None, None, None, None, None, None, None, None, None, None, None, None, None, None, None, None, None, None, None, None, None, None, None, None, None, None, None, None, None, None, None, None, None, None, None, None, None, None, None, None, None, None, None, None, None, None, None, None, None, None, None, None, None, None, None, None, None, None, None, None, None, None, None, None, None, None, None, None, None, None, None, None, None, None, None, None, None, None, None, None, None, None, None, None, None, None, None, None, None, None, None, None, None, None, None, None, None, None, None, None, None, None, None, None, None, None, None, None, None, None, None, None, None, None, None, None, None, None, None, None, None, None, None, None, None, None, None, None, None, None, None, None, None, None, None, None, None, None, None, None, None, None, None, None, None, None, None, None, None, None, None, None, None, None, None, None, None, None, None, None, None, None, None, None, None, None, None, None, None, None, None, None, None, None, None, None, None, None, None, None, None, None, None, None, None, None, None, None, None, None, None, None, None, None, None, None, None, None, None, None, None, None, None, None, None, None, None, None, None, None, None, None, None, None, None, None, None, None, None, None, None, None, None, None, None, None, None, None, None, None, None, None, None, None, None, None, None, None, None, None, None, None, None, None, None, None, None, None, None, None, None, None, None, None, None, None, None, None, None, None, None, None, None, None, None, None, None, None, None, None, None, None, None, None, None, None, None, None, None, None, None, None, None, None, None, None, None, None, None, None, None, None, None, None, None, None, None, None, None, None, None, None, None, None, None, None, None, None, None, None, None, None, None, None, None, None, None, None, None, None, None, None, None, None, None, None, None, None, None, None, None, None, None, None, None, None, None, None, None, None, None, None, None, None, None, None, None, None, None, None, None, None, None, None, None, None, None, None, None, None, None, None, None, None, None, None, None, None, None, None, None, None, None, None, None, None, None, None, None, None, None, None, None, None, None, None, None, None, None, None, None, None, None, None, None, None, None, None, None, None, None, None, None, None, None, None, None, None, None, None, None, None, None, None, None, None, None, None, None, None, None, None, None, None, None, None, None, None, None, None, None, None, None, None, None, None, None, None, None, None, None, None, None, None, None, None, None, None, None, None, None, None, None, None, None, None, None, None, None, None, None, None, None, None, None, None, None, None, None, None, None, None, None, None, None, None, None, None, None, None, None, None, None, None, None, None, None, None, None, None, None, None, None, None, None, None, None, None, None, None, None, None, None, None, None, None, None, None, None, None, None, None, None, None, None, None, None, None, None, None, None, None, None, None, None, None, None, None, None, None, None, None, None, None, None, None, None, None, None, None, None, None, None, None, None, None, None, None, None, None, None, None, None, None, None, None, None, None, None, None, None, None, None, None, None, None, None, None, None, None, None, None, None, None, None, None, None, None, None, None, None, None, None, None, None, None, None, None, None, None, None, None, None, None, None, None, None, None, None, None, None, None, None, None, None, None, None, None, None, None, None, None, None, None, None, None, None, None, None, None, None, None, None, None, None, None, None, None, None, None, None, None, None, None, None, None, None, None, None, None, None, None, None, None, None, None, None, None, None, None, None, None, None, None, None, None, None, None, None, None, None, None, None, None, None, None, None, None, None, None, None, None, None, None, None, None, None, None, None, None, None, None, None, None, None, None, None, None, None, None, None, None, None, None, None, None, None, None, None, None, None, None, None, None, None, None, None, None, None, None, None, None, None, None, None, None, None, None, None, None, None, None, None, None, None, None, None, None, None, None, None, None, None, None, None, None, None, None, None, None, None, None, None, None, None, None, None, None, None, None, None, None, None, None, None, None, None, None, None, None, None, None, None, None, None, None, None, None, None, None, None, None, None, None, None, None, None, None, None, None, None, None, None, None, None, None, None, None, None, None, None, None, None, None, None, None, None, None, None, None, None, None, None, None, None, None, None, None, None, None, None, None, None, None, None, None, None, None, None, None, None, None, None, None, None, None, None, None, None, None, None, None, None, None, None, None, None, None, None, None, None, None, None, None, None, None, None, None, None, None, None, None, None, None, None, None, None, None, None, None, None, None, None, None, None, None, None, None, None, None, None, None, None, None, None, None, None, None, None, None, None, None, None, None, None, None, None, None, None, None, None, None, None, None, None, None, None, None, None, None, None, None, None, None, None, None, None, None, None, None, None, None, None, None, None, None, None, None, None, None, None, None, None, None, None, None, None, None, None, None, None, None, None, None, None, None, None, None, None, None, None, None, None, None, None, None, None, None, None, None, None, None, None, None, None, None, None, None, None, None, None, None, None, None, None, None, None, None, None, None, None, None, None, None, None, None, None, None, None, None, None, None, None, None, None, None, None, None, None, None, None, None, None, None, None, None, None, None, None, None, None, None, None, None, None, None, None, None, None, None, None, None, None, None, None, None, None, None, None, None, None, None, None, None, None, None, None, None, None, None, None, None, None, None, None, None, None, None, None, None, None, None, None, None, None, None, None, None, None, None, None, None, None, None, None, None, None, None, None, None, None, None, None, None, None, None, None, None, None, None, None, None, None, None, None, None, None, None, None, None, None, None, None, None, None, None, None, None, None, None, None, None, None, None, None, None, None, None, None, None, None, None, None, None, None, None, None, None, None, None, None, None, None, None, None, None, None, None, None, None, None, None, None, None, None, None, None, None, None, None, None, None, None, None, None, None, None, None, None, None, None, None, None, None, None, None, None, None, None, None, None, None, None, None, None, None, None, None, None, None, None, None, None, None, None, None, None, None, None, None, None, None, None, None, None, None, None, None, None, None, None, None, None, None, None, None, None, None, None, None, None, None, None, None, None, None, None, None, None, None, None, None, None, None, None, None, None, None, None, None, None, None, None, None, None, None, None, None, None, None, None, None, None, None, None, None, None, None, None, None, None, None, None, None, None, None, None, None, None, None, None, None, None, None, None, None, None, None, None, None, None, None, None, None, None, None, None, None, None, None, None, None, None, None, None, None, None, None, None, None, None, None, None, None, None, None, None, None, None, None, None, None, None, None, None, None, None, None, None, None, None, None, None, None, None, None, None, None, None, None, None, None, None, None, None, None, None, None, None, None, None, None, None, None, None, None, None, None, None, None, None, None, None, None, None, None, None, None, None, None, None, None, None, None, None, None, None, None, None, None, None, None, None, None, None, None, None, None, None, None, None, None, None, None, None, None, None, None, None, None, None, None, None, None, None, None, None, None, None, None, None, None, None, None, None, None, None, None, None, None, None, None, None, None, None, None, None, None, None, None, None, None, None, None, None, None, None, None, None, None, None, None, None, None, None, None, None, None, None, None, None, None, None, None, None, None, None, None, None, None, None, None, None, None, None, None, None, None, None, None, None, None, None, None, None, None, None, None, None, None, None, None, None, None, None, None, None, None, None, None, None, None, None, None, None, None, None, None, None, None, None, None, None, None, None, None, None, None, None, None, None, None, None, None, None, None, None, None, None, None, None, None, None, None, None, None, None, None, None, None, None, None, None, None, None, None, None, None, None, None, None, None, None, None, None, None, None, None, None, None, None, None, None, None, None, None, None, None, None, None, None, None, None, None, None, None, None, None, None, None, None, None, None, None, None, None, None, None, None, None, None, None, None, None, None, None, None, None, None, None, None, None, None, None, None, None, None, None, None, None, None, None, None, None, None, None, None, None, None, None, None, None, None, None, None, None, None, None, None, None, None, None, None, None, None, None, None, None, None, None, None, None, None, None, None, None, None, None, None, None, None, None, None, None, None, None, None, None, None, None, None, None, None, None, None, None, None, None, None, None, None, None, None, None, None, None, None, None, None, None, None, None, None, None, None, None, None, None, None, None, None, None, None, None, None, None, None, None, None, None, None, None, None, None, None, None, None, None, None, None, None, None, None, None, None, None, None, None, None, None, None, None, None, None, None, None, None, None, None, None, None, None, None, None, None, None, None, None, None, None, None, None, None, None, None, None, None, None, None, None, None, None, None, None, None, None, None, None, None, None, None, None, None, None, None, None, None, None, None, None, None, None, None, None, None, None, None, None, None, None, None, None, None, None, None, None, None, None, None, None, None, None, None, None, None, None, None, None, None, None, None, None, None, None, None, None, None, None, None, None, None, None, None, None, None, None, None, None, None, None, None, None, None, None, None, None, None, None, None, None, None, None, None, None, None, None, None, None, None, None, None, None, None, None, None, None, None, None, None, None, None, None, None], \n",
            "\tover the training epochs, respectively.\n"
          ],
          "name": "stdout"
        },
        {
          "output_type": "display_data",
          "data": {
            "image/png": "[encoded data removed]",
            "text/plain": [
              "<Figure size 432x288 with 1 Axes>"
            ]
          },
          "metadata": {
            "tags": [],
            "needs_background": "light"
          }
        },
        {
          "output_type": "display_data",
          "data": {
            "image/png": "[encoded data removed]",
            "text/plain": [
              "<Figure size 432x288 with 1 Axes>"
            ]
          },
          "metadata": {
            "tags": [],
            "needs_background": "light"
          }
        }
      ]
    },
    {
      "cell_type": "markdown",
      "metadata": {
        "id": "Bz21WU0_qQQN"
      },
      "source": [
        "As we can see the results are pretty similar to the logisitic regression. we also got val loss around ~0.33. In most cases even a little bit bigger than logisitic regression. 1 layer is good enough to generlize the extracted features data."
      ]
    },
    {
      "cell_type": "markdown",
      "metadata": {
        "id": "jMgHb-WkNhDv"
      },
      "source": [
        "**Here you should merge the feature extractor network layers with the PyTorch logistic regression classifier.**"
      ]
    },
    {
      "cell_type": "code",
      "metadata": {
        "id": "opU-zD3NNhDv"
      },
      "source": [
        "#already done on definiton of MyResnet using cases in MyResnet class"
      ],
      "execution_count": 236,
      "outputs": []
    },
    {
      "cell_type": "markdown",
      "metadata": {
        "id": "PTfaIOqGNhDv"
      },
      "source": [
        "# Comparing  ResNet18 with ResNet34:"
      ]
    },
    {
      "cell_type": "markdown",
      "metadata": {
        "id": "mDH0ovjoNhDv"
      },
      "source": [
        "#### Download the ResNet34 Network from torchvision.models. Then, repeat the steps described above in order to compare between these ResNet18 and ResNet34. Explain your findings and results!"
      ]
    },
    {
      "cell_type": "code",
      "metadata": {
        "id": "2E8cu6frNhDv"
      },
      "source": [
        "# logistic regression with resnet34 and pytorch\n",
        "classifyer34 = nn.Sequential(nn.Linear(512, 2))\n",
        "net34 = MyResNet(classifyer34, 34)\n",
        "# in case we already extracted the features using resnet34, skip the extraction process(for development)\n",
        "if(RESNET34_EXTRACTED_DATA_EXIST == False):\n",
        "\n",
        "    X_extracted_features_train34, y_extracted_features_train34 = net34.extract_features_from_dataloader(\n",
        "        tr_dataloader)\n",
        "    X_extracted_features_test34, y_extracted_features_test34 = net34.extract_features_from_dataloader(\n",
        "        val_dataloader)\n",
        "    print(X_extracted_features_train34.shape)\n",
        "    print(X_extracted_features_test34.shape)\n",
        "    torch.save(X_extracted_features_train,\n",
        "                args.X_train_extracted_from_resnet34_file_name)\n",
        "    torch.save(y_extracted_features_train,\n",
        "                args.y_train_extracted_from_resnet34_file_name)\n",
        "    torch.save(X_extracted_features_test,\n",
        "                args.X_test_extracted_from_resnet34_file_name)\n",
        "    torch.save(y_extracted_features_test,\n",
        "                args.y_test_extracted_from_resnet34_file_name)\n",
        "else:\n",
        "    # load the files\n",
        "    X_extracted_features_train34 = torch.load(\n",
        "        args.X_train_extracted_from_resnet34_file_name)\n",
        "    y_extracted_features_train34 = torch.load(\n",
        "        args.y_train_extracted_from_resnet34_file_name)\n",
        "    X_extracted_features_test34 = torch.load(\n",
        "        args.X_test_extracted_from_resnet34_file_name)\n",
        "    y_extracted_features_test34 = torch.load(\n",
        "        args.y_test_extracted_from_resnet34_file_name)"
      ],
      "execution_count": 237,
      "outputs": []
    },
    {
      "cell_type": "markdown",
      "metadata": {
        "id": "BqQ1XkVBNhDw"
      },
      "source": [
        "# Logistic Regression with scikit-learn library:"
      ]
    },
    {
      "cell_type": "code",
      "metadata": {
        "id": "TobCVpA7NhDw",
        "colab": {
          "base_uri": "https://localhost:8080/"
        },
        "outputId": "116628b1-f4f2-48c6-efe7-e4f2b0829645"
      },
      "source": [
        "# logistic regression with sklearn over resnet34 extracted data\n",
        "\n",
        "logisticRegr34 = LogisticRegression(penalty='l2',solver='lbfgs',tol=1e-3, max_iter=1000)\n",
        "clf34 = logisticRegr34.fit(X_extracted_features_train34,\n",
        "                        y_extracted_features_train34)\n",
        "pred_probs_train34 = clf34.predict_proba(X_extracted_features_train34)[:,1] # prediction on training set\n",
        "pred_probs_test34 = clf34.predict_proba(X_extracted_features_test34)[:,1]  #prediction on test set\n",
        "\n",
        "\n",
        "# train accuracy and auc\n",
        "accuracy_train_lr34 = clf34.score(\n",
        "    X_extracted_features_train34, y_extracted_features_train34)\n",
        "auc_train_lr34 = roc_auc_score(y_extracted_features_train34.numpy(),pred_probs_train34)\n",
        "# test accuracy and auc\n",
        "accuracy_test_lr34 = clf34.score(\n",
        "    X_extracted_features_test34, y_extracted_features_test34)\n",
        "auc_test_lr34 = roc_auc_score(y_extracted_features_test34.numpy(),pred_probs_test34)\n",
        "\n",
        "print(\"train results:\")\n",
        "print('accuracy:', accuracy_train_lr34)\n",
        "print('auc', auc_train_lr34)\n",
        "print(\"test results:\")\n",
        "print('accuracy:', accuracy_test_lr34)\n",
        "print('auc', auc_test_lr34)\n",
        "print()\n"
      ],
      "execution_count": 238,
      "outputs": [
        {
          "output_type": "stream",
          "text": [
            "train results:\n",
            "accuracy: 0.979375\n",
            "auc 0.9987\n",
            "test results:\n",
            "accuracy: 0.844\n",
            "auc 0.920352\n",
            "\n"
          ],
          "name": "stdout"
        }
      ]
    },
    {
      "cell_type": "markdown",
      "metadata": {
        "id": "ZbFuwjKZtbdQ"
      },
      "source": [
        "As we can see , accuracy and auc are very similar to resnet18.\r\n",
        "the auc is around ~0.92 and accuracy is around ~0.82.\r\n",
        "Hence we can conclude that the resnet18 extracted the features good enough so resnet34 hasn't any added value."
      ]
    },
    {
      "cell_type": "markdown",
      "metadata": {
        "id": "6aifqyfvNhDw"
      },
      "source": [
        "# Logistic Regression with pytorch for ResNet34:"
      ]
    },
    {
      "cell_type": "markdown",
      "metadata": {
        "id": "GckeBwueNhDw"
      },
      "source": [
        "#### Define the model:"
      ]
    },
    {
      "cell_type": "code",
      "metadata": {
        "id": "eWk9z9NONhDx",
        "colab": {
          "base_uri": "https://localhost:8080/"
        },
        "outputId": "f9937ddb-aa98-457c-f55d-7aa1bf089ade"
      },
      "source": [
        "#Define above in MyResNet class\n",
        "net34\n"
      ],
      "execution_count": 239,
      "outputs": [
        {
          "output_type": "execute_result",
          "data": {
            "text/plain": [
              "MyResNet(\n",
              "  (features): ResNet(\n",
              "    (conv1): Conv2d(3, 64, kernel_size=(7, 7), stride=(2, 2), padding=(3, 3), bias=False)\n",
              "    (bn1): BatchNorm2d(64, eps=1e-05, momentum=0.1, affine=True, track_running_stats=True)\n",
              "    (relu): ReLU(inplace=True)\n",
              "    (maxpool): MaxPool2d(kernel_size=3, stride=2, padding=1, dilation=1, ceil_mode=False)\n",
              "    (layer1): Sequential(\n",
              "      (0): BasicBlock(\n",
              "        (conv1): Conv2d(64, 64, kernel_size=(3, 3), stride=(1, 1), padding=(1, 1), bias=False)\n",
              "        (bn1): BatchNorm2d(64, eps=1e-05, momentum=0.1, affine=True, track_running_stats=True)\n",
              "        (relu): ReLU(inplace=True)\n",
              "        (conv2): Conv2d(64, 64, kernel_size=(3, 3), stride=(1, 1), padding=(1, 1), bias=False)\n",
              "        (bn2): BatchNorm2d(64, eps=1e-05, momentum=0.1, affine=True, track_running_stats=True)\n",
              "      )\n",
              "      (1): BasicBlock(\n",
              "        (conv1): Conv2d(64, 64, kernel_size=(3, 3), stride=(1, 1), padding=(1, 1), bias=False)\n",
              "        (bn1): BatchNorm2d(64, eps=1e-05, momentum=0.1, affine=True, track_running_stats=True)\n",
              "        (relu): ReLU(inplace=True)\n",
              "        (conv2): Conv2d(64, 64, kernel_size=(3, 3), stride=(1, 1), padding=(1, 1), bias=False)\n",
              "        (bn2): BatchNorm2d(64, eps=1e-05, momentum=0.1, affine=True, track_running_stats=True)\n",
              "      )\n",
              "      (2): BasicBlock(\n",
              "        (conv1): Conv2d(64, 64, kernel_size=(3, 3), stride=(1, 1), padding=(1, 1), bias=False)\n",
              "        (bn1): BatchNorm2d(64, eps=1e-05, momentum=0.1, affine=True, track_running_stats=True)\n",
              "        (relu): ReLU(inplace=True)\n",
              "        (conv2): Conv2d(64, 64, kernel_size=(3, 3), stride=(1, 1), padding=(1, 1), bias=False)\n",
              "        (bn2): BatchNorm2d(64, eps=1e-05, momentum=0.1, affine=True, track_running_stats=True)\n",
              "      )\n",
              "    )\n",
              "    (layer2): Sequential(\n",
              "      (0): BasicBlock(\n",
              "        (conv1): Conv2d(64, 128, kernel_size=(3, 3), stride=(2, 2), padding=(1, 1), bias=False)\n",
              "        (bn1): BatchNorm2d(128, eps=1e-05, momentum=0.1, affine=True, track_running_stats=True)\n",
              "        (relu): ReLU(inplace=True)\n",
              "        (conv2): Conv2d(128, 128, kernel_size=(3, 3), stride=(1, 1), padding=(1, 1), bias=False)\n",
              "        (bn2): BatchNorm2d(128, eps=1e-05, momentum=0.1, affine=True, track_running_stats=True)\n",
              "        (downsample): Sequential(\n",
              "          (0): Conv2d(64, 128, kernel_size=(1, 1), stride=(2, 2), bias=False)\n",
              "          (1): BatchNorm2d(128, eps=1e-05, momentum=0.1, affine=True, track_running_stats=True)\n",
              "        )\n",
              "      )\n",
              "      (1): BasicBlock(\n",
              "        (conv1): Conv2d(128, 128, kernel_size=(3, 3), stride=(1, 1), padding=(1, 1), bias=False)\n",
              "        (bn1): BatchNorm2d(128, eps=1e-05, momentum=0.1, affine=True, track_running_stats=True)\n",
              "        (relu): ReLU(inplace=True)\n",
              "        (conv2): Conv2d(128, 128, kernel_size=(3, 3), stride=(1, 1), padding=(1, 1), bias=False)\n",
              "        (bn2): BatchNorm2d(128, eps=1e-05, momentum=0.1, affine=True, track_running_stats=True)\n",
              "      )\n",
              "      (2): BasicBlock(\n",
              "        (conv1): Conv2d(128, 128, kernel_size=(3, 3), stride=(1, 1), padding=(1, 1), bias=False)\n",
              "        (bn1): BatchNorm2d(128, eps=1e-05, momentum=0.1, affine=True, track_running_stats=True)\n",
              "        (relu): ReLU(inplace=True)\n",
              "        (conv2): Conv2d(128, 128, kernel_size=(3, 3), stride=(1, 1), padding=(1, 1), bias=False)\n",
              "        (bn2): BatchNorm2d(128, eps=1e-05, momentum=0.1, affine=True, track_running_stats=True)\n",
              "      )\n",
              "      (3): BasicBlock(\n",
              "        (conv1): Conv2d(128, 128, kernel_size=(3, 3), stride=(1, 1), padding=(1, 1), bias=False)\n",
              "        (bn1): BatchNorm2d(128, eps=1e-05, momentum=0.1, affine=True, track_running_stats=True)\n",
              "        (relu): ReLU(inplace=True)\n",
              "        (conv2): Conv2d(128, 128, kernel_size=(3, 3), stride=(1, 1), padding=(1, 1), bias=False)\n",
              "        (bn2): BatchNorm2d(128, eps=1e-05, momentum=0.1, affine=True, track_running_stats=True)\n",
              "      )\n",
              "    )\n",
              "    (layer3): Sequential(\n",
              "      (0): BasicBlock(\n",
              "        (conv1): Conv2d(128, 256, kernel_size=(3, 3), stride=(2, 2), padding=(1, 1), bias=False)\n",
              "        (bn1): BatchNorm2d(256, eps=1e-05, momentum=0.1, affine=True, track_running_stats=True)\n",
              "        (relu): ReLU(inplace=True)\n",
              "        (conv2): Conv2d(256, 256, kernel_size=(3, 3), stride=(1, 1), padding=(1, 1), bias=False)\n",
              "        (bn2): BatchNorm2d(256, eps=1e-05, momentum=0.1, affine=True, track_running_stats=True)\n",
              "        (downsample): Sequential(\n",
              "          (0): Conv2d(128, 256, kernel_size=(1, 1), stride=(2, 2), bias=False)\n",
              "          (1): BatchNorm2d(256, eps=1e-05, momentum=0.1, affine=True, track_running_stats=True)\n",
              "        )\n",
              "      )\n",
              "      (1): BasicBlock(\n",
              "        (conv1): Conv2d(256, 256, kernel_size=(3, 3), stride=(1, 1), padding=(1, 1), bias=False)\n",
              "        (bn1): BatchNorm2d(256, eps=1e-05, momentum=0.1, affine=True, track_running_stats=True)\n",
              "        (relu): ReLU(inplace=True)\n",
              "        (conv2): Conv2d(256, 256, kernel_size=(3, 3), stride=(1, 1), padding=(1, 1), bias=False)\n",
              "        (bn2): BatchNorm2d(256, eps=1e-05, momentum=0.1, affine=True, track_running_stats=True)\n",
              "      )\n",
              "      (2): BasicBlock(\n",
              "        (conv1): Conv2d(256, 256, kernel_size=(3, 3), stride=(1, 1), padding=(1, 1), bias=False)\n",
              "        (bn1): BatchNorm2d(256, eps=1e-05, momentum=0.1, affine=True, track_running_stats=True)\n",
              "        (relu): ReLU(inplace=True)\n",
              "        (conv2): Conv2d(256, 256, kernel_size=(3, 3), stride=(1, 1), padding=(1, 1), bias=False)\n",
              "        (bn2): BatchNorm2d(256, eps=1e-05, momentum=0.1, affine=True, track_running_stats=True)\n",
              "      )\n",
              "      (3): BasicBlock(\n",
              "        (conv1): Conv2d(256, 256, kernel_size=(3, 3), stride=(1, 1), padding=(1, 1), bias=False)\n",
              "        (bn1): BatchNorm2d(256, eps=1e-05, momentum=0.1, affine=True, track_running_stats=True)\n",
              "        (relu): ReLU(inplace=True)\n",
              "        (conv2): Conv2d(256, 256, kernel_size=(3, 3), stride=(1, 1), padding=(1, 1), bias=False)\n",
              "        (bn2): BatchNorm2d(256, eps=1e-05, momentum=0.1, affine=True, track_running_stats=True)\n",
              "      )\n",
              "      (4): BasicBlock(\n",
              "        (conv1): Conv2d(256, 256, kernel_size=(3, 3), stride=(1, 1), padding=(1, 1), bias=False)\n",
              "        (bn1): BatchNorm2d(256, eps=1e-05, momentum=0.1, affine=True, track_running_stats=True)\n",
              "        (relu): ReLU(inplace=True)\n",
              "        (conv2): Conv2d(256, 256, kernel_size=(3, 3), stride=(1, 1), padding=(1, 1), bias=False)\n",
              "        (bn2): BatchNorm2d(256, eps=1e-05, momentum=0.1, affine=True, track_running_stats=True)\n",
              "      )\n",
              "      (5): BasicBlock(\n",
              "        (conv1): Conv2d(256, 256, kernel_size=(3, 3), stride=(1, 1), padding=(1, 1), bias=False)\n",
              "        (bn1): BatchNorm2d(256, eps=1e-05, momentum=0.1, affine=True, track_running_stats=True)\n",
              "        (relu): ReLU(inplace=True)\n",
              "        (conv2): Conv2d(256, 256, kernel_size=(3, 3), stride=(1, 1), padding=(1, 1), bias=False)\n",
              "        (bn2): BatchNorm2d(256, eps=1e-05, momentum=0.1, affine=True, track_running_stats=True)\n",
              "      )\n",
              "    )\n",
              "    (layer4): Sequential(\n",
              "      (0): BasicBlock(\n",
              "        (conv1): Conv2d(256, 512, kernel_size=(3, 3), stride=(2, 2), padding=(1, 1), bias=False)\n",
              "        (bn1): BatchNorm2d(512, eps=1e-05, momentum=0.1, affine=True, track_running_stats=True)\n",
              "        (relu): ReLU(inplace=True)\n",
              "        (conv2): Conv2d(512, 512, kernel_size=(3, 3), stride=(1, 1), padding=(1, 1), bias=False)\n",
              "        (bn2): BatchNorm2d(512, eps=1e-05, momentum=0.1, affine=True, track_running_stats=True)\n",
              "        (downsample): Sequential(\n",
              "          (0): Conv2d(256, 512, kernel_size=(1, 1), stride=(2, 2), bias=False)\n",
              "          (1): BatchNorm2d(512, eps=1e-05, momentum=0.1, affine=True, track_running_stats=True)\n",
              "        )\n",
              "      )\n",
              "      (1): BasicBlock(\n",
              "        (conv1): Conv2d(512, 512, kernel_size=(3, 3), stride=(1, 1), padding=(1, 1), bias=False)\n",
              "        (bn1): BatchNorm2d(512, eps=1e-05, momentum=0.1, affine=True, track_running_stats=True)\n",
              "        (relu): ReLU(inplace=True)\n",
              "        (conv2): Conv2d(512, 512, kernel_size=(3, 3), stride=(1, 1), padding=(1, 1), bias=False)\n",
              "        (bn2): BatchNorm2d(512, eps=1e-05, momentum=0.1, affine=True, track_running_stats=True)\n",
              "      )\n",
              "      (2): BasicBlock(\n",
              "        (conv1): Conv2d(512, 512, kernel_size=(3, 3), stride=(1, 1), padding=(1, 1), bias=False)\n",
              "        (bn1): BatchNorm2d(512, eps=1e-05, momentum=0.1, affine=True, track_running_stats=True)\n",
              "        (relu): ReLU(inplace=True)\n",
              "        (conv2): Conv2d(512, 512, kernel_size=(3, 3), stride=(1, 1), padding=(1, 1), bias=False)\n",
              "        (bn2): BatchNorm2d(512, eps=1e-05, momentum=0.1, affine=True, track_running_stats=True)\n",
              "      )\n",
              "    )\n",
              "    (avgpool): AdaptiveAvgPool2d(output_size=(1, 1))\n",
              "    (fc): Identity()\n",
              "  )\n",
              "  (classifyer): Sequential(\n",
              "    (0): Linear(in_features=512, out_features=2, bias=True)\n",
              "  )\n",
              ")"
            ]
          },
          "metadata": {
            "tags": []
          },
          "execution_count": 239
        }
      ]
    },
    {
      "cell_type": "markdown",
      "metadata": {
        "id": "hBFj1SxzNhDx"
      },
      "source": [
        "#### Training and validation:"
      ]
    },
    {
      "cell_type": "code",
      "metadata": {
        "id": "LfPTfDqTNhDx",
        "colab": {
          "base_uri": "https://localhost:8080/"
        },
        "outputId": "21347ad3-0fa6-4491-9408-52a15601c207"
      },
      "source": [
        "tr_loss34, val_loss34, test_loss34, tr_auc34, val_auc34, untrained_test_loss34, untrained_test_auc34 = training_loop(\n",
        "    args,\n",
        "    net34,\n",
        "    X_extracted_features_train34,\n",
        "    y_extracted_features_train34,\n",
        "    X_extracted_features_test34,\n",
        "    y_extracted_features_test34,\n",
        "    val_dataloader=None,\n",
        "    criterion_func=nn.CrossEntropyLoss\n",
        ")"
      ],
      "execution_count": 240,
      "outputs": [
        {
          "output_type": "stream",
          "text": [
            "100%|██████████| 11/11 [00:00<00:00, 228.83it/s]\n",
            "100%|██████████| 11/11 [00:00<00:00, 290.46it/s]\n",
            "100%|██████████| 11/11 [00:00<00:00, 339.80it/s]\n",
            "  0%|          | 0/11 [00:00<?, ?it/s]"
          ],
          "name": "stderr"
        },
        {
          "output_type": "stream",
          "text": [
            "Train loss: 7.06e-01, Val loss: 6.77e-01\n",
            "Best val loss is: 6.77e-01\n",
            "Train loss: 6.76e-01, Val loss: 6.51e-01\n",
            "Best val loss is: 6.51e-01\n",
            "Train loss: 6.50e-01, Val loss: 6.26e-01\n",
            "Best val loss is: 6.26e-01\n"
          ],
          "name": "stdout"
        },
        {
          "output_type": "stream",
          "text": [
            "100%|██████████| 11/11 [00:00<00:00, 266.89it/s]\n",
            "100%|██████████| 11/11 [00:00<00:00, 250.59it/s]\n",
            "  0%|          | 0/11 [00:00<?, ?it/s]"
          ],
          "name": "stderr"
        },
        {
          "output_type": "stream",
          "text": [
            "Train loss: 6.26e-01, Val loss: 6.05e-01\n",
            "Best val loss is: 6.05e-01\n",
            "Train loss: 6.04e-01, Val loss: 5.86e-01\n",
            "Best val loss is: 5.86e-01\n"
          ],
          "name": "stdout"
        },
        {
          "output_type": "stream",
          "text": [
            "100%|██████████| 11/11 [00:00<00:00, 309.50it/s]\n",
            "100%|██████████| 11/11 [00:00<00:00, 327.82it/s]\n",
            "100%|██████████| 11/11 [00:00<00:00, 379.97it/s]\n",
            "  0%|          | 0/11 [00:00<?, ?it/s]"
          ],
          "name": "stderr"
        },
        {
          "output_type": "stream",
          "text": [
            "Train loss: 5.85e-01, Val loss: 5.69e-01\n",
            "Best val loss is: 5.69e-01\n",
            "Train loss: 5.67e-01, Val loss: 5.53e-01\n",
            "Best val loss is: 5.53e-01\n",
            "Train loss: 5.52e-01, Val loss: 5.40e-01\n",
            "Best val loss is: 5.40e-01\n"
          ],
          "name": "stdout"
        },
        {
          "output_type": "stream",
          "text": [
            "100%|██████████| 11/11 [00:00<00:00, 312.20it/s]\n",
            "100%|██████████| 11/11 [00:00<00:00, 295.71it/s]\n",
            "  0%|          | 0/11 [00:00<?, ?it/s]"
          ],
          "name": "stderr"
        },
        {
          "output_type": "stream",
          "text": [
            "Train loss: 5.37e-01, Val loss: 5.28e-01\n",
            "Best val loss is: 5.28e-01\n",
            "Train loss: 5.24e-01, Val loss: 5.17e-01\n",
            "Best val loss is: 5.17e-01\n"
          ],
          "name": "stdout"
        },
        {
          "output_type": "stream",
          "text": [
            "100%|██████████| 11/11 [00:00<00:00, 282.32it/s]\n",
            "100%|██████████| 11/11 [00:00<00:00, 305.81it/s]\n",
            "100%|██████████| 11/11 [00:00<00:00, 321.82it/s]\n",
            "  0%|          | 0/11 [00:00<?, ?it/s]"
          ],
          "name": "stderr"
        },
        {
          "output_type": "stream",
          "text": [
            "Train loss: 5.12e-01, Val loss: 5.07e-01\n",
            "Best val loss is: 5.07e-01\n",
            "Train loss: 5.01e-01, Val loss: 4.99e-01\n",
            "Best val loss is: 4.99e-01\n",
            "Train loss: 4.91e-01, Val loss: 4.91e-01\n",
            "Best val loss is: 4.91e-01\n"
          ],
          "name": "stdout"
        },
        {
          "output_type": "stream",
          "text": [
            "100%|██████████| 11/11 [00:00<00:00, 301.76it/s]\n",
            "100%|██████████| 11/11 [00:00<00:00, 337.69it/s]\n",
            "  0%|          | 0/11 [00:00<?, ?it/s]"
          ],
          "name": "stderr"
        },
        {
          "output_type": "stream",
          "text": [
            "Train loss: 4.82e-01, Val loss: 4.83e-01\n",
            "Best val loss is: 4.83e-01\n",
            "Train loss: 4.73e-01, Val loss: 4.76e-01\n",
            "Best val loss is: 4.76e-01\n"
          ],
          "name": "stdout"
        },
        {
          "output_type": "stream",
          "text": [
            "100%|██████████| 11/11 [00:00<00:00, 306.90it/s]\n",
            "100%|██████████| 11/11 [00:00<00:00, 290.85it/s]\n",
            "100%|██████████| 11/11 [00:00<00:00, 339.20it/s]\n",
            "  0%|          | 0/11 [00:00<?, ?it/s]"
          ],
          "name": "stderr"
        },
        {
          "output_type": "stream",
          "text": [
            "Train loss: 4.65e-01, Val loss: 4.70e-01\n",
            "Best val loss is: 4.70e-01\n",
            "Train loss: 4.58e-01, Val loss: 4.64e-01\n",
            "Best val loss is: 4.64e-01\n",
            "Train loss: 4.51e-01, Val loss: 4.59e-01\n",
            "Best val loss is: 4.59e-01\n"
          ],
          "name": "stdout"
        },
        {
          "output_type": "stream",
          "text": [
            "100%|██████████| 11/11 [00:00<00:00, 303.35it/s]\n",
            "100%|██████████| 11/11 [00:00<00:00, 323.22it/s]\n",
            "  0%|          | 0/11 [00:00<?, ?it/s]"
          ],
          "name": "stderr"
        },
        {
          "output_type": "stream",
          "text": [
            "Train loss: 4.44e-01, Val loss: 4.54e-01\n",
            "Best val loss is: 4.54e-01\n",
            "Train loss: 4.38e-01, Val loss: 4.50e-01\n",
            "Best val loss is: 4.50e-01\n"
          ],
          "name": "stdout"
        },
        {
          "output_type": "stream",
          "text": [
            "100%|██████████| 11/11 [00:00<00:00, 280.30it/s]\n",
            "100%|██████████| 11/11 [00:00<00:00, 354.66it/s]\n",
            "100%|██████████| 11/11 [00:00<00:00, 333.63it/s]\n",
            "  0%|          | 0/11 [00:00<?, ?it/s]"
          ],
          "name": "stderr"
        },
        {
          "output_type": "stream",
          "text": [
            "Train loss: 4.33e-01, Val loss: 4.45e-01\n",
            "Best val loss is: 4.45e-01\n",
            "Train loss: 4.27e-01, Val loss: 4.41e-01\n",
            "Best val loss is: 4.41e-01\n",
            "Train loss: 4.22e-01, Val loss: 4.37e-01\n",
            "Best val loss is: 4.37e-01\n"
          ],
          "name": "stdout"
        },
        {
          "output_type": "stream",
          "text": [
            "100%|██████████| 11/11 [00:00<00:00, 259.00it/s]\n",
            "100%|██████████| 11/11 [00:00<00:00, 329.61it/s]\n",
            "  0%|          | 0/11 [00:00<?, ?it/s]"
          ],
          "name": "stderr"
        },
        {
          "output_type": "stream",
          "text": [
            "Train loss: 4.17e-01, Val loss: 4.34e-01\n",
            "Best val loss is: 4.34e-01\n",
            "Train loss: 4.12e-01, Val loss: 4.31e-01\n",
            "Best val loss is: 4.31e-01\n"
          ],
          "name": "stdout"
        },
        {
          "output_type": "stream",
          "text": [
            "100%|██████████| 11/11 [00:00<00:00, 303.83it/s]\n",
            "100%|██████████| 11/11 [00:00<00:00, 349.02it/s]\n",
            "100%|██████████| 11/11 [00:00<00:00, 256.38it/s]\n",
            "  0%|          | 0/11 [00:00<?, ?it/s]"
          ],
          "name": "stderr"
        },
        {
          "output_type": "stream",
          "text": [
            "Train loss: 4.08e-01, Val loss: 4.27e-01\n",
            "Best val loss is: 4.27e-01\n",
            "Train loss: 4.04e-01, Val loss: 4.24e-01\n",
            "Best val loss is: 4.24e-01\n",
            "Train loss: 4.00e-01, Val loss: 4.22e-01\n",
            "Best val loss is: 4.22e-01\n"
          ],
          "name": "stdout"
        },
        {
          "output_type": "stream",
          "text": [
            "100%|██████████| 11/11 [00:00<00:00, 270.85it/s]\n",
            "100%|██████████| 11/11 [00:00<00:00, 334.39it/s]\n",
            "  0%|          | 0/11 [00:00<?, ?it/s]"
          ],
          "name": "stderr"
        },
        {
          "output_type": "stream",
          "text": [
            "Train loss: 3.96e-01, Val loss: 4.19e-01\n",
            "Best val loss is: 4.19e-01\n",
            "Train loss: 3.92e-01, Val loss: 4.16e-01\n",
            "Best val loss is: 4.16e-01\n"
          ],
          "name": "stdout"
        },
        {
          "output_type": "stream",
          "text": [
            "100%|██████████| 11/11 [00:00<00:00, 306.09it/s]\n",
            "100%|██████████| 11/11 [00:00<00:00, 309.72it/s]\n",
            "100%|██████████| 11/11 [00:00<00:00, 337.25it/s]\n",
            "  0%|          | 0/11 [00:00<?, ?it/s]"
          ],
          "name": "stderr"
        },
        {
          "output_type": "stream",
          "text": [
            "Train loss: 3.89e-01, Val loss: 4.14e-01\n",
            "Best val loss is: 4.14e-01\n",
            "Train loss: 3.85e-01, Val loss: 4.12e-01\n",
            "Best val loss is: 4.12e-01\n",
            "Train loss: 3.82e-01, Val loss: 4.09e-01\n",
            "Best val loss is: 4.09e-01\n"
          ],
          "name": "stdout"
        },
        {
          "output_type": "stream",
          "text": [
            "100%|██████████| 11/11 [00:00<00:00, 299.50it/s]\n",
            "100%|██████████| 11/11 [00:00<00:00, 350.58it/s]\n",
            "  0%|          | 0/11 [00:00<?, ?it/s]"
          ],
          "name": "stderr"
        },
        {
          "output_type": "stream",
          "text": [
            "Train loss: 3.79e-01, Val loss: 4.07e-01\n",
            "Best val loss is: 4.07e-01\n",
            "Train loss: 3.76e-01, Val loss: 4.05e-01\n",
            "Best val loss is: 4.05e-01\n"
          ],
          "name": "stdout"
        },
        {
          "output_type": "stream",
          "text": [
            "100%|██████████| 11/11 [00:00<00:00, 276.73it/s]\n",
            "100%|██████████| 11/11 [00:00<00:00, 299.87it/s]\n",
            "100%|██████████| 11/11 [00:00<00:00, 294.75it/s]\n",
            "  0%|          | 0/11 [00:00<?, ?it/s]"
          ],
          "name": "stderr"
        },
        {
          "output_type": "stream",
          "text": [
            "Train loss: 3.73e-01, Val loss: 4.03e-01\n",
            "Best val loss is: 4.03e-01\n",
            "Train loss: 3.70e-01, Val loss: 4.02e-01\n",
            "Best val loss is: 4.02e-01\n",
            "Train loss: 3.67e-01, Val loss: 4.00e-01\n",
            "Best val loss is: 4.00e-01\n"
          ],
          "name": "stdout"
        },
        {
          "output_type": "stream",
          "text": [
            "100%|██████████| 11/11 [00:00<00:00, 277.19it/s]\n",
            "100%|██████████| 11/11 [00:00<00:00, 326.31it/s]\n",
            "  0%|          | 0/11 [00:00<?, ?it/s]"
          ],
          "name": "stderr"
        },
        {
          "output_type": "stream",
          "text": [
            "Train loss: 3.65e-01, Val loss: 3.98e-01\n",
            "Best val loss is: 3.98e-01\n",
            "Train loss: 3.62e-01, Val loss: 3.96e-01\n",
            "Best val loss is: 3.96e-01\n"
          ],
          "name": "stdout"
        },
        {
          "output_type": "stream",
          "text": [
            "100%|██████████| 11/11 [00:00<00:00, 305.69it/s]\n",
            "100%|██████████| 11/11 [00:00<00:00, 325.51it/s]\n",
            "100%|██████████| 11/11 [00:00<00:00, 328.75it/s]\n",
            "  0%|          | 0/11 [00:00<?, ?it/s]"
          ],
          "name": "stderr"
        },
        {
          "output_type": "stream",
          "text": [
            "Train loss: 3.60e-01, Val loss: 3.95e-01\n",
            "Best val loss is: 3.95e-01\n",
            "Train loss: 3.57e-01, Val loss: 3.93e-01\n",
            "Best val loss is: 3.93e-01\n",
            "Train loss: 3.55e-01, Val loss: 3.92e-01\n",
            "Best val loss is: 3.92e-01\n"
          ],
          "name": "stdout"
        },
        {
          "output_type": "stream",
          "text": [
            "100%|██████████| 11/11 [00:00<00:00, 303.29it/s]\n",
            "100%|██████████| 11/11 [00:00<00:00, 360.04it/s]\n",
            "  0%|          | 0/11 [00:00<?, ?it/s]"
          ],
          "name": "stderr"
        },
        {
          "output_type": "stream",
          "text": [
            "Train loss: 3.53e-01, Val loss: 3.91e-01\n",
            "Best val loss is: 3.91e-01\n",
            "Train loss: 3.51e-01, Val loss: 3.89e-01\n",
            "Best val loss is: 3.89e-01\n"
          ],
          "name": "stdout"
        },
        {
          "output_type": "stream",
          "text": [
            "100%|██████████| 11/11 [00:00<00:00, 305.52it/s]\n",
            "100%|██████████| 11/11 [00:00<00:00, 319.91it/s]\n",
            "100%|██████████| 11/11 [00:00<00:00, 325.05it/s]\n",
            "  0%|          | 0/11 [00:00<?, ?it/s]"
          ],
          "name": "stderr"
        },
        {
          "output_type": "stream",
          "text": [
            "Train loss: 3.49e-01, Val loss: 3.88e-01\n",
            "Best val loss is: 3.88e-01\n",
            "Train loss: 3.47e-01, Val loss: 3.87e-01\n",
            "Best val loss is: 3.87e-01\n",
            "Train loss: 3.45e-01, Val loss: 3.86e-01\n",
            "Best val loss is: 3.86e-01\n"
          ],
          "name": "stdout"
        },
        {
          "output_type": "stream",
          "text": [
            "100%|██████████| 11/11 [00:00<00:00, 277.22it/s]\n",
            "100%|██████████| 11/11 [00:00<00:00, 328.69it/s]\n",
            "  0%|          | 0/11 [00:00<?, ?it/s]"
          ],
          "name": "stderr"
        },
        {
          "output_type": "stream",
          "text": [
            "Train loss: 3.43e-01, Val loss: 3.85e-01\n",
            "Best val loss is: 3.85e-01\n",
            "Train loss: 3.41e-01, Val loss: 3.83e-01\n",
            "Best val loss is: 3.83e-01\n"
          ],
          "name": "stdout"
        },
        {
          "output_type": "stream",
          "text": [
            "100%|██████████| 11/11 [00:00<00:00, 267.62it/s]\n",
            "100%|██████████| 11/11 [00:00<00:00, 337.06it/s]\n",
            "100%|██████████| 11/11 [00:00<00:00, 341.83it/s]\n",
            "  0%|          | 0/11 [00:00<?, ?it/s]"
          ],
          "name": "stderr"
        },
        {
          "output_type": "stream",
          "text": [
            "Train loss: 3.39e-01, Val loss: 3.82e-01\n",
            "Best val loss is: 3.82e-01\n",
            "Train loss: 3.37e-01, Val loss: 3.81e-01\n",
            "Best val loss is: 3.81e-01\n",
            "Train loss: 3.36e-01, Val loss: 3.80e-01\n",
            "Best val loss is: 3.80e-01\n"
          ],
          "name": "stdout"
        },
        {
          "output_type": "stream",
          "text": [
            "100%|██████████| 11/11 [00:00<00:00, 313.63it/s]\n",
            "100%|██████████| 11/11 [00:00<00:00, 330.35it/s]\n",
            "  0%|          | 0/11 [00:00<?, ?it/s]"
          ],
          "name": "stderr"
        },
        {
          "output_type": "stream",
          "text": [
            "Train loss: 3.34e-01, Val loss: 3.79e-01\n",
            "Best val loss is: 3.79e-01\n",
            "Train loss: 3.32e-01, Val loss: 3.78e-01\n",
            "Best val loss is: 3.78e-01\n"
          ],
          "name": "stdout"
        },
        {
          "output_type": "stream",
          "text": [
            "100%|██████████| 11/11 [00:00<00:00, 328.39it/s]\n",
            "100%|██████████| 11/11 [00:00<00:00, 345.36it/s]\n",
            "100%|██████████| 11/11 [00:00<00:00, 296.81it/s]\n",
            "  0%|          | 0/11 [00:00<?, ?it/s]"
          ],
          "name": "stderr"
        },
        {
          "output_type": "stream",
          "text": [
            "Train loss: 3.31e-01, Val loss: 3.78e-01\n",
            "Best val loss is: 3.78e-01\n",
            "Train loss: 3.29e-01, Val loss: 3.77e-01\n",
            "Best val loss is: 3.77e-01\n",
            "Train loss: 3.28e-01, Val loss: 3.76e-01\n",
            "Best val loss is: 3.76e-01\n"
          ],
          "name": "stdout"
        },
        {
          "output_type": "stream",
          "text": [
            "100%|██████████| 11/11 [00:00<00:00, 299.65it/s]\n",
            "100%|██████████| 11/11 [00:00<00:00, 339.62it/s]\n",
            "  0%|          | 0/11 [00:00<?, ?it/s]"
          ],
          "name": "stderr"
        },
        {
          "output_type": "stream",
          "text": [
            "Train loss: 3.26e-01, Val loss: 3.75e-01\n",
            "Best val loss is: 3.75e-01\n",
            "Train loss: 3.25e-01, Val loss: 3.74e-01\n",
            "Best val loss is: 3.74e-01\n"
          ],
          "name": "stdout"
        },
        {
          "output_type": "stream",
          "text": [
            "100%|██████████| 11/11 [00:00<00:00, 312.25it/s]\n",
            "100%|██████████| 11/11 [00:00<00:00, 332.79it/s]\n",
            "100%|██████████| 11/11 [00:00<00:00, 325.78it/s]\n",
            "  0%|          | 0/11 [00:00<?, ?it/s]"
          ],
          "name": "stderr"
        },
        {
          "output_type": "stream",
          "text": [
            "Train loss: 3.23e-01, Val loss: 3.73e-01\n",
            "Best val loss is: 3.73e-01\n",
            "Train loss: 3.22e-01, Val loss: 3.73e-01\n",
            "Best val loss is: 3.73e-01\n",
            "Train loss: 3.20e-01, Val loss: 3.72e-01\n",
            "Best val loss is: 3.72e-01\n"
          ],
          "name": "stdout"
        },
        {
          "output_type": "stream",
          "text": [
            "100%|██████████| 11/11 [00:00<00:00, 317.48it/s]\n",
            "100%|██████████| 11/11 [00:00<00:00, 327.39it/s]\n",
            "  0%|          | 0/11 [00:00<?, ?it/s]"
          ],
          "name": "stderr"
        },
        {
          "output_type": "stream",
          "text": [
            "Train loss: 3.19e-01, Val loss: 3.71e-01\n",
            "Best val loss is: 3.71e-01\n",
            "Train loss: 3.18e-01, Val loss: 3.71e-01\n",
            "Best val loss is: 3.71e-01\n"
          ],
          "name": "stdout"
        },
        {
          "output_type": "stream",
          "text": [
            "100%|██████████| 11/11 [00:00<00:00, 291.69it/s]\n",
            "100%|██████████| 11/11 [00:00<00:00, 318.80it/s]\n",
            "100%|██████████| 11/11 [00:00<00:00, 323.35it/s]\n",
            "  0%|          | 0/11 [00:00<?, ?it/s]"
          ],
          "name": "stderr"
        },
        {
          "output_type": "stream",
          "text": [
            "Train loss: 3.17e-01, Val loss: 3.70e-01\n",
            "Best val loss is: 3.70e-01\n",
            "Train loss: 3.15e-01, Val loss: 3.69e-01\n",
            "Best val loss is: 3.69e-01\n",
            "Train loss: 3.14e-01, Val loss: 3.69e-01\n",
            "Best val loss is: 3.69e-01\n"
          ],
          "name": "stdout"
        },
        {
          "output_type": "stream",
          "text": [
            "100%|██████████| 11/11 [00:00<00:00, 303.01it/s]\n",
            "100%|██████████| 11/11 [00:00<00:00, 341.54it/s]\n",
            "  0%|          | 0/11 [00:00<?, ?it/s]"
          ],
          "name": "stderr"
        },
        {
          "output_type": "stream",
          "text": [
            "Train loss: 3.13e-01, Val loss: 3.68e-01\n",
            "Best val loss is: 3.68e-01\n",
            "Train loss: 3.12e-01, Val loss: 3.68e-01\n",
            "Best val loss is: 3.68e-01\n"
          ],
          "name": "stdout"
        },
        {
          "output_type": "stream",
          "text": [
            "100%|██████████| 11/11 [00:00<00:00, 308.36it/s]\n",
            "100%|██████████| 11/11 [00:00<00:00, 344.96it/s]\n",
            "100%|██████████| 11/11 [00:00<00:00, 314.14it/s]\n",
            "  0%|          | 0/11 [00:00<?, ?it/s]"
          ],
          "name": "stderr"
        },
        {
          "output_type": "stream",
          "text": [
            "Train loss: 3.10e-01, Val loss: 3.67e-01\n",
            "Best val loss is: 3.67e-01\n",
            "Train loss: 3.09e-01, Val loss: 3.66e-01\n",
            "Best val loss is: 3.66e-01\n",
            "Train loss: 3.08e-01, Val loss: 3.66e-01\n",
            "Best val loss is: 3.66e-01\n"
          ],
          "name": "stdout"
        },
        {
          "output_type": "stream",
          "text": [
            "100%|██████████| 11/11 [00:00<00:00, 308.41it/s]\n",
            "100%|██████████| 11/11 [00:00<00:00, 283.45it/s]\n",
            "  0%|          | 0/11 [00:00<?, ?it/s]"
          ],
          "name": "stderr"
        },
        {
          "output_type": "stream",
          "text": [
            "Train loss: 3.07e-01, Val loss: 3.65e-01\n",
            "Best val loss is: 3.65e-01\n",
            "Train loss: 3.06e-01, Val loss: 3.65e-01\n",
            "Best val loss is: 3.65e-01\n"
          ],
          "name": "stdout"
        },
        {
          "output_type": "stream",
          "text": [
            "100%|██████████| 11/11 [00:00<00:00, 266.91it/s]\n",
            "100%|██████████| 11/11 [00:00<00:00, 338.08it/s]\n",
            "100%|██████████| 11/11 [00:00<00:00, 308.52it/s]\n",
            "  0%|          | 0/11 [00:00<?, ?it/s]"
          ],
          "name": "stderr"
        },
        {
          "output_type": "stream",
          "text": [
            "Train loss: 3.05e-01, Val loss: 3.64e-01\n",
            "Best val loss is: 3.64e-01\n",
            "Train loss: 3.04e-01, Val loss: 3.64e-01\n",
            "Best val loss is: 3.64e-01\n",
            "Train loss: 3.03e-01, Val loss: 3.63e-01\n",
            "Best val loss is: 3.63e-01\n"
          ],
          "name": "stdout"
        },
        {
          "output_type": "stream",
          "text": [
            "100%|██████████| 11/11 [00:00<00:00, 297.68it/s]\n",
            "100%|██████████| 11/11 [00:00<00:00, 337.49it/s]\n",
            "  0%|          | 0/11 [00:00<?, ?it/s]"
          ],
          "name": "stderr"
        },
        {
          "output_type": "stream",
          "text": [
            "Train loss: 3.02e-01, Val loss: 3.63e-01\n",
            "Best val loss is: 3.63e-01\n",
            "Train loss: 3.01e-01, Val loss: 3.62e-01\n",
            "Best val loss is: 3.62e-01\n"
          ],
          "name": "stdout"
        },
        {
          "output_type": "stream",
          "text": [
            "100%|██████████| 11/11 [00:00<00:00, 317.83it/s]\n",
            "100%|██████████| 11/11 [00:00<00:00, 320.57it/s]\n",
            "100%|██████████| 11/11 [00:00<00:00, 329.54it/s]\n",
            "  0%|          | 0/11 [00:00<?, ?it/s]"
          ],
          "name": "stderr"
        },
        {
          "output_type": "stream",
          "text": [
            "Train loss: 3.00e-01, Val loss: 3.62e-01\n",
            "Best val loss is: 3.62e-01\n",
            "Train loss: 2.99e-01, Val loss: 3.62e-01\n",
            "Best val loss is: 3.62e-01\n",
            "Train loss: 2.98e-01, Val loss: 3.61e-01\n",
            "Best val loss is: 3.61e-01\n"
          ],
          "name": "stdout"
        },
        {
          "output_type": "stream",
          "text": [
            "100%|██████████| 11/11 [00:00<00:00, 296.28it/s]\n",
            "100%|██████████| 11/11 [00:00<00:00, 321.89it/s]\n",
            "  0%|          | 0/11 [00:00<?, ?it/s]"
          ],
          "name": "stderr"
        },
        {
          "output_type": "stream",
          "text": [
            "Train loss: 2.97e-01, Val loss: 3.61e-01\n",
            "Best val loss is: 3.61e-01\n",
            "Train loss: 2.96e-01, Val loss: 3.60e-01\n",
            "Best val loss is: 3.60e-01\n"
          ],
          "name": "stdout"
        },
        {
          "output_type": "stream",
          "text": [
            "100%|██████████| 11/11 [00:00<00:00, 301.25it/s]\n",
            "100%|██████████| 11/11 [00:00<00:00, 341.23it/s]\n",
            "100%|██████████| 11/11 [00:00<00:00, 324.45it/s]\n",
            "  0%|          | 0/11 [00:00<?, ?it/s]"
          ],
          "name": "stderr"
        },
        {
          "output_type": "stream",
          "text": [
            "Train loss: 2.95e-01, Val loss: 3.60e-01\n",
            "Best val loss is: 3.60e-01\n",
            "Train loss: 2.94e-01, Val loss: 3.60e-01\n",
            "Best val loss is: 3.60e-01\n",
            "Train loss: 2.94e-01, Val loss: 3.59e-01\n",
            "Best val loss is: 3.59e-01\n"
          ],
          "name": "stdout"
        },
        {
          "output_type": "stream",
          "text": [
            "100%|██████████| 11/11 [00:00<00:00, 294.44it/s]\n",
            "100%|██████████| 11/11 [00:00<00:00, 343.57it/s]\n",
            "  0%|          | 0/11 [00:00<?, ?it/s]"
          ],
          "name": "stderr"
        },
        {
          "output_type": "stream",
          "text": [
            "Train loss: 2.93e-01, Val loss: 3.59e-01\n",
            "Best val loss is: 3.59e-01\n",
            "Train loss: 2.92e-01, Val loss: 3.59e-01\n",
            "Best val loss is: 3.59e-01\n"
          ],
          "name": "stdout"
        },
        {
          "output_type": "stream",
          "text": [
            "100%|██████████| 11/11 [00:00<00:00, 303.80it/s]\n",
            "100%|██████████| 11/11 [00:00<00:00, 339.66it/s]\n",
            "100%|██████████| 11/11 [00:00<00:00, 317.09it/s]\n",
            "  0%|          | 0/11 [00:00<?, ?it/s]"
          ],
          "name": "stderr"
        },
        {
          "output_type": "stream",
          "text": [
            "Train loss: 2.91e-01, Val loss: 3.58e-01\n",
            "Best val loss is: 3.58e-01\n",
            "Train loss: 2.90e-01, Val loss: 3.58e-01\n",
            "Best val loss is: 3.58e-01\n",
            "Train loss: 2.89e-01, Val loss: 3.58e-01\n",
            "Best val loss is: 3.58e-01\n"
          ],
          "name": "stdout"
        },
        {
          "output_type": "stream",
          "text": [
            "100%|██████████| 11/11 [00:00<00:00, 269.17it/s]\n",
            "100%|██████████| 11/11 [00:00<00:00, 311.04it/s]\n",
            "  0%|          | 0/11 [00:00<?, ?it/s]"
          ],
          "name": "stderr"
        },
        {
          "output_type": "stream",
          "text": [
            "Train loss: 2.89e-01, Val loss: 3.57e-01\n",
            "Best val loss is: 3.57e-01\n",
            "Train loss: 2.88e-01, Val loss: 3.57e-01\n",
            "Best val loss is: 3.57e-01\n"
          ],
          "name": "stdout"
        },
        {
          "output_type": "stream",
          "text": [
            "100%|██████████| 11/11 [00:00<00:00, 294.34it/s]\n",
            "100%|██████████| 11/11 [00:00<00:00, 340.22it/s]\n",
            "100%|██████████| 11/11 [00:00<00:00, 279.20it/s]\n",
            "  0%|          | 0/11 [00:00<?, ?it/s]"
          ],
          "name": "stderr"
        },
        {
          "output_type": "stream",
          "text": [
            "Train loss: 2.87e-01, Val loss: 3.57e-01\n",
            "Best val loss is: 3.57e-01\n",
            "Train loss: 2.86e-01, Val loss: 3.56e-01\n",
            "Best val loss is: 3.56e-01\n",
            "Train loss: 2.86e-01, Val loss: 3.56e-01\n",
            "Best val loss is: 3.56e-01\n"
          ],
          "name": "stdout"
        },
        {
          "output_type": "stream",
          "text": [
            "100%|██████████| 11/11 [00:00<00:00, 316.35it/s]\n",
            "100%|██████████| 11/11 [00:00<00:00, 332.95it/s]\n",
            "  0%|          | 0/11 [00:00<?, ?it/s]"
          ],
          "name": "stderr"
        },
        {
          "output_type": "stream",
          "text": [
            "Train loss: 2.85e-01, Val loss: 3.56e-01\n",
            "Best val loss is: 3.56e-01\n",
            "Train loss: 2.84e-01, Val loss: 3.56e-01\n",
            "Best val loss is: 3.56e-01\n"
          ],
          "name": "stdout"
        },
        {
          "output_type": "stream",
          "text": [
            "100%|██████████| 11/11 [00:00<00:00, 290.85it/s]\n",
            "100%|██████████| 11/11 [00:00<00:00, 336.52it/s]\n",
            "100%|██████████| 11/11 [00:00<00:00, 340.57it/s]\n",
            "  0%|          | 0/11 [00:00<?, ?it/s]"
          ],
          "name": "stderr"
        },
        {
          "output_type": "stream",
          "text": [
            "Train loss: 2.83e-01, Val loss: 3.55e-01\n",
            "Best val loss is: 3.55e-01\n",
            "Train loss: 2.83e-01, Val loss: 3.55e-01\n",
            "Best val loss is: 3.55e-01\n",
            "Train loss: 2.82e-01, Val loss: 3.55e-01\n",
            "Best val loss is: 3.55e-01\n"
          ],
          "name": "stdout"
        },
        {
          "output_type": "stream",
          "text": [
            "100%|██████████| 11/11 [00:00<00:00, 285.41it/s]\n",
            "100%|██████████| 11/11 [00:00<00:00, 355.73it/s]\n",
            "  0%|          | 0/11 [00:00<?, ?it/s]"
          ],
          "name": "stderr"
        },
        {
          "output_type": "stream",
          "text": [
            "Train loss: 2.81e-01, Val loss: 3.55e-01\n",
            "Best val loss is: 3.55e-01\n",
            "Train loss: 2.81e-01, Val loss: 3.54e-01\n",
            "Best val loss is: 3.54e-01\n"
          ],
          "name": "stdout"
        },
        {
          "output_type": "stream",
          "text": [
            "100%|██████████| 11/11 [00:00<00:00, 261.47it/s]\n",
            "100%|██████████| 11/11 [00:00<00:00, 336.68it/s]\n",
            "100%|██████████| 11/11 [00:00<00:00, 344.98it/s]\n",
            "  0%|          | 0/11 [00:00<?, ?it/s]"
          ],
          "name": "stderr"
        },
        {
          "output_type": "stream",
          "text": [
            "Train loss: 2.80e-01, Val loss: 3.54e-01\n",
            "Best val loss is: 3.54e-01\n",
            "Train loss: 2.79e-01, Val loss: 3.54e-01\n",
            "Best val loss is: 3.54e-01\n",
            "Train loss: 2.79e-01, Val loss: 3.54e-01\n",
            "Best val loss is: 3.54e-01\n"
          ],
          "name": "stdout"
        },
        {
          "output_type": "stream",
          "text": [
            "100%|██████████| 11/11 [00:00<00:00, 306.79it/s]\n",
            "100%|██████████| 11/11 [00:00<00:00, 347.39it/s]\n",
            "100%|██████████| 11/11 [00:00<00:00, 334.15it/s]"
          ],
          "name": "stderr"
        },
        {
          "output_type": "stream",
          "text": [
            "Train loss: 2.78e-01, Val loss: 3.53e-01\n",
            "Best val loss is: 3.53e-01\n",
            "Train loss: 2.77e-01, Val loss: 3.53e-01\n",
            "Best val loss is: 3.53e-01\n"
          ],
          "name": "stdout"
        },
        {
          "output_type": "stream",
          "text": [
            "\n",
            "100%|██████████| 11/11 [00:00<00:00, 346.19it/s]\n",
            "100%|██████████| 11/11 [00:00<00:00, 287.02it/s]\n",
            "  0%|          | 0/11 [00:00<?, ?it/s]"
          ],
          "name": "stderr"
        },
        {
          "output_type": "stream",
          "text": [
            "Train loss: 2.77e-01, Val loss: 3.53e-01\n",
            "Best val loss is: 3.53e-01\n",
            "Train loss: 2.76e-01, Val loss: 3.53e-01\n",
            "Best val loss is: 3.53e-01\n",
            "Train loss: 2.75e-01, Val loss: 3.53e-01\n",
            "Best val loss is: 3.53e-01\n"
          ],
          "name": "stdout"
        },
        {
          "output_type": "stream",
          "text": [
            "100%|██████████| 11/11 [00:00<00:00, 286.80it/s]\n",
            "100%|██████████| 11/11 [00:00<00:00, 342.88it/s]\n",
            "  0%|          | 0/11 [00:00<?, ?it/s]"
          ],
          "name": "stderr"
        },
        {
          "output_type": "stream",
          "text": [
            "Train loss: 2.75e-01, Val loss: 3.52e-01\n",
            "Best val loss is: 3.52e-01\n",
            "Train loss: 2.74e-01, Val loss: 3.52e-01\n",
            "Best val loss is: 3.52e-01\n"
          ],
          "name": "stdout"
        },
        {
          "output_type": "stream",
          "text": [
            "100%|██████████| 11/11 [00:00<00:00, 303.93it/s]\n",
            "100%|██████████| 11/11 [00:00<00:00, 329.67it/s]\n",
            "100%|██████████| 11/11 [00:00<00:00, 339.73it/s]\n",
            "100%|██████████| 11/11 [00:00<00:00, 338.48it/s]"
          ],
          "name": "stderr"
        },
        {
          "output_type": "stream",
          "text": [
            "Train loss: 2.73e-01, Val loss: 3.52e-01\n",
            "Best val loss is: 3.52e-01\n",
            "Train loss: 2.73e-01, Val loss: 3.52e-01\n",
            "Best val loss is: 3.52e-01\n",
            "Train loss: 2.72e-01, Val loss: 3.52e-01\n",
            "Best val loss is: 3.52e-01\n",
            "Train loss: 2.72e-01, Val loss: 3.52e-01\n"
          ],
          "name": "stdout"
        },
        {
          "output_type": "stream",
          "text": [
            "\n",
            "100%|██████████| 11/11 [00:00<00:00, 341.07it/s]\n",
            "100%|██████████| 11/11 [00:00<00:00, 329.93it/s]"
          ],
          "name": "stderr"
        },
        {
          "output_type": "stream",
          "text": [
            "Best val loss is: 3.52e-01\n",
            "Train loss: 2.71e-01, Val loss: 3.51e-01\n",
            "Best val loss is: 3.51e-01\n"
          ],
          "name": "stdout"
        },
        {
          "output_type": "stream",
          "text": [
            "\n",
            "100%|██████████| 11/11 [00:00<00:00, 322.36it/s]\n",
            "100%|██████████| 11/11 [00:00<00:00, 359.26it/s]\n",
            "  0%|          | 0/11 [00:00<?, ?it/s]"
          ],
          "name": "stderr"
        },
        {
          "output_type": "stream",
          "text": [
            "Train loss: 2.71e-01, Val loss: 3.51e-01\n",
            "Best val loss is: 3.51e-01\n",
            "Train loss: 2.70e-01, Val loss: 3.51e-01\n",
            "Best val loss is: 3.51e-01\n",
            "Train loss: 2.69e-01, Val loss: 3.51e-01\n",
            "Best val loss is: 3.51e-01\n"
          ],
          "name": "stdout"
        },
        {
          "output_type": "stream",
          "text": [
            "100%|██████████| 11/11 [00:00<00:00, 307.59it/s]\n",
            "100%|██████████| 11/11 [00:00<00:00, 302.16it/s]\n",
            "  0%|          | 0/11 [00:00<?, ?it/s]"
          ],
          "name": "stderr"
        },
        {
          "output_type": "stream",
          "text": [
            "Train loss: 2.69e-01, Val loss: 3.51e-01\n",
            "Best val loss is: 3.51e-01\n",
            "Train loss: 2.68e-01, Val loss: 3.51e-01\n",
            "Best val loss is: 3.51e-01\n"
          ],
          "name": "stdout"
        },
        {
          "output_type": "stream",
          "text": [
            "100%|██████████| 11/11 [00:00<00:00, 339.87it/s]\n",
            "100%|██████████| 11/11 [00:00<00:00, 328.42it/s]\n",
            "100%|██████████| 11/11 [00:00<00:00, 331.28it/s]\n",
            "  0%|          | 0/11 [00:00<?, ?it/s]"
          ],
          "name": "stderr"
        },
        {
          "output_type": "stream",
          "text": [
            "Train loss: 2.68e-01, Val loss: 3.50e-01\n",
            "Best val loss is: 3.50e-01\n",
            "Train loss: 2.67e-01, Val loss: 3.50e-01\n",
            "Best val loss is: 3.50e-01\n",
            "Train loss: 2.67e-01, Val loss: 3.50e-01\n",
            "Best val loss is: 3.50e-01\n"
          ],
          "name": "stdout"
        },
        {
          "output_type": "stream",
          "text": [
            "100%|██████████| 11/11 [00:00<00:00, 298.81it/s]\n",
            "100%|██████████| 11/11 [00:00<00:00, 347.45it/s]\n",
            "  0%|          | 0/11 [00:00<?, ?it/s]"
          ],
          "name": "stderr"
        },
        {
          "output_type": "stream",
          "text": [
            "Train loss: 2.66e-01, Val loss: 3.50e-01\n",
            "Best val loss is: 3.50e-01\n",
            "Train loss: 2.66e-01, Val loss: 3.50e-01\n",
            "Best val loss is: 3.50e-01\n"
          ],
          "name": "stdout"
        },
        {
          "output_type": "stream",
          "text": [
            "100%|██████████| 11/11 [00:00<00:00, 309.00it/s]\n",
            "100%|██████████| 11/11 [00:00<00:00, 339.64it/s]\n",
            "100%|██████████| 11/11 [00:00<00:00, 280.54it/s]\n",
            "  0%|          | 0/11 [00:00<?, ?it/s]"
          ],
          "name": "stderr"
        },
        {
          "output_type": "stream",
          "text": [
            "Train loss: 2.65e-01, Val loss: 3.50e-01\n",
            "Best val loss is: 3.50e-01\n",
            "Train loss: 2.65e-01, Val loss: 3.50e-01\n",
            "Best val loss is: 3.50e-01\n",
            "Train loss: 2.64e-01, Val loss: 3.50e-01\n",
            "Best val loss is: 3.50e-01\n"
          ],
          "name": "stdout"
        },
        {
          "output_type": "stream",
          "text": [
            "100%|██████████| 11/11 [00:00<00:00, 304.13it/s]\n",
            "100%|██████████| 11/11 [00:00<00:00, 320.04it/s]\n",
            "  0%|          | 0/11 [00:00<?, ?it/s]"
          ],
          "name": "stderr"
        },
        {
          "output_type": "stream",
          "text": [
            "Train loss: 2.64e-01, Val loss: 3.49e-01\n",
            "Best val loss is: 3.49e-01\n",
            "Train loss: 2.63e-01, Val loss: 3.49e-01\n",
            "Best val loss is: 3.49e-01\n"
          ],
          "name": "stdout"
        },
        {
          "output_type": "stream",
          "text": [
            "100%|██████████| 11/11 [00:00<00:00, 296.75it/s]\n",
            "100%|██████████| 11/11 [00:00<00:00, 348.39it/s]\n",
            "100%|██████████| 11/11 [00:00<00:00, 347.82it/s]\n",
            "  0%|          | 0/11 [00:00<?, ?it/s]"
          ],
          "name": "stderr"
        },
        {
          "output_type": "stream",
          "text": [
            "Train loss: 2.63e-01, Val loss: 3.49e-01\n",
            "Best val loss is: 3.49e-01\n",
            "Train loss: 2.62e-01, Val loss: 3.49e-01\n",
            "Best val loss is: 3.49e-01\n",
            "Train loss: 2.62e-01, Val loss: 3.49e-01\n",
            "Best val loss is: 3.49e-01\n"
          ],
          "name": "stdout"
        },
        {
          "output_type": "stream",
          "text": [
            "100%|██████████| 11/11 [00:00<00:00, 327.81it/s]\n",
            "100%|██████████| 11/11 [00:00<00:00, 342.87it/s]\n",
            "100%|██████████| 11/11 [00:00<00:00, 327.60it/s]"
          ],
          "name": "stderr"
        },
        {
          "output_type": "stream",
          "text": [
            "Train loss: 2.61e-01, Val loss: 3.49e-01\n",
            "Best val loss is: 3.49e-01\n",
            "Train loss: 2.61e-01, Val loss: 3.49e-01\n",
            "Best val loss is: 3.49e-01\n"
          ],
          "name": "stdout"
        },
        {
          "output_type": "stream",
          "text": [
            "\n",
            "100%|██████████| 11/11 [00:00<00:00, 344.13it/s]\n",
            "100%|██████████| 11/11 [00:00<00:00, 258.72it/s]\n",
            "  0%|          | 0/11 [00:00<?, ?it/s]"
          ],
          "name": "stderr"
        },
        {
          "output_type": "stream",
          "text": [
            "Train loss: 2.60e-01, Val loss: 3.49e-01\n",
            "Best val loss is: 3.49e-01\n",
            "Train loss: 2.60e-01, Val loss: 3.49e-01\n",
            "Best val loss is: 3.49e-01\n",
            "Train loss: 2.59e-01, Val loss: 3.48e-01\n",
            "Best val loss is: 3.48e-01\n"
          ],
          "name": "stdout"
        },
        {
          "output_type": "stream",
          "text": [
            "100%|██████████| 11/11 [00:00<00:00, 320.08it/s]\n",
            "100%|██████████| 11/11 [00:00<00:00, 282.92it/s]\n",
            "  0%|          | 0/11 [00:00<?, ?it/s]"
          ],
          "name": "stderr"
        },
        {
          "output_type": "stream",
          "text": [
            "Train loss: 2.59e-01, Val loss: 3.48e-01\n",
            "Best val loss is: 3.48e-01\n",
            "Train loss: 2.58e-01, Val loss: 3.48e-01\n",
            "Best val loss is: 3.48e-01\n"
          ],
          "name": "stdout"
        },
        {
          "output_type": "stream",
          "text": [
            "100%|██████████| 11/11 [00:00<00:00, 295.66it/s]\n",
            "100%|██████████| 11/11 [00:00<00:00, 282.57it/s]\n",
            "100%|██████████| 11/11 [00:00<00:00, 296.48it/s]\n",
            "  0%|          | 0/11 [00:00<?, ?it/s]"
          ],
          "name": "stderr"
        },
        {
          "output_type": "stream",
          "text": [
            "Train loss: 2.58e-01, Val loss: 3.48e-01\n",
            "Best val loss is: 3.48e-01\n",
            "Train loss: 2.57e-01, Val loss: 3.48e-01\n",
            "Best val loss is: 3.48e-01\n",
            "Train loss: 2.57e-01, Val loss: 3.48e-01\n",
            "Best val loss is: 3.48e-01\n"
          ],
          "name": "stdout"
        },
        {
          "output_type": "stream",
          "text": [
            "100%|██████████| 11/11 [00:00<00:00, 299.26it/s]\n",
            "100%|██████████| 11/11 [00:00<00:00, 344.32it/s]\n",
            "  0%|          | 0/11 [00:00<?, ?it/s]"
          ],
          "name": "stderr"
        },
        {
          "output_type": "stream",
          "text": [
            "Train loss: 2.57e-01, Val loss: 3.48e-01\n",
            "Best val loss is: 3.48e-01\n",
            "Train loss: 2.56e-01, Val loss: 3.48e-01\n",
            "Best val loss is: 3.48e-01\n"
          ],
          "name": "stdout"
        },
        {
          "output_type": "stream",
          "text": [
            "100%|██████████| 11/11 [00:00<00:00, 310.02it/s]\n",
            "100%|██████████| 11/11 [00:00<00:00, 334.01it/s]\n",
            "100%|██████████| 11/11 [00:00<00:00, 309.99it/s]\n",
            "  0%|          | 0/11 [00:00<?, ?it/s]"
          ],
          "name": "stderr"
        },
        {
          "output_type": "stream",
          "text": [
            "Train loss: 2.56e-01, Val loss: 3.48e-01\n",
            "Best val loss is: 3.48e-01\n",
            "Train loss: 2.55e-01, Val loss: 3.48e-01\n",
            "Best val loss is: 3.48e-01\n",
            "Train loss: 2.55e-01, Val loss: 3.48e-01\n",
            "Best val loss is: 3.48e-01\n"
          ],
          "name": "stdout"
        },
        {
          "output_type": "stream",
          "text": [
            "100%|██████████| 11/11 [00:00<00:00, 285.99it/s]\n",
            "100%|██████████| 11/11 [00:00<00:00, 321.21it/s]\n",
            "  0%|          | 0/11 [00:00<?, ?it/s]"
          ],
          "name": "stderr"
        },
        {
          "output_type": "stream",
          "text": [
            "Train loss: 2.54e-01, Val loss: 3.48e-01\n",
            "Best val loss is: 3.48e-01\n",
            "Train loss: 2.54e-01, Val loss: 3.47e-01\n",
            "Best val loss is: 3.47e-01\n"
          ],
          "name": "stdout"
        },
        {
          "output_type": "stream",
          "text": [
            "100%|██████████| 11/11 [00:00<00:00, 285.98it/s]\n",
            "100%|██████████| 11/11 [00:00<00:00, 324.96it/s]\n",
            "100%|██████████| 11/11 [00:00<00:00, 316.64it/s]\n",
            "  0%|          | 0/11 [00:00<?, ?it/s]"
          ],
          "name": "stderr"
        },
        {
          "output_type": "stream",
          "text": [
            "Train loss: 2.54e-01, Val loss: 3.47e-01\n",
            "Best val loss is: 3.47e-01\n",
            "Train loss: 2.53e-01, Val loss: 3.47e-01\n",
            "Best val loss is: 3.47e-01\n",
            "Train loss: 2.53e-01, Val loss: 3.47e-01\n",
            "Best val loss is: 3.47e-01\n"
          ],
          "name": "stdout"
        },
        {
          "output_type": "stream",
          "text": [
            "100%|██████████| 11/11 [00:00<00:00, 287.65it/s]\n",
            "100%|██████████| 11/11 [00:00<00:00, 329.70it/s]\n",
            "  0%|          | 0/11 [00:00<?, ?it/s]"
          ],
          "name": "stderr"
        },
        {
          "output_type": "stream",
          "text": [
            "Train loss: 2.52e-01, Val loss: 3.47e-01\n",
            "Best val loss is: 3.47e-01\n",
            "Train loss: 2.52e-01, Val loss: 3.47e-01\n",
            "Best val loss is: 3.47e-01\n"
          ],
          "name": "stdout"
        },
        {
          "output_type": "stream",
          "text": [
            "100%|██████████| 11/11 [00:00<00:00, 301.29it/s]\n",
            "100%|██████████| 11/11 [00:00<00:00, 334.29it/s]\n",
            "100%|██████████| 11/11 [00:00<00:00, 337.71it/s]\n",
            "  0%|          | 0/11 [00:00<?, ?it/s]"
          ],
          "name": "stderr"
        },
        {
          "output_type": "stream",
          "text": [
            "Train loss: 2.52e-01, Val loss: 3.47e-01\n",
            "Best val loss is: 3.47e-01\n",
            "Train loss: 2.51e-01, Val loss: 3.47e-01\n",
            "Best val loss is: 3.47e-01\n",
            "Train loss: 2.51e-01, Val loss: 3.47e-01\n",
            "Best val loss is: 3.47e-01\n"
          ],
          "name": "stdout"
        },
        {
          "output_type": "stream",
          "text": [
            "100%|██████████| 11/11 [00:00<00:00, 324.69it/s]\n",
            "100%|██████████| 11/11 [00:00<00:00, 351.54it/s]\n",
            "100%|██████████| 11/11 [00:00<00:00, 335.38it/s]"
          ],
          "name": "stderr"
        },
        {
          "output_type": "stream",
          "text": [
            "Train loss: 2.50e-01, Val loss: 3.47e-01\n",
            "Best val loss is: 3.47e-01\n",
            "Train loss: 2.50e-01, Val loss: 3.47e-01\n",
            "Best val loss is: 3.47e-01\n",
            "Train loss: 2.50e-01, Val loss: 3.47e-01\n",
            "Best val loss is: 3.47e-01\n"
          ],
          "name": "stdout"
        },
        {
          "output_type": "stream",
          "text": [
            "\n",
            "100%|██████████| 11/11 [00:00<00:00, 304.59it/s]\n",
            "100%|██████████| 11/11 [00:00<00:00, 292.15it/s]\n",
            "  0%|          | 0/11 [00:00<?, ?it/s]"
          ],
          "name": "stderr"
        },
        {
          "output_type": "stream",
          "text": [
            "Train loss: 2.49e-01, Val loss: 3.47e-01\n",
            "Best val loss is: 3.47e-01\n",
            "Train loss: 2.49e-01, Val loss: 3.47e-01\n",
            "Best val loss is: 3.47e-01\n"
          ],
          "name": "stdout"
        },
        {
          "output_type": "stream",
          "text": [
            "100%|██████████| 11/11 [00:00<00:00, 299.17it/s]\n",
            "100%|██████████| 11/11 [00:00<00:00, 320.88it/s]\n",
            "100%|██████████| 11/11 [00:00<00:00, 338.42it/s]\n",
            "  0%|          | 0/11 [00:00<?, ?it/s]"
          ],
          "name": "stderr"
        },
        {
          "output_type": "stream",
          "text": [
            "Train loss: 2.48e-01, Val loss: 3.47e-01\n",
            "Best val loss is: 3.47e-01\n",
            "Train loss: 2.48e-01, Val loss: 3.47e-01\n",
            "Best val loss is: 3.47e-01\n",
            "Train loss: 2.48e-01, Val loss: 3.47e-01\n",
            "Best val loss is: 3.47e-01\n"
          ],
          "name": "stdout"
        },
        {
          "output_type": "stream",
          "text": [
            "100%|██████████| 11/11 [00:00<00:00, 314.77it/s]\n",
            "100%|██████████| 11/11 [00:00<00:00, 330.07it/s]\n",
            "  0%|          | 0/11 [00:00<?, ?it/s]"
          ],
          "name": "stderr"
        },
        {
          "output_type": "stream",
          "text": [
            "Train loss: 2.47e-01, Val loss: 3.47e-01\n",
            "Best val loss is: 3.47e-01\n",
            "Train loss: 2.47e-01, Val loss: 3.46e-01\n",
            "Best val loss is: 3.46e-01\n"
          ],
          "name": "stdout"
        },
        {
          "output_type": "stream",
          "text": [
            "100%|██████████| 11/11 [00:00<00:00, 283.53it/s]\n",
            "100%|██████████| 11/11 [00:00<00:00, 331.15it/s]\n",
            "100%|██████████| 11/11 [00:00<00:00, 329.04it/s]\n",
            "  0%|          | 0/11 [00:00<?, ?it/s]"
          ],
          "name": "stderr"
        },
        {
          "output_type": "stream",
          "text": [
            "Train loss: 2.47e-01, Val loss: 3.46e-01\n",
            "Best val loss is: 3.46e-01\n",
            "Train loss: 2.46e-01, Val loss: 3.46e-01\n",
            "Best val loss is: 3.46e-01\n",
            "Train loss: 2.46e-01, Val loss: 3.46e-01\n",
            "Best val loss is: 3.46e-01\n"
          ],
          "name": "stdout"
        },
        {
          "output_type": "stream",
          "text": [
            "100%|██████████| 11/11 [00:00<00:00, 313.57it/s]\n",
            "100%|██████████| 11/11 [00:00<00:00, 341.53it/s]\n",
            "  0%|          | 0/11 [00:00<?, ?it/s]"
          ],
          "name": "stderr"
        },
        {
          "output_type": "stream",
          "text": [
            "Train loss: 2.46e-01, Val loss: 3.46e-01\n",
            "Best val loss is: 3.46e-01\n",
            "Train loss: 2.45e-01, Val loss: 3.46e-01\n",
            "Best val loss is: 3.46e-01\n"
          ],
          "name": "stdout"
        },
        {
          "output_type": "stream",
          "text": [
            "100%|██████████| 11/11 [00:00<00:00, 334.15it/s]\n",
            "100%|██████████| 11/11 [00:00<00:00, 329.34it/s]\n",
            "100%|██████████| 11/11 [00:00<00:00, 316.25it/s]\n",
            "  0%|          | 0/11 [00:00<?, ?it/s]"
          ],
          "name": "stderr"
        },
        {
          "output_type": "stream",
          "text": [
            "Train loss: 2.45e-01, Val loss: 3.46e-01\n",
            "Best val loss is: 3.46e-01\n",
            "Train loss: 2.45e-01, Val loss: 3.46e-01\n",
            "Best val loss is: 3.46e-01\n",
            "Train loss: 2.44e-01, Val loss: 3.46e-01\n",
            "Best val loss is: 3.46e-01\n"
          ],
          "name": "stdout"
        },
        {
          "output_type": "stream",
          "text": [
            "100%|██████████| 11/11 [00:00<00:00, 319.92it/s]\n",
            "100%|██████████| 11/11 [00:00<00:00, 351.77it/s]\n",
            "  0%|          | 0/11 [00:00<?, ?it/s]"
          ],
          "name": "stderr"
        },
        {
          "output_type": "stream",
          "text": [
            "Train loss: 2.44e-01, Val loss: 3.46e-01\n",
            "Best val loss is: 3.46e-01\n",
            "Train loss: 2.43e-01, Val loss: 3.46e-01\n",
            "Best val loss is: 3.46e-01\n"
          ],
          "name": "stdout"
        },
        {
          "output_type": "stream",
          "text": [
            "100%|██████████| 11/11 [00:00<00:00, 282.93it/s]\n",
            "100%|██████████| 11/11 [00:00<00:00, 297.56it/s]\n",
            "100%|██████████| 11/11 [00:00<00:00, 304.54it/s]\n",
            "  0%|          | 0/11 [00:00<?, ?it/s]"
          ],
          "name": "stderr"
        },
        {
          "output_type": "stream",
          "text": [
            "Train loss: 2.43e-01, Val loss: 3.46e-01\n",
            "Best val loss is: 3.46e-01\n",
            "Train loss: 2.43e-01, Val loss: 3.46e-01\n",
            "Best val loss is: 3.46e-01\n",
            "Train loss: 2.42e-01, Val loss: 3.46e-01\n",
            "Best val loss is: 3.46e-01\n"
          ],
          "name": "stdout"
        },
        {
          "output_type": "stream",
          "text": [
            "100%|██████████| 11/11 [00:00<00:00, 305.28it/s]\n",
            "100%|██████████| 11/11 [00:00<00:00, 333.98it/s]\n",
            "  0%|          | 0/11 [00:00<?, ?it/s]"
          ],
          "name": "stderr"
        },
        {
          "output_type": "stream",
          "text": [
            "Train loss: 2.42e-01, Val loss: 3.46e-01\n",
            "Best val loss is: 3.46e-01\n",
            "Train loss: 2.42e-01, Val loss: 3.46e-01\n",
            "Best val loss is: 3.46e-01\n"
          ],
          "name": "stdout"
        },
        {
          "output_type": "stream",
          "text": [
            "100%|██████████| 11/11 [00:00<00:00, 319.77it/s]\n",
            "100%|██████████| 11/11 [00:00<00:00, 366.43it/s]\n",
            "100%|██████████| 11/11 [00:00<00:00, 345.27it/s]\n",
            "  0%|          | 0/11 [00:00<?, ?it/s]"
          ],
          "name": "stderr"
        },
        {
          "output_type": "stream",
          "text": [
            "Train loss: 2.41e-01, Val loss: 3.46e-01\n",
            "Best val loss is: 3.46e-01\n",
            "Train loss: 2.41e-01, Val loss: 3.46e-01\n",
            "Best val loss is: 3.46e-01\n",
            "Train loss: 2.41e-01, Val loss: 3.46e-01\n",
            "Best val loss is: 3.46e-01\n"
          ],
          "name": "stdout"
        },
        {
          "output_type": "stream",
          "text": [
            "100%|██████████| 11/11 [00:00<00:00, 273.61it/s]\n",
            "100%|██████████| 11/11 [00:00<00:00, 333.91it/s]\n",
            "  0%|          | 0/11 [00:00<?, ?it/s]"
          ],
          "name": "stderr"
        },
        {
          "output_type": "stream",
          "text": [
            "Train loss: 2.40e-01, Val loss: 3.46e-01\n",
            "Best val loss is: 3.46e-01\n",
            "Train loss: 2.40e-01, Val loss: 3.46e-01\n",
            "Best val loss is: 3.46e-01\n"
          ],
          "name": "stdout"
        },
        {
          "output_type": "stream",
          "text": [
            "100%|██████████| 11/11 [00:00<00:00, 280.73it/s]\n",
            "100%|██████████| 11/11 [00:00<00:00, 324.11it/s]\n",
            "100%|██████████| 11/11 [00:00<00:00, 348.51it/s]\n",
            "  0%|          | 0/11 [00:00<?, ?it/s]"
          ],
          "name": "stderr"
        },
        {
          "output_type": "stream",
          "text": [
            "Train loss: 2.40e-01, Val loss: 3.46e-01\n",
            "Best val loss is: 3.46e-01\n",
            "Train loss: 2.40e-01, Val loss: 3.46e-01\n",
            "Best val loss is: 3.46e-01\n",
            "Train loss: 2.39e-01, Val loss: 3.46e-01\n",
            "Best val loss is: 3.46e-01\n"
          ],
          "name": "stdout"
        },
        {
          "output_type": "stream",
          "text": [
            "100%|██████████| 11/11 [00:00<00:00, 318.25it/s]\n",
            "100%|██████████| 11/11 [00:00<00:00, 350.65it/s]\n",
            "100%|██████████| 11/11 [00:00<00:00, 335.80it/s]"
          ],
          "name": "stderr"
        },
        {
          "output_type": "stream",
          "text": [
            "Train loss: 2.39e-01, Val loss: 3.46e-01\n",
            "Best val loss is: 3.46e-01\n",
            "Train loss: 2.39e-01, Val loss: 3.46e-01\n",
            "Best val loss is: 3.46e-01\n"
          ],
          "name": "stdout"
        },
        {
          "output_type": "stream",
          "text": [
            "\n",
            "100%|██████████| 11/11 [00:00<00:00, 346.86it/s]\n",
            "100%|██████████| 11/11 [00:00<00:00, 346.81it/s]\n",
            "100%|██████████| 11/11 [00:00<00:00, 335.16it/s]"
          ],
          "name": "stderr"
        },
        {
          "output_type": "stream",
          "text": [
            "Train loss: 2.38e-01, Val loss: 3.46e-01\n",
            "Best val loss is: 3.46e-01\n",
            "Train loss: 2.38e-01, Val loss: 3.46e-01\n",
            "Best val loss is: 3.46e-01\n",
            "Train loss: 2.38e-01, Val loss: 3.46e-01\n",
            "Best val loss is: 3.46e-01\n",
            "Train loss: 2.37e-01, Val loss: 3.46e-01\n",
            "Best val loss is: 3.46e-01\n"
          ],
          "name": "stdout"
        },
        {
          "output_type": "stream",
          "text": [
            "\n",
            "100%|██████████| 11/11 [00:00<00:00, 338.51it/s]\n",
            "  0%|          | 0/11 [00:00<?, ?it/s]"
          ],
          "name": "stderr"
        },
        {
          "output_type": "stream",
          "text": [
            "Train loss: 2.37e-01, Val loss: 3.46e-01\n",
            "Best val loss is: 3.46e-01\n"
          ],
          "name": "stdout"
        },
        {
          "output_type": "stream",
          "text": [
            "100%|██████████| 11/11 [00:00<00:00, 277.65it/s]\n",
            "100%|██████████| 11/11 [00:00<00:00, 349.24it/s]\n",
            "100%|██████████| 11/11 [00:00<00:00, 286.02it/s]\n",
            "100%|██████████| 11/11 [00:00<00:00, 306.11it/s]\n",
            "  0%|          | 0/11 [00:00<?, ?it/s]"
          ],
          "name": "stderr"
        },
        {
          "output_type": "stream",
          "text": [
            "Train loss: 2.37e-01, Val loss: 3.46e-01\n",
            "Best val loss is: 3.46e-01\n",
            "Train loss: 2.36e-01, Val loss: 3.46e-01\n",
            "Best val loss is: 3.46e-01\n",
            "Train loss: 2.36e-01, Val loss: 3.46e-01\n",
            "Best val loss is: 3.46e-01\n",
            "Train loss: 2.36e-01, Val loss: 3.46e-01\n",
            "Best val loss is: 3.46e-01\n"
          ],
          "name": "stdout"
        },
        {
          "output_type": "stream",
          "text": [
            "100%|██████████| 11/11 [00:00<00:00, 285.60it/s]\n",
            "  0%|          | 0/11 [00:00<?, ?it/s]"
          ],
          "name": "stderr"
        },
        {
          "output_type": "stream",
          "text": [
            "Train loss: 2.36e-01, Val loss: 3.46e-01\n",
            "Best val loss is: 3.46e-01\n"
          ],
          "name": "stdout"
        },
        {
          "output_type": "stream",
          "text": [
            "100%|██████████| 11/11 [00:00<00:00, 295.91it/s]\n",
            "100%|██████████| 11/11 [00:00<00:00, 349.25it/s]\n",
            "100%|██████████| 11/11 [00:00<00:00, 350.01it/s]\n",
            "100%|██████████| 11/11 [00:00<00:00, 349.64it/s]"
          ],
          "name": "stderr"
        },
        {
          "output_type": "stream",
          "text": [
            "Train loss: 2.35e-01, Val loss: 3.46e-01\n",
            "Best val loss is: 3.46e-01\n",
            "Train loss: 2.35e-01, Val loss: 3.46e-01\n",
            "Best val loss is: 3.46e-01\n",
            "Train loss: 2.35e-01, Val loss: 3.46e-01\n",
            "Best val loss is: 3.46e-01\n",
            "Train loss: 2.34e-01, Val loss: 3.46e-01\n",
            "Best val loss is: 3.46e-01\n",
            "Stopped training after 212/5000 epochs.\n",
            "The loss is 7.09e-01 before training and 3.46e-01 after training.\n",
            "The training and validation losses are \n",
            "\t[0.7058016204833985, 0.6762961578369141, 0.6498005676269532, 0.6258312225341797, 0.6042657089233399, 0.5848652648925782, 0.5673819732666016, 0.5515904235839844, 0.5372746276855469, 0.5242446517944336, 0.5123407745361328, 0.5014226913452149, 0.49137096405029296, 0.48208465576171877, 0.4734760665893555, 0.4654705810546875, 0.4580038452148438, 0.4510202407836914, 0.4444713592529297, 0.4383151626586914, 0.43251476287841795, 0.42703800201416015, 0.42185626983642577, 0.4169443893432617, 0.4122799301147461, 0.4078430938720703, 0.4036159133911133, 0.3995826721191406, 0.39572879791259763, 0.3920414352416992, 0.38850894927978513, 0.3851206970214844, 0.3818669891357422, 0.3787392044067383, 0.37572933197021485, 0.3728299331665039, 0.3700344848632813, 0.36733673095703123, 0.36473106384277343, 0.3622122573852539, 0.35977542877197266, 0.3574162673950195, 0.3551305389404297, 0.35291446685791017, 0.35076442718505857, 0.34867733001708984, 0.3466498565673828, 0.34467926025390627, 0.34276283264160157, 0.3408979797363281, 0.3390824508666992, 0.3373140335083008, 0.33559059143066405, 0.33391029357910157, 0.33227115631103515, 0.33067161560058594, 0.32910987854003904, 0.32758464813232424, 0.3260942077636719, 0.3246372985839844, 0.32321273803710937, 0.3218191146850586, 0.3204554748535156, 0.3191204833984375, 0.31781320571899413, 0.31653274536132814, 0.31527793884277344, 0.3140480232238769, 0.3128421401977539, 0.31165950775146484, 0.31049924850463867, 0.30936067581176757, 0.3082430648803711, 0.30714576721191406, 0.30606809616088865, 0.3050094795227051, 0.30396930694580077, 0.3029470443725586, 0.301942024230957, 0.30095390319824217, 0.2999820137023926, 0.29902605056762693, 0.2980853843688965, 0.29715972900390625, 0.29624860763549804, 0.2953515625, 0.2944682312011719, 0.29359825134277345, 0.2927412605285645, 0.291896915435791, 0.29106487274169923, 0.29024477005004884, 0.28943639755249023, 0.28863933563232425, 0.2878533935546875, 0.2870782470703125, 0.2863136672973633, 0.2855592918395996, 0.28481502532958985, 0.2840804672241211, 0.2833554649353027, 0.28263980865478516, 0.28193326950073244, 0.28123558044433594, 0.28054656982421877, 0.2798660850524902, 0.2791938400268555, 0.2785297393798828, 0.27787357330322265, 0.27722515106201173, 0.2765843391418457, 0.2759508895874023, 0.27532474517822264, 0.27470571517944337, 0.27409358978271486, 0.27348836898803713, 0.27288978576660156, 0.2722977256774902, 0.2717120552062988, 0.271132698059082, 0.27055940628051756, 0.2699922561645508, 0.2694309425354004, 0.26887542724609376, 0.2683256149291992, 0.2677813720703125, 0.2672425842285156, 0.2667091751098633, 0.26618099212646484, 0.265658016204834, 0.2651401138305664, 0.26462717056274415, 0.2641191291809082, 0.2636159133911133, 0.2631173515319824, 0.2626234245300293, 0.2621340751647949, 0.26164922714233396, 0.2611686897277832, 0.26069252014160155, 0.2602206039428711, 0.2597528648376465, 0.25928916931152346, 0.25882955551147463, 0.25837394714355466, 0.25792219161987306, 0.2574742889404297, 0.25703012466430664, 0.2565896987915039, 0.2561529731750488, 0.2557197952270508, 0.25529022216796876, 0.2548640632629395, 0.25444133758544923, 0.2540220832824707, 0.2536060523986816, 0.253193359375, 0.2527838897705078, 0.25237756729125976, 0.25197437286376956, 0.2515743255615234, 0.25117729187011717, 0.25078329086303713, 0.2503921890258789, 0.2500040054321289, 0.2496187400817871, 0.24923625946044922, 0.2488566017150879, 0.24847963333129883, 0.24810543060302734, 0.24773391723632812, 0.2473649787902832, 0.24699867248535157, 0.24663497924804687, 0.24627378463745117, 0.24591506958007814, 0.24555883407592774, 0.24520505905151369, 0.24485366821289062, 0.24450464248657228, 0.24415794372558594, 0.24381357192993164, 0.2434714698791504, 0.2431316566467285, 0.2427939987182617, 0.24245859146118165, 0.24212528228759767, 0.24179420471191407, 0.24146520614624023, 0.24113826751708983, 0.24081340789794922, 0.24049062728881837, 0.24016983032226563, 0.2398509979248047, 0.23953414916992188, 0.2392192268371582, 0.23890625, 0.2385951805114746, 0.23828598022460937, 0.23797857284545898, 0.2376730728149414, 0.23736934661865233, 0.23706741333007814, 0.23676725387573241, 0.23646883010864259, 0.23617219924926758, 0.2358772087097168, 0.23558393478393555, 0.23529233932495117, 0.23500236511230468, 0.23471405029296874, 0.23442741394042968, None, None, None, None, None, None, None, None, None, None, None, None, None, None, None, None, None, None, None, None, None, None, None, None, None, None, None, None, None, None, None, None, None, None, None, None, None, None, None, None, None, None, None, None, None, None, None, None, None, None, None, None, None, None, None, None, None, None, None, None, None, None, None, None, None, None, None, None, None, None, None, None, None, None, None, None, None, None, None, None, None, None, None, None, None, None, None, None, None, None, None, None, None, None, None, None, None, None, None, None, None, None, None, None, None, None, None, None, None, None, None, None, None, None, None, None, None, None, None, None, None, None, None, None, None, None, None, None, None, None, None, None, None, None, None, None, None, None, None, None, None, None, None, None, None, None, None, None, None, None, None, None, None, None, None, None, None, None, None, None, None, None, None, None, None, None, None, None, None, None, None, None, None, None, None, None, None, None, None, None, None, None, None, None, None, None, None, None, None, None, None, None, None, None, None, None, None, None, None, None, None, None, None, None, None, None, None, None, None, None, None, None, None, None, None, None, None, None, None, None, None, None, None, None, None, None, None, None, None, None, None, None, None, None, None, None, None, None, None, None, None, None, None, None, None, None, None, None, None, None, None, None, None, None, None, None, None, None, None, None, None, None, None, None, None, None, None, None, None, None, None, None, None, None, None, None, None, None, None, None, None, None, None, None, None, None, None, None, None, None, None, None, None, None, None, None, None, None, None, None, None, None, None, None, None, None, None, None, None, None, None, None, None, None, None, None, None, None, None, None, None, None, None, None, None, None, None, None, None, None, None, None, None, None, None, None, None, None, None, None, None, None, None, None, None, None, None, None, None, None, None, None, None, None, None, None, None, None, None, None, None, None, None, None, None, None, None, None, None, None, None, None, None, None, None, None, None, None, None, None, None, None, None, None, None, None, None, None, None, None, None, None, None, None, None, None, None, None, None, None, None, None, None, None, None, None, None, None, None, None, None, None, None, None, None, None, None, None, None, None, None, None, None, None, None, None, None, None, None, None, None, None, None, None, None, None, None, None, None, None, None, None, None, None, None, None, None, None, None, None, None, None, None, None, None, None, None, None, None, None, None, None, None, None, None, None, None, None, None, None, None, None, None, None, None, None, None, None, None, None, None, None, None, None, None, None, None, None, None, None, None, None, None, None, None, None, None, None, None, None, None, None, None, None, None, None, None, None, None, None, None, None, None, None, None, None, None, None, None, None, None, None, None, None, None, None, None, None, None, None, None, None, None, None, None, None, None, None, None, None, None, None, None, None, None, None, None, None, None, None, None, None, None, None, None, None, None, None, None, None, None, None, None, None, None, None, None, None, None, None, None, None, None, None, None, None, None, None, None, None, None, None, None, None, None, None, None, None, None, None, None, None, None, None, None, None, None, None, None, None, None, None, None, None, None, None, None, None, None, None, None, None, None, None, None, None, None, None, None, None, None, None, None, None, None, None, None, None, None, None, None, None, None, None, None, None, None, None, None, None, None, None, None, None, None, None, None, None, None, None, None, None, None, None, None, None, None, None, None, None, None, None, None, None, None, None, None, None, None, None, None, None, None, None, None, None, None, None, None, None, None, None, None, None, None, None, None, None, None, None, None, None, None, None, None, None, None, None, None, None, None, None, None, None, None, None, None, None, None, None, None, None, None, None, None, None, None, None, None, None, None, None, None, None, None, None, None, None, None, None, None, None, None, None, None, None, None, None, None, None, None, None, None, None, None, None, None, None, None, None, None, None, None, None, None, None, None, None, None, None, None, None, None, None, None, None, None, None, None, None, None, None, None, None, None, None, None, None, None, None, None, None, None, None, None, None, None, None, None, None, None, None, None, None, None, None, None, None, None, None, None, None, None, None, None, None, None, None, None, None, None, None, None, None, None, None, None, None, None, None, None, None, None, None, None, None, None, None, None, None, None, None, None, None, None, None, None, None, None, None, None, None, None, None, None, None, None, None, None, None, None, None, None, None, None, None, None, None, None, None, None, None, None, None, None, None, None, None, None, None, None, None, None, None, None, None, None, None, None, None, None, None, None, None, None, None, None, None, None, None, None, None, None, None, None, None, None, None, None, None, None, None, None, None, None, None, None, None, None, None, None, None, None, None, None, None, None, None, None, None, None, None, None, None, None, None, None, None, None, None, None, None, None, None, None, None, None, None, None, None, None, None, None, None, None, None, None, None, None, None, None, None, None, None, None, None, None, None, None, None, None, None, None, None, None, None, None, None, None, None, None, None, None, None, None, None, None, None, None, None, None, None, None, None, None, None, None, None, None, None, None, None, None, None, None, None, None, None, None, None, None, None, None, None, None, None, None, None, None, None, None, None, None, None, None, None, None, None, None, None, None, None, None, None, None, None, None, None, None, None, None, None, None, None, None, None, None, None, None, None, None, None, None, None, None, None, None, None, None, None, None, None, None, None, None, None, None, None, None, None, None, None, None, None, None, None, None, None, None, None, None, None, None, None, None, None, None, None, None, None, None, None, None, None, None, None, None, None, None, None, None, None, None, None, None, None, None, None, None, None, None, None, None, None, None, None, None, None, None, None, None, None, None, None, None, None, None, None, None, None, None, None, None, None, None, None, None, None, None, None, None, None, None, None, None, None, None, None, None, None, None, None, None, None, None, None, None, None, None, None, None, None, None, None, None, None, None, None, None, None, None, None, None, None, None, None, None, None, None, None, None, None, None, None, None, None, None, None, None, None, None, None, None, None, None, None, None, None, None, None, None, None, None, None, None, None, None, None, None, None, None, None, None, None, None, None, None, None, None, None, None, None, None, None, None, None, None, None, None, None, None, None, None, None, None, None, None, None, None, None, None, None, None, None, None, None, None, None, None, None, None, None, None, None, None, None, None, None, None, None, None, None, None, None, None, None, None, None, None, None, None, None, None, None, None, None, None, None, None, None, None, None, None, None, None, None, None, None, None, None, None, None, None, None, None, None, None, None, None, None, None, None, None, None, None, None, None, None, None, None, None, None, None, None, None, None, None, None, None, None, None, None, None, None, None, None, None, None, None, None, None, None, None, None, None, None, None, None, None, None, None, None, None, None, None, None, None, None, None, None, None, None, None, None, None, None, None, None, None, None, None, None, None, None, None, None, None, None, None, None, None, None, None, None, None, None, None, None, None, None, None, None, None, None, None, None, None, None, None, None, None, None, None, None, None, None, None, None, None, None, None, None, None, None, None, None, None, None, None, None, None, None, None, None, None, None, None, None, None, None, None, None, None, None, None, None, None, None, None, None, None, None, None, None, None, None, None, None, None, None, None, None, None, None, None, None, None, None, None, None, None, None, None, None, None, None, None, None, None, None, None, None, None, None, None, None, None, None, None, None, None, None, None, None, None, None, None, None, None, None, None, None, None, None, None, None, None, None, None, None, None, None, None, None, None, None, None, None, None, None, None, None, None, None, None, None, None, None, None, None, None, None, None, None, None, None, None, None, None, None, None, None, None, None, None, None, None, None, None, None, None, None, None, None, None, None, None, None, None, None, None, None, None, None, None, None, None, None, None, None, None, None, None, None, None, None, None, None, None, None, None, None, None, None, None, None, None, None, None, None, None, None, None, None, None, None, None, None, None, None, None, None, None, None, None, None, None, None, None, None, None, None, None, None, None, None, None, None, None, None, None, None, None, None, None, None, None, None, None, None, None, None, None, None, None, None, None, None, None, None, None, None, None, None, None, None, None, None, None, None, None, None, None, None, None, None, None, None, None, None, None, None, None, None, None, None, None, None, None, None, None, None, None, None, None, None, None, None, None, None, None, None, None, None, None, None, None, None, None, None, None, None, None, None, None, None, None, None, None, None, None, None, None, None, None, None, None, None, None, None, None, None, None, None, None, None, None, None, None, None, None, None, None, None, None, None, None, None, None, None, None, None, None, None, None, None, None, None, None, None, None, None, None, None, None, None, None, None, None, None, None, None, None, None, None, None, None, None, None, None, None, None, None, None, None, None, None, None, None, None, None, None, None, None, None, None, None, None, None, None, None, None, None, None, None, None, None, None, None, None, None, None, None, None, None, None, None, None, None, None, None, None, None, None, None, None, None, None, None, None, None, None, None, None, None, None, None, None, None, None, None, None, None, None, None, None, None, None, None, None, None, None, None, None, None, None, None, None, None, None, None, None, None, None, None, None, None, None, None, None, None, None, None, None, None, None, None, None, None, None, None, None, None, None, None, None, None, None, None, None, None, None, None, None, None, None, None, None, None, None, None, None, None, None, None, None, None, None, None, None, None, None, None, None, None, None, None, None, None, None, None, None, None, None, None, None, None, None, None, None, None, None, None, None, None, None, None, None, None, None, None, None, None, None, None, None, None, None, None, None, None, None, None, None, None, None, None, None, None, None, None, None, None, None, None, None, None, None, None, None, None, None, None, None, None, None, None, None, None, None, None, None, None, None, None, None, None, None, None, None, None, None, None, None, None, None, None, None, None, None, None, None, None, None, None, None, None, None, None, None, None, None, None, None, None, None, None, None, None, None, None, None, None, None, None, None, None, None, None, None, None, None, None, None, None, None, None, None, None, None, None, None, None, None, None, None, None, None, None, None, None, None, None, None, None, None, None, None, None, None, None, None, None, None, None, None, None, None, None, None, None, None, None, None, None, None, None, None, None, None, None, None, None, None, None, None, None, None, None, None, None, None, None, None, None, None, None, None, None, None, None, None, None, None, None, None, None, None, None, None, None, None, None, None, None, None, None, None, None, None, None, None, None, None, None, None, None, None, None, None, None, None, None, None, None, None, None, None, None, None, None, None, None, None, None, None, None, None, None, None, None, None, None, None, None, None, None, None, None, None, None, None, None, None, None, None, None, None, None, None, None, None, None, None, None, None, None, None, None, None, None, None, None, None, None, None, None, None, None, None, None, None, None, None, None, None, None, None, None, None, None, None, None, None, None, None, None, None, None, None, None, None, None, None, None, None, None, None, None, None, None, None, None, None, None, None, None, None, None, None, None, None, None, None, None, None, None, None, None, None, None, None, None, None, None, None, None, None, None, None, None, None, None, None, None, None, None, None, None, None, None, None, None, None, None, None, None, None, None, None, None, None, None, None, None, None, None, None, None, None, None, None, None, None, None, None, None, None, None, None, None, None, None, None, None, None, None, None, None, None, None, None, None, None, None, None, None, None, None, None, None, None, None, None, None, None, None, None, None, None, None, None, None, None, None, None, None, None, None, None, None, None, None, None, None, None, None, None, None, None, None, None, None, None, None, None, None, None, None, None, None, None, None, None, None, None, None, None, None, None, None, None, None, None, None, None, None, None, None, None, None, None, None, None, None, None, None, None, None, None, None, None, None, None, None, None, None, None, None, None, None, None, None, None, None, None, None, None, None, None, None, None, None, None, None, None, None, None, None, None, None, None, None, None, None, None, None, None, None, None, None, None, None, None, None, None, None, None, None, None, None, None, None, None, None, None, None, None, None, None, None, None, None, None, None, None, None, None, None, None, None, None, None, None, None, None, None, None, None, None, None, None, None, None, None, None, None, None, None, None, None, None, None, None, None, None, None, None, None, None, None, None, None, None, None, None, None, None, None, None, None, None, None, None, None, None, None, None, None, None, None, None, None, None, None, None, None, None, None, None, None, None, None, None, None, None, None, None, None, None, None, None, None, None, None, None, None, None, None, None, None, None, None, None, None, None, None, None, None, None, None, None, None, None, None, None, None, None, None, None, None, None, None, None, None, None, None, None, None, None, None, None, None, None, None, None, None, None, None, None, None, None, None, None, None, None, None, None, None, None, None, None, None, None, None, None, None, None, None, None, None, None, None, None, None, None, None, None, None, None, None, None, None, None, None, None, None, None, None, None, None, None, None, None, None, None, None, None, None, None, None, None, None, None, None, None, None, None, None, None, None, None, None, None, None, None, None, None, None, None, None, None, None, None, None, None, None, None, None, None, None, None, None, None, None, None, None, None, None, None, None, None, None, None, None, None, None, None, None, None, None, None, None, None, None, None, None, None, None, None, None, None, None, None, None, None, None, None, None, None, None, None, None, None, None, None, None, None, None, None, None, None, None, None, None, None, None, None, None, None, None, None, None, None, None, None, None, None, None, None, None, None, None, None, None, None, None, None, None, None, None, None, None, None, None, None, None, None, None, None, None, None, None, None, None, None, None, None, None, None, None, None, None, None, None, None, None, None, None, None, None, None, None, None, None, None, None, None, None, None, None, None, None, None, None, None, None, None, None, None, None, None, None, None, None, None, None, None, None, None, None, None, None, None, None, None, None, None, None, None, None, None, None, None, None, None, None, None, None, None, None, None, None, None, None, None, None, None, None, None, None, None, None, None, None, None, None, None, None, None, None, None, None, None, None, None, None, None, None, None, None, None, None, None, None, None, None, None, None, None, None, None, None, None, None, None, None, None, None, None, None, None, None, None, None, None, None, None, None, None, None, None, None, None, None, None, None, None, None, None, None, None, None, None, None, None, None, None, None, None, None, None, None, None, None, None, None, None, None, None, None, None, None, None, None, None, None, None, None, None, None, None, None, None, None, None, None, None, None, None, None, None, None, None, None, None, None, None, None, None, None, None, None, None, None, None, None, None, None, None, None, None, None, None, None, None, None, None, None, None, None, None, None, None, None, None, None, None, None, None, None, None, None, None, None, None, None, None, None, None, None, None, None, None, None, None, None, None, None, None, None, None, None, None, None, None, None, None, None, None, None, None, None, None, None, None, None, None, None, None, None, None, None, None, None, None, None, None, None, None, None, None, None, None, None, None, None, None, None, None, None, None, None, None, None, None, None, None, None, None, None, None, None, None, None, None, None, None, None, None, None, None, None, None, None, None, None, None, None, None, None, None, None, None, None, None, None, None, None, None, None, None, None, None, None, None, None, None, None, None, None, None, None, None, None, None, None, None, None, None, None, None, None, None, None, None, None, None, None, None, None, None, None, None, None, None, None, None, None, None, None, None, None, None, None, None, None, None, None, None, None, None, None, None, None, None, None, None, None, None, None, None, None, None, None, None, None, None, None, None, None, None, None, None, None, None, None, None, None, None, None, None, None, None, None, None, None, None, None, None, None, None, None, None, None, None, None, None, None, None, None, None, None, None, None, None, None, None, None, None, None, None, None, None, None, None, None, None, None, None, None, None, None, None, None, None, None, None, None, None, None, None, None, None, None, None, None, None, None, None, None, None, None, None, None, None, None, None, None, None, None, None, None, None, None, None, None, None, None, None, None, None, None, None, None, None, None, None, None, None, None, None, None, None, None, None, None, None, None, None, None, None, None, None, None, None, None, None, None, None, None, None, None, None, None, None, None, None, None, None, None, None, None, None, None, None, None, None, None, None, None, None, None, None, None, None, None, None, None, None, None, None, None, None, None, None, None, None, None, None, None, None, None, None, None, None, None, None, None, None, None, None, None, None, None, None, None, None, None, None, None, None, None, None, None, None, None, None, None, None, None, None, None, None, None, None, None, None, None, None, None, None, None, None, None, None, None, None, None, None, None, None, None, None, None, None, None, None, None, None, None, None, None, None, None, None, None, None, None, None, None, None, None, None, None, None, None, None, None, None, None, None, None, None, None, None, None, None, None, None, None, None, None, None, None, None, None, None, None, None, None, None, None, None, None, None, None, None, None, None, None, None, None, None, None, None, None, None, None, None, None, None, None, None, None, None, None, None, None, None, None, None, None, None, None, None, None, None, None, None, None, None, None, None, None, None, None, None, None, None, None, None, None, None, None, None, None, None, None, None, None, None, None, None, None, None, None, None, None, None, None, None, None, None, None, None, None, None, None, None, None, None, None, None, None, None, None, None, None, None, None, None, None, None, None, None, None, None, None, None, None, None, None, None, None, None, None, None, None, None, None, None, None, None, None, None, None, None, None, None, None, None, None, None, None, None, None, None, None, None, None, None, None, None, None, None, None, None, None, None, None, None, None, None, None, None, None, None, None, None, None, None, None, None, None, None, None, None, None, None, None, None, None, None, None, None, None, None, None, None, None, None, None, None, None, None, None, None, None, None, None, None, None, None, None, None, None, None, None, None, None, None, None, None, None, None, None, None, None, None, None, None, None, None, None, None, None, None, None, None, None, None, None, None, None, None, None, None, None, None, None, None, None, None, None, None, None, None, None, None, None, None, None, None, None, None, None, None, None, None, None, None, None, None, None, None, None, None, None, None, None, None, None, None, None, None, None, None, None, None, None, None, None, None, None, None, None, None, None, None, None, None, None, None, None, None, None, None, None, None, None, None, None, None, None, None, None, None, None, None, None, None, None, None, None, None, None, None, None, None, None, None, None, None, None, None, None, None, None, None, None, None, None, None, None, None, None, None, None, None, None, None, None, None, None, None, None, None, None, None, None, None, None, None, None, None, None, None, None, None, None, None, None, None, None, None, None, None, None, None, None, None, None, None, None, None, None, None, None, None, None, None, None, None, None, None, None, None, None, None, None, None, None, None, None, None, None, None, None, None, None, None, None, None, None, None, None, None, None, None, None, None, None, None, None, None, None, None, None, None, None, None, None, None, None, None, None, None, None, None, None, None, None, None, None, None, None, None, None, None, None, None, None, None, None, None, None, None, None, None, None, None, None, None, None, None, None, None, None, None, None, None, None, None, None, None, None, None, None, None, None, None, None, None, None, None, None, None, None, None, None, None, None, None, None, None, None, None, None, None, None, None, None, None, None, None, None, None, None, None, None, None, None, None, None, None, None, None, None, None, None, None, None, None, None, None, None, None, None, None, None, None, None, None, None, None, None, None, None, None, None, None, None, None, None, None, None, None, None, None, None, None, None, None, None, None, None, None, None, None, None, None, None, None, None, None, None, None, None, None, None, None, None, None, None, None, None, None, None, None, None, None, None, None, None, None, None, None, None, None, None, None, None, None, None, None, None, None, None, None, None, None, None, None, None, None, None, None, None, None, None, None, None, None, None, None, None, None, None, None, None, None, None, None, None, None, None, None, None, None, None, None, None, None, None, None, None, None, None, None, None, None, None, None, None, None, None, None, None, None, None, None, None, None, None, None, None, None, None, None, None, None, None, None, None, None, None, None, None, None, None, None, None, None, None, None, None, None, None, None, None, None, None, None, None, None, None, None, None, None, None, None, None, None, None, None, None, None, None, None, None, None, None, None, None, None, None, None, None, None, None, None, None, None, None, None, None, None, None, None, None, None, None, None, None, None, None, None, None, None, None, None, None, None, None, None, None, None, None, None, None, None, None, None, None, None, None, None, None, None, None, None, None, None, None, None, None, None, None, None, None, None, None, None, None, None, None, None, None, None, None, None, None, None, None, None, None, None, None, None, None, None, None, None, None, None, None, None, None, None, None, None, None, None, None, None, None, None, None, None, None, None, None, None, None, None, None, None, None, None, None, None, None, None, None, None, None, None, None, None, None, None, None, None, None, None, None, None, None, None, None, None, None, None, None, None, None, None, None, None, None, None, None, None, None, None, None, None, None, None, None, None, None, None, None, None, None, None, None, None, None, None, None, None, None, None, None, None, None, None, None, None, None, None, None, None, None, None, None, None, None, None, None, None, None, None, None, None, None, None, None, None, None, None, None, None, None, None, None, None, None, None, None, None, None, None, None, None, None, None, None, None, None, None, None, None, None, None, None, None, None, None, None, None, None, None, None, None, None, None, None, None, None, None, None, None, None, None, None, None, None, None, None, None, None, None, None, None, None, None, None, None, None, None, None, None, None, None, None, None, None, None, None, None, None, None, None, None, None, None, None, None, None, None, None, None, None, None, None, None, None, None, None, None, None, None, None, None, None, None, None, None, None, None, None, None, None, None, None, None, None, None, None, None, None, None, None, None, None, None, None, None, None, None, None, None, None, None, None, None, None, None, None, None, None, None, None, None, None, None, None, None, None, None, None, None, None, None, None, None, None, None, None, None, None, None, None, None, None, None, None, None, None, None, None, None, None, None, None, None, None, None, None, None, None, None, None, None, None, None, None, None, None, None, None, None, None, None, None, None, None, None, None, None, None, None, None, None, None, None, None, None, None, None, None, None, None, None, None, None, None, None, None, None, None, None, None, None, None, None, None, None, None, None, None, None, None, None, None, None, None, None, None, None, None, None, None, None, None, None, None, None, None, None, None, None, None, None, None, None, None, None, None, None, None, None, None, None, None, None, None, None, None, None, None, None, None, None, None, None, None, None, None, None, None, None, None, None, None, None, None, None, None, None, None, None, None, None, None, None, None, None, None, None, None, None, None, None, None, None, None, None, None, None, None, None, None, None, None, None, None, None, None, None, None, None, None, None, None, None, None, None, None, None, None, None, None, None, None, None, None, None, None, None, None, None, None, None, None, None, None, None, None, None, None, None, None, None, None, None, None, None, None, None, None, None, None, None, None, None, None, None, None, None, None, None, None, None, None, None, None, None, None, None, None, None, None, None, None, None, None, None, None, None, None, None, None, None, None, None, None, None, None, None, None, None, None, None, None, None, None, None, None, None, None, None, None, None, None, None, None, None, None, None, None, None, None, None, None, None, None, None, None, None, None, None, None, None, None, None, None, None, None, None, None, None, None, None, None, None, None, None, None, None, None, None, None, None, None, None, None, None, None, None, None, None, None, None, None, None, None, None, None, None, None, None, None, None, None, None, None, None, None, None, None, None, None, None, None, None, None, None, None, None, None, None, None, None, None, None, None, None, None, None, None, None, None, None, None, None, None, None, None, None, None, None, None, None, None, None, None, None, None, None, None, None, None, None, None, None, None, None, None, None, None, None, None, None, None, None, None, None, None, None, None, None, None, None, None, None, None, None, None, None, None, None, None, None, None, None, None, None, None, None, None, None, None, None, None, None, None, None, None, None, None, None, None, None, None, None, None, None, None, None, None, None, None, None, None, None, None, None, None, None, None, None, None, None], \n",
            "\t[0.67728590965271, 0.6505081653594971, 0.6262962818145752, 0.6046702265739441, 0.5855624675750732, 0.5685738921165466, 0.5534785389900208, 0.5400326251983643, 0.5279921889305115, 0.5171738862991333, 0.5074105262756348, 0.4985588788986206, 0.49050232768058777, 0.4831399619579315, 0.4763856530189514, 0.470167338848114, 0.46442434191703796, 0.4591022729873657, 0.45415714383125305, 0.4495489299297333, 0.44524434208869934, 0.4412135183811188, 0.4374311566352844, 0.4338744282722473, 0.43052399158477783, 0.4273614287376404, 0.42437195777893066, 0.4215414524078369, 0.4188576638698578, 0.41630929708480835, 0.4138866364955902, 0.41158032417297363, 0.4093824028968811, 0.40728580951690674, 0.40528377890586853, 0.4033699929714203, 0.40153875946998596, 0.3997853398323059, 0.39810478687286377, 0.3964931070804596, 0.3949460983276367, 0.3934600353240967, 0.3920319676399231, 0.3906581997871399, 0.3893362879753113, 0.38806283473968506, 0.38683634996414185, 0.3856540620326996, 0.3845131993293762, 0.3834124207496643, 0.3823498785495758, 0.38132306933403015, 0.38033124804496765, 0.3793722987174988, 0.3784446716308594, 0.377547025680542, 0.37667810916900635, 0.37583693861961365, 0.3750219941139221, 0.37423253059387207, 0.37346696853637695, 0.3727250099182129, 0.3720051050186157, 0.3713070750236511, 0.3706290125846863, 0.3699708878993988, 0.36933207511901855, 0.3687117099761963, 0.3681088387966156, 0.36752280592918396, 0.3669533133506775, 0.36639952659606934, 0.3658609688282013, 0.3653373718261719, 0.3648280203342438, 0.3643324077129364, 0.36384958028793335, 0.36338010430336, 0.3629227578639984, 0.3624773919582367, 0.36204373836517334, 0.3616212010383606, 0.3612096607685089, 0.360808789730072, 0.36041757464408875, 0.36003682017326355, 0.35966548323631287, 0.3593032658100128, 0.3589501678943634, 0.3586061894893646, 0.3582700788974762, 0.3579428493976593, 0.35762301087379456, 0.3573111891746521, 0.35700711607933044, 0.3567105531692505, 0.356420636177063, 0.3561379611492157, 0.35586193203926086, 0.35559260845184326, 0.3553301990032196, 0.3550732731819153, 0.35482257604599, 0.35457783937454224, 0.3543391227722168, 0.3541056215763092, 0.35387781262397766, 0.35365521907806396, 0.35343843698501587, 0.3532261252403259, 0.35301855206489563, 0.3528163433074951, 0.35261863470077515, 0.35242557525634766, 0.35223686695098877, 0.3520526587963104, 0.35187292098999023, 0.35169708728790283, 0.35152536630630493, 0.35135775804519653, 0.3511940836906433, 0.3510338366031647, 0.35087788105010986, 0.35072511434555054, 0.35057637095451355, 0.35043102502822876, 0.3502887487411499, 0.35015013813972473, 0.350014865398407, 0.3498823940753937, 0.34975335001945496, 0.34962722659111023, 0.3495042324066162, 0.34938421845436096, 0.34926727414131165, 0.34915265440940857, 0.34904104471206665, 0.3489323556423187, 0.34882593154907227, 0.34872227907180786, 0.3486211597919464, 0.348522424697876, 0.34842649102211, 0.3483327627182007, 0.3482414782047272, 0.3481524884700775, 0.3480655550956726, 0.34798118472099304, 0.34789878129959106, 0.3478187322616577, 0.3477405309677124, 0.347664475440979, 0.3475910425186157, 0.3475188910961151, 0.34744852781295776, 0.3473808765411377, 0.34731486439704895, 0.34725016355514526, 0.3471881151199341, 0.34712713956832886, 0.34706807136535645, 0.3470110297203064, 0.34695538878440857, 0.3469017744064331, 0.346849650144577, 0.34679922461509705, 0.3467499911785126, 0.34670284390449524, 0.3466572165489197, 0.3466125726699829, 0.3465701937675476, 0.3465283215045929, 0.3464886546134949, 0.3464503288269043, 0.34641313552856445, 0.34637749195098877, 0.346343070268631, 0.3463099002838135, 0.34627828001976013, 0.3462478518486023, 0.3462185561656952, 0.3461909890174866, 0.3461642563343048, 0.34613895416259766, 0.3461144268512726, 0.34609147906303406, 0.3460695743560791, 0.3460486829280853, 0.34602925181388855, 0.3460105359554291, 0.3459930419921875, 0.3459768295288086, 0.3459615111351013, 0.3459472060203552, 0.3459341526031494, 0.34592199325561523, 0.3459106981754303, 0.34590035676956177, 0.34589123725891113, 0.34588301181793213, 0.3458757996559143, 0.34586891531944275, 0.34586381912231445, 0.3458590507507324, 0.34585532546043396, 0.34585249423980713, 0.34585076570510864, 0.3458493947982788, 0.3458494544029236, 0.3458499312400818, 0.34585171937942505, 0.345853716135025, None, None, None, None, None, None, None, None, None, None, None, None, None, None, None, None, None, None, None, None, None, None, None, None, None, None, None, None, None, None, None, None, None, None, None, None, None, None, None, None, None, None, None, None, None, None, None, None, None, None, None, None, None, None, None, None, None, None, None, None, None, None, None, None, None, None, None, None, None, None, None, None, None, None, None, None, None, None, None, None, None, None, None, None, None, None, None, None, None, None, None, None, None, None, None, None, None, None, None, None, None, None, None, None, None, None, None, None, None, None, None, None, None, None, None, None, None, None, None, None, None, None, None, None, None, None, None, None, None, None, None, None, None, None, None, None, None, None, None, None, None, None, None, None, None, None, None, None, None, None, None, None, None, None, None, None, None, None, None, None, None, None, None, None, None, None, None, None, None, None, None, None, None, None, None, None, None, None, None, None, None, None, None, None, None, None, None, None, None, None, None, None, None, None, None, None, None, None, None, None, None, None, None, None, None, None, None, None, None, None, None, None, None, None, None, None, None, None, None, None, None, None, None, None, None, None, None, None, None, None, None, None, None, None, None, None, None, None, None, None, None, None, None, None, None, None, None, None, None, None, None, None, None, None, None, None, None, None, None, None, None, None, None, None, None, None, None, None, None, None, None, None, None, None, None, None, None, None, None, None, None, None, None, None, None, None, None, None, None, None, None, None, None, None, None, None, None, None, None, None, None, None, None, None, None, None, None, None, None, None, None, None, None, None, None, None, None, None, None, None, None, None, None, None, None, None, None, None, None, None, None, None, None, None, None, None, None, None, None, None, None, None, None, None, None, None, None, None, None, None, None, None, None, None, None, None, None, None, None, None, None, None, None, None, None, None, None, None, None, None, None, None, None, None, None, None, None, None, None, None, None, None, None, None, None, None, None, None, None, None, None, None, None, None, None, None, None, None, None, None, None, None, None, None, None, None, None, None, None, None, None, None, None, None, None, None, None, None, None, None, None, None, None, None, None, None, None, None, None, None, None, None, None, None, None, None, None, None, None, None, None, None, None, None, None, None, None, None, None, None, None, None, None, None, None, None, None, None, None, None, None, None, None, None, None, None, None, None, None, None, None, None, None, None, None, None, None, None, None, None, None, None, None, None, None, None, None, None, None, None, None, None, None, None, None, None, None, None, None, None, None, None, None, None, None, None, None, None, None, None, None, None, None, None, None, None, None, None, None, None, None, None, None, None, None, None, None, None, None, None, None, None, None, None, None, None, None, None, None, None, None, None, None, None, None, None, None, None, None, None, None, None, None, None, None, None, None, None, None, None, None, None, None, None, None, None, None, None, None, None, None, None, None, None, None, None, None, None, None, None, None, None, None, None, None, None, None, None, None, None, None, None, None, None, None, None, None, None, None, None, None, None, None, None, None, None, None, None, None, None, None, None, None, None, None, None, None, None, None, None, None, None, None, None, None, None, None, None, None, None, None, None, None, None, None, None, None, None, None, None, None, None, None, None, None, None, None, None, None, None, None, None, None, None, None, None, None, None, None, None, None, None, None, None, None, None, None, None, None, None, None, None, None, None, None, None, None, None, None, None, None, None, None, None, None, None, None, None, None, None, None, None, None, None, None, None, None, None, None, None, None, None, None, None, None, None, None, None, None, None, None, None, None, None, None, None, None, None, None, None, None, None, None, None, None, None, None, None, None, None, None, None, None, None, None, None, None, None, None, None, None, None, None, None, None, None, None, None, None, None, None, None, None, None, None, None, None, None, None, None, None, None, None, None, None, None, None, None, None, None, None, None, None, None, None, None, None, None, None, None, None, None, None, None, None, None, None, None, None, None, None, None, None, None, None, None, None, None, None, None, None, None, None, None, None, None, None, None, None, None, None, None, None, None, None, None, None, None, None, None, None, None, None, None, None, None, None, None, None, None, None, None, None, None, None, None, None, None, None, None, None, None, None, None, None, None, None, None, None, None, None, None, None, None, None, None, None, None, None, None, None, None, None, None, None, None, None, None, None, None, None, None, None, None, None, None, None, None, None, None, None, None, None, None, None, None, None, None, None, None, None, None, None, None, None, None, None, None, None, None, None, None, None, None, None, None, None, None, None, None, None, None, None, None, None, None, None, None, None, None, None, None, None, None, None, None, None, None, None, None, None, None, None, None, None, None, None, None, None, None, None, None, None, None, None, None, None, None, None, None, None, None, None, None, None, None, None, None, None, None, None, None, None, None, None, None, None, None, None, None, None, None, None, None, None, None, None, None, None, None, None, None, None, None, None, None, None, None, None, None, None, None, None, None, None, None, None, None, None, None, None, None, None, None, None, None, None, None, None, None, None, None, None, None, None, None, None, None, None, None, None, None, None, None, None, None, None, None, None, None, None, None, None, None, None, None, None, None, None, None, None, None, None, None, None, None, None, None, None, None, None, None, None, None, None, None, None, None, None, None, None, None, None, None, None, None, None, None, None, None, None, None, None, None, None, None, None, None, None, None, None, None, None, None, None, None, None, None, None, None, None, None, None, None, None, None, None, None, None, None, None, None, None, None, None, None, None, None, None, None, None, None, None, None, None, None, None, None, None, None, None, None, None, None, None, None, None, None, None, None, None, None, None, None, None, None, None, None, None, None, None, None, None, None, None, None, None, None, None, None, None, None, None, None, None, None, None, None, None, None, None, None, None, None, None, None, None, None, None, None, None, None, None, None, None, None, None, None, None, None, None, None, None, None, None, None, None, None, None, None, None, None, None, None, None, None, None, None, None, None, None, None, None, None, None, None, None, None, None, None, None, None, None, None, None, None, None, None, None, None, None, None, None, None, None, None, None, None, None, None, None, None, None, None, None, None, None, None, None, None, None, None, None, None, None, None, None, None, None, None, None, None, None, None, None, None, None, None, None, None, None, None, None, None, None, None, None, None, None, None, None, None, None, None, None, None, None, None, None, None, None, None, None, None, None, None, None, None, None, None, None, None, None, None, None, None, None, None, None, None, None, None, None, None, None, None, None, None, None, None, None, None, None, None, None, None, None, None, None, None, None, None, None, None, None, None, None, None, None, None, None, None, None, None, None, None, None, None, None, None, None, None, None, None, None, None, None, None, None, None, None, None, None, None, None, None, None, None, None, None, None, None, None, None, None, None, None, None, None, None, None, None, None, None, None, None, None, None, None, None, None, None, None, None, None, None, None, None, None, None, None, None, None, None, None, None, None, None, None, None, None, None, None, None, None, None, None, None, None, None, None, None, None, None, None, None, None, None, None, None, None, None, None, None, None, None, None, None, None, None, None, None, None, None, None, None, None, None, None, None, None, None, None, None, None, None, None, None, None, None, None, None, None, None, None, None, None, None, None, None, None, None, None, None, None, None, None, None, None, None, None, None, None, None, None, None, None, None, None, None, None, None, None, None, None, None, None, None, None, None, None, None, None, None, None, None, None, None, None, None, None, None, None, None, None, None, None, None, None, None, None, None, None, None, None, None, None, None, None, None, None, None, None, None, None, None, None, None, None, None, None, None, None, None, None, None, None, None, None, None, None, None, None, None, None, None, None, None, None, None, None, None, None, None, None, None, None, None, None, None, None, None, None, None, None, None, None, None, None, None, None, None, None, None, None, None, None, None, None, None, None, None, None, None, None, None, None, None, None, None, None, None, None, None, None, None, None, None, None, None, None, None, None, None, None, None, None, None, None, None, None, None, None, None, None, None, None, None, None, None, None, None, None, None, None, None, None, None, None, None, None, None, None, None, None, None, None, None, None, None, None, None, None, None, None, None, None, None, None, None, None, None, None, None, None, None, None, None, None, None, None, None, None, None, None, None, None, None, None, None, None, None, None, None, None, None, None, None, None, None, None, None, None, None, None, None, None, None, None, None, None, None, None, None, None, None, None, None, None, None, None, None, None, None, None, None, None, None, None, None, None, None, None, None, None, None, None, None, None, None, None, None, None, None, None, None, None, None, None, None, None, None, None, None, None, None, None, None, None, None, None, None, None, None, None, None, None, None, None, None, None, None, None, None, None, None, None, None, None, None, None, None, None, None, None, None, None, None, None, None, None, None, None, None, None, None, None, None, None, None, None, None, None, None, None, None, None, None, None, None, None, None, None, None, None, None, None, None, None, None, None, None, None, None, None, None, None, None, None, None, None, None, None, None, None, None, None, None, None, None, None, None, None, None, None, None, None, None, None, None, None, None, None, None, None, None, None, None, None, None, None, None, None, None, None, None, None, None, None, None, None, None, None, None, None, None, None, None, None, None, None, None, None, None, None, None, None, None, None, None, None, None, None, None, None, None, None, None, None, None, None, None, None, None, None, None, None, None, None, None, None, None, None, None, None, None, None, None, None, None, None, None, None, None, None, None, None, None, None, None, None, None, None, None, None, None, None, None, None, None, None, None, None, None, None, None, None, None, None, None, None, None, None, None, None, None, None, None, None, None, None, None, None, None, None, None, None, None, None, None, None, None, None, None, None, None, None, None, None, None, None, None, None, None, None, None, None, None, None, None, None, None, None, None, None, None, None, None, None, None, None, None, None, None, None, None, None, None, None, None, None, None, None, None, None, None, None, None, None, None, None, None, None, None, None, None, None, None, None, None, None, None, None, None, None, None, None, None, None, None, None, None, None, None, None, None, None, None, None, None, None, None, None, None, None, None, None, None, None, None, None, None, None, None, None, None, None, None, None, None, None, None, None, None, None, None, None, None, None, None, None, None, None, None, None, None, None, None, None, None, None, None, None, None, None, None, None, None, None, None, None, None, None, None, None, None, None, None, None, None, None, None, None, None, None, None, None, None, None, None, None, None, None, None, None, None, None, None, None, None, None, None, None, None, None, None, None, None, None, None, None, None, None, None, None, None, None, None, None, None, None, None, None, None, None, None, None, None, None, None, None, None, None, None, None, None, None, None, None, None, None, None, None, None, None, None, None, None, None, None, None, None, None, None, None, None, None, None, None, None, None, None, None, None, None, None, None, None, None, None, None, None, None, None, None, None, None, None, None, None, None, None, None, None, None, None, None, None, None, None, None, None, None, None, None, None, None, None, None, None, None, None, None, None, None, None, None, None, None, None, None, None, None, None, None, None, None, None, None, None, None, None, None, None, None, None, None, None, None, None, None, None, None, None, None, None, None, None, None, None, None, None, None, None, None, None, None, None, None, None, None, None, None, None, None, None, None, None, None, None, None, None, None, None, None, None, None, None, None, None, None, None, None, None, None, None, None, None, None, None, None, None, None, None, None, None, None, None, None, None, None, None, None, None, None, None, None, None, None, None, None, None, None, None, None, None, None, None, None, None, None, None, None, None, None, None, None, None, None, None, None, None, None, None, None, None, None, None, None, None, None, None, None, None, None, None, None, None, None, None, None, None, None, None, None, None, None, None, None, None, None, None, None, None, None, None, None, None, None, None, None, None, None, None, None, None, None, None, None, None, None, None, None, None, None, None, None, None, None, None, None, None, None, None, None, None, None, None, None, None, None, None, None, None, None, None, None, None, None, None, None, None, None, None, None, None, None, None, None, None, None, None, None, None, None, None, None, None, None, None, None, None, None, None, None, None, None, None, None, None, None, None, None, None, None, None, None, None, None, None, None, None, None, None, None, None, None, None, None, None, None, None, None, None, None, None, None, None, None, None, None, None, None, None, None, None, None, None, None, None, None, None, None, None, None, None, None, None, None, None, None, None, None, None, None, None, None, None, None, None, None, None, None, None, None, None, None, None, None, None, None, None, None, None, None, None, None, None, None, None, None, None, None, None, None, None, None, None, None, None, None, None, None, None, None, None, None, None, None, None, None, None, None, None, None, None, None, None, None, None, None, None, None, None, None, None, None, None, None, None, None, None, None, None, None, None, None, None, None, None, None, None, None, None, None, None, None, None, None, None, None, None, None, None, None, None, None, None, None, None, None, None, None, None, None, None, None, None, None, None, None, None, None, None, None, None, None, None, None, None, None, None, None, None, None, None, None, None, None, None, None, None, None, None, None, None, None, None, None, None, None, None, None, None, None, None, None, None, None, None, None, None, None, None, None, None, None, None, None, None, None, None, None, None, None, None, None, None, None, None, None, None, None, None, None, None, None, None, None, None, None, None, None, None, None, None, None, None, None, None, None, None, None, None, None, None, None, None, None, None, None, None, None, None, None, None, None, None, None, None, None, None, None, None, None, None, None, None, None, None, None, None, None, None, None, None, None, None, None, None, None, None, None, None, None, None, None, None, None, None, None, None, None, None, None, None, None, None, None, None, None, None, None, None, None, None, None, None, None, None, None, None, None, None, None, None, None, None, None, None, None, None, None, None, None, None, None, None, None, None, None, None, None, None, None, None, None, None, None, None, None, None, None, None, None, None, None, None, None, None, None, None, None, None, None, None, None, None, None, None, None, None, None, None, None, None, None, None, None, None, None, None, None, None, None, None, None, None, None, None, None, None, None, None, None, None, None, None, None, None, None, None, None, None, None, None, None, None, None, None, None, None, None, None, None, None, None, None, None, None, None, None, None, None, None, None, None, None, None, None, None, None, None, None, None, None, None, None, None, None, None, None, None, None, None, None, None, None, None, None, None, None, None, None, None, None, None, None, None, None, None, None, None, None, None, None, None, None, None, None, None, None, None, None, None, None, None, None, None, None, None, None, None, None, None, None, None, None, None, None, None, None, None, None, None, None, None, None, None, None, None, None, None, None, None, None, None, None, None, None, None, None, None, None, None, None, None, None, None, None, None, None, None, None, None, None, None, None, None, None, None, None, None, None, None, None, None, None, None, None, None, None, None, None, None, None, None, None, None, None, None, None, None, None, None, None, None, None, None, None, None, None, None, None, None, None, None, None, None, None, None, None, None, None, None, None, None, None, None, None, None, None, None, None, None, None, None, None, None, None, None, None, None, None, None, None, None, None, None, None, None, None, None, None, None, None, None, None, None, None, None, None, None, None, None, None, None, None, None, None, None, None, None, None, None, None, None, None, None, None, None, None, None, None, None, None, None, None, None, None, None, None, None, None, None, None, None, None, None, None, None, None, None, None, None, None, None, None, None, None, None, None, None, None, None, None, None, None, None, None, None, None, None, None, None, None, None, None, None, None, None, None, None, None, None, None, None, None, None, None, None, None, None, None, None, None, None, None, None, None, None, None, None, None, None, None, None, None, None, None, None, None, None, None, None, None, None, None, None, None, None, None, None, None, None, None, None, None, None, None, None, None, None, None, None, None, None, None, None, None, None, None, None, None, None, None, None, None, None, None, None, None, None, None, None, None, None, None, None, None, None, None, None, None, None, None, None, None, None, None, None, None, None, None, None, None, None, None, None, None, None, None, None, None, None, None, None, None, None, None, None, None, None, None, None, None, None, None, None, None, None, None, None, None, None, None, None, None, None, None, None, None, None, None, None, None, None, None, None, None, None, None, None, None, None, None, None, None, None, None, None, None, None, None, None, None, None, None, None, None, None, None, None, None, None, None, None, None, None, None, None, None, None, None, None, None, None, None, None, None, None, None, None, None, None, None, None, None, None, None, None, None, None, None, None, None, None, None, None, None, None, None, None, None, None, None, None, None, None, None, None, None, None, None, None, None, None, None, None, None, None, None, None, None, None, None, None, None, None, None, None, None, None, None, None, None, None, None, None, None, None, None, None, None, None, None, None, None, None, None, None, None, None, None, None, None, None, None, None, None, None, None, None, None, None, None, None, None, None, None, None, None, None, None, None, None, None, None, None, None, None, None, None, None, None, None, None, None, None, None, None, None, None, None, None, None, None, None, None, None, None, None, None, None, None, None, None, None, None, None, None, None, None, None, None, None, None, None, None, None, None, None, None, None, None, None, None, None, None, None, None, None, None, None, None, None, None, None, None, None, None, None, None, None, None, None, None, None, None, None, None, None, None, None, None, None, None, None, None, None, None, None, None, None, None, None, None, None, None, None, None, None, None, None, None, None, None, None, None, None, None, None, None, None, None, None, None, None, None, None, None, None, None, None, None, None, None, None, None, None, None, None, None, None, None, None, None, None, None, None, None, None, None, None, None, None, None, None, None, None, None, None, None, None, None, None, None, None, None, None, None, None, None, None, None, None, None, None, None, None, None, None, None, None, None, None, None, None, None, None, None, None, None, None, None, None, None, None, None, None, None, None, None, None, None, None, None, None, None, None, None, None, None, None, None, None, None, None, None, None, None, None, None, None, None, None, None, None, None, None, None, None, None, None, None, None, None, None, None, None, None, None, None, None, None, None, None, None, None, None, None, None, None, None, None, None, None, None, None, None, None, None, None, None, None, None, None, None, None, None, None, None, None, None, None, None, None, None, None, None, None, None, None, None, None, None, None, None, None, None, None, None, None, None, None, None, None, None, None, None, None, None, None, None, None, None, None, None, None, None, None, None, None, None, None, None, None, None, None, None, None, None, None, None, None, None, None, None, None, None, None, None, None, None, None, None, None, None, None, None, None, None, None, None, None, None, None, None, None, None, None, None, None, None, None, None, None, None, None, None, None, None, None, None, None, None, None, None, None, None, None, None, None, None, None, None, None, None, None, None, None, None, None, None, None, None, None, None, None, None, None, None, None, None, None, None, None, None, None, None, None, None, None, None, None, None, None, None, None, None, None, None, None, None, None, None, None, None, None, None, None, None, None, None, None, None, None, None, None, None, None, None, None, None, None, None, None, None, None, None, None, None, None, None, None, None, None, None, None, None, None, None, None, None, None, None, None, None, None, None, None, None, None, None, None, None, None, None, None, None, None, None, None, None, None, None, None, None, None, None, None, None, None, None, None, None, None, None, None, None, None, None, None, None, None, None, None, None, None, None, None, None, None, None, None, None, None, None, None, None, None, None, None, None, None, None, None, None, None, None, None, None, None, None, None, None, None, None, None, None, None, None, None, None, None, None, None, None, None, None, None, None, None, None, None, None, None, None, None, None, None, None, None, None, None, None, None, None, None, None, None, None, None, None, None, None, None, None, None, None, None, None, None, None, None, None, None, None, None, None, None, None, None, None, None, None, None, None, None, None, None, None, None, None, None, None, None, None, None, None, None, None, None, None, None, None, None, None, None, None, None, None, None, None, None, None, None, None, None, None, None, None, None, None, None, None, None, None, None, None, None, None, None, None, None, None, None, None, None, None, None, None, None, None, None, None, None, None, None, None, None, None, None, None, None, None, None, None, None, None, None, None, None, None, None, None, None, None, None, None, None, None, None, None, None, None, None, None, None, None, None, None, None, None, None, None, None, None, None, None, None, None, None, None, None, None, None, None, None, None, None, None, None, None, None, None, None, None, None, None, None, None, None, None, None, None, None, None, None, None, None, None, None, None, None, None, None, None, None, None, None, None, None, None, None, None, None, None, None, None, None, None, None, None, None, None, None, None, None, None, None, None, None, None, None, None, None, None, None, None, None, None, None, None, None, None, None, None, None, None, None, None, None, None, None, None, None, None, None, None, None, None, None, None, None, None, None, None, None, None, None, None, None, None, None, None, None, None, None, None, None, None, None, None, None, None, None, None, None, None, None, None, None, None, None, None, None, None, None, None, None, None, None, None, None, None, None, None, None, None, None, None, None, None, None, None, None, None, None, None, None, None, None, None, None, None, None, None, None, None, None, None, None, None, None, None, None, None, None, None, None, None, None, None, None, None, None, None, None, None, None, None, None, None, None, None, None, None, None, None, None, None, None, None, None, None, None, None, None, None, None, None, None, None, None, None, None, None, None, None, None, None, None, None, None, None, None, None, None, None, None, None, None, None, None, None, None, None, None, None, None, None, None, None, None, None, None, None, None, None, None, None, None, None, None, None, None, None, None, None, None, None, None, None, None, None, None, None, None, None, None, None, None, None, None, None, None, None, None, None, None, None, None, None, None, None, None, None, None, None, None, None, None, None, None, None, None, None, None, None, None, None, None, None, None, None, None, None, None, None, None, None, None, None, None, None, None, None, None, None, None, None, None, None, None, None, None, None, None, None, None, None, None, None, None, None, None, None, None, None, None, None, None, None, None, None, None, None, None, None, None, None, None, None, None, None, None, None, None, None, None, None, None, None, None, None, None, None, None, None, None, None, None, None, None, None, None, None, None, None, None, None, None, None, None, None, None, None, None, None, None, None, None, None, None, None, None, None, None, None, None, None, None, None, None, None, None, None, None, None, None, None, None, None, None, None, None, None, None, None, None, None, None, None, None, None, None, None, None, None, None, None, None, None, None, None, None, None, None, None, None, None, None, None, None, None, None, None, None, None, None, None, None, None, None, None, None, None, None, None, None, None, None, None, None, None, None, None, None, None, None, None, None, None, None, None, None, None, None, None, None, None, None, None, None, None, None, None, None, None, None, None, None, None, None, None, None, None, None, None, None, None, None, None, None, None, None, None, None, None, None, None, None, None, None, None, None, None, None, None, None, None, None, None, None, None, None, None, None, None, None, None, None, None, None, None, None, None, None, None, None, None, None, None, None, None, None, None, None, None, None, None, None, None, None, None, None, None, None, None, None, None, None, None, None, None, None, None, None, None, None, None, None, None, None, None, None, None, None, None, None, None, None, None, None, None, None, None, None, None, None, None, None, None, None, None, None, None, None, None, None, None, None, None, None, None, None, None, None, None, None, None, None, None, None, None, None, None, None, None, None, None, None, None, None, None, None, None, None, None, None, None, None, None, None, None, None, None, None, None, None, None, None, None, None, None, None, None, None, None, None, None, None, None, None, None, None, None, None, None, None, None, None, None, None, None, None, None, None, None, None, None, None, None, None, None, None, None, None, None, None, None, None, None, None, None, None, None, None, None, None, None, None, None, None, None, None, None, None, None, None, None, None, None, None, None, None, None, None, None, None, None, None, None, None, None, None, None, None, None, None, None, None, None, None, None, None, None, None, None, None, None, None, None, None, None, None, None], \n",
            "\tover the training epochs, respectively.\n"
          ],
          "name": "stdout"
        },
        {
          "output_type": "stream",
          "text": [
            "\n"
          ],
          "name": "stderr"
        }
      ]
    },
    {
      "cell_type": "markdown",
      "metadata": {
        "id": "N_6zjGmfNhDx"
      },
      "source": [
        "#### Visualizing the plots:"
      ]
    },
    {
      "cell_type": "code",
      "metadata": {
        "id": "4xyRtQNQNhDx",
        "colab": {
          "base_uri": "https://localhost:8080/",
          "height": 851
        },
        "outputId": "0892585c-847d-4ee0-dcd1-a157595adf51"
      },
      "source": [
        "plot_loss_graph(tr_loss34, val_loss34)\n",
        "plot_auc_graph(tr_auc34, val_auc34)\n",
        "\n",
        "def plot_loss_graph_for2_models(train_loss_list, validation_loss_list,train_loss_list34, validation_loss_list34,model1_name,model2_name):\n",
        "    plt.plot(train_loss_list, 'g', label='Training loss '+model1_name)\n",
        "    plt.plot(validation_loss_list, 'b', label='validation loss '+model1_name)\n",
        "    plt.plot(train_loss_list34, 'r', label='Training loss '+model2_name)\n",
        "    plt.plot(validation_loss_list34, 'y', label='validation loss '+model2_name)\n",
        "    plt.title('Training and Validation losses')\n",
        "    plt.xlabel('Epochs')\n",
        "    plt.ylabel('Loss')\n",
        "    plt.legend()\n",
        "    plt.show()\n",
        "\n",
        "plot_loss_graph_for2_models(tr_loss, val_loss,tr_loss34, val_loss34,\"18\",\"34\")\n",
        "\n"
      ],
      "execution_count": 241,
      "outputs": [
        {
          "output_type": "display_data",
          "data": {
            "image/png": "[encoded data removed]",
            "text/plain": [
              "<Figure size 432x288 with 1 Axes>"
            ]
          },
          "metadata": {
            "tags": [],
            "needs_background": "light"
          }
        },
        {
          "output_type": "display_data",
          "data": {
            "image/png": "[encoded data removed]",
            "text/plain": [
              "<Figure size 432x288 with 1 Axes>"
            ]
          },
          "metadata": {
            "tags": [],
            "needs_background": "light"
          }
        },
        {
          "output_type": "display_data",
          "data": {
            "image/png": "[encoded data removed]",
            "text/plain": [
              "<Figure size 432x288 with 1 Axes>"
            ]
          },
          "metadata": {
            "tags": [],
            "needs_background": "light"
          }
        }
      ]
    },
    {
      "cell_type": "markdown",
      "metadata": {
        "id": "GIR8NIZ1MaiZ"
      },
      "source": [
        "In the third graph we can see that there is no much difference between 18 and 34 validation lossses. Its probably extract almost the same features.There's no added value for resnet34 in this case"
      ]
    },
    {
      "cell_type": "markdown",
      "metadata": {
        "id": "ioOqwQgYM-ds"
      },
      "source": [
        "**Adding Hidden layers to classifyer**\r\n",
        "Now we want to check if adding more hidden layers to the classifyer will improve the results"
      ]
    },
    {
      "cell_type": "code",
      "metadata": {
        "colab": {
          "base_uri": "https://localhost:8080/",
          "height": 1000
        },
        "id": "emoCjfMcM-eL",
        "outputId": "94d012bc-f24f-4cf9-e0e5-941034f06974"
      },
      "source": [
        "classifyer_with_3_layers = nn.Sequential(\r\n",
        "    nn.Linear(512, 20), nn.Linear(20, 10), nn.Linear(10, 2))\r\n",
        "net34_with_3_layers_in_head = MyResNet(classifyer_with_3_layers, 18)\r\n",
        "tr_loss_3_layers34, val_loss_3_layers34, test_loss_3_layers34, tr_auc_3_layers34, val_auc_3_layers34, untrained_test_loss_3_layers34, untrained_test_auc_3_layers34 = training_loop(\r\n",
        "    args,\r\n",
        "    net34_with_3_layers_in_head,\r\n",
        "    X_extracted_features_train34,\r\n",
        "    y_extracted_features_train34,\r\n",
        "    X_extracted_features_test34,\r\n",
        "    y_extracted_features_test34,\r\n",
        "    val_dataloader=None,\r\n",
        "    criterion_func=nn.CrossEntropyLoss\r\n",
        ")\r\n",
        "plot_loss_graph(tr_loss_3_layers, val_loss_3_layers)\r\n",
        "plot_auc_graph(tr_auc_3_layers, val_auc_3_layers)\r\n",
        "plot_loss_graph_for2_models(tr_loss34, val_loss34,tr_loss_3_layers34, val_loss_3_layers34,\"34\",\"34 with hidden layers\")\r\n"
      ],
      "execution_count": 242,
      "outputs": [
        {
          "output_type": "stream",
          "text": [
            "100%|██████████| 11/11 [00:00<00:00, 269.69it/s]\n",
            "100%|██████████| 11/11 [00:00<00:00, 292.26it/s]\n",
            "100%|██████████| 11/11 [00:00<00:00, 292.07it/s]\n",
            "100%|██████████| 11/11 [00:00<00:00, 281.50it/s]\n",
            "100%|██████████| 11/11 [00:00<00:00, 239.85it/s]\n",
            "  0%|          | 0/11 [00:00<?, ?it/s]"
          ],
          "name": "stderr"
        },
        {
          "output_type": "stream",
          "text": [
            "Train loss: 6.97e-01, Val loss: 6.90e-01\n",
            "Best val loss is: 6.90e-01\n",
            "Train loss: 6.69e-01, Val loss: 6.64e-01\n",
            "Best val loss is: 6.64e-01\n",
            "Train loss: 6.43e-01, Val loss: 6.38e-01\n",
            "Best val loss is: 6.38e-01\n",
            "Train loss: 6.18e-01, Val loss: 6.13e-01\n",
            "Best val loss is: 6.13e-01\n",
            "Train loss: 5.94e-01, Val loss: 5.89e-01\n",
            "Best val loss is: 5.89e-01\n"
          ],
          "name": "stdout"
        },
        {
          "output_type": "stream",
          "text": [
            "100%|██████████| 11/11 [00:00<00:00, 245.87it/s]\n",
            "100%|██████████| 11/11 [00:00<00:00, 304.06it/s]\n",
            "100%|██████████| 11/11 [00:00<00:00, 191.05it/s]\n",
            "100%|██████████| 11/11 [00:00<00:00, 285.83it/s]\n",
            "100%|██████████| 11/11 [00:00<00:00, 304.61it/s]"
          ],
          "name": "stderr"
        },
        {
          "output_type": "stream",
          "text": [
            "Train loss: 5.69e-01, Val loss: 5.66e-01\n",
            "Best val loss is: 5.66e-01\n",
            "Train loss: 5.46e-01, Val loss: 5.44e-01\n",
            "Best val loss is: 5.44e-01\n",
            "Train loss: 5.23e-01, Val loss: 5.24e-01\n",
            "Best val loss is: 5.24e-01\n",
            "Train loss: 5.02e-01, Val loss: 5.05e-01\n",
            "Best val loss is: 5.05e-01\n"
          ],
          "name": "stdout"
        },
        {
          "output_type": "stream",
          "text": [
            "\n",
            "100%|██████████| 11/11 [00:00<00:00, 260.74it/s]\n",
            "100%|██████████| 11/11 [00:00<00:00, 301.79it/s]\n",
            "100%|██████████| 11/11 [00:00<00:00, 252.35it/s]\n",
            "100%|██████████| 11/11 [00:00<00:00, 287.47it/s]\n"
          ],
          "name": "stderr"
        },
        {
          "output_type": "stream",
          "text": [
            "Train loss: 4.82e-01, Val loss: 4.88e-01\n",
            "Best val loss is: 4.88e-01\n",
            "Train loss: 4.64e-01, Val loss: 4.73e-01\n",
            "Best val loss is: 4.73e-01\n",
            "Train loss: 4.47e-01, Val loss: 4.59e-01\n",
            "Best val loss is: 4.59e-01\n",
            "Train loss: 4.32e-01, Val loss: 4.48e-01\n",
            "Best val loss is: 4.48e-01\n",
            "Train loss: 4.18e-01, Val loss: 4.37e-01\n",
            "Best val loss is: 4.37e-01\n"
          ],
          "name": "stdout"
        },
        {
          "output_type": "stream",
          "text": [
            "100%|██████████| 11/11 [00:00<00:00, 274.01it/s]\n",
            "100%|██████████| 11/11 [00:00<00:00, 298.55it/s]\n",
            "100%|██████████| 11/11 [00:00<00:00, 290.39it/s]\n",
            "100%|██████████| 11/11 [00:00<00:00, 278.72it/s]\n",
            "100%|██████████| 11/11 [00:00<00:00, 264.17it/s]\n",
            "  0%|          | 0/11 [00:00<?, ?it/s]"
          ],
          "name": "stderr"
        },
        {
          "output_type": "stream",
          "text": [
            "Train loss: 4.05e-01, Val loss: 4.28e-01\n",
            "Best val loss is: 4.28e-01\n",
            "Train loss: 3.94e-01, Val loss: 4.20e-01\n",
            "Best val loss is: 4.20e-01\n",
            "Train loss: 3.84e-01, Val loss: 4.13e-01\n",
            "Best val loss is: 4.13e-01\n",
            "Train loss: 3.74e-01, Val loss: 4.06e-01\n",
            "Best val loss is: 4.06e-01\n",
            "Train loss: 3.65e-01, Val loss: 4.01e-01\n",
            "Best val loss is: 4.01e-01\n"
          ],
          "name": "stdout"
        },
        {
          "output_type": "stream",
          "text": [
            "100%|██████████| 11/11 [00:00<00:00, 240.14it/s]\n",
            "100%|██████████| 11/11 [00:00<00:00, 270.76it/s]\n",
            "100%|██████████| 11/11 [00:00<00:00, 295.88it/s]\n",
            "100%|██████████| 11/11 [00:00<00:00, 299.99it/s]\n",
            "100%|██████████| 11/11 [00:00<00:00, 302.73it/s]\n",
            "  0%|          | 0/11 [00:00<?, ?it/s]"
          ],
          "name": "stderr"
        },
        {
          "output_type": "stream",
          "text": [
            "Train loss: 3.57e-01, Val loss: 3.96e-01\n",
            "Best val loss is: 3.96e-01\n",
            "Train loss: 3.50e-01, Val loss: 3.91e-01\n",
            "Best val loss is: 3.91e-01\n",
            "Train loss: 3.43e-01, Val loss: 3.87e-01\n",
            "Best val loss is: 3.87e-01\n",
            "Train loss: 3.37e-01, Val loss: 3.84e-01\n",
            "Best val loss is: 3.84e-01\n",
            "Train loss: 3.31e-01, Val loss: 3.80e-01\n",
            "Best val loss is: 3.80e-01\n"
          ],
          "name": "stdout"
        },
        {
          "output_type": "stream",
          "text": [
            "100%|██████████| 11/11 [00:00<00:00, 266.04it/s]\n",
            "100%|██████████| 11/11 [00:00<00:00, 258.16it/s]\n",
            "100%|██████████| 11/11 [00:00<00:00, 289.85it/s]\n",
            "100%|██████████| 11/11 [00:00<00:00, 303.56it/s]\n",
            "100%|██████████| 11/11 [00:00<00:00, 290.91it/s]\n"
          ],
          "name": "stderr"
        },
        {
          "output_type": "stream",
          "text": [
            "Train loss: 3.25e-01, Val loss: 3.77e-01\n",
            "Best val loss is: 3.77e-01\n",
            "Train loss: 3.20e-01, Val loss: 3.75e-01\n",
            "Best val loss is: 3.75e-01\n",
            "Train loss: 3.15e-01, Val loss: 3.72e-01\n",
            "Best val loss is: 3.72e-01\n",
            "Train loss: 3.11e-01, Val loss: 3.70e-01\n",
            "Best val loss is: 3.70e-01\n",
            "Train loss: 3.07e-01, Val loss: 3.68e-01\n",
            "Best val loss is: 3.68e-01\n"
          ],
          "name": "stdout"
        },
        {
          "output_type": "stream",
          "text": [
            "100%|██████████| 11/11 [00:00<00:00, 284.36it/s]\n",
            "100%|██████████| 11/11 [00:00<00:00, 281.30it/s]\n",
            "100%|██████████| 11/11 [00:00<00:00, 254.89it/s]\n",
            "100%|██████████| 11/11 [00:00<00:00, 282.27it/s]\n",
            "100%|██████████| 11/11 [00:00<00:00, 298.49it/s]\n"
          ],
          "name": "stderr"
        },
        {
          "output_type": "stream",
          "text": [
            "Train loss: 3.03e-01, Val loss: 3.67e-01\n",
            "Best val loss is: 3.67e-01\n",
            "Train loss: 2.99e-01, Val loss: 3.65e-01\n",
            "Best val loss is: 3.65e-01\n",
            "Train loss: 2.95e-01, Val loss: 3.64e-01\n",
            "Best val loss is: 3.64e-01\n",
            "Train loss: 2.92e-01, Val loss: 3.62e-01\n",
            "Best val loss is: 3.62e-01\n",
            "Train loss: 2.88e-01, Val loss: 3.61e-01\n",
            "Best val loss is: 3.61e-01\n"
          ],
          "name": "stdout"
        },
        {
          "output_type": "stream",
          "text": [
            "100%|██████████| 11/11 [00:00<00:00, 290.35it/s]\n",
            "100%|██████████| 11/11 [00:00<00:00, 279.10it/s]\n",
            "100%|██████████| 11/11 [00:00<00:00, 282.67it/s]\n",
            "100%|██████████| 11/11 [00:00<00:00, 232.66it/s]\n",
            "  0%|          | 0/11 [00:00<?, ?it/s]"
          ],
          "name": "stderr"
        },
        {
          "output_type": "stream",
          "text": [
            "Train loss: 2.85e-01, Val loss: 3.60e-01\n",
            "Best val loss is: 3.60e-01\n",
            "Train loss: 2.82e-01, Val loss: 3.59e-01\n",
            "Best val loss is: 3.59e-01\n",
            "Train loss: 2.80e-01, Val loss: 3.58e-01\n",
            "Best val loss is: 3.58e-01\n",
            "Train loss: 2.77e-01, Val loss: 3.58e-01\n",
            "Best val loss is: 3.58e-01\n"
          ],
          "name": "stdout"
        },
        {
          "output_type": "stream",
          "text": [
            "100%|██████████| 11/11 [00:00<00:00, 207.36it/s]\n",
            "100%|██████████| 11/11 [00:00<00:00, 259.20it/s]\n",
            "100%|██████████| 11/11 [00:00<00:00, 287.87it/s]\n",
            "100%|██████████| 11/11 [00:00<00:00, 309.38it/s]\n",
            "100%|██████████| 11/11 [00:00<00:00, 296.53it/s]\n",
            "  0%|          | 0/11 [00:00<?, ?it/s]"
          ],
          "name": "stderr"
        },
        {
          "output_type": "stream",
          "text": [
            "Train loss: 2.74e-01, Val loss: 3.57e-01\n",
            "Best val loss is: 3.57e-01\n",
            "Train loss: 2.72e-01, Val loss: 3.57e-01\n",
            "Best val loss is: 3.57e-01\n",
            "Train loss: 2.69e-01, Val loss: 3.56e-01\n",
            "Best val loss is: 3.56e-01\n",
            "Train loss: 2.67e-01, Val loss: 3.56e-01\n",
            "Best val loss is: 3.56e-01\n",
            "Train loss: 2.65e-01, Val loss: 3.55e-01\n",
            "Best val loss is: 3.55e-01\n"
          ],
          "name": "stdout"
        },
        {
          "output_type": "stream",
          "text": [
            "100%|██████████| 11/11 [00:00<00:00, 261.87it/s]\n",
            "100%|██████████| 11/11 [00:00<00:00, 253.04it/s]\n",
            "100%|██████████| 11/11 [00:00<00:00, 243.54it/s]\n",
            "100%|██████████| 11/11 [00:00<00:00, 304.51it/s]\n",
            "100%|██████████| 11/11 [00:00<00:00, 305.55it/s]\n",
            "  0%|          | 0/11 [00:00<?, ?it/s]"
          ],
          "name": "stderr"
        },
        {
          "output_type": "stream",
          "text": [
            "Train loss: 2.63e-01, Val loss: 3.55e-01\n",
            "Best val loss is: 3.55e-01\n",
            "Train loss: 2.61e-01, Val loss: 3.55e-01\n",
            "Best val loss is: 3.55e-01\n",
            "Train loss: 2.59e-01, Val loss: 3.54e-01\n",
            "Best val loss is: 3.54e-01\n",
            "Train loss: 2.57e-01, Val loss: 3.54e-01\n",
            "Best val loss is: 3.54e-01\n",
            "Train loss: 2.55e-01, Val loss: 3.54e-01\n",
            "Best val loss is: 3.54e-01\n"
          ],
          "name": "stdout"
        },
        {
          "output_type": "stream",
          "text": [
            "100%|██████████| 11/11 [00:00<00:00, 282.55it/s]\n",
            "100%|██████████| 11/11 [00:00<00:00, 307.29it/s]\n",
            "100%|██████████| 11/11 [00:00<00:00, 285.34it/s]\n",
            "100%|██████████| 11/11 [00:00<00:00, 303.26it/s]\n",
            "100%|██████████| 11/11 [00:00<00:00, 288.85it/s]\n",
            "  0%|          | 0/11 [00:00<?, ?it/s]"
          ],
          "name": "stderr"
        },
        {
          "output_type": "stream",
          "text": [
            "Train loss: 2.53e-01, Val loss: 3.54e-01\n",
            "Best val loss is: 3.54e-01\n",
            "Train loss: 2.51e-01, Val loss: 3.54e-01\n",
            "Best val loss is: 3.54e-01\n",
            "Train loss: 2.50e-01, Val loss: 3.54e-01\n",
            "Best val loss is: 3.54e-01\n",
            "Train loss: 2.48e-01, Val loss: 3.54e-01\n",
            "Best val loss is: 3.54e-01\n",
            "Train loss: 2.46e-01, Val loss: 3.54e-01\n",
            "Best val loss is: 3.54e-01\n"
          ],
          "name": "stdout"
        },
        {
          "output_type": "stream",
          "text": [
            "\r100%|██████████| 11/11 [00:00<00:00, 254.99it/s]\n"
          ],
          "name": "stderr"
        },
        {
          "output_type": "stream",
          "text": [
            "Train loss: 2.45e-01, Val loss: 3.54e-01\n",
            "Best val loss is: 3.54e-01\n",
            "Stopped training after 54/5000 epochs.\n",
            "The loss is 7.26e-01 before training and 3.54e-01 after training.\n",
            "The training and validation losses are \n",
            "\t[0.6968155670166015, 0.6692603302001953, 0.6433351898193359, 0.618236198425293, 0.5936035919189453, 0.5694157791137695, 0.5459427261352539, 0.5234629440307618, 0.5021980667114258, 0.48237014770507813, 0.4640595245361328, 0.44728717803955076, 0.4319990921020508, 0.41809925079345706, 0.4054710006713867, 0.3939879608154297, 0.3835282897949219, 0.37397705078125, 0.36523075103759767, 0.35719738006591795, 0.34979591369628904, 0.3429559326171875, 0.33661582946777346, 0.3307222366333008, 0.3252286911010742, 0.3200945663452148, 0.3152842140197754, 0.3107666778564453, 0.3065143394470215, 0.3025028991699219, 0.2987108039855957, 0.2951189613342285, 0.29171010971069333, 0.2884689712524414, 0.28538171768188475, 0.28243600845336914, 0.2796206092834473, 0.2769253921508789, 0.27434127807617187, 0.2718598747253418, 0.269473705291748, 0.26717592239379884, 0.2649601936340332, 0.262820873260498, 0.26075283050537107, 0.25875120162963866, 0.25681184768676757, 0.25493053436279295, 0.25310380935668947, 0.251328182220459, 0.24960071563720704, 0.2479185104370117, 0.24627891540527344, 0.24467966079711914, None, None, None, None, None, None, None, None, None, None, None, None, None, None, None, None, None, None, None, None, None, None, None, None, None, None, None, None, None, None, None, None, None, None, None, None, None, None, None, None, None, None, None, None, None, None, None, None, None, None, None, None, None, None, None, None, None, None, None, None, None, None, None, None, None, None, None, None, None, None, None, None, None, None, None, None, None, None, None, None, None, None, None, None, None, None, None, None, None, None, None, None, None, None, None, None, None, None, None, None, None, None, None, None, None, None, None, None, None, None, None, None, None, None, None, None, None, None, None, None, None, None, None, None, None, None, None, None, None, None, None, None, None, None, None, None, None, None, None, None, None, None, None, None, None, None, None, None, None, None, None, None, None, None, None, None, None, None, None, None, None, None, None, None, None, None, None, None, None, None, None, None, None, None, None, None, None, None, None, None, None, None, None, None, None, None, None, None, None, None, None, None, None, None, None, None, None, None, None, None, None, None, None, None, None, None, None, None, None, None, None, None, None, None, None, None, None, None, None, None, None, None, None, None, None, None, None, None, None, None, None, None, None, None, None, None, None, None, None, None, None, None, None, None, None, None, None, None, None, None, None, None, None, None, None, None, None, None, None, None, None, None, None, None, None, None, None, None, None, None, None, None, None, None, None, None, None, None, None, None, None, None, None, None, None, None, None, None, None, None, None, None, None, None, None, None, None, None, None, None, None, None, None, None, None, None, None, None, None, None, None, None, None, None, None, None, None, None, None, None, None, None, None, None, None, None, None, None, None, None, None, None, None, None, None, None, None, None, None, None, None, None, None, None, None, None, None, None, None, None, None, None, None, None, None, None, None, None, None, None, None, None, None, None, None, None, None, None, None, None, None, None, None, None, None, None, None, None, None, None, None, None, None, None, None, None, None, None, None, None, None, None, None, None, None, None, None, None, None, None, None, None, None, None, None, None, None, None, None, None, None, None, None, None, None, None, None, None, None, None, None, None, None, None, None, None, None, None, None, None, None, None, None, None, None, None, None, None, None, None, None, None, None, None, None, None, None, None, None, None, None, None, None, None, None, None, None, None, None, None, None, None, None, None, None, None, None, None, None, None, None, None, None, None, None, None, None, None, None, None, None, None, None, None, None, None, None, None, None, None, None, None, None, None, None, None, None, None, None, None, None, None, None, None, None, None, None, None, None, None, None, None, None, None, None, None, None, None, None, None, None, None, None, None, None, None, None, None, None, None, None, None, None, None, None, None, None, None, None, None, None, None, None, None, None, None, None, None, None, None, None, None, None, None, None, None, None, None, None, None, None, None, None, None, None, None, None, None, None, None, None, None, None, None, None, None, None, None, None, None, None, None, None, None, None, None, None, None, None, None, None, None, None, None, None, None, None, None, None, None, None, None, None, None, None, None, None, None, None, None, None, None, None, None, None, None, None, None, None, None, None, None, None, None, None, None, None, None, None, None, None, None, None, None, None, None, None, None, None, None, None, None, None, None, None, None, None, None, None, None, None, None, None, None, None, None, None, None, None, None, None, None, None, None, None, None, None, None, None, None, None, None, None, None, None, None, None, None, None, None, None, None, None, None, None, None, None, None, None, None, None, None, None, None, None, None, None, None, None, None, None, None, None, None, None, None, None, None, None, None, None, None, None, None, None, None, None, None, None, None, None, None, None, None, None, None, None, None, None, None, None, None, None, None, None, None, None, None, None, None, None, None, None, None, None, None, None, None, None, None, None, None, None, None, None, None, None, None, None, None, None, None, None, None, None, None, None, None, None, None, None, None, None, None, None, None, None, None, None, None, None, None, None, None, None, None, None, None, None, None, None, None, None, None, None, None, None, None, None, None, None, None, None, None, None, None, None, None, None, None, None, None, None, None, None, None, None, None, None, None, None, None, None, None, None, None, None, None, None, None, None, None, None, None, None, None, None, None, None, None, None, None, None, None, None, None, None, None, None, None, None, None, None, None, None, None, None, None, None, None, None, None, None, None, None, None, None, None, None, None, None, None, None, None, None, None, None, None, None, None, None, None, None, None, None, None, None, None, None, None, None, None, None, None, None, None, None, None, None, None, None, None, None, None, None, None, None, None, None, None, None, None, None, None, None, None, None, None, None, None, None, None, None, None, None, None, None, None, None, None, None, None, None, None, None, None, None, None, None, None, None, None, None, None, None, None, None, None, None, None, None, None, None, None, None, None, None, None, None, None, None, None, None, None, None, None, None, None, None, None, None, None, None, None, None, None, None, None, None, None, None, None, None, None, None, None, None, None, None, None, None, None, None, None, None, None, None, None, None, None, None, None, None, None, None, None, None, None, None, None, None, None, None, None, None, None, None, None, None, None, None, None, None, None, None, None, None, None, None, None, None, None, None, None, None, None, None, None, None, None, None, None, None, None, None, None, None, None, None, None, None, None, None, None, None, None, None, None, None, None, None, None, None, None, None, None, None, None, None, None, None, None, None, None, None, None, None, None, None, None, None, None, None, None, None, None, None, None, None, None, None, None, None, None, None, None, None, None, None, None, None, None, None, None, None, None, None, None, None, None, None, None, None, None, None, None, None, None, None, None, None, None, None, None, None, None, None, None, None, None, None, None, None, None, None, None, None, None, None, None, None, None, None, None, None, None, None, None, None, None, None, None, None, None, None, None, None, None, None, None, None, None, None, None, None, None, None, None, None, None, None, None, None, None, None, None, None, None, None, None, None, None, None, None, None, None, None, None, None, None, None, None, None, None, None, None, None, None, None, None, None, None, None, None, None, None, None, None, None, None, None, None, None, None, None, None, None, None, None, None, None, None, None, None, None, None, None, None, None, None, None, None, None, None, None, None, None, None, None, None, None, None, None, None, None, None, None, None, None, None, None, None, None, None, None, None, None, None, None, None, None, None, None, None, None, None, None, None, None, None, None, None, None, None, None, None, None, None, None, None, None, None, None, None, None, None, None, None, None, None, None, None, None, None, None, None, None, None, None, None, None, None, None, None, None, None, None, None, None, None, None, None, None, None, None, None, None, None, None, None, None, None, None, None, None, None, None, None, None, None, None, None, None, None, None, None, None, None, None, None, None, None, None, None, None, None, None, None, None, None, None, None, None, None, None, None, None, None, None, None, None, None, None, None, None, None, None, None, None, None, None, None, None, None, None, None, None, None, None, None, None, None, None, None, None, None, None, None, None, None, None, None, None, None, None, None, None, None, None, None, None, None, None, None, None, None, None, None, None, None, None, None, None, None, None, None, None, None, None, None, None, None, None, None, None, None, None, None, None, None, None, None, None, None, None, None, None, None, None, None, None, None, None, None, None, None, None, None, None, None, None, None, None, None, None, None, None, None, None, None, None, None, None, None, None, None, None, None, None, None, None, None, None, None, None, None, None, None, None, None, None, None, None, None, None, None, None, None, None, None, None, None, None, None, None, None, None, None, None, None, None, None, None, None, None, None, None, None, None, None, None, None, None, None, None, None, None, None, None, None, None, None, None, None, None, None, None, None, None, None, None, None, None, None, None, None, None, None, None, None, None, None, None, None, None, None, None, None, None, None, None, None, None, None, None, None, None, None, None, None, None, None, None, None, None, None, None, None, None, None, None, None, None, None, None, None, None, None, None, None, None, None, None, None, None, None, None, None, None, None, None, None, None, None, None, None, None, None, None, None, None, None, None, None, None, None, None, None, None, None, None, None, None, None, None, None, None, None, None, None, None, None, None, None, None, None, None, None, None, None, None, None, None, None, None, None, None, None, None, None, None, None, None, None, None, None, None, None, None, None, None, None, None, None, None, None, None, None, None, None, None, None, None, None, None, None, None, None, None, None, None, None, None, None, None, None, None, None, None, None, None, None, None, None, None, None, None, None, None, None, None, None, None, None, None, None, None, None, None, None, None, None, None, None, None, None, None, None, None, None, None, None, None, None, None, None, None, None, None, None, None, None, None, None, None, None, None, None, None, None, None, None, None, None, None, None, None, None, None, None, None, None, None, None, None, None, None, None, None, None, None, None, None, None, None, None, None, None, None, None, None, None, None, None, None, None, None, None, None, None, None, None, None, None, None, None, None, None, None, None, None, None, None, None, None, None, None, None, None, None, None, None, None, None, None, None, None, None, None, None, None, None, None, None, None, None, None, None, None, None, None, None, None, None, None, None, None, None, None, None, None, None, None, None, None, None, None, None, None, None, None, None, None, None, None, None, None, None, None, None, None, None, None, None, None, None, None, None, None, None, None, None, None, None, None, None, None, None, None, None, None, None, None, None, None, None, None, None, None, None, None, None, None, None, None, None, None, None, None, None, None, None, None, None, None, None, None, None, None, None, None, None, None, None, None, None, None, None, None, None, None, None, None, None, None, None, None, None, None, None, None, None, None, None, None, None, None, None, None, None, None, None, None, None, None, None, None, None, None, None, None, None, None, None, None, None, None, None, None, None, None, None, None, None, None, None, None, None, None, None, None, None, None, None, None, None, None, None, None, None, None, None, None, None, None, None, None, None, None, None, None, None, None, None, None, None, None, None, None, None, None, None, None, None, None, None, None, None, None, None, None, None, None, None, None, None, None, None, None, None, None, None, None, None, None, None, None, None, None, None, None, None, None, None, None, None, None, None, None, None, None, None, None, None, None, None, None, None, None, None, None, None, None, None, None, None, None, None, None, None, None, None, None, None, None, None, None, None, None, None, None, None, None, None, None, None, None, None, None, None, None, None, None, None, None, None, None, None, None, None, None, None, None, None, None, None, None, None, None, None, None, None, None, None, None, None, None, None, None, None, None, None, None, None, None, None, None, None, None, None, None, None, None, None, None, None, None, None, None, None, None, None, None, None, None, None, None, None, None, None, None, None, None, None, None, None, None, None, None, None, None, None, None, None, None, None, None, None, None, None, None, None, None, None, None, None, None, None, None, None, None, None, None, None, None, None, None, None, None, None, None, None, None, None, None, None, None, None, None, None, None, None, None, None, None, None, None, None, None, None, None, None, None, None, None, None, None, None, None, None, None, None, None, None, None, None, None, None, None, None, None, None, None, None, None, None, None, None, None, None, None, None, None, None, None, None, None, None, None, None, None, None, None, None, None, None, None, None, None, None, None, None, None, None, None, None, None, None, None, None, None, None, None, None, None, None, None, None, None, None, None, None, None, None, None, None, None, None, None, None, None, None, None, None, None, None, None, None, None, None, None, None, None, None, None, None, None, None, None, None, None, None, None, None, None, None, None, None, None, None, None, None, None, None, None, None, None, None, None, None, None, None, None, None, None, None, None, None, None, None, None, None, None, None, None, None, None, None, None, None, None, None, None, None, None, None, None, None, None, None, None, None, None, None, None, None, None, None, None, None, None, None, None, None, None, None, None, None, None, None, None, None, None, None, None, None, None, None, None, None, None, None, None, None, None, None, None, None, None, None, None, None, None, None, None, None, None, None, None, None, None, None, None, None, None, None, None, None, None, None, None, None, None, None, None, None, None, None, None, None, None, None, None, None, None, None, None, None, None, None, None, None, None, None, None, None, None, None, None, None, None, None, None, None, None, None, None, None, None, None, None, None, None, None, None, None, None, None, None, None, None, None, None, None, None, None, None, None, None, None, None, None, None, None, None, None, None, None, None, None, None, None, None, None, None, None, None, None, None, None, None, None, None, None, None, None, None, None, None, None, None, None, None, None, None, None, None, None, None, None, None, None, None, None, None, None, None, None, None, None, None, None, None, None, None, None, None, None, None, None, None, None, None, None, None, None, None, None, None, None, None, None, None, None, None, None, None, None, None, None, None, None, None, None, None, None, None, None, None, None, None, None, None, None, None, None, None, None, None, None, None, None, None, None, None, None, None, None, None, None, None, None, None, None, None, None, None, None, None, None, None, None, None, None, None, None, None, None, None, None, None, None, None, None, None, None, None, None, None, None, None, None, None, None, None, None, None, None, None, None, None, None, None, None, None, None, None, None, None, None, None, None, None, None, None, None, None, None, None, None, None, None, None, None, None, None, None, None, None, None, None, None, None, None, None, None, None, None, None, None, None, None, None, None, None, None, None, None, None, None, None, None, None, None, None, None, None, None, None, None, None, None, None, None, None, None, None, None, None, None, None, None, None, None, None, None, None, None, None, None, None, None, None, None, None, None, None, None, None, None, None, None, None, None, None, None, None, None, None, None, None, None, None, None, None, None, None, None, None, None, None, None, None, None, None, None, None, None, None, None, None, None, None, None, None, None, None, None, None, None, None, None, None, None, None, None, None, None, None, None, None, None, None, None, None, None, None, None, None, None, None, None, None, None, None, None, None, None, None, None, None, None, None, None, None, None, None, None, None, None, None, None, None, None, None, None, None, None, None, None, None, None, None, None, None, None, None, None, None, None, None, None, None, None, None, None, None, None, None, None, None, None, None, None, None, None, None, None, None, None, None, None, None, None, None, None, None, None, None, None, None, None, None, None, None, None, None, None, None, None, None, None, None, None, None, None, None, None, None, None, None, None, None, None, None, None, None, None, None, None, None, None, None, None, None, None, None, None, None, None, None, None, None, None, None, None, None, None, None, None, None, None, None, None, None, None, None, None, None, None, None, None, None, None, None, None, None, None, None, None, None, None, None, None, None, None, None, None, None, None, None, None, None, None, None, None, None, None, None, None, None, None, None, None, None, None, None, None, None, None, None, None, None, None, None, None, None, None, None, None, None, None, None, None, None, None, None, None, None, None, None, None, None, None, None, None, None, None, None, None, None, None, None, None, None, None, None, None, None, None, None, None, None, None, None, None, None, None, None, None, None, None, None, None, None, None, None, None, None, None, None, None, None, None, None, None, None, None, None, None, None, None, None, None, None, None, None, None, None, None, None, None, None, None, None, None, None, None, None, None, None, None, None, None, None, None, None, None, None, None, None, None, None, None, None, None, None, None, None, None, None, None, None, None, None, None, None, None, None, None, None, None, None, None, None, None, None, None, None, None, None, None, None, None, None, None, None, None, None, None, None, None, None, None, None, None, None, None, None, None, None, None, None, None, None, None, None, None, None, None, None, None, None, None, None, None, None, None, None, None, None, None, None, None, None, None, None, None, None, None, None, None, None, None, None, None, None, None, None, None, None, None, None, None, None, None, None, None, None, None, None, None, None, None, None, None, None, None, None, None, None, None, None, None, None, None, None, None, None, None, None, None, None, None, None, None, None, None, None, None, None, None, None, None, None, None, None, None, None, None, None, None, None, None, None, None, None, None, None, None, None, None, None, None, None, None, None, None, None, None, None, None, None, None, None, None, None, None, None, None, None, None, None, None, None, None, None, None, None, None, None, None, None, None, None, None, None, None, None, None, None, None, None, None, None, None, None, None, None, None, None, None, None, None, None, None, None, None, None, None, None, None, None, None, None, None, None, None, None, None, None, None, None, None, None, None, None, None, None, None, None, None, None, None, None, None, None, None, None, None, None, None, None, None, None, None, None, None, None, None, None, None, None, None, None, None, None, None, None, None, None, None, None, None, None, None, None, None, None, None, None, None, None, None, None, None, None, None, None, None, None, None, None, None, None, None, None, None, None, None, None, None, None, None, None, None, None, None, None, None, None, None, None, None, None, None, None, None, None, None, None, None, None, None, None, None, None, None, None, None, None, None, None, None, None, None, None, None, None, None, None, None, None, None, None, None, None, None, None, None, None, None, None, None, None, None, None, None, None, None, None, None, None, None, None, None, None, None, None, None, None, None, None, None, None, None, None, None, None, None, None, None, None, None, None, None, None, None, None, None, None, None, None, None, None, None, None, None, None, None, None, None, None, None, None, None, None, None, None, None, None, None, None, None, None, None, None, None, None, None, None, None, None, None, None, None, None, None, None, None, None, None, None, None, None, None, None, None, None, None, None, None, None, None, None, None, None, None, None, None, None, None, None, None, None, None, None, None, None, None, None, None, None, None, None, None, None, None, None, None, None, None, None, None, None, None, None, None, None, None, None, None, None, None, None, None, None, None, None, None, None, None, None, None, None, None, None, None, None, None, None, None, None, None, None, None, None, None, None, None, None, None, None, None, None, None, None, None, None, None, None, None, None, None, None, None, None, None, None, None, None, None, None, None, None, None, None, None, None, None, None, None, None, None, None, None, None, None, None, None, None, None, None, None, None, None, None, None, None, None, None, None, None, None, None, None, None, None, None, None, None, None, None, None, None, None, None, None, None, None, None, None, None, None, None, None, None, None, None, None, None, None, None, None, None, None, None, None, None, None, None, None, None, None, None, None, None, None, None, None, None, None, None, None, None, None, None, None, None, None, None, None, None, None, None, None, None, None, None, None, None, None, None, None, None, None, None, None, None, None, None, None, None, None, None, None, None, None, None, None, None, None, None, None, None, None, None, None, None, None, None, None, None, None, None, None, None, None, None, None, None, None, None, None, None, None, None, None, None, None, None, None, None, None, None, None, None, None, None, None, None, None, None, None, None, None, None, None, None, None, None, None, None, None, None, None, None, None, None, None, None, None, None, None, None, None, None, None, None, None, None, None, None, None, None, None, None, None, None, None, None, None, None, None, None, None, None, None, None, None, None, None, None, None, None, None, None, None, None, None, None, None, None, None, None, None, None, None, None, None, None, None, None, None, None, None, None, None, None, None, None, None, None, None, None, None, None, None, None, None, None, None, None, None, None, None, None, None, None, None, None, None, None, None, None, None, None, None, None, None, None, None, None, None, None, None, None, None, None, None, None, None, None, None, None, None, None, None, None, None, None, None, None, None, None, None, None, None, None, None, None, None, None, None, None, None, None, None, None, None, None, None, None, None, None, None, None, None, None, None, None, None, None, None, None, None, None, None, None, None, None, None, None, None, None, None, None, None, None, None, None, None, None, None, None, None, None, None, None, None, None, None, None, None, None, None, None, None, None, None, None, None, None, None, None, None, None, None, None, None, None, None, None, None, None, None, None, None, None, None, None, None, None, None, None, None, None, None, None, None, None, None, None, None, None, None, None, None, None, None, None, None, None, None, None, None, None, None, None, None, None, None, None, None, None, None, None, None, None, None, None, None, None, None, None, None, None, None, None, None, None, None, None, None, None, None, None, None, None, None, None, None, None, None, None, None, None, None, None, None, None, None, None, None, None, None, None, None, None, None, None, None, None, None, None, None, None, None, None, None, None, None, None, None, None, None, None, None, None, None, None, None, None, None, None, None, None, None, None, None, None, None, None, None, None, None, None, None, None, None, None, None, None, None, None, None, None, None, None, None, None, None, None, None, None, None, None, None, None, None, None, None, None, None, None, None, None, None, None, None, None, None, None, None, None, None, None, None, None, None, None, None, None, None, None, None, None, None, None, None, None, None, None, None, None, None, None, None, None, None, None, None, None, None, None, None, None, None, None, None, None, None, None, None, None, None, None, None, None, None, None, None, None, None, None, None, None, None, None, None, None, None, None, None, None, None, None, None, None, None, None, None, None, None, None, None, None, None, None, None, None, None, None, None, None, None, None, None, None, None, None, None, None, None, None, None, None, None, None, None, None, None, None, None, None, None, None, None, None, None, None, None, None, None, None, None, None, None, None, None, None, None, None, None, None, None, None, None, None, None, None, None, None, None, None, None, None, None, None, None, None, None, None, None, None, None, None, None, None, None, None, None, None, None, None, None, None, None, None, None, None, None, None, None, None, None, None, None, None, None, None, None, None, None, None, None, None, None, None, None, None, None, None, None, None, None, None, None, None, None, None, None, None, None, None, None, None, None, None, None, None, None, None, None, None, None, None, None, None, None, None, None, None, None, None, None, None, None, None, None, None, None, None, None, None, None, None, None, None, None, None, None, None, None, None, None, None, None, None, None, None, None, None, None, None, None, None, None, None, None, None, None, None, None, None, None, None, None, None, None, None, None, None, None, None, None, None, None, None, None, None, None, None, None, None, None, None, None, None, None, None, None, None, None, None, None, None, None, None, None, None, None, None, None, None, None, None, None, None, None, None, None, None, None, None, None, None, None, None, None, None, None, None, None, None, None, None, None, None, None, None, None, None, None, None, None, None, None, None, None, None, None, None, None, None, None, None, None, None, None, None, None, None, None, None, None, None, None, None, None, None, None, None, None, None, None, None, None, None, None, None, None, None, None, None, None, None, None, None, None, None, None, None, None, None, None, None, None, None, None, None, None, None, None, None, None, None, None, None, None, None, None, None, None, None, None, None, None, None, None, None, None, None, None, None, None, None, None, None, None, None, None, None, None, None, None, None, None, None, None, None, None, None, None, None, None, None, None, None, None, None, None, None, None, None, None, None, None, None, None, None, None, None, None, None, None, None, None, None, None, None, None, None, None, None, None, None, None, None, None, None, None, None, None, None, None, None, None, None, None, None, None, None, None, None, None, None, None, None, None, None, None, None, None, None, None, None, None, None, None, None, None, None, None, None, None, None, None, None, None, None, None, None, None, None, None, None, None, None, None, None, None, None, None, None, None, None, None, None, None, None, None, None, None, None, None, None, None, None, None, None, None, None, None, None, None, None, None, None, None, None, None, None, None, None, None, None, None, None, None, None, None, None, None, None, None, None, None, None, None, None, None, None, None, None, None, None, None, None, None, None, None, None, None, None, None, None, None, None, None, None, None, None, None, None, None, None, None, None, None, None, None, None, None, None, None, None, None, None, None, None, None, None, None, None, None, None, None, None, None, None, None, None, None, None, None, None, None, None, None, None, None, None, None, None, None, None, None, None, None, None, None, None, None, None, None, None, None, None, None, None, None, None, None, None, None, None, None, None, None, None, None, None, None, None, None, None, None, None, None, None, None, None, None, None, None, None, None, None, None, None, None, None, None, None, None, None, None, None, None, None, None, None, None, None, None, None, None, None, None, None, None, None, None, None, None, None, None, None, None, None, None, None, None, None, None, None, None, None, None, None, None, None, None, None, None, None, None, None, None, None, None, None, None, None, None, None, None, None, None, None, None, None, None, None, None, None, None, None, None, None, None, None, None, None, None, None, None, None, None, None, None, None, None, None, None, None, None, None, None, None, None, None, None, None, None, None, None, None, None, None, None, None, None, None, None, None, None, None, None, None, None, None, None, None, None, None, None, None, None, None, None, None, None, None, None, None, None, None, None, None, None, None, None, None, None, None, None, None, None, None, None, None, None, None, None, None, None, None, None, None, None, None, None, None, None, None, None, None, None, None, None, None, None, None, None, None, None, None, None, None, None, None, None, None, None, None, None, None, None, None, None, None, None, None, None, None, None, None, None, None, None, None, None, None, None, None, None, None, None, None, None, None, None, None, None], \n",
            "\t[0.6904855370521545, 0.6636308431625366, 0.6380534768104553, 0.6130799651145935, 0.5889537930488586, 0.5658119320869446, 0.5439151525497437, 0.5235167741775513, 0.5048208236694336, 0.48791593313217163, 0.47279664874076843, 0.4593803584575653, 0.44753018021583557, 0.4370890259742737, 0.427891343832016, 0.41978150606155396, 0.41261667013168335, 0.4062708616256714, 0.4006349742412567, 0.39561617374420166, 0.3911345601081848, 0.3871234059333801, 0.38352614641189575, 0.38029325008392334, 0.3773845136165619, 0.3747636675834656, 0.3724013566970825, 0.37026986479759216, 0.3683467209339142, 0.3666119873523712, 0.36504703760147095, 0.3636370897293091, 0.36236801743507385, 0.3612271845340729, 0.36020365357398987, 0.35928741097450256, 0.3584699034690857, 0.35774263739585876, 0.3570988178253174, 0.3565320372581482, 0.35603630542755127, 0.3556062877178192, 0.3552374243736267, 0.35492491722106934, 0.354665607213974, 0.3544555604457855, 0.3542915880680084, 0.3541707992553711, 0.3540905714035034, 0.35404834151268005, 0.3540421724319458, 0.35406991839408875, 0.35412952303886414, 0.35421937704086304, None, None, None, None, None, None, None, None, None, None, None, None, None, None, None, None, None, None, None, None, None, None, None, None, None, None, None, None, None, None, None, None, None, None, None, None, None, None, None, None, None, None, None, None, None, None, None, None, None, None, None, None, None, None, None, None, None, None, None, None, None, None, None, None, None, None, None, None, None, None, None, None, None, None, None, None, None, None, None, None, None, None, None, None, None, None, None, None, None, None, None, None, None, None, None, None, None, None, None, None, None, None, None, None, None, None, None, None, None, None, None, None, None, None, None, None, None, None, None, None, None, None, None, None, None, None, None, None, None, None, None, None, None, None, None, None, None, None, None, None, None, None, None, None, None, None, None, None, None, None, None, None, None, None, None, None, None, None, None, None, None, None, None, None, None, None, None, None, None, None, None, None, None, None, None, None, None, None, None, None, None, None, None, None, None, None, None, None, None, None, None, None, None, None, None, None, None, None, None, None, None, None, None, None, None, None, None, None, None, None, None, None, None, None, None, None, None, None, None, None, None, None, None, None, None, None, None, None, None, None, None, None, None, None, None, None, None, None, None, None, None, None, None, None, None, None, None, None, None, None, None, None, None, None, None, None, None, None, None, None, None, None, None, None, None, None, None, None, None, None, None, None, None, None, None, None, None, None, None, None, None, None, None, None, None, None, None, None, None, None, None, None, None, None, None, None, None, None, None, None, None, None, None, None, None, None, None, None, None, None, None, None, None, None, None, None, None, None, None, None, None, None, None, None, None, None, None, None, None, None, None, None, None, None, None, None, None, None, None, None, None, None, None, None, None, None, None, None, None, None, None, None, None, None, None, None, None, None, None, None, None, None, None, None, None, None, None, None, None, None, None, None, None, None, None, None, None, None, None, None, None, None, None, None, None, None, None, None, None, None, None, None, None, None, None, None, None, None, None, None, None, None, None, None, None, None, None, None, None, None, None, None, None, None, None, None, None, None, None, None, None, None, None, None, None, None, None, None, None, None, None, None, None, None, None, None, None, None, None, None, None, None, None, None, None, None, None, None, None, None, None, None, None, None, None, None, None, None, None, None, None, None, None, None, None, None, None, None, None, None, None, None, None, None, None, None, None, None, None, None, None, None, None, None, None, None, None, None, None, None, None, None, None, None, None, None, None, None, None, None, None, None, None, None, None, None, None, None, None, None, None, None, None, None, None, None, None, None, None, None, None, None, None, None, None, None, None, None, None, None, None, None, None, None, None, None, None, None, None, None, None, None, None, None, None, None, None, None, None, None, None, None, None, None, None, None, None, None, None, None, None, None, None, None, None, None, None, None, None, None, None, None, None, None, None, None, None, None, None, None, None, None, None, None, None, None, None, None, None, None, None, None, None, None, None, None, None, None, None, None, None, None, None, None, None, None, None, None, None, None, None, None, None, None, None, None, None, None, None, None, None, None, None, None, None, None, None, None, None, None, None, None, None, None, None, None, None, None, None, None, None, None, None, None, None, None, None, None, None, None, None, None, None, None, None, None, None, None, None, None, None, None, None, None, None, None, None, None, None, None, None, None, None, None, None, None, None, None, None, None, None, None, None, None, None, None, None, None, None, None, None, None, None, None, None, None, None, None, None, None, None, None, None, None, None, None, None, None, None, None, None, None, None, None, None, None, None, None, None, None, None, None, None, None, None, None, None, None, None, None, None, None, None, None, None, None, None, None, None, None, None, None, None, None, None, None, None, None, None, None, None, None, None, None, None, None, None, None, None, None, None, None, None, None, None, None, None, None, None, None, None, None, None, None, None, None, None, None, None, None, None, None, None, None, None, None, None, None, None, None, None, None, None, None, None, None, None, None, None, None, None, None, None, None, None, None, None, None, None, None, None, None, None, None, None, None, None, None, None, None, None, None, None, None, None, None, None, None, None, None, None, None, None, None, None, None, None, None, None, None, None, None, None, None, None, None, None, None, None, None, None, None, None, None, None, None, None, None, None, None, None, None, None, None, None, None, None, None, None, None, None, None, None, None, None, None, None, None, None, None, None, None, None, None, None, None, None, None, None, None, None, None, None, None, None, None, None, None, None, None, None, None, None, None, None, None, None, None, None, None, None, None, None, None, None, None, None, None, None, None, None, None, None, None, None, None, None, None, None, None, None, None, None, None, None, None, None, None, None, None, None, None, None, None, None, None, None, None, None, None, None, None, None, None, None, None, None, None, None, None, None, None, None, None, None, None, None, None, None, None, None, None, None, None, None, None, None, None, None, None, None, None, None, None, None, None, None, None, None, None, None, None, None, None, None, None, None, None, None, None, None, None, None, None, None, None, None, None, None, None, None, None, None, None, None, None, None, None, None, None, None, None, None, None, None, None, None, None, None, None, None, None, None, None, None, None, None, None, None, None, None, None, None, None, None, None, None, None, None, None, None, None, None, None, None, None, None, None, None, None, None, None, None, None, None, None, None, None, None, None, None, None, None, None, None, None, None, None, None, None, None, None, None, None, None, None, None, None, None, None, None, None, None, None, None, None, None, None, None, None, None, None, None, None, None, None, None, None, None, None, None, None, None, None, None, None, None, None, None, None, None, None, None, None, None, None, None, None, None, None, None, None, None, None, None, None, None, None, None, None, None, None, None, None, None, None, None, None, None, None, None, None, None, None, None, None, None, None, None, None, None, None, None, None, None, None, None, None, None, None, None, None, None, None, None, None, None, None, None, None, None, None, None, None, None, None, None, None, None, None, None, None, None, None, None, None, None, None, None, None, None, None, None, None, None, None, None, None, None, None, None, None, None, None, None, None, None, None, None, None, None, None, None, None, None, None, None, None, None, None, None, None, None, None, None, None, None, None, None, None, None, None, None, None, None, None, None, None, None, None, None, None, None, None, None, None, None, None, None, None, None, None, None, None, None, None, None, None, None, None, None, None, None, None, None, None, None, None, None, None, None, None, None, None, None, None, None, None, None, None, None, None, None, None, None, None, None, None, None, None, None, None, None, None, None, None, None, None, None, None, None, None, None, None, None, None, None, None, None, None, None, None, None, None, None, None, None, None, None, None, None, None, None, None, None, None, None, None, None, None, None, None, None, None, None, None, None, None, None, None, None, None, None, None, None, None, None, None, None, None, None, None, None, None, None, None, None, None, None, None, None, None, None, None, None, None, None, None, None, None, None, None, None, None, None, None, None, None, None, None, None, None, None, None, None, None, None, None, None, None, None, None, None, None, None, None, None, None, None, None, None, None, None, None, None, None, None, None, None, None, None, None, None, None, None, None, None, None, None, None, None, None, None, None, None, None, None, None, None, None, None, None, None, None, None, None, None, None, None, None, None, None, None, None, None, None, None, None, None, None, None, None, None, None, None, None, None, None, None, None, None, None, None, None, None, None, None, None, None, None, None, None, None, None, None, None, None, None, None, None, None, None, None, None, None, None, None, None, None, None, None, None, None, None, None, None, None, None, None, None, None, None, None, None, None, None, None, None, None, None, None, None, None, None, None, None, None, None, None, None, None, None, None, None, None, None, None, None, None, None, None, None, None, None, None, None, None, None, None, None, None, None, None, None, None, None, None, None, None, None, None, None, None, None, None, None, None, None, None, None, None, None, None, None, None, None, None, None, None, None, None, None, None, None, None, None, None, None, None, None, None, None, None, None, None, None, None, None, None, None, None, None, None, None, None, None, None, None, None, None, None, None, None, None, None, None, None, None, None, None, None, None, None, None, None, None, None, None, None, None, None, None, None, None, None, None, None, None, None, None, None, None, None, None, None, None, None, None, None, None, None, None, None, None, None, None, None, None, None, None, None, None, None, None, None, None, None, None, None, None, None, None, None, None, None, None, None, None, None, None, None, None, None, None, None, None, None, None, None, None, None, None, None, None, None, None, None, None, None, None, None, None, None, None, None, None, None, None, None, None, None, None, None, None, None, None, None, None, None, None, None, None, None, None, None, None, None, None, None, None, None, None, None, None, None, None, None, None, None, None, None, None, None, None, None, None, None, None, None, None, None, None, None, None, None, None, None, None, None, None, None, None, None, None, None, None, None, None, None, None, None, None, None, None, None, None, None, None, None, None, None, None, None, None, None, None, None, None, None, None, None, None, None, None, None, None, None, None, None, None, None, None, None, None, None, None, None, None, None, None, None, None, None, None, None, None, None, None, None, None, None, None, None, None, None, None, None, None, None, None, None, None, None, None, None, None, None, None, None, None, None, None, None, None, None, None, None, None, None, None, None, None, None, None, None, None, None, None, None, None, None, None, None, None, None, None, None, None, None, None, None, None, None, None, None, None, None, None, None, None, None, None, None, None, None, None, None, None, None, None, None, None, None, None, None, None, None, None, None, None, None, None, None, None, None, None, None, None, None, None, None, None, None, None, None, None, None, None, None, None, None, None, None, None, None, None, None, None, None, None, None, None, None, None, None, None, None, None, None, None, None, None, None, None, None, None, None, None, None, None, None, None, None, None, None, None, None, None, None, None, None, None, None, None, None, None, None, None, None, None, None, None, None, None, None, None, None, None, None, None, None, None, None, None, None, None, None, None, None, None, None, None, None, None, None, None, None, None, None, None, None, None, None, None, None, None, None, None, None, None, None, None, None, None, None, None, None, None, None, None, None, None, None, None, None, None, None, None, None, None, None, None, None, None, None, None, None, None, None, None, None, None, None, None, None, None, None, None, None, None, None, None, None, None, None, None, None, None, None, None, None, None, None, None, None, None, None, None, None, None, None, None, None, None, None, None, None, None, None, None, None, None, None, None, None, None, None, None, None, None, None, None, None, None, None, None, None, None, None, None, None, None, None, None, None, None, None, None, None, None, None, None, None, None, None, None, None, None, None, None, None, None, None, None, None, None, None, None, None, None, None, None, None, None, None, None, None, None, None, None, None, None, None, None, None, None, None, None, None, None, None, None, None, None, None, None, None, None, None, None, None, None, None, None, None, None, None, None, None, None, None, None, None, None, None, None, None, None, None, None, None, None, None, None, None, None, None, None, None, None, None, None, None, None, None, None, None, None, None, None, None, None, None, None, None, None, None, None, None, None, None, None, None, None, None, None, None, None, None, None, None, None, None, None, None, None, None, None, None, None, None, None, None, None, None, None, None, None, None, None, None, None, None, None, None, None, None, None, None, None, None, None, None, None, None, None, None, None, None, None, None, None, None, None, None, None, None, None, None, None, None, None, None, None, None, None, None, None, None, None, None, None, None, None, None, None, None, None, None, None, None, None, None, None, None, None, None, None, None, None, None, None, None, None, None, None, None, None, None, None, None, None, None, None, None, None, None, None, None, None, None, None, None, None, None, None, None, None, None, None, None, None, None, None, None, None, None, None, None, None, None, None, None, None, None, None, None, None, None, None, None, None, None, None, None, None, None, None, None, None, None, None, None, None, None, None, None, None, None, None, None, None, None, None, None, None, None, None, None, None, None, None, None, None, None, None, None, None, None, None, None, None, None, None, None, None, None, None, None, None, None, None, None, None, None, None, None, None, None, None, None, None, None, None, None, None, None, None, None, None, None, None, None, None, None, None, None, None, None, None, None, None, None, None, None, None, None, None, None, None, None, None, None, None, None, None, None, None, None, None, None, None, None, None, None, None, None, None, None, None, None, None, None, None, None, None, None, None, None, None, None, None, None, None, None, None, None, None, None, None, None, None, None, None, None, None, None, None, None, None, None, None, None, None, None, None, None, None, None, None, None, None, None, None, None, None, None, None, None, None, None, None, None, None, None, None, None, None, None, None, None, None, None, None, None, None, None, None, None, None, None, None, None, None, None, None, None, None, None, None, None, None, None, None, None, None, None, None, None, None, None, None, None, None, None, None, None, None, None, None, None, None, None, None, None, None, None, None, None, None, None, None, None, None, None, None, None, None, None, None, None, None, None, None, None, None, None, None, None, None, None, None, None, None, None, None, None, None, None, None, None, None, None, None, None, None, None, None, None, None, None, None, None, None, None, None, None, None, None, None, None, None, None, None, None, None, None, None, None, None, None, None, None, None, None, None, None, None, None, None, None, None, None, None, None, None, None, None, None, None, None, None, None, None, None, None, None, None, None, None, None, None, None, None, None, None, None, None, None, None, None, None, None, None, None, None, None, None, None, None, None, None, None, None, None, None, None, None, None, None, None, None, None, None, None, None, None, None, None, None, None, None, None, None, None, None, None, None, None, None, None, None, None, None, None, None, None, None, None, None, None, None, None, None, None, None, None, None, None, None, None, None, None, None, None, None, None, None, None, None, None, None, None, None, None, None, None, None, None, None, None, None, None, None, None, None, None, None, None, None, None, None, None, None, None, None, None, None, None, None, None, None, None, None, None, None, None, None, None, None, None, None, None, None, None, None, None, None, None, None, None, None, None, None, None, None, None, None, None, None, None, None, None, None, None, None, None, None, None, None, None, None, None, None, None, None, None, None, None, None, None, None, None, None, None, None, None, None, None, None, None, None, None, None, None, None, None, None, None, None, None, None, None, None, None, None, None, None, None, None, None, None, None, None, None, None, None, None, None, None, None, None, None, None, None, None, None, None, None, None, None, None, None, None, None, None, None, None, None, None, None, None, None, None, None, None, None, None, None, None, None, None, None, None, None, None, None, None, None, None, None, None, None, None, None, None, None, None, None, None, None, None, None, None, None, None, None, None, None, None, None, None, None, None, None, None, None, None, None, None, None, None, None, None, None, None, None, None, None, None, None, None, None, None, None, None, None, None, None, None, None, None, None, None, None, None, None, None, None, None, None, None, None, None, None, None, None, None, None, None, None, None, None, None, None, None, None, None, None, None, None, None, None, None, None, None, None, None, None, None, None, None, None, None, None, None, None, None, None, None, None, None, None, None, None, None, None, None, None, None, None, None, None, None, None, None, None, None, None, None, None, None, None, None, None, None, None, None, None, None, None, None, None, None, None, None, None, None, None, None, None, None, None, None, None, None, None, None, None, None, None, None, None, None, None, None, None, None, None, None, None, None, None, None, None, None, None, None, None, None, None, None, None, None, None, None, None, None, None, None, None, None, None, None, None, None, None, None, None, None, None, None, None, None, None, None, None, None, None, None, None, None, None, None, None, None, None, None, None, None, None, None, None, None, None, None, None, None, None, None, None, None, None, None, None, None, None, None, None, None, None, None, None, None, None, None, None, None, None, None, None, None, None, None, None, None, None, None, None, None, None, None, None, None, None, None, None, None, None, None, None, None, None, None, None, None, None, None, None, None, None, None, None, None, None, None, None, None, None, None, None, None, None, None, None, None, None, None, None, None, None, None, None, None, None, None, None, None, None, None, None, None, None, None, None, None, None, None, None, None, None, None, None, None, None, None, None, None, None, None, None, None, None, None, None, None, None, None, None, None, None, None, None, None, None, None, None, None, None, None, None, None, None, None, None, None, None, None, None, None, None, None, None, None, None, None, None, None, None, None, None, None, None, None, None, None, None, None, None, None, None, None, None, None, None, None, None, None, None, None, None, None, None, None, None, None, None, None, None, None, None, None, None, None, None, None, None, None, None, None, None, None, None, None, None, None, None, None, None, None, None, None, None, None, None, None, None, None, None, None, None, None, None, None, None, None, None, None, None, None, None, None, None, None, None, None, None, None, None, None, None, None, None, None, None, None, None, None, None, None, None, None, None, None, None, None, None, None, None, None, None, None, None, None, None, None, None, None, None, None, None, None, None, None, None, None, None, None, None, None, None, None, None, None, None, None, None, None, None, None, None, None, None, None, None, None, None, None, None, None, None, None, None, None, None, None, None, None, None, None, None, None, None, None, None, None, None, None, None, None, None, None, None, None, None, None, None, None, None, None, None, None, None, None, None, None, None, None, None, None, None, None, None, None, None, None, None, None, None, None, None, None, None, None, None, None, None, None, None, None, None, None, None, None, None, None, None, None, None, None, None, None, None, None, None, None, None, None, None, None, None, None, None, None, None, None, None, None, None, None, None, None, None, None, None, None, None, None, None, None, None, None, None, None, None, None, None, None, None, None, None, None, None, None, None, None, None, None, None, None, None, None, None, None, None, None, None, None, None, None, None, None, None, None, None, None, None, None, None, None, None, None, None, None, None, None, None, None, None, None, None, None, None, None, None, None, None, None, None, None, None, None, None, None, None, None, None, None, None, None, None, None, None, None, None, None, None, None, None, None, None, None, None, None, None, None, None, None, None, None, None, None, None, None, None, None, None, None, None, None, None, None, None, None, None, None, None, None, None, None, None, None, None, None, None, None, None, None, None, None, None, None, None, None, None, None, None, None, None, None, None, None, None, None, None, None, None, None, None, None, None, None, None, None, None, None, None, None, None, None, None, None, None, None, None, None, None, None, None, None, None, None, None, None, None, None, None, None, None, None, None, None, None, None, None, None, None, None, None, None, None, None, None, None, None, None, None, None, None, None, None, None, None, None, None, None, None, None, None, None, None, None, None, None, None, None, None, None, None, None, None, None, None, None, None, None, None, None, None, None, None, None, None, None, None, None, None, None, None, None, None, None, None, None, None, None, None, None, None, None, None, None, None, None, None, None, None, None, None, None, None, None, None, None, None, None, None, None, None, None, None, None, None, None, None, None, None, None, None, None, None, None, None, None, None, None, None, None, None, None, None, None, None, None, None, None, None, None, None, None, None, None, None, None, None, None, None, None, None, None, None, None, None, None, None, None, None, None, None, None, None, None, None, None, None, None, None, None, None, None, None, None, None, None, None, None, None, None, None, None, None, None, None, None, None, None, None, None, None, None, None, None, None, None, None, None, None, None, None, None, None, None, None, None, None, None, None, None, None, None, None, None, None, None, None, None, None, None, None, None, None, None, None, None, None, None, None, None, None, None, None, None, None, None, None, None, None, None, None, None, None, None, None, None, None, None, None, None, None, None, None, None, None, None, None, None, None, None, None, None, None, None, None, None, None, None, None, None, None, None, None, None, None, None, None, None, None, None, None, None, None, None, None, None, None, None, None, None, None, None, None, None, None, None, None, None, None, None, None, None, None, None, None, None, None, None, None, None, None, None, None, None, None, None, None, None, None, None, None, None, None, None, None, None, None, None, None, None, None, None, None, None, None, None, None, None, None, None, None, None, None, None, None, None, None, None, None, None, None, None, None, None, None, None, None, None, None, None, None, None, None, None, None, None, None, None, None, None, None, None, None, None, None, None, None, None, None, None, None, None, None, None, None, None, None, None, None, None, None, None, None, None, None, None, None, None, None, None, None, None, None, None, None, None, None, None, None, None, None, None, None, None, None, None, None, None, None, None, None, None, None, None, None, None, None, None, None, None, None, None, None, None, None, None, None, None, None, None, None, None, None, None, None, None, None, None, None, None, None, None, None, None, None, None, None, None, None, None, None, None, None, None, None, None, None, None, None, None, None, None, None, None, None, None, None, None, None, None, None, None, None, None, None, None, None, None, None, None, None, None, None, None, None, None, None, None, None, None, None, None, None, None, None, None, None, None, None, None, None, None, None, None, None, None, None, None, None, None, None, None, None, None, None, None, None, None, None, None, None, None, None, None, None, None, None, None, None, None, None, None, None, None, None, None, None, None, None, None, None, None, None, None, None, None, None, None, None, None, None, None, None, None, None, None, None, None, None, None, None, None, None, None, None, None, None, None, None, None, None, None, None, None, None, None, None, None, None, None, None, None, None, None, None, None, None, None, None, None, None, None, None, None, None, None, None, None, None, None, None, None, None, None, None, None, None, None, None, None, None, None, None, None, None, None, None, None, None, None, None, None, None, None, None, None, None, None, None, None, None, None, None, None, None, None, None, None, None, None, None, None, None, None, None, None, None, None, None, None, None, None, None, None, None, None, None, None, None, None, None, None, None, None, None, None, None, None, None, None, None, None, None, None, None, None, None, None, None, None, None, None, None, None, None, None, None, None, None, None, None, None, None, None, None, None, None, None, None, None, None, None, None, None, None, None, None, None, None, None, None, None, None, None, None, None, None, None, None, None, None, None, None, None, None, None, None, None, None, None, None, None, None, None, None, None, None, None, None, None, None, None, None, None, None, None, None, None, None, None, None, None, None, None, None, None, None, None, None, None, None, None, None, None, None, None, None, None, None, None, None, None, None, None, None, None, None, None, None, None, None, None, None, None, None, None, None, None, None, None, None, None, None, None, None, None, None, None, None, None, None, None, None, None, None, None, None, None, None, None, None, None, None, None, None, None, None, None, None, None, None, None, None, None, None, None, None, None, None, None, None, None, None, None, None, None, None, None, None, None, None, None, None, None, None, None, None, None, None, None, None, None, None, None, None, None, None, None, None, None, None, None, None, None, None, None, None, None, None, None, None, None, None, None, None, None, None, None, None, None, None, None, None, None, None, None, None, None, None, None, None, None, None, None, None, None, None, None, None, None, None, None, None, None, None, None, None, None, None, None, None, None, None, None, None, None, None, None, None, None, None, None, None, None, None, None, None, None, None, None, None, None, None, None, None, None, None, None, None, None, None, None, None, None, None, None, None, None, None, None, None, None, None, None, None, None, None, None, None, None, None, None, None, None, None, None, None, None, None, None, None, None, None, None, None, None, None, None, None, None, None, None, None, None, None, None, None, None, None, None, None, None, None, None, None, None, None, None, None, None, None, None, None, None, None, None, None, None, None, None, None, None, None, None, None, None, None, None, None, None, None, None, None, None, None, None, None, None, None, None, None, None, None, None, None, None, None, None, None, None, None, None, None, None, None, None, None, None, None, None, None, None, None, None, None, None, None, None, None, None, None, None, None, None, None, None, None, None, None, None, None, None, None, None, None, None, None, None, None, None, None, None, None, None, None, None, None, None, None, None, None, None, None, None, None, None, None, None, None, None, None, None, None, None, None, None, None, None, None, None, None, None, None, None, None, None, None, None, None, None, None, None, None, None, None, None, None, None, None, None, None, None, None, None, None, None, None, None, None, None, None, None, None, None, None, None, None, None, None, None, None, None, None, None, None, None, None, None, None, None, None, None, None, None, None, None, None, None, None, None, None, None, None, None, None, None, None, None, None, None, None, None, None, None, None, None, None, None, None, None, None, None, None, None, None, None, None, None, None, None, None, None, None, None, None, None, None, None, None, None, None, None, None, None, None, None, None, None, None, None, None, None, None, None, None, None, None, None, None, None, None, None, None, None, None, None, None, None, None, None, None, None, None, None, None, None, None, None, None, None, None, None, None, None, None, None, None, None, None, None, None, None, None, None, None, None, None, None, None, None, None, None, None, None, None, None, None, None, None, None, None, None, None, None, None, None, None, None], \n",
            "\tover the training epochs, respectively.\n"
          ],
          "name": "stdout"
        },
        {
          "output_type": "display_data",
          "data": {
            "image/png": "[encoded data removed]",
            "text/plain": [
              "<Figure size 432x288 with 1 Axes>"
            ]
          },
          "metadata": {
            "tags": [],
            "needs_background": "light"
          }
        },
        {
          "output_type": "display_data",
          "data": {
            "image/png": "[encoded data removed]",
            "text/plain": [
              "<Figure size 432x288 with 1 Axes>"
            ]
          },
          "metadata": {
            "tags": [],
            "needs_background": "light"
          }
        },
        {
          "output_type": "display_data",
          "data": {
            "image/png": "[encoded data removed]",
            "text/plain": [
              "<Figure size 432x288 with 1 Axes>"
            ]
          },
          "metadata": {
            "tags": [],
            "needs_background": "light"
          }
        }
      ]
    },
    {
      "cell_type": "markdown",
      "metadata": {
        "id": "QnOKtBi5NsNE"
      },
      "source": [
        "As we can see again the results are pretty similar to the logisitic regression. Adding more layers to the classifyer do not have any affect on the validation loss"
      ]
    },
    {
      "cell_type": "markdown",
      "metadata": {
        "id": "waxjuu7XNhDy"
      },
      "source": [
        "**Here you should merge the feature extractor network layers with the PyTorch logistic regression classifier.**"
      ]
    },
    {
      "cell_type": "code",
      "metadata": {
        "id": "KeULwtgjNhDy"
      },
      "source": [
        "### Already done on definition of MyResnet class using cases\n"
      ],
      "execution_count": 243,
      "outputs": []
    },
    {
      "cell_type": "markdown",
      "metadata": {
        "id": "bNJsjt3aNhDy"
      },
      "source": [
        "# Part 2- Fine-tuning"
      ]
    },
    {
      "cell_type": "markdown",
      "metadata": {
        "id": "hx34iLgINhDy"
      },
      "source": [
        "In the feature extraction experiment above you were training the classifier on the top of the pre-trained model. \n",
        "In this paert, you need to train (or \"fine-tune\") the original pre-trained Resnet18 model (or part of them) in an attempts to improve your results. You can determine the number of convolution layers you intend to re-train in order to avoid overfitting and hopefully achive better generalization. Note that the fine-tuning should only be attempted after you have trained the top-level classifier with a pre-trained model.\n",
        "\n",
        "1. Plot Loss and Accuracy v.s Epoch for train and validation sets:"
      ]
    },
    {
      "cell_type": "markdown",
      "metadata": {
        "id": "3MevMTB8NhDy"
      },
      "source": [
        "#### Define the model (use the merged feature extractor with the PyTorch logistic regression classifier)"
      ]
    },
    {
      "cell_type": "code",
      "metadata": {
        "id": "8LuT7thxNhDy",
        "colab": {
          "base_uri": "https://localhost:8080/"
        },
        "outputId": "e379f02c-a8c6-4424-9082-fd19009bc342"
      },
      "source": [
        "print('finetuning')\n",
        "net_ft = net #trained net from resnet18 with classifyer nn.linear(512,2)+softmax as head\n",
        "for param in net_ft.features.parameters():\n",
        "    param.requires_grad = True\n",
        "args.lr = args.lr_finetune # choose small learning rate for finetuning\n",
        "args.early_stopping_min_improvement = args.early_stopping_min_improvement_ft\n",
        "args.early_stopping_num_epochs = args.early_stopping_num_epochs_ft"
      ],
      "execution_count": 244,
      "outputs": [
        {
          "output_type": "stream",
          "text": [
            "finetuning\n"
          ],
          "name": "stdout"
        }
      ]
    },
    {
      "cell_type": "markdown",
      "metadata": {
        "id": "K7MI3gouNhDz"
      },
      "source": [
        "#### Training and validation:"
      ]
    },
    {
      "cell_type": "code",
      "metadata": {
        "id": "etpfzr0PNhDz",
        "colab": {
          "base_uri": "https://localhost:8080/"
        },
        "outputId": "4d9fcfef-3a94-4fdd-c6d8-c1188b88ce18"
      },
      "source": [
        "tr_loss_ft, val_loss_ft, test_loss_ft, tr_auc_ft, val_auc_ft, untrained_test_loss_ft, untrained_test_auc_ft = training_loop_with_dataloaders(\n",
        "    args,\n",
        "    net_ft,\n",
        "    tr_dataloader=tr_dataloader,\n",
        "    val_dataloader=val_dataloader,\n",
        "    criterion_func=nn.CrossEntropyLoss,\n",
        "    fine_tune=True\n",
        ")"
      ],
      "execution_count": 245,
      "outputs": [
        {
          "output_type": "stream",
          "text": [
            "1\n",
            "1\n",
            "1\n",
            "1\n",
            "1\n",
            "1\n",
            "1\n",
            "1\n",
            "1\n",
            "1\n",
            "1\n",
            "Train loss: 2.51e-01, Val loss: 3.22e-01\n",
            "Best val loss is: 3.22e-01\n",
            "1\n",
            "1\n",
            "1\n",
            "1\n",
            "1\n",
            "1\n",
            "1\n",
            "1\n",
            "1\n",
            "1\n",
            "1\n",
            "Train loss: 1.85e-01, Val loss: 3.18e-01\n",
            "Best val loss is: 3.18e-01\n",
            "1\n",
            "1\n",
            "1\n",
            "1\n",
            "1\n",
            "1\n",
            "1\n",
            "1\n",
            "1\n",
            "1\n",
            "1\n",
            "Train loss: 1.59e-01, Val loss: 3.09e-01\n",
            "Best val loss is: 3.09e-01\n",
            "1\n",
            "1\n",
            "1\n",
            "1\n",
            "1\n",
            "1\n",
            "1\n",
            "1\n",
            "1\n",
            "1\n",
            "1\n",
            "Train loss: 1.26e-01, Val loss: 3.07e-01\n",
            "Best val loss is: 3.07e-01\n",
            "1\n",
            "1\n",
            "1\n",
            "1\n",
            "1\n",
            "1\n",
            "1\n",
            "1\n",
            "1\n",
            "1\n",
            "1\n",
            "Train loss: 1.08e-01, Val loss: 3.07e-01\n",
            "Best val loss is: 3.07e-01\n",
            "Stopped training after 5/5000 epochs.\n",
            "The loss is 3.42e-01 before training and 3.07e-01 after training.\n",
            "The training and validation losses are \n",
            "\t[0.2509873390197754, 0.18490537643432617, 0.15860007286071778, 0.1262938690185547, 0.10808099746704102, None, None, None, None, None, None, None, None, None, None, None, None, None, None, None, None, None, None, None, None, None, None, None, None, None, None, None, None, None, None, None, None, None, None, None, None, None, None, None, None, None, None, None, None, None, None, None, None, None, None, None, None, None, None, None, None, None, None, None, None, None, None, None, None, None, None, None, None, None, None, None, None, None, None, None, None, None, None, None, None, None, None, None, None, None, None, None, None, None, None, None, None, None, None, None, None, None, None, None, None, None, None, None, None, None, None, None, None, None, None, None, None, None, None, None, None, None, None, None, None, None, None, None, None, None, None, None, None, None, None, None, None, None, None, None, None, None, None, None, None, None, None, None, None, None, None, None, None, None, None, None, None, None, None, None, None, None, None, None, None, None, None, None, None, None, None, None, None, None, None, None, None, None, None, None, None, None, None, None, None, None, None, None, None, None, None, None, None, None, None, None, None, None, None, None, None, None, None, None, None, None, None, None, None, None, None, None, None, None, None, None, None, None, None, None, None, None, None, None, None, None, None, None, None, None, None, None, None, None, None, None, None, None, None, None, None, None, None, None, None, None, None, None, None, None, None, None, None, None, None, None, None, None, None, None, None, None, None, None, None, None, None, None, None, None, None, None, None, None, None, None, None, None, None, None, None, None, None, None, None, None, None, None, None, None, None, None, None, None, None, None, None, None, None, None, None, None, None, None, None, None, None, None, None, None, None, None, None, None, None, None, None, None, None, None, None, None, None, None, None, None, None, None, None, None, None, None, None, None, None, None, None, None, None, None, None, None, None, None, None, None, None, None, None, None, None, None, None, None, None, None, None, None, None, None, None, None, None, None, None, None, None, None, None, None, None, None, None, None, None, None, None, None, None, None, None, None, None, None, None, None, None, None, None, None, None, None, None, None, None, None, None, None, None, None, None, None, None, None, None, None, None, None, None, None, None, None, None, None, None, None, None, None, None, None, None, None, None, None, None, None, None, None, None, None, None, None, None, None, None, None, None, None, None, None, None, None, None, None, None, None, None, None, None, None, None, None, None, None, None, None, None, None, None, None, None, None, None, None, None, None, None, None, None, None, None, None, None, None, None, None, None, None, None, None, None, None, None, None, None, None, None, None, None, None, None, None, None, None, None, None, None, None, None, None, None, None, None, None, None, None, None, None, None, None, None, None, None, None, None, None, None, None, None, None, None, None, None, None, None, None, None, None, None, None, None, None, None, None, None, None, None, None, None, None, None, None, None, None, None, None, None, None, None, None, None, None, None, None, None, None, None, None, None, None, None, None, None, None, None, None, None, None, None, None, None, None, None, None, None, None, None, None, None, None, None, None, None, None, None, None, None, None, None, None, None, None, None, None, None, None, None, None, None, None, None, None, None, None, None, None, None, None, None, None, None, None, None, None, None, None, None, None, None, None, None, None, None, None, None, None, None, None, None, None, None, None, None, None, None, None, None, None, None, None, None, None, None, None, None, None, None, None, None, None, None, None, None, None, None, None, None, None, None, None, None, None, None, None, None, None, None, None, None, None, None, None, None, None, None, None, None, None, None, None, None, None, None, None, None, None, None, None, None, None, None, None, None, None, None, None, None, None, None, None, None, None, None, None, None, None, None, None, None, None, None, None, None, None, None, None, None, None, None, None, None, None, None, None, None, None, None, None, None, None, None, None, None, None, None, None, None, None, None, None, None, None, None, None, None, None, None, None, None, None, None, None, None, None, None, None, None, None, None, None, None, None, None, None, None, None, None, None, None, None, None, None, None, None, None, None, None, None, None, None, None, None, None, None, None, None, None, None, None, None, None, None, None, None, None, None, None, None, None, None, None, None, None, None, None, None, None, None, None, None, None, None, None, None, None, None, None, None, None, None, None, None, None, None, None, None, None, None, None, None, None, None, None, None, None, None, None, None, None, None, None, None, None, None, None, None, None, None, None, None, None, None, None, None, None, None, None, None, None, None, None, None, None, None, None, None, None, None, None, None, None, None, None, None, None, None, None, None, None, None, None, None, None, None, None, None, None, None, None, None, None, None, None, None, None, None, None, None, None, None, None, None, None, None, None, None, None, None, None, None, None, None, None, None, None, None, None, None, None, None, None, None, None, None, None, None, None, None, None, None, None, None, None, None, None, None, None, None, None, None, None, None, None, None, None, None, None, None, None, None, None, None, None, None, None, None, None, None, None, None, None, None, None, None, None, None, None, None, None, None, None, None, None, None, None, None, None, None, None, None, None, None, None, None, None, None, None, None, None, None, None, None, None, None, None, None, None, None, None, None, None, None, None, None, None, None, None, None, None, None, None, None, None, None, None, None, None, None, None, None, None, None, None, None, None, None, None, None, None, None, None, None, None, None, None, None, None, None, None, None, None, None, None, None, None, None, None, None, None, None, None, None, None, None, None, None, None, None, None, None, None, None, None, None, None, None, None, None, None, None, None, None, None, None, None, None, None, None, None, None, None, None, None, None, None, None, None, None, None, None, None, None, None, None, None, None, None, None, None, None, None, None, None, None, None, None, None, None, None, None, None, None, None, None, None, None, None, None, None, None, None, None, None, None, None, None, None, None, None, None, None, None, None, None, None, None, None, None, None, None, None, None, None, None, None, None, None, None, None, None, None, None, None, None, None, None, None, None, None, None, None, None, None, None, None, None, None, None, None, None, None, None, None, None, None, None, None, None, None, None, None, None, None, None, None, None, None, None, None, None, None, None, None, None, None, None, None, None, None, None, None, None, None, None, None, None, None, None, None, None, None, None, None, None, None, None, None, None, None, None, None, None, None, None, None, None, None, None, None, None, None, None, None, None, None, None, None, None, None, None, None, None, None, None, None, None, None, None, None, None, None, None, None, None, None, None, None, None, None, None, None, None, None, None, None, None, None, None, None, None, None, None, None, None, None, None, None, None, None, None, None, None, None, None, None, None, None, None, None, None, None, None, None, None, None, None, None, None, None, None, None, None, None, None, None, None, None, None, None, None, None, None, None, None, None, None, None, None, None, None, None, None, None, None, None, None, None, None, None, None, None, None, None, None, None, None, None, None, None, None, None, None, None, None, None, None, None, None, None, None, None, None, None, None, None, None, None, None, None, None, None, None, None, None, None, None, None, None, None, None, None, None, None, None, None, None, None, None, None, None, None, None, None, None, None, None, None, None, None, None, None, None, None, None, None, None, None, None, None, None, None, None, None, None, None, None, None, None, None, None, None, None, None, None, None, None, None, None, None, None, None, None, None, None, None, None, None, None, None, None, None, None, None, None, None, None, None, None, None, None, None, None, None, None, None, None, None, None, None, None, None, None, None, None, None, None, None, None, None, None, None, None, None, None, None, None, None, None, None, None, None, None, None, None, None, None, None, None, None, None, None, None, None, None, None, None, None, None, None, None, None, None, None, None, None, None, None, None, None, None, None, None, None, None, None, None, None, None, None, None, None, None, None, None, None, None, None, None, None, None, None, None, None, None, None, None, None, None, None, None, None, None, None, None, None, None, None, None, None, None, None, None, None, None, None, None, None, None, None, None, None, None, None, None, None, None, None, None, None, None, None, None, None, None, None, None, None, None, None, None, None, None, None, None, None, None, None, None, None, None, None, None, None, None, None, None, None, None, None, None, None, None, None, None, None, None, None, None, None, None, None, None, None, None, None, None, None, None, None, None, None, None, None, None, None, None, None, None, None, None, None, None, None, None, None, None, None, None, None, None, None, None, None, None, None, None, None, None, None, None, None, None, None, None, None, None, None, None, None, None, None, None, None, None, None, None, None, None, None, None, None, None, None, None, None, None, None, None, None, None, None, None, None, None, None, None, None, None, None, None, None, None, None, None, None, None, None, None, None, None, None, None, None, None, None, None, None, None, None, None, None, None, None, None, None, None, None, None, None, None, None, None, None, None, None, None, None, None, None, None, None, None, None, None, None, None, None, None, None, None, None, None, None, None, None, None, None, None, None, None, None, None, None, None, None, None, None, None, None, None, None, None, None, None, None, None, None, None, None, None, None, None, None, None, None, None, None, None, None, None, None, None, None, None, None, None, None, None, None, None, None, None, None, None, None, None, None, None, None, None, None, None, None, None, None, None, None, None, None, None, None, None, None, None, None, None, None, None, None, None, None, None, None, None, None, None, None, None, None, None, None, None, None, None, None, None, None, None, None, None, None, None, None, None, None, None, None, None, None, None, None, None, None, None, None, None, None, None, None, None, None, None, None, None, None, None, None, None, None, None, None, None, None, None, None, None, None, None, None, None, None, None, None, None, None, None, None, None, None, None, None, None, None, None, None, None, None, None, None, None, None, None, None, None, None, None, None, None, None, None, None, None, None, None, None, None, None, None, None, None, None, None, None, None, None, None, None, None, None, None, None, None, None, None, None, None, None, None, None, None, None, None, None, None, None, None, None, None, None, None, None, None, None, None, None, None, None, None, None, None, None, None, None, None, None, None, None, None, None, None, None, None, None, None, None, None, None, None, None, None, None, None, None, None, None, None, None, None, None, None, None, None, None, None, None, None, None, None, None, None, None, None, None, None, None, None, None, None, None, None, None, None, None, None, None, None, None, None, None, None, None, None, None, None, None, None, None, None, None, None, None, None, None, None, None, None, None, None, None, None, None, None, None, None, None, None, None, None, None, None, None, None, None, None, None, None, None, None, None, None, None, None, None, None, None, None, None, None, None, None, None, None, None, None, None, None, None, None, None, None, None, None, None, None, None, None, None, None, None, None, None, None, None, None, None, None, None, None, None, None, None, None, None, None, None, None, None, None, None, None, None, None, None, None, None, None, None, None, None, None, None, None, None, None, None, None, None, None, None, None, None, None, None, None, None, None, None, None, None, None, None, None, None, None, None, None, None, None, None, None, None, None, None, None, None, None, None, None, None, None, None, None, None, None, None, None, None, None, None, None, None, None, None, None, None, None, None, None, None, None, None, None, None, None, None, None, None, None, None, None, None, None, None, None, None, None, None, None, None, None, None, None, None, None, None, None, None, None, None, None, None, None, None, None, None, None, None, None, None, None, None, None, None, None, None, None, None, None, None, None, None, None, None, None, None, None, None, None, None, None, None, None, None, None, None, None, None, None, None, None, None, None, None, None, None, None, None, None, None, None, None, None, None, None, None, None, None, None, None, None, None, None, None, None, None, None, None, None, None, None, None, None, None, None, None, None, None, None, None, None, None, None, None, None, None, None, None, None, None, None, None, None, None, None, None, None, None, None, None, None, None, None, None, None, None, None, None, None, None, None, None, None, None, None, None, None, None, None, None, None, None, None, None, None, None, None, None, None, None, None, None, None, None, None, None, None, None, None, None, None, None, None, None, None, None, None, None, None, None, None, None, None, None, None, None, None, None, None, None, None, None, None, None, None, None, None, None, None, None, None, None, None, None, None, None, None, None, None, None, None, None, None, None, None, None, None, None, None, None, None, None, None, None, None, None, None, None, None, None, None, None, None, None, None, None, None, None, None, None, None, None, None, None, None, None, None, None, None, None, None, None, None, None, None, None, None, None, None, None, None, None, None, None, None, None, None, None, None, None, None, None, None, None, None, None, None, None, None, None, None, None, None, None, None, None, None, None, None, None, None, None, None, None, None, None, None, None, None, None, None, None, None, None, None, None, None, None, None, None, None, None, None, None, None, None, None, None, None, None, None, None, None, None, None, None, None, None, None, None, None, None, None, None, None, None, None, None, None, None, None, None, None, None, None, None, None, None, None, None, None, None, None, None, None, None, None, None, None, None, None, None, None, None, None, None, None, None, None, None, None, None, None, None, None, None, None, None, None, None, None, None, None, None, None, None, None, None, None, None, None, None, None, None, None, None, None, None, None, None, None, None, None, None, None, None, None, None, None, None, None, None, None, None, None, None, None, None, None, None, None, None, None, None, None, None, None, None, None, None, None, None, None, None, None, None, None, None, None, None, None, None, None, None, None, None, None, None, None, None, None, None, None, None, None, None, None, None, None, None, None, None, None, None, None, None, None, None, None, None, None, None, None, None, None, None, None, None, None, None, None, None, None, None, None, None, None, None, None, None, None, None, None, None, None, None, None, None, None, None, None, None, None, None, None, None, None, None, None, None, None, None, None, None, None, None, None, None, None, None, None, None, None, None, None, None, None, None, None, None, None, None, None, None, None, None, None, None, None, None, None, None, None, None, None, None, None, None, None, None, None, None, None, None, None, None, None, None, None, None, None, None, None, None, None, None, None, None, None, None, None, None, None, None, None, None, None, None, None, None, None, None, None, None, None, None, None, None, None, None, None, None, None, None, None, None, None, None, None, None, None, None, None, None, None, None, None, None, None, None, None, None, None, None, None, None, None, None, None, None, None, None, None, None, None, None, None, None, None, None, None, None, None, None, None, None, None, None, None, None, None, None, None, None, None, None, None, None, None, None, None, None, None, None, None, None, None, None, None, None, None, None, None, None, None, None, None, None, None, None, None, None, None, None, None, None, None, None, None, None, None, None, None, None, None, None, None, None, None, None, None, None, None, None, None, None, None, None, None, None, None, None, None, None, None, None, None, None, None, None, None, None, None, None, None, None, None, None, None, None, None, None, None, None, None, None, None, None, None, None, None, None, None, None, None, None, None, None, None, None, None, None, None, None, None, None, None, None, None, None, None, None, None, None, None, None, None, None, None, None, None, None, None, None, None, None, None, None, None, None, None, None, None, None, None, None, None, None, None, None, None, None, None, None, None, None, None, None, None, None, None, None, None, None, None, None, None, None, None, None, None, None, None, None, None, None, None, None, None, None, None, None, None, None, None, None, None, None, None, None, None, None, None, None, None, None, None, None, None, None, None, None, None, None, None, None, None, None, None, None, None, None, None, None, None, None, None, None, None, None, None, None, None, None, None, None, None, None, None, None, None, None, None, None, None, None, None, None, None, None, None, None, None, None, None, None, None, None, None, None, None, None, None, None, None, None, None, None, None, None, None, None, None, None, None, None, None, None, None, None, None, None, None, None, None, None, None, None, None, None, None, None, None, None, None, None, None, None, None, None, None, None, None, None, None, None, None, None, None, None, None, None, None, None, None, None, None, None, None, None, None, None, None, None, None, None, None, None, None, None, None, None, None, None, None, None, None, None, None, None, None, None, None, None, None, None, None, None, None, None, None, None, None, None, None, None, None, None, None, None, None, None, None, None, None, None, None, None, None, None, None, None, None, None, None, None, None, None, None, None, None, None, None, None, None, None, None, None, None, None, None, None, None, None, None, None, None, None, None, None, None, None, None, None, None, None, None, None, None, None, None, None, None, None, None, None, None, None, None, None, None, None, None, None, None, None, None, None, None, None, None, None, None, None, None, None, None, None, None, None, None, None, None, None, None, None, None, None, None, None, None, None, None, None, None, None, None, None, None, None, None, None, None, None, None, None, None, None, None, None, None, None, None, None, None, None, None, None, None, None, None, None, None, None, None, None, None, None, None, None, None, None, None, None, None, None, None, None, None, None, None, None, None, None, None, None, None, None, None, None, None, None, None, None, None, None, None, None, None, None, None, None, None, None, None, None, None, None, None, None, None, None, None, None, None, None, None, None, None, None, None, None, None, None, None, None, None, None, None, None, None, None, None, None, None, None, None, None, None, None, None, None, None, None, None, None, None, None, None, None, None, None, None, None, None, None, None, None, None, None, None, None, None, None, None, None, None, None, None, None, None, None, None, None, None, None, None, None, None, None, None, None, None, None, None, None, None, None, None, None, None, None, None, None, None, None, None, None, None, None, None, None, None, None, None, None, None, None, None, None, None, None, None, None, None, None, None, None, None, None, None, None, None, None, None, None, None, None, None, None, None, None, None, None, None, None, None, None, None, None, None, None, None, None, None, None, None, None, None, None, None, None, None, None, None, None, None, None, None, None, None, None, None, None, None, None, None, None, None, None, None, None, None, None, None, None, None, None, None, None, None, None, None, None, None, None, None, None, None, None, None, None, None, None, None, None, None, None, None, None, None, None, None, None, None, None, None, None, None, None, None, None, None, None, None, None, None, None, None, None, None, None, None, None, None, None, None, None, None, None, None, None, None, None, None, None, None, None, None, None, None, None, None, None, None, None, None, None, None, None, None, None, None, None, None, None, None, None, None, None, None, None, None, None, None, None, None, None, None, None, None, None, None, None, None, None, None, None, None, None, None, None, None, None, None, None, None, None, None, None, None, None, None, None, None, None, None, None, None, None, None, None, None, None, None, None, None, None, None, None, None, None, None, None, None, None, None, None, None, None, None, None, None, None, None, None, None, None, None, None, None, None, None, None, None, None, None, None, None, None, None, None, None, None, None, None, None, None, None, None, None, None, None, None, None, None, None, None, None, None, None, None, None, None, None, None, None, None, None, None, None, None, None, None, None, None, None, None, None, None, None, None, None, None, None, None, None, None, None, None, None, None, None, None, None, None, None, None, None, None, None, None, None, None, None, None, None, None, None, None, None, None, None, None, None, None, None, None, None, None, None, None, None, None, None, None, None, None, None, None, None, None, None, None, None, None, None, None, None, None, None, None, None, None, None, None, None, None, None, None, None, None, None, None, None, None, None, None, None, None, None, None, None, None, None, None, None, None, None, None, None, None, None, None, None, None, None, None, None, None, None, None, None, None, None, None, None, None, None, None, None, None, None, None, None, None, None, None, None, None, None, None, None, None, None, None, None, None, None, None, None, None, None, None, None, None, None, None, None, None, None, None, None, None, None, None, None, None, None, None, None, None, None, None, None, None, None, None, None, None, None, None, None, None, None, None, None, None, None, None, None, None, None, None, None, None, None, None, None, None, None, None, None, None, None, None, None, None, None, None, None, None, None, None, None, None, None, None, None, None, None, None, None, None, None, None, None, None, None, None, None, None, None, None, None, None, None, None, None, None, None, None, None, None, None, None, None, None, None, None, None, None, None, None, None, None, None, None, None, None, None, None, None, None, None, None, None, None, None, None, None, None, None, None, None, None, None, None, None, None, None, None, None, None, None, None, None, None, None, None, None, None, None, None, None, None, None, None, None, None, None, None, None, None, None, None, None, None, None, None, None, None, None, None, None, None, None, None, None, None, None, None, None, None, None, None, None, None, None, None, None, None, None, None, None, None, None, None, None, None, None, None, None, None, None, None, None, None, None, None, None, None, None, None, None, None, None, None, None, None, None, None, None, None, None, None, None, None, None, None, None, None, None, None, None, None, None, None, None, None, None, None, None, None, None, None, None, None, None, None, None, None, None, None, None, None, None, None, None, None, None, None, None, None, None, None, None, None, None, None, None, None, None, None, None, None, None, None, None, None, None, None, None, None, None, None, None, None, None, None, None, None, None, None, None, None, None, None, None, None, None, None, None, None, None, None, None, None, None, None, None, None, None, None, None, None, None, None, None, None, None, None, None, None, None, None, None, None, None, None, None, None, None, None, None, None, None, None, None, None, None, None, None, None, None, None, None, None, None, None, None, None, None, None, None, None, None, None, None, None, None, None, None, None, None, None, None, None, None, None, None, None, None, None, None, None, None, None, None, None, None, None, None, None, None, None, None, None, None, None, None, None, None, None, None, None, None, None, None, None, None, None, None, None, None, None, None, None, None, None, None, None, None, None, None, None, None, None, None, None, None, None, None, None, None, None, None, None, None, None, None, None, None, None, None, None, None, None, None, None, None, None, None, None, None, None, None, None, None, None, None, None, None, None, None, None, None, None, None, None, None, None, None, None, None, None, None, None, None, None, None, None, None, None, None, None, None, None, None, None, None, None, None, None, None, None, None, None, None, None, None, None, None, None, None, None, None, None, None, None, None, None, None, None, None, None, None, None, None, None, None, None, None, None, None, None, None, None, None, None, None, None, None, None, None, None, None, None, None, None, None, None, None, None, None, None, None, None, None, None, None, None, None, None, None, None, None, None, None, None, None, None, None, None, None, None, None, None, None, None, None, None, None, None, None, None, None, None, None, None, None, None, None, None, None, None, None, None, None, None, None, None, None, None, None, None, None, None, None, None, None, None, None, None, None, None, None, None, None, None, None, None, None, None, None, None, None, None, None, None, None, None, None, None, None, None, None, None, None, None, None, None, None, None, None, None, None, None, None, None, None, None, None, None, None, None, None, None, None, None, None, None, None, None, None, None, None, None, None, None, None, None, None, None, None, None, None, None, None, None, None, None, None, None, None, None, None, None, None, None, None, None, None, None, None, None, None, None, None, None, None, None, None, None, None, None, None, None, None, None, None, None, None, None, None, None, None, None, None, None, None, None, None, None, None, None, None, None, None, None, None, None, None, None, None, None, None, None, None, None, None, None, None, None, None, None, None, None, None, None, None, None, None, None, None, None, None, None, None, None, None, None, None, None, None, None, None, None, None, None, None, None, None, None, None, None, None, None, None, None, None, None, None, None, None, None, None, None, None, None, None, None, None, None, None, None, None, None, None, None, None, None, None, None, None, None, None, None, None, None, None, None, None, None, None, None, None, None, None, None, None, None, None, None, None, None, None, None, None, None, None, None, None, None, None, None, None, None, None, None, None, None, None, None, None, None, None, None, None, None, None, None, None, None, None, None, None, None, None, None, None, None, None, None, None, None, None, None, None, None, None, None, None, None, None, None, None, None, None, None, None, None, None, None, None, None, None, None, None, None, None, None, None, None, None, None, None, None, None, None, None, None, None, None, None, None, None, None, None, None, None, None, None, None, None, None, None, None, None, None, None, None, None, None, None, None, None, None, None, None, None, None, None, None, None, None, None, None, None, None, None, None, None, None, None, None, None, None, None, None, None, None, None, None, None, None, None, None, None, None, None, None, None, None, None, None, None, None, None, None, None, None, None, None, None, None, None, None, None, None, None, None, None, None, None, None, None, None, None, None, None, None, None, None, None, None, None, None, None, None, None, None, None, None, None, None, None, None, None, None, None, None, None, None, None, None, None, None, None, None, None, None, None, None, None, None, None, None, None, None, None, None, None, None, None, None, None, None, None, None, None, None, None, None, None, None, None, None, None, None, None, None, None, None, None, None, None, None, None, None, None, None, None, None, None, None, None, None, None, None, None, None, None, None, None, None, None, None, None, None, None, None, None, None, None, None, None, None, None, None, None, None, None, None, None, None, None, None, None, None, None, None, None, None, None, None, None, None, None, None, None, None, None, None, None, None, None, None, None, None, None, None, None, None, None, None, None, None, None, None, None, None, None, None, None, None, None, None, None, None, None, None, None, None, None, None, None, None, None, None, None, None, None, None, None, None, None, None, None, None, None, None, None, None, None, None, None, None, None, None, None, None, None, None, None, None, None, None, None, None, None, None, None, None, None, None, None, None, None, None, None, None, None, None, None, None, None, None, None, None, None, None, None, None, None, None, None, None, None, None, None], \n",
            "\t[0.32189157605171204, 0.31848806142807007, 0.3087570369243622, 0.3073715269565582, 0.30726358294487, None, None, None, None, None, None, None, None, None, None, None, None, None, None, None, None, None, None, None, None, None, None, None, None, None, None, None, None, None, None, None, None, None, None, None, None, None, None, None, None, None, None, None, None, None, None, None, None, None, None, None, None, None, None, None, None, None, None, None, None, None, None, None, None, None, None, None, None, None, None, None, None, None, None, None, None, None, None, None, None, None, None, None, None, None, None, None, None, None, None, None, None, None, None, None, None, None, None, None, None, None, None, None, None, None, None, None, None, None, None, None, None, None, None, None, None, None, None, None, None, None, None, None, None, None, None, None, None, None, None, None, None, None, None, None, None, None, None, None, None, None, None, None, None, None, None, None, None, None, None, None, None, None, None, None, None, None, None, None, None, None, None, None, None, None, None, None, None, None, None, None, None, None, None, None, None, None, None, None, None, None, None, None, None, None, None, None, None, None, None, None, None, None, None, None, None, None, None, None, None, None, None, None, None, None, None, None, None, None, None, None, None, None, None, None, None, None, None, None, None, None, None, None, None, None, None, None, None, None, None, None, None, None, None, None, None, None, None, None, None, None, None, None, None, None, None, None, None, None, None, None, None, None, None, None, None, None, None, None, None, None, None, None, None, None, None, None, None, None, None, None, None, None, None, None, None, None, None, None, None, None, None, None, None, None, None, None, None, None, None, None, None, None, None, None, None, None, None, None, None, None, None, None, None, None, None, None, None, None, None, None, None, None, None, None, None, None, None, None, None, None, None, None, None, None, None, None, None, None, None, None, None, None, None, None, None, None, None, None, None, None, None, None, None, None, None, None, None, None, None, None, None, None, None, None, None, None, None, None, None, None, None, None, None, None, None, None, None, None, None, None, None, None, None, None, None, None, None, None, None, None, None, None, None, None, None, None, None, None, None, None, None, None, None, None, None, None, None, None, None, None, None, None, None, None, None, None, None, None, None, None, None, None, None, None, None, None, None, None, None, None, None, None, None, None, None, None, None, None, None, None, None, None, None, None, None, None, None, None, None, None, None, None, None, None, None, None, None, None, None, None, None, None, None, None, None, None, None, None, None, None, None, None, None, None, None, None, None, None, None, None, None, None, None, None, None, None, None, None, None, None, None, None, None, None, None, None, None, None, None, None, None, None, None, None, None, None, None, None, None, None, None, None, None, None, None, None, None, None, None, None, None, None, None, None, None, None, None, None, None, None, None, None, None, None, None, None, None, None, None, None, None, None, None, None, None, None, None, None, None, None, None, None, None, None, None, None, None, None, None, None, None, None, None, None, None, None, None, None, None, None, None, None, None, None, None, None, None, None, None, None, None, None, None, None, None, None, None, None, None, None, None, None, None, None, None, None, None, None, None, None, None, None, None, None, None, None, None, None, None, None, None, None, None, None, None, None, None, None, None, None, None, None, None, None, None, None, None, None, None, None, None, None, None, None, None, None, None, None, None, None, None, None, None, None, None, None, None, None, None, None, None, None, None, None, None, None, None, None, None, None, None, None, None, None, None, None, None, None, None, None, None, None, None, None, None, None, None, None, None, None, None, None, None, None, None, None, None, None, None, None, None, None, None, None, None, None, None, None, None, None, None, None, None, None, None, None, None, None, None, None, None, None, None, None, None, None, None, None, None, None, None, None, None, None, None, None, None, None, None, None, None, None, None, None, None, None, None, None, None, None, None, None, None, None, None, None, None, None, None, None, None, None, None, None, None, None, None, None, None, None, None, None, None, None, None, None, None, None, None, None, None, None, None, None, None, None, None, None, None, None, None, None, None, None, None, None, None, None, None, None, None, None, None, None, None, None, None, None, None, None, None, None, None, None, None, None, None, None, None, None, None, None, None, None, None, None, None, None, None, None, None, None, None, None, None, None, None, None, None, None, None, None, None, None, None, None, None, None, None, None, None, None, None, None, None, None, None, None, None, None, None, None, None, None, None, None, None, None, None, None, None, None, None, None, None, None, None, None, None, None, None, None, None, None, None, None, None, None, None, None, None, None, None, None, None, None, None, None, None, None, None, None, None, None, None, None, None, None, None, None, None, None, None, None, None, None, None, None, None, None, None, None, None, None, None, None, None, None, None, None, None, None, None, None, None, None, None, None, None, None, None, None, None, None, None, None, None, None, None, None, None, None, None, None, None, None, None, None, None, None, None, None, None, None, None, None, None, None, None, None, None, None, None, None, None, None, None, None, None, None, None, None, None, None, None, None, None, None, None, None, None, None, None, None, None, None, None, None, None, None, None, None, None, None, None, None, None, None, None, None, None, None, None, None, None, None, None, None, None, None, None, None, None, None, None, None, None, None, None, None, None, None, None, None, None, None, None, None, None, None, None, None, None, None, None, None, None, None, None, None, None, None, None, None, None, None, None, None, None, None, None, None, None, None, None, None, None, None, None, None, None, None, None, None, None, None, None, None, None, None, None, None, None, None, None, None, None, None, None, None, None, None, None, None, None, None, None, None, None, None, None, None, None, None, None, None, None, None, None, None, None, None, None, None, None, None, None, None, None, None, None, None, None, None, None, None, None, None, None, None, None, None, None, None, None, None, None, None, None, None, None, None, None, None, None, None, None, None, None, None, None, None, None, None, None, None, None, None, None, None, None, None, None, None, None, None, None, None, None, None, None, None, None, None, None, None, None, None, None, None, None, None, None, None, None, None, None, None, None, None, None, None, None, None, None, None, None, None, None, None, None, None, None, None, None, None, None, None, None, None, None, None, None, None, None, None, None, None, None, None, None, None, None, None, None, None, None, None, None, None, None, None, None, None, None, None, None, None, None, None, None, None, None, None, None, None, None, None, None, None, None, None, None, None, None, None, None, None, None, None, None, None, None, None, None, None, None, None, None, None, None, None, None, None, None, None, None, None, None, None, None, None, None, None, None, None, None, None, None, None, None, None, None, None, None, None, None, None, None, None, None, None, None, None, None, None, None, None, None, None, None, None, None, None, None, None, None, None, None, None, None, None, None, None, None, None, None, None, None, None, None, None, None, None, None, None, None, None, None, None, None, None, None, None, None, None, None, None, None, None, None, None, None, None, None, None, None, None, None, None, None, None, None, None, None, None, None, None, None, None, None, None, None, None, None, None, None, None, None, None, None, None, None, None, None, None, None, None, None, None, None, None, None, None, None, None, None, None, None, None, None, None, None, None, None, None, None, None, None, None, None, None, None, None, None, None, None, None, None, None, None, None, None, None, None, None, None, None, None, None, None, None, None, None, None, None, None, None, None, None, None, None, None, None, None, None, None, None, None, None, None, None, None, None, None, None, None, None, None, None, None, None, None, None, None, None, None, None, None, None, None, None, None, None, None, None, None, None, None, None, None, None, None, None, None, None, None, None, None, None, None, None, None, None, None, None, None, None, None, None, None, None, None, None, None, None, None, None, None, None, None, None, None, None, None, None, None, None, None, None, None, None, None, None, None, None, None, None, None, None, None, None, None, None, None, None, None, None, None, None, None, None, None, None, None, None, None, None, None, None, None, None, None, None, None, None, None, None, None, None, None, None, None, None, None, None, None, None, None, None, None, None, None, None, None, None, None, None, None, None, None, None, None, None, None, None, None, None, None, None, None, None, None, None, None, None, None, None, None, None, None, None, None, None, None, None, None, None, None, None, None, None, None, None, None, None, None, None, None, None, None, None, None, None, None, None, None, None, None, None, None, None, None, None, None, None, None, None, None, None, None, None, None, None, None, None, None, None, None, None, None, None, None, None, None, None, None, None, None, None, None, None, None, None, None, None, None, None, None, None, None, None, None, None, None, None, None, None, None, None, None, None, None, None, None, None, None, None, None, None, None, None, None, None, None, None, None, None, None, None, None, None, None, None, None, None, None, None, None, None, None, None, None, None, None, None, None, None, None, None, None, None, None, None, None, None, None, None, None, None, None, None, None, None, None, None, None, None, None, None, None, None, None, None, None, None, None, None, None, None, None, None, None, None, None, None, None, None, None, None, None, None, None, None, None, None, None, None, None, None, None, None, None, None, None, None, None, None, None, None, None, None, None, None, None, None, None, None, None, None, None, None, None, None, None, None, None, None, None, None, None, None, None, None, None, None, None, None, None, None, None, None, None, None, None, None, None, None, None, None, None, None, None, None, None, None, None, None, None, None, None, None, None, None, None, None, None, None, None, None, None, None, None, None, None, None, None, None, None, None, None, None, None, None, None, None, None, None, None, None, None, None, None, None, None, None, None, None, None, None, None, None, None, None, None, None, None, None, None, None, None, None, None, None, None, None, None, None, None, None, None, None, None, None, None, None, None, None, None, None, None, None, None, None, None, None, None, None, None, None, None, None, None, None, None, None, None, None, None, None, None, None, None, None, None, None, None, None, None, None, None, None, None, None, None, None, None, None, None, None, None, None, None, None, None, None, None, None, None, None, None, None, None, None, None, None, None, None, None, None, None, None, None, None, None, None, None, None, None, None, None, None, None, None, None, None, None, None, None, None, None, None, None, None, None, None, None, None, None, None, None, None, None, None, None, None, None, None, None, None, None, None, None, None, None, None, None, None, None, None, None, None, None, None, None, None, None, None, None, None, None, None, None, None, None, None, None, None, None, None, None, None, None, None, None, None, None, None, None, None, None, None, None, None, None, None, None, None, None, None, None, None, None, None, None, None, None, None, None, None, None, None, None, None, None, None, None, None, None, None, None, None, None, None, None, None, None, None, None, None, None, None, None, None, None, None, None, None, None, None, None, None, None, None, None, None, None, None, None, None, None, None, None, None, None, None, None, None, None, None, None, None, None, None, None, None, None, None, None, None, None, None, None, None, None, None, None, None, None, None, None, None, None, None, None, None, None, None, None, None, None, None, None, None, None, None, None, None, None, None, None, None, None, None, None, None, None, None, None, None, None, None, None, None, None, None, None, None, None, None, None, None, None, None, None, None, None, None, None, None, None, None, None, None, None, None, None, None, None, None, None, None, None, None, None, None, None, None, None, None, None, None, None, None, None, None, None, None, None, None, None, None, None, None, None, None, None, None, None, None, None, None, None, None, None, None, None, None, None, None, None, None, None, None, None, None, None, None, None, None, None, None, None, None, None, None, None, None, None, None, None, None, None, None, None, None, None, None, None, None, None, None, None, None, None, None, None, None, None, None, None, None, None, None, None, None, None, None, None, None, None, None, None, None, None, None, None, None, None, None, None, None, None, None, None, None, None, None, None, None, None, None, None, None, None, None, None, None, None, None, None, None, None, None, None, None, None, None, None, None, None, None, None, None, None, None, None, None, None, None, None, None, None, None, None, None, None, None, None, None, None, None, None, None, None, None, None, None, None, None, None, None, None, None, None, None, None, None, None, None, None, None, None, None, None, None, None, None, None, None, None, None, None, None, None, None, None, None, None, None, None, None, None, None, None, None, None, None, None, None, None, None, None, None, None, None, None, None, None, None, None, None, None, None, None, None, None, None, None, None, None, None, None, None, None, None, None, None, None, None, None, None, None, None, None, None, None, None, None, None, None, None, None, None, None, None, None, None, None, None, None, None, None, None, None, None, None, None, None, None, None, None, None, None, None, None, None, None, None, None, None, None, None, None, None, None, None, None, None, None, None, None, None, None, None, None, None, None, None, None, None, None, None, None, None, None, None, None, None, None, None, None, None, None, None, None, None, None, None, None, None, None, None, None, None, None, None, None, None, None, None, None, None, None, None, None, None, None, None, None, None, None, None, None, None, None, None, None, None, None, None, None, None, None, None, None, None, None, None, None, None, None, None, None, None, None, None, None, None, None, None, None, None, None, None, None, None, None, None, None, None, None, None, None, None, None, None, None, None, None, None, None, None, None, None, None, None, None, None, None, None, None, None, None, None, None, None, None, None, None, None, None, None, None, None, None, None, None, None, None, None, None, None, None, None, None, None, None, None, None, None, None, None, None, None, None, None, None, None, None, None, None, None, None, None, None, None, None, None, None, None, None, None, None, None, None, None, None, None, None, None, None, None, None, None, None, None, None, None, None, None, None, None, None, None, None, None, None, None, None, None, None, None, None, None, None, None, None, None, None, None, None, None, None, None, None, None, None, None, None, None, None, None, None, None, None, None, None, None, None, None, None, None, None, None, None, None, None, None, None, None, None, None, None, None, None, None, None, None, None, None, None, None, None, None, None, None, None, None, None, None, None, None, None, None, None, None, None, None, None, None, None, None, None, None, None, None, None, None, None, None, None, None, None, None, None, None, None, None, None, None, None, None, None, None, None, None, None, None, None, None, None, None, None, None, None, None, None, None, None, None, None, None, None, None, None, None, None, None, None, None, None, None, None, None, None, None, None, None, None, None, None, None, None, None, None, None, None, None, None, None, None, None, None, None, None, None, None, None, None, None, None, None, None, None, None, None, None, None, None, None, None, None, None, None, None, None, None, None, None, None, None, None, None, None, None, None, None, None, None, None, None, None, None, None, None, None, None, None, None, None, None, None, None, None, None, None, None, None, None, None, None, None, None, None, None, None, None, None, None, None, None, None, None, None, None, None, None, None, None, None, None, None, None, None, None, None, None, None, None, None, None, None, None, None, None, None, None, None, None, None, None, None, None, None, None, None, None, None, None, None, None, None, None, None, None, None, None, None, None, None, None, None, None, None, None, None, None, None, None, None, None, None, None, None, None, None, None, None, None, None, None, None, None, None, None, None, None, None, None, None, None, None, None, None, None, None, None, None, None, None, None, None, None, None, None, None, None, None, None, None, None, None, None, None, None, None, None, None, None, None, None, None, None, None, None, None, None, None, None, None, None, None, None, None, None, None, None, None, None, None, None, None, None, None, None, None, None, None, None, None, None, None, None, None, None, None, None, None, None, None, None, None, None, None, None, None, None, None, None, None, None, None, None, None, None, None, None, None, None, None, None, None, None, None, None, None, None, None, None, None, None, None, None, None, None, None, None, None, None, None, None, None, None, None, None, None, None, None, None, None, None, None, None, None, None, None, None, None, None, None, None, None, None, None, None, None, None, None, None, None, None, None, None, None, None, None, None, None, None, None, None, None, None, None, None, None, None, None, None, None, None, None, None, None, None, None, None, None, None, None, None, None, None, None, None, None, None, None, None, None, None, None, None, None, None, None, None, None, None, None, None, None, None, None, None, None, None, None, None, None, None, None, None, None, None, None, None, None, None, None, None, None, None, None, None, None, None, None, None, None, None, None, None, None, None, None, None, None, None, None, None, None, None, None, None, None, None, None, None, None, None, None, None, None, None, None, None, None, None, None, None, None, None, None, None, None, None, None, None, None, None, None, None, None, None, None, None, None, None, None, None, None, None, None, None, None, None, None, None, None, None, None, None, None, None, None, None, None, None, None, None, None, None, None, None, None, None, None, None, None, None, None, None, None, None, None, None, None, None, None, None, None, None, None, None, None, None, None, None, None, None, None, None, None, None, None, None, None, None, None, None, None, None, None, None, None, None, None, None, None, None, None, None, None, None, None, None, None, None, None, None, None, None, None, None, None, None, None, None, None, None, None, None, None, None, None, None, None, None, None, None, None, None, None, None, None, None, None, None, None, None, None, None, None, None, None, None, None, None, None, None, None, None, None, None, None, None, None, None, None, None, None, None, None, None, None, None, None, None, None, None, None, None, None, None, None, None, None, None, None, None, None, None, None, None, None, None, None, None, None, None, None, None, None, None, None, None, None, None, None, None, None, None, None, None, None, None, None, None, None, None, None, None, None, None, None, None, None, None, None, None, None, None, None, None, None, None, None, None, None, None, None, None, None, None, None, None, None, None, None, None, None, None, None, None, None, None, None, None, None, None, None, None, None, None, None, None, None, None, None, None, None, None, None, None, None, None, None, None, None, None, None, None, None, None, None, None, None, None, None, None, None, None, None, None, None, None, None, None, None, None, None, None, None, None, None, None, None, None, None, None, None, None, None, None, None, None, None, None, None, None, None, None, None, None, None, None, None, None, None, None, None, None, None, None, None, None, None, None, None, None, None, None, None, None, None, None, None, None, None, None, None, None, None, None, None, None, None, None, None, None, None, None, None, None, None, None, None, None, None, None, None, None, None, None, None, None, None, None, None, None, None, None, None, None, None, None, None, None, None, None, None, None, None, None, None, None, None, None, None, None, None, None, None, None, None, None, None, None, None, None, None, None, None, None, None, None, None, None, None, None, None, None, None, None, None, None, None, None, None, None, None, None, None, None, None, None, None, None, None, None, None, None, None, None, None, None, None, None, None, None, None, None, None, None, None, None, None, None, None, None, None, None, None, None, None, None, None, None, None, None, None, None, None, None, None, None, None, None, None, None, None, None, None, None, None, None, None, None, None, None, None, None, None, None, None, None, None, None, None, None, None, None, None, None, None, None, None, None, None, None, None, None, None, None, None, None, None, None, None, None, None, None, None, None, None, None, None, None, None, None, None, None, None, None, None, None, None, None, None, None, None, None, None, None, None, None, None, None, None, None, None, None, None, None, None, None, None, None, None, None, None, None, None, None, None, None, None, None, None, None, None, None, None, None, None, None, None, None, None, None, None, None, None, None, None, None, None, None, None, None, None, None, None, None, None, None, None, None, None, None, None, None, None, None, None, None, None, None, None, None, None, None, None, None, None, None, None, None, None, None, None, None, None, None, None, None, None, None, None, None, None, None, None, None, None, None, None, None, None, None, None, None, None, None, None, None, None, None, None, None, None, None, None, None, None, None, None, None, None, None, None, None, None, None, None, None, None, None, None, None, None, None, None, None, None, None, None, None, None, None, None, None, None, None, None, None, None, None, None, None, None, None, None, None, None, None, None, None, None, None, None, None, None, None, None, None, None, None, None, None, None, None, None, None, None, None, None, None, None, None, None, None, None, None, None, None, None, None, None, None, None, None, None, None, None, None, None, None, None, None, None, None, None, None, None, None, None, None, None, None, None, None, None, None, None, None, None, None, None, None, None, None, None, None, None, None, None, None, None, None, None, None, None, None, None, None, None, None, None, None, None, None, None, None, None, None, None, None, None, None, None, None, None, None, None, None, None, None, None, None, None, None, None, None, None, None, None, None, None, None, None, None, None, None, None, None, None, None, None, None, None, None, None, None, None, None, None, None, None, None, None, None, None, None, None, None, None, None, None, None, None, None, None, None, None, None, None, None, None, None, None, None, None, None, None, None, None, None, None, None, None, None, None, None, None, None, None, None, None, None, None, None, None, None, None, None, None, None, None, None, None, None, None, None, None, None, None, None, None, None, None, None, None, None, None, None, None, None, None, None, None, None, None, None, None, None, None, None, None, None, None, None, None, None, None, None, None, None, None, None, None, None, None, None, None, None, None, None, None, None, None, None, None, None, None, None, None, None, None, None, None, None, None, None, None, None, None, None, None, None, None, None, None, None, None, None, None, None, None, None, None, None, None, None, None, None, None, None, None, None, None, None, None, None, None, None, None, None, None, None, None, None, None, None, None, None, None, None, None, None, None, None, None, None, None, None, None, None, None, None, None, None, None, None, None, None, None, None, None, None, None, None, None, None, None, None, None, None, None, None, None, None, None, None, None, None, None, None, None, None, None, None, None, None, None, None, None, None, None, None, None, None, None, None, None, None, None, None, None, None, None, None, None, None, None, None, None, None, None, None, None, None, None, None, None, None, None, None, None, None, None, None, None, None, None, None, None, None, None, None, None, None, None, None, None, None, None, None, None, None, None, None, None, None, None, None, None, None, None, None, None, None, None, None, None, None, None, None, None, None, None, None, None, None, None, None, None, None, None, None, None, None, None, None, None, None, None, None, None, None, None, None, None, None, None, None, None, None, None, None, None, None, None, None, None, None, None, None, None, None, None, None, None, None, None, None, None, None, None, None, None, None, None, None, None, None, None, None, None, None, None, None, None, None, None, None, None, None, None, None, None, None, None, None, None, None, None, None, None, None, None, None, None, None, None, None, None, None, None, None, None, None, None, None, None, None, None, None, None, None, None, None, None, None, None, None, None, None, None, None, None, None, None, None, None, None, None, None, None, None, None, None, None, None, None, None, None, None, None, None, None, None, None, None, None, None, None, None, None, None, None, None, None, None, None, None, None, None, None, None, None, None, None, None, None, None, None, None, None, None, None, None, None, None, None, None, None, None, None, None, None, None, None, None, None, None, None, None, None, None, None, None, None, None, None, None, None, None, None, None, None, None, None, None, None, None, None, None, None, None, None, None, None, None, None, None, None, None, None, None, None, None, None, None, None, None, None, None, None, None, None, None, None, None, None, None, None, None, None, None, None, None, None, None, None, None, None, None, None, None, None, None, None, None, None, None, None, None, None, None, None, None, None, None, None, None, None, None, None, None, None, None, None, None, None, None, None, None, None, None, None, None, None, None, None, None, None, None, None, None, None, None, None, None, None, None, None, None, None, None, None, None, None, None, None, None, None, None, None, None, None, None, None, None, None, None, None, None, None, None, None, None, None, None, None, None, None, None, None, None, None, None, None, None, None, None, None, None, None, None, None, None, None, None, None, None, None, None, None, None, None, None, None, None, None, None, None, None, None, None, None, None, None, None, None, None, None, None, None, None, None, None, None, None, None, None, None, None, None, None, None, None, None, None, None, None, None, None, None, None, None, None, None, None, None, None, None, None, None, None, None, None, None, None, None, None, None, None, None, None, None, None, None, None, None, None, None, None, None, None, None, None, None, None, None, None, None, None, None, None, None, None, None, None, None, None, None, None, None, None, None, None, None, None, None, None, None, None, None, None, None, None, None, None, None, None, None, None, None, None, None, None, None, None, None, None, None, None, None, None, None, None, None, None, None, None, None, None, None, None, None, None, None, None, None, None, None, None, None, None, None, None, None, None, None, None, None, None, None, None, None, None, None, None, None, None, None, None, None, None, None, None, None, None, None, None, None, None, None, None, None, None, None, None, None, None, None, None, None, None, None, None, None, None, None, None, None, None, None, None, None, None, None, None, None, None, None, None, None, None, None, None, None, None, None, None, None, None, None, None, None, None, None, None, None, None, None, None, None, None, None, None, None, None, None, None, None, None, None, None, None, None, None, None, None, None, None, None, None, None, None, None, None, None, None, None, None, None, None, None, None, None, None, None, None, None, None, None, None, None, None, None, None, None, None, None, None, None, None, None, None, None, None, None, None, None, None, None, None, None, None, None, None, None, None, None, None, None, None, None, None, None, None, None, None, None, None, None, None, None, None, None, None, None, None, None, None, None, None, None, None, None, None, None, None, None, None, None, None, None, None, None, None, None, None, None, None, None, None, None, None, None, None, None, None, None, None, None, None, None, None, None, None, None, None, None, None, None, None, None, None, None, None, None, None, None, None, None, None, None, None, None, None, None, None, None, None, None, None, None, None, None, None, None, None, None, None, None, None, None, None, None], \n",
            "\tover the training epochs, respectively.\n"
          ],
          "name": "stdout"
        }
      ]
    },
    {
      "cell_type": "markdown",
      "metadata": {
        "id": "5i7TXjL-NhDz"
      },
      "source": [
        "#### Visualizing the plots:"
      ]
    },
    {
      "cell_type": "code",
      "metadata": {
        "id": "P7JavO5VNhDz",
        "colab": {
          "base_uri": "https://localhost:8080/",
          "height": 573
        },
        "outputId": "45a87a98-cd64-4ade-93c4-694bcb8356bd"
      },
      "source": [
        "plot_loss_graph(tr_loss_ft, val_loss_ft)\n",
        "plot_auc_graph(tr_auc_ft, val_auc_ft)\n",
        "\n"
      ],
      "execution_count": 246,
      "outputs": [
        {
          "output_type": "display_data",
          "data": {
            "image/png": "[encoded data removed]",
            "text/plain": [
              "<Figure size 432x288 with 1 Axes>"
            ]
          },
          "metadata": {
            "tags": [],
            "needs_background": "light"
          }
        },
        {
          "output_type": "display_data",
          "data": {
            "image/png": "[encoded data removed]",
            "text/plain": [
              "<Figure size 432x288 with 1 Axes>"
            ]
          },
          "metadata": {
            "tags": [],
            "needs_background": "light"
          }
        }
      ]
    },
    {
      "cell_type": "markdown",
      "metadata": {
        "id": "7wbD8d2XNhDz"
      },
      "source": [
        "2. Compare your results between the two approaches. Is there any improvement? Explain your findings...\n"
      ]
    },
    {
      "cell_type": "markdown",
      "metadata": {
        "id": "JcVO0IcKNhD0"
      },
      "source": [
        "Type your answer here:\n"
      ]
    },
    {
      "cell_type": "code",
      "metadata": {
        "id": "qlqsOoreNhD0",
        "colab": {
          "base_uri": "https://localhost:8080/",
          "height": 295
        },
        "outputId": "638139db-0e25-4d19-ddb4-c95ba9a971b8"
      },
      "source": [
        "plot_loss_graph_for2_models(tr_loss,val_loss,tr_loss_ft,val_loss_ft,\"18\",\"18 fine tune\")\r\n"
      ],
      "execution_count": 247,
      "outputs": [
        {
          "output_type": "display_data",
          "data": {
            "image/png": "[encoded data removed]",
            "text/plain": [
              "<Figure size 432x288 with 1 Axes>"
            ]
          },
          "metadata": {
            "tags": [],
            "needs_background": "light"
          }
        }
      ]
    },
    {
      "cell_type": "markdown",
      "metadata": {
        "id": "6RPm2Z35WFbO"
      },
      "source": [
        "We can see that the fine tuning process gives lower loss(~0.3) than using only feature extraction(~0.33).\r\n",
        "Fine tuning method uses the trained net of feature extraction process.\r\n",
        "In this process we train the whole net(including resnet!) and not just the classifyer. we used very small learning rate\r\n",
        "to tune resnet18 weights so that it will fit more to our mission(dogs and cats) than it's original task(ImageNet classes)\r\n",
        "Its make sense that when we take off the constraint(train only the classifyer), the results will be better."
      ]
    }
  ]
}