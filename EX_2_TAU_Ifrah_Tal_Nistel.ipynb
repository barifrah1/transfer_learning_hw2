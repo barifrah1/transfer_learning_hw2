{
  "nbformat": 4,
  "nbformat_minor": 0,
  "metadata": {
    "kernelspec": {
      "name": "python3",
      "display_name": "Python 3.7.0 64-bit",
      "metadata": {
        "interpreter": {
          "hash": "764e53dc5e3cc7b54d77b51f4fb7ab4789ad4d184d9b79883b073a8f85e8cc44"
        }
      }
    },
    "language_info": {
      "codemirror_mode": {
        "name": "ipython",
        "version": 3
      },
      "file_extension": ".py",
      "mimetype": "text/x-python",
      "name": "python",
      "nbconvert_exporter": "python",
      "pygments_lexer": "ipython3",
      "version": "3.7.0-final"
    },
    "colab": {
      "name": "EX_2_TAU_Ifrah_Tal_Nistel.ipynb",
      "provenance": [],
      "collapsed_sections": [],
      "toc_visible": true
    },
    "accelerator": "GPU",
    "widgets": {
      "application/vnd.jupyter.widget-state+json": {
        "22ae87fabc7444f9a9ad6a7a72b43dbb": {
          "model_module": "@jupyter-widgets/controls",
          "model_name": "HBoxModel",
          "state": {
            "_view_name": "HBoxView",
            "_dom_classes": [],
            "_model_name": "HBoxModel",
            "_view_module": "@jupyter-widgets/controls",
            "_model_module_version": "1.5.0",
            "_view_count": null,
            "_view_module_version": "1.5.0",
            "box_style": "",
            "layout": "IPY_MODEL_88cd57158891436a94504691f057a49d",
            "_model_module": "@jupyter-widgets/controls",
            "children": [
              "IPY_MODEL_3f3f3b53acfd46c9bdc9cdb00a1a7b5e",
              "IPY_MODEL_69707fac6e15484cba2d8f0dbdd00139"
            ]
          }
        },
        "88cd57158891436a94504691f057a49d": {
          "model_module": "@jupyter-widgets/base",
          "model_name": "LayoutModel",
          "state": {
            "_view_name": "LayoutView",
            "grid_template_rows": null,
            "right": null,
            "justify_content": null,
            "_view_module": "@jupyter-widgets/base",
            "overflow": null,
            "_model_module_version": "1.2.0",
            "_view_count": null,
            "flex_flow": null,
            "width": null,
            "min_width": null,
            "border": null,
            "align_items": null,
            "bottom": null,
            "_model_module": "@jupyter-widgets/base",
            "top": null,
            "grid_column": null,
            "overflow_y": null,
            "overflow_x": null,
            "grid_auto_flow": null,
            "grid_area": null,
            "grid_template_columns": null,
            "flex": null,
            "_model_name": "LayoutModel",
            "justify_items": null,
            "grid_row": null,
            "max_height": null,
            "align_content": null,
            "visibility": null,
            "align_self": null,
            "height": null,
            "min_height": null,
            "padding": null,
            "grid_auto_rows": null,
            "grid_gap": null,
            "max_width": null,
            "order": null,
            "_view_module_version": "1.2.0",
            "grid_template_areas": null,
            "object_position": null,
            "object_fit": null,
            "grid_auto_columns": null,
            "margin": null,
            "display": null,
            "left": null
          }
        },
        "3f3f3b53acfd46c9bdc9cdb00a1a7b5e": {
          "model_module": "@jupyter-widgets/controls",
          "model_name": "FloatProgressModel",
          "state": {
            "_view_name": "ProgressView",
            "style": "IPY_MODEL_a8c089148326430c8db2eb0df502031c",
            "_dom_classes": [],
            "description": "",
            "_model_name": "FloatProgressModel",
            "bar_style": "info",
            "max": 1,
            "_view_module": "@jupyter-widgets/controls",
            "_model_module_version": "1.5.0",
            "value": 1,
            "_view_count": null,
            "_view_module_version": "1.5.0",
            "orientation": "horizontal",
            "min": 0,
            "description_tooltip": null,
            "_model_module": "@jupyter-widgets/controls",
            "layout": "IPY_MODEL_987cb41cb6e441dcbff0ed6dad04c722"
          }
        },
        "69707fac6e15484cba2d8f0dbdd00139": {
          "model_module": "@jupyter-widgets/controls",
          "model_name": "HTMLModel",
          "state": {
            "_view_name": "HTMLView",
            "style": "IPY_MODEL_35ba1290ad4341b29d1d3d9cbc44a0a8",
            "_dom_classes": [],
            "description": "",
            "_model_name": "HTMLModel",
            "placeholder": "​",
            "_view_module": "@jupyter-widgets/controls",
            "_model_module_version": "1.5.0",
            "value": " 170500096/? [00:20&lt;00:00, 48987899.70it/s]",
            "_view_count": null,
            "_view_module_version": "1.5.0",
            "description_tooltip": null,
            "_model_module": "@jupyter-widgets/controls",
            "layout": "IPY_MODEL_3f2a23d9eb1a41bdb8f8d8faf4e46700"
          }
        },
        "a8c089148326430c8db2eb0df502031c": {
          "model_module": "@jupyter-widgets/controls",
          "model_name": "ProgressStyleModel",
          "state": {
            "_view_name": "StyleView",
            "_model_name": "ProgressStyleModel",
            "description_width": "initial",
            "_view_module": "@jupyter-widgets/base",
            "_model_module_version": "1.5.0",
            "_view_count": null,
            "_view_module_version": "1.2.0",
            "bar_color": null,
            "_model_module": "@jupyter-widgets/controls"
          }
        },
        "987cb41cb6e441dcbff0ed6dad04c722": {
          "model_module": "@jupyter-widgets/base",
          "model_name": "LayoutModel",
          "state": {
            "_view_name": "LayoutView",
            "grid_template_rows": null,
            "right": null,
            "justify_content": null,
            "_view_module": "@jupyter-widgets/base",
            "overflow": null,
            "_model_module_version": "1.2.0",
            "_view_count": null,
            "flex_flow": null,
            "width": null,
            "min_width": null,
            "border": null,
            "align_items": null,
            "bottom": null,
            "_model_module": "@jupyter-widgets/base",
            "top": null,
            "grid_column": null,
            "overflow_y": null,
            "overflow_x": null,
            "grid_auto_flow": null,
            "grid_area": null,
            "grid_template_columns": null,
            "flex": null,
            "_model_name": "LayoutModel",
            "justify_items": null,
            "grid_row": null,
            "max_height": null,
            "align_content": null,
            "visibility": null,
            "align_self": null,
            "height": null,
            "min_height": null,
            "padding": null,
            "grid_auto_rows": null,
            "grid_gap": null,
            "max_width": null,
            "order": null,
            "_view_module_version": "1.2.0",
            "grid_template_areas": null,
            "object_position": null,
            "object_fit": null,
            "grid_auto_columns": null,
            "margin": null,
            "display": null,
            "left": null
          }
        },
        "35ba1290ad4341b29d1d3d9cbc44a0a8": {
          "model_module": "@jupyter-widgets/controls",
          "model_name": "DescriptionStyleModel",
          "state": {
            "_view_name": "StyleView",
            "_model_name": "DescriptionStyleModel",
            "description_width": "",
            "_view_module": "@jupyter-widgets/base",
            "_model_module_version": "1.5.0",
            "_view_count": null,
            "_view_module_version": "1.2.0",
            "_model_module": "@jupyter-widgets/controls"
          }
        },
        "3f2a23d9eb1a41bdb8f8d8faf4e46700": {
          "model_module": "@jupyter-widgets/base",
          "model_name": "LayoutModel",
          "state": {
            "_view_name": "LayoutView",
            "grid_template_rows": null,
            "right": null,
            "justify_content": null,
            "_view_module": "@jupyter-widgets/base",
            "overflow": null,
            "_model_module_version": "1.2.0",
            "_view_count": null,
            "flex_flow": null,
            "width": null,
            "min_width": null,
            "border": null,
            "align_items": null,
            "bottom": null,
            "_model_module": "@jupyter-widgets/base",
            "top": null,
            "grid_column": null,
            "overflow_y": null,
            "overflow_x": null,
            "grid_auto_flow": null,
            "grid_area": null,
            "grid_template_columns": null,
            "flex": null,
            "_model_name": "LayoutModel",
            "justify_items": null,
            "grid_row": null,
            "max_height": null,
            "align_content": null,
            "visibility": null,
            "align_self": null,
            "height": null,
            "min_height": null,
            "padding": null,
            "grid_auto_rows": null,
            "grid_gap": null,
            "max_width": null,
            "order": null,
            "_view_module_version": "1.2.0",
            "grid_template_areas": null,
            "object_position": null,
            "object_fit": null,
            "grid_auto_columns": null,
            "margin": null,
            "display": null,
            "left": null
          }
        },
        "535643e6df7445f19bfcf4f4eda365f1": {
          "model_module": "@jupyter-widgets/controls",
          "model_name": "HBoxModel",
          "state": {
            "_view_name": "HBoxView",
            "_dom_classes": [],
            "_model_name": "HBoxModel",
            "_view_module": "@jupyter-widgets/controls",
            "_model_module_version": "1.5.0",
            "_view_count": null,
            "_view_module_version": "1.5.0",
            "box_style": "",
            "layout": "IPY_MODEL_50f0f3ccfe474c84a4d2e134810f4f3a",
            "_model_module": "@jupyter-widgets/controls",
            "children": [
              "IPY_MODEL_4285193d7dca47c2a887e793c0099214",
              "IPY_MODEL_7595f893c03e489190066706c3f2bb9b"
            ]
          }
        },
        "50f0f3ccfe474c84a4d2e134810f4f3a": {
          "model_module": "@jupyter-widgets/base",
          "model_name": "LayoutModel",
          "state": {
            "_view_name": "LayoutView",
            "grid_template_rows": null,
            "right": null,
            "justify_content": null,
            "_view_module": "@jupyter-widgets/base",
            "overflow": null,
            "_model_module_version": "1.2.0",
            "_view_count": null,
            "flex_flow": null,
            "width": null,
            "min_width": null,
            "border": null,
            "align_items": null,
            "bottom": null,
            "_model_module": "@jupyter-widgets/base",
            "top": null,
            "grid_column": null,
            "overflow_y": null,
            "overflow_x": null,
            "grid_auto_flow": null,
            "grid_area": null,
            "grid_template_columns": null,
            "flex": null,
            "_model_name": "LayoutModel",
            "justify_items": null,
            "grid_row": null,
            "max_height": null,
            "align_content": null,
            "visibility": null,
            "align_self": null,
            "height": null,
            "min_height": null,
            "padding": null,
            "grid_auto_rows": null,
            "grid_gap": null,
            "max_width": null,
            "order": null,
            "_view_module_version": "1.2.0",
            "grid_template_areas": null,
            "object_position": null,
            "object_fit": null,
            "grid_auto_columns": null,
            "margin": null,
            "display": null,
            "left": null
          }
        },
        "4285193d7dca47c2a887e793c0099214": {
          "model_module": "@jupyter-widgets/controls",
          "model_name": "FloatProgressModel",
          "state": {
            "_view_name": "ProgressView",
            "style": "IPY_MODEL_6ad1bf31354c4c7f9829a81215cb9c66",
            "_dom_classes": [],
            "description": "100%",
            "_model_name": "FloatProgressModel",
            "bar_style": "success",
            "max": 46827520,
            "_view_module": "@jupyter-widgets/controls",
            "_model_module_version": "1.5.0",
            "value": 46827520,
            "_view_count": null,
            "_view_module_version": "1.5.0",
            "orientation": "horizontal",
            "min": 0,
            "description_tooltip": null,
            "_model_module": "@jupyter-widgets/controls",
            "layout": "IPY_MODEL_b7cb64de269d4f86863e12e55b775082"
          }
        },
        "7595f893c03e489190066706c3f2bb9b": {
          "model_module": "@jupyter-widgets/controls",
          "model_name": "HTMLModel",
          "state": {
            "_view_name": "HTMLView",
            "style": "IPY_MODEL_f5d530005653449aa8a0a3a7c77fdbd8",
            "_dom_classes": [],
            "description": "",
            "_model_name": "HTMLModel",
            "placeholder": "​",
            "_view_module": "@jupyter-widgets/controls",
            "_model_module_version": "1.5.0",
            "value": " 44.7M/44.7M [03:17&lt;00:00, 238kB/s]",
            "_view_count": null,
            "_view_module_version": "1.5.0",
            "description_tooltip": null,
            "_model_module": "@jupyter-widgets/controls",
            "layout": "IPY_MODEL_7c96146d86c3489eab538d378d5cdc86"
          }
        },
        "6ad1bf31354c4c7f9829a81215cb9c66": {
          "model_module": "@jupyter-widgets/controls",
          "model_name": "ProgressStyleModel",
          "state": {
            "_view_name": "StyleView",
            "_model_name": "ProgressStyleModel",
            "description_width": "initial",
            "_view_module": "@jupyter-widgets/base",
            "_model_module_version": "1.5.0",
            "_view_count": null,
            "_view_module_version": "1.2.0",
            "bar_color": null,
            "_model_module": "@jupyter-widgets/controls"
          }
        },
        "b7cb64de269d4f86863e12e55b775082": {
          "model_module": "@jupyter-widgets/base",
          "model_name": "LayoutModel",
          "state": {
            "_view_name": "LayoutView",
            "grid_template_rows": null,
            "right": null,
            "justify_content": null,
            "_view_module": "@jupyter-widgets/base",
            "overflow": null,
            "_model_module_version": "1.2.0",
            "_view_count": null,
            "flex_flow": null,
            "width": null,
            "min_width": null,
            "border": null,
            "align_items": null,
            "bottom": null,
            "_model_module": "@jupyter-widgets/base",
            "top": null,
            "grid_column": null,
            "overflow_y": null,
            "overflow_x": null,
            "grid_auto_flow": null,
            "grid_area": null,
            "grid_template_columns": null,
            "flex": null,
            "_model_name": "LayoutModel",
            "justify_items": null,
            "grid_row": null,
            "max_height": null,
            "align_content": null,
            "visibility": null,
            "align_self": null,
            "height": null,
            "min_height": null,
            "padding": null,
            "grid_auto_rows": null,
            "grid_gap": null,
            "max_width": null,
            "order": null,
            "_view_module_version": "1.2.0",
            "grid_template_areas": null,
            "object_position": null,
            "object_fit": null,
            "grid_auto_columns": null,
            "margin": null,
            "display": null,
            "left": null
          }
        },
        "f5d530005653449aa8a0a3a7c77fdbd8": {
          "model_module": "@jupyter-widgets/controls",
          "model_name": "DescriptionStyleModel",
          "state": {
            "_view_name": "StyleView",
            "_model_name": "DescriptionStyleModel",
            "description_width": "",
            "_view_module": "@jupyter-widgets/base",
            "_model_module_version": "1.5.0",
            "_view_count": null,
            "_view_module_version": "1.2.0",
            "_model_module": "@jupyter-widgets/controls"
          }
        },
        "7c96146d86c3489eab538d378d5cdc86": {
          "model_module": "@jupyter-widgets/base",
          "model_name": "LayoutModel",
          "state": {
            "_view_name": "LayoutView",
            "grid_template_rows": null,
            "right": null,
            "justify_content": null,
            "_view_module": "@jupyter-widgets/base",
            "overflow": null,
            "_model_module_version": "1.2.0",
            "_view_count": null,
            "flex_flow": null,
            "width": null,
            "min_width": null,
            "border": null,
            "align_items": null,
            "bottom": null,
            "_model_module": "@jupyter-widgets/base",
            "top": null,
            "grid_column": null,
            "overflow_y": null,
            "overflow_x": null,
            "grid_auto_flow": null,
            "grid_area": null,
            "grid_template_columns": null,
            "flex": null,
            "_model_name": "LayoutModel",
            "justify_items": null,
            "grid_row": null,
            "max_height": null,
            "align_content": null,
            "visibility": null,
            "align_self": null,
            "height": null,
            "min_height": null,
            "padding": null,
            "grid_auto_rows": null,
            "grid_gap": null,
            "max_width": null,
            "order": null,
            "_view_module_version": "1.2.0",
            "grid_template_areas": null,
            "object_position": null,
            "object_fit": null,
            "grid_auto_columns": null,
            "margin": null,
            "display": null,
            "left": null
          }
        },
        "458e5eba22224d4291d5f50b5309457b": {
          "model_module": "@jupyter-widgets/controls",
          "model_name": "HBoxModel",
          "state": {
            "_view_name": "HBoxView",
            "_dom_classes": [],
            "_model_name": "HBoxModel",
            "_view_module": "@jupyter-widgets/controls",
            "_model_module_version": "1.5.0",
            "_view_count": null,
            "_view_module_version": "1.5.0",
            "box_style": "",
            "layout": "IPY_MODEL_f98062f926314c12920f2e797c2a4ea1",
            "_model_module": "@jupyter-widgets/controls",
            "children": [
              "IPY_MODEL_89f334c324aa4a0b81f3e06079100caf",
              "IPY_MODEL_ec82ae17b71246dfb1b1fd21db54860a"
            ]
          }
        },
        "f98062f926314c12920f2e797c2a4ea1": {
          "model_module": "@jupyter-widgets/base",
          "model_name": "LayoutModel",
          "state": {
            "_view_name": "LayoutView",
            "grid_template_rows": null,
            "right": null,
            "justify_content": null,
            "_view_module": "@jupyter-widgets/base",
            "overflow": null,
            "_model_module_version": "1.2.0",
            "_view_count": null,
            "flex_flow": null,
            "width": null,
            "min_width": null,
            "border": null,
            "align_items": null,
            "bottom": null,
            "_model_module": "@jupyter-widgets/base",
            "top": null,
            "grid_column": null,
            "overflow_y": null,
            "overflow_x": null,
            "grid_auto_flow": null,
            "grid_area": null,
            "grid_template_columns": null,
            "flex": null,
            "_model_name": "LayoutModel",
            "justify_items": null,
            "grid_row": null,
            "max_height": null,
            "align_content": null,
            "visibility": null,
            "align_self": null,
            "height": null,
            "min_height": null,
            "padding": null,
            "grid_auto_rows": null,
            "grid_gap": null,
            "max_width": null,
            "order": null,
            "_view_module_version": "1.2.0",
            "grid_template_areas": null,
            "object_position": null,
            "object_fit": null,
            "grid_auto_columns": null,
            "margin": null,
            "display": null,
            "left": null
          }
        },
        "89f334c324aa4a0b81f3e06079100caf": {
          "model_module": "@jupyter-widgets/controls",
          "model_name": "FloatProgressModel",
          "state": {
            "_view_name": "ProgressView",
            "style": "IPY_MODEL_2bd96ec295084a84a97012e2b8aecd3c",
            "_dom_classes": [],
            "description": "100%",
            "_model_name": "FloatProgressModel",
            "bar_style": "success",
            "max": 87306240,
            "_view_module": "@jupyter-widgets/controls",
            "_model_module_version": "1.5.0",
            "value": 87306240,
            "_view_count": null,
            "_view_module_version": "1.5.0",
            "orientation": "horizontal",
            "min": 0,
            "description_tooltip": null,
            "_model_module": "@jupyter-widgets/controls",
            "layout": "IPY_MODEL_b8d2761ed7e849b2a826fe8efd78ad98"
          }
        },
        "ec82ae17b71246dfb1b1fd21db54860a": {
          "model_module": "@jupyter-widgets/controls",
          "model_name": "HTMLModel",
          "state": {
            "_view_name": "HTMLView",
            "style": "IPY_MODEL_5e9989dca09247f4a458f4eb74e0d226",
            "_dom_classes": [],
            "description": "",
            "_model_name": "HTMLModel",
            "placeholder": "​",
            "_view_module": "@jupyter-widgets/controls",
            "_model_module_version": "1.5.0",
            "value": " 83.3M/83.3M [04:48&lt;00:00, 303kB/s]",
            "_view_count": null,
            "_view_module_version": "1.5.0",
            "description_tooltip": null,
            "_model_module": "@jupyter-widgets/controls",
            "layout": "IPY_MODEL_4ef8630691b64f0fae291f00c42ab3ce"
          }
        },
        "2bd96ec295084a84a97012e2b8aecd3c": {
          "model_module": "@jupyter-widgets/controls",
          "model_name": "ProgressStyleModel",
          "state": {
            "_view_name": "StyleView",
            "_model_name": "ProgressStyleModel",
            "description_width": "initial",
            "_view_module": "@jupyter-widgets/base",
            "_model_module_version": "1.5.0",
            "_view_count": null,
            "_view_module_version": "1.2.0",
            "bar_color": null,
            "_model_module": "@jupyter-widgets/controls"
          }
        },
        "b8d2761ed7e849b2a826fe8efd78ad98": {
          "model_module": "@jupyter-widgets/base",
          "model_name": "LayoutModel",
          "state": {
            "_view_name": "LayoutView",
            "grid_template_rows": null,
            "right": null,
            "justify_content": null,
            "_view_module": "@jupyter-widgets/base",
            "overflow": null,
            "_model_module_version": "1.2.0",
            "_view_count": null,
            "flex_flow": null,
            "width": null,
            "min_width": null,
            "border": null,
            "align_items": null,
            "bottom": null,
            "_model_module": "@jupyter-widgets/base",
            "top": null,
            "grid_column": null,
            "overflow_y": null,
            "overflow_x": null,
            "grid_auto_flow": null,
            "grid_area": null,
            "grid_template_columns": null,
            "flex": null,
            "_model_name": "LayoutModel",
            "justify_items": null,
            "grid_row": null,
            "max_height": null,
            "align_content": null,
            "visibility": null,
            "align_self": null,
            "height": null,
            "min_height": null,
            "padding": null,
            "grid_auto_rows": null,
            "grid_gap": null,
            "max_width": null,
            "order": null,
            "_view_module_version": "1.2.0",
            "grid_template_areas": null,
            "object_position": null,
            "object_fit": null,
            "grid_auto_columns": null,
            "margin": null,
            "display": null,
            "left": null
          }
        },
        "5e9989dca09247f4a458f4eb74e0d226": {
          "model_module": "@jupyter-widgets/controls",
          "model_name": "DescriptionStyleModel",
          "state": {
            "_view_name": "StyleView",
            "_model_name": "DescriptionStyleModel",
            "description_width": "",
            "_view_module": "@jupyter-widgets/base",
            "_model_module_version": "1.5.0",
            "_view_count": null,
            "_view_module_version": "1.2.0",
            "_model_module": "@jupyter-widgets/controls"
          }
        },
        "4ef8630691b64f0fae291f00c42ab3ce": {
          "model_module": "@jupyter-widgets/base",
          "model_name": "LayoutModel",
          "state": {
            "_view_name": "LayoutView",
            "grid_template_rows": null,
            "right": null,
            "justify_content": null,
            "_view_module": "@jupyter-widgets/base",
            "overflow": null,
            "_model_module_version": "1.2.0",
            "_view_count": null,
            "flex_flow": null,
            "width": null,
            "min_width": null,
            "border": null,
            "align_items": null,
            "bottom": null,
            "_model_module": "@jupyter-widgets/base",
            "top": null,
            "grid_column": null,
            "overflow_y": null,
            "overflow_x": null,
            "grid_auto_flow": null,
            "grid_area": null,
            "grid_template_columns": null,
            "flex": null,
            "_model_name": "LayoutModel",
            "justify_items": null,
            "grid_row": null,
            "max_height": null,
            "align_content": null,
            "visibility": null,
            "align_self": null,
            "height": null,
            "min_height": null,
            "padding": null,
            "grid_auto_rows": null,
            "grid_gap": null,
            "max_width": null,
            "order": null,
            "_view_module_version": "1.2.0",
            "grid_template_areas": null,
            "object_position": null,
            "object_fit": null,
            "grid_auto_columns": null,
            "margin": null,
            "display": null,
            "left": null
          }
        }
      }
    }
  },
  "cells": [
    {
      "cell_type": "markdown",
      "metadata": {
        "id": "ELYNCTlcNhDe"
      },
      "source": [
        "# Transfer Learning with Pytorch"
      ]
    },
    {
      "cell_type": "markdown",
      "metadata": {
        "id": "v5LqZ96tNhDm"
      },
      "source": [
        "In this excercise, you will implement a 2-class classification neural network, using transfer learning from a pre-trained resnet18 network. A pre-trained model is a model that was trained on a large benchmark dataset to solve a problem similar to the one that we want to solve (but not identical). The pre-trained network could have been trained on a different dataset and sometimes also on a different task. The important thing is that it would be a related task and a realted dataset. This way, we can leverage previous learneinng to solve the new problem (instead of training the model from scratch). The ResNet18 model was pre-trained on the [ImageNet](http://image-net.org/index) dataset (a large dataset consisting of 1.4M images and 1000 classes). \n",
        "\n",
        "Transfer learning can be used in two ways:\n",
        "1. Feature extractor: Here we remove top layers, freeze the weights of all remaining layers, add a new fully connected layers on top of the pretrained model. Then. we train only these new layers to solve the new task.\n",
        "2. Fine tuning: Here we unfreezing the entire model (or part of it), add a new fully connected layers on top of the pre-trained model (as before) and re-train the entire model on the new data with a very low learning rate. We can use either end-to-end re-training, or re-train only part of the network.\n",
        "\n",
        "### CIFAR-10 Dataset:\n",
        "\n",
        "In this assignment, you will need to perform transfer learning using the ResNet18 network in order to classify and discern between images of cats and dogs in a different dataset: [CIFAR-10](https://www.cs.toronto.edu/~kriz/cifar.html) \n",
        "\n"
      ]
    },
    {
      "cell_type": "markdown",
      "metadata": {
        "id": "_nqsh39INhDn"
      },
      "source": [
        "# Part 1- Feature Extractor"
      ]
    },
    {
      "cell_type": "markdown",
      "metadata": {
        "id": "CnvyeWmyNhDn"
      },
      "source": [
        "In this part of the exercise, you need to classify images of 'Cat' and 'Dog' by using transfer learning with the feature extractor approach and a pre-trained ResNet18 network.\n",
        "\n",
        "The pre-trained model is built out of two main parts, the features and the classifier. The features part is a stack of convolutional layers. You will need to extract the image representation that should be fed into a classifier. For the classifier, please use a single fully-connected layer. \n",
        "\n",
        "\n",
        "In order to make things efficient, start by using the ResNet18 network in order to extract image represetnations for the images in CIFAR-10 dataset. Please make sure to this only once (please do not extract the image representations each time it is needed in the training phase)! You can store the resulting image representations as feature vectors and train the classifier using these vectors. At test time, you can merge both network in order to achive a single end-to-end classifier.  \n",
        "Note: This is different from what you saw in the recitation (dl_r4_cnns).\n",
        "\n",
        "At the test time, you can merge the feature extraction netowork with the new prediction head, in order to recive a \"full solution\".\n"
      ]
    },
    {
      "cell_type": "markdown",
      "metadata": {
        "id": "bER05IpTNhDo"
      },
      "source": [
        "**Let's first import all the packages that you will need during this part of assignment:**"
      ]
    },
    {
      "cell_type": "code",
      "metadata": {
        "id": "7YpD2XWzNhDo"
      },
      "source": [
        "import torch\n",
        "from torch import nn\n",
        "import torchvision\n",
        "from torchvision import datasets, models, transforms\n",
        "from torch import optim\n",
        "\n",
        "import matplotlib.pyplot as plt\n",
        "import numpy as np\n",
        "from sklearn.linear_model import LogisticRegression, LogisticRegressionCV\n",
        "import time\n",
        "import tqdm\n",
        "from tqdm import tqdm\n",
        "import sklearn\n",
        "from sklearn.linear_model import LogisticRegression, LinearRegression\n",
        "from sklearn.metrics import roc_auc_score, roc_curve, auc\n",
        "from torch.utils.data import DataLoader, Dataset\n",
        "import os"
      ],
      "execution_count": 1,
      "outputs": []
    },
    {
      "cell_type": "markdown",
      "metadata": {
        "id": "EIZ1DudkNhDp"
      },
      "source": [
        "The ResNet18 network requires images of at least 200x200 pixels. However, the CIFAR-10 dataset consists of small images of 32x32 pixels. Hence, you will need to reshape the images before we use them into the ResNet18 network.\n",
        "Additionally, you will need to match the normalization used while training the ResNet18: each color channel should be normalized separately. The channel means are [0.485, 0.456, 0.406] and the standard deviations are [0.229, 0.224, 0.225]."
      ]
    },
    {
      "cell_type": "markdown",
      "metadata": {
        "id": "rHLdd1RcNhDp"
      },
      "source": [
        "**Use the transforms library from  torchvision and definethese transformations:**"
      ]
    },
    {
      "cell_type": "code",
      "metadata": {
        "id": "Icj127ojNhDq"
      },
      "source": [
        "# Specify transforms using torchvision.transforms as transforms library\n",
        "\n",
        "#transformation for the training data - here we will take 224 pixels every time from different part of the picture for generalization\n",
        "train_transform = transforms.Compose(\n",
        "    [\n",
        "        transforms.Resize(256),\n",
        "        transforms.RandomCrop(224),\n",
        "        transforms.ToTensor(),\n",
        "        transforms.Normalize([0.485, 0.456, 0.406], [\n",
        "            0.229, 0.224, 0.225]),\n",
        "    ]\n",
        ")\n",
        "#transformation for the validation data - here we take always the center of the image to get better results\n",
        "infer_transform = transforms.Compose(\n",
        "    [\n",
        "        transforms.Resize(256),\n",
        "        transforms.CenterCrop(224),\n",
        "        transforms.ToTensor(),\n",
        "        transforms.Normalize([0.485, 0.456, 0.406], [\n",
        "            0.229, 0.224, 0.225]),\n",
        "    ]\n",
        ")\n"
      ],
      "execution_count": 2,
      "outputs": []
    },
    {
      "cell_type": "markdown",
      "metadata": {
        "id": "t8Amslg0NPEt"
      },
      "source": [
        ""
      ]
    },
    {
      "cell_type": "markdown",
      "metadata": {
        "id": "Pu-adJyONhDq"
      },
      "source": [
        "#### Load CIFAR10 dataset and transform dataset from torchvision:"
      ]
    },
    {
      "cell_type": "code",
      "metadata": {
        "id": "7r_0V7AiNhDq"
      },
      "source": [
        "\n",
        "# a class that was made to take only the 'cat' and 'dog' labels from ciphar dataset\n",
        "\n",
        "\n",
        "class SubLoader(torchvision.datasets.CIFAR10):\n",
        "    def __init__(self, exclude_list, *args, **kwargs):\n",
        "        super(SubLoader, self).__init__(*args, **kwargs)\n",
        "\n",
        "        if exclude_list == []:\n",
        "            return\n",
        "        labels = np.array(self.targets)\n",
        "        exclude = np.array(exclude_list).reshape(1, -1)\n",
        "        mask = ~(labels.reshape(-1, 1) == exclude).any(axis=1)\n",
        "        self.data = self.data[mask]\n",
        "        self.targets = labels[mask].tolist()\n",
        "        self.targets = list(map(lambda x: 1 if x == 5 else 0, self.targets))\n",
        "\n",
        "\n",
        "# a class that inherit from Dataset and overide __len__ and __getitem__\n",
        "# overrides __len__ in order to limit the number of rows returned to a given parameter len_limit as we asked\n",
        "# overrides __getitem__ to return equal number of rows for each label as we asked(equal number of dogs and cats)\n",
        "class CIFAR10_DataLoader_Len_Limited(Dataset):\n",
        "    def __init__(self, original_datset, len_limit=None):\n",
        "        self.len_limit = len_limit\n",
        "        self.original_datset = original_datset\n",
        "        self.label_to_indices = {label: np.where(np.array(self.original_datset.targets) == label)[0].tolist()\n",
        "                                 for label in [0, 1]}\n",
        "        # random.shuffle(self.label_to_indices[0])\n",
        "        # random.shuffle(self.label_to_indices[1])\n",
        "        self.ind_0 = 0  # counter for label 0\n",
        "        self.ind_1 = 0  # couner for label 1\n",
        "\n",
        "    def __getitem__(self, ind):\n",
        "        # In case we have already return more label 1 rows than label 0 rows, so the next row will be taken\n",
        "        # from the minority class\n",
        "        if(self.ind_0 <= self.ind_1):\n",
        "            next_ind = self.label_to_indices[0][self.ind_0]\n",
        "            label = self.original_datset.targets[next_ind]\n",
        "            self.ind_0 += 1\n",
        "            if(ind == self.len_limit-1):\n",
        "                self.ind_0 = 0\n",
        "                self.ind_1 = 0\n",
        "            return self.original_datset[next_ind]\n",
        "        else:\n",
        "            next_ind = self.label_to_indices[1][self.ind_1]\n",
        "            label = self.original_datset.targets[next_ind]\n",
        "            self.ind_1 += 1\n",
        "            if(ind == self.len_limit-1):\n",
        "                self.ind_0 = 0\n",
        "                self.ind_1 = 0\n",
        "            return self.original_datset[next_ind]\n",
        "\n",
        "    def __len__(self):  # return at most len_limit rows from the dataset\n",
        "        # we were asked to limit the number of training examples to do the training process more efficient\n",
        "        if self.len_limit:\n",
        "            return min(len(self.original_datset), self.len_limit)\n",
        "        return len(self.original_datset)\n",
        "\n",
        "\n",
        "\n",
        "\n"
      ],
      "execution_count": 3,
      "outputs": []
    },
    {
      "cell_type": "code",
      "metadata": {
        "id": "A8gchqicQsy0"
      },
      "source": [
        "# arguments for Net and dataloaders\r\n",
        "class NetArgs:\r\n",
        "    lr = 1e-4\r\n",
        "    lr_finetune = 1e-5\r\n",
        "    weight_decay = 5e-6\r\n",
        "    num_epochs = 5000\r\n",
        "    early_stopping_min_improvement = 1e-7\r\n",
        "    early_stopping_num_epochs = 5\r\n",
        "    early_stopping_min_improvement_ft = 1e-2\r\n",
        "    early_stopping_num_epochs_ft = 2\r\n",
        "    batch_size = 150\r\n",
        "    train_size = 2*800\r\n",
        "    test_size = 2*250\r\n",
        "    X_train_extracted_from_resnet18_file_name = \"X_extracted_features_train18.pt\"\r\n",
        "    y_train_extracted_from_resnet18_file_name = \"y_extracted_features_train18.pt\"\r\n",
        "    X_test_extracted_from_resnet18_file_name = \"X_extracted_features_test18.pt\"\r\n",
        "    y_test_extracted_from_resnet18_file_name = \"y_extracted_features_test18.pt\"\r\n",
        "    X_train_extracted_from_resnet34_file_name = \"X_extracted_features_train34.pt\"\r\n",
        "    y_train_extracted_from_resnet34_file_name = \"y_extracted_features_train34.pt\"\r\n",
        "    X_test_extracted_from_resnet34_file_name = \"X_extracted_features_test34.pt\"\r\n",
        "    y_test_extracted_from_resnet34_file_name = \"y_extracted_features_test34.pt\"\r\n",
        "\r\n",
        "args = NetArgs()"
      ],
      "execution_count": 4,
      "outputs": []
    },
    {
      "cell_type": "code",
      "metadata": {
        "colab": {
          "base_uri": "https://localhost:8080/",
          "height": 99,
          "referenced_widgets": [
            "22ae87fabc7444f9a9ad6a7a72b43dbb",
            "88cd57158891436a94504691f057a49d",
            "3f3f3b53acfd46c9bdc9cdb00a1a7b5e",
            "69707fac6e15484cba2d8f0dbdd00139",
            "a8c089148326430c8db2eb0df502031c",
            "987cb41cb6e441dcbff0ed6dad04c722",
            "35ba1290ad4341b29d1d3d9cbc44a0a8",
            "3f2a23d9eb1a41bdb8f8d8faf4e46700"
          ]
        },
        "id": "lZa9oIVhNhDr",
        "outputId": "2e0f5bc9-a059-4d87-e9f1-81fbbd284e70"
      },
      "source": [
        "# Note: In order to separating the data/label you can apply \"classes\"/\"targets\" methods on CIFAR10 data sets\n",
        "\n",
        "#flag that checkes if loading again and extract resnet18 features is needed or we should use extracted features files(used during development)\n",
        "RESNET18_EXTRACTED_DATA_EXIST = (os.path.exists(args.X_train_extracted_from_resnet18_file_name) == True and\n",
        "                                     os.path.exists(args.y_train_extracted_from_resnet18_file_name) == True and\n",
        "                                     os.path.exists(args.X_test_extracted_from_resnet18_file_name) == True and\n",
        "                                     os.path.exists(args.y_test_extracted_from_resnet18_file_name) == True)\n",
        "#flag that checkes if loading again and extract resnet34 features is needed or we should use extracted features files\n",
        "RESNET34_EXTRACTED_DATA_EXIST = (os.path.exists(args.X_train_extracted_from_resnet34_file_name) == True and\n",
        "                                     os.path.exists(args.y_train_extracted_from_resnet34_file_name) == True and\n",
        "                                     os.path.exists(args.X_test_extracted_from_resnet34_file_name) == True and\n",
        "                                     os.path.exists(args.y_test_extracted_from_resnet34_file_name) == True)\n",
        "\n",
        "# classes of the ciphar-10\n",
        "labels = {'airplane': 0, 'automobile': 1, 'bird': 2, 'cat': 3,\n",
        "          'deer': 4, 'dog': 5, 'frog': 6, 'horse': 7, 'ship': 8, 'truck': 9}\n",
        "print(labels)\n",
        "#exclude all classes except dog and cat\n",
        "exclude_labels = labels\n",
        "del exclude_labels['dog']\n",
        "del exclude_labels['cat']\n",
        "exclude_labels = list(exclude_labels.values())\n",
        "\n",
        "# Subloader inherits from Dataloader and overrides __init__. It takes only the 'dog' and 'cat' examples from the dataset\n",
        "tr_dataset = SubLoader(exclude_labels, \"cifar\",\n",
        "                        transform=train_transform, train=True, download=True)\n",
        "# CIFAR10_DataLoader_Len_Limited is a class inherits from cifar10DataSet and limits and number of examples used from the dataset to len_limit\n",
        "tr_dataloader = DataLoader(\n",
        "    CIFAR10_DataLoader_Len_Limited(tr_dataset, int(args.train_size)), batch_size=args.batch_size\n",
        ")\n",
        "#create validation dataloader\n",
        "val_dataset = SubLoader(exclude_labels, \"cifar\",\n",
        "                        transform=infer_transform, train=False, download=False)\n",
        "val_dataloader = DataLoader(\n",
        "    CIFAR10_DataLoader_Len_Limited(val_dataset, int(args.test_size)), batch_size=int(args.test_size)\n",
        ")\n"
      ],
      "execution_count": 5,
      "outputs": [
        {
          "output_type": "stream",
          "text": [
            "{'airplane': 0, 'automobile': 1, 'bird': 2, 'cat': 3, 'deer': 4, 'dog': 5, 'frog': 6, 'horse': 7, 'ship': 8, 'truck': 9}\n",
            "Downloading https://www.cs.toronto.edu/~kriz/cifar-10-python.tar.gz to cifar/cifar-10-python.tar.gz\n"
          ],
          "name": "stdout"
        },
        {
          "output_type": "display_data",
          "data": {
            "application/vnd.jupyter.widget-view+json": {
              "model_id": "22ae87fabc7444f9a9ad6a7a72b43dbb",
              "version_minor": 0,
              "version_major": 2
            },
            "text/plain": [
              "HBox(children=(FloatProgress(value=1.0, bar_style='info', max=1.0), HTML(value='')))"
            ]
          },
          "metadata": {
            "tags": []
          }
        },
        {
          "output_type": "stream",
          "text": [
            "Extracting cifar/cifar-10-python.tar.gz to cifar\n"
          ],
          "name": "stdout"
        }
      ]
    },
    {
      "cell_type": "markdown",
      "metadata": {
        "id": "7IWhAINENhDq"
      },
      "source": [
        "**Note that the CIFAR10 data set includes 10 labels. Please extract from the entire dataset, only the images with 'Cat' or 'Dog' labels.\n",
        "In order to make the training process faster, you will need to trim the train set to 800 training images of each label (800 dogs and 800 cats). The test set should be trimmed to 250 images of cats and 250 images of dogs.**"
      ]
    },
    {
      "cell_type": "markdown",
      "metadata": {
        "id": "GfrK1EE7NhDr"
      },
      "source": [
        "**Download the ResNet18 Network from torchvision.models (as seen in the tutorial):**"
      ]
    },
    {
      "cell_type": "code",
      "metadata": {
        "id": "DN4DPC5UNhDr"
      },
      "source": [
        "import matplotlib.pyplot as plt\n",
        "\n",
        "class MyResNet(nn.Module):\n",
        "#A class inherits from nn and gets 2 parameter classifyer that replaces resnet head and which version \n",
        "#of resnet we should load resnet18 or resnet34\n",
        "    def __init__(self, classifyer, res34or18):\n",
        "        super(MyResNet, self).__init__()\n",
        "        if(res34or18 == 18):\n",
        "            resnet = models.resnet18(pretrained=True)\n",
        "        else:\n",
        "            resnet = models.resnet34(pretrained=True)\n",
        "        num_ftrs = resnet.fc.in_features\n",
        "        #cut resnet head\n",
        "        resnet.fc = nn.Identity()\n",
        "        #save features extractor as self.features\n",
        "        self.features = resnet\n",
        "        # Freezing resnet params:\n",
        "        for param in self.features.parameters():\n",
        "            param.requires_grad = False\n",
        "        # fc layer with softMax for classifying(given as parameter)\n",
        "        self.classifyer = classifyer\n",
        "    # function that feed forward images in resnet and returns tensor of extracted features\n",
        "    def extract_features_from_dataloader(self, dataloader):\n",
        "        X_extracted_features = torch.empty([0, 512])\n",
        "        y_extracted_features = torch.empty([0]).long()\n",
        "        self.features.eval()\n",
        "        with torch.no_grad():\n",
        "            for X, y in dataloader:\n",
        "                extracted_batch_features = self.features(X)\n",
        "                X_extracted_features = torch.cat(\n",
        "                    [X_extracted_features, extracted_batch_features], dim=0)\n",
        "                y_extracted_features = torch.cat(\n",
        "                    [y_extracted_features, y], dim=0)\n",
        "\n",
        "        return X_extracted_features, y_extracted_features\n",
        "\n",
        "    def forward(self, X):\n",
        "      # In case we get extracted features tensor (The length of it's shape is 2)\n",
        "        if(len(X.shape) != 4):\n",
        "            return self.classifyer(X)\n",
        "        # The (The length of image shape is 4)\n",
        "        #in case we feed forward images with shape [n,C,H,W] the len of shape is 4 so we need only to extract features\n",
        "        # using self.features and then feed it to the classifyer to get the output probabilities\n",
        "        else:\n",
        "            X = self.features(X)\n",
        "            return self.classifyer(X)\n",
        "\n",
        "\n",
        "\n"
      ],
      "execution_count": 6,
      "outputs": []
    },
    {
      "cell_type": "markdown",
      "metadata": {
        "id": "lp6gyGdKNhDr"
      },
      "source": [
        "#### Now, use the pre-trained Resnet18 to extract feautres from the CIFAR10 dataset and feed your classifier with these feature vectors. To do that, you need to cut the head of the pre-trained ResNet18 model, then feed the model with the CIFAR10 data sets (train and test).  The resulting image representations should be \"flattened\" and used as feature vectors:"
      ]
    },
    {
      "cell_type": "code",
      "metadata": {
        "id": "QrAjcVBSNhDs",
        "colab": {
          "base_uri": "https://localhost:8080/",
          "height": 116,
          "referenced_widgets": [
            "535643e6df7445f19bfcf4f4eda365f1",
            "50f0f3ccfe474c84a4d2e134810f4f3a",
            "4285193d7dca47c2a887e793c0099214",
            "7595f893c03e489190066706c3f2bb9b",
            "6ad1bf31354c4c7f9829a81215cb9c66",
            "b7cb64de269d4f86863e12e55b775082",
            "f5d530005653449aa8a0a3a7c77fdbd8",
            "7c96146d86c3489eab538d378d5cdc86"
          ]
        },
        "outputId": "111b8ab9-e9f9-4fe2-ec16-5da59e652976"
      },
      "source": [
        "classifyer = nn.Sequential(nn.Linear(512, 2)) # classifyer is one linear layer(softmax layer from CrossEntropyLoss)\n",
        "net = MyResNet(classifyer, 18) #resnet18  with classifyer instead of resnet.fc\n",
        "# in case we already extracted the features using resnet18, skip the extraction process and load it from the files(for development mode)\n",
        "if(RESNET18_EXTRACTED_DATA_EXIST == False):\n",
        "  #extract training features tensor with shape  of [800*2,512]\n",
        "    X_extracted_features_train, y_extracted_features_train = net.extract_features_from_dataloader(\n",
        "        tr_dataloader)\n",
        "  #extract validation features tensor with shape  of [250*2,512]\n",
        "    X_extracted_features_test, y_extracted_features_test = net.extract_features_from_dataloader(\n",
        "        val_dataloader)\n",
        "    print(X_extracted_features_train.shape)\n",
        "    print(X_extracted_features_test.shape)\n",
        "    # save the extracted features to files(for development mode)\n",
        "    torch.save(X_extracted_features_train,\n",
        "                args.X_train_extracted_from_resnet18_file_name)\n",
        "    torch.save(y_extracted_features_train,\n",
        "                args.y_train_extracted_from_resnet18_file_name)\n",
        "    torch.save(X_extracted_features_test,\n",
        "                args.X_test_extracted_from_resnet18_file_name)\n",
        "    torch.save(y_extracted_features_test,\n",
        "                args.y_test_extracted_from_resnet18_file_name)\n",
        "else:\n",
        "    # load the extracted features files(for development mode)\n",
        "    X_extracted_features_train = torch.load(\n",
        "        args.X_train_extracted_from_resnet18_file_name)\n",
        "    y_extracted_features_train = torch.load(\n",
        "        args.y_train_extracted_from_resnet18_file_name)\n",
        "    X_extracted_features_test = torch.load(\n",
        "        args.X_test_extracted_from_resnet18_file_name)\n",
        "    y_extracted_features_test = torch.load(\n",
        "        args.y_test_extracted_from_resnet18_file_name)\n"
      ],
      "execution_count": 7,
      "outputs": [
        {
          "output_type": "stream",
          "text": [
            "Downloading: \"https://download.pytorch.org/models/resnet18-5c106cde.pth\" to /root/.cache/torch/hub/checkpoints/resnet18-5c106cde.pth\n"
          ],
          "name": "stderr"
        },
        {
          "output_type": "display_data",
          "data": {
            "application/vnd.jupyter.widget-view+json": {
              "model_id": "535643e6df7445f19bfcf4f4eda365f1",
              "version_minor": 0,
              "version_major": 2
            },
            "text/plain": [
              "HBox(children=(FloatProgress(value=0.0, max=46827520.0), HTML(value='')))"
            ]
          },
          "metadata": {
            "tags": []
          }
        },
        {
          "output_type": "stream",
          "text": [
            "\n",
            "torch.Size([1600, 512])\n",
            "torch.Size([500, 512])\n"
          ],
          "name": "stdout"
        }
      ]
    },
    {
      "cell_type": "markdown",
      "metadata": {
        "id": "93Ve1J_4NhDs"
      },
      "source": [
        "# Logistic Regression with scikit-learn library:"
      ]
    },
    {
      "cell_type": "markdown",
      "metadata": {
        "id": "oMiW5c3FNhDs"
      },
      "source": [
        "#### Here, you need to use a logistic regession model from scikit-learn and train it with the data you prepared above. You need to calculate and report the accuracy and AUC for the train and test sets and explain your results."
      ]
    },
    {
      "cell_type": "code",
      "metadata": {
        "colab": {
          "base_uri": "https://localhost:8080/"
        },
        "id": "BvwBRemgNhDs",
        "outputId": "c4a415d1-ed4b-4119-d0f0-5f9c821585e2"
      },
      "source": [
        "\n",
        "# logistic regression with sklearn\n",
        "\n",
        "logisticRegr = LogisticRegression(penalty='l2',solver='lbfgs',tol=1e-3, max_iter=1000)\n",
        "clf = logisticRegr.fit(X_extracted_features_train.numpy(),\n",
        "                        y_extracted_features_train.numpy())\n",
        "pred_probs_train_lr = clf.predict_proba(X_extracted_features_train)[:,1] # prediction on training set\n",
        "pred_probs_test_lr = clf.predict_proba(X_extracted_features_test)[:,1]  #prediction on test set\n",
        "\n",
        "\n",
        "# train accuracy and auc\n",
        "accuracy_train_lr = clf.score(\n",
        "    X_extracted_features_train, y_extracted_features_train)\n",
        "auc_train_lr = roc_auc_score(y_extracted_features_train.numpy(),pred_probs_train_lr)\n",
        "# test accuracy and auc\n",
        "accuracy_test_lr = clf.score(\n",
        "    X_extracted_features_test, y_extracted_features_test)\n",
        "auc_test_lr = roc_auc_score(y_extracted_features_test.numpy(),pred_probs_test_lr)\n",
        "\n",
        "print(\"train results:\")\n",
        "print('accuracy:', accuracy_train_lr)\n",
        "print('auc', auc_train_lr)\n",
        "print(\"test results:\")\n",
        "print('accuracy:', accuracy_test_lr)\n",
        "print('auc', auc_test_lr)\n",
        "\n",
        "\n",
        "\n"
      ],
      "execution_count": 8,
      "outputs": [
        {
          "output_type": "stream",
          "text": [
            "train results:\n",
            "accuracy: 0.975\n",
            "auc 0.998034375\n",
            "test results:\n",
            "accuracy: 0.826\n",
            "auc 0.9179039999999999\n"
          ],
          "name": "stdout"
        }
      ]
    },
    {
      "cell_type": "markdown",
      "metadata": {
        "id": "Rei66JcAeVWT"
      },
      "source": [
        "We used Logisitic regression algorithm to classify the images. First we used Resnet to extract the features into 1 dimensional vector, then we could have use any supevised learning algorithm(SVM,Random Forest, Logistic regression,...) to make the classification on the 1 dimensional vectors.\r\n",
        "We used logistic regression to get probablistic result and as we can see the training error is very small (auc and accuracy close to 1) while the accuracy on the test set is 0.83(overfitted even we used L2 regularization)"
      ]
    },
    {
      "cell_type": "markdown",
      "metadata": {
        "id": "7wc-gEx4NhDt"
      },
      "source": [
        "# Logistic Regression with pytorch:\n",
        "\n",
        "#### Next, you need to use a logistic regession using pythourch as follows:\n",
        "\n",
        "\n",
        "1. Explain the choice of architecture in the head of the neural network.\n",
        "2. Plot training loss per epoch.\n",
        "3. Plot AUC per epoch for train and validation sets.\n",
        "4. Explain your results and findings.\n",
        "5. Does adding one or two hidden layers affect the generalization capabilities of the model?"
      ]
    },
    {
      "cell_type": "markdown",
      "metadata": {
        "id": "cB7fPgqiNhDt"
      },
      "source": [
        "#### Define the model:"
      ]
    },
    {
      "cell_type": "code",
      "metadata": {
        "id": "N-nbKl3zNhDu",
        "colab": {
          "base_uri": "https://localhost:8080/"
        },
        "outputId": "501431dd-18ce-4f16-a413-ac24b5e5738a"
      },
      "source": [
        "#Define above in MyResNet class\r\n",
        "net"
      ],
      "execution_count": 9,
      "outputs": [
        {
          "output_type": "execute_result",
          "data": {
            "text/plain": [
              "MyResNet(\n",
              "  (features): ResNet(\n",
              "    (conv1): Conv2d(3, 64, kernel_size=(7, 7), stride=(2, 2), padding=(3, 3), bias=False)\n",
              "    (bn1): BatchNorm2d(64, eps=1e-05, momentum=0.1, affine=True, track_running_stats=True)\n",
              "    (relu): ReLU(inplace=True)\n",
              "    (maxpool): MaxPool2d(kernel_size=3, stride=2, padding=1, dilation=1, ceil_mode=False)\n",
              "    (layer1): Sequential(\n",
              "      (0): BasicBlock(\n",
              "        (conv1): Conv2d(64, 64, kernel_size=(3, 3), stride=(1, 1), padding=(1, 1), bias=False)\n",
              "        (bn1): BatchNorm2d(64, eps=1e-05, momentum=0.1, affine=True, track_running_stats=True)\n",
              "        (relu): ReLU(inplace=True)\n",
              "        (conv2): Conv2d(64, 64, kernel_size=(3, 3), stride=(1, 1), padding=(1, 1), bias=False)\n",
              "        (bn2): BatchNorm2d(64, eps=1e-05, momentum=0.1, affine=True, track_running_stats=True)\n",
              "      )\n",
              "      (1): BasicBlock(\n",
              "        (conv1): Conv2d(64, 64, kernel_size=(3, 3), stride=(1, 1), padding=(1, 1), bias=False)\n",
              "        (bn1): BatchNorm2d(64, eps=1e-05, momentum=0.1, affine=True, track_running_stats=True)\n",
              "        (relu): ReLU(inplace=True)\n",
              "        (conv2): Conv2d(64, 64, kernel_size=(3, 3), stride=(1, 1), padding=(1, 1), bias=False)\n",
              "        (bn2): BatchNorm2d(64, eps=1e-05, momentum=0.1, affine=True, track_running_stats=True)\n",
              "      )\n",
              "    )\n",
              "    (layer2): Sequential(\n",
              "      (0): BasicBlock(\n",
              "        (conv1): Conv2d(64, 128, kernel_size=(3, 3), stride=(2, 2), padding=(1, 1), bias=False)\n",
              "        (bn1): BatchNorm2d(128, eps=1e-05, momentum=0.1, affine=True, track_running_stats=True)\n",
              "        (relu): ReLU(inplace=True)\n",
              "        (conv2): Conv2d(128, 128, kernel_size=(3, 3), stride=(1, 1), padding=(1, 1), bias=False)\n",
              "        (bn2): BatchNorm2d(128, eps=1e-05, momentum=0.1, affine=True, track_running_stats=True)\n",
              "        (downsample): Sequential(\n",
              "          (0): Conv2d(64, 128, kernel_size=(1, 1), stride=(2, 2), bias=False)\n",
              "          (1): BatchNorm2d(128, eps=1e-05, momentum=0.1, affine=True, track_running_stats=True)\n",
              "        )\n",
              "      )\n",
              "      (1): BasicBlock(\n",
              "        (conv1): Conv2d(128, 128, kernel_size=(3, 3), stride=(1, 1), padding=(1, 1), bias=False)\n",
              "        (bn1): BatchNorm2d(128, eps=1e-05, momentum=0.1, affine=True, track_running_stats=True)\n",
              "        (relu): ReLU(inplace=True)\n",
              "        (conv2): Conv2d(128, 128, kernel_size=(3, 3), stride=(1, 1), padding=(1, 1), bias=False)\n",
              "        (bn2): BatchNorm2d(128, eps=1e-05, momentum=0.1, affine=True, track_running_stats=True)\n",
              "      )\n",
              "    )\n",
              "    (layer3): Sequential(\n",
              "      (0): BasicBlock(\n",
              "        (conv1): Conv2d(128, 256, kernel_size=(3, 3), stride=(2, 2), padding=(1, 1), bias=False)\n",
              "        (bn1): BatchNorm2d(256, eps=1e-05, momentum=0.1, affine=True, track_running_stats=True)\n",
              "        (relu): ReLU(inplace=True)\n",
              "        (conv2): Conv2d(256, 256, kernel_size=(3, 3), stride=(1, 1), padding=(1, 1), bias=False)\n",
              "        (bn2): BatchNorm2d(256, eps=1e-05, momentum=0.1, affine=True, track_running_stats=True)\n",
              "        (downsample): Sequential(\n",
              "          (0): Conv2d(128, 256, kernel_size=(1, 1), stride=(2, 2), bias=False)\n",
              "          (1): BatchNorm2d(256, eps=1e-05, momentum=0.1, affine=True, track_running_stats=True)\n",
              "        )\n",
              "      )\n",
              "      (1): BasicBlock(\n",
              "        (conv1): Conv2d(256, 256, kernel_size=(3, 3), stride=(1, 1), padding=(1, 1), bias=False)\n",
              "        (bn1): BatchNorm2d(256, eps=1e-05, momentum=0.1, affine=True, track_running_stats=True)\n",
              "        (relu): ReLU(inplace=True)\n",
              "        (conv2): Conv2d(256, 256, kernel_size=(3, 3), stride=(1, 1), padding=(1, 1), bias=False)\n",
              "        (bn2): BatchNorm2d(256, eps=1e-05, momentum=0.1, affine=True, track_running_stats=True)\n",
              "      )\n",
              "    )\n",
              "    (layer4): Sequential(\n",
              "      (0): BasicBlock(\n",
              "        (conv1): Conv2d(256, 512, kernel_size=(3, 3), stride=(2, 2), padding=(1, 1), bias=False)\n",
              "        (bn1): BatchNorm2d(512, eps=1e-05, momentum=0.1, affine=True, track_running_stats=True)\n",
              "        (relu): ReLU(inplace=True)\n",
              "        (conv2): Conv2d(512, 512, kernel_size=(3, 3), stride=(1, 1), padding=(1, 1), bias=False)\n",
              "        (bn2): BatchNorm2d(512, eps=1e-05, momentum=0.1, affine=True, track_running_stats=True)\n",
              "        (downsample): Sequential(\n",
              "          (0): Conv2d(256, 512, kernel_size=(1, 1), stride=(2, 2), bias=False)\n",
              "          (1): BatchNorm2d(512, eps=1e-05, momentum=0.1, affine=True, track_running_stats=True)\n",
              "        )\n",
              "      )\n",
              "      (1): BasicBlock(\n",
              "        (conv1): Conv2d(512, 512, kernel_size=(3, 3), stride=(1, 1), padding=(1, 1), bias=False)\n",
              "        (bn1): BatchNorm2d(512, eps=1e-05, momentum=0.1, affine=True, track_running_stats=True)\n",
              "        (relu): ReLU(inplace=True)\n",
              "        (conv2): Conv2d(512, 512, kernel_size=(3, 3), stride=(1, 1), padding=(1, 1), bias=False)\n",
              "        (bn2): BatchNorm2d(512, eps=1e-05, momentum=0.1, affine=True, track_running_stats=True)\n",
              "      )\n",
              "    )\n",
              "    (avgpool): AdaptiveAvgPool2d(output_size=(1, 1))\n",
              "    (fc): Identity()\n",
              "  )\n",
              "  (classifyer): Sequential(\n",
              "    (0): Linear(in_features=512, out_features=2, bias=True)\n",
              "  )\n",
              ")"
            ]
          },
          "metadata": {
            "tags": []
          },
          "execution_count": 9
        }
      ]
    },
    {
      "cell_type": "markdown",
      "metadata": {
        "id": "gy7uiaf_gQ6k"
      },
      "source": [
        "We used this head: Linear(in_features=512, out_features=2, bias=True) because the last layer of resnet18 and resnet 34 returns a tensor with shape [n,512] .  out_features=2 because we classify into 2 classes dogs and cats(we could have use also out_features=1 with BCELoss but we wanted to try to use CrossEntropyLoss  (even it's the same for the binary case).CrossEntropyLoss executes Softmax on the output before calculating loss."
      ]
    },
    {
      "cell_type": "markdown",
      "metadata": {
        "id": "DhYf3bbvNhDu"
      },
      "source": [
        "#### Training and validation:"
      ]
    },
    {
      "cell_type": "markdown",
      "metadata": {
        "id": "j10IZCdPhuaO"
      },
      "source": [
        "Training Loop, Infer and graphs functions"
      ]
    },
    {
      "cell_type": "code",
      "metadata": {
        "id": "ngAH1eFQNhDu",
        "tags": []
      },
      "source": [
        "from sklearn.metrics import accuracy_score\n",
        "# can pass to function dataloader or X,y\n",
        "def infer(net, criterion, X=None, y=None, dataloader=None):\n",
        "    net.eval()\n",
        "    running_loss = 0\n",
        "    running_auc = 0\n",
        "    num_of_rows = 0\n",
        "    with torch.no_grad():\n",
        "        # case when gets X and y tensors\n",
        "        if(dataloader == None):\n",
        "            pred = net(X)\n",
        "            loss = criterion(pred, y).item()\n",
        "            output_for_auc = torch.sigmoid(pred).detach().numpy()[:, 1]\n",
        "            auc = roc_auc_score(y, output_for_auc)\n",
        "            return loss, auc\n",
        "        # case when gets dataloader\n",
        "        else:\n",
        "            for X_batch, y_batch in dataloader:\n",
        "                pred = net(X_batch)\n",
        "                loss = criterion(pred, y_batch).item()\n",
        "                output_for_auc = torch.sigmoid(pred).detach().numpy()[:, 1]\n",
        "                auc = roc_auc_score(y_batch, output_for_auc)\n",
        "                running_loss += loss*y_batch.shape[0]\n",
        "                running_auc += auc*y_batch.shape[0]\n",
        "                num_of_rows += y_batch.shape[0]\n",
        "            return running_loss / num_of_rows, running_auc / num_of_rows\n",
        "\n",
        "# training loop function\n",
        "# gets: net,arguments of the net, train and validation data, Loss function and optimizer\n",
        "def training_loop(\n",
        "    args,\n",
        "    net,\n",
        "    X_train,\n",
        "    y_train,\n",
        "    X_test,\n",
        "    y_test,\n",
        "    tr_dataloader=None,\n",
        "    val_dataloader=None,\n",
        "    criterion_func=nn.CrossEntropyLoss,\n",
        "    optimizer_func=optim.SGD,\n",
        "):\n",
        "    criterion = criterion_func()\n",
        "    optimizer = optim.Adam(net.parameters(), lr=args.lr,\n",
        "                           weight_decay=args.weight_decay)\n",
        "    tr_loss, val_loss = [None] * args.num_epochs, [None] * args.num_epochs\n",
        "    tr_auc, val_auc = [None] * args.num_epochs, [None] * args.num_epochs\n",
        "    test_loss, untrained_test_loss = None, None\n",
        "    test_auc, untrained_test_auc = None, None\n",
        "    # calculate error before training on testset\n",
        "    auc_and_loss = infer(\n",
        "        net,  criterion, X=X_test, y=y_test, dataloader=val_dataloader)\n",
        "    untrained_test_loss = auc_and_loss[0]\n",
        "    untrained_test_auc = auc_and_loss[1]\n",
        "    for epoch in range(args.num_epochs):\n",
        "        net.train()\n",
        "        running_tr_loss = 0\n",
        "        running_tr_auc = 0\n",
        "        data_size = len(X_train) # get tesnor length(how many rows)\n",
        "        if(data_size % args.batch_size == 0):\n",
        "            no_of_batches = data_size // args.batch_size #calculate numbeer of batches\n",
        "        else:\n",
        "            no_of_batches = (data_size // args.batch_size)+1\n",
        "        for i in tqdm(range(no_of_batches)):\n",
        "            #build the next batch\n",
        "            start = i*args.batch_size\n",
        "            end = i*args.batch_size + args.batch_size\n",
        "            x = X_train[start:end]\n",
        "            y = y_train[start:end]\n",
        "            optimizer.zero_grad()\n",
        "            #calculate prediction using current net\n",
        "            pred = net(x)\n",
        "            #calculate auc and then loss with crossEntropyLoss\n",
        "            output_for_auc = torch.sigmoid(pred).detach().numpy()[:, 1]\n",
        "            auc = roc_auc_score(y, output_for_auc)\n",
        "            loss = criterion(pred, y)\n",
        "            # update weights using backpropgation\n",
        "            loss.backward()\n",
        "            optimizer.step()\n",
        "            #update train_loss and auc_train for current iter\n",
        "            running_tr_loss += loss*x.shape[0]\n",
        "            running_tr_auc += auc*x.shape[0]\n",
        "        #calculate train and validation losses and auc at the end of iteration\n",
        "        tr_loss[epoch] = running_tr_loss.item() / data_size\n",
        "        tr_auc[epoch] = running_tr_auc.item() / data_size\n",
        "        auc_and_loss = infer(\n",
        "            net, criterion, X=X_test, y=y_test, dataloader=None)\n",
        "        val_loss[epoch] = auc_and_loss[0]\n",
        "        val_auc[epoch] = auc_and_loss[1]\n",
        "        print(\n",
        "            f\"Train loss: {tr_loss[epoch]:.2e}, Val loss: {val_loss[epoch]:.2e}\")\n",
        "        print(\n",
        "            f\"Best val loss is: {min(x for x in val_loss if x is not None):.2e}\")\n",
        "        #early stopping - stop if improvment in validation set is not greater than args.early_stopping_min_improvement in the last args.early_stopping_num_epochs\n",
        "        if epoch >= args.early_stopping_num_epochs:\n",
        "            improvement = (\n",
        "                val_loss[epoch - args.early_stopping_num_epochs] -\n",
        "                val_loss[epoch]\n",
        "            )\n",
        "            if improvement < args.early_stopping_min_improvement:\n",
        "                break\n",
        "    auc_and_loss = infer(net, criterion, X=X_test, y=y_test, dataloader=None)\n",
        "    test_loss = auc_and_loss[0]\n",
        "    test_auc = auc_and_loss[1]\n",
        "    print(f\"Stopped training after {epoch+1}/{args.num_epochs} epochs.\")\n",
        "    print(\n",
        "        f\"The loss is {untrained_test_loss:.2e} before training and {test_loss:.2e} after training.\"\n",
        "    )\n",
        "    print(\n",
        "        f\"The training and validation losses are \"\n",
        "        f\"\\n\\t{tr_loss}, \\n\\t{val_loss}, \\n\\tover the training epochs, respectively.\"\n",
        "    )\n",
        "    return tr_loss, val_loss, test_loss, tr_auc, val_auc, untrained_test_loss, untrained_test_auc\n",
        "\n",
        "# Almost the same as trainig loop but using dataloaders, only used for finetuning part\n",
        "def training_loop_with_dataloaders(\n",
        "    args,\n",
        "    net,\n",
        "    tr_dataloader=None,\n",
        "    val_dataloader=None,\n",
        "    criterion_func=nn.CrossEntropyLoss,\n",
        "    optimizer_func=optim.SGD,\n",
        "    fine_tune=False\n",
        "):\n",
        "    num_of_params = 0\n",
        "    for par in net.features.parameters():\n",
        "        num_of_params += 1\n",
        "    criterion = criterion_func()\n",
        "    #args.lr = args.lr * (0.01)\n",
        "    optimizer = optim.Adam(net.parameters(), lr=args.lr,\n",
        "                           weight_decay=args.weight_decay)\n",
        "    tr_loss, val_loss = [None] * args.num_epochs, [None] * args.num_epochs\n",
        "    tr_auc, val_auc = [None] * args.num_epochs, [None] * args.num_epochs\n",
        "    test_loss, untrained_test_loss = None, None\n",
        "    test_auc, untrained_test_auc = None, None\n",
        "    tr_accuracy,val_accuracy = [None] * args.num_epochs, [None] * args.num_epochs\n",
        "    # Note that I moved the inferences to a function because it was too much code duplication to read.\n",
        "    # calculate error before training\n",
        "    auc_and_loss = infer(\n",
        "        net,  criterion, X=None, y=None, dataloader=val_dataloader)\n",
        "    untrained_test_loss = auc_and_loss[0]\n",
        "    untrained_test_auc = auc_and_loss[1]\n",
        "    for epoch in range(args.num_epochs):\n",
        "        net.eval()\n",
        "        running_tr_loss = 0\n",
        "        running_tr_auc = 0\n",
        "        running_tr_accuracy = 0\n",
        "        for x, y in tr_dataloader:\n",
        "            print(1)\n",
        "            optimizer.zero_grad()\n",
        "            pred = net(x)\n",
        "            output_for_auc = torch.sigmoid(pred).detach().numpy()[:, 1]\n",
        "            auc = roc_auc_score(y, output_for_auc)\n",
        "            pred_for_acc = torch.argmax(pred,1).numpy()\n",
        "            acc = accuracy_score(y.numpy(),pred_for_acc)\n",
        "            loss = criterion(pred, y)\n",
        "            loss.backward()\n",
        "            optimizer.step()\n",
        "            running_tr_loss += loss*x.shape[0]\n",
        "            running_tr_auc += auc*x.shape[0]\n",
        "            running_tr_accuracy += acc*x.shape[0]\n",
        "\n",
        "        tr_loss[epoch] = running_tr_loss.item() / args.train_size\n",
        "        tr_auc[epoch] = running_tr_auc.item() / args.train_size\n",
        "        tr_accuracy[epoch] = running_tr_accuracy.item() / args.train_size\n",
        "        auc_and_loss = infer(\n",
        "            net, criterion, X=None, y=None, dataloader=val_dataloader)\n",
        "        val_loss[epoch] = auc_and_loss[0]\n",
        "        val_auc[epoch] = auc_and_loss[1]\n",
        "        pred = net()\n",
        "        pred_for_acc = torch.argmax(pred,1).numpy()\n",
        "        acc = accuracy_score(y.numpy(),pred_for_acc)\n",
        "        print(\n",
        "            f\"Train loss: {tr_loss[epoch]:.2e}, Val loss: {val_loss[epoch]:.2e}\")\n",
        "        print(\n",
        "            f\"Best val loss is: {min(x for x in val_loss if x is not None):.2e}\")\n",
        "        if epoch >= args.early_stopping_num_epochs:\n",
        "            improvement = (\n",
        "                val_loss[epoch - args.early_stopping_num_epochs] -\n",
        "                val_loss[epoch]\n",
        "            )\n",
        "            if improvement < args.early_stopping_min_improvement:\n",
        "                break\n",
        "        \n",
        "    auc_and_loss = infer(net, criterion, X=None, y=None,\n",
        "                         dataloader=val_dataloader)\n",
        "    test_loss = auc_and_loss[0]\n",
        "    test_auc = auc_and_loss[1]\n",
        "    print(f\"Stopped training after {epoch+1}/{args.num_epochs} epochs.\")\n",
        "    print(\n",
        "        f\"The loss is {untrained_test_loss:.2e} before training and {test_loss:.2e} after training.\"\n",
        "    )\n",
        "    print(\n",
        "        f\"The training and validation losses are \"\n",
        "        f\"\\n\\t{tr_loss}, \\n\\t{val_loss}, \\n\\tover the training epochs, respectively.\"\n",
        "    )\n",
        "    return tr_loss, val_loss, test_loss, tr_auc, val_auc, untrained_test_loss, untrained_test_auc\n",
        "\n",
        "# plot loss grpah\n",
        "def plot_loss_graph(train_loss_list, validation_loss_list):\n",
        "    plt.plot(train_loss_list, 'g', label='Training loss')\n",
        "    plt.plot(validation_loss_list, 'b', label='validation loss')\n",
        "    plt.title('Training and Validation loss')\n",
        "    plt.xlabel('Epochs')\n",
        "    plt.ylabel('Loss')\n",
        "    plt.legend()\n",
        "    plt.show()\n",
        "\n",
        "#plot auc graph\n",
        "def plot_auc_graph(auc_train_list, auc_val_list):\n",
        "    plt.plot(auc_train_list, 'g', label='Training AUC')\n",
        "    plt.plot(auc_val_list, 'b', label='validation AUC')\n",
        "    plt.title('Training and Validation AUC')\n",
        "    plt.xlabel('Epochs')\n",
        "    plt.ylabel('AUC')\n",
        "    plt.legend()\n",
        "    plt.show()\n",
        "\n",
        "#plot roc curve graph\n",
        "def plot_roc(fpr, tpr):\n",
        "    plt.figure()\n",
        "    lw = 2\n",
        "    plt.plot(fpr, tpr, color='darkorange',\n",
        "             lw=lw)\n",
        "    plt.plot([0, 1], [0, 1], color='navy', lw=lw, linestyle='--')\n",
        "    plt.xlim([0.0, 1.0])\n",
        "    plt.ylim([0.0, 1.05])\n",
        "    plt.xlabel('False Positive Rate')\n",
        "    plt.ylabel('True Positive Rate')\n",
        "    plt.title('Roc curve on test set')\n",
        "    plt.legend(loc=\"lower right\")\n",
        "    plt.show()\n",
        "\n"
      ],
      "execution_count": 10,
      "outputs": []
    },
    {
      "cell_type": "code",
      "metadata": {
        "colab": {
          "base_uri": "https://localhost:8080/"
        },
        "id": "N6sI2QpolTOg",
        "outputId": "f05e935c-e7f2-44e9-afb3-112cf724423e"
      },
      "source": [
        " # train the model using pytorch logistic regression  on resnet18 extracted features data\r\n",
        " tr_loss, val_loss, test_loss, tr_auc, val_auc, untrained_test_loss, untrained_test_auc = training_loop(\r\n",
        "      args,\r\n",
        "      net,\r\n",
        "      X_extracted_features_train,\r\n",
        "      y_extracted_features_train,\r\n",
        "      X_extracted_features_test,\r\n",
        "      y_extracted_features_test,\r\n",
        "      val_dataloader=None,\r\n",
        "      criterion_func=nn.CrossEntropyLoss\r\n",
        "  )"
      ],
      "execution_count": 11,
      "outputs": [
        {
          "output_type": "stream",
          "text": [
            "100%|██████████| 11/11 [00:00<00:00, 96.35it/s]\n",
            "100%|██████████| 11/11 [00:00<00:00, 427.49it/s]\n",
            "100%|██████████| 11/11 [00:00<00:00, 415.62it/s]\n",
            "100%|██████████| 11/11 [00:00<00:00, 420.12it/s]\n",
            "100%|██████████| 11/11 [00:00<00:00, 406.26it/s]\n",
            "100%|██████████| 11/11 [00:00<00:00, 399.90it/s]\n",
            "100%|██████████| 11/11 [00:00<00:00, 423.40it/s]\n",
            "  0%|          | 0/11 [00:00<?, ?it/s]"
          ],
          "name": "stderr"
        },
        {
          "output_type": "stream",
          "text": [
            "Train loss: 6.89e-01, Val loss: 6.86e-01\n",
            "Best val loss is: 6.86e-01\n",
            "Train loss: 6.60e-01, Val loss: 6.60e-01\n",
            "Best val loss is: 6.60e-01\n",
            "Train loss: 6.35e-01, Val loss: 6.37e-01\n",
            "Best val loss is: 6.37e-01\n",
            "Train loss: 6.13e-01, Val loss: 6.15e-01\n",
            "Best val loss is: 6.15e-01\n",
            "Train loss: 5.92e-01, Val loss: 5.96e-01\n",
            "Best val loss is: 5.96e-01\n",
            "Train loss: 5.74e-01, Val loss: 5.78e-01\n",
            "Best val loss is: 5.78e-01\n",
            "Train loss: 5.57e-01, Val loss: 5.63e-01\n",
            "Best val loss is: 5.63e-01\n"
          ],
          "name": "stdout"
        },
        {
          "output_type": "stream",
          "text": [
            "100%|██████████| 11/11 [00:00<00:00, 416.42it/s]\n",
            "100%|██████████| 11/11 [00:00<00:00, 456.22it/s]\n",
            "100%|██████████| 11/11 [00:00<00:00, 448.58it/s]\n",
            "100%|██████████| 11/11 [00:00<00:00, 411.33it/s]\n",
            "100%|██████████| 11/11 [00:00<00:00, 440.09it/s]\n",
            "100%|██████████| 11/11 [00:00<00:00, 432.91it/s]\n",
            "  0%|          | 0/11 [00:00<?, ?it/s]"
          ],
          "name": "stderr"
        },
        {
          "output_type": "stream",
          "text": [
            "Train loss: 5.42e-01, Val loss: 5.49e-01\n",
            "Best val loss is: 5.49e-01\n",
            "Train loss: 5.28e-01, Val loss: 5.36e-01\n",
            "Best val loss is: 5.36e-01\n",
            "Train loss: 5.15e-01, Val loss: 5.25e-01\n",
            "Best val loss is: 5.25e-01\n",
            "Train loss: 5.04e-01, Val loss: 5.14e-01\n",
            "Best val loss is: 5.14e-01\n",
            "Train loss: 4.94e-01, Val loss: 5.05e-01\n",
            "Best val loss is: 5.05e-01\n",
            "Train loss: 4.84e-01, Val loss: 4.97e-01\n",
            "Best val loss is: 4.97e-01\n"
          ],
          "name": "stdout"
        },
        {
          "output_type": "stream",
          "text": [
            "100%|██████████| 11/11 [00:00<00:00, 350.60it/s]\n",
            "100%|██████████| 11/11 [00:00<00:00, 406.56it/s]\n",
            "100%|██████████| 11/11 [00:00<00:00, 298.28it/s]\n",
            "100%|██████████| 11/11 [00:00<00:00, 417.83it/s]\n",
            "100%|██████████| 11/11 [00:00<00:00, 418.40it/s]\n",
            "100%|██████████| 11/11 [00:00<00:00, 399.79it/s]\n",
            "  0%|          | 0/11 [00:00<?, ?it/s]"
          ],
          "name": "stderr"
        },
        {
          "output_type": "stream",
          "text": [
            "Train loss: 4.75e-01, Val loss: 4.89e-01\n",
            "Best val loss is: 4.89e-01\n",
            "Train loss: 4.67e-01, Val loss: 4.82e-01\n",
            "Best val loss is: 4.82e-01\n",
            "Train loss: 4.59e-01, Val loss: 4.75e-01\n",
            "Best val loss is: 4.75e-01\n",
            "Train loss: 4.52e-01, Val loss: 4.69e-01\n",
            "Best val loss is: 4.69e-01\n",
            "Train loss: 4.45e-01, Val loss: 4.63e-01\n",
            "Best val loss is: 4.63e-01\n",
            "Train loss: 4.39e-01, Val loss: 4.58e-01\n",
            "Best val loss is: 4.58e-01\n"
          ],
          "name": "stdout"
        },
        {
          "output_type": "stream",
          "text": [
            "100%|██████████| 11/11 [00:00<00:00, 356.02it/s]\n",
            "100%|██████████| 11/11 [00:00<00:00, 396.52it/s]\n",
            "100%|██████████| 11/11 [00:00<00:00, 428.82it/s]\n",
            "100%|██████████| 11/11 [00:00<00:00, 444.20it/s]\n",
            "100%|██████████| 11/11 [00:00<00:00, 450.22it/s]\n",
            "100%|██████████| 11/11 [00:00<00:00, 432.37it/s]\n",
            "100%|██████████| 11/11 [00:00<00:00, 443.47it/s]\n",
            "  0%|          | 0/11 [00:00<?, ?it/s]"
          ],
          "name": "stderr"
        },
        {
          "output_type": "stream",
          "text": [
            "Train loss: 4.33e-01, Val loss: 4.53e-01\n",
            "Best val loss is: 4.53e-01\n",
            "Train loss: 4.28e-01, Val loss: 4.49e-01\n",
            "Best val loss is: 4.49e-01\n",
            "Train loss: 4.22e-01, Val loss: 4.45e-01\n",
            "Best val loss is: 4.45e-01\n",
            "Train loss: 4.17e-01, Val loss: 4.41e-01\n",
            "Best val loss is: 4.41e-01\n",
            "Train loss: 4.13e-01, Val loss: 4.37e-01\n",
            "Best val loss is: 4.37e-01\n",
            "Train loss: 4.08e-01, Val loss: 4.33e-01\n",
            "Best val loss is: 4.33e-01\n",
            "Train loss: 4.04e-01, Val loss: 4.30e-01\n",
            "Best val loss is: 4.30e-01\n"
          ],
          "name": "stdout"
        },
        {
          "output_type": "stream",
          "text": [
            "100%|██████████| 11/11 [00:00<00:00, 403.96it/s]\n",
            "100%|██████████| 11/11 [00:00<00:00, 390.04it/s]\n",
            "100%|██████████| 11/11 [00:00<00:00, 431.25it/s]\n",
            "100%|██████████| 11/11 [00:00<00:00, 406.16it/s]\n",
            "100%|██████████| 11/11 [00:00<00:00, 408.34it/s]\n",
            "100%|██████████| 11/11 [00:00<00:00, 421.41it/s]\n",
            "  0%|          | 0/11 [00:00<?, ?it/s]"
          ],
          "name": "stderr"
        },
        {
          "output_type": "stream",
          "text": [
            "Train loss: 4.00e-01, Val loss: 4.27e-01\n",
            "Best val loss is: 4.27e-01\n",
            "Train loss: 3.96e-01, Val loss: 4.24e-01\n",
            "Best val loss is: 4.24e-01\n",
            "Train loss: 3.92e-01, Val loss: 4.21e-01\n",
            "Best val loss is: 4.21e-01\n",
            "Train loss: 3.89e-01, Val loss: 4.18e-01\n",
            "Best val loss is: 4.18e-01\n",
            "Train loss: 3.86e-01, Val loss: 4.15e-01\n",
            "Best val loss is: 4.15e-01\n",
            "Train loss: 3.82e-01, Val loss: 4.13e-01\n",
            "Best val loss is: 4.13e-01\n"
          ],
          "name": "stdout"
        },
        {
          "output_type": "stream",
          "text": [
            "100%|██████████| 11/11 [00:00<00:00, 434.49it/s]\n",
            "100%|██████████| 11/11 [00:00<00:00, 408.21it/s]\n",
            "100%|██████████| 11/11 [00:00<00:00, 446.21it/s]\n",
            "100%|██████████| 11/11 [00:00<00:00, 427.30it/s]\n",
            "100%|██████████| 11/11 [00:00<00:00, 394.73it/s]\n",
            "100%|██████████| 11/11 [00:00<00:00, 409.94it/s]\n",
            "100%|██████████| 11/11 [00:00<00:00, 436.62it/s]\n"
          ],
          "name": "stderr"
        },
        {
          "output_type": "stream",
          "text": [
            "Train loss: 3.79e-01, Val loss: 4.11e-01\n",
            "Best val loss is: 4.11e-01\n",
            "Train loss: 3.76e-01, Val loss: 4.08e-01\n",
            "Best val loss is: 4.08e-01\n",
            "Train loss: 3.73e-01, Val loss: 4.06e-01\n",
            "Best val loss is: 4.06e-01\n",
            "Train loss: 3.71e-01, Val loss: 4.04e-01\n",
            "Best val loss is: 4.04e-01\n",
            "Train loss: 3.68e-01, Val loss: 4.02e-01\n",
            "Best val loss is: 4.02e-01\n",
            "Train loss: 3.65e-01, Val loss: 4.00e-01\n",
            "Best val loss is: 4.00e-01\n",
            "Train loss: 3.63e-01, Val loss: 3.98e-01\n",
            "Best val loss is: 3.98e-01\n"
          ],
          "name": "stdout"
        },
        {
          "output_type": "stream",
          "text": [
            "100%|██████████| 11/11 [00:00<00:00, 414.65it/s]\n",
            "100%|██████████| 11/11 [00:00<00:00, 449.64it/s]\n",
            "100%|██████████| 11/11 [00:00<00:00, 428.45it/s]\n",
            "100%|██████████| 11/11 [00:00<00:00, 425.01it/s]\n",
            "100%|██████████| 11/11 [00:00<00:00, 470.17it/s]\n",
            "100%|██████████| 11/11 [00:00<00:00, 436.49it/s]\n",
            "100%|██████████| 11/11 [00:00<00:00, 336.51it/s]"
          ],
          "name": "stderr"
        },
        {
          "output_type": "stream",
          "text": [
            "Train loss: 3.60e-01, Val loss: 3.97e-01\n",
            "Best val loss is: 3.97e-01\n",
            "Train loss: 3.58e-01, Val loss: 3.95e-01\n",
            "Best val loss is: 3.95e-01\n",
            "Train loss: 3.56e-01, Val loss: 3.93e-01\n",
            "Best val loss is: 3.93e-01\n",
            "Train loss: 3.54e-01, Val loss: 3.92e-01\n",
            "Best val loss is: 3.92e-01\n",
            "Train loss: 3.51e-01, Val loss: 3.90e-01\n",
            "Best val loss is: 3.90e-01\n",
            "Train loss: 3.49e-01, Val loss: 3.89e-01\n",
            "Best val loss is: 3.89e-01\n",
            "Train loss: 3.47e-01, Val loss: 3.87e-01\n",
            "Best val loss is: 3.87e-01\n"
          ],
          "name": "stdout"
        },
        {
          "output_type": "stream",
          "text": [
            "\n",
            "100%|██████████| 11/11 [00:00<00:00, 444.66it/s]\n",
            "100%|██████████| 11/11 [00:00<00:00, 443.19it/s]\n",
            "100%|██████████| 11/11 [00:00<00:00, 418.88it/s]\n",
            "100%|██████████| 11/11 [00:00<00:00, 436.77it/s]\n",
            "100%|██████████| 11/11 [00:00<00:00, 440.71it/s]\n",
            "100%|██████████| 11/11 [00:00<00:00, 448.03it/s]\n",
            "100%|██████████| 11/11 [00:00<00:00, 447.44it/s]\n",
            "  0%|          | 0/11 [00:00<?, ?it/s]"
          ],
          "name": "stderr"
        },
        {
          "output_type": "stream",
          "text": [
            "Train loss: 3.45e-01, Val loss: 3.86e-01\n",
            "Best val loss is: 3.86e-01\n",
            "Train loss: 3.44e-01, Val loss: 3.85e-01\n",
            "Best val loss is: 3.85e-01\n",
            "Train loss: 3.42e-01, Val loss: 3.83e-01\n",
            "Best val loss is: 3.83e-01\n",
            "Train loss: 3.40e-01, Val loss: 3.82e-01\n",
            "Best val loss is: 3.82e-01\n",
            "Train loss: 3.38e-01, Val loss: 3.81e-01\n",
            "Best val loss is: 3.81e-01\n",
            "Train loss: 3.36e-01, Val loss: 3.80e-01\n",
            "Best val loss is: 3.80e-01\n",
            "Train loss: 3.35e-01, Val loss: 3.79e-01\n",
            "Best val loss is: 3.79e-01\n"
          ],
          "name": "stdout"
        },
        {
          "output_type": "stream",
          "text": [
            "100%|██████████| 11/11 [00:00<00:00, 405.80it/s]\n",
            "100%|██████████| 11/11 [00:00<00:00, 397.30it/s]\n",
            "100%|██████████| 11/11 [00:00<00:00, 426.48it/s]\n",
            "100%|██████████| 11/11 [00:00<00:00, 441.61it/s]\n",
            "100%|██████████| 11/11 [00:00<00:00, 448.30it/s]\n",
            "100%|██████████| 11/11 [00:00<00:00, 452.76it/s]\n",
            "100%|██████████| 11/11 [00:00<00:00, 462.45it/s]\n"
          ],
          "name": "stderr"
        },
        {
          "output_type": "stream",
          "text": [
            "Train loss: 3.33e-01, Val loss: 3.78e-01\n",
            "Best val loss is: 3.78e-01\n",
            "Train loss: 3.32e-01, Val loss: 3.77e-01\n",
            "Best val loss is: 3.77e-01\n",
            "Train loss: 3.30e-01, Val loss: 3.75e-01\n",
            "Best val loss is: 3.75e-01\n",
            "Train loss: 3.29e-01, Val loss: 3.75e-01\n",
            "Best val loss is: 3.75e-01\n",
            "Train loss: 3.27e-01, Val loss: 3.74e-01\n",
            "Best val loss is: 3.74e-01\n",
            "Train loss: 3.26e-01, Val loss: 3.73e-01\n",
            "Best val loss is: 3.73e-01\n",
            "Train loss: 3.24e-01, Val loss: 3.72e-01\n",
            "Best val loss is: 3.72e-01\n"
          ],
          "name": "stdout"
        },
        {
          "output_type": "stream",
          "text": [
            "100%|██████████| 11/11 [00:00<00:00, 447.52it/s]\n",
            "100%|██████████| 11/11 [00:00<00:00, 455.58it/s]\n",
            "100%|██████████| 11/11 [00:00<00:00, 453.71it/s]\n",
            "100%|██████████| 11/11 [00:00<00:00, 403.82it/s]\n",
            "100%|██████████| 11/11 [00:00<00:00, 407.57it/s]\n",
            "100%|██████████| 11/11 [00:00<00:00, 458.43it/s]\n",
            "100%|██████████| 11/11 [00:00<00:00, 452.45it/s]\n",
            "  0%|          | 0/11 [00:00<?, ?it/s]"
          ],
          "name": "stderr"
        },
        {
          "output_type": "stream",
          "text": [
            "Train loss: 3.23e-01, Val loss: 3.71e-01\n",
            "Best val loss is: 3.71e-01\n",
            "Train loss: 3.22e-01, Val loss: 3.70e-01\n",
            "Best val loss is: 3.70e-01\n",
            "Train loss: 3.20e-01, Val loss: 3.69e-01\n",
            "Best val loss is: 3.69e-01\n",
            "Train loss: 3.19e-01, Val loss: 3.68e-01\n",
            "Best val loss is: 3.68e-01\n",
            "Train loss: 3.18e-01, Val loss: 3.68e-01\n",
            "Best val loss is: 3.68e-01\n",
            "Train loss: 3.17e-01, Val loss: 3.67e-01\n",
            "Best val loss is: 3.67e-01\n",
            "Train loss: 3.15e-01, Val loss: 3.66e-01\n",
            "Best val loss is: 3.66e-01\n"
          ],
          "name": "stdout"
        },
        {
          "output_type": "stream",
          "text": [
            "100%|██████████| 11/11 [00:00<00:00, 408.30it/s]\n",
            "100%|██████████| 11/11 [00:00<00:00, 447.33it/s]\n",
            "100%|██████████| 11/11 [00:00<00:00, 445.41it/s]\n",
            "100%|██████████| 11/11 [00:00<00:00, 424.01it/s]\n",
            "100%|██████████| 11/11 [00:00<00:00, 430.21it/s]\n",
            "100%|██████████| 11/11 [00:00<00:00, 408.18it/s]\n",
            "100%|██████████| 11/11 [00:00<00:00, 390.31it/s]\n",
            "  0%|          | 0/11 [00:00<?, ?it/s]"
          ],
          "name": "stderr"
        },
        {
          "output_type": "stream",
          "text": [
            "Train loss: 3.14e-01, Val loss: 3.65e-01\n",
            "Best val loss is: 3.65e-01\n",
            "Train loss: 3.13e-01, Val loss: 3.65e-01\n",
            "Best val loss is: 3.65e-01\n",
            "Train loss: 3.12e-01, Val loss: 3.64e-01\n",
            "Best val loss is: 3.64e-01\n",
            "Train loss: 3.11e-01, Val loss: 3.63e-01\n",
            "Best val loss is: 3.63e-01\n",
            "Train loss: 3.10e-01, Val loss: 3.63e-01\n",
            "Best val loss is: 3.63e-01\n",
            "Train loss: 3.09e-01, Val loss: 3.62e-01\n",
            "Best val loss is: 3.62e-01\n",
            "Train loss: 3.08e-01, Val loss: 3.61e-01\n",
            "Best val loss is: 3.61e-01\n"
          ],
          "name": "stdout"
        },
        {
          "output_type": "stream",
          "text": [
            "100%|██████████| 11/11 [00:00<00:00, 358.05it/s]\n",
            "100%|██████████| 11/11 [00:00<00:00, 416.71it/s]\n",
            "100%|██████████| 11/11 [00:00<00:00, 379.83it/s]\n",
            "100%|██████████| 11/11 [00:00<00:00, 427.04it/s]\n",
            "100%|██████████| 11/11 [00:00<00:00, 427.98it/s]\n",
            "100%|██████████| 11/11 [00:00<00:00, 427.00it/s]\n",
            "100%|██████████| 11/11 [00:00<00:00, 438.14it/s]\n",
            "  0%|          | 0/11 [00:00<?, ?it/s]"
          ],
          "name": "stderr"
        },
        {
          "output_type": "stream",
          "text": [
            "Train loss: 3.07e-01, Val loss: 3.61e-01\n",
            "Best val loss is: 3.61e-01\n",
            "Train loss: 3.06e-01, Val loss: 3.60e-01\n",
            "Best val loss is: 3.60e-01\n",
            "Train loss: 3.05e-01, Val loss: 3.60e-01\n",
            "Best val loss is: 3.60e-01\n",
            "Train loss: 3.04e-01, Val loss: 3.59e-01\n",
            "Best val loss is: 3.59e-01\n",
            "Train loss: 3.03e-01, Val loss: 3.59e-01\n",
            "Best val loss is: 3.59e-01\n",
            "Train loss: 3.02e-01, Val loss: 3.58e-01\n",
            "Best val loss is: 3.58e-01\n",
            "Train loss: 3.01e-01, Val loss: 3.58e-01\n",
            "Best val loss is: 3.58e-01\n"
          ],
          "name": "stdout"
        },
        {
          "output_type": "stream",
          "text": [
            "100%|██████████| 11/11 [00:00<00:00, 382.14it/s]\n",
            "100%|██████████| 11/11 [00:00<00:00, 382.80it/s]\n",
            "100%|██████████| 11/11 [00:00<00:00, 443.41it/s]\n",
            "100%|██████████| 11/11 [00:00<00:00, 413.21it/s]\n",
            "100%|██████████| 11/11 [00:00<00:00, 448.68it/s]\n",
            "100%|██████████| 11/11 [00:00<00:00, 430.05it/s]\n",
            "100%|██████████| 11/11 [00:00<00:00, 441.40it/s]\n"
          ],
          "name": "stderr"
        },
        {
          "output_type": "stream",
          "text": [
            "Train loss: 3.00e-01, Val loss: 3.57e-01\n",
            "Best val loss is: 3.57e-01\n",
            "Train loss: 2.99e-01, Val loss: 3.57e-01\n",
            "Best val loss is: 3.57e-01\n",
            "Train loss: 2.98e-01, Val loss: 3.56e-01\n",
            "Best val loss is: 3.56e-01\n",
            "Train loss: 2.97e-01, Val loss: 3.56e-01\n",
            "Best val loss is: 3.56e-01\n",
            "Train loss: 2.96e-01, Val loss: 3.55e-01\n",
            "Best val loss is: 3.55e-01\n",
            "Train loss: 2.95e-01, Val loss: 3.55e-01\n",
            "Best val loss is: 3.55e-01\n",
            "Train loss: 2.95e-01, Val loss: 3.54e-01\n",
            "Best val loss is: 3.54e-01\n"
          ],
          "name": "stdout"
        },
        {
          "output_type": "stream",
          "text": [
            "100%|██████████| 11/11 [00:00<00:00, 408.83it/s]\n",
            "100%|██████████| 11/11 [00:00<00:00, 448.59it/s]\n",
            "100%|██████████| 11/11 [00:00<00:00, 450.67it/s]\n",
            "100%|██████████| 11/11 [00:00<00:00, 380.36it/s]\n",
            "100%|██████████| 11/11 [00:00<00:00, 412.36it/s]\n",
            "100%|██████████| 11/11 [00:00<00:00, 441.98it/s]\n",
            "100%|██████████| 11/11 [00:00<00:00, 416.00it/s]"
          ],
          "name": "stderr"
        },
        {
          "output_type": "stream",
          "text": [
            "Train loss: 2.94e-01, Val loss: 3.54e-01\n",
            "Best val loss is: 3.54e-01\n",
            "Train loss: 2.93e-01, Val loss: 3.54e-01\n",
            "Best val loss is: 3.54e-01\n",
            "Train loss: 2.92e-01, Val loss: 3.53e-01\n",
            "Best val loss is: 3.53e-01\n",
            "Train loss: 2.91e-01, Val loss: 3.53e-01\n",
            "Best val loss is: 3.53e-01\n",
            "Train loss: 2.91e-01, Val loss: 3.52e-01\n",
            "Best val loss is: 3.52e-01\n",
            "Train loss: 2.90e-01, Val loss: 3.52e-01\n",
            "Best val loss is: 3.52e-01\n"
          ],
          "name": "stdout"
        },
        {
          "output_type": "stream",
          "text": [
            "\n",
            "100%|██████████| 11/11 [00:00<00:00, 402.96it/s]\n",
            "100%|██████████| 11/11 [00:00<00:00, 437.89it/s]\n",
            "100%|██████████| 11/11 [00:00<00:00, 435.67it/s]\n",
            "100%|██████████| 11/11 [00:00<00:00, 402.02it/s]\n",
            "100%|██████████| 11/11 [00:00<00:00, 433.45it/s]\n",
            "100%|██████████| 11/11 [00:00<00:00, 420.79it/s]\n"
          ],
          "name": "stderr"
        },
        {
          "output_type": "stream",
          "text": [
            "Train loss: 2.89e-01, Val loss: 3.52e-01\n",
            "Best val loss is: 3.52e-01\n",
            "Train loss: 2.88e-01, Val loss: 3.51e-01\n",
            "Best val loss is: 3.51e-01\n",
            "Train loss: 2.88e-01, Val loss: 3.51e-01\n",
            "Best val loss is: 3.51e-01\n",
            "Train loss: 2.87e-01, Val loss: 3.50e-01\n",
            "Best val loss is: 3.50e-01\n",
            "Train loss: 2.86e-01, Val loss: 3.50e-01\n",
            "Best val loss is: 3.50e-01\n",
            "Train loss: 2.86e-01, Val loss: 3.50e-01\n",
            "Best val loss is: 3.50e-01\n"
          ],
          "name": "stdout"
        },
        {
          "output_type": "stream",
          "text": [
            "100%|██████████| 11/11 [00:00<00:00, 406.38it/s]\n",
            "100%|██████████| 11/11 [00:00<00:00, 419.20it/s]\n",
            "100%|██████████| 11/11 [00:00<00:00, 453.75it/s]\n",
            "100%|██████████| 11/11 [00:00<00:00, 419.94it/s]\n",
            "100%|██████████| 11/11 [00:00<00:00, 408.52it/s]\n",
            "100%|██████████| 11/11 [00:00<00:00, 364.06it/s]"
          ],
          "name": "stderr"
        },
        {
          "output_type": "stream",
          "text": [
            "Train loss: 2.85e-01, Val loss: 3.49e-01\n",
            "Best val loss is: 3.49e-01\n",
            "Train loss: 2.84e-01, Val loss: 3.49e-01\n",
            "Best val loss is: 3.49e-01\n",
            "Train loss: 2.84e-01, Val loss: 3.49e-01\n",
            "Best val loss is: 3.49e-01\n",
            "Train loss: 2.83e-01, Val loss: 3.49e-01\n",
            "Best val loss is: 3.49e-01\n",
            "Train loss: 2.82e-01, Val loss: 3.48e-01\n",
            "Best val loss is: 3.48e-01\n",
            "Train loss: 2.82e-01, Val loss: 3.48e-01\n",
            "Best val loss is: 3.48e-01\n"
          ],
          "name": "stdout"
        },
        {
          "output_type": "stream",
          "text": [
            "\n",
            "100%|██████████| 11/11 [00:00<00:00, 431.22it/s]\n",
            "100%|██████████| 11/11 [00:00<00:00, 394.27it/s]\n",
            "100%|██████████| 11/11 [00:00<00:00, 366.70it/s]\n",
            "100%|██████████| 11/11 [00:00<00:00, 431.61it/s]\n",
            "100%|██████████| 11/11 [00:00<00:00, 436.20it/s]\n",
            "100%|██████████| 11/11 [00:00<00:00, 456.41it/s]\n",
            "  0%|          | 0/11 [00:00<?, ?it/s]"
          ],
          "name": "stderr"
        },
        {
          "output_type": "stream",
          "text": [
            "Train loss: 2.81e-01, Val loss: 3.48e-01\n",
            "Best val loss is: 3.48e-01\n",
            "Train loss: 2.80e-01, Val loss: 3.47e-01\n",
            "Best val loss is: 3.47e-01\n",
            "Train loss: 2.80e-01, Val loss: 3.47e-01\n",
            "Best val loss is: 3.47e-01\n",
            "Train loss: 2.79e-01, Val loss: 3.47e-01\n",
            "Best val loss is: 3.47e-01\n",
            "Train loss: 2.79e-01, Val loss: 3.47e-01\n",
            "Best val loss is: 3.47e-01\n",
            "Train loss: 2.78e-01, Val loss: 3.46e-01\n",
            "Best val loss is: 3.46e-01\n",
            "Train loss: 2.77e-01, Val loss: 3.46e-01\n",
            "Best val loss is: 3.46e-01\n"
          ],
          "name": "stdout"
        },
        {
          "output_type": "stream",
          "text": [
            "100%|██████████| 11/11 [00:00<00:00, 400.11it/s]\n",
            "100%|██████████| 11/11 [00:00<00:00, 455.35it/s]\n",
            "100%|██████████| 11/11 [00:00<00:00, 445.74it/s]\n",
            "100%|██████████| 11/11 [00:00<00:00, 433.73it/s]\n",
            "100%|██████████| 11/11 [00:00<00:00, 443.71it/s]\n",
            "100%|██████████| 11/11 [00:00<00:00, 459.92it/s]\n",
            "100%|██████████| 11/11 [00:00<00:00, 448.67it/s]\n",
            "  0%|          | 0/11 [00:00<?, ?it/s]"
          ],
          "name": "stderr"
        },
        {
          "output_type": "stream",
          "text": [
            "Train loss: 2.77e-01, Val loss: 3.46e-01\n",
            "Best val loss is: 3.46e-01\n",
            "Train loss: 2.76e-01, Val loss: 3.46e-01\n",
            "Best val loss is: 3.46e-01\n",
            "Train loss: 2.76e-01, Val loss: 3.45e-01\n",
            "Best val loss is: 3.45e-01\n",
            "Train loss: 2.75e-01, Val loss: 3.45e-01\n",
            "Best val loss is: 3.45e-01\n",
            "Train loss: 2.75e-01, Val loss: 3.45e-01\n",
            "Best val loss is: 3.45e-01\n",
            "Train loss: 2.74e-01, Val loss: 3.45e-01\n",
            "Best val loss is: 3.45e-01\n",
            "Train loss: 2.73e-01, Val loss: 3.44e-01\n",
            "Best val loss is: 3.44e-01\n"
          ],
          "name": "stdout"
        },
        {
          "output_type": "stream",
          "text": [
            "100%|██████████| 11/11 [00:00<00:00, 360.59it/s]\n",
            "100%|██████████| 11/11 [00:00<00:00, 429.86it/s]\n",
            "100%|██████████| 11/11 [00:00<00:00, 438.60it/s]\n",
            "100%|██████████| 11/11 [00:00<00:00, 433.06it/s]\n",
            "100%|██████████| 11/11 [00:00<00:00, 428.20it/s]\n",
            "100%|██████████| 11/11 [00:00<00:00, 451.77it/s]\n",
            "100%|██████████| 11/11 [00:00<00:00, 435.70it/s]\n",
            "  0%|          | 0/11 [00:00<?, ?it/s]"
          ],
          "name": "stderr"
        },
        {
          "output_type": "stream",
          "text": [
            "Train loss: 2.73e-01, Val loss: 3.44e-01\n",
            "Best val loss is: 3.44e-01\n",
            "Train loss: 2.72e-01, Val loss: 3.44e-01\n",
            "Best val loss is: 3.44e-01\n",
            "Train loss: 2.72e-01, Val loss: 3.44e-01\n",
            "Best val loss is: 3.44e-01\n",
            "Train loss: 2.71e-01, Val loss: 3.44e-01\n",
            "Best val loss is: 3.44e-01\n",
            "Train loss: 2.71e-01, Val loss: 3.43e-01\n",
            "Best val loss is: 3.43e-01\n",
            "Train loss: 2.70e-01, Val loss: 3.43e-01\n",
            "Best val loss is: 3.43e-01\n",
            "Train loss: 2.70e-01, Val loss: 3.43e-01\n",
            "Best val loss is: 3.43e-01\n"
          ],
          "name": "stdout"
        },
        {
          "output_type": "stream",
          "text": [
            "100%|██████████| 11/11 [00:00<00:00, 402.40it/s]\n",
            "100%|██████████| 11/11 [00:00<00:00, 457.63it/s]\n",
            "100%|██████████| 11/11 [00:00<00:00, 432.74it/s]\n",
            "100%|██████████| 11/11 [00:00<00:00, 345.43it/s]\n",
            "100%|██████████| 11/11 [00:00<00:00, 396.68it/s]\n",
            "100%|██████████| 11/11 [00:00<00:00, 421.82it/s]\n",
            "  0%|          | 0/11 [00:00<?, ?it/s]"
          ],
          "name": "stderr"
        },
        {
          "output_type": "stream",
          "text": [
            "Train loss: 2.69e-01, Val loss: 3.43e-01\n",
            "Best val loss is: 3.43e-01\n",
            "Train loss: 2.69e-01, Val loss: 3.43e-01\n",
            "Best val loss is: 3.43e-01\n",
            "Train loss: 2.68e-01, Val loss: 3.42e-01\n",
            "Best val loss is: 3.42e-01\n",
            "Train loss: 2.68e-01, Val loss: 3.42e-01\n",
            "Best val loss is: 3.42e-01\n",
            "Train loss: 2.67e-01, Val loss: 3.42e-01\n",
            "Best val loss is: 3.42e-01\n",
            "Train loss: 2.67e-01, Val loss: 3.42e-01\n",
            "Best val loss is: 3.42e-01\n"
          ],
          "name": "stdout"
        },
        {
          "output_type": "stream",
          "text": [
            "100%|██████████| 11/11 [00:00<00:00, 397.33it/s]\n",
            "100%|██████████| 11/11 [00:00<00:00, 440.94it/s]\n",
            "100%|██████████| 11/11 [00:00<00:00, 427.73it/s]\n",
            "100%|██████████| 11/11 [00:00<00:00, 422.15it/s]\n",
            "100%|██████████| 11/11 [00:00<00:00, 402.34it/s]\n",
            "100%|██████████| 11/11 [00:00<00:00, 373.70it/s]\n",
            "100%|██████████| 11/11 [00:00<00:00, 433.17it/s]"
          ],
          "name": "stderr"
        },
        {
          "output_type": "stream",
          "text": [
            "Train loss: 2.66e-01, Val loss: 3.42e-01\n",
            "Best val loss is: 3.42e-01\n",
            "Train loss: 2.66e-01, Val loss: 3.42e-01\n",
            "Best val loss is: 3.42e-01\n",
            "Train loss: 2.65e-01, Val loss: 3.41e-01\n",
            "Best val loss is: 3.41e-01\n",
            "Train loss: 2.65e-01, Val loss: 3.41e-01\n",
            "Best val loss is: 3.41e-01\n",
            "Train loss: 2.65e-01, Val loss: 3.41e-01\n",
            "Best val loss is: 3.41e-01\n",
            "Train loss: 2.64e-01, Val loss: 3.41e-01\n",
            "Best val loss is: 3.41e-01\n"
          ],
          "name": "stdout"
        },
        {
          "output_type": "stream",
          "text": [
            "\n",
            "100%|██████████| 11/11 [00:00<00:00, 434.21it/s]\n",
            "100%|██████████| 11/11 [00:00<00:00, 435.21it/s]\n",
            "100%|██████████| 11/11 [00:00<00:00, 433.50it/s]\n",
            "100%|██████████| 11/11 [00:00<00:00, 448.17it/s]\n",
            "100%|██████████| 11/11 [00:00<00:00, 435.82it/s]\n",
            "100%|██████████| 11/11 [00:00<00:00, 436.68it/s]\n",
            "100%|██████████| 11/11 [00:00<00:00, 439.27it/s]\n",
            "  0%|          | 0/11 [00:00<?, ?it/s]"
          ],
          "name": "stderr"
        },
        {
          "output_type": "stream",
          "text": [
            "Train loss: 2.64e-01, Val loss: 3.41e-01\n",
            "Best val loss is: 3.41e-01\n",
            "Train loss: 2.63e-01, Val loss: 3.41e-01\n",
            "Best val loss is: 3.41e-01\n",
            "Train loss: 2.63e-01, Val loss: 3.40e-01\n",
            "Best val loss is: 3.40e-01\n",
            "Train loss: 2.62e-01, Val loss: 3.40e-01\n",
            "Best val loss is: 3.40e-01\n",
            "Train loss: 2.62e-01, Val loss: 3.40e-01\n",
            "Best val loss is: 3.40e-01\n",
            "Train loss: 2.61e-01, Val loss: 3.40e-01\n",
            "Best val loss is: 3.40e-01\n",
            "Train loss: 2.61e-01, Val loss: 3.40e-01\n",
            "Best val loss is: 3.40e-01\n",
            "Train loss: 2.61e-01, Val loss: 3.40e-01\n",
            "Best val loss is: 3.40e-01\n"
          ],
          "name": "stdout"
        },
        {
          "output_type": "stream",
          "text": [
            "100%|██████████| 11/11 [00:00<00:00, 381.44it/s]\n",
            "100%|██████████| 11/11 [00:00<00:00, 415.85it/s]\n",
            "100%|██████████| 11/11 [00:00<00:00, 437.96it/s]\n",
            "100%|██████████| 11/11 [00:00<00:00, 428.97it/s]\n",
            "100%|██████████| 11/11 [00:00<00:00, 407.88it/s]\n",
            "100%|██████████| 11/11 [00:00<00:00, 442.39it/s]\n",
            "100%|██████████| 11/11 [00:00<00:00, 433.74it/s]\n",
            "  0%|          | 0/11 [00:00<?, ?it/s]"
          ],
          "name": "stderr"
        },
        {
          "output_type": "stream",
          "text": [
            "Train loss: 2.60e-01, Val loss: 3.40e-01\n",
            "Best val loss is: 3.40e-01\n",
            "Train loss: 2.60e-01, Val loss: 3.39e-01\n",
            "Best val loss is: 3.39e-01\n",
            "Train loss: 2.59e-01, Val loss: 3.39e-01\n",
            "Best val loss is: 3.39e-01\n",
            "Train loss: 2.59e-01, Val loss: 3.39e-01\n",
            "Best val loss is: 3.39e-01\n",
            "Train loss: 2.59e-01, Val loss: 3.39e-01\n",
            "Best val loss is: 3.39e-01\n",
            "Train loss: 2.58e-01, Val loss: 3.39e-01\n",
            "Best val loss is: 3.39e-01\n",
            "Train loss: 2.58e-01, Val loss: 3.39e-01\n",
            "Best val loss is: 3.39e-01\n"
          ],
          "name": "stdout"
        },
        {
          "output_type": "stream",
          "text": [
            "100%|██████████| 11/11 [00:00<00:00, 399.91it/s]\n",
            "100%|██████████| 11/11 [00:00<00:00, 413.22it/s]\n",
            "100%|██████████| 11/11 [00:00<00:00, 424.37it/s]\n",
            "100%|██████████| 11/11 [00:00<00:00, 405.65it/s]\n",
            "100%|██████████| 11/11 [00:00<00:00, 439.24it/s]\n",
            "100%|██████████| 11/11 [00:00<00:00, 432.00it/s]\n",
            "100%|██████████| 11/11 [00:00<00:00, 430.15it/s]\n"
          ],
          "name": "stderr"
        },
        {
          "output_type": "stream",
          "text": [
            "Train loss: 2.57e-01, Val loss: 3.39e-01\n",
            "Best val loss is: 3.39e-01\n",
            "Train loss: 2.57e-01, Val loss: 3.39e-01\n",
            "Best val loss is: 3.39e-01\n",
            "Train loss: 2.57e-01, Val loss: 3.38e-01\n",
            "Best val loss is: 3.38e-01\n",
            "Train loss: 2.56e-01, Val loss: 3.38e-01\n",
            "Best val loss is: 3.38e-01\n",
            "Train loss: 2.56e-01, Val loss: 3.38e-01\n",
            "Best val loss is: 3.38e-01\n",
            "Train loss: 2.56e-01, Val loss: 3.38e-01\n",
            "Best val loss is: 3.38e-01\n",
            "Train loss: 2.55e-01, Val loss: 3.38e-01\n",
            "Best val loss is: 3.38e-01\n"
          ],
          "name": "stdout"
        },
        {
          "output_type": "stream",
          "text": [
            "100%|██████████| 11/11 [00:00<00:00, 447.51it/s]\n",
            "100%|██████████| 11/11 [00:00<00:00, 427.55it/s]\n",
            "100%|██████████| 11/11 [00:00<00:00, 438.99it/s]\n",
            "100%|██████████| 11/11 [00:00<00:00, 430.37it/s]\n",
            "100%|██████████| 11/11 [00:00<00:00, 403.31it/s]\n",
            "100%|██████████| 11/11 [00:00<00:00, 391.31it/s]\n",
            "  0%|          | 0/11 [00:00<?, ?it/s]"
          ],
          "name": "stderr"
        },
        {
          "output_type": "stream",
          "text": [
            "Train loss: 2.55e-01, Val loss: 3.38e-01\n",
            "Best val loss is: 3.38e-01\n",
            "Train loss: 2.54e-01, Val loss: 3.38e-01\n",
            "Best val loss is: 3.38e-01\n",
            "Train loss: 2.54e-01, Val loss: 3.38e-01\n",
            "Best val loss is: 3.38e-01\n",
            "Train loss: 2.54e-01, Val loss: 3.38e-01\n",
            "Best val loss is: 3.38e-01\n",
            "Train loss: 2.53e-01, Val loss: 3.38e-01\n",
            "Best val loss is: 3.38e-01\n",
            "Train loss: 2.53e-01, Val loss: 3.37e-01\n",
            "Best val loss is: 3.37e-01\n"
          ],
          "name": "stdout"
        },
        {
          "output_type": "stream",
          "text": [
            "100%|██████████| 11/11 [00:00<00:00, 349.42it/s]\n",
            "100%|██████████| 11/11 [00:00<00:00, 414.48it/s]\n",
            "100%|██████████| 11/11 [00:00<00:00, 421.10it/s]\n",
            "100%|██████████| 11/11 [00:00<00:00, 427.91it/s]\n",
            "100%|██████████| 11/11 [00:00<00:00, 437.74it/s]\n",
            "100%|██████████| 11/11 [00:00<00:00, 457.84it/s]\n",
            "100%|██████████| 11/11 [00:00<00:00, 448.39it/s]\n",
            "  0%|          | 0/11 [00:00<?, ?it/s]"
          ],
          "name": "stderr"
        },
        {
          "output_type": "stream",
          "text": [
            "Train loss: 2.53e-01, Val loss: 3.37e-01\n",
            "Best val loss is: 3.37e-01\n",
            "Train loss: 2.52e-01, Val loss: 3.37e-01\n",
            "Best val loss is: 3.37e-01\n",
            "Train loss: 2.52e-01, Val loss: 3.37e-01\n",
            "Best val loss is: 3.37e-01\n",
            "Train loss: 2.52e-01, Val loss: 3.37e-01\n",
            "Best val loss is: 3.37e-01\n",
            "Train loss: 2.51e-01, Val loss: 3.37e-01\n",
            "Best val loss is: 3.37e-01\n",
            "Train loss: 2.51e-01, Val loss: 3.37e-01\n",
            "Best val loss is: 3.37e-01\n",
            "Train loss: 2.51e-01, Val loss: 3.37e-01\n",
            "Best val loss is: 3.37e-01\n"
          ],
          "name": "stdout"
        },
        {
          "output_type": "stream",
          "text": [
            "100%|██████████| 11/11 [00:00<00:00, 396.80it/s]\n",
            "100%|██████████| 11/11 [00:00<00:00, 430.20it/s]\n",
            "100%|██████████| 11/11 [00:00<00:00, 417.51it/s]\n",
            "100%|██████████| 11/11 [00:00<00:00, 426.98it/s]\n",
            "100%|██████████| 11/11 [00:00<00:00, 429.32it/s]\n",
            "100%|██████████| 11/11 [00:00<00:00, 450.05it/s]\n",
            "100%|██████████| 11/11 [00:00<00:00, 456.86it/s]\n",
            "  0%|          | 0/11 [00:00<?, ?it/s]"
          ],
          "name": "stderr"
        },
        {
          "output_type": "stream",
          "text": [
            "Train loss: 2.50e-01, Val loss: 3.37e-01\n",
            "Best val loss is: 3.37e-01\n",
            "Train loss: 2.50e-01, Val loss: 3.37e-01\n",
            "Best val loss is: 3.37e-01\n",
            "Train loss: 2.50e-01, Val loss: 3.37e-01\n",
            "Best val loss is: 3.37e-01\n",
            "Train loss: 2.49e-01, Val loss: 3.36e-01\n",
            "Best val loss is: 3.36e-01\n",
            "Train loss: 2.49e-01, Val loss: 3.36e-01\n",
            "Best val loss is: 3.36e-01\n",
            "Train loss: 2.49e-01, Val loss: 3.36e-01\n",
            "Best val loss is: 3.36e-01\n",
            "Train loss: 2.48e-01, Val loss: 3.36e-01\n",
            "Best val loss is: 3.36e-01\n"
          ],
          "name": "stdout"
        },
        {
          "output_type": "stream",
          "text": [
            "100%|██████████| 11/11 [00:00<00:00, 390.26it/s]\n",
            "100%|██████████| 11/11 [00:00<00:00, 443.33it/s]\n",
            "100%|██████████| 11/11 [00:00<00:00, 428.37it/s]\n",
            "100%|██████████| 11/11 [00:00<00:00, 401.72it/s]\n",
            "100%|██████████| 11/11 [00:00<00:00, 373.28it/s]\n",
            "100%|██████████| 11/11 [00:00<00:00, 395.12it/s]\n",
            "100%|██████████| 11/11 [00:00<00:00, 450.69it/s]"
          ],
          "name": "stderr"
        },
        {
          "output_type": "stream",
          "text": [
            "Train loss: 2.48e-01, Val loss: 3.36e-01\n",
            "Best val loss is: 3.36e-01\n",
            "Train loss: 2.48e-01, Val loss: 3.36e-01\n",
            "Best val loss is: 3.36e-01\n",
            "Train loss: 2.47e-01, Val loss: 3.36e-01\n",
            "Best val loss is: 3.36e-01\n",
            "Train loss: 2.47e-01, Val loss: 3.36e-01\n",
            "Best val loss is: 3.36e-01\n",
            "Train loss: 2.47e-01, Val loss: 3.36e-01\n",
            "Best val loss is: 3.36e-01\n",
            "Train loss: 2.46e-01, Val loss: 3.36e-01\n",
            "Best val loss is: 3.36e-01\n",
            "Train loss: 2.46e-01, Val loss: 3.36e-01\n",
            "Best val loss is: 3.36e-01\n"
          ],
          "name": "stdout"
        },
        {
          "output_type": "stream",
          "text": [
            "\n",
            "100%|██████████| 11/11 [00:00<00:00, 312.37it/s]\n",
            "100%|██████████| 11/11 [00:00<00:00, 415.31it/s]\n",
            "100%|██████████| 11/11 [00:00<00:00, 408.80it/s]\n",
            "100%|██████████| 11/11 [00:00<00:00, 406.92it/s]\n",
            "100%|██████████| 11/11 [00:00<00:00, 382.67it/s]\n",
            "100%|██████████| 11/11 [00:00<00:00, 363.90it/s]\n",
            "100%|██████████| 11/11 [00:00<00:00, 437.74it/s]"
          ],
          "name": "stderr"
        },
        {
          "output_type": "stream",
          "text": [
            "Train loss: 2.46e-01, Val loss: 3.36e-01\n",
            "Best val loss is: 3.36e-01\n",
            "Train loss: 2.45e-01, Val loss: 3.36e-01\n",
            "Best val loss is: 3.36e-01\n",
            "Train loss: 2.45e-01, Val loss: 3.36e-01\n",
            "Best val loss is: 3.36e-01\n",
            "Train loss: 2.45e-01, Val loss: 3.36e-01\n",
            "Best val loss is: 3.36e-01\n",
            "Train loss: 2.45e-01, Val loss: 3.35e-01\n",
            "Best val loss is: 3.35e-01\n",
            "Train loss: 2.44e-01, Val loss: 3.35e-01\n",
            "Best val loss is: 3.35e-01\n",
            "Train loss: 2.44e-01, Val loss: 3.35e-01\n",
            "Best val loss is: 3.35e-01\n"
          ],
          "name": "stdout"
        },
        {
          "output_type": "stream",
          "text": [
            "\n",
            "100%|██████████| 11/11 [00:00<00:00, 420.95it/s]\n",
            "100%|██████████| 11/11 [00:00<00:00, 428.67it/s]\n",
            "100%|██████████| 11/11 [00:00<00:00, 438.72it/s]\n",
            "100%|██████████| 11/11 [00:00<00:00, 358.61it/s]\n",
            "100%|██████████| 11/11 [00:00<00:00, 427.26it/s]\n",
            "100%|██████████| 11/11 [00:00<00:00, 441.48it/s]\n",
            "100%|██████████| 11/11 [00:00<00:00, 445.66it/s]\n"
          ],
          "name": "stderr"
        },
        {
          "output_type": "stream",
          "text": [
            "Train loss: 2.44e-01, Val loss: 3.35e-01\n",
            "Best val loss is: 3.35e-01\n",
            "Train loss: 2.43e-01, Val loss: 3.35e-01\n",
            "Best val loss is: 3.35e-01\n",
            "Train loss: 2.43e-01, Val loss: 3.35e-01\n",
            "Best val loss is: 3.35e-01\n",
            "Train loss: 2.43e-01, Val loss: 3.35e-01\n",
            "Best val loss is: 3.35e-01\n",
            "Train loss: 2.43e-01, Val loss: 3.35e-01\n",
            "Best val loss is: 3.35e-01\n",
            "Train loss: 2.42e-01, Val loss: 3.35e-01\n",
            "Best val loss is: 3.35e-01\n",
            "Train loss: 2.42e-01, Val loss: 3.35e-01\n",
            "Best val loss is: 3.35e-01\n"
          ],
          "name": "stdout"
        },
        {
          "output_type": "stream",
          "text": [
            "100%|██████████| 11/11 [00:00<00:00, 414.67it/s]\n",
            "100%|██████████| 11/11 [00:00<00:00, 390.10it/s]\n",
            "100%|██████████| 11/11 [00:00<00:00, 445.03it/s]\n",
            "100%|██████████| 11/11 [00:00<00:00, 438.94it/s]\n",
            "100%|██████████| 11/11 [00:00<00:00, 438.36it/s]\n",
            "100%|██████████| 11/11 [00:00<00:00, 443.76it/s]\n",
            "100%|██████████| 11/11 [00:00<00:00, 443.56it/s]\n"
          ],
          "name": "stderr"
        },
        {
          "output_type": "stream",
          "text": [
            "Train loss: 2.42e-01, Val loss: 3.35e-01\n",
            "Best val loss is: 3.35e-01\n",
            "Train loss: 2.41e-01, Val loss: 3.35e-01\n",
            "Best val loss is: 3.35e-01\n",
            "Train loss: 2.41e-01, Val loss: 3.35e-01\n",
            "Best val loss is: 3.35e-01\n",
            "Train loss: 2.41e-01, Val loss: 3.35e-01\n",
            "Best val loss is: 3.35e-01\n",
            "Train loss: 2.41e-01, Val loss: 3.35e-01\n",
            "Best val loss is: 3.35e-01\n",
            "Train loss: 2.40e-01, Val loss: 3.35e-01\n",
            "Best val loss is: 3.35e-01\n",
            "Train loss: 2.40e-01, Val loss: 3.35e-01\n",
            "Best val loss is: 3.35e-01\n"
          ],
          "name": "stdout"
        },
        {
          "output_type": "stream",
          "text": [
            "100%|██████████| 11/11 [00:00<00:00, 434.56it/s]\n",
            "100%|██████████| 11/11 [00:00<00:00, 439.04it/s]\n",
            "100%|██████████| 11/11 [00:00<00:00, 438.80it/s]\n",
            "100%|██████████| 11/11 [00:00<00:00, 374.28it/s]\n",
            "100%|██████████| 11/11 [00:00<00:00, 405.26it/s]\n",
            "100%|██████████| 11/11 [00:00<00:00, 417.25it/s]\n",
            "100%|██████████| 11/11 [00:00<00:00, 427.27it/s]"
          ],
          "name": "stderr"
        },
        {
          "output_type": "stream",
          "text": [
            "Train loss: 2.40e-01, Val loss: 3.35e-01\n",
            "Best val loss is: 3.35e-01\n",
            "Train loss: 2.40e-01, Val loss: 3.35e-01\n",
            "Best val loss is: 3.35e-01\n",
            "Train loss: 2.39e-01, Val loss: 3.34e-01\n",
            "Best val loss is: 3.34e-01\n",
            "Train loss: 2.39e-01, Val loss: 3.34e-01\n",
            "Best val loss is: 3.34e-01\n",
            "Train loss: 2.39e-01, Val loss: 3.34e-01\n",
            "Best val loss is: 3.34e-01\n",
            "Train loss: 2.38e-01, Val loss: 3.34e-01\n",
            "Best val loss is: 3.34e-01\n"
          ],
          "name": "stdout"
        },
        {
          "output_type": "stream",
          "text": [
            "\n",
            "100%|██████████| 11/11 [00:00<00:00, 405.77it/s]\n",
            "100%|██████████| 11/11 [00:00<00:00, 432.76it/s]\n",
            "100%|██████████| 11/11 [00:00<00:00, 441.73it/s]\n",
            "100%|██████████| 11/11 [00:00<00:00, 420.47it/s]\n",
            "100%|██████████| 11/11 [00:00<00:00, 444.54it/s]\n",
            "100%|██████████| 11/11 [00:00<00:00, 371.06it/s]"
          ],
          "name": "stderr"
        },
        {
          "output_type": "stream",
          "text": [
            "Train loss: 2.38e-01, Val loss: 3.34e-01\n",
            "Best val loss is: 3.34e-01\n",
            "Train loss: 2.38e-01, Val loss: 3.34e-01\n",
            "Best val loss is: 3.34e-01\n",
            "Train loss: 2.38e-01, Val loss: 3.34e-01\n",
            "Best val loss is: 3.34e-01\n",
            "Train loss: 2.37e-01, Val loss: 3.34e-01\n",
            "Best val loss is: 3.34e-01\n",
            "Train loss: 2.37e-01, Val loss: 3.34e-01\n",
            "Best val loss is: 3.34e-01\n",
            "Train loss: 2.37e-01, Val loss: 3.34e-01\n",
            "Best val loss is: 3.34e-01\n",
            "Train loss: 2.37e-01, Val loss: 3.34e-01\n",
            "Best val loss is: 3.34e-01\n"
          ],
          "name": "stdout"
        },
        {
          "output_type": "stream",
          "text": [
            "\n",
            "100%|██████████| 11/11 [00:00<00:00, 399.05it/s]\n",
            "100%|██████████| 11/11 [00:00<00:00, 413.77it/s]\n",
            "100%|██████████| 11/11 [00:00<00:00, 409.71it/s]\n",
            "100%|██████████| 11/11 [00:00<00:00, 447.61it/s]\n",
            "100%|██████████| 11/11 [00:00<00:00, 423.77it/s]\n",
            "100%|██████████| 11/11 [00:00<00:00, 462.99it/s]\n",
            "100%|██████████| 11/11 [00:00<00:00, 356.31it/s]\n"
          ],
          "name": "stderr"
        },
        {
          "output_type": "stream",
          "text": [
            "Train loss: 2.36e-01, Val loss: 3.34e-01\n",
            "Best val loss is: 3.34e-01\n",
            "Train loss: 2.36e-01, Val loss: 3.34e-01\n",
            "Best val loss is: 3.34e-01\n",
            "Train loss: 2.36e-01, Val loss: 3.34e-01\n",
            "Best val loss is: 3.34e-01\n",
            "Train loss: 2.36e-01, Val loss: 3.34e-01\n",
            "Best val loss is: 3.34e-01\n",
            "Train loss: 2.35e-01, Val loss: 3.34e-01\n",
            "Best val loss is: 3.34e-01\n",
            "Train loss: 2.35e-01, Val loss: 3.34e-01\n",
            "Best val loss is: 3.34e-01\n"
          ],
          "name": "stdout"
        },
        {
          "output_type": "stream",
          "text": [
            "100%|██████████| 11/11 [00:00<00:00, 418.92it/s]\n",
            "100%|██████████| 11/11 [00:00<00:00, 396.55it/s]\n",
            "100%|██████████| 11/11 [00:00<00:00, 399.64it/s]\n",
            "100%|██████████| 11/11 [00:00<00:00, 449.17it/s]\n",
            "100%|██████████| 11/11 [00:00<00:00, 432.23it/s]\n",
            "100%|██████████| 11/11 [00:00<00:00, 448.10it/s]\n",
            "  0%|          | 0/11 [00:00<?, ?it/s]"
          ],
          "name": "stderr"
        },
        {
          "output_type": "stream",
          "text": [
            "Train loss: 2.35e-01, Val loss: 3.34e-01\n",
            "Best val loss is: 3.34e-01\n",
            "Train loss: 2.35e-01, Val loss: 3.34e-01\n",
            "Best val loss is: 3.34e-01\n",
            "Train loss: 2.34e-01, Val loss: 3.34e-01\n",
            "Best val loss is: 3.34e-01\n",
            "Train loss: 2.34e-01, Val loss: 3.34e-01\n",
            "Best val loss is: 3.34e-01\n",
            "Train loss: 2.34e-01, Val loss: 3.34e-01\n",
            "Best val loss is: 3.34e-01\n",
            "Train loss: 2.34e-01, Val loss: 3.34e-01\n",
            "Best val loss is: 3.34e-01\n",
            "Train loss: 2.34e-01, Val loss: 3.34e-01\n",
            "Best val loss is: 3.34e-01\n"
          ],
          "name": "stdout"
        },
        {
          "output_type": "stream",
          "text": [
            "100%|██████████| 11/11 [00:00<00:00, 403.09it/s]\n",
            "100%|██████████| 11/11 [00:00<00:00, 447.18it/s]\n",
            "100%|██████████| 11/11 [00:00<00:00, 438.47it/s]\n",
            "100%|██████████| 11/11 [00:00<00:00, 432.59it/s]\n",
            "100%|██████████| 11/11 [00:00<00:00, 444.07it/s]\n",
            "100%|██████████| 11/11 [00:00<00:00, 410.42it/s]\n",
            "100%|██████████| 11/11 [00:00<00:00, 427.38it/s]\n",
            "  0%|          | 0/11 [00:00<?, ?it/s]"
          ],
          "name": "stderr"
        },
        {
          "output_type": "stream",
          "text": [
            "Train loss: 2.33e-01, Val loss: 3.34e-01\n",
            "Best val loss is: 3.34e-01\n",
            "Train loss: 2.33e-01, Val loss: 3.34e-01\n",
            "Best val loss is: 3.34e-01\n",
            "Train loss: 2.33e-01, Val loss: 3.34e-01\n",
            "Best val loss is: 3.34e-01\n",
            "Train loss: 2.33e-01, Val loss: 3.34e-01\n",
            "Best val loss is: 3.34e-01\n",
            "Train loss: 2.32e-01, Val loss: 3.34e-01\n",
            "Best val loss is: 3.34e-01\n",
            "Train loss: 2.32e-01, Val loss: 3.34e-01\n",
            "Best val loss is: 3.34e-01\n",
            "Train loss: 2.32e-01, Val loss: 3.34e-01\n",
            "Best val loss is: 3.34e-01\n"
          ],
          "name": "stdout"
        },
        {
          "output_type": "stream",
          "text": [
            "100%|██████████| 11/11 [00:00<00:00, 388.77it/s]\n",
            "100%|██████████| 11/11 [00:00<00:00, 424.72it/s]\n",
            "100%|██████████| 11/11 [00:00<00:00, 421.22it/s]\n",
            "100%|██████████| 11/11 [00:00<00:00, 451.24it/s]\n",
            "100%|██████████| 11/11 [00:00<00:00, 446.16it/s]\n",
            "100%|██████████| 11/11 [00:00<00:00, 424.24it/s]\n",
            "100%|██████████| 11/11 [00:00<00:00, 449.50it/s]\n",
            "  0%|          | 0/11 [00:00<?, ?it/s]"
          ],
          "name": "stderr"
        },
        {
          "output_type": "stream",
          "text": [
            "Train loss: 2.32e-01, Val loss: 3.34e-01\n",
            "Best val loss is: 3.34e-01\n",
            "Train loss: 2.31e-01, Val loss: 3.34e-01\n",
            "Best val loss is: 3.34e-01\n",
            "Train loss: 2.31e-01, Val loss: 3.34e-01\n",
            "Best val loss is: 3.34e-01\n",
            "Train loss: 2.31e-01, Val loss: 3.33e-01\n",
            "Best val loss is: 3.33e-01\n",
            "Train loss: 2.31e-01, Val loss: 3.33e-01\n",
            "Best val loss is: 3.33e-01\n",
            "Train loss: 2.31e-01, Val loss: 3.33e-01\n",
            "Best val loss is: 3.33e-01\n",
            "Train loss: 2.30e-01, Val loss: 3.33e-01\n",
            "Best val loss is: 3.33e-01\n"
          ],
          "name": "stdout"
        },
        {
          "output_type": "stream",
          "text": [
            "100%|██████████| 11/11 [00:00<00:00, 371.04it/s]\n",
            "100%|██████████| 11/11 [00:00<00:00, 412.21it/s]\n",
            "100%|██████████| 11/11 [00:00<00:00, 439.57it/s]\n",
            "100%|██████████| 11/11 [00:00<00:00, 445.24it/s]\n",
            "100%|██████████| 11/11 [00:00<00:00, 415.37it/s]\n",
            "100%|██████████| 11/11 [00:00<00:00, 429.05it/s]\n",
            "100%|██████████| 11/11 [00:00<00:00, 387.80it/s]\n"
          ],
          "name": "stderr"
        },
        {
          "output_type": "stream",
          "text": [
            "Train loss: 2.30e-01, Val loss: 3.33e-01\n",
            "Best val loss is: 3.33e-01\n",
            "Train loss: 2.30e-01, Val loss: 3.33e-01\n",
            "Best val loss is: 3.33e-01\n",
            "Train loss: 2.30e-01, Val loss: 3.33e-01\n",
            "Best val loss is: 3.33e-01\n",
            "Train loss: 2.29e-01, Val loss: 3.33e-01\n",
            "Best val loss is: 3.33e-01\n",
            "Train loss: 2.29e-01, Val loss: 3.33e-01\n",
            "Best val loss is: 3.33e-01\n",
            "Train loss: 2.29e-01, Val loss: 3.33e-01\n",
            "Best val loss is: 3.33e-01\n",
            "Train loss: 2.29e-01, Val loss: 3.33e-01\n",
            "Best val loss is: 3.33e-01\n"
          ],
          "name": "stdout"
        },
        {
          "output_type": "stream",
          "text": [
            "100%|██████████| 11/11 [00:00<00:00, 377.28it/s]\n",
            "100%|██████████| 11/11 [00:00<00:00, 444.51it/s]\n",
            "100%|██████████| 11/11 [00:00<00:00, 402.34it/s]\n",
            "100%|██████████| 11/11 [00:00<00:00, 333.38it/s]\n",
            "100%|██████████| 11/11 [00:00<00:00, 444.99it/s]\n",
            "100%|██████████| 11/11 [00:00<00:00, 459.66it/s]\n",
            "100%|██████████| 11/11 [00:00<00:00, 434.53it/s]\n",
            "  0%|          | 0/11 [00:00<?, ?it/s]"
          ],
          "name": "stderr"
        },
        {
          "output_type": "stream",
          "text": [
            "Train loss: 2.29e-01, Val loss: 3.33e-01\n",
            "Best val loss is: 3.33e-01\n",
            "Train loss: 2.28e-01, Val loss: 3.33e-01\n",
            "Best val loss is: 3.33e-01\n",
            "Train loss: 2.28e-01, Val loss: 3.33e-01\n",
            "Best val loss is: 3.33e-01\n",
            "Train loss: 2.28e-01, Val loss: 3.33e-01\n",
            "Best val loss is: 3.33e-01\n",
            "Train loss: 2.28e-01, Val loss: 3.33e-01\n",
            "Best val loss is: 3.33e-01\n",
            "Train loss: 2.28e-01, Val loss: 3.33e-01\n",
            "Best val loss is: 3.33e-01\n",
            "Train loss: 2.27e-01, Val loss: 3.33e-01\n",
            "Best val loss is: 3.33e-01\n"
          ],
          "name": "stdout"
        },
        {
          "output_type": "stream",
          "text": [
            "100%|██████████| 11/11 [00:00<00:00, 409.56it/s]\n",
            "100%|██████████| 11/11 [00:00<00:00, 450.09it/s]\n",
            "100%|██████████| 11/11 [00:00<00:00, 447.21it/s]\n",
            "100%|██████████| 11/11 [00:00<00:00, 443.59it/s]\n",
            "100%|██████████| 11/11 [00:00<00:00, 451.46it/s]\n",
            "100%|██████████| 11/11 [00:00<00:00, 461.50it/s]\n",
            "100%|██████████| 11/11 [00:00<00:00, 411.16it/s]\n",
            "  0%|          | 0/11 [00:00<?, ?it/s]"
          ],
          "name": "stderr"
        },
        {
          "output_type": "stream",
          "text": [
            "Train loss: 2.27e-01, Val loss: 3.33e-01\n",
            "Best val loss is: 3.33e-01\n",
            "Train loss: 2.27e-01, Val loss: 3.33e-01\n",
            "Best val loss is: 3.33e-01\n",
            "Train loss: 2.27e-01, Val loss: 3.33e-01\n",
            "Best val loss is: 3.33e-01\n",
            "Train loss: 2.27e-01, Val loss: 3.33e-01\n",
            "Best val loss is: 3.33e-01\n",
            "Train loss: 2.26e-01, Val loss: 3.33e-01\n",
            "Best val loss is: 3.33e-01\n",
            "Train loss: 2.26e-01, Val loss: 3.33e-01\n",
            "Best val loss is: 3.33e-01\n",
            "Train loss: 2.26e-01, Val loss: 3.33e-01\n",
            "Best val loss is: 3.33e-01\n"
          ],
          "name": "stdout"
        },
        {
          "output_type": "stream",
          "text": [
            "100%|██████████| 11/11 [00:00<00:00, 392.99it/s]\n",
            "100%|██████████| 11/11 [00:00<00:00, 448.03it/s]\n",
            "100%|██████████| 11/11 [00:00<00:00, 429.62it/s]\n",
            "100%|██████████| 11/11 [00:00<00:00, 442.03it/s]\n",
            "100%|██████████| 11/11 [00:00<00:00, 426.54it/s]\n",
            "100%|██████████| 11/11 [00:00<00:00, 440.74it/s]\n",
            "100%|██████████| 11/11 [00:00<00:00, 443.78it/s]\n",
            "  0%|          | 0/11 [00:00<?, ?it/s]"
          ],
          "name": "stderr"
        },
        {
          "output_type": "stream",
          "text": [
            "Train loss: 2.26e-01, Val loss: 3.33e-01\n",
            "Best val loss is: 3.33e-01\n",
            "Train loss: 2.26e-01, Val loss: 3.33e-01\n",
            "Best val loss is: 3.33e-01\n",
            "Train loss: 2.25e-01, Val loss: 3.33e-01\n",
            "Best val loss is: 3.33e-01\n",
            "Train loss: 2.25e-01, Val loss: 3.33e-01\n",
            "Best val loss is: 3.33e-01\n",
            "Train loss: 2.25e-01, Val loss: 3.33e-01\n",
            "Best val loss is: 3.33e-01\n",
            "Train loss: 2.25e-01, Val loss: 3.33e-01\n",
            "Best val loss is: 3.33e-01\n",
            "Train loss: 2.25e-01, Val loss: 3.33e-01\n",
            "Best val loss is: 3.33e-01\n"
          ],
          "name": "stdout"
        },
        {
          "output_type": "stream",
          "text": [
            "100%|██████████| 11/11 [00:00<00:00, 402.79it/s]\n",
            "100%|██████████| 11/11 [00:00<00:00, 450.57it/s]\n",
            "100%|██████████| 11/11 [00:00<00:00, 410.20it/s]\n",
            "100%|██████████| 11/11 [00:00<00:00, 396.07it/s]\n",
            "100%|██████████| 11/11 [00:00<00:00, 420.67it/s]\n",
            "100%|██████████| 11/11 [00:00<00:00, 396.83it/s]\n",
            "100%|██████████| 11/11 [00:00<00:00, 400.73it/s]\n"
          ],
          "name": "stderr"
        },
        {
          "output_type": "stream",
          "text": [
            "Train loss: 2.24e-01, Val loss: 3.33e-01\n",
            "Best val loss is: 3.33e-01\n",
            "Train loss: 2.24e-01, Val loss: 3.33e-01\n",
            "Best val loss is: 3.33e-01\n",
            "Train loss: 2.24e-01, Val loss: 3.33e-01\n",
            "Best val loss is: 3.33e-01\n",
            "Train loss: 2.24e-01, Val loss: 3.33e-01\n",
            "Best val loss is: 3.33e-01\n",
            "Train loss: 2.24e-01, Val loss: 3.33e-01\n",
            "Best val loss is: 3.33e-01\n",
            "Train loss: 2.23e-01, Val loss: 3.33e-01\n",
            "Best val loss is: 3.33e-01\n"
          ],
          "name": "stdout"
        },
        {
          "output_type": "stream",
          "text": [
            "100%|██████████| 11/11 [00:00<00:00, 432.80it/s]\n",
            "100%|██████████| 11/11 [00:00<00:00, 438.26it/s]\n",
            "100%|██████████| 11/11 [00:00<00:00, 433.76it/s]\n",
            "100%|██████████| 11/11 [00:00<00:00, 463.89it/s]\n",
            "100%|██████████| 11/11 [00:00<00:00, 414.26it/s]\n",
            "100%|██████████| 11/11 [00:00<00:00, 433.41it/s]\n",
            "  0%|          | 0/11 [00:00<?, ?it/s]"
          ],
          "name": "stderr"
        },
        {
          "output_type": "stream",
          "text": [
            "Train loss: 2.23e-01, Val loss: 3.33e-01\n",
            "Best val loss is: 3.33e-01\n",
            "Train loss: 2.23e-01, Val loss: 3.33e-01\n",
            "Best val loss is: 3.33e-01\n",
            "Train loss: 2.23e-01, Val loss: 3.33e-01\n",
            "Best val loss is: 3.33e-01\n",
            "Train loss: 2.23e-01, Val loss: 3.33e-01\n",
            "Best val loss is: 3.33e-01\n",
            "Train loss: 2.22e-01, Val loss: 3.33e-01\n",
            "Best val loss is: 3.33e-01\n",
            "Train loss: 2.22e-01, Val loss: 3.33e-01\n",
            "Best val loss is: 3.33e-01\n",
            "Train loss: 2.22e-01, Val loss: 3.33e-01\n",
            "Best val loss is: 3.33e-01\n"
          ],
          "name": "stdout"
        },
        {
          "output_type": "stream",
          "text": [
            "100%|██████████| 11/11 [00:00<00:00, 342.84it/s]\n",
            "100%|██████████| 11/11 [00:00<00:00, 430.74it/s]\n",
            "100%|██████████| 11/11 [00:00<00:00, 440.75it/s]\n",
            "100%|██████████| 11/11 [00:00<00:00, 428.14it/s]\n",
            "100%|██████████| 11/11 [00:00<00:00, 451.80it/s]\n"
          ],
          "name": "stderr"
        },
        {
          "output_type": "stream",
          "text": [
            "Train loss: 2.22e-01, Val loss: 3.33e-01\n",
            "Best val loss is: 3.33e-01\n",
            "Train loss: 2.22e-01, Val loss: 3.33e-01\n",
            "Best val loss is: 3.33e-01\n",
            "Train loss: 2.22e-01, Val loss: 3.33e-01\n",
            "Best val loss is: 3.33e-01\n",
            "Train loss: 2.21e-01, Val loss: 3.33e-01\n",
            "Best val loss is: 3.33e-01\n",
            "Train loss: 2.21e-01, Val loss: 3.33e-01\n",
            "Best val loss is: 3.33e-01\n",
            "Stopped training after 295/5000 epochs.\n",
            "The loss is 7.33e-01 before training and 3.33e-01 after training.\n",
            "The training and validation losses are \n",
            "\t[0.6891371154785156, 0.6604788970947265, 0.6354900741577149, 0.6130049896240234, 0.5924436950683594, 0.5738521194458008, 0.5570458602905274, 0.54182861328125, 0.528033447265625, 0.5154853439331055, 0.5040286254882812, 0.49353416442871095, 0.48388477325439455, 0.4749800491333008, 0.466734619140625, 0.45907432556152344, 0.45193527221679686, 0.44526248931884765, 0.4390081787109375, 0.4331308746337891, 0.4275945281982422, 0.4223674774169922, 0.41742191314697263, 0.4127334976196289, 0.40828048706054687, 0.4040437316894531, 0.400006103515625, 0.396152458190918, 0.3924688720703125, 0.3889432907104492, 0.38556442260742185, 0.3823223495483398, 0.37920799255371096, 0.3762129974365234, 0.37332992553710936, 0.37055179595947263, 0.367872428894043, 0.3652859115600586, 0.36278697967529294, 0.3603707504272461, 0.3580327606201172, 0.3557686996459961, 0.3535747909545898, 0.35144744873046874, 0.34938323974609375, 0.347379150390625, 0.3454322814941406, 0.343539924621582, 0.34169940948486327, 0.3399085235595703, 0.33816505432128907, 0.3364668273925781, 0.3348119354248047, 0.33319854736328125, 0.3316249084472656, 0.3300894546508789, 0.3285905075073242, 0.32712669372558595, 0.32569664001464843, 0.32429912567138675, 0.3229326629638672, 0.32159641265869143, 0.32028903961181643, 0.3190094757080078, 0.3177569007873535, 0.3165302276611328, 0.3153285598754883, 0.31415103912353515, 0.312996940612793, 0.31186532974243164, 0.31075557708740237, 0.30966690063476565, 0.3085986328125, 0.30755014419555665, 0.3065207862854004, 0.3055099868774414, 0.3045171356201172, 0.3035416984558105, 0.302583179473877, 0.30164108276367185, 0.30071481704711917, 0.2998040771484375, 0.2989082908630371, 0.2980271148681641, 0.29716007232666014, 0.29630680084228517, 0.2954669189453125, 0.2946400451660156, 0.2938258361816406, 0.29302398681640623, 0.29223411560058593, 0.29145595550537107, 0.2906891632080078, 0.2899334716796875, 0.2891885375976562, 0.2884541893005371, 0.2877300453186035, 0.28701593399047853, 0.2863116455078125, 0.2856168556213379, 0.2849313354492187, 0.2842548751831055, 0.28358734130859375, 0.28292842864990236, 0.2822779655456543, 0.2816357421875, 0.2810016059875488, 0.2803753662109375, 0.2797567558288574, 0.2791457176208496, 0.27854209899902344, 0.2779456329345703, 0.2773561859130859, 0.2767737197875977, 0.2761979484558105, 0.27562877655029294, 0.27506608963012696, 0.2745097351074219, 0.2739595603942871, 0.27341548919677733, 0.2728773307800293, 0.272345027923584, 0.2718184471130371, 0.27129741668701174, 0.27078187942504883, 0.2702717590332031, 0.2697668647766113, 0.2692671775817871, 0.2687725257873535, 0.26828290939331056, 0.2677981185913086, 0.2673181533813477, 0.2668429374694824, 0.2663722610473633, 0.2659061050415039, 0.2654444313049316, 0.26498712539672853, 0.2645341110229492, 0.2640853500366211, 0.2636406707763672, 0.2632000732421875, 0.26276350021362305, 0.2623307800292969, 0.2619019889831543, 0.26147703170776365, 0.26105567932128904, 0.2606380844116211, 0.2602240562438965, 0.25981361389160157, 0.25940662384033203, 0.2590030670166016, 0.25860292434692383, 0.25820608139038087, 0.25781246185302736, 0.25742216110229493, 0.257034912109375, 0.25665082931518557, 0.25626983642578127, 0.25589183807373045, 0.25551681518554686, 0.2551447296142578, 0.2547755241394043, 0.25440914154052735, 0.2540456008911133, 0.25368478775024417, 0.25332672119140626, 0.252971305847168, 0.2526185417175293, 0.25226831436157227, 0.2519207382202148, 0.2515756225585937, 0.25123302459716795, 0.2508928680419922, 0.25055517196655275, 0.250219841003418, 0.24988685607910155, 0.24955615997314454, 0.2492278480529785, 0.24890172958374024, 0.24857784271240235, 0.2482561492919922, 0.24793663024902343, 0.24761926651000976, 0.24730398178100585, 0.24699085235595702, 0.2466796875, 0.24637060165405272, 0.24606355667114257, 0.24575843811035156, 0.24545528411865233, 0.24515405654907227, 0.24485479354858397, 0.2445573616027832, 0.24426177978515626, 0.24396804809570313, 0.24367612838745117, 0.24338600158691406, 0.2430976676940918, 0.24281106948852538, 0.24252614974975586, 0.2422429847717285, 0.24196147918701172, 0.2416817092895508, 0.2414035415649414, 0.24112699508666993, 0.24085203170776368, 0.24057868957519532, 0.24030693054199218, 0.24003673553466798, 0.23976808547973633, 0.2395009231567383, 0.23923526763916014, 0.23897113800048828, 0.23870843887329102, 0.238447208404541, 0.23818740844726563, 0.2379290771484375, 0.23767208099365233, 0.2374165153503418, 0.23716232299804688, 0.23690952301025392, 0.23665803909301758, 0.23640789031982423, 0.2361590576171875, 0.23591156005859376, 0.23566534042358397, 0.23542037963867188, 0.2351767349243164, 0.23493431091308595, 0.23469312667846678, 0.2344532012939453, 0.23421445846557618, 0.23397693634033204, 0.23374061584472655, 0.2335054397583008, 0.233271484375, 0.23303865432739257, 0.23280696868896483, 0.2325764274597168, 0.23234703063964843, 0.23211874008178712, 0.23189151763916016, 0.23166538238525392, 0.23144039154052734, 0.2312164306640625, 0.23099355697631835, 0.23077173233032228, 0.23055091857910157, 0.23033117294311523, 0.23011241912841796, 0.2298947525024414, 0.22967803955078125, 0.2294622802734375, 0.22924755096435548, 0.22903379440307617, 0.22882102966308593, 0.22860919952392578, 0.22839832305908203, 0.2281884002685547, 0.22797943115234376, 0.22777137756347657, 0.22756420135498046, 0.22735797882080078, 0.22715263366699218, 0.22694822311401366, 0.2267447280883789, 0.22654207229614257, 0.22634029388427734, 0.22613937377929688, 0.22593927383422852, 0.22574007034301757, 0.22554168701171876, 0.22534418106079102, 0.22514751434326172, 0.22495162963867188, 0.22475658416748046, 0.22456233978271484, 0.22436891555786131, 0.22417627334594725, 0.22398439407348633, 0.22379335403442382, 0.22360307693481446, 0.2234135627746582, 0.22322483062744142, 0.2230368423461914, 0.22284961700439454, 0.22266311645507814, 0.22247737884521485, 0.22229242324829102, 0.222108154296875, 0.2219245719909668, 0.22174179077148437, 0.22155967712402344, 0.22137825012207032, 0.22119756698608398, None, None, None, None, None, None, None, None, None, None, None, None, None, None, None, None, None, None, None, None, None, None, None, None, None, None, None, None, None, None, None, None, None, None, None, None, None, None, None, None, None, None, None, None, None, None, None, None, None, None, None, None, None, None, None, None, None, None, None, None, None, None, None, None, None, None, None, None, None, None, None, None, None, None, None, None, None, None, None, None, None, None, None, None, None, None, None, None, None, None, None, None, None, None, None, None, None, None, None, None, None, None, None, None, None, None, None, None, None, None, None, None, None, None, None, None, None, None, None, None, None, None, None, None, None, None, None, None, None, None, None, None, None, None, None, None, None, None, None, None, None, None, None, None, None, None, None, None, None, None, None, None, None, None, None, None, None, None, None, None, None, None, None, None, None, None, None, None, None, None, None, None, None, None, None, None, None, None, None, None, None, None, None, None, None, None, None, None, None, None, None, None, None, None, None, None, None, None, None, None, None, None, None, None, None, None, None, None, None, None, None, None, None, None, None, None, None, None, None, None, None, None, None, None, None, None, None, None, None, None, None, None, None, None, None, None, None, None, None, None, None, None, None, None, None, None, None, None, None, None, None, None, None, None, None, None, None, None, None, None, None, None, None, None, None, None, None, None, None, None, None, None, None, None, None, None, None, None, None, None, None, None, None, None, None, None, None, None, None, None, None, None, None, None, None, None, None, None, None, None, None, None, None, None, None, None, None, None, None, None, None, None, None, None, None, None, None, None, None, None, None, None, None, None, None, None, None, None, None, None, None, None, None, None, None, None, None, None, None, None, None, None, None, None, None, None, None, None, None, None, None, None, None, None, None, None, None, None, None, None, None, None, None, None, None, None, None, None, None, None, None, None, None, None, None, None, None, None, None, None, None, None, None, None, None, None, None, None, None, None, None, None, None, None, None, None, None, None, None, None, None, None, None, None, None, None, None, None, None, None, None, None, None, None, None, None, None, None, None, None, None, None, None, None, None, None, None, None, None, None, None, None, None, None, None, None, None, None, None, None, None, None, None, None, None, None, None, None, None, None, None, None, None, None, None, None, None, None, None, None, None, None, None, None, None, None, None, None, None, None, None, None, None, None, None, None, None, None, None, None, None, None, None, None, None, None, None, None, None, None, None, None, None, None, None, None, None, None, None, None, None, None, None, None, None, None, None, None, None, None, None, None, None, None, None, None, None, None, None, None, None, None, None, None, None, None, None, None, None, None, None, None, None, None, None, None, None, None, None, None, None, None, None, None, None, None, None, None, None, None, None, None, None, None, None, None, None, None, None, None, None, None, None, None, None, None, None, None, None, None, None, None, None, None, None, None, None, None, None, None, None, None, None, None, None, None, None, None, None, None, None, None, None, None, None, None, None, None, None, None, None, None, None, None, None, None, None, None, None, None, None, None, None, None, None, None, None, None, None, None, None, None, None, None, None, None, None, None, None, None, None, None, None, None, None, None, None, None, None, None, None, None, None, None, None, None, None, None, None, None, None, None, None, None, None, None, None, None, None, None, None, None, None, None, None, None, None, None, None, None, None, None, None, None, None, None, None, None, None, None, None, None, None, None, None, None, None, None, None, None, None, None, None, None, None, None, None, None, None, None, None, None, None, None, None, None, None, None, None, None, None, None, None, None, None, None, None, None, None, None, None, None, None, None, None, None, None, None, None, None, None, None, None, None, None, None, None, None, None, None, None, None, None, None, None, None, None, None, None, None, None, None, None, None, None, None, None, None, None, None, None, None, None, None, None, None, None, None, None, None, None, None, None, None, None, None, None, None, None, None, None, None, None, None, None, None, None, None, None, None, None, None, None, None, None, None, None, None, None, None, None, None, None, None, None, None, None, None, None, None, None, None, None, None, None, None, None, None, None, None, None, None, None, None, None, None, None, None, None, None, None, None, None, None, None, None, None, None, None, None, None, None, None, None, None, None, None, None, None, None, None, None, None, None, None, None, None, None, None, None, None, None, None, None, None, None, None, None, None, None, None, None, None, None, None, None, None, None, None, None, None, None, None, None, None, None, None, None, None, None, None, None, None, None, None, None, None, None, None, None, None, None, None, None, None, None, None, None, None, None, None, None, None, None, None, None, None, None, None, None, None, None, None, None, None, None, None, None, None, None, None, None, None, None, None, None, None, None, None, None, None, None, None, None, None, None, None, None, None, None, None, None, None, None, None, None, None, None, None, None, None, None, None, None, None, None, None, None, None, None, None, None, None, None, None, None, None, None, None, None, None, None, None, None, None, None, None, None, None, None, None, None, None, None, None, None, None, None, None, None, None, None, None, None, None, None, None, None, None, None, None, None, None, None, None, None, None, None, None, None, None, None, None, None, None, None, None, None, None, None, None, None, None, None, None, None, None, None, None, None, None, None, None, None, None, None, None, None, None, None, None, None, None, None, None, None, None, None, None, None, None, None, None, None, None, None, None, None, None, None, None, None, None, None, None, None, None, None, None, None, None, None, None, None, None, None, None, None, None, None, None, None, None, None, None, None, None, None, None, None, None, None, None, None, None, None, None, None, None, None, None, None, None, None, None, None, None, None, None, None, None, None, None, None, None, None, None, None, None, None, None, None, None, None, None, None, None, None, None, None, None, None, None, None, None, None, None, None, None, None, None, None, None, None, None, None, None, None, None, None, None, None, None, None, None, None, None, None, None, None, None, None, None, None, None, None, None, None, None, None, None, None, None, None, None, None, None, None, None, None, None, None, None, None, None, None, None, None, None, None, None, None, None, None, None, None, None, None, None, None, None, None, None, None, None, None, None, None, None, None, None, None, None, None, None, None, None, None, None, None, None, None, None, None, None, None, None, None, None, None, None, None, None, None, None, None, None, None, None, None, None, None, None, None, None, None, None, None, None, None, None, None, None, None, None, None, None, None, None, None, None, None, None, None, None, None, None, None, None, None, None, None, None, None, None, None, None, None, None, None, None, None, None, None, None, None, None, None, None, None, None, None, None, None, None, None, None, None, None, None, None, None, None, None, None, None, None, None, None, None, None, None, None, None, None, None, None, None, None, None, None, None, None, None, None, None, None, None, None, None, None, None, None, None, None, None, None, None, None, None, None, None, None, None, None, None, None, None, None, None, None, None, None, None, None, None, None, None, None, None, None, None, None, None, None, None, None, None, None, None, None, None, None, None, None, None, None, None, None, None, None, None, None, None, None, None, None, None, None, None, None, None, None, None, None, None, None, None, None, None, None, None, None, None, None, None, None, None, None, None, None, None, None, None, None, None, None, None, None, None, None, None, None, None, None, None, None, None, None, None, None, None, None, None, None, None, None, None, None, None, None, None, None, None, None, None, None, None, None, None, None, None, None, None, None, None, None, None, None, None, None, None, None, None, None, None, None, None, None, None, None, None, None, None, None, None, None, None, None, None, None, None, None, None, None, None, None, None, None, None, None, None, None, None, None, None, None, None, None, None, None, None, None, None, None, None, None, None, None, None, None, None, None, None, None, None, None, None, None, None, None, None, None, None, None, None, None, None, None, None, None, None, None, None, None, None, None, None, None, None, None, None, None, None, None, None, None, None, None, None, None, None, None, None, None, None, None, None, None, None, None, None, None, None, None, None, None, None, None, None, None, None, None, None, None, None, None, None, None, None, None, None, None, None, None, None, None, None, None, None, None, None, None, None, None, None, None, None, None, None, None, None, None, None, None, None, None, None, None, None, None, None, None, None, None, None, None, None, None, None, None, None, None, None, None, None, None, None, None, None, None, None, None, None, None, None, None, None, None, None, None, None, None, None, None, None, None, None, None, None, None, None, None, None, None, None, None, None, None, None, None, None, None, None, None, None, None, None, None, None, None, None, None, None, None, None, None, None, None, None, None, None, None, None, None, None, None, None, None, None, None, None, None, None, None, None, None, None, None, None, None, None, None, None, None, None, None, None, None, None, None, None, None, None, None, None, None, None, None, None, None, None, None, None, None, None, None, None, None, None, None, None, None, None, None, None, None, None, None, None, None, None, None, None, None, None, None, None, None, None, None, None, None, None, None, None, None, None, None, None, None, None, None, None, None, None, None, None, None, None, None, None, None, None, None, None, None, None, None, None, None, None, None, None, None, None, None, None, None, None, None, None, None, None, None, None, None, None, None, None, None, None, None, None, None, None, None, None, None, None, None, None, None, None, None, None, None, None, None, None, None, None, None, None, None, None, None, None, None, None, None, None, None, None, None, None, None, None, None, None, None, None, None, None, None, None, None, None, None, None, None, None, None, None, None, None, None, None, None, None, None, None, None, None, None, None, None, None, None, None, None, None, None, None, None, None, None, None, None, None, None, None, None, None, None, None, None, None, None, None, None, None, None, None, None, None, None, None, None, None, None, None, None, None, None, None, None, None, None, None, None, None, None, None, None, None, None, None, None, None, None, None, None, None, None, None, None, None, None, None, None, None, None, None, None, None, None, None, None, None, None, None, None, None, None, None, None, None, None, None, None, None, None, None, None, None, None, None, None, None, None, None, None, None, None, None, None, None, None, None, None, None, None, None, None, None, None, None, None, None, None, None, None, None, None, None, None, None, None, None, None, None, None, None, None, None, None, None, None, None, None, None, None, None, None, None, None, None, None, None, None, None, None, None, None, None, None, None, None, None, None, None, None, None, None, None, None, None, None, None, None, None, None, None, None, None, None, None, None, None, None, None, None, None, None, None, None, None, None, None, None, None, None, None, None, None, None, None, None, None, None, None, None, None, None, None, None, None, None, None, None, None, None, None, None, None, None, None, None, None, None, None, None, None, None, None, None, None, None, None, None, None, None, None, None, None, None, None, None, None, None, None, None, None, None, None, None, None, None, None, None, None, None, None, None, None, None, None, None, None, None, None, None, None, None, None, None, None, None, None, None, None, None, None, None, None, None, None, None, None, None, None, None, None, None, None, None, None, None, None, None, None, None, None, None, None, None, None, None, None, None, None, None, None, None, None, None, None, None, None, None, None, None, None, None, None, None, None, None, None, None, None, None, None, None, None, None, None, None, None, None, None, None, None, None, None, None, None, None, None, None, None, None, None, None, None, None, None, None, None, None, None, None, None, None, None, None, None, None, None, None, None, None, None, None, None, None, None, None, None, None, None, None, None, None, None, None, None, None, None, None, None, None, None, None, None, None, None, None, None, None, None, None, None, None, None, None, None, None, None, None, None, None, None, None, None, None, None, None, None, None, None, None, None, None, None, None, None, None, None, None, None, None, None, None, None, None, None, None, None, None, None, None, None, None, None, None, None, None, None, None, None, None, None, None, None, None, None, None, None, None, None, None, None, None, None, None, None, None, None, None, None, None, None, None, None, None, None, None, None, None, None, None, None, None, None, None, None, None, None, None, None, None, None, None, None, None, None, None, None, None, None, None, None, None, None, None, None, None, None, None, None, None, None, None, None, None, None, None, None, None, None, None, None, None, None, None, None, None, None, None, None, None, None, None, None, None, None, None, None, None, None, None, None, None, None, None, None, None, None, None, None, None, None, None, None, None, None, None, None, None, None, None, None, None, None, None, None, None, None, None, None, None, None, None, None, None, None, None, None, None, None, None, None, None, None, None, None, None, None, None, None, None, None, None, None, None, None, None, None, None, None, None, None, None, None, None, None, None, None, None, None, None, None, None, None, None, None, None, None, None, None, None, None, None, None, None, None, None, None, None, None, None, None, None, None, None, None, None, None, None, None, None, None, None, None, None, None, None, None, None, None, None, None, None, None, None, None, None, None, None, None, None, None, None, None, None, None, None, None, None, None, None, None, None, None, None, None, None, None, None, None, None, None, None, None, None, None, None, None, None, None, None, None, None, None, None, None, None, None, None, None, None, None, None, None, None, None, None, None, None, None, None, None, None, None, None, None, None, None, None, None, None, None, None, None, None, None, None, None, None, None, None, None, None, None, None, None, None, None, None, None, None, None, None, None, None, None, None, None, None, None, None, None, None, None, None, None, None, None, None, None, None, None, None, None, None, None, None, None, None, None, None, None, None, None, None, None, None, None, None, None, None, None, None, None, None, None, None, None, None, None, None, None, None, None, None, None, None, None, None, None, None, None, None, None, None, None, None, None, None, None, None, None, None, None, None, None, None, None, None, None, None, None, None, None, None, None, None, None, None, None, None, None, None, None, None, None, None, None, None, None, None, None, None, None, None, None, None, None, None, None, None, None, None, None, None, None, None, None, None, None, None, None, None, None, None, None, None, None, None, None, None, None, None, None, None, None, None, None, None, None, None, None, None, None, None, None, None, None, None, None, None, None, None, None, None, None, None, None, None, None, None, None, None, None, None, None, None, None, None, None, None, None, None, None, None, None, None, None, None, None, None, None, None, None, None, None, None, None, None, None, None, None, None, None, None, None, None, None, None, None, None, None, None, None, None, None, None, None, None, None, None, None, None, None, None, None, None, None, None, None, None, None, None, None, None, None, None, None, None, None, None, None, None, None, None, None, None, None, None, None, None, None, None, None, None, None, None, None, None, None, None, None, None, None, None, None, None, None, None, None, None, None, None, None, None, None, None, None, None, None, None, None, None, None, None, None, None, None, None, None, None, None, None, None, None, None, None, None, None, None, None, None, None, None, None, None, None, None, None, None, None, None, None, None, None, None, None, None, None, None, None, None, None, None, None, None, None, None, None, None, None, None, None, None, None, None, None, None, None, None, None, None, None, None, None, None, None, None, None, None, None, None, None, None, None, None, None, None, None, None, None, None, None, None, None, None, None, None, None, None, None, None, None, None, None, None, None, None, None, None, None, None, None, None, None, None, None, None, None, None, None, None, None, None, None, None, None, None, None, None, None, None, None, None, None, None, None, None, None, None, None, None, None, None, None, None, None, None, None, None, None, None, None, None, None, None, None, None, None, None, None, None, None, None, None, None, None, None, None, None, None, None, None, None, None, None, None, None, None, None, None, None, None, None, None, None, None, None, None, None, None, None, None, None, None, None, None, None, None, None, None, None, None, None, None, None, None, None, None, None, None, None, None, None, None, None, None, None, None, None, None, None, None, None, None, None, None, None, None, None, None, None, None, None, None, None, None, None, None, None, None, None, None, None, None, None, None, None, None, None, None, None, None, None, None, None, None, None, None, None, None, None, None, None, None, None, None, None, None, None, None, None, None, None, None, None, None, None, None, None, None, None, None, None, None, None, None, None, None, None, None, None, None, None, None, None, None, None, None, None, None, None, None, None, None, None, None, None, None, None, None, None, None, None, None, None, None, None, None, None, None, None, None, None, None, None, None, None, None, None, None, None, None, None, None, None, None, None, None, None, None, None, None, None, None, None, None, None, None, None, None, None, None, None, None, None, None, None, None, None, None, None, None, None, None, None, None, None, None, None, None, None, None, None, None, None, None, None, None, None, None, None, None, None, None, None, None, None, None, None, None, None, None, None, None, None, None, None, None, None, None, None, None, None, None, None, None, None, None, None, None, None, None, None, None, None, None, None, None, None, None, None, None, None, None, None, None, None, None, None, None, None, None, None, None, None, None, None, None, None, None, None, None, None, None, None, None, None, None, None, None, None, None, None, None, None, None, None, None, None, None, None, None, None, None, None, None, None, None, None, None, None, None, None, None, None, None, None, None, None, None, None, None, None, None, None, None, None, None, None, None, None, None, None, None, None, None, None, None, None, None, None, None, None, None, None, None, None, None, None, None, None, None, None, None, None, None, None, None, None, None, None, None, None, None, None, None, None, None, None, None, None, None, None, None, None, None, None, None, None, None, None, None, None, None, None, None, None, None, None, None, None, None, None, None, None, None, None, None, None, None, None, None, None, None, None, None, None, None, None, None, None, None, None, None, None, None, None, None, None, None, None, None, None, None, None, None, None, None, None, None, None, None, None, None, None, None, None, None, None, None, None, None, None, None, None, None, None, None, None, None, None, None, None, None, None, None, None, None, None, None, None, None, None, None, None, None, None, None, None, None, None, None, None, None, None, None, None, None, None, None, None, None, None, None, None, None, None, None, None, None, None, None, None, None, None, None, None, None, None, None, None, None, None, None, None, None, None, None, None, None, None, None, None, None, None, None, None, None, None, None, None, None, None, None, None, None, None, None, None, None, None, None, None, None, None, None, None, None, None, None, None, None, None, None, None, None, None, None, None, None, None, None, None, None, None, None, None, None, None, None, None, None, None, None, None, None, None, None, None, None, None, None, None, None, None, None, None, None, None, None, None, None, None, None, None, None, None, None, None, None, None, None, None, None, None, None, None, None, None, None, None, None, None, None, None, None, None, None, None, None, None, None, None, None, None, None, None, None, None, None, None, None, None, None, None, None, None, None, None, None, None, None, None, None, None, None, None, None, None, None, None, None, None, None, None, None, None, None, None, None, None, None, None, None, None, None, None, None, None, None, None, None, None, None, None, None, None, None, None, None, None, None, None, None, None, None, None, None, None, None, None, None, None, None, None, None, None, None, None, None, None, None, None, None, None, None, None, None, None, None, None, None, None, None, None, None, None, None, None, None, None, None, None, None, None, None, None, None, None, None, None, None, None, None, None, None, None, None, None, None, None, None, None, None, None, None, None, None, None, None, None, None, None, None, None, None, None, None, None, None, None, None, None, None, None, None, None, None, None, None, None, None, None, None, None, None, None, None, None, None, None, None, None, None, None, None, None, None, None, None, None, None, None, None, None, None, None, None, None, None, None, None, None, None, None, None, None, None, None, None, None, None, None, None, None, None, None, None, None, None, None, None, None, None, None, None, None, None, None, None, None, None, None, None, None, None, None, None, None, None, None, None, None, None, None, None, None, None, None, None, None, None, None, None, None, None, None, None, None, None, None, None, None, None, None, None, None, None, None, None, None, None, None, None, None, None, None, None, None, None, None, None, None, None, None, None, None, None, None, None, None, None, None, None, None, None, None, None, None, None, None, None, None, None, None, None, None, None, None, None, None, None, None, None, None, None, None, None, None, None, None, None, None, None, None, None, None, None, None, None, None, None, None, None, None, None, None, None, None, None, None, None, None, None, None, None, None, None, None, None, None, None, None, None, None, None, None, None, None, None, None, None, None, None, None, None, None, None, None, None, None, None, None, None, None, None, None, None, None, None, None, None, None, None, None, None, None, None, None, None, None, None, None, None, None, None, None, None, None, None, None, None, None, None, None, None, None, None, None, None, None, None, None, None, None, None, None, None, None, None, None, None, None, None, None, None, None, None, None, None, None, None, None, None, None, None, None, None, None, None, None, None, None, None, None, None, None, None, None, None, None, None, None, None, None, None, None, None, None, None, None, None, None, None, None, None, None, None, None, None, None, None, None, None, None, None, None, None, None, None, None, None, None, None, None, None, None, None, None, None, None, None, None, None, None, None, None, None, None, None, None, None, None, None, None, None, None, None, None, None, None, None, None, None, None, None, None, None, None, None, None, None, None, None, None, None, None, None, None, None, None, None, None, None, None, None, None, None, None, None, None, None, None, None, None, None, None, None, None, None, None, None, None, None, None, None, None, None, None, None, None, None, None, None, None, None, None, None, None, None, None, None, None, None, None, None, None, None, None, None, None, None, None, None, None, None, None, None, None, None, None, None, None, None, None, None, None, None, None, None, None, None, None, None, None, None, None, None, None, None, None, None, None, None, None, None, None, None, None, None, None, None, None, None, None, None, None, None, None, None, None, None, None, None, None, None, None, None, None, None, None, None, None, None, None, None, None, None, None, None, None, None, None, None, None, None, None, None, None, None, None, None, None, None, None, None, None, None, None, None, None, None, None, None, None, None, None, None, None, None, None, None, None, None, None, None, None, None, None, None, None, None, None, None, None, None, None, None, None, None, None, None, None, None, None, None, None, None, None, None, None, None, None, None, None, None, None, None, None, None, None, None, None, None, None, None, None, None, None, None, None, None, None, None, None, None, None, None, None, None, None, None, None, None, None, None, None, None, None, None, None, None, None, None, None, None, None, None, None, None, None, None, None, None, None, None, None, None, None, None, None, None, None, None, None, None, None, None, None, None, None, None, None, None, None, None, None, None, None, None, None, None, None, None, None, None, None, None, None, None, None, None, None, None, None, None, None, None, None, None, None, None, None, None, None, None, None, None, None, None, None, None, None, None, None, None, None, None, None, None, None, None, None, None, None, None, None, None, None, None, None, None, None, None, None, None, None, None, None, None, None, None, None, None, None, None, None, None, None, None, None, None, None, None, None, None, None, None, None, None, None, None, None, None, None, None, None, None, None, None, None, None, None, None, None, None, None, None, None, None, None, None, None, None, None, None, None, None, None, None, None, None, None, None, None, None, None, None, None, None, None, None, None, None, None, None, None, None, None, None, None, None, None, None, None, None, None, None, None, None, None, None, None, None, None, None, None, None, None, None, None, None, None, None, None, None, None, None, None, None, None, None, None, None, None, None, None, None, None, None, None, None, None, None, None, None, None, None, None, None, None, None, None, None, None, None, None, None, None, None, None, None, None, None, None, None, None, None, None, None, None, None, None, None, None, None, None, None, None, None, None, None, None, None, None, None, None, None, None, None, None, None, None, None, None, None, None, None, None, None, None, None, None, None, None, None, None, None, None, None, None, None, None, None, None, None, None, None, None, None, None, None, None, None, None, None, None, None, None, None, None, None, None, None, None, None, None, None, None, None, None, None, None, None, None, None, None, None, None, None, None, None, None, None, None, None, None, None, None, None, None, None, None, None, None, None, None, None, None, None, None, None], \n",
            "\t[0.6861796975135803, 0.6603144407272339, 0.6372330188751221, 0.6151419281959534, 0.5956043601036072, 0.5782619714736938, 0.5625877976417542, 0.5485715866088867, 0.536011278629303, 0.524665355682373, 0.5144107937812805, 0.5051054358482361, 0.49662187695503235, 0.4888637065887451, 0.4817424714565277, 0.4751807749271393, 0.4691164791584015, 0.46349355578422546, 0.4582647383213043, 0.4533880650997162, 0.44882816076278687, 0.4445541203022003, 0.4405391216278076, 0.43675869703292847, 0.4331921935081482, 0.42982199788093567, 0.4266306757926941, 0.4236045777797699, 0.42072999477386475, 0.41799619793891907, 0.41539210081100464, 0.4129091501235962, 0.4105382263660431, 0.40827232599258423, 0.4061043858528137, 0.4040280878543854, 0.4020376205444336, 0.4001275897026062, 0.398293673992157, 0.39653119444847107, 0.3948361873626709, 0.3932044208049774, 0.3916332423686981, 0.39011940360069275, 0.3886593282222748, 0.38725054264068604, 0.38589054346084595, 0.3845766484737396, 0.3833072781562805, 0.3820798099040985, 0.38089239597320557, 0.37974321842193604, 0.37863054871559143, 0.37755292654037476, 0.3765082061290741, 0.3754960298538208, 0.3745144307613373, 0.37356218695640564, 0.3726375102996826, 0.37174028158187866, 0.37086910009384155, 0.3700227439403534, 0.3692002296447754, 0.36840054392814636, 0.3676230311393738, 0.3668672442436218, 0.36613160371780396, 0.36541563272476196, 0.364719033241272, 0.3640407919883728, 0.36338016390800476, 0.36273646354675293, 0.3621096611022949, 0.36149856448173523, 0.36090272665023804, 0.36032235622406006, 0.3597560226917267, 0.3592036962509155, 0.35866451263427734, 0.35813871026039124, 0.3576253056526184, 0.3571244180202484, 0.356635183095932, 0.3561576008796692, 0.35569098591804504, 0.35523486137390137, 0.3547896146774292, 0.3543545603752136, 0.3539290428161621, 0.35351336002349854, 0.3531065583229065, 0.35270926356315613, 0.3523203134536743, 0.3519401550292969, 0.35156819224357605, 0.3512042462825775, 0.35084807872772217, 0.3504994511604309, 0.3501584529876709, 0.3498243987560272, 0.34949761629104614, 0.34917736053466797, 0.3488640785217285, 0.348556786775589, 0.34825608134269714, 0.3479616940021515, 0.3476731479167938, 0.3473900854587555, 0.34711286425590515, 0.34684112668037415, 0.34657496213912964, 0.34631407260894775, 0.3460579216480255, 0.3458072543144226, 0.34556153416633606, 0.34532037377357483, 0.345083624124527, 0.344851553440094, 0.34462422132492065, 0.3444010615348816, 0.34418195486068726, 0.3439671993255615, 0.34375646710395813, 0.3435499668121338, 0.34334680438041687, 0.3431474566459656, 0.3429521918296814, 0.34276020526885986, 0.3425721526145935, 0.3423870801925659, 0.34220534563064575, 0.34202754497528076, 0.341852605342865, 0.3416806757450104, 0.3415120840072632, 0.3413466811180115, 0.3411838710308075, 0.341024249792099, 0.3408675491809845, 0.34071317315101624, 0.3405619263648987, 0.34041333198547363, 0.3402673602104187, 0.3401241600513458, 0.3399832546710968, 0.3398447334766388, 0.3397088050842285, 0.3395751714706421, 0.33944404125213623, 0.33931493759155273, 0.33918851613998413, 0.33906394243240356, 0.33894166350364685, 0.3388214409351349, 0.3387032747268677, 0.3385870158672333, 0.3384731709957123, 0.33836114406585693, 0.3382512629032135, 0.33814260363578796, 0.33803650736808777, 0.33793190121650696, 0.3378293514251709, 0.3377283215522766, 0.33762919902801514, 0.3375316858291626, 0.3374359607696533, 0.3373420238494873, 0.3372493088245392, 0.3371583819389343, 0.3370691239833832, 0.3369813561439514, 0.33689507842063904, 0.3368102014064789, 0.33672723174095154, 0.3366449773311615, 0.3365645408630371, 0.33648553490638733, 0.33640798926353455, 0.33633139729499817, 0.3362567126750946, 0.3361830711364746, 0.33611053228378296, 0.3360395133495331, 0.3359696567058563, 0.3359009027481079, 0.3358336389064789, 0.33576735854148865, 0.33570238947868347, 0.33563873171806335, 0.3355758786201477, 0.33551421761512756, 0.33545392751693726, 0.33539441227912903, 0.3353356122970581, 0.3352784514427185, 0.335222452878952, 0.3351670503616333, 0.3351130783557892, 0.33505958318710327, 0.3350076377391815, 0.3349563181400299, 0.33490586280822754, 0.3348563611507416, 0.3348080813884735, 0.3347606062889099, 0.3347139358520508, 0.33466824889183044, 0.3346233069896698, 0.3345794081687927, 0.3345361053943634, 0.3344937562942505, 0.33445242047309875, 0.33441174030303955, 0.33437204360961914, 0.3343327045440674, 0.3342945873737335, 0.33425694704055786, 0.3342202305793762, 0.33418434858322144, 0.33414921164512634, 0.3341146409511566, 0.3340809643268585, 0.33404773473739624, 0.334015429019928, 0.33398380875587463, 0.33395296335220337, 0.3339225649833679, 0.3338927626609802, 0.3338641822338104, 0.3338358402252197, 0.33380791544914246, 0.3337811529636383, 0.3337547183036804, 0.3337288200855255, 0.3337038457393646, 0.33367910981178284, 0.3336551785469055, 0.3336320221424103, 0.33360928297042847, 0.3335869610309601, 0.333565354347229, 0.33354437351226807, 0.3335238993167877, 0.3335038423538208, 0.333484411239624, 0.33346545696258545, 0.33344724774360657, 0.3334295153617859, 0.3334123492240906, 0.3333953320980072, 0.3333791196346283, 0.33336329460144043, 0.33334800601005554, 0.3333331048488617, 0.3333187699317932, 0.33330512046813965, 0.3332917392253876, 0.33327892422676086, 0.33326631784439087, 0.3332543671131134, 0.33324286341667175, 0.33323177695274353, 0.33322107791900635, 0.3332110047340393, 0.3332010805606842, 0.3331916630268097, 0.3331828713417053, 0.33317434787750244, 0.3331660032272339, 0.333158403635025, 0.3331514894962311, 0.33314430713653564, 0.33313775062561035, 0.3331313729286194, 0.3331259489059448, 0.3331206440925598, 0.33311575651168823, 0.3331109583377838, 0.3331068158149719, 0.3331030309200287, 0.33309945464134216, 0.3330959677696228, 0.3330932855606079, 0.33309081196784973, 0.33308884501457214, 0.3330867886543274, 0.333085298538208, 0.33308422565460205, 0.3330833613872528, 0.3330831825733185, 0.33308306336402893, 0.33308321237564087, 0.33308371901512146, 0.3330844044685364, None, None, None, None, None, None, None, None, None, None, None, None, None, None, None, None, None, None, None, None, None, None, None, None, None, None, None, None, None, None, None, None, None, None, None, None, None, None, None, None, None, None, None, None, None, None, None, None, None, None, None, None, None, None, None, None, None, None, None, None, None, None, None, None, None, None, None, None, None, None, None, None, None, None, None, None, None, None, None, None, None, None, None, None, None, None, None, None, None, None, None, None, None, None, None, None, None, None, None, None, None, None, None, None, None, None, None, None, None, None, None, None, None, None, None, None, None, None, None, None, None, None, None, None, None, None, None, None, None, None, None, None, None, None, None, None, None, None, None, None, None, None, None, None, None, None, None, None, None, None, None, None, None, None, None, None, None, None, None, None, None, None, None, None, None, None, None, None, None, None, None, None, None, None, None, None, None, None, None, None, None, None, None, None, None, None, None, None, None, None, None, None, None, None, None, None, None, None, None, None, None, None, None, None, None, None, None, None, None, None, None, None, None, None, None, None, None, None, None, None, None, None, None, None, None, None, None, None, None, None, None, None, None, None, None, None, None, None, None, None, None, None, None, None, None, None, None, None, None, None, None, None, None, None, None, None, None, None, None, None, None, None, None, None, None, None, None, None, None, None, None, None, None, None, None, None, None, None, None, None, None, None, None, None, None, None, None, None, None, None, None, None, None, None, None, None, None, None, None, None, None, None, None, None, None, None, None, None, None, None, None, None, None, None, None, None, None, None, None, None, None, None, None, None, None, None, None, None, None, None, None, None, None, None, None, None, None, None, None, None, None, None, None, None, None, None, None, None, None, None, None, None, None, None, None, None, None, None, None, None, None, None, None, None, None, None, None, None, None, None, None, None, None, None, None, None, None, None, None, None, None, None, None, None, None, None, None, None, None, None, None, None, None, None, None, None, None, None, None, None, None, None, None, None, None, None, None, None, None, None, None, None, None, None, None, None, None, None, None, None, None, None, None, None, None, None, None, None, None, None, None, None, None, None, None, None, None, None, None, None, None, None, None, None, None, None, None, None, None, None, None, None, None, None, None, None, None, None, None, None, None, None, None, None, None, None, None, None, None, None, None, None, None, None, None, None, None, None, None, None, None, None, None, None, None, None, None, None, None, None, None, None, None, None, None, None, None, None, None, None, None, None, None, None, None, None, None, None, None, None, None, None, None, None, None, None, None, None, None, None, None, None, None, None, None, None, None, None, None, None, None, None, None, None, None, None, None, None, None, None, None, None, None, None, None, None, None, None, None, None, None, None, None, None, None, None, None, None, None, None, None, None, None, None, None, None, None, None, None, None, None, None, None, None, None, None, None, None, None, None, None, None, None, None, None, None, None, None, None, None, None, None, None, None, None, None, None, None, None, None, None, None, None, None, None, None, None, None, None, None, None, None, None, None, None, None, None, None, None, None, None, None, None, None, None, None, None, None, None, None, None, None, None, None, None, None, None, None, None, None, None, None, None, None, None, None, None, None, None, None, None, None, None, None, None, None, None, None, None, None, None, None, None, None, None, None, None, None, None, None, None, None, None, None, None, None, None, None, None, None, None, None, None, None, None, None, None, None, None, None, None, None, None, None, None, None, None, None, None, None, None, None, None, None, None, None, None, None, None, None, None, None, None, None, None, None, None, None, None, None, None, None, None, None, None, None, None, None, None, None, None, None, None, None, None, None, None, None, None, None, None, None, None, None, None, None, None, None, None, None, None, None, None, None, None, None, None, None, None, None, None, None, None, None, None, None, None, None, None, None, None, None, None, None, None, None, None, None, None, None, None, None, None, None, None, None, None, None, None, None, None, None, None, None, None, None, None, None, None, None, None, None, None, None, None, None, None, None, None, None, None, None, None, None, None, None, None, None, None, None, None, None, None, None, None, None, None, None, None, None, None, None, None, None, None, None, None, None, None, None, None, None, None, None, None, None, None, None, None, None, None, None, None, None, None, None, None, None, None, None, None, None, None, None, None, None, None, None, None, None, None, None, None, None, None, None, None, None, None, None, None, None, None, None, None, None, None, None, None, None, None, None, None, None, None, None, None, None, None, None, None, None, None, None, None, None, None, None, None, None, None, None, None, None, None, None, None, None, None, None, None, None, None, None, None, None, None, None, None, None, None, None, None, None, None, None, None, None, None, None, None, None, None, None, None, None, None, None, None, None, None, None, None, None, None, None, None, None, None, None, None, None, None, None, None, None, None, None, None, None, None, None, None, None, None, None, None, None, None, None, None, None, None, None, None, None, None, None, None, None, None, None, None, None, None, None, None, None, None, None, None, None, None, None, None, None, None, None, None, None, None, None, None, None, None, None, None, None, None, None, None, None, None, None, None, None, None, None, None, None, None, None, None, None, None, None, None, None, None, None, None, None, None, None, None, None, None, None, None, None, None, None, None, None, None, None, None, None, None, None, None, None, None, None, None, None, None, None, None, None, None, None, None, None, None, None, None, None, None, None, None, None, None, None, None, None, None, None, None, None, None, None, None, None, None, None, None, None, None, None, None, None, None, None, None, None, None, None, None, None, None, None, None, None, None, None, None, None, None, None, None, None, None, None, None, None, None, None, None, None, None, None, None, None, None, None, None, None, None, None, None, None, None, None, None, None, None, None, None, None, None, None, None, None, None, None, None, None, None, None, None, None, None, None, None, None, None, None, None, None, None, None, None, None, None, None, None, None, None, None, None, None, None, None, None, None, None, None, None, None, None, None, None, None, None, None, None, None, None, None, None, None, None, None, None, None, None, None, None, None, None, None, None, None, None, None, None, None, None, None, None, None, None, None, None, None, None, None, None, None, None, None, None, None, None, None, None, None, None, None, None, None, None, None, None, None, None, None, None, None, None, None, None, None, None, None, None, None, None, None, None, None, None, None, None, None, None, None, None, None, None, None, None, None, None, None, None, None, None, None, None, None, None, None, None, None, None, None, None, None, None, None, None, None, None, None, None, None, None, None, None, None, None, None, None, None, None, None, None, None, None, None, None, None, None, None, None, None, None, None, None, None, None, None, None, None, None, None, None, None, None, None, None, None, None, None, None, None, None, None, None, None, None, None, None, None, None, None, None, None, None, None, None, None, None, None, None, None, None, None, None, None, None, None, None, None, None, None, None, None, None, None, None, None, None, None, None, None, None, None, None, None, None, None, None, None, None, None, None, None, None, None, None, None, None, None, None, None, None, None, None, None, None, None, None, None, None, None, None, None, None, None, None, None, None, None, None, None, None, None, None, None, None, None, None, None, None, None, None, None, None, None, None, None, None, None, None, None, None, None, None, None, None, None, None, None, None, None, None, None, None, None, None, None, None, None, None, None, None, None, None, None, None, None, None, None, None, None, None, None, None, None, None, None, None, None, None, None, None, None, None, None, None, None, None, None, None, None, None, None, None, None, None, None, None, None, None, None, None, None, None, None, None, None, None, None, None, None, None, None, None, None, None, None, None, None, None, None, None, None, None, None, None, None, None, None, None, None, None, None, None, None, None, None, None, None, None, None, None, None, None, None, None, None, None, None, None, None, None, None, None, None, None, None, None, None, None, None, None, None, None, None, None, None, None, None, None, None, None, None, None, None, None, None, None, None, None, None, None, None, None, None, None, None, None, None, None, None, None, None, None, None, None, None, None, None, None, None, None, None, None, None, None, None, None, None, None, None, None, None, None, None, None, None, None, None, None, None, None, None, None, None, None, None, None, None, None, None, None, None, None, None, None, None, None, None, None, None, None, None, None, None, None, None, None, None, None, None, None, None, None, None, None, None, None, None, None, None, None, None, None, None, None, None, None, None, None, None, None, None, None, None, None, None, None, None, None, None, None, None, None, None, None, None, None, None, None, None, None, None, None, None, None, None, None, None, None, None, None, None, None, None, None, None, None, None, None, None, None, None, None, None, None, None, None, None, None, None, None, None, None, None, None, None, None, None, None, None, None, None, None, None, None, None, None, None, None, None, None, None, None, None, None, None, None, None, None, None, None, None, None, None, None, None, None, None, None, None, None, None, None, None, None, None, None, None, None, None, None, None, None, None, None, None, None, None, None, None, None, None, None, None, None, None, None, None, None, None, None, None, None, None, None, None, None, None, None, None, None, None, None, None, None, None, None, None, None, None, None, None, None, None, None, None, None, None, None, None, None, None, None, None, None, None, None, None, None, None, None, None, None, None, None, None, None, None, None, None, None, None, None, None, None, None, None, None, None, None, None, None, None, None, None, None, None, None, None, None, None, None, None, None, None, None, None, None, None, None, None, None, None, None, None, None, None, None, None, None, None, None, None, None, None, None, None, None, None, None, None, None, None, None, None, None, None, None, None, None, None, None, None, None, None, None, None, None, None, None, None, None, None, None, None, None, None, None, None, None, None, None, None, None, None, None, None, None, None, None, None, None, None, None, None, None, None, None, None, None, None, None, None, None, None, None, None, None, None, None, None, None, None, None, None, None, None, None, None, None, None, None, None, None, None, None, None, None, None, None, None, None, None, None, None, None, None, None, None, None, None, None, None, None, None, None, None, None, None, None, None, None, None, None, None, None, None, None, None, None, None, None, None, None, None, None, None, None, None, None, None, None, None, None, None, None, None, None, None, None, None, None, None, None, None, None, None, None, None, None, None, None, None, None, None, None, None, None, None, None, None, None, None, None, None, None, None, None, None, None, None, None, None, None, None, None, None, None, None, None, None, None, None, None, None, None, None, None, None, None, None, None, None, None, None, None, None, None, None, None, None, None, None, None, None, None, None, None, None, None, None, None, None, None, None, None, None, None, None, None, None, None, None, None, None, None, None, None, None, None, None, None, None, None, None, None, None, None, None, None, None, None, None, None, None, None, None, None, None, None, None, None, None, None, None, None, None, None, None, None, None, None, None, None, None, None, None, None, None, None, None, None, None, None, None, None, None, None, None, None, None, None, None, None, None, None, None, None, None, None, None, None, None, None, None, None, None, None, None, None, None, None, None, None, None, None, None, None, None, None, None, None, None, None, None, None, None, None, None, None, None, None, None, None, None, None, None, None, None, None, None, None, None, None, None, None, None, None, None, None, None, None, None, None, None, None, None, None, None, None, None, None, None, None, None, None, None, None, None, None, None, None, None, None, None, None, None, None, None, None, None, None, None, None, None, None, None, None, None, None, None, None, None, None, None, None, None, None, None, None, None, None, None, None, None, None, None, None, None, None, None, None, None, None, None, None, None, None, None, None, None, None, None, None, None, None, None, None, None, None, None, None, None, None, None, None, None, None, None, None, None, None, None, None, None, None, None, None, None, None, None, None, None, None, None, None, None, None, None, None, None, None, None, None, None, None, None, None, None, None, None, None, None, None, None, None, None, None, None, None, None, None, None, None, None, None, None, None, None, None, None, None, None, None, None, None, None, None, None, None, None, None, None, None, None, None, None, None, None, None, None, None, None, None, None, None, None, None, None, None, None, None, None, None, None, None, None, None, None, None, None, None, None, None, None, None, None, None, None, None, None, None, None, None, None, None, None, None, None, None, None, None, None, None, None, None, None, None, None, None, None, None, None, None, None, None, None, None, None, None, None, None, None, None, None, None, None, None, None, None, None, None, None, None, None, None, None, None, None, None, None, None, None, None, None, None, None, None, None, None, None, None, None, None, None, None, None, None, None, None, None, None, None, None, None, None, None, None, None, None, None, None, None, None, None, None, None, None, None, None, None, None, None, None, None, None, None, None, None, None, None, None, None, None, None, None, None, None, None, None, None, None, None, None, None, None, None, None, None, None, None, None, None, None, None, None, None, None, None, None, None, None, None, None, None, None, None, None, None, None, None, None, None, None, None, None, None, None, None, None, None, None, None, None, None, None, None, None, None, None, None, None, None, None, None, None, None, None, None, None, None, None, None, None, None, None, None, None, None, None, None, None, None, None, None, None, None, None, None, None, None, None, None, None, None, None, None, None, None, None, None, None, None, None, None, None, None, None, None, None, None, None, None, None, None, None, None, None, None, None, None, None, None, None, None, None, None, None, None, None, None, None, None, None, None, None, None, None, None, None, None, None, None, None, None, None, None, None, None, None, None, None, None, None, None, None, None, None, None, None, None, None, None, None, None, None, None, None, None, None, None, None, None, None, None, None, None, None, None, None, None, None, None, None, None, None, None, None, None, None, None, None, None, None, None, None, None, None, None, None, None, None, None, None, None, None, None, None, None, None, None, None, None, None, None, None, None, None, None, None, None, None, None, None, None, None, None, None, None, None, None, None, None, None, None, None, None, None, None, None, None, None, None, None, None, None, None, None, None, None, None, None, None, None, None, None, None, None, None, None, None, None, None, None, None, None, None, None, None, None, None, None, None, None, None, None, None, None, None, None, None, None, None, None, None, None, None, None, None, None, None, None, None, None, None, None, None, None, None, None, None, None, None, None, None, None, None, None, None, None, None, None, None, None, None, None, None, None, None, None, None, None, None, None, None, None, None, None, None, None, None, None, None, None, None, None, None, None, None, None, None, None, None, None, None, None, None, None, None, None, None, None, None, None, None, None, None, None, None, None, None, None, None, None, None, None, None, None, None, None, None, None, None, None, None, None, None, None, None, None, None, None, None, None, None, None, None, None, None, None, None, None, None, None, None, None, None, None, None, None, None, None, None, None, None, None, None, None, None, None, None, None, None, None, None, None, None, None, None, None, None, None, None, None, None, None, None, None, None, None, None, None, None, None, None, None, None, None, None, None, None, None, None, None, None, None, None, None, None, None, None, None, None, None, None, None, None, None, None, None, None, None, None, None, None, None, None, None, None, None, None, None, None, None, None, None, None, None, None, None, None, None, None, None, None, None, None, None, None, None, None, None, None, None, None, None, None, None, None, None, None, None, None, None, None, None, None, None, None, None, None, None, None, None, None, None, None, None, None, None, None, None, None, None, None, None, None, None, None, None, None, None, None, None, None, None, None, None, None, None, None, None, None, None, None, None, None, None, None, None, None, None, None, None, None, None, None, None, None, None, None, None, None, None, None, None, None, None, None, None, None, None, None, None, None, None, None, None, None, None, None, None, None, None, None, None, None, None, None, None, None, None, None, None, None, None, None, None, None, None, None, None, None, None, None, None, None, None, None, None, None, None, None, None, None, None, None, None, None, None, None, None, None, None, None, None, None, None, None, None, None, None, None, None, None, None, None, None, None, None, None, None, None, None, None, None, None, None, None, None, None, None, None, None, None, None, None, None, None, None, None, None, None, None, None, None, None, None, None, None, None, None, None, None, None, None, None, None, None, None, None, None, None, None, None, None, None, None, None, None, None, None, None, None, None, None, None, None, None, None, None, None, None, None, None, None, None, None, None, None, None, None, None, None, None, None, None, None, None, None, None, None, None, None, None, None, None, None, None, None, None, None, None, None, None, None, None, None, None, None, None, None, None, None, None, None, None, None, None, None, None, None, None, None, None, None, None, None, None, None, None, None, None, None, None, None, None, None, None, None, None, None, None, None, None, None, None, None, None, None, None, None, None, None, None, None, None, None, None, None, None, None, None, None, None, None, None, None, None, None, None, None, None, None, None, None, None, None, None, None, None, None, None, None, None, None, None, None, None, None, None, None, None, None, None, None, None, None, None, None, None, None, None, None, None, None, None, None, None, None, None, None, None, None, None, None, None, None, None, None, None, None, None, None, None, None, None, None, None, None, None, None, None, None, None, None, None, None, None, None, None, None, None, None, None, None, None, None, None, None, None, None, None, None, None, None, None, None, None, None, None, None, None, None, None, None, None, None, None, None, None, None, None, None, None, None, None, None, None, None, None, None, None, None, None, None, None, None, None, None, None, None, None, None, None, None, None, None, None, None, None, None, None, None, None, None, None, None, None, None, None, None, None, None, None, None, None, None, None, None, None, None, None, None, None, None, None, None, None, None, None, None, None, None, None, None, None, None, None, None, None, None, None, None, None, None, None, None, None, None, None, None, None, None, None, None, None, None, None, None, None, None, None, None, None, None, None, None, None, None, None, None, None, None, None, None, None, None, None, None, None, None, None, None, None, None, None, None, None, None, None, None, None, None, None, None, None, None, None, None, None, None, None, None, None, None, None, None, None, None, None, None, None, None, None, None, None, None, None, None, None, None, None, None, None, None, None, None, None, None, None, None, None, None, None, None, None, None, None, None, None, None, None, None, None, None, None, None, None, None, None, None, None, None, None, None, None, None, None, None, None, None, None, None, None, None, None, None, None, None, None, None, None, None, None, None, None, None, None, None, None, None, None, None, None, None, None, None, None, None, None, None, None, None, None, None, None, None, None, None, None, None, None, None, None, None, None, None, None, None, None, None, None, None, None, None, None, None, None, None, None, None, None, None, None, None, None, None, None, None, None, None, None, None, None, None, None, None, None, None, None, None, None, None, None, None, None, None, None, None, None, None, None, None, None, None, None, None, None, None, None, None, None, None, None, None, None, None, None, None, None, None, None, None, None, None, None, None, None, None, None, None, None, None, None, None, None, None, None, None, None, None, None, None, None, None, None, None, None, None, None, None, None, None, None, None, None, None, None, None, None, None, None, None, None, None, None, None, None, None, None, None, None, None, None, None, None, None, None, None, None, None, None, None, None, None, None, None, None, None, None, None, None, None, None, None, None, None, None, None, None, None, None, None, None, None, None, None, None, None, None, None, None, None, None, None, None, None, None, None, None, None, None, None, None, None, None, None, None, None, None, None, None, None, None, None, None, None, None, None, None, None, None, None, None, None, None, None, None, None, None, None, None, None, None, None, None, None, None, None, None, None, None, None, None, None, None, None, None, None, None, None, None, None, None, None, None, None, None, None, None, None, None, None, None, None, None, None, None, None, None, None, None, None, None, None, None, None, None, None, None, None, None, None, None, None, None, None, None, None, None, None, None, None, None, None, None, None, None, None, None, None, None, None, None, None, None, None, None, None, None, None, None, None, None, None, None, None, None, None, None, None, None, None, None, None, None, None, None, None, None, None, None, None, None, None, None, None, None, None, None, None, None, None, None, None, None, None, None, None, None, None, None, None, None, None, None, None, None, None, None, None, None, None, None, None, None, None, None, None, None, None, None, None, None, None, None, None, None, None, None, None, None, None, None, None, None, None, None, None, None, None, None, None, None, None, None, None, None, None, None, None, None, None, None, None, None, None, None, None, None, None, None, None, None, None, None, None, None, None, None, None, None, None, None, None, None, None, None, None, None, None, None, None, None, None, None, None, None, None, None, None, None, None, None, None, None, None, None, None, None, None, None, None, None, None, None, None, None, None, None, None, None, None, None, None, None, None, None, None, None, None, None, None, None, None, None, None, None, None, None, None, None, None, None, None, None, None, None, None, None, None, None, None, None, None, None, None, None, None, None, None, None, None, None, None, None, None, None, None, None, None, None, None, None, None, None, None, None, None, None, None, None, None, None, None, None, None, None, None, None, None, None, None, None, None, None, None, None, None, None, None, None, None, None, None, None, None, None, None, None, None, None, None, None, None, None, None, None, None, None, None, None, None, None, None, None, None, None, None, None, None, None, None, None, None, None, None, None, None, None, None, None, None, None, None, None, None, None, None, None, None, None, None, None, None, None, None, None, None, None, None, None, None, None, None, None, None, None, None, None, None, None, None, None, None, None, None, None, None, None, None, None, None, None, None, None, None, None, None, None, None, None, None, None, None, None, None, None, None, None, None, None, None, None, None, None, None, None, None, None, None, None, None, None, None, None, None, None, None, None, None, None, None, None, None, None, None, None, None, None, None, None, None, None, None, None, None, None, None, None, None, None, None, None, None, None, None, None, None, None, None, None, None, None, None, None, None, None, None, None, None, None, None, None, None, None, None, None, None, None, None, None, None, None, None, None, None, None, None, None, None, None, None, None, None, None, None, None, None, None, None, None, None, None, None, None, None, None, None, None, None, None, None, None, None, None, None, None, None, None, None, None, None, None, None, None, None, None, None, None, None, None, None, None, None, None, None, None, None, None, None, None, None, None, None, None, None, None, None, None, None, None, None, None, None, None, None, None, None, None, None, None, None, None, None, None, None, None, None, None, None, None, None, None, None, None, None, None, None, None, None, None, None, None, None, None, None, None, None, None, None, None, None, None, None, None, None, None, None, None, None, None, None, None, None, None, None, None, None, None, None, None, None, None, None, None, None, None, None, None, None, None, None, None, None, None, None, None, None, None, None, None, None, None, None, None, None, None, None, None, None, None, None, None, None, None, None, None, None, None, None, None, None, None, None, None, None, None, None, None, None, None, None, None, None, None, None, None, None, None, None, None, None, None, None, None, None, None, None, None, None, None, None, None, None, None, None, None, None, None, None, None, None, None, None, None, None, None, None, None, None, None, None, None, None, None, None, None, None, None, None, None, None, None, None, None, None, None, None, None, None, None, None, None, None, None, None, None, None, None, None, None, None, None, None, None, None, None, None, None, None, None, None, None, None, None, None, None, None, None, None, None, None, None, None, None, None, None, None, None, None, None, None, None, None, None, None, None, None, None, None, None, None, None, None, None, None, None, None, None, None, None, None, None, None, None, None, None, None, None, None, None, None, None, None, None, None, None, None, None, None, None, None, None, None, None, None, None, None, None, None, None, None, None, None, None, None, None, None, None, None, None, None, None, None, None, None, None, None, None, None, None, None, None, None, None, None, None, None, None, None, None, None, None, None, None, None, None, None, None, None, None, None, None, None, None, None, None, None, None, None, None, None, None, None, None], \n",
            "\tover the training epochs, respectively.\n"
          ],
          "name": "stdout"
        }
      ]
    },
    {
      "cell_type": "markdown",
      "metadata": {
        "id": "47DGt7MKNhDu"
      },
      "source": [
        "#### Visualizing the plots:"
      ]
    },
    {
      "cell_type": "code",
      "metadata": {
        "id": "Ffs5QkbRNhDu",
        "colab": {
          "base_uri": "https://localhost:8080/",
          "height": 573
        },
        "outputId": "a34896f3-f0a8-4621-eb15-42b081d797ba"
      },
      "source": [
        "plot_loss_graph(tr_loss,val_loss)\n",
        "plot_auc_graph(tr_auc,val_auc) \n",
        "\n"
      ],
      "execution_count": 12,
      "outputs": [
        {
          "output_type": "display_data",
          "data": {
            "image/png": "[encoded data removed]",
            "text/plain": [
              "<Figure size 432x288 with 1 Axes>"
            ]
          },
          "metadata": {
            "tags": [],
            "needs_background": "light"
          }
        },
        {
          "output_type": "display_data",
          "data": {
            "image/png": "[encoded data removed]",
            "text/plain": [
              "<Figure size 432x288 with 1 Axes>"
            ]
          },
          "metadata": {
            "tags": [],
            "needs_background": "light"
          }
        }
      ]
    },
    {
      "cell_type": "markdown",
      "metadata": {
        "id": "TpCqUVVkpINB"
      },
      "source": [
        "We got a loss of ~0.33 on validation set when auc on validation set is ~0.92. we stopped the training when the validation loss improvment is too small over 5 consecutive epoches "
      ]
    },
    {
      "cell_type": "markdown",
      "metadata": {
        "id": "l0rfAb_anAnE"
      },
      "source": [
        "**Adding Hidden layers to classifyer**\r\n",
        "Now we want to check if adding more hidden layers to the classifyer will improve the results"
      ]
    },
    {
      "cell_type": "code",
      "metadata": {
        "colab": {
          "base_uri": "https://localhost:8080/",
          "height": 1000
        },
        "id": "_hQGPw-ynOpG",
        "outputId": "e7b370fc-dc0e-4d8c-d874-5b0c934211e1"
      },
      "source": [
        "classifyer_with_3_layers = nn.Sequential(\r\n",
        "    nn.Linear(512, 20), nn.Linear(20, 10), nn.Linear(10, 2))\r\n",
        "net_with_3_layers_in_head = MyResNet(classifyer_with_3_layers, 18)\r\n",
        "tr_loss_3_layers, val_loss_3_layers, test_loss_3_layers, tr_auc_3_layers, val_auc_3_layers, untrained_test_loss_3_layers, untrained_test_auc_3_layers = training_loop(\r\n",
        "    args,\r\n",
        "    net_with_3_layers_in_head,\r\n",
        "    X_extracted_features_train,\r\n",
        "    y_extracted_features_train,\r\n",
        "    X_extracted_features_test,\r\n",
        "    y_extracted_features_test,\r\n",
        "    val_dataloader=None,\r\n",
        "    criterion_func=nn.CrossEntropyLoss\r\n",
        ")\r\n",
        "plot_loss_graph(tr_loss_3_layers, val_loss_3_layers)\r\n",
        "plot_auc_graph(tr_auc_3_layers, val_auc_3_layers)"
      ],
      "execution_count": 13,
      "outputs": [
        {
          "output_type": "stream",
          "text": [
            "100%|██████████| 11/11 [00:00<00:00, 311.50it/s]\n",
            "100%|██████████| 11/11 [00:00<00:00, 335.12it/s]\n",
            "100%|██████████| 11/11 [00:00<00:00, 340.16it/s]\n",
            "100%|██████████| 11/11 [00:00<00:00, 295.91it/s]\n",
            "100%|██████████| 11/11 [00:00<00:00, 349.79it/s]\n",
            "100%|██████████| 11/11 [00:00<00:00, 340.10it/s]"
          ],
          "name": "stderr"
        },
        {
          "output_type": "stream",
          "text": [
            "Train loss: 6.96e-01, Val loss: 6.87e-01\n",
            "Best val loss is: 6.87e-01\n",
            "Train loss: 6.74e-01, Val loss: 6.67e-01\n",
            "Best val loss is: 6.67e-01\n",
            "Train loss: 6.54e-01, Val loss: 6.46e-01\n",
            "Best val loss is: 6.46e-01\n",
            "Train loss: 6.34e-01, Val loss: 6.26e-01\n",
            "Best val loss is: 6.26e-01\n",
            "Train loss: 6.14e-01, Val loss: 6.07e-01\n",
            "Best val loss is: 6.07e-01\n",
            "Train loss: 5.93e-01, Val loss: 5.87e-01\n",
            "Best val loss is: 5.87e-01\n"
          ],
          "name": "stdout"
        },
        {
          "output_type": "stream",
          "text": [
            "\n",
            "100%|██████████| 11/11 [00:00<00:00, 308.36it/s]\n",
            "100%|██████████| 11/11 [00:00<00:00, 323.60it/s]\n",
            "100%|██████████| 11/11 [00:00<00:00, 336.66it/s]\n",
            "100%|██████████| 11/11 [00:00<00:00, 288.86it/s]\n",
            "100%|██████████| 11/11 [00:00<00:00, 308.89it/s]\n",
            "  0%|          | 0/11 [00:00<?, ?it/s]"
          ],
          "name": "stderr"
        },
        {
          "output_type": "stream",
          "text": [
            "Train loss: 5.73e-01, Val loss: 5.67e-01\n",
            "Best val loss is: 5.67e-01\n",
            "Train loss: 5.53e-01, Val loss: 5.49e-01\n",
            "Best val loss is: 5.49e-01\n",
            "Train loss: 5.34e-01, Val loss: 5.31e-01\n",
            "Best val loss is: 5.31e-01\n",
            "Train loss: 5.15e-01, Val loss: 5.14e-01\n",
            "Best val loss is: 5.14e-01\n",
            "Train loss: 4.97e-01, Val loss: 4.98e-01\n",
            "Best val loss is: 4.98e-01\n"
          ],
          "name": "stdout"
        },
        {
          "output_type": "stream",
          "text": [
            "100%|██████████| 11/11 [00:00<00:00, 297.43it/s]\n",
            "100%|██████████| 11/11 [00:00<00:00, 337.42it/s]\n",
            "100%|██████████| 11/11 [00:00<00:00, 338.46it/s]\n",
            "100%|██████████| 11/11 [00:00<00:00, 302.22it/s]\n",
            "100%|██████████| 11/11 [00:00<00:00, 317.42it/s]\n",
            "100%|██████████| 11/11 [00:00<00:00, 342.01it/s]"
          ],
          "name": "stderr"
        },
        {
          "output_type": "stream",
          "text": [
            "Train loss: 4.81e-01, Val loss: 4.83e-01\n",
            "Best val loss is: 4.83e-01\n",
            "Train loss: 4.65e-01, Val loss: 4.70e-01\n",
            "Best val loss is: 4.70e-01\n",
            "Train loss: 4.51e-01, Val loss: 4.58e-01\n",
            "Best val loss is: 4.58e-01\n",
            "Train loss: 4.38e-01, Val loss: 4.47e-01\n",
            "Best val loss is: 4.47e-01\n",
            "Train loss: 4.25e-01, Val loss: 4.37e-01\n",
            "Best val loss is: 4.37e-01\n",
            "Train loss: 4.14e-01, Val loss: 4.29e-01\n",
            "Best val loss is: 4.29e-01\n"
          ],
          "name": "stdout"
        },
        {
          "output_type": "stream",
          "text": [
            "\n",
            "100%|██████████| 11/11 [00:00<00:00, 346.53it/s]\n",
            "100%|██████████| 11/11 [00:00<00:00, 350.07it/s]\n",
            "100%|██████████| 11/11 [00:00<00:00, 340.00it/s]\n",
            "100%|██████████| 11/11 [00:00<00:00, 346.84it/s]\n",
            "100%|██████████| 11/11 [00:00<00:00, 343.67it/s]\n",
            "100%|██████████| 11/11 [00:00<00:00, 320.98it/s]\n"
          ],
          "name": "stderr"
        },
        {
          "output_type": "stream",
          "text": [
            "Train loss: 4.04e-01, Val loss: 4.21e-01\n",
            "Best val loss is: 4.21e-01\n",
            "Train loss: 3.94e-01, Val loss: 4.13e-01\n",
            "Best val loss is: 4.13e-01\n",
            "Train loss: 3.86e-01, Val loss: 4.07e-01\n",
            "Best val loss is: 4.07e-01\n",
            "Train loss: 3.78e-01, Val loss: 4.01e-01\n",
            "Best val loss is: 4.01e-01\n",
            "Train loss: 3.70e-01, Val loss: 3.96e-01\n",
            "Best val loss is: 3.96e-01\n",
            "Train loss: 3.63e-01, Val loss: 3.91e-01\n",
            "Best val loss is: 3.91e-01\n"
          ],
          "name": "stdout"
        },
        {
          "output_type": "stream",
          "text": [
            "100%|██████████| 11/11 [00:00<00:00, 317.97it/s]\n",
            "100%|██████████| 11/11 [00:00<00:00, 327.27it/s]\n",
            "100%|██████████| 11/11 [00:00<00:00, 350.47it/s]\n",
            "100%|██████████| 11/11 [00:00<00:00, 341.44it/s]\n",
            "100%|██████████| 11/11 [00:00<00:00, 337.01it/s]\n",
            "100%|██████████| 11/11 [00:00<00:00, 294.55it/s]"
          ],
          "name": "stderr"
        },
        {
          "output_type": "stream",
          "text": [
            "Train loss: 3.57e-01, Val loss: 3.86e-01\n",
            "Best val loss is: 3.86e-01\n",
            "Train loss: 3.50e-01, Val loss: 3.82e-01\n",
            "Best val loss is: 3.82e-01\n",
            "Train loss: 3.45e-01, Val loss: 3.79e-01\n",
            "Best val loss is: 3.79e-01\n",
            "Train loss: 3.39e-01, Val loss: 3.75e-01\n",
            "Best val loss is: 3.75e-01\n",
            "Train loss: 3.34e-01, Val loss: 3.72e-01\n",
            "Best val loss is: 3.72e-01\n"
          ],
          "name": "stdout"
        },
        {
          "output_type": "stream",
          "text": [
            "\n",
            "100%|██████████| 11/11 [00:00<00:00, 342.96it/s]\n",
            "100%|██████████| 11/11 [00:00<00:00, 342.32it/s]\n",
            "100%|██████████| 11/11 [00:00<00:00, 344.00it/s]\n",
            "100%|██████████| 11/11 [00:00<00:00, 346.23it/s]\n",
            "100%|██████████| 11/11 [00:00<00:00, 345.42it/s]\n",
            "  0%|          | 0/11 [00:00<?, ?it/s]"
          ],
          "name": "stderr"
        },
        {
          "output_type": "stream",
          "text": [
            "Train loss: 3.30e-01, Val loss: 3.69e-01\n",
            "Best val loss is: 3.69e-01\n",
            "Train loss: 3.25e-01, Val loss: 3.66e-01\n",
            "Best val loss is: 3.66e-01\n",
            "Train loss: 3.21e-01, Val loss: 3.64e-01\n",
            "Best val loss is: 3.64e-01\n",
            "Train loss: 3.17e-01, Val loss: 3.62e-01\n",
            "Best val loss is: 3.62e-01\n",
            "Train loss: 3.13e-01, Val loss: 3.60e-01\n",
            "Best val loss is: 3.60e-01\n",
            "Train loss: 3.09e-01, Val loss: 3.58e-01\n",
            "Best val loss is: 3.58e-01\n"
          ],
          "name": "stdout"
        },
        {
          "output_type": "stream",
          "text": [
            "100%|██████████| 11/11 [00:00<00:00, 337.03it/s]\n",
            "100%|██████████| 11/11 [00:00<00:00, 322.22it/s]\n",
            "100%|██████████| 11/11 [00:00<00:00, 332.09it/s]\n",
            "100%|██████████| 11/11 [00:00<00:00, 330.97it/s]\n",
            "100%|██████████| 11/11 [00:00<00:00, 345.60it/s]\n",
            "100%|██████████| 11/11 [00:00<00:00, 322.11it/s]"
          ],
          "name": "stderr"
        },
        {
          "output_type": "stream",
          "text": [
            "Train loss: 3.06e-01, Val loss: 3.56e-01\n",
            "Best val loss is: 3.56e-01\n",
            "Train loss: 3.02e-01, Val loss: 3.54e-01\n",
            "Best val loss is: 3.54e-01\n",
            "Train loss: 2.99e-01, Val loss: 3.53e-01\n",
            "Best val loss is: 3.53e-01\n",
            "Train loss: 2.96e-01, Val loss: 3.52e-01\n",
            "Best val loss is: 3.52e-01\n",
            "Train loss: 2.93e-01, Val loss: 3.50e-01\n",
            "Best val loss is: 3.50e-01\n",
            "Train loss: 2.90e-01, Val loss: 3.49e-01\n",
            "Best val loss is: 3.49e-01"
          ],
          "name": "stdout"
        },
        {
          "output_type": "stream",
          "text": [
            "\n",
            "100%|██████████| 11/11 [00:00<00:00, 319.79it/s]\n",
            "100%|██████████| 11/11 [00:00<00:00, 348.17it/s]\n",
            "100%|██████████| 11/11 [00:00<00:00, 276.49it/s]\n",
            "100%|██████████| 11/11 [00:00<00:00, 348.51it/s]\n",
            "100%|██████████| 11/11 [00:00<00:00, 342.31it/s]"
          ],
          "name": "stderr"
        },
        {
          "output_type": "stream",
          "text": [
            "\n",
            "Train loss: 2.88e-01, Val loss: 3.48e-01\n",
            "Best val loss is: 3.48e-01\n",
            "Train loss: 2.85e-01, Val loss: 3.47e-01\n",
            "Best val loss is: 3.47e-01\n",
            "Train loss: 2.83e-01, Val loss: 3.46e-01\n",
            "Best val loss is: 3.46e-01\n",
            "Train loss: 2.80e-01, Val loss: 3.45e-01\n",
            "Best val loss is: 3.45e-01\n"
          ],
          "name": "stdout"
        },
        {
          "output_type": "stream",
          "text": [
            "\n",
            "100%|██████████| 11/11 [00:00<00:00, 359.73it/s]\n",
            "100%|██████████| 11/11 [00:00<00:00, 335.25it/s]\n",
            "100%|██████████| 11/11 [00:00<00:00, 299.55it/s]\n",
            "100%|██████████| 11/11 [00:00<00:00, 329.06it/s]\n",
            "  0%|          | 0/11 [00:00<?, ?it/s]"
          ],
          "name": "stderr"
        },
        {
          "output_type": "stream",
          "text": [
            "Train loss: 2.78e-01, Val loss: 3.45e-01\n",
            "Best val loss is: 3.45e-01\n",
            "Train loss: 2.76e-01, Val loss: 3.44e-01\n",
            "Best val loss is: 3.44e-01\n",
            "Train loss: 2.74e-01, Val loss: 3.43e-01\n",
            "Best val loss is: 3.43e-01\n",
            "Train loss: 2.72e-01, Val loss: 3.43e-01\n",
            "Best val loss is: 3.43e-01\n",
            "Train loss: 2.70e-01, Val loss: 3.42e-01\n",
            "Best val loss is: 3.42e-01\n"
          ],
          "name": "stdout"
        },
        {
          "output_type": "stream",
          "text": [
            "100%|██████████| 11/11 [00:00<00:00, 285.02it/s]\n",
            "100%|██████████| 11/11 [00:00<00:00, 316.58it/s]\n",
            "100%|██████████| 11/11 [00:00<00:00, 332.79it/s]\n",
            "100%|██████████| 11/11 [00:00<00:00, 329.60it/s]\n",
            "100%|██████████| 11/11 [00:00<00:00, 276.23it/s]\n",
            "  0%|          | 0/11 [00:00<?, ?it/s]"
          ],
          "name": "stderr"
        },
        {
          "output_type": "stream",
          "text": [
            "Train loss: 2.68e-01, Val loss: 3.42e-01\n",
            "Best val loss is: 3.42e-01\n",
            "Train loss: 2.66e-01, Val loss: 3.41e-01\n",
            "Best val loss is: 3.41e-01\n",
            "Train loss: 2.64e-01, Val loss: 3.41e-01\n",
            "Best val loss is: 3.41e-01\n",
            "Train loss: 2.62e-01, Val loss: 3.40e-01\n",
            "Best val loss is: 3.40e-01\n",
            "Train loss: 2.61e-01, Val loss: 3.40e-01\n",
            "Best val loss is: 3.40e-01\n"
          ],
          "name": "stdout"
        },
        {
          "output_type": "stream",
          "text": [
            "100%|██████████| 11/11 [00:00<00:00, 276.21it/s]\n",
            "100%|██████████| 11/11 [00:00<00:00, 317.11it/s]\n",
            "100%|██████████| 11/11 [00:00<00:00, 339.32it/s]\n",
            "100%|██████████| 11/11 [00:00<00:00, 346.83it/s]\n",
            "100%|██████████| 11/11 [00:00<00:00, 347.88it/s]\n",
            "100%|██████████| 11/11 [00:00<00:00, 358.29it/s]\n",
            "  0%|          | 0/11 [00:00<?, ?it/s]"
          ],
          "name": "stderr"
        },
        {
          "output_type": "stream",
          "text": [
            "Train loss: 2.59e-01, Val loss: 3.40e-01\n",
            "Best val loss is: 3.40e-01\n",
            "Train loss: 2.57e-01, Val loss: 3.39e-01\n",
            "Best val loss is: 3.39e-01\n",
            "Train loss: 2.56e-01, Val loss: 3.39e-01\n",
            "Best val loss is: 3.39e-01\n",
            "Train loss: 2.54e-01, Val loss: 3.39e-01\n",
            "Best val loss is: 3.39e-01\n",
            "Train loss: 2.53e-01, Val loss: 3.39e-01\n",
            "Best val loss is: 3.39e-01\n",
            "Train loss: 2.51e-01, Val loss: 3.39e-01\n",
            "Best val loss is: 3.39e-01\n"
          ],
          "name": "stdout"
        },
        {
          "output_type": "stream",
          "text": [
            "100%|██████████| 11/11 [00:00<00:00, 329.36it/s]\n",
            "100%|██████████| 11/11 [00:00<00:00, 323.08it/s]\n",
            "100%|██████████| 11/11 [00:00<00:00, 347.02it/s]\n",
            "100%|██████████| 11/11 [00:00<00:00, 354.47it/s]\n",
            "100%|██████████| 11/11 [00:00<00:00, 344.61it/s]\n",
            "100%|██████████| 11/11 [00:00<00:00, 301.61it/s]\n",
            "  0%|          | 0/11 [00:00<?, ?it/s]"
          ],
          "name": "stderr"
        },
        {
          "output_type": "stream",
          "text": [
            "Train loss: 2.50e-01, Val loss: 3.39e-01\n",
            "Best val loss is: 3.39e-01\n",
            "Train loss: 2.48e-01, Val loss: 3.38e-01\n",
            "Best val loss is: 3.38e-01\n",
            "Train loss: 2.47e-01, Val loss: 3.38e-01\n",
            "Best val loss is: 3.38e-01\n",
            "Train loss: 2.46e-01, Val loss: 3.38e-01\n",
            "Best val loss is: 3.38e-01\n",
            "Train loss: 2.44e-01, Val loss: 3.38e-01\n",
            "Best val loss is: 3.38e-01\n",
            "Train loss: 2.43e-01, Val loss: 3.38e-01\n",
            "Best val loss is: 3.38e-01\n"
          ],
          "name": "stdout"
        },
        {
          "output_type": "stream",
          "text": [
            "100%|██████████| 11/11 [00:00<00:00, 326.44it/s]\n",
            "100%|██████████| 11/11 [00:00<00:00, 346.96it/s]\n",
            "100%|██████████| 11/11 [00:00<00:00, 332.72it/s]\n",
            "100%|██████████| 11/11 [00:00<00:00, 313.95it/s]\n"
          ],
          "name": "stderr"
        },
        {
          "output_type": "stream",
          "text": [
            "Train loss: 2.42e-01, Val loss: 3.38e-01\n",
            "Best val loss is: 3.38e-01\n",
            "Train loss: 2.41e-01, Val loss: 3.38e-01\n",
            "Best val loss is: 3.38e-01\n",
            "Train loss: 2.39e-01, Val loss: 3.38e-01\n",
            "Best val loss is: 3.38e-01\n",
            "Train loss: 2.38e-01, Val loss: 3.38e-01\n",
            "Best val loss is: 3.38e-01\n",
            "Stopped training after 70/5000 epochs.\n",
            "The loss is 7.09e-01 before training and 3.38e-01 after training.\n",
            "The training and validation losses are \n",
            "\t[0.695915298461914, 0.6744254302978515, 0.6539614868164062, 0.6337652587890625, 0.6135330200195312, 0.5932191848754883, 0.5729580688476562, 0.552981948852539, 0.5335495758056641, 0.5148951721191406, 0.4972002410888672, 0.48058547973632815, 0.46510986328125, 0.45078033447265625, 0.43756416320800784, 0.4254011154174805, 0.41421497344970704, 0.40392223358154294, 0.39443851470947267, 0.3856830596923828, 0.37758087158203124, 0.3700637435913086, 0.3630709457397461, 0.35654861450195313, 0.3504494857788086, 0.34473213195800784, 0.33936023712158203, 0.3343020248413086, 0.3295296096801758, 0.3250183868408203, 0.3207465362548828, 0.3166947746276855, 0.3128457450866699, 0.30918418884277343, 0.30569610595703123, 0.3023689270019531, 0.2991912651062012, 0.2961526870727539, 0.2932437896728516, 0.2904557991027832, 0.287780818939209, 0.28521142959594725, 0.28274084091186524, 0.2803628921508789, 0.2780716323852539, 0.2758618354797363, 0.27372844696044923, 0.2716667366027832, 0.2696725845336914, 0.2677419090270996, 0.26587087631225587, 0.2640562057495117, 0.26229448318481446, 0.2605828857421875, 0.25891841888427736, 0.25729862213134763, 0.2557209587097168, 0.2541831398010254, 0.252683048248291, 0.25121875762939455, 0.24978830337524413, 0.24839014053344727, 0.24702241897583008, 0.2456837463378906, 0.24437267303466798, 0.24308792114257813, 0.24182819366455077, 0.24059228897094725, 0.23937923431396485, 0.23818790435791015, None, None, None, None, None, None, None, None, None, None, None, None, None, None, None, None, None, None, None, None, None, None, None, None, None, None, None, None, None, None, None, None, None, None, None, None, None, None, None, None, None, None, None, None, None, None, None, None, None, None, None, None, None, None, None, None, None, None, None, None, None, None, None, None, None, None, None, None, None, None, None, None, None, None, None, None, None, None, None, None, None, None, None, None, None, None, None, None, None, None, None, None, None, None, None, None, None, None, None, None, None, None, None, None, None, None, None, None, None, None, None, None, None, None, None, None, None, None, None, None, None, None, None, None, None, None, None, None, None, None, None, None, None, None, None, None, None, None, None, None, None, None, None, None, None, None, None, None, None, None, None, None, None, None, None, None, None, None, None, None, None, None, None, None, None, None, None, None, None, None, None, None, None, None, None, None, None, None, None, None, None, None, None, None, None, None, None, None, None, None, None, None, None, None, None, None, None, None, None, None, None, None, None, None, None, None, None, None, None, None, None, None, None, None, None, None, None, None, None, None, None, None, None, None, None, None, None, None, None, None, None, None, None, None, None, None, None, None, None, None, None, None, None, None, None, None, None, None, None, None, None, None, None, None, None, None, None, None, None, None, None, None, None, None, None, None, None, None, None, None, None, None, None, None, None, None, None, None, None, None, None, None, None, None, None, None, None, None, None, None, None, None, None, None, None, None, None, None, None, None, None, None, None, None, None, None, None, None, None, None, None, None, None, None, None, None, None, None, None, None, None, None, None, None, None, None, None, None, None, None, None, None, None, None, None, None, None, None, None, None, None, None, None, None, None, None, None, None, None, None, None, None, None, None, None, None, None, None, None, None, None, None, None, None, None, None, None, None, None, None, None, None, None, None, None, None, None, None, None, None, None, None, None, None, None, None, None, None, None, None, None, None, None, None, None, None, None, None, None, None, None, None, None, None, None, None, None, None, None, None, None, None, None, None, None, None, None, None, None, None, None, None, None, None, None, None, None, None, None, None, None, None, None, None, None, None, None, None, None, None, None, None, None, None, None, None, None, None, None, None, None, None, None, None, None, None, None, None, None, None, None, None, None, None, None, None, None, None, None, None, None, None, None, None, None, None, None, None, None, None, None, None, None, None, None, None, None, None, None, None, None, None, None, None, None, None, None, None, None, None, None, None, None, None, None, None, None, None, None, None, None, None, None, None, None, None, None, None, None, None, None, None, None, None, None, None, None, None, None, None, None, None, None, None, None, None, None, None, None, None, None, None, None, None, None, None, None, None, None, None, None, None, None, None, None, None, None, None, None, None, None, None, None, None, None, None, None, None, None, None, None, None, None, None, None, None, None, None, None, None, None, None, None, None, None, None, None, None, None, None, None, None, None, None, None, None, None, None, None, None, None, None, None, None, None, None, None, None, None, None, None, None, None, None, None, None, None, None, None, None, None, None, None, None, None, None, None, None, None, None, None, None, None, None, None, None, None, None, None, None, None, None, None, None, None, None, None, None, None, None, None, None, None, None, None, None, None, None, None, None, None, None, None, None, None, None, None, None, None, None, None, None, None, None, None, None, None, None, None, None, None, None, None, None, None, None, None, None, None, None, None, None, None, None, None, None, None, None, None, None, None, None, None, None, None, None, None, None, None, None, None, None, None, None, None, None, None, None, None, None, None, None, None, None, None, None, None, None, None, None, None, None, None, None, None, None, None, None, None, None, None, None, None, None, None, None, None, None, None, None, None, None, None, None, None, None, None, None, None, None, None, None, None, None, None, None, None, None, None, None, None, None, None, None, None, None, None, None, None, None, None, None, None, None, None, None, None, None, None, None, None, None, None, None, None, None, None, None, None, None, None, None, None, None, None, None, None, None, None, None, None, None, None, None, None, None, None, None, None, None, None, None, None, None, None, None, None, None, None, None, None, None, None, None, None, None, None, None, None, None, None, None, None, None, None, None, None, None, None, None, None, None, None, None, None, None, None, None, None, None, None, None, None, None, None, None, None, None, None, None, None, None, None, None, None, None, None, None, None, None, None, None, None, None, None, None, None, None, None, None, None, None, None, None, None, None, None, None, None, None, None, None, None, None, None, None, None, None, None, None, None, None, None, None, None, None, None, None, None, None, None, None, None, None, None, None, None, None, None, None, None, None, None, None, None, None, None, None, None, None, None, None, None, None, None, None, None, None, None, None, None, None, None, None, None, None, None, None, None, None, None, None, None, None, None, None, None, None, None, None, None, None, None, None, None, None, None, None, None, None, None, None, None, None, None, None, None, None, None, None, None, None, None, None, None, None, None, None, None, None, None, None, None, None, None, None, None, None, None, None, None, None, None, None, None, None, None, None, None, None, None, None, None, None, None, None, None, None, None, None, None, None, None, None, None, None, None, None, None, None, None, None, None, None, None, None, None, None, None, None, None, None, None, None, None, None, None, None, None, None, None, None, None, None, None, None, None, None, None, None, None, None, None, None, None, None, None, None, None, None, None, None, None, None, None, None, None, None, None, None, None, None, None, None, None, None, None, None, None, None, None, None, None, None, None, None, None, None, None, None, None, None, None, None, None, None, None, None, None, None, None, None, None, None, None, None, None, None, None, None, None, None, None, None, None, None, None, None, None, None, None, None, None, None, None, None, None, None, None, None, None, None, None, None, None, None, None, None, None, None, None, None, None, None, None, None, None, None, None, None, None, None, None, None, None, None, None, None, None, None, None, None, None, None, None, None, None, None, None, None, None, None, None, None, None, None, None, None, None, None, None, None, None, None, None, None, None, None, None, None, None, None, None, None, None, None, None, None, None, None, None, None, None, None, None, None, None, None, None, None, None, None, None, None, None, None, None, None, None, None, None, None, None, None, None, None, None, None, None, None, None, None, None, None, None, None, None, None, None, None, None, None, None, None, None, None, None, None, None, None, None, None, None, None, None, None, None, None, None, None, None, None, None, None, None, None, None, None, None, None, None, None, None, None, None, None, None, None, None, None, None, None, None, None, None, None, None, None, None, None, None, None, None, None, None, None, None, None, None, None, None, None, None, None, None, None, None, None, None, None, None, None, None, None, None, None, None, None, None, None, None, None, None, None, None, None, None, None, None, None, None, None, None, None, None, None, None, None, None, None, None, None, None, None, None, None, None, None, None, None, None, None, None, None, None, None, None, None, None, None, None, None, None, None, None, None, None, None, None, None, None, None, None, None, None, None, None, None, None, None, None, None, None, None, None, None, None, None, None, None, None, None, None, None, None, None, None, None, None, None, None, None, None, None, None, None, None, None, None, None, None, None, None, None, None, None, None, None, None, None, None, None, None, None, None, None, None, None, None, None, None, None, None, None, None, None, None, None, None, None, None, None, None, None, None, None, None, None, None, None, None, None, None, None, None, None, None, None, None, None, None, None, None, None, None, None, None, None, None, None, None, None, None, None, None, None, None, None, None, None, None, None, None, None, None, None, None, None, None, None, None, None, None, None, None, None, None, None, None, None, None, None, None, None, None, None, None, None, None, None, None, None, None, None, None, None, None, None, None, None, None, None, None, None, None, None, None, None, None, None, None, None, None, None, None, None, None, None, None, None, None, None, None, None, None, None, None, None, None, None, None, None, None, None, None, None, None, None, None, None, None, None, None, None, None, None, None, None, None, None, None, None, None, None, None, None, None, None, None, None, None, None, None, None, None, None, None, None, None, None, None, None, None, None, None, None, None, None, None, None, None, None, None, None, None, None, None, None, None, None, None, None, None, None, None, None, None, None, None, None, None, None, None, None, None, None, None, None, None, None, None, None, None, None, None, None, None, None, None, None, None, None, None, None, None, None, None, None, None, None, None, None, None, None, None, None, None, None, None, None, None, None, None, None, None, None, None, None, None, None, None, None, None, None, None, None, None, None, None, None, None, None, None, None, None, None, None, None, None, None, None, None, None, None, None, None, None, None, None, None, None, None, None, None, None, None, None, None, None, None, None, None, None, None, None, None, None, None, None, None, None, None, None, None, None, None, None, None, None, None, None, None, None, None, None, None, None, None, None, None, None, None, None, None, None, None, None, None, None, None, None, None, None, None, None, None, None, None, None, None, None, None, None, None, None, None, None, None, None, None, None, None, None, None, None, None, None, None, None, None, None, None, None, None, None, None, None, None, None, None, None, None, None, None, None, None, None, None, None, None, None, None, None, None, None, None, None, None, None, None, None, None, None, None, None, None, None, None, None, None, None, None, None, None, None, None, None, None, None, None, None, None, None, None, None, None, None, None, None, None, None, None, None, None, None, None, None, None, None, None, None, None, None, None, None, None, None, None, None, None, None, None, None, None, None, None, None, None, None, None, None, None, None, None, None, None, None, None, None, None, None, None, None, None, None, None, None, None, None, None, None, None, None, None, None, None, None, None, None, None, None, None, None, None, None, None, None, None, None, None, None, None, None, None, None, None, None, None, None, None, None, None, None, None, None, None, None, None, None, None, None, None, None, None, None, None, None, None, None, None, None, None, None, None, None, None, None, None, None, None, None, None, None, None, None, None, None, None, None, None, None, None, None, None, None, None, None, None, None, None, None, None, None, None, None, None, None, None, None, None, None, None, None, None, None, None, None, None, None, None, None, None, None, None, None, None, None, None, None, None, None, None, None, None, None, None, None, None, None, None, None, None, None, None, None, None, None, None, None, None, None, None, None, None, None, None, None, None, None, None, None, None, None, None, None, None, None, None, None, None, None, None, None, None, None, None, None, None, None, None, None, None, None, None, None, None, None, None, None, None, None, None, None, None, None, None, None, None, None, None, None, None, None, None, None, None, None, None, None, None, None, None, None, None, None, None, None, None, None, None, None, None, None, None, None, None, None, None, None, None, None, None, None, None, None, None, None, None, None, None, None, None, None, None, None, None, None, None, None, None, None, None, None, None, None, None, None, None, None, None, None, None, None, None, None, None, None, None, None, None, None, None, None, None, None, None, None, None, None, None, None, None, None, None, None, None, None, None, None, None, None, None, None, None, None, None, None, None, None, None, None, None, None, None, None, None, None, None, None, None, None, None, None, None, None, None, None, None, None, None, None, None, None, None, None, None, None, None, None, None, None, None, None, None, None, None, None, None, None, None, None, None, None, None, None, None, None, None, None, None, None, None, None, None, None, None, None, None, None, None, None, None, None, None, None, None, None, None, None, None, None, None, None, None, None, None, None, None, None, None, None, None, None, None, None, None, None, None, None, None, None, None, None, None, None, None, None, None, None, None, None, None, None, None, None, None, None, None, None, None, None, None, None, None, None, None, None, None, None, None, None, None, None, None, None, None, None, None, None, None, None, None, None, None, None, None, None, None, None, None, None, None, None, None, None, None, None, None, None, None, None, None, None, None, None, None, None, None, None, None, None, None, None, None, None, None, None, None, None, None, None, None, None, None, None, None, None, None, None, None, None, None, None, None, None, None, None, None, None, None, None, None, None, None, None, None, None, None, None, None, None, None, None, None, None, None, None, None, None, None, None, None, None, None, None, None, None, None, None, None, None, None, None, None, None, None, None, None, None, None, None, None, None, None, None, None, None, None, None, None, None, None, None, None, None, None, None, None, None, None, None, None, None, None, None, None, None, None, None, None, None, None, None, None, None, None, None, None, None, None, None, None, None, None, None, None, None, None, None, None, None, None, None, None, None, None, None, None, None, None, None, None, None, None, None, None, None, None, None, None, None, None, None, None, None, None, None, None, None, None, None, None, None, None, None, None, None, None, None, None, None, None, None, None, None, None, None, None, None, None, None, None, None, None, None, None, None, None, None, None, None, None, None, None, None, None, None, None, None, None, None, None, None, None, None, None, None, None, None, None, None, None, None, None, None, None, None, None, None, None, None, None, None, None, None, None, None, None, None, None, None, None, None, None, None, None, None, None, None, None, None, None, None, None, None, None, None, None, None, None, None, None, None, None, None, None, None, None, None, None, None, None, None, None, None, None, None, None, None, None, None, None, None, None, None, None, None, None, None, None, None, None, None, None, None, None, None, None, None, None, None, None, None, None, None, None, None, None, None, None, None, None, None, None, None, None, None, None, None, None, None, None, None, None, None, None, None, None, None, None, None, None, None, None, None, None, None, None, None, None, None, None, None, None, None, None, None, None, None, None, None, None, None, None, None, None, None, None, None, None, None, None, None, None, None, None, None, None, None, None, None, None, None, None, None, None, None, None, None, None, None, None, None, None, None, None, None, None, None, None, None, None, None, None, None, None, None, None, None, None, None, None, None, None, None, None, None, None, None, None, None, None, None, None, None, None, None, None, None, None, None, None, None, None, None, None, None, None, None, None, None, None, None, None, None, None, None, None, None, None, None, None, None, None, None, None, None, None, None, None, None, None, None, None, None, None, None, None, None, None, None, None, None, None, None, None, None, None, None, None, None, None, None, None, None, None, None, None, None, None, None, None, None, None, None, None, None, None, None, None, None, None, None, None, None, None, None, None, None, None, None, None, None, None, None, None, None, None, None, None, None, None, None, None, None, None, None, None, None, None, None, None, None, None, None, None, None, None, None, None, None, None, None, None, None, None, None, None, None, None, None, None, None, None, None, None, None, None, None, None, None, None, None, None, None, None, None, None, None, None, None, None, None, None, None, None, None, None, None, None, None, None, None, None, None, None, None, None, None, None, None, None, None, None, None, None, None, None, None, None, None, None, None, None, None, None, None, None, None, None, None, None, None, None, None, None, None, None, None, None, None, None, None, None, None, None, None, None, None, None, None, None, None, None, None, None, None, None, None, None, None, None, None, None, None, None, None, None, None, None, None, None, None, None, None, None, None, None, None, None, None, None, None, None, None, None, None, None, None, None, None, None, None, None, None, None, None, None, None, None, None, None, None, None, None, None, None, None, None, None, None, None, None, None, None, None, None, None, None, None, None, None, None, None, None, None, None, None, None, None, None, None, None, None, None, None, None, None, None, None, None, None, None, None, None, None, None, None, None, None, None, None, None, None, None, None, None, None, None, None, None, None, None, None, None, None, None, None, None, None, None, None, None, None, None, None, None, None, None, None, None, None, None, None, None, None, None, None, None, None, None, None, None, None, None, None, None, None, None, None, None, None, None, None, None, None, None, None, None, None, None, None, None, None, None, None, None, None, None, None, None, None, None, None, None, None, None, None, None, None, None, None, None, None, None, None, None, None, None, None, None, None, None, None, None, None, None, None, None, None, None, None, None, None, None, None, None, None, None, None, None, None, None, None, None, None, None, None, None, None, None, None, None, None, None, None, None, None, None, None, None, None, None, None, None, None, None, None, None, None, None, None, None, None, None, None, None, None, None, None, None, None, None, None, None, None, None, None, None, None, None, None, None, None, None, None, None, None, None, None, None, None, None, None, None, None, None, None, None, None, None, None, None, None, None, None, None, None, None, None, None, None, None, None, None, None, None, None, None, None, None, None, None, None, None, None, None, None, None, None, None, None, None, None, None, None, None, None, None, None, None, None, None, None, None, None, None, None, None, None, None, None, None, None, None, None, None, None, None, None, None, None, None, None, None, None, None, None, None, None, None, None, None, None, None, None, None, None, None, None, None, None, None, None, None, None, None, None, None, None, None, None, None, None, None, None, None, None, None, None, None, None, None, None, None, None, None, None, None, None, None, None, None, None, None, None, None, None, None, None, None, None, None, None, None, None, None, None, None, None, None, None, None, None, None, None, None, None, None, None, None, None, None, None, None, None, None, None, None, None, None, None, None, None, None, None, None, None, None, None, None, None, None, None, None, None, None, None, None, None, None, None, None, None, None, None, None, None, None, None, None, None, None, None, None, None, None, None, None, None, None, None, None, None, None, None, None, None, None, None, None, None, None, None, None, None, None, None, None, None, None, None, None, None, None, None, None, None, None, None, None, None, None, None, None, None, None, None, None, None, None, None, None, None, None, None, None, None, None, None, None, None, None, None, None, None, None, None, None, None, None, None, None, None, None, None, None, None, None, None, None, None, None, None, None, None, None, None, None, None, None, None, None, None, None, None, None, None, None, None, None, None, None, None, None, None, None, None, None, None, None, None, None, None, None, None, None, None, None, None, None, None, None, None, None, None, None, None, None, None, None, None, None, None, None, None, None, None, None, None, None, None, None, None, None, None, None, None, None, None, None, None, None, None, None, None, None, None, None, None, None, None, None, None, None, None, None, None, None, None, None, None, None, None, None, None, None, None, None, None, None, None, None, None, None, None, None, None, None, None, None, None, None, None, None, None, None, None, None, None, None, None, None, None, None, None, None, None, None, None, None, None, None, None, None, None, None, None, None, None, None, None, None, None, None, None, None, None, None, None, None, None, None, None, None, None, None, None, None, None, None, None, None, None, None, None, None, None, None, None, None, None, None, None, None, None, None, None, None, None, None, None, None, None, None, None, None, None, None, None, None, None, None, None, None, None, None, None, None, None, None, None, None, None, None, None, None, None, None, None, None, None, None, None, None, None, None, None, None, None, None, None, None, None, None, None, None, None, None, None, None, None, None, None, None, None, None, None, None, None, None, None, None, None, None, None, None, None, None, None, None, None, None, None, None, None, None, None, None, None, None, None, None, None, None, None, None, None, None, None, None, None, None, None, None, None, None, None, None, None, None, None, None, None, None, None, None, None, None, None, None, None, None, None, None, None, None, None, None, None, None, None, None, None, None, None, None, None, None, None, None, None, None, None, None, None, None, None, None, None, None, None, None, None, None, None, None, None, None, None, None, None, None, None, None, None, None, None, None, None, None, None, None, None, None, None, None, None, None, None, None, None, None, None, None, None, None, None, None, None, None, None, None, None, None, None, None, None, None, None, None, None, None, None, None, None, None, None, None, None, None, None, None, None, None, None, None, None, None, None, None, None, None, None, None, None, None, None, None, None, None, None, None, None, None, None, None, None, None, None, None, None, None, None, None, None, None, None, None, None, None, None, None, None, None, None, None, None, None, None, None, None, None, None, None, None, None, None, None, None, None, None, None, None, None, None, None, None, None, None, None, None, None, None, None, None, None, None, None, None, None, None, None, None, None, None, None, None, None, None, None, None, None, None, None, None, None, None, None, None, None, None, None, None, None, None, None, None, None, None, None, None, None, None, None, None, None, None, None, None, None, None, None, None, None, None, None, None, None, None, None, None, None, None, None, None, None, None, None, None, None, None, None, None, None, None, None, None, None, None, None, None, None, None, None, None, None, None, None, None, None, None, None, None, None, None, None, None, None, None, None, None, None, None, None, None, None, None, None, None, None, None, None, None, None, None, None, None, None, None, None, None, None, None, None, None, None, None, None, None, None, None, None, None, None, None, None, None, None, None, None, None, None, None, None, None, None, None, None, None, None, None, None, None, None, None, None, None, None, None, None, None, None, None, None, None, None, None, None, None, None, None, None, None, None, None, None, None, None, None, None, None, None, None, None, None, None, None, None, None, None, None, None, None, None, None, None, None, None, None, None, None, None, None, None, None, None, None, None, None, None, None, None, None, None, None, None, None, None, None, None, None, None, None, None, None, None, None, None, None, None, None, None, None, None, None, None, None, None, None, None, None, None, None, None, None, None, None, None, None, None, None, None, None, None, None, None, None, None, None, None, None, None, None, None, None, None, None, None, None, None, None, None, None, None, None, None, None, None, None, None, None, None, None, None, None, None, None, None, None, None, None, None, None, None, None, None, None, None, None, None, None, None, None, None, None, None, None, None, None, None, None, None, None, None, None, None, None, None, None, None, None, None, None, None, None, None, None, None, None, None, None, None, None, None, None, None, None, None, None, None, None, None, None, None, None, None, None, None, None, None, None, None, None, None, None, None, None, None, None, None, None, None, None, None, None, None, None, None, None, None, None, None, None, None, None, None, None, None, None, None, None, None, None, None, None, None, None, None, None, None, None, None, None, None, None, None, None, None, None, None, None, None, None, None, None, None, None, None, None, None, None, None, None, None, None, None, None, None, None, None, None, None, None, None, None, None, None, None, None, None, None, None, None, None, None, None, None, None, None, None, None, None, None, None, None, None, None, None, None, None, None, None, None, None, None, None, None, None, None, None, None, None, None, None, None, None, None, None, None, None, None, None, None, None, None, None, None, None, None, None, None, None, None, None, None, None, None, None, None, None, None, None, None, None, None, None, None, None, None, None, None, None, None, None, None, None, None, None, None, None, None, None, None, None, None, None, None, None, None, None, None, None, None, None, None, None, None, None, None, None, None, None, None, None, None, None, None, None, None, None, None, None, None, None, None, None, None, None, None, None, None, None, None, None, None, None, None, None, None, None, None, None, None, None, None, None, None, None, None, None, None, None, None, None, None, None, None, None, None, None, None, None, None, None, None, None, None, None, None, None, None, None, None, None, None, None, None, None, None, None, None, None, None, None, None, None, None, None, None, None, None, None, None, None, None, None, None, None, None, None, None, None, None, None, None, None, None, None, None, None, None, None, None, None, None, None, None, None, None, None, None, None, None, None, None, None, None, None, None, None, None, None, None, None, None, None, None, None, None, None, None, None, None, None, None, None, None, None, None, None, None, None, None, None, None, None, None, None, None, None, None, None, None, None, None, None, None, None, None, None, None, None, None, None, None, None, None, None, None, None, None, None, None, None, None, None, None, None, None, None, None, None, None, None, None, None, None, None, None, None, None, None, None, None, None, None, None, None, None, None, None, None, None, None, None, None, None, None, None, None, None, None, None, None, None, None, None, None, None, None, None, None, None, None, None, None, None, None, None, None, None, None, None, None, None, None, None, None, None, None, None, None, None, None, None, None, None, None, None, None, None, None, None, None, None, None, None, None, None, None, None, None, None, None, None, None, None, None, None, None, None, None, None, None, None, None, None, None, None, None, None, None, None, None, None, None, None, None, None, None, None, None, None, None, None, None, None, None, None, None, None, None, None, None, None, None, None, None, None, None, None, None, None, None, None, None, None, None, None, None, None, None, None, None, None, None, None, None, None, None, None, None, None, None, None, None, None, None, None, None, None, None, None, None, None, None, None, None, None, None, None, None, None, None, None, None, None, None, None, None, None, None, None, None, None, None, None, None, None, None, None, None, None, None, None, None, None, None, None, None, None, None, None, None, None, None, None, None, None, None, None, None, None, None, None, None, None, None, None, None, None, None, None, None, None, None, None, None, None, None, None, None, None, None, None, None, None, None, None, None, None, None, None, None, None, None, None, None, None, None, None, None, None, None, None, None, None, None, None, None, None, None, None, None, None, None, None, None, None, None, None, None, None, None, None, None, None, None, None], \n",
            "\t[0.6872788667678833, 0.6665250658988953, 0.6463947892189026, 0.6264809966087341, 0.6065841317176819, 0.5868085622787476, 0.5673677325248718, 0.5485174059867859, 0.5305159687995911, 0.5135678648948669, 0.49780869483947754, 0.48330867290496826, 0.4700745940208435, 0.45806634426116943, 0.44721224904060364, 0.4374217092990875, 0.4285953938961029, 0.420634388923645, 0.41344428062438965, 0.40693968534469604, 0.40104255080223083, 0.39568477869033813, 0.3908063471317291, 0.3863562047481537, 0.38228940963745117, 0.3785661458969116, 0.37515369057655334, 0.3720218241214752, 0.3691445291042328, 0.366499125957489, 0.3640653192996979, 0.3618244230747223, 0.35976070165634155, 0.357859343290329, 0.3561067581176758, 0.3544914722442627, 0.3530024588108063, 0.3516297936439514, 0.3503645360469818, 0.3491981327533722, 0.3481232225894928, 0.34713318943977356, 0.3462214469909668, 0.3453821539878845, 0.34461063146591187, 0.3439013361930847, 0.3432505428791046, 0.3426536023616791, 0.34210747480392456, 0.34160852432250977, 0.3411533236503601, 0.34073948860168457, 0.3403642177581787, 0.3400254547595978, 0.33972063660621643, 0.33944788575172424, 0.33920517563819885, 0.33899131417274475, 0.33880454301834106, 0.33864352107048035, 0.3385065495967865, 0.3383927643299103, 0.338300883769989, 0.33823028206825256, 0.33817943930625916, 0.3381477892398834, 0.3381347060203552, 0.338139146566391, 0.3381604254245758, 0.33819815516471863, None, None, None, None, None, None, None, None, None, None, None, None, None, None, None, None, None, None, None, None, None, None, None, None, None, None, None, None, None, None, None, None, None, None, None, None, None, None, None, None, None, None, None, None, None, None, None, None, None, None, None, None, None, None, None, None, None, None, None, None, None, None, None, None, None, None, None, None, None, None, None, None, None, None, None, None, None, None, None, None, None, None, None, None, None, None, None, None, None, None, None, None, None, None, None, None, None, None, None, None, None, None, None, None, None, None, None, None, None, None, None, None, None, None, None, None, None, None, None, None, None, None, None, None, None, None, None, None, None, None, None, None, None, None, None, None, None, None, None, None, None, None, None, None, None, None, None, None, None, None, None, None, None, None, None, None, None, None, None, None, None, None, None, None, None, None, None, None, None, None, None, None, None, None, None, None, None, None, None, None, None, None, None, None, None, None, None, None, None, None, None, None, None, None, None, None, None, None, None, None, None, None, None, None, None, None, None, None, None, None, None, None, None, None, None, None, None, None, None, None, None, None, None, None, None, None, None, None, None, None, None, None, None, None, None, None, None, None, None, None, None, None, None, None, None, None, None, None, None, None, None, None, None, None, None, None, None, None, None, None, None, None, None, None, None, None, None, None, None, None, None, None, None, None, None, None, None, None, None, None, None, None, None, None, None, None, None, None, None, None, None, None, None, None, None, None, None, None, None, None, None, None, None, None, None, None, None, None, None, None, None, None, None, None, None, None, None, None, None, None, None, None, None, None, None, None, None, None, None, None, None, None, None, None, None, None, None, None, None, None, None, None, None, None, None, None, None, None, None, None, None, None, None, None, None, None, None, None, None, None, None, None, None, None, None, None, None, None, None, None, None, None, None, None, None, None, None, None, None, None, None, None, None, None, None, None, None, None, None, None, None, None, None, None, None, None, None, None, None, None, None, None, None, None, None, None, None, None, None, None, None, None, None, None, None, None, None, None, None, None, None, None, None, None, None, None, None, None, None, None, None, None, None, None, None, None, None, None, None, None, None, None, None, None, None, None, None, None, None, None, None, None, None, None, None, None, None, None, None, None, None, None, None, None, None, None, None, None, None, None, None, None, None, None, None, None, None, None, None, None, None, None, None, None, None, None, None, None, None, None, None, None, None, None, None, None, None, None, None, None, None, None, None, None, None, None, None, None, None, None, None, None, None, None, None, None, None, None, None, None, None, None, None, None, None, None, None, None, None, None, None, None, None, None, None, None, None, None, None, None, None, None, None, None, None, None, None, None, None, None, None, None, None, None, None, None, None, None, None, None, None, None, None, None, None, None, None, None, None, None, None, None, None, None, None, None, None, None, None, None, None, None, None, None, None, None, None, None, None, None, None, None, None, None, None, None, None, None, None, None, None, None, None, None, None, None, None, None, None, None, None, None, None, None, None, None, None, None, None, None, None, None, None, None, None, None, None, None, None, None, None, None, None, None, None, None, None, None, None, None, None, None, None, None, None, None, None, None, None, None, None, None, None, None, None, None, None, None, None, None, None, None, None, None, None, None, None, None, None, None, None, None, None, None, None, None, None, None, None, None, None, None, None, None, None, None, None, None, None, None, None, None, None, None, None, None, None, None, None, None, None, None, None, None, None, None, None, None, None, None, None, None, None, None, None, None, None, None, None, None, None, None, None, None, None, None, None, None, None, None, None, None, None, None, None, None, None, None, None, None, None, None, None, None, None, None, None, None, None, None, None, None, None, None, None, None, None, None, None, None, None, None, None, None, None, None, None, None, None, None, None, None, None, None, None, None, None, None, None, None, None, None, None, None, None, None, None, None, None, None, None, None, None, None, None, None, None, None, None, None, None, None, None, None, None, None, None, None, None, None, None, None, None, None, None, None, None, None, None, None, None, None, None, None, None, None, None, None, None, None, None, None, None, None, None, None, None, None, None, None, None, None, None, None, None, None, None, None, None, None, None, None, None, None, None, None, None, None, None, None, None, None, None, None, None, None, None, None, None, None, None, None, None, None, None, None, None, None, None, None, None, None, None, None, None, None, None, None, None, None, None, None, None, None, None, None, None, None, None, None, None, None, None, None, None, None, None, None, None, None, None, None, None, None, None, None, None, None, None, None, None, None, None, None, None, None, None, None, None, None, None, None, None, None, None, None, None, None, None, None, None, None, None, None, None, None, None, None, None, None, None, None, None, None, None, None, None, None, None, None, None, None, None, None, None, None, None, None, None, None, None, None, None, None, None, None, None, None, None, None, None, None, None, None, None, None, None, None, None, None, None, None, None, None, None, None, None, None, None, None, None, None, None, None, None, None, None, None, None, None, None, None, None, None, None, None, None, None, None, None, None, None, None, None, None, None, None, None, None, None, None, None, None, None, None, None, None, None, None, None, None, None, None, None, None, None, None, None, None, None, None, None, None, None, None, None, None, None, None, None, None, None, None, None, None, None, None, None, None, None, None, None, None, None, None, None, None, None, None, None, None, None, None, None, None, None, None, None, None, None, None, None, None, None, None, None, None, None, None, None, None, None, None, None, None, None, None, None, None, None, None, None, None, None, None, None, None, None, None, None, None, None, None, None, None, None, None, None, None, None, None, None, None, None, None, None, None, None, None, None, None, None, None, None, None, None, None, None, None, None, None, None, None, None, None, None, None, None, None, None, None, None, None, None, None, None, None, None, None, None, None, None, None, None, None, None, None, None, None, None, None, None, None, None, None, None, None, None, None, None, None, None, None, None, None, None, None, None, None, None, None, None, None, None, None, None, None, None, None, None, None, None, None, None, None, None, None, None, None, None, None, None, None, None, None, None, None, None, None, None, None, None, None, None, None, None, None, None, None, None, None, None, None, None, None, None, None, None, None, None, None, None, None, None, None, None, None, None, None, None, None, None, None, None, None, None, None, None, None, None, None, None, None, None, None, None, None, None, None, None, None, None, None, None, None, None, None, None, None, None, None, None, None, None, None, None, None, None, None, None, None, None, None, None, None, None, None, None, None, None, None, None, None, None, None, None, None, None, None, None, None, None, None, None, None, None, None, None, None, None, None, None, None, None, None, None, None, None, None, None, None, None, None, None, None, None, None, None, None, None, None, None, None, None, None, None, None, None, None, None, None, None, None, None, None, None, None, None, None, None, None, None, None, None, None, None, None, None, None, None, None, None, None, None, None, None, None, None, None, None, None, None, None, None, None, None, None, None, None, None, None, None, None, None, None, None, None, None, None, None, None, None, None, None, None, None, None, None, None, None, None, None, None, None, None, None, None, None, None, None, None, None, None, None, None, None, None, None, None, None, None, None, None, None, None, None, None, None, None, None, None, None, None, None, None, None, None, None, None, None, None, None, None, None, None, None, None, None, None, None, None, None, None, None, None, None, None, None, None, None, None, None, None, None, None, None, None, None, None, None, None, None, None, None, None, None, None, None, None, None, None, None, None, None, None, None, None, None, None, None, None, None, None, None, None, None, None, None, None, None, None, None, None, None, None, None, None, None, None, None, None, None, None, None, None, None, None, None, None, None, None, None, None, None, None, None, None, None, None, None, None, None, None, None, None, None, None, None, None, None, None, None, None, None, None, None, None, None, None, None, None, None, None, None, None, None, None, None, None, None, None, None, None, None, None, None, None, None, None, None, None, None, None, None, None, None, None, None, None, None, None, None, None, None, None, None, None, None, None, None, None, None, None, None, None, None, None, None, None, None, None, None, None, None, None, None, None, None, None, None, None, None, None, None, None, None, None, None, None, None, None, None, None, None, None, None, None, None, None, None, None, None, None, None, None, None, None, None, None, None, None, None, None, None, None, None, None, None, None, None, None, None, None, None, None, None, None, None, None, None, None, None, None, None, None, None, None, None, None, None, None, None, None, None, None, None, None, None, None, None, None, None, None, None, None, None, None, None, None, None, None, None, None, None, None, None, None, None, None, None, None, None, None, None, None, None, None, None, None, None, None, None, None, None, None, None, None, None, None, None, None, None, None, None, None, None, None, None, None, None, None, None, None, None, None, None, None, None, None, None, None, None, None, None, None, None, None, None, None, None, None, None, None, None, None, None, None, None, None, None, None, None, None, None, None, None, None, None, None, None, None, None, None, None, None, None, None, None, None, None, None, None, None, None, None, None, None, None, None, None, None, None, None, None, None, None, None, None, None, None, None, None, None, None, None, None, None, None, None, None, None, None, None, None, None, None, None, None, None, None, None, None, None, None, None, None, None, None, None, None, None, None, None, None, None, None, None, None, None, None, None, None, None, None, None, None, None, None, None, None, None, None, None, None, None, None, None, None, None, None, None, None, None, None, None, None, None, None, None, None, None, None, None, None, None, None, None, None, None, None, None, None, None, None, None, None, None, None, None, None, None, None, None, None, None, None, None, None, None, None, None, None, None, None, None, None, None, None, None, None, None, None, None, None, None, None, None, None, None, None, None, None, None, None, None, None, None, None, None, None, None, None, None, None, None, None, None, None, None, None, None, None, None, None, None, None, None, None, None, None, None, None, None, None, None, None, None, None, None, None, None, None, None, None, None, None, None, None, None, None, None, None, None, None, None, None, None, None, None, None, None, None, None, None, None, None, None, None, None, None, None, None, None, None, None, None, None, None, None, None, None, None, None, None, None, None, None, None, None, None, None, None, None, None, None, None, None, None, None, None, None, None, None, None, None, None, None, None, None, None, None, None, None, None, None, None, None, None, None, None, None, None, None, None, None, None, None, None, None, None, None, None, None, None, None, None, None, None, None, None, None, None, None, None, None, None, None, None, None, None, None, None, None, None, None, None, None, None, None, None, None, None, None, None, None, None, None, None, None, None, None, None, None, None, None, None, None, None, None, None, None, None, None, None, None, None, None, None, None, None, None, None, None, None, None, None, None, None, None, None, None, None, None, None, None, None, None, None, None, None, None, None, None, None, None, None, None, None, None, None, None, None, None, None, None, None, None, None, None, None, None, None, None, None, None, None, None, None, None, None, None, None, None, None, None, None, None, None, None, None, None, None, None, None, None, None, None, None, None, None, None, None, None, None, None, None, None, None, None, None, None, None, None, None, None, None, None, None, None, None, None, None, None, None, None, None, None, None, None, None, None, None, None, None, None, None, None, None, None, None, None, None, None, None, None, None, None, None, None, None, None, None, None, None, None, None, None, None, None, None, None, None, None, None, None, None, None, None, None, None, None, None, None, None, None, None, None, None, None, None, None, None, None, None, None, None, None, None, None, None, None, None, None, None, None, None, None, None, None, None, None, None, None, None, None, None, None, None, None, None, None, None, None, None, None, None, None, None, None, None, None, None, None, None, None, None, None, None, None, None, None, None, None, None, None, None, None, None, None, None, None, None, None, None, None, None, None, None, None, None, None, None, None, None, None, None, None, None, None, None, None, None, None, None, None, None, None, None, None, None, None, None, None, None, None, None, None, None, None, None, None, None, None, None, None, None, None, None, None, None, None, None, None, None, None, None, None, None, None, None, None, None, None, None, None, None, None, None, None, None, None, None, None, None, None, None, None, None, None, None, None, None, None, None, None, None, None, None, None, None, None, None, None, None, None, None, None, None, None, None, None, None, None, None, None, None, None, None, None, None, None, None, None, None, None, None, None, None, None, None, None, None, None, None, None, None, None, None, None, None, None, None, None, None, None, None, None, None, None, None, None, None, None, None, None, None, None, None, None, None, None, None, None, None, None, None, None, None, None, None, None, None, None, None, None, None, None, None, None, None, None, None, None, None, None, None, None, None, None, None, None, None, None, None, None, None, None, None, None, None, None, None, None, None, None, None, None, None, None, None, None, None, None, None, None, None, None, None, None, None, None, None, None, None, None, None, None, None, None, None, None, None, None, None, None, None, None, None, None, None, None, None, None, None, None, None, None, None, None, None, None, None, None, None, None, None, None, None, None, None, None, None, None, None, None, None, None, None, None, None, None, None, None, None, None, None, None, None, None, None, None, None, None, None, None, None, None, None, None, None, None, None, None, None, None, None, None, None, None, None, None, None, None, None, None, None, None, None, None, None, None, None, None, None, None, None, None, None, None, None, None, None, None, None, None, None, None, None, None, None, None, None, None, None, None, None, None, None, None, None, None, None, None, None, None, None, None, None, None, None, None, None, None, None, None, None, None, None, None, None, None, None, None, None, None, None, None, None, None, None, None, None, None, None, None, None, None, None, None, None, None, None, None, None, None, None, None, None, None, None, None, None, None, None, None, None, None, None, None, None, None, None, None, None, None, None, None, None, None, None, None, None, None, None, None, None, None, None, None, None, None, None, None, None, None, None, None, None, None, None, None, None, None, None, None, None, None, None, None, None, None, None, None, None, None, None, None, None, None, None, None, None, None, None, None, None, None, None, None, None, None, None, None, None, None, None, None, None, None, None, None, None, None, None, None, None, None, None, None, None, None, None, None, None, None, None, None, None, None, None, None, None, None, None, None, None, None, None, None, None, None, None, None, None, None, None, None, None, None, None, None, None, None, None, None, None, None, None, None, None, None, None, None, None, None, None, None, None, None, None, None, None, None, None, None, None, None, None, None, None, None, None, None, None, None, None, None, None, None, None, None, None, None, None, None, None, None, None, None, None, None, None, None, None, None, None, None, None, None, None, None, None, None, None, None, None, None, None, None, None, None, None, None, None, None, None, None, None, None, None, None, None, None, None, None, None, None, None, None, None, None, None, None, None, None, None, None, None, None, None, None, None, None, None, None, None, None, None, None, None, None, None, None, None, None, None, None, None, None, None, None, None, None, None, None, None, None, None, None, None, None, None, None, None, None, None, None, None, None, None, None, None, None, None, None, None, None, None, None, None, None, None, None, None, None, None, None, None, None, None, None, None, None, None, None, None, None, None, None, None, None, None, None, None, None, None, None, None, None, None, None, None, None, None, None, None, None, None, None, None, None, None, None, None, None, None, None, None, None, None, None, None, None, None, None, None, None, None, None, None, None, None, None, None, None, None, None, None, None, None, None, None, None, None, None, None, None, None, None, None, None, None, None, None, None, None, None, None, None, None, None, None, None, None, None, None, None, None, None, None, None, None, None, None, None, None, None, None, None, None, None, None, None, None, None, None, None, None, None, None, None, None, None, None, None, None, None, None, None, None, None, None, None, None, None, None, None, None, None, None, None, None, None, None, None, None, None, None, None, None, None, None, None, None, None, None, None, None, None, None, None, None, None, None, None, None, None, None, None, None, None, None, None, None, None, None, None, None, None, None, None, None, None, None, None, None, None, None, None, None, None, None, None, None, None, None, None, None, None, None, None, None, None, None, None, None, None, None, None, None, None, None, None, None, None, None, None, None, None, None, None, None, None, None, None, None, None, None, None, None, None, None, None, None, None, None, None, None, None, None, None, None, None, None, None, None, None, None, None, None, None, None, None, None, None, None, None, None, None, None, None, None, None, None, None, None, None, None, None, None, None, None, None, None, None, None, None, None, None, None, None, None, None, None, None, None, None, None, None, None, None, None, None, None, None, None, None, None, None, None, None, None, None, None, None, None, None, None, None, None, None, None, None, None, None, None, None, None, None, None, None, None, None, None, None, None, None, None, None, None, None, None, None, None, None, None, None, None, None, None, None, None, None, None, None, None, None, None, None, None, None, None, None, None, None, None, None, None, None, None, None, None, None, None, None, None, None, None, None, None, None, None, None, None, None, None, None, None, None, None, None, None, None, None, None, None, None, None, None, None, None, None, None, None, None, None, None, None, None, None, None, None, None, None, None, None, None, None, None, None, None, None, None, None, None, None, None, None, None, None, None, None, None, None, None, None, None, None, None, None, None, None, None, None, None, None, None, None, None, None, None, None, None, None, None, None, None, None, None, None, None, None, None, None, None, None, None, None, None, None, None, None, None, None, None, None, None, None, None, None, None, None, None, None, None, None, None, None, None, None, None, None, None, None, None, None, None, None, None, None, None, None, None, None, None, None, None, None, None, None, None, None, None, None, None, None, None, None, None, None, None, None, None, None, None, None, None, None, None, None, None, None, None, None, None, None, None, None, None, None, None, None, None, None, None, None, None, None, None, None, None, None, None, None, None, None, None, None, None, None, None, None, None, None, None, None, None, None, None, None, None, None, None, None, None, None, None, None, None, None, None, None, None, None, None, None, None, None, None, None, None, None, None, None, None, None, None, None, None, None, None, None, None, None, None, None, None, None, None, None, None, None, None, None, None, None, None, None, None, None, None, None, None, None, None, None, None, None, None, None, None, None, None, None, None, None, None, None, None, None, None, None, None, None, None, None, None, None, None, None, None, None, None, None, None, None, None, None, None, None, None, None, None, None, None, None, None, None, None, None, None, None, None, None, None, None, None, None, None, None, None, None, None, None, None, None, None, None, None, None, None, None, None, None, None, None, None, None, None, None, None, None, None, None, None, None, None, None, None, None, None, None, None, None, None, None, None, None, None, None, None, None, None, None, None, None, None, None, None, None, None, None, None, None, None, None, None, None, None, None, None, None, None, None, None, None, None, None, None, None, None, None, None, None, None, None, None, None, None, None, None, None, None, None, None, None, None, None, None, None, None, None, None, None, None, None, None, None, None, None, None, None, None, None, None, None, None, None, None, None, None, None, None, None, None, None, None, None, None, None, None, None, None, None, None, None, None, None, None, None, None, None, None, None, None, None, None, None, None, None, None, None, None, None, None, None, None, None, None, None, None, None, None, None, None, None, None, None, None, None, None, None, None, None, None, None, None, None, None, None, None, None, None, None, None, None, None, None, None, None, None, None, None, None, None, None, None, None, None, None, None, None, None, None, None, None, None, None, None, None, None, None, None, None, None, None, None, None, None, None, None, None, None, None, None, None, None, None, None, None, None, None, None, None, None, None, None, None, None, None, None, None, None, None, None, None, None, None, None, None, None, None, None, None, None, None, None, None, None, None, None, None, None, None, None, None, None, None, None, None, None, None, None, None, None, None, None, None, None, None, None, None, None, None, None, None, None, None, None, None, None, None, None, None, None, None, None, None, None, None, None, None, None, None, None, None, None, None, None, None, None, None, None, None, None, None, None, None, None, None, None, None, None, None, None, None, None, None, None, None, None, None, None, None, None, None, None, None, None, None, None, None, None, None, None, None, None, None, None, None, None, None, None, None, None, None, None, None, None, None, None, None, None, None, None, None, None, None, None, None, None, None, None, None, None, None, None, None, None, None, None, None, None, None, None, None, None, None, None, None, None, None, None, None, None, None, None, None, None, None, None, None, None, None, None, None, None, None, None, None, None, None, None, None, None, None, None, None, None, None, None, None, None, None, None, None, None, None, None, None, None, None, None, None, None, None, None, None, None, None, None, None, None, None, None, None, None, None, None, None, None, None, None, None, None, None, None, None, None, None, None, None, None, None, None, None, None, None, None, None, None, None, None, None, None, None, None, None, None, None, None, None, None, None, None, None, None, None, None, None, None, None, None, None, None, None, None, None, None, None, None, None, None, None, None, None, None, None, None, None, None, None, None, None, None, None, None, None, None, None, None, None, None, None, None, None, None, None, None, None, None, None, None, None, None, None, None, None, None, None, None, None, None, None, None, None, None, None, None, None, None, None, None, None, None, None, None, None, None, None, None, None, None, None, None, None, None, None, None, None, None, None, None, None, None, None, None, None, None, None, None, None, None, None, None, None, None, None, None, None, None, None, None, None, None, None, None, None, None, None, None, None, None, None, None, None, None, None, None, None, None, None, None, None, None, None, None, None, None, None, None, None, None, None, None, None, None, None, None, None, None, None, None, None, None, None, None, None, None, None, None, None, None, None, None, None, None, None, None, None, None, None, None, None, None, None, None, None, None, None, None, None, None, None, None, None, None, None, None, None, None, None, None, None, None, None, None, None, None, None, None, None, None, None, None, None, None, None, None, None, None, None, None, None, None, None, None, None, None, None, None, None, None, None, None, None, None, None, None, None, None, None, None, None, None, None, None, None, None, None, None, None, None, None, None, None, None, None, None, None, None, None, None, None, None, None, None, None, None, None, None, None, None, None, None, None, None, None, None, None, None, None, None, None, None, None, None, None, None, None, None, None, None, None, None, None, None, None, None, None, None, None, None, None, None, None, None, None, None, None, None, None, None, None, None, None, None, None, None, None, None, None, None, None, None, None, None, None, None, None, None, None, None, None, None, None, None, None, None, None, None, None, None, None, None, None, None, None, None, None, None, None, None, None, None, None, None, None, None, None, None, None, None, None, None, None, None, None, None, None, None, None, None, None, None, None, None, None, None, None, None, None, None, None, None, None, None, None, None, None, None, None, None, None, None, None, None, None, None, None, None, None, None, None, None, None, None, None, None, None, None, None, None, None, None, None, None, None, None, None, None, None, None, None, None, None, None, None, None, None, None, None, None, None, None, None, None, None, None, None, None, None, None, None, None, None, None, None, None, None, None, None, None, None, None, None, None, None, None, None, None, None, None, None, None, None, None, None, None, None, None, None, None, None, None, None, None, None, None, None, None, None, None, None, None, None, None, None, None, None, None, None, None, None, None, None, None, None, None, None, None, None, None, None, None, None, None, None, None, None, None, None, None, None, None, None, None, None, None, None, None, None, None, None, None, None, None, None, None, None, None, None, None, None, None, None, None, None, None, None, None, None, None, None, None, None, None, None, None, None, None, None, None, None, None, None, None, None, None, None, None, None, None, None, None, None, None, None, None, None, None, None, None, None, None, None, None, None, None, None, None, None, None, None, None, None, None, None, None, None, None, None, None, None, None, None, None, None, None, None, None, None, None, None, None, None, None, None, None, None, None, None, None, None, None, None, None, None, None, None, None, None, None, None, None, None, None, None, None, None, None, None, None, None, None, None, None, None, None, None, None, None, None, None, None, None, None, None, None, None, None, None, None, None, None, None, None, None, None, None, None, None, None, None, None, None, None, None, None, None, None, None, None, None, None, None, None, None, None, None, None, None, None, None, None, None, None, None, None, None, None, None, None, None, None, None, None, None, None, None, None, None, None, None, None, None, None, None, None, None, None, None, None, None, None, None, None, None, None, None, None, None, None, None, None, None, None, None, None, None, None, None, None, None, None, None, None, None, None, None, None, None, None, None, None, None, None, None, None, None, None, None, None, None, None, None, None, None, None, None, None, None, None, None, None, None, None, None, None, None, None, None, None, None, None, None, None, None, None, None, None, None, None, None, None, None, None, None, None, None, None, None, None, None, None, None, None, None, None, None, None, None, None, None, None, None, None, None, None, None], \n",
            "\tover the training epochs, respectively.\n"
          ],
          "name": "stdout"
        },
        {
          "output_type": "display_data",
          "data": {
            "image/png": "[encoded data removed]",
            "text/plain": [
              "<Figure size 432x288 with 1 Axes>"
            ]
          },
          "metadata": {
            "tags": [],
            "needs_background": "light"
          }
        },
        {
          "output_type": "display_data",
          "data": {
            "image/png": "[encoded data removed]",
            "text/plain": [
              "<Figure size 432x288 with 1 Axes>"
            ]
          },
          "metadata": {
            "tags": [],
            "needs_background": "light"
          }
        }
      ]
    },
    {
      "cell_type": "markdown",
      "metadata": {
        "id": "Bz21WU0_qQQN"
      },
      "source": [
        "As we can see the results are pretty similar to the logisitic regression. we also got val loss around ~0.33. In most cases even a little bit bigger than logisitic regression. 1 layer is good enough to generlize the extracted features data."
      ]
    },
    {
      "cell_type": "markdown",
      "metadata": {
        "id": "jMgHb-WkNhDv"
      },
      "source": [
        "**Here you should merge the feature extractor network layers with the PyTorch logistic regression classifier.**"
      ]
    },
    {
      "cell_type": "code",
      "metadata": {
        "id": "opU-zD3NNhDv"
      },
      "source": [
        "#already done on definiton of MyResnet using cases in MyResnet class"
      ],
      "execution_count": 14,
      "outputs": []
    },
    {
      "cell_type": "markdown",
      "metadata": {
        "id": "PTfaIOqGNhDv"
      },
      "source": [
        "# Comparing  ResNet18 with ResNet34:"
      ]
    },
    {
      "cell_type": "markdown",
      "metadata": {
        "id": "mDH0ovjoNhDv"
      },
      "source": [
        "#### Download the ResNet34 Network from torchvision.models. Then, repeat the steps described above in order to compare between these ResNet18 and ResNet34. Explain your findings and results!"
      ]
    },
    {
      "cell_type": "code",
      "metadata": {
        "id": "2E8cu6frNhDv",
        "colab": {
          "base_uri": "https://localhost:8080/",
          "height": 116,
          "referenced_widgets": [
            "458e5eba22224d4291d5f50b5309457b",
            "f98062f926314c12920f2e797c2a4ea1",
            "89f334c324aa4a0b81f3e06079100caf",
            "ec82ae17b71246dfb1b1fd21db54860a",
            "2bd96ec295084a84a97012e2b8aecd3c",
            "b8d2761ed7e849b2a826fe8efd78ad98",
            "5e9989dca09247f4a458f4eb74e0d226",
            "4ef8630691b64f0fae291f00c42ab3ce"
          ]
        },
        "outputId": "1f6a00a3-8b79-4fae-cc19-b53d82d2b15f"
      },
      "source": [
        "# logistic regression with resnet34 and pytorch\n",
        "classifyer34 = nn.Sequential(nn.Linear(512, 2))\n",
        "net34 = MyResNet(classifyer34, 34)\n",
        "# in case we already extracted the features using resnet34, skip the extraction process(for development)\n",
        "if(RESNET34_EXTRACTED_DATA_EXIST == False):\n",
        "\n",
        "    X_extracted_features_train34, y_extracted_features_train34 = net34.extract_features_from_dataloader(\n",
        "        tr_dataloader)\n",
        "    X_extracted_features_test34, y_extracted_features_test34 = net34.extract_features_from_dataloader(\n",
        "        val_dataloader)\n",
        "    print(X_extracted_features_train34.shape)\n",
        "    print(X_extracted_features_test34.shape)\n",
        "    torch.save(X_extracted_features_train,\n",
        "                args.X_train_extracted_from_resnet34_file_name)\n",
        "    torch.save(y_extracted_features_train,\n",
        "                args.y_train_extracted_from_resnet34_file_name)\n",
        "    torch.save(X_extracted_features_test,\n",
        "                args.X_test_extracted_from_resnet34_file_name)\n",
        "    torch.save(y_extracted_features_test,\n",
        "                args.y_test_extracted_from_resnet34_file_name)\n",
        "else:\n",
        "    # load the files\n",
        "    X_extracted_features_train34 = torch.load(\n",
        "        args.X_train_extracted_from_resnet34_file_name)\n",
        "    y_extracted_features_train34 = torch.load(\n",
        "        args.y_train_extracted_from_resnet34_file_name)\n",
        "    X_extracted_features_test34 = torch.load(\n",
        "        args.X_test_extracted_from_resnet34_file_name)\n",
        "    y_extracted_features_test34 = torch.load(\n",
        "        args.y_test_extracted_from_resnet34_file_name)"
      ],
      "execution_count": 15,
      "outputs": [
        {
          "output_type": "stream",
          "text": [
            "Downloading: \"https://download.pytorch.org/models/resnet34-333f7ec4.pth\" to /root/.cache/torch/hub/checkpoints/resnet34-333f7ec4.pth\n"
          ],
          "name": "stderr"
        },
        {
          "output_type": "display_data",
          "data": {
            "application/vnd.jupyter.widget-view+json": {
              "model_id": "458e5eba22224d4291d5f50b5309457b",
              "version_minor": 0,
              "version_major": 2
            },
            "text/plain": [
              "HBox(children=(FloatProgress(value=0.0, max=87306240.0), HTML(value='')))"
            ]
          },
          "metadata": {
            "tags": []
          }
        },
        {
          "output_type": "stream",
          "text": [
            "\n",
            "torch.Size([1600, 512])\n",
            "torch.Size([500, 512])\n"
          ],
          "name": "stdout"
        }
      ]
    },
    {
      "cell_type": "markdown",
      "metadata": {
        "id": "BqQ1XkVBNhDw"
      },
      "source": [
        "# Logistic Regression with scikit-learn library:"
      ]
    },
    {
      "cell_type": "code",
      "metadata": {
        "id": "TobCVpA7NhDw",
        "colab": {
          "base_uri": "https://localhost:8080/"
        },
        "outputId": "5ef103b9-f147-4ad2-aba3-d314cffd37ba"
      },
      "source": [
        "# logistic regression with sklearn over resnet34 extracted data\n",
        "\n",
        "logisticRegr34 = LogisticRegression(penalty='l2',solver='lbfgs',tol=1e-3, max_iter=1000)\n",
        "clf34 = logisticRegr34.fit(X_extracted_features_train34,\n",
        "                        y_extracted_features_train34)\n",
        "pred_probs_train34 = clf34.predict_proba(X_extracted_features_train34)[:,1] # prediction on training set\n",
        "pred_probs_test34 = clf34.predict_proba(X_extracted_features_test34)[:,1]  #prediction on test set\n",
        "\n",
        "\n",
        "# train accuracy and auc\n",
        "accuracy_train_lr34 = clf34.score(\n",
        "    X_extracted_features_train34, y_extracted_features_train34)\n",
        "auc_train_lr34 = roc_auc_score(y_extracted_features_train34.numpy(),pred_probs_train34)\n",
        "# test accuracy and auc\n",
        "accuracy_test_lr34 = clf34.score(\n",
        "    X_extracted_features_test34, y_extracted_features_test34)\n",
        "auc_test_lr34 = roc_auc_score(y_extracted_features_test34.numpy(),pred_probs_test34)\n",
        "\n",
        "print(\"train results:\")\n",
        "print('accuracy:', accuracy_train_lr34)\n",
        "print('auc', auc_train_lr34)\n",
        "print(\"test results:\")\n",
        "print('accuracy:', accuracy_test_lr34)\n",
        "print('auc', auc_test_lr34)\n",
        "print()\n"
      ],
      "execution_count": 16,
      "outputs": [
        {
          "output_type": "stream",
          "text": [
            "train results:\n",
            "accuracy: 0.996875\n",
            "auc 0.9999203124999999\n",
            "test results:\n",
            "accuracy: 0.83\n",
            "auc 0.926976\n",
            "\n"
          ],
          "name": "stdout"
        }
      ]
    },
    {
      "cell_type": "markdown",
      "metadata": {
        "id": "ZbFuwjKZtbdQ"
      },
      "source": [
        "As we can see , accuracy and auc are very similar to resnet18.\r\n",
        "the auc is around ~0.92 and accuracy is around ~0.82.\r\n",
        "Hence we can conclude that the resnet18 extracted the features good enough so resnet34 hasn't any added value."
      ]
    },
    {
      "cell_type": "markdown",
      "metadata": {
        "id": "6aifqyfvNhDw"
      },
      "source": [
        "# Logistic Regression with pytorch for ResNet34:"
      ]
    },
    {
      "cell_type": "markdown",
      "metadata": {
        "id": "GckeBwueNhDw"
      },
      "source": [
        "#### Define the model:"
      ]
    },
    {
      "cell_type": "code",
      "metadata": {
        "id": "eWk9z9NONhDx",
        "colab": {
          "base_uri": "https://localhost:8080/"
        },
        "outputId": "770202bf-9189-45be-8805-c5f518501283"
      },
      "source": [
        "#Define above in MyResNet class\n",
        "net34\n"
      ],
      "execution_count": 17,
      "outputs": [
        {
          "output_type": "execute_result",
          "data": {
            "text/plain": [
              "MyResNet(\n",
              "  (features): ResNet(\n",
              "    (conv1): Conv2d(3, 64, kernel_size=(7, 7), stride=(2, 2), padding=(3, 3), bias=False)\n",
              "    (bn1): BatchNorm2d(64, eps=1e-05, momentum=0.1, affine=True, track_running_stats=True)\n",
              "    (relu): ReLU(inplace=True)\n",
              "    (maxpool): MaxPool2d(kernel_size=3, stride=2, padding=1, dilation=1, ceil_mode=False)\n",
              "    (layer1): Sequential(\n",
              "      (0): BasicBlock(\n",
              "        (conv1): Conv2d(64, 64, kernel_size=(3, 3), stride=(1, 1), padding=(1, 1), bias=False)\n",
              "        (bn1): BatchNorm2d(64, eps=1e-05, momentum=0.1, affine=True, track_running_stats=True)\n",
              "        (relu): ReLU(inplace=True)\n",
              "        (conv2): Conv2d(64, 64, kernel_size=(3, 3), stride=(1, 1), padding=(1, 1), bias=False)\n",
              "        (bn2): BatchNorm2d(64, eps=1e-05, momentum=0.1, affine=True, track_running_stats=True)\n",
              "      )\n",
              "      (1): BasicBlock(\n",
              "        (conv1): Conv2d(64, 64, kernel_size=(3, 3), stride=(1, 1), padding=(1, 1), bias=False)\n",
              "        (bn1): BatchNorm2d(64, eps=1e-05, momentum=0.1, affine=True, track_running_stats=True)\n",
              "        (relu): ReLU(inplace=True)\n",
              "        (conv2): Conv2d(64, 64, kernel_size=(3, 3), stride=(1, 1), padding=(1, 1), bias=False)\n",
              "        (bn2): BatchNorm2d(64, eps=1e-05, momentum=0.1, affine=True, track_running_stats=True)\n",
              "      )\n",
              "      (2): BasicBlock(\n",
              "        (conv1): Conv2d(64, 64, kernel_size=(3, 3), stride=(1, 1), padding=(1, 1), bias=False)\n",
              "        (bn1): BatchNorm2d(64, eps=1e-05, momentum=0.1, affine=True, track_running_stats=True)\n",
              "        (relu): ReLU(inplace=True)\n",
              "        (conv2): Conv2d(64, 64, kernel_size=(3, 3), stride=(1, 1), padding=(1, 1), bias=False)\n",
              "        (bn2): BatchNorm2d(64, eps=1e-05, momentum=0.1, affine=True, track_running_stats=True)\n",
              "      )\n",
              "    )\n",
              "    (layer2): Sequential(\n",
              "      (0): BasicBlock(\n",
              "        (conv1): Conv2d(64, 128, kernel_size=(3, 3), stride=(2, 2), padding=(1, 1), bias=False)\n",
              "        (bn1): BatchNorm2d(128, eps=1e-05, momentum=0.1, affine=True, track_running_stats=True)\n",
              "        (relu): ReLU(inplace=True)\n",
              "        (conv2): Conv2d(128, 128, kernel_size=(3, 3), stride=(1, 1), padding=(1, 1), bias=False)\n",
              "        (bn2): BatchNorm2d(128, eps=1e-05, momentum=0.1, affine=True, track_running_stats=True)\n",
              "        (downsample): Sequential(\n",
              "          (0): Conv2d(64, 128, kernel_size=(1, 1), stride=(2, 2), bias=False)\n",
              "          (1): BatchNorm2d(128, eps=1e-05, momentum=0.1, affine=True, track_running_stats=True)\n",
              "        )\n",
              "      )\n",
              "      (1): BasicBlock(\n",
              "        (conv1): Conv2d(128, 128, kernel_size=(3, 3), stride=(1, 1), padding=(1, 1), bias=False)\n",
              "        (bn1): BatchNorm2d(128, eps=1e-05, momentum=0.1, affine=True, track_running_stats=True)\n",
              "        (relu): ReLU(inplace=True)\n",
              "        (conv2): Conv2d(128, 128, kernel_size=(3, 3), stride=(1, 1), padding=(1, 1), bias=False)\n",
              "        (bn2): BatchNorm2d(128, eps=1e-05, momentum=0.1, affine=True, track_running_stats=True)\n",
              "      )\n",
              "      (2): BasicBlock(\n",
              "        (conv1): Conv2d(128, 128, kernel_size=(3, 3), stride=(1, 1), padding=(1, 1), bias=False)\n",
              "        (bn1): BatchNorm2d(128, eps=1e-05, momentum=0.1, affine=True, track_running_stats=True)\n",
              "        (relu): ReLU(inplace=True)\n",
              "        (conv2): Conv2d(128, 128, kernel_size=(3, 3), stride=(1, 1), padding=(1, 1), bias=False)\n",
              "        (bn2): BatchNorm2d(128, eps=1e-05, momentum=0.1, affine=True, track_running_stats=True)\n",
              "      )\n",
              "      (3): BasicBlock(\n",
              "        (conv1): Conv2d(128, 128, kernel_size=(3, 3), stride=(1, 1), padding=(1, 1), bias=False)\n",
              "        (bn1): BatchNorm2d(128, eps=1e-05, momentum=0.1, affine=True, track_running_stats=True)\n",
              "        (relu): ReLU(inplace=True)\n",
              "        (conv2): Conv2d(128, 128, kernel_size=(3, 3), stride=(1, 1), padding=(1, 1), bias=False)\n",
              "        (bn2): BatchNorm2d(128, eps=1e-05, momentum=0.1, affine=True, track_running_stats=True)\n",
              "      )\n",
              "    )\n",
              "    (layer3): Sequential(\n",
              "      (0): BasicBlock(\n",
              "        (conv1): Conv2d(128, 256, kernel_size=(3, 3), stride=(2, 2), padding=(1, 1), bias=False)\n",
              "        (bn1): BatchNorm2d(256, eps=1e-05, momentum=0.1, affine=True, track_running_stats=True)\n",
              "        (relu): ReLU(inplace=True)\n",
              "        (conv2): Conv2d(256, 256, kernel_size=(3, 3), stride=(1, 1), padding=(1, 1), bias=False)\n",
              "        (bn2): BatchNorm2d(256, eps=1e-05, momentum=0.1, affine=True, track_running_stats=True)\n",
              "        (downsample): Sequential(\n",
              "          (0): Conv2d(128, 256, kernel_size=(1, 1), stride=(2, 2), bias=False)\n",
              "          (1): BatchNorm2d(256, eps=1e-05, momentum=0.1, affine=True, track_running_stats=True)\n",
              "        )\n",
              "      )\n",
              "      (1): BasicBlock(\n",
              "        (conv1): Conv2d(256, 256, kernel_size=(3, 3), stride=(1, 1), padding=(1, 1), bias=False)\n",
              "        (bn1): BatchNorm2d(256, eps=1e-05, momentum=0.1, affine=True, track_running_stats=True)\n",
              "        (relu): ReLU(inplace=True)\n",
              "        (conv2): Conv2d(256, 256, kernel_size=(3, 3), stride=(1, 1), padding=(1, 1), bias=False)\n",
              "        (bn2): BatchNorm2d(256, eps=1e-05, momentum=0.1, affine=True, track_running_stats=True)\n",
              "      )\n",
              "      (2): BasicBlock(\n",
              "        (conv1): Conv2d(256, 256, kernel_size=(3, 3), stride=(1, 1), padding=(1, 1), bias=False)\n",
              "        (bn1): BatchNorm2d(256, eps=1e-05, momentum=0.1, affine=True, track_running_stats=True)\n",
              "        (relu): ReLU(inplace=True)\n",
              "        (conv2): Conv2d(256, 256, kernel_size=(3, 3), stride=(1, 1), padding=(1, 1), bias=False)\n",
              "        (bn2): BatchNorm2d(256, eps=1e-05, momentum=0.1, affine=True, track_running_stats=True)\n",
              "      )\n",
              "      (3): BasicBlock(\n",
              "        (conv1): Conv2d(256, 256, kernel_size=(3, 3), stride=(1, 1), padding=(1, 1), bias=False)\n",
              "        (bn1): BatchNorm2d(256, eps=1e-05, momentum=0.1, affine=True, track_running_stats=True)\n",
              "        (relu): ReLU(inplace=True)\n",
              "        (conv2): Conv2d(256, 256, kernel_size=(3, 3), stride=(1, 1), padding=(1, 1), bias=False)\n",
              "        (bn2): BatchNorm2d(256, eps=1e-05, momentum=0.1, affine=True, track_running_stats=True)\n",
              "      )\n",
              "      (4): BasicBlock(\n",
              "        (conv1): Conv2d(256, 256, kernel_size=(3, 3), stride=(1, 1), padding=(1, 1), bias=False)\n",
              "        (bn1): BatchNorm2d(256, eps=1e-05, momentum=0.1, affine=True, track_running_stats=True)\n",
              "        (relu): ReLU(inplace=True)\n",
              "        (conv2): Conv2d(256, 256, kernel_size=(3, 3), stride=(1, 1), padding=(1, 1), bias=False)\n",
              "        (bn2): BatchNorm2d(256, eps=1e-05, momentum=0.1, affine=True, track_running_stats=True)\n",
              "      )\n",
              "      (5): BasicBlock(\n",
              "        (conv1): Conv2d(256, 256, kernel_size=(3, 3), stride=(1, 1), padding=(1, 1), bias=False)\n",
              "        (bn1): BatchNorm2d(256, eps=1e-05, momentum=0.1, affine=True, track_running_stats=True)\n",
              "        (relu): ReLU(inplace=True)\n",
              "        (conv2): Conv2d(256, 256, kernel_size=(3, 3), stride=(1, 1), padding=(1, 1), bias=False)\n",
              "        (bn2): BatchNorm2d(256, eps=1e-05, momentum=0.1, affine=True, track_running_stats=True)\n",
              "      )\n",
              "    )\n",
              "    (layer4): Sequential(\n",
              "      (0): BasicBlock(\n",
              "        (conv1): Conv2d(256, 512, kernel_size=(3, 3), stride=(2, 2), padding=(1, 1), bias=False)\n",
              "        (bn1): BatchNorm2d(512, eps=1e-05, momentum=0.1, affine=True, track_running_stats=True)\n",
              "        (relu): ReLU(inplace=True)\n",
              "        (conv2): Conv2d(512, 512, kernel_size=(3, 3), stride=(1, 1), padding=(1, 1), bias=False)\n",
              "        (bn2): BatchNorm2d(512, eps=1e-05, momentum=0.1, affine=True, track_running_stats=True)\n",
              "        (downsample): Sequential(\n",
              "          (0): Conv2d(256, 512, kernel_size=(1, 1), stride=(2, 2), bias=False)\n",
              "          (1): BatchNorm2d(512, eps=1e-05, momentum=0.1, affine=True, track_running_stats=True)\n",
              "        )\n",
              "      )\n",
              "      (1): BasicBlock(\n",
              "        (conv1): Conv2d(512, 512, kernel_size=(3, 3), stride=(1, 1), padding=(1, 1), bias=False)\n",
              "        (bn1): BatchNorm2d(512, eps=1e-05, momentum=0.1, affine=True, track_running_stats=True)\n",
              "        (relu): ReLU(inplace=True)\n",
              "        (conv2): Conv2d(512, 512, kernel_size=(3, 3), stride=(1, 1), padding=(1, 1), bias=False)\n",
              "        (bn2): BatchNorm2d(512, eps=1e-05, momentum=0.1, affine=True, track_running_stats=True)\n",
              "      )\n",
              "      (2): BasicBlock(\n",
              "        (conv1): Conv2d(512, 512, kernel_size=(3, 3), stride=(1, 1), padding=(1, 1), bias=False)\n",
              "        (bn1): BatchNorm2d(512, eps=1e-05, momentum=0.1, affine=True, track_running_stats=True)\n",
              "        (relu): ReLU(inplace=True)\n",
              "        (conv2): Conv2d(512, 512, kernel_size=(3, 3), stride=(1, 1), padding=(1, 1), bias=False)\n",
              "        (bn2): BatchNorm2d(512, eps=1e-05, momentum=0.1, affine=True, track_running_stats=True)\n",
              "      )\n",
              "    )\n",
              "    (avgpool): AdaptiveAvgPool2d(output_size=(1, 1))\n",
              "    (fc): Identity()\n",
              "  )\n",
              "  (classifyer): Sequential(\n",
              "    (0): Linear(in_features=512, out_features=2, bias=True)\n",
              "  )\n",
              ")"
            ]
          },
          "metadata": {
            "tags": []
          },
          "execution_count": 17
        }
      ]
    },
    {
      "cell_type": "markdown",
      "metadata": {
        "id": "hBFj1SxzNhDx"
      },
      "source": [
        "#### Training and validation:"
      ]
    },
    {
      "cell_type": "code",
      "metadata": {
        "id": "LfPTfDqTNhDx",
        "colab": {
          "base_uri": "https://localhost:8080/"
        },
        "outputId": "8e994ae3-528b-475a-90cc-fb8016ec4752"
      },
      "source": [
        "tr_loss34, val_loss34, test_loss34, tr_auc34, val_auc34, untrained_test_loss34, untrained_test_auc34 = training_loop(\n",
        "    args,\n",
        "    net34,\n",
        "    X_extracted_features_train34,\n",
        "    y_extracted_features_train34,\n",
        "    X_extracted_features_test34,\n",
        "    y_extracted_features_test34,\n",
        "    val_dataloader=None,\n",
        "    criterion_func=nn.CrossEntropyLoss\n",
        ")"
      ],
      "execution_count": 18,
      "outputs": [
        {
          "output_type": "stream",
          "text": [
            "100%|██████████| 11/11 [00:00<00:00, 257.43it/s]\n",
            "100%|██████████| 11/11 [00:00<00:00, 287.08it/s]\n",
            "100%|██████████| 11/11 [00:00<00:00, 403.08it/s]\n",
            "100%|██████████| 11/11 [00:00<00:00, 415.14it/s]\n",
            "  0%|          | 0/11 [00:00<?, ?it/s]"
          ],
          "name": "stderr"
        },
        {
          "output_type": "stream",
          "text": [
            "Train loss: 7.05e-01, Val loss: 6.81e-01\n",
            "Best val loss is: 6.81e-01\n",
            "Train loss: 6.72e-01, Val loss: 6.48e-01\n",
            "Best val loss is: 6.48e-01\n",
            "Train loss: 6.42e-01, Val loss: 6.19e-01\n",
            "Best val loss is: 6.19e-01\n",
            "Train loss: 6.15e-01, Val loss: 5.94e-01\n",
            "Best val loss is: 5.94e-01\n"
          ],
          "name": "stdout"
        },
        {
          "output_type": "stream",
          "text": [
            "100%|██████████| 11/11 [00:00<00:00, 380.64it/s]\n",
            "100%|██████████| 11/11 [00:00<00:00, 386.87it/s]\n",
            "  0%|          | 0/11 [00:00<?, ?it/s]"
          ],
          "name": "stderr"
        },
        {
          "output_type": "stream",
          "text": [
            "Train loss: 5.91e-01, Val loss: 5.70e-01\n",
            "Best val loss is: 5.70e-01\n",
            "Train loss: 5.69e-01, Val loss: 5.50e-01\n",
            "Best val loss is: 5.50e-01\n"
          ],
          "name": "stdout"
        },
        {
          "output_type": "stream",
          "text": [
            "100%|██████████| 11/11 [00:00<00:00, 335.73it/s]\n",
            "100%|██████████| 11/11 [00:00<00:00, 374.05it/s]\n",
            "100%|██████████| 11/11 [00:00<00:00, 395.51it/s]\n",
            "100%|██████████| 11/11 [00:00<00:00, 398.07it/s]\n",
            "  0%|          | 0/11 [00:00<?, ?it/s]"
          ],
          "name": "stderr"
        },
        {
          "output_type": "stream",
          "text": [
            "Train loss: 5.49e-01, Val loss: 5.31e-01\n",
            "Best val loss is: 5.31e-01\n",
            "Train loss: 5.31e-01, Val loss: 5.15e-01\n",
            "Best val loss is: 5.15e-01\n",
            "Train loss: 5.15e-01, Val loss: 5.00e-01\n",
            "Best val loss is: 5.00e-01\n",
            "Train loss: 5.00e-01, Val loss: 4.87e-01\n",
            "Best val loss is: 4.87e-01\n"
          ],
          "name": "stdout"
        },
        {
          "output_type": "stream",
          "text": [
            "100%|██████████| 11/11 [00:00<00:00, 329.29it/s]\n",
            "100%|██████████| 11/11 [00:00<00:00, 385.43it/s]\n",
            "  0%|          | 0/11 [00:00<?, ?it/s]"
          ],
          "name": "stderr"
        },
        {
          "output_type": "stream",
          "text": [
            "Train loss: 4.87e-01, Val loss: 4.75e-01\n",
            "Best val loss is: 4.75e-01\n",
            "Train loss: 4.75e-01, Val loss: 4.65e-01\n",
            "Best val loss is: 4.65e-01\n"
          ],
          "name": "stdout"
        },
        {
          "output_type": "stream",
          "text": [
            "100%|██████████| 11/11 [00:00<00:00, 365.12it/s]\n",
            "100%|██████████| 11/11 [00:00<00:00, 391.10it/s]\n",
            "100%|██████████| 11/11 [00:00<00:00, 413.63it/s]\n",
            "100%|██████████| 11/11 [00:00<00:00, 399.93it/s]\n",
            "  0%|          | 0/11 [00:00<?, ?it/s]"
          ],
          "name": "stderr"
        },
        {
          "output_type": "stream",
          "text": [
            "Train loss: 4.64e-01, Val loss: 4.55e-01\n",
            "Best val loss is: 4.55e-01\n",
            "Train loss: 4.54e-01, Val loss: 4.46e-01\n",
            "Best val loss is: 4.46e-01\n",
            "Train loss: 4.44e-01, Val loss: 4.38e-01\n",
            "Best val loss is: 4.38e-01\n",
            "Train loss: 4.36e-01, Val loss: 4.31e-01\n",
            "Best val loss is: 4.31e-01\n"
          ],
          "name": "stdout"
        },
        {
          "output_type": "stream",
          "text": [
            "100%|██████████| 11/11 [00:00<00:00, 359.36it/s]\n",
            "100%|██████████| 11/11 [00:00<00:00, 334.22it/s]\n",
            "  0%|          | 0/11 [00:00<?, ?it/s]"
          ],
          "name": "stderr"
        },
        {
          "output_type": "stream",
          "text": [
            "Train loss: 4.28e-01, Val loss: 4.24e-01\n",
            "Best val loss is: 4.24e-01\n",
            "Train loss: 4.20e-01, Val loss: 4.18e-01\n",
            "Best val loss is: 4.18e-01\n"
          ],
          "name": "stdout"
        },
        {
          "output_type": "stream",
          "text": [
            "100%|██████████| 11/11 [00:00<00:00, 328.89it/s]\n",
            "100%|██████████| 11/11 [00:00<00:00, 332.54it/s]\n",
            "100%|██████████| 11/11 [00:00<00:00, 398.04it/s]\n",
            "100%|██████████| 11/11 [00:00<00:00, 400.02it/s]\n",
            "  0%|          | 0/11 [00:00<?, ?it/s]"
          ],
          "name": "stderr"
        },
        {
          "output_type": "stream",
          "text": [
            "Train loss: 4.13e-01, Val loss: 4.12e-01\n",
            "Best val loss is: 4.12e-01\n",
            "Train loss: 4.07e-01, Val loss: 4.07e-01\n",
            "Best val loss is: 4.07e-01\n",
            "Train loss: 4.01e-01, Val loss: 4.02e-01\n",
            "Best val loss is: 4.02e-01\n",
            "Train loss: 3.95e-01, Val loss: 3.97e-01\n",
            "Best val loss is: 3.97e-01\n"
          ],
          "name": "stdout"
        },
        {
          "output_type": "stream",
          "text": [
            "100%|██████████| 11/11 [00:00<00:00, 364.33it/s]\n",
            "100%|██████████| 11/11 [00:00<00:00, 394.06it/s]\n",
            "  0%|          | 0/11 [00:00<?, ?it/s]"
          ],
          "name": "stderr"
        },
        {
          "output_type": "stream",
          "text": [
            "Train loss: 3.90e-01, Val loss: 3.93e-01\n",
            "Best val loss is: 3.93e-01\n",
            "Train loss: 3.85e-01, Val loss: 3.89e-01\n",
            "Best val loss is: 3.89e-01\n"
          ],
          "name": "stdout"
        },
        {
          "output_type": "stream",
          "text": [
            "100%|██████████| 11/11 [00:00<00:00, 336.59it/s]\n",
            "100%|██████████| 11/11 [00:00<00:00, 359.52it/s]\n",
            "100%|██████████| 11/11 [00:00<00:00, 391.09it/s]\n",
            "100%|██████████| 11/11 [00:00<00:00, 394.20it/s]\n",
            "  0%|          | 0/11 [00:00<?, ?it/s]"
          ],
          "name": "stderr"
        },
        {
          "output_type": "stream",
          "text": [
            "Train loss: 3.80e-01, Val loss: 3.85e-01\n",
            "Best val loss is: 3.85e-01\n",
            "Train loss: 3.76e-01, Val loss: 3.82e-01\n",
            "Best val loss is: 3.82e-01\n",
            "Train loss: 3.71e-01, Val loss: 3.78e-01\n",
            "Best val loss is: 3.78e-01\n",
            "Train loss: 3.67e-01, Val loss: 3.75e-01\n",
            "Best val loss is: 3.75e-01\n"
          ],
          "name": "stdout"
        },
        {
          "output_type": "stream",
          "text": [
            "100%|██████████| 11/11 [00:00<00:00, 313.42it/s]\n",
            "100%|██████████| 11/11 [00:00<00:00, 366.85it/s]\n",
            "  0%|          | 0/11 [00:00<?, ?it/s]"
          ],
          "name": "stderr"
        },
        {
          "output_type": "stream",
          "text": [
            "Train loss: 3.63e-01, Val loss: 3.72e-01\n",
            "Best val loss is: 3.72e-01\n",
            "Train loss: 3.60e-01, Val loss: 3.70e-01\n",
            "Best val loss is: 3.70e-01\n"
          ],
          "name": "stdout"
        },
        {
          "output_type": "stream",
          "text": [
            "100%|██████████| 11/11 [00:00<00:00, 368.72it/s]\n",
            "100%|██████████| 11/11 [00:00<00:00, 387.01it/s]\n",
            "100%|██████████| 11/11 [00:00<00:00, 384.66it/s]\n",
            "100%|██████████| 11/11 [00:00<00:00, 350.91it/s]\n",
            "  0%|          | 0/11 [00:00<?, ?it/s]"
          ],
          "name": "stderr"
        },
        {
          "output_type": "stream",
          "text": [
            "Train loss: 3.56e-01, Val loss: 3.67e-01\n",
            "Best val loss is: 3.67e-01\n",
            "Train loss: 3.53e-01, Val loss: 3.65e-01\n",
            "Best val loss is: 3.65e-01\n",
            "Train loss: 3.50e-01, Val loss: 3.63e-01\n",
            "Best val loss is: 3.63e-01\n",
            "Train loss: 3.47e-01, Val loss: 3.60e-01\n",
            "Best val loss is: 3.60e-01\n"
          ],
          "name": "stdout"
        },
        {
          "output_type": "stream",
          "text": [
            "100%|██████████| 11/11 [00:00<00:00, 365.25it/s]\n",
            "100%|██████████| 11/11 [00:00<00:00, 387.69it/s]\n",
            "  0%|          | 0/11 [00:00<?, ?it/s]"
          ],
          "name": "stderr"
        },
        {
          "output_type": "stream",
          "text": [
            "Train loss: 3.44e-01, Val loss: 3.58e-01\n",
            "Best val loss is: 3.58e-01\n",
            "Train loss: 3.41e-01, Val loss: 3.56e-01\n",
            "Best val loss is: 3.56e-01\n"
          ],
          "name": "stdout"
        },
        {
          "output_type": "stream",
          "text": [
            "100%|██████████| 11/11 [00:00<00:00, 379.87it/s]\n",
            "100%|██████████| 11/11 [00:00<00:00, 389.65it/s]\n",
            "100%|██████████| 11/11 [00:00<00:00, 337.55it/s]\n",
            "100%|██████████| 11/11 [00:00<00:00, 384.58it/s]\n",
            "  0%|          | 0/11 [00:00<?, ?it/s]"
          ],
          "name": "stderr"
        },
        {
          "output_type": "stream",
          "text": [
            "Train loss: 3.38e-01, Val loss: 3.55e-01\n",
            "Best val loss is: 3.55e-01\n",
            "Train loss: 3.36e-01, Val loss: 3.53e-01\n",
            "Best val loss is: 3.53e-01\n",
            "Train loss: 3.33e-01, Val loss: 3.51e-01\n",
            "Best val loss is: 3.51e-01\n",
            "Train loss: 3.31e-01, Val loss: 3.50e-01\n",
            "Best val loss is: 3.50e-01\n"
          ],
          "name": "stdout"
        },
        {
          "output_type": "stream",
          "text": [
            "100%|██████████| 11/11 [00:00<00:00, 358.13it/s]\n",
            "100%|██████████| 11/11 [00:00<00:00, 336.89it/s]\n",
            "  0%|          | 0/11 [00:00<?, ?it/s]"
          ],
          "name": "stderr"
        },
        {
          "output_type": "stream",
          "text": [
            "Train loss: 3.28e-01, Val loss: 3.48e-01\n",
            "Best val loss is: 3.48e-01\n",
            "Train loss: 3.26e-01, Val loss: 3.47e-01\n",
            "Best val loss is: 3.47e-01\n"
          ],
          "name": "stdout"
        },
        {
          "output_type": "stream",
          "text": [
            "100%|██████████| 11/11 [00:00<00:00, 373.79it/s]\n",
            "100%|██████████| 11/11 [00:00<00:00, 366.40it/s]\n",
            "100%|██████████| 11/11 [00:00<00:00, 370.03it/s]\n",
            "100%|██████████| 11/11 [00:00<00:00, 362.48it/s]\n",
            "  0%|          | 0/11 [00:00<?, ?it/s]"
          ],
          "name": "stderr"
        },
        {
          "output_type": "stream",
          "text": [
            "Train loss: 3.24e-01, Val loss: 3.45e-01\n",
            "Best val loss is: 3.45e-01\n",
            "Train loss: 3.22e-01, Val loss: 3.44e-01\n",
            "Best val loss is: 3.44e-01\n",
            "Train loss: 3.20e-01, Val loss: 3.43e-01\n",
            "Best val loss is: 3.43e-01\n",
            "Train loss: 3.18e-01, Val loss: 3.42e-01\n",
            "Best val loss is: 3.42e-01\n"
          ],
          "name": "stdout"
        },
        {
          "output_type": "stream",
          "text": [
            "100%|██████████| 11/11 [00:00<00:00, 350.44it/s]\n",
            "100%|██████████| 11/11 [00:00<00:00, 394.81it/s]\n",
            "  0%|          | 0/11 [00:00<?, ?it/s]"
          ],
          "name": "stderr"
        },
        {
          "output_type": "stream",
          "text": [
            "Train loss: 3.16e-01, Val loss: 3.40e-01\n",
            "Best val loss is: 3.40e-01\n",
            "Train loss: 3.14e-01, Val loss: 3.39e-01\n",
            "Best val loss is: 3.39e-01\n"
          ],
          "name": "stdout"
        },
        {
          "output_type": "stream",
          "text": [
            "100%|██████████| 11/11 [00:00<00:00, 337.22it/s]\n",
            "100%|██████████| 11/11 [00:00<00:00, 277.51it/s]\n",
            "100%|██████████| 11/11 [00:00<00:00, 341.17it/s]\n",
            "100%|██████████| 11/11 [00:00<00:00, 374.04it/s]\n",
            "  0%|          | 0/11 [00:00<?, ?it/s]"
          ],
          "name": "stderr"
        },
        {
          "output_type": "stream",
          "text": [
            "Train loss: 3.12e-01, Val loss: 3.38e-01\n",
            "Best val loss is: 3.38e-01\n",
            "Train loss: 3.11e-01, Val loss: 3.37e-01\n",
            "Best val loss is: 3.37e-01\n",
            "Train loss: 3.09e-01, Val loss: 3.36e-01\n",
            "Best val loss is: 3.36e-01\n",
            "Train loss: 3.07e-01, Val loss: 3.35e-01\n",
            "Best val loss is: 3.35e-01\n"
          ],
          "name": "stdout"
        },
        {
          "output_type": "stream",
          "text": [
            "100%|██████████| 11/11 [00:00<00:00, 312.51it/s]\n",
            "100%|██████████| 11/11 [00:00<00:00, 400.13it/s]\n"
          ],
          "name": "stderr"
        },
        {
          "output_type": "stream",
          "text": [
            "Train loss: 3.06e-01, Val loss: 3.35e-01\n",
            "Best val loss is: 3.35e-01\n",
            "Train loss: 3.04e-01, Val loss: 3.34e-01\n",
            "Best val loss is: 3.34e-01\n"
          ],
          "name": "stdout"
        },
        {
          "output_type": "stream",
          "text": [
            "100%|██████████| 11/11 [00:00<00:00, 422.15it/s]\n",
            "100%|██████████| 11/11 [00:00<00:00, 412.72it/s]\n",
            "100%|██████████| 11/11 [00:00<00:00, 405.16it/s]\n",
            "100%|██████████| 11/11 [00:00<00:00, 402.97it/s]\n",
            "100%|██████████| 11/11 [00:00<00:00, 400.08it/s]"
          ],
          "name": "stderr"
        },
        {
          "output_type": "stream",
          "text": [
            "Train loss: 3.03e-01, Val loss: 3.33e-01\n",
            "Best val loss is: 3.33e-01\n",
            "Train loss: 3.01e-01, Val loss: 3.32e-01\n",
            "Best val loss is: 3.32e-01\n",
            "Train loss: 3.00e-01, Val loss: 3.31e-01\n",
            "Best val loss is: 3.31e-01\n",
            "Train loss: 2.98e-01, Val loss: 3.31e-01\n",
            "Best val loss is: 3.31e-01\n"
          ],
          "name": "stdout"
        },
        {
          "output_type": "stream",
          "text": [
            "\n",
            "100%|██████████| 11/11 [00:00<00:00, 361.48it/s]\n",
            "  0%|          | 0/11 [00:00<?, ?it/s]"
          ],
          "name": "stderr"
        },
        {
          "output_type": "stream",
          "text": [
            "Train loss: 2.97e-01, Val loss: 3.30e-01\n",
            "Best val loss is: 3.30e-01\n",
            "Train loss: 2.96e-01, Val loss: 3.29e-01\n",
            "Best val loss is: 3.29e-01\n"
          ],
          "name": "stdout"
        },
        {
          "output_type": "stream",
          "text": [
            "100%|██████████| 11/11 [00:00<00:00, 382.78it/s]\n",
            "100%|██████████| 11/11 [00:00<00:00, 408.69it/s]\n",
            "100%|██████████| 11/11 [00:00<00:00, 400.13it/s]\n",
            "100%|██████████| 11/11 [00:00<00:00, 390.11it/s]\n",
            "  0%|          | 0/11 [00:00<?, ?it/s]"
          ],
          "name": "stderr"
        },
        {
          "output_type": "stream",
          "text": [
            "Train loss: 2.94e-01, Val loss: 3.29e-01\n",
            "Best val loss is: 3.29e-01\n",
            "Train loss: 2.93e-01, Val loss: 3.28e-01\n",
            "Best val loss is: 3.28e-01\n",
            "Train loss: 2.92e-01, Val loss: 3.27e-01\n",
            "Best val loss is: 3.27e-01\n",
            "Train loss: 2.91e-01, Val loss: 3.27e-01\n",
            "Best val loss is: 3.27e-01\n"
          ],
          "name": "stdout"
        },
        {
          "output_type": "stream",
          "text": [
            "100%|██████████| 11/11 [00:00<00:00, 320.20it/s]\n",
            "100%|██████████| 11/11 [00:00<00:00, 316.64it/s]\n",
            "  0%|          | 0/11 [00:00<?, ?it/s]"
          ],
          "name": "stderr"
        },
        {
          "output_type": "stream",
          "text": [
            "Train loss: 2.89e-01, Val loss: 3.26e-01\n",
            "Best val loss is: 3.26e-01\n",
            "Train loss: 2.88e-01, Val loss: 3.26e-01\n",
            "Best val loss is: 3.26e-01\n"
          ],
          "name": "stdout"
        },
        {
          "output_type": "stream",
          "text": [
            "100%|██████████| 11/11 [00:00<00:00, 348.81it/s]\n",
            "100%|██████████| 11/11 [00:00<00:00, 414.71it/s]\n",
            "100%|██████████| 11/11 [00:00<00:00, 383.11it/s]\n",
            "100%|██████████| 11/11 [00:00<00:00, 397.55it/s]\n",
            "  0%|          | 0/11 [00:00<?, ?it/s]"
          ],
          "name": "stderr"
        },
        {
          "output_type": "stream",
          "text": [
            "Train loss: 2.87e-01, Val loss: 3.25e-01\n",
            "Best val loss is: 3.25e-01\n",
            "Train loss: 2.86e-01, Val loss: 3.25e-01\n",
            "Best val loss is: 3.25e-01\n",
            "Train loss: 2.85e-01, Val loss: 3.24e-01\n",
            "Best val loss is: 3.24e-01\n",
            "Train loss: 2.84e-01, Val loss: 3.24e-01\n",
            "Best val loss is: 3.24e-01\n"
          ],
          "name": "stdout"
        },
        {
          "output_type": "stream",
          "text": [
            "100%|██████████| 11/11 [00:00<00:00, 369.51it/s]\n",
            "100%|██████████| 11/11 [00:00<00:00, 412.81it/s]\n",
            "  0%|          | 0/11 [00:00<?, ?it/s]"
          ],
          "name": "stderr"
        },
        {
          "output_type": "stream",
          "text": [
            "Train loss: 2.83e-01, Val loss: 3.23e-01\n",
            "Best val loss is: 3.23e-01\n",
            "Train loss: 2.82e-01, Val loss: 3.23e-01\n",
            "Best val loss is: 3.23e-01\n"
          ],
          "name": "stdout"
        },
        {
          "output_type": "stream",
          "text": [
            "100%|██████████| 11/11 [00:00<00:00, 346.90it/s]\n",
            "100%|██████████| 11/11 [00:00<00:00, 347.52it/s]\n",
            "100%|██████████| 11/11 [00:00<00:00, 377.11it/s]\n",
            "100%|██████████| 11/11 [00:00<00:00, 402.89it/s]\n",
            "  0%|          | 0/11 [00:00<?, ?it/s]"
          ],
          "name": "stderr"
        },
        {
          "output_type": "stream",
          "text": [
            "Train loss: 2.81e-01, Val loss: 3.22e-01\n",
            "Best val loss is: 3.22e-01\n",
            "Train loss: 2.79e-01, Val loss: 3.22e-01\n",
            "Best val loss is: 3.22e-01\n",
            "Train loss: 2.78e-01, Val loss: 3.21e-01\n",
            "Best val loss is: 3.21e-01\n",
            "Train loss: 2.78e-01, Val loss: 3.21e-01\n",
            "Best val loss is: 3.21e-01\n"
          ],
          "name": "stdout"
        },
        {
          "output_type": "stream",
          "text": [
            "100%|██████████| 11/11 [00:00<00:00, 355.97it/s]\n",
            "100%|██████████| 11/11 [00:00<00:00, 389.00it/s]\n",
            "  0%|          | 0/11 [00:00<?, ?it/s]"
          ],
          "name": "stderr"
        },
        {
          "output_type": "stream",
          "text": [
            "Train loss: 2.77e-01, Val loss: 3.21e-01\n",
            "Best val loss is: 3.21e-01\n",
            "Train loss: 2.76e-01, Val loss: 3.20e-01\n",
            "Best val loss is: 3.20e-01\n"
          ],
          "name": "stdout"
        },
        {
          "output_type": "stream",
          "text": [
            "100%|██████████| 11/11 [00:00<00:00, 366.17it/s]\n",
            "100%|██████████| 11/11 [00:00<00:00, 392.75it/s]\n",
            "100%|██████████| 11/11 [00:00<00:00, 401.81it/s]\n",
            "100%|██████████| 11/11 [00:00<00:00, 406.71it/s]\n",
            "  0%|          | 0/11 [00:00<?, ?it/s]"
          ],
          "name": "stderr"
        },
        {
          "output_type": "stream",
          "text": [
            "Train loss: 2.75e-01, Val loss: 3.20e-01\n",
            "Best val loss is: 3.20e-01\n",
            "Train loss: 2.74e-01, Val loss: 3.20e-01\n",
            "Best val loss is: 3.20e-01\n",
            "Train loss: 2.73e-01, Val loss: 3.19e-01\n",
            "Best val loss is: 3.19e-01\n",
            "Train loss: 2.72e-01, Val loss: 3.19e-01\n",
            "Best val loss is: 3.19e-01\n"
          ],
          "name": "stdout"
        },
        {
          "output_type": "stream",
          "text": [
            "100%|██████████| 11/11 [00:00<00:00, 345.48it/s]\n",
            "100%|██████████| 11/11 [00:00<00:00, 400.84it/s]\n",
            "  0%|          | 0/11 [00:00<?, ?it/s]"
          ],
          "name": "stderr"
        },
        {
          "output_type": "stream",
          "text": [
            "Train loss: 2.71e-01, Val loss: 3.19e-01\n",
            "Best val loss is: 3.19e-01\n",
            "Train loss: 2.70e-01, Val loss: 3.18e-01\n",
            "Best val loss is: 3.18e-01\n"
          ],
          "name": "stdout"
        },
        {
          "output_type": "stream",
          "text": [
            "100%|██████████| 11/11 [00:00<00:00, 368.35it/s]\n",
            "100%|██████████| 11/11 [00:00<00:00, 390.56it/s]\n",
            "100%|██████████| 11/11 [00:00<00:00, 385.98it/s]\n",
            "100%|██████████| 11/11 [00:00<00:00, 380.83it/s]\n",
            "  0%|          | 0/11 [00:00<?, ?it/s]"
          ],
          "name": "stderr"
        },
        {
          "output_type": "stream",
          "text": [
            "Train loss: 2.69e-01, Val loss: 3.18e-01\n",
            "Best val loss is: 3.18e-01\n",
            "Train loss: 2.69e-01, Val loss: 3.18e-01\n",
            "Best val loss is: 3.18e-01\n",
            "Train loss: 2.68e-01, Val loss: 3.17e-01\n",
            "Best val loss is: 3.17e-01\n",
            "Train loss: 2.67e-01, Val loss: 3.17e-01\n",
            "Best val loss is: 3.17e-01\n"
          ],
          "name": "stdout"
        },
        {
          "output_type": "stream",
          "text": [
            "100%|██████████| 11/11 [00:00<00:00, 327.29it/s]\n",
            "100%|██████████| 11/11 [00:00<00:00, 400.32it/s]\n",
            "  0%|          | 0/11 [00:00<?, ?it/s]"
          ],
          "name": "stderr"
        },
        {
          "output_type": "stream",
          "text": [
            "Train loss: 2.66e-01, Val loss: 3.17e-01\n",
            "Best val loss is: 3.17e-01\n",
            "Train loss: 2.65e-01, Val loss: 3.17e-01\n",
            "Best val loss is: 3.17e-01\n"
          ],
          "name": "stdout"
        },
        {
          "output_type": "stream",
          "text": [
            "100%|██████████| 11/11 [00:00<00:00, 362.43it/s]\n",
            "100%|██████████| 11/11 [00:00<00:00, 351.16it/s]\n",
            "100%|██████████| 11/11 [00:00<00:00, 367.03it/s]\n",
            "100%|██████████| 11/11 [00:00<00:00, 316.93it/s]\n",
            "  0%|          | 0/11 [00:00<?, ?it/s]"
          ],
          "name": "stderr"
        },
        {
          "output_type": "stream",
          "text": [
            "Train loss: 2.65e-01, Val loss: 3.16e-01\n",
            "Best val loss is: 3.16e-01\n",
            "Train loss: 2.64e-01, Val loss: 3.16e-01\n",
            "Best val loss is: 3.16e-01\n",
            "Train loss: 2.63e-01, Val loss: 3.16e-01\n",
            "Best val loss is: 3.16e-01\n",
            "Train loss: 2.62e-01, Val loss: 3.16e-01\n",
            "Best val loss is: 3.16e-01\n"
          ],
          "name": "stdout"
        },
        {
          "output_type": "stream",
          "text": [
            "100%|██████████| 11/11 [00:00<00:00, 350.52it/s]\n",
            "100%|██████████| 11/11 [00:00<00:00, 380.44it/s]\n",
            "  0%|          | 0/11 [00:00<?, ?it/s]"
          ],
          "name": "stderr"
        },
        {
          "output_type": "stream",
          "text": [
            "Train loss: 2.62e-01, Val loss: 3.15e-01\n",
            "Best val loss is: 3.15e-01\n",
            "Train loss: 2.61e-01, Val loss: 3.15e-01\n",
            "Best val loss is: 3.15e-01\n"
          ],
          "name": "stdout"
        },
        {
          "output_type": "stream",
          "text": [
            "100%|██████████| 11/11 [00:00<00:00, 331.45it/s]\n",
            "100%|██████████| 11/11 [00:00<00:00, 391.67it/s]\n",
            "100%|██████████| 11/11 [00:00<00:00, 390.73it/s]\n",
            "100%|██████████| 11/11 [00:00<00:00, 365.84it/s]\n",
            "  0%|          | 0/11 [00:00<?, ?it/s]"
          ],
          "name": "stderr"
        },
        {
          "output_type": "stream",
          "text": [
            "Train loss: 2.60e-01, Val loss: 3.15e-01\n",
            "Best val loss is: 3.15e-01\n",
            "Train loss: 2.60e-01, Val loss: 3.15e-01\n",
            "Best val loss is: 3.15e-01\n",
            "Train loss: 2.59e-01, Val loss: 3.14e-01\n",
            "Best val loss is: 3.14e-01\n",
            "Train loss: 2.58e-01, Val loss: 3.14e-01\n",
            "Best val loss is: 3.14e-01\n"
          ],
          "name": "stdout"
        },
        {
          "output_type": "stream",
          "text": [
            "100%|██████████| 11/11 [00:00<00:00, 335.60it/s]\n",
            "100%|██████████| 11/11 [00:00<00:00, 357.33it/s]\n",
            "  0%|          | 0/11 [00:00<?, ?it/s]"
          ],
          "name": "stderr"
        },
        {
          "output_type": "stream",
          "text": [
            "Train loss: 2.58e-01, Val loss: 3.14e-01\n",
            "Best val loss is: 3.14e-01\n",
            "Train loss: 2.57e-01, Val loss: 3.14e-01\n",
            "Best val loss is: 3.14e-01\n"
          ],
          "name": "stdout"
        },
        {
          "output_type": "stream",
          "text": [
            "100%|██████████| 11/11 [00:00<00:00, 345.91it/s]\n",
            "100%|██████████| 11/11 [00:00<00:00, 400.40it/s]\n",
            "100%|██████████| 11/11 [00:00<00:00, 380.53it/s]\n",
            "100%|██████████| 11/11 [00:00<00:00, 383.25it/s]\n",
            "  0%|          | 0/11 [00:00<?, ?it/s]"
          ],
          "name": "stderr"
        },
        {
          "output_type": "stream",
          "text": [
            "Train loss: 2.56e-01, Val loss: 3.14e-01\n",
            "Best val loss is: 3.14e-01\n",
            "Train loss: 2.56e-01, Val loss: 3.14e-01\n",
            "Best val loss is: 3.14e-01\n",
            "Train loss: 2.55e-01, Val loss: 3.13e-01\n",
            "Best val loss is: 3.13e-01\n",
            "Train loss: 2.54e-01, Val loss: 3.13e-01\n",
            "Best val loss is: 3.13e-01\n"
          ],
          "name": "stdout"
        },
        {
          "output_type": "stream",
          "text": [
            "100%|██████████| 11/11 [00:00<00:00, 386.58it/s]\n",
            "100%|██████████| 11/11 [00:00<00:00, 407.92it/s]\n",
            "  0%|          | 0/11 [00:00<?, ?it/s]"
          ],
          "name": "stderr"
        },
        {
          "output_type": "stream",
          "text": [
            "Train loss: 2.54e-01, Val loss: 3.13e-01\n",
            "Best val loss is: 3.13e-01\n",
            "Train loss: 2.53e-01, Val loss: 3.13e-01\n",
            "Best val loss is: 3.13e-01\n"
          ],
          "name": "stdout"
        },
        {
          "output_type": "stream",
          "text": [
            "100%|██████████| 11/11 [00:00<00:00, 335.43it/s]\n",
            "100%|██████████| 11/11 [00:00<00:00, 398.99it/s]\n",
            "100%|██████████| 11/11 [00:00<00:00, 417.40it/s]\n",
            "100%|██████████| 11/11 [00:00<00:00, 381.02it/s]\n",
            "100%|██████████| 11/11 [00:00<00:00, 398.38it/s]"
          ],
          "name": "stderr"
        },
        {
          "output_type": "stream",
          "text": [
            "Train loss: 2.52e-01, Val loss: 3.13e-01\n",
            "Best val loss is: 3.13e-01\n",
            "Train loss: 2.52e-01, Val loss: 3.13e-01\n",
            "Best val loss is: 3.13e-01\n",
            "Train loss: 2.51e-01, Val loss: 3.12e-01\n",
            "Best val loss is: 3.12e-01\n",
            "Train loss: 2.51e-01, Val loss: 3.12e-01\n",
            "Best val loss is: 3.12e-01\n"
          ],
          "name": "stdout"
        },
        {
          "output_type": "stream",
          "text": [
            "\n",
            "100%|██████████| 11/11 [00:00<00:00, 406.59it/s]\n",
            "100%|██████████| 11/11 [00:00<00:00, 399.80it/s]"
          ],
          "name": "stderr"
        },
        {
          "output_type": "stream",
          "text": [
            "Train loss: 2.50e-01, Val loss: 3.12e-01\n",
            "Best val loss is: 3.12e-01\n",
            "Train loss: 2.49e-01, Val loss: 3.12e-01\n",
            "Best val loss is: 3.12e-01\n",
            "Train loss: 2.49e-01, Val loss: 3.12e-01\n",
            "Best val loss is: 3.12e-01\n"
          ],
          "name": "stdout"
        },
        {
          "output_type": "stream",
          "text": [
            "\n",
            "100%|██████████| 11/11 [00:00<00:00, 379.75it/s]\n",
            "100%|██████████| 11/11 [00:00<00:00, 399.06it/s]\n",
            "100%|██████████| 11/11 [00:00<00:00, 356.64it/s]\n",
            "  0%|          | 0/11 [00:00<?, ?it/s]"
          ],
          "name": "stderr"
        },
        {
          "output_type": "stream",
          "text": [
            "Train loss: 2.48e-01, Val loss: 3.12e-01\n",
            "Best val loss is: 3.12e-01\n",
            "Train loss: 2.48e-01, Val loss: 3.12e-01\n",
            "Best val loss is: 3.12e-01\n",
            "Train loss: 2.47e-01, Val loss: 3.11e-01\n",
            "Best val loss is: 3.11e-01\n"
          ],
          "name": "stdout"
        },
        {
          "output_type": "stream",
          "text": [
            "100%|██████████| 11/11 [00:00<00:00, 359.99it/s]\n",
            "100%|██████████| 11/11 [00:00<00:00, 405.91it/s]\n",
            "100%|██████████| 11/11 [00:00<00:00, 407.21it/s]\n",
            "  0%|          | 0/11 [00:00<?, ?it/s]"
          ],
          "name": "stderr"
        },
        {
          "output_type": "stream",
          "text": [
            "Train loss: 2.47e-01, Val loss: 3.11e-01\n",
            "Best val loss is: 3.11e-01\n",
            "Train loss: 2.46e-01, Val loss: 3.11e-01\n",
            "Best val loss is: 3.11e-01\n",
            "Train loss: 2.46e-01, Val loss: 3.11e-01\n",
            "Best val loss is: 3.11e-01\n"
          ],
          "name": "stdout"
        },
        {
          "output_type": "stream",
          "text": [
            "100%|██████████| 11/11 [00:00<00:00, 318.76it/s]\n",
            "100%|██████████| 11/11 [00:00<00:00, 389.23it/s]\n",
            "100%|██████████| 11/11 [00:00<00:00, 393.87it/s]\n",
            "  0%|          | 0/11 [00:00<?, ?it/s]"
          ],
          "name": "stderr"
        },
        {
          "output_type": "stream",
          "text": [
            "Train loss: 2.45e-01, Val loss: 3.11e-01\n",
            "Best val loss is: 3.11e-01\n",
            "Train loss: 2.44e-01, Val loss: 3.11e-01\n",
            "Best val loss is: 3.11e-01\n",
            "Train loss: 2.44e-01, Val loss: 3.11e-01\n",
            "Best val loss is: 3.11e-01\n"
          ],
          "name": "stdout"
        },
        {
          "output_type": "stream",
          "text": [
            "100%|██████████| 11/11 [00:00<00:00, 358.78it/s]\n",
            "100%|██████████| 11/11 [00:00<00:00, 356.31it/s]\n",
            "100%|██████████| 11/11 [00:00<00:00, 397.16it/s]\n",
            "  0%|          | 0/11 [00:00<?, ?it/s]"
          ],
          "name": "stderr"
        },
        {
          "output_type": "stream",
          "text": [
            "Train loss: 2.43e-01, Val loss: 3.11e-01\n",
            "Best val loss is: 3.11e-01\n",
            "Train loss: 2.43e-01, Val loss: 3.10e-01\n",
            "Best val loss is: 3.10e-01\n",
            "Train loss: 2.42e-01, Val loss: 3.10e-01\n",
            "Best val loss is: 3.10e-01\n"
          ],
          "name": "stdout"
        },
        {
          "output_type": "stream",
          "text": [
            "100%|██████████| 11/11 [00:00<00:00, 366.16it/s]\n",
            "100%|██████████| 11/11 [00:00<00:00, 398.81it/s]\n",
            "100%|██████████| 11/11 [00:00<00:00, 394.17it/s]\n",
            "  0%|          | 0/11 [00:00<?, ?it/s]"
          ],
          "name": "stderr"
        },
        {
          "output_type": "stream",
          "text": [
            "Train loss: 2.42e-01, Val loss: 3.10e-01\n",
            "Best val loss is: 3.10e-01\n",
            "Train loss: 2.41e-01, Val loss: 3.10e-01\n",
            "Best val loss is: 3.10e-01\n",
            "Train loss: 2.41e-01, Val loss: 3.10e-01\n",
            "Best val loss is: 3.10e-01\n"
          ],
          "name": "stdout"
        },
        {
          "output_type": "stream",
          "text": [
            "100%|██████████| 11/11 [00:00<00:00, 364.90it/s]\n",
            "100%|██████████| 11/11 [00:00<00:00, 402.70it/s]\n",
            "100%|██████████| 11/11 [00:00<00:00, 389.45it/s]\n",
            "100%|██████████| 11/11 [00:00<00:00, 382.87it/s]"
          ],
          "name": "stderr"
        },
        {
          "output_type": "stream",
          "text": [
            "Train loss: 2.40e-01, Val loss: 3.10e-01\n",
            "Best val loss is: 3.10e-01\n",
            "Train loss: 2.40e-01, Val loss: 3.10e-01\n",
            "Best val loss is: 3.10e-01\n",
            "Train loss: 2.39e-01, Val loss: 3.10e-01\n",
            "Best val loss is: 3.10e-01\n"
          ],
          "name": "stdout"
        },
        {
          "output_type": "stream",
          "text": [
            "\n",
            "100%|██████████| 11/11 [00:00<00:00, 379.65it/s]\n",
            "100%|██████████| 11/11 [00:00<00:00, 352.45it/s]\n",
            "  0%|          | 0/11 [00:00<?, ?it/s]"
          ],
          "name": "stderr"
        },
        {
          "output_type": "stream",
          "text": [
            "Train loss: 2.39e-01, Val loss: 3.10e-01\n",
            "Best val loss is: 3.10e-01\n",
            "Train loss: 2.39e-01, Val loss: 3.10e-01\n",
            "Best val loss is: 3.10e-01\n",
            "Train loss: 2.38e-01, Val loss: 3.10e-01\n",
            "Best val loss is: 3.10e-01\n"
          ],
          "name": "stdout"
        },
        {
          "output_type": "stream",
          "text": [
            "100%|██████████| 11/11 [00:00<00:00, 369.77it/s]\n",
            "100%|██████████| 11/11 [00:00<00:00, 411.01it/s]\n",
            "100%|██████████| 11/11 [00:00<00:00, 409.84it/s]\n",
            "  0%|          | 0/11 [00:00<?, ?it/s]"
          ],
          "name": "stderr"
        },
        {
          "output_type": "stream",
          "text": [
            "Train loss: 2.38e-01, Val loss: 3.09e-01\n",
            "Best val loss is: 3.09e-01\n",
            "Train loss: 2.37e-01, Val loss: 3.09e-01\n",
            "Best val loss is: 3.09e-01\n",
            "Train loss: 2.37e-01, Val loss: 3.09e-01\n",
            "Best val loss is: 3.09e-01\n"
          ],
          "name": "stdout"
        },
        {
          "output_type": "stream",
          "text": [
            "100%|██████████| 11/11 [00:00<00:00, 382.50it/s]\n",
            "100%|██████████| 11/11 [00:00<00:00, 386.33it/s]\n",
            "100%|██████████| 11/11 [00:00<00:00, 390.04it/s]\n",
            "  0%|          | 0/11 [00:00<?, ?it/s]"
          ],
          "name": "stderr"
        },
        {
          "output_type": "stream",
          "text": [
            "Train loss: 2.36e-01, Val loss: 3.09e-01\n",
            "Best val loss is: 3.09e-01\n",
            "Train loss: 2.36e-01, Val loss: 3.09e-01\n",
            "Best val loss is: 3.09e-01\n",
            "Train loss: 2.35e-01, Val loss: 3.09e-01\n",
            "Best val loss is: 3.09e-01\n"
          ],
          "name": "stdout"
        },
        {
          "output_type": "stream",
          "text": [
            "100%|██████████| 11/11 [00:00<00:00, 352.61it/s]\n",
            "100%|██████████| 11/11 [00:00<00:00, 391.58it/s]\n",
            "100%|██████████| 11/11 [00:00<00:00, 397.01it/s]\n",
            "  0%|          | 0/11 [00:00<?, ?it/s]"
          ],
          "name": "stderr"
        },
        {
          "output_type": "stream",
          "text": [
            "Train loss: 2.35e-01, Val loss: 3.09e-01\n",
            "Best val loss is: 3.09e-01\n",
            "Train loss: 2.34e-01, Val loss: 3.09e-01\n",
            "Best val loss is: 3.09e-01\n",
            "Train loss: 2.34e-01, Val loss: 3.09e-01\n",
            "Best val loss is: 3.09e-01\n"
          ],
          "name": "stdout"
        },
        {
          "output_type": "stream",
          "text": [
            "100%|██████████| 11/11 [00:00<00:00, 373.13it/s]\n",
            "100%|██████████| 11/11 [00:00<00:00, 407.94it/s]\n",
            "100%|██████████| 11/11 [00:00<00:00, 394.36it/s]\n",
            "  0%|          | 0/11 [00:00<?, ?it/s]"
          ],
          "name": "stderr"
        },
        {
          "output_type": "stream",
          "text": [
            "Train loss: 2.34e-01, Val loss: 3.09e-01\n",
            "Best val loss is: 3.09e-01\n",
            "Train loss: 2.33e-01, Val loss: 3.09e-01\n",
            "Best val loss is: 3.09e-01\n",
            "Train loss: 2.33e-01, Val loss: 3.09e-01\n",
            "Best val loss is: 3.09e-01\n"
          ],
          "name": "stdout"
        },
        {
          "output_type": "stream",
          "text": [
            "100%|██████████| 11/11 [00:00<00:00, 327.98it/s]\n",
            "100%|██████████| 11/11 [00:00<00:00, 393.04it/s]\n",
            "100%|██████████| 11/11 [00:00<00:00, 322.11it/s]\n",
            "  0%|          | 0/11 [00:00<?, ?it/s]"
          ],
          "name": "stderr"
        },
        {
          "output_type": "stream",
          "text": [
            "Train loss: 2.32e-01, Val loss: 3.09e-01\n",
            "Best val loss is: 3.09e-01\n",
            "Train loss: 2.32e-01, Val loss: 3.09e-01\n",
            "Best val loss is: 3.09e-01\n",
            "Train loss: 2.32e-01, Val loss: 3.08e-01\n",
            "Best val loss is: 3.08e-01\n"
          ],
          "name": "stdout"
        },
        {
          "output_type": "stream",
          "text": [
            "100%|██████████| 11/11 [00:00<00:00, 364.13it/s]\n",
            "100%|██████████| 11/11 [00:00<00:00, 403.02it/s]\n",
            "100%|██████████| 11/11 [00:00<00:00, 389.67it/s]\n",
            "  0%|          | 0/11 [00:00<?, ?it/s]"
          ],
          "name": "stderr"
        },
        {
          "output_type": "stream",
          "text": [
            "Train loss: 2.31e-01, Val loss: 3.08e-01\n",
            "Best val loss is: 3.08e-01\n",
            "Train loss: 2.31e-01, Val loss: 3.08e-01\n",
            "Best val loss is: 3.08e-01\n",
            "Train loss: 2.30e-01, Val loss: 3.08e-01\n",
            "Best val loss is: 3.08e-01\n"
          ],
          "name": "stdout"
        },
        {
          "output_type": "stream",
          "text": [
            "100%|██████████| 11/11 [00:00<00:00, 366.13it/s]\n",
            "100%|██████████| 11/11 [00:00<00:00, 400.26it/s]\n",
            "100%|██████████| 11/11 [00:00<00:00, 352.99it/s]\n",
            "  0%|          | 0/11 [00:00<?, ?it/s]"
          ],
          "name": "stderr"
        },
        {
          "output_type": "stream",
          "text": [
            "Train loss: 2.30e-01, Val loss: 3.08e-01\n",
            "Best val loss is: 3.08e-01\n",
            "Train loss: 2.30e-01, Val loss: 3.08e-01\n",
            "Best val loss is: 3.08e-01\n",
            "Train loss: 2.29e-01, Val loss: 3.08e-01\n",
            "Best val loss is: 3.08e-01\n"
          ],
          "name": "stdout"
        },
        {
          "output_type": "stream",
          "text": [
            "100%|██████████| 11/11 [00:00<00:00, 325.34it/s]\n",
            "100%|██████████| 11/11 [00:00<00:00, 364.62it/s]\n",
            "100%|██████████| 11/11 [00:00<00:00, 394.60it/s]\n",
            "  0%|          | 0/11 [00:00<?, ?it/s]"
          ],
          "name": "stderr"
        },
        {
          "output_type": "stream",
          "text": [
            "Train loss: 2.29e-01, Val loss: 3.08e-01\n",
            "Best val loss is: 3.08e-01\n",
            "Train loss: 2.28e-01, Val loss: 3.08e-01\n",
            "Best val loss is: 3.08e-01\n",
            "Train loss: 2.28e-01, Val loss: 3.08e-01\n",
            "Best val loss is: 3.08e-01\n"
          ],
          "name": "stdout"
        },
        {
          "output_type": "stream",
          "text": [
            "100%|██████████| 11/11 [00:00<00:00, 358.06it/s]\n",
            "100%|██████████| 11/11 [00:00<00:00, 388.25it/s]\n",
            "100%|██████████| 11/11 [00:00<00:00, 371.44it/s]\n",
            "  0%|          | 0/11 [00:00<?, ?it/s]"
          ],
          "name": "stderr"
        },
        {
          "output_type": "stream",
          "text": [
            "Train loss: 2.28e-01, Val loss: 3.08e-01\n",
            "Best val loss is: 3.08e-01\n",
            "Train loss: 2.27e-01, Val loss: 3.08e-01\n",
            "Best val loss is: 3.08e-01\n",
            "Train loss: 2.27e-01, Val loss: 3.08e-01\n",
            "Best val loss is: 3.08e-01\n"
          ],
          "name": "stdout"
        },
        {
          "output_type": "stream",
          "text": [
            "100%|██████████| 11/11 [00:00<00:00, 371.08it/s]\n",
            "100%|██████████| 11/11 [00:00<00:00, 406.40it/s]\n",
            "100%|██████████| 11/11 [00:00<00:00, 388.00it/s]\n",
            "  0%|          | 0/11 [00:00<?, ?it/s]"
          ],
          "name": "stderr"
        },
        {
          "output_type": "stream",
          "text": [
            "Train loss: 2.26e-01, Val loss: 3.08e-01\n",
            "Best val loss is: 3.08e-01\n",
            "Train loss: 2.26e-01, Val loss: 3.08e-01\n",
            "Best val loss is: 3.08e-01\n",
            "Train loss: 2.26e-01, Val loss: 3.08e-01\n",
            "Best val loss is: 3.08e-01\n"
          ],
          "name": "stdout"
        },
        {
          "output_type": "stream",
          "text": [
            "100%|██████████| 11/11 [00:00<00:00, 325.24it/s]\n",
            "100%|██████████| 11/11 [00:00<00:00, 370.15it/s]\n",
            "100%|██████████| 11/11 [00:00<00:00, 384.64it/s]\n",
            "  0%|          | 0/11 [00:00<?, ?it/s]"
          ],
          "name": "stderr"
        },
        {
          "output_type": "stream",
          "text": [
            "Train loss: 2.25e-01, Val loss: 3.08e-01\n",
            "Best val loss is: 3.08e-01\n",
            "Train loss: 2.25e-01, Val loss: 3.08e-01\n",
            "Best val loss is: 3.08e-01\n",
            "Train loss: 2.25e-01, Val loss: 3.08e-01\n",
            "Best val loss is: 3.08e-01\n"
          ],
          "name": "stdout"
        },
        {
          "output_type": "stream",
          "text": [
            "100%|██████████| 11/11 [00:00<00:00, 357.89it/s]\n",
            "100%|██████████| 11/11 [00:00<00:00, 398.62it/s]\n",
            "100%|██████████| 11/11 [00:00<00:00, 411.51it/s]\n",
            "  0%|          | 0/11 [00:00<?, ?it/s]"
          ],
          "name": "stderr"
        },
        {
          "output_type": "stream",
          "text": [
            "Train loss: 2.24e-01, Val loss: 3.08e-01\n",
            "Best val loss is: 3.08e-01\n",
            "Train loss: 2.24e-01, Val loss: 3.08e-01\n",
            "Best val loss is: 3.08e-01\n",
            "Train loss: 2.24e-01, Val loss: 3.08e-01\n",
            "Best val loss is: 3.08e-01\n"
          ],
          "name": "stdout"
        },
        {
          "output_type": "stream",
          "text": [
            "100%|██████████| 11/11 [00:00<00:00, 369.34it/s]\n",
            "100%|██████████| 11/11 [00:00<00:00, 392.23it/s]\n",
            "100%|██████████| 11/11 [00:00<00:00, 351.88it/s]\n",
            "  0%|          | 0/11 [00:00<?, ?it/s]"
          ],
          "name": "stderr"
        },
        {
          "output_type": "stream",
          "text": [
            "Train loss: 2.23e-01, Val loss: 3.07e-01\n",
            "Best val loss is: 3.07e-01\n",
            "Train loss: 2.23e-01, Val loss: 3.07e-01\n",
            "Best val loss is: 3.07e-01\n",
            "Train loss: 2.23e-01, Val loss: 3.07e-01\n",
            "Best val loss is: 3.07e-01\n"
          ],
          "name": "stdout"
        },
        {
          "output_type": "stream",
          "text": [
            "100%|██████████| 11/11 [00:00<00:00, 338.49it/s]\n",
            "100%|██████████| 11/11 [00:00<00:00, 357.44it/s]\n",
            "100%|██████████| 11/11 [00:00<00:00, 370.77it/s]\n",
            "  0%|          | 0/11 [00:00<?, ?it/s]"
          ],
          "name": "stderr"
        },
        {
          "output_type": "stream",
          "text": [
            "Train loss: 2.22e-01, Val loss: 3.07e-01\n",
            "Best val loss is: 3.07e-01\n",
            "Train loss: 2.22e-01, Val loss: 3.07e-01\n",
            "Best val loss is: 3.07e-01\n",
            "Train loss: 2.21e-01, Val loss: 3.07e-01\n",
            "Best val loss is: 3.07e-01\n"
          ],
          "name": "stdout"
        },
        {
          "output_type": "stream",
          "text": [
            "100%|██████████| 11/11 [00:00<00:00, 304.19it/s]\n",
            "100%|██████████| 11/11 [00:00<00:00, 395.01it/s]\n",
            "100%|██████████| 11/11 [00:00<00:00, 405.76it/s]\n",
            "  0%|          | 0/11 [00:00<?, ?it/s]"
          ],
          "name": "stderr"
        },
        {
          "output_type": "stream",
          "text": [
            "Train loss: 2.21e-01, Val loss: 3.07e-01\n",
            "Best val loss is: 3.07e-01\n",
            "Train loss: 2.21e-01, Val loss: 3.07e-01\n",
            "Best val loss is: 3.07e-01\n",
            "Train loss: 2.20e-01, Val loss: 3.07e-01\n",
            "Best val loss is: 3.07e-01\n"
          ],
          "name": "stdout"
        },
        {
          "output_type": "stream",
          "text": [
            "100%|██████████| 11/11 [00:00<00:00, 371.51it/s]\n",
            "100%|██████████| 11/11 [00:00<00:00, 398.64it/s]\n",
            "100%|██████████| 11/11 [00:00<00:00, 349.62it/s]\n",
            "  0%|          | 0/11 [00:00<?, ?it/s]"
          ],
          "name": "stderr"
        },
        {
          "output_type": "stream",
          "text": [
            "Train loss: 2.20e-01, Val loss: 3.07e-01\n",
            "Best val loss is: 3.07e-01\n",
            "Train loss: 2.20e-01, Val loss: 3.07e-01\n",
            "Best val loss is: 3.07e-01\n",
            "Train loss: 2.20e-01, Val loss: 3.07e-01\n",
            "Best val loss is: 3.07e-01\n"
          ],
          "name": "stdout"
        },
        {
          "output_type": "stream",
          "text": [
            "100%|██████████| 11/11 [00:00<00:00, 356.12it/s]\n",
            "100%|██████████| 11/11 [00:00<00:00, 403.98it/s]\n",
            "100%|██████████| 11/11 [00:00<00:00, 409.42it/s]\n",
            "  0%|          | 0/11 [00:00<?, ?it/s]"
          ],
          "name": "stderr"
        },
        {
          "output_type": "stream",
          "text": [
            "Train loss: 2.19e-01, Val loss: 3.07e-01\n",
            "Best val loss is: 3.07e-01\n",
            "Train loss: 2.19e-01, Val loss: 3.07e-01\n",
            "Best val loss is: 3.07e-01\n",
            "Train loss: 2.19e-01, Val loss: 3.07e-01\n",
            "Best val loss is: 3.07e-01\n"
          ],
          "name": "stdout"
        },
        {
          "output_type": "stream",
          "text": [
            "100%|██████████| 11/11 [00:00<00:00, 367.62it/s]\n",
            "100%|██████████| 11/11 [00:00<00:00, 370.43it/s]\n",
            "100%|██████████| 11/11 [00:00<00:00, 395.20it/s]\n",
            "  0%|          | 0/11 [00:00<?, ?it/s]"
          ],
          "name": "stderr"
        },
        {
          "output_type": "stream",
          "text": [
            "Train loss: 2.18e-01, Val loss: 3.07e-01\n",
            "Best val loss is: 3.07e-01\n",
            "Train loss: 2.18e-01, Val loss: 3.07e-01\n",
            "Best val loss is: 3.07e-01\n",
            "Train loss: 2.18e-01, Val loss: 3.07e-01\n",
            "Best val loss is: 3.07e-01\n"
          ],
          "name": "stdout"
        },
        {
          "output_type": "stream",
          "text": [
            "100%|██████████| 11/11 [00:00<00:00, 359.59it/s]\n",
            "100%|██████████| 11/11 [00:00<00:00, 377.54it/s]\n",
            "100%|██████████| 11/11 [00:00<00:00, 382.35it/s]\n",
            "  0%|          | 0/11 [00:00<?, ?it/s]"
          ],
          "name": "stderr"
        },
        {
          "output_type": "stream",
          "text": [
            "Train loss: 2.17e-01, Val loss: 3.07e-01\n",
            "Best val loss is: 3.07e-01\n",
            "Train loss: 2.17e-01, Val loss: 3.07e-01\n",
            "Best val loss is: 3.07e-01\n",
            "Train loss: 2.17e-01, Val loss: 3.07e-01\n",
            "Best val loss is: 3.07e-01\n"
          ],
          "name": "stdout"
        },
        {
          "output_type": "stream",
          "text": [
            "100%|██████████| 11/11 [00:00<00:00, 358.68it/s]\n",
            "100%|██████████| 11/11 [00:00<00:00, 402.59it/s]\n",
            "100%|██████████| 11/11 [00:00<00:00, 384.71it/s]\n",
            "  0%|          | 0/11 [00:00<?, ?it/s]"
          ],
          "name": "stderr"
        },
        {
          "output_type": "stream",
          "text": [
            "Train loss: 2.16e-01, Val loss: 3.07e-01\n",
            "Best val loss is: 3.07e-01\n",
            "Train loss: 2.16e-01, Val loss: 3.07e-01\n",
            "Best val loss is: 3.07e-01\n",
            "Train loss: 2.16e-01, Val loss: 3.07e-01\n",
            "Best val loss is: 3.07e-01\n"
          ],
          "name": "stdout"
        },
        {
          "output_type": "stream",
          "text": [
            "100%|██████████| 11/11 [00:00<00:00, 354.27it/s]\n",
            "100%|██████████| 11/11 [00:00<00:00, 401.53it/s]\n",
            "100%|██████████| 11/11 [00:00<00:00, 393.05it/s]\n",
            "  0%|          | 0/11 [00:00<?, ?it/s]"
          ],
          "name": "stderr"
        },
        {
          "output_type": "stream",
          "text": [
            "Train loss: 2.15e-01, Val loss: 3.07e-01\n",
            "Best val loss is: 3.07e-01\n",
            "Train loss: 2.15e-01, Val loss: 3.07e-01\n",
            "Best val loss is: 3.07e-01\n",
            "Train loss: 2.15e-01, Val loss: 3.07e-01\n",
            "Best val loss is: 3.07e-01\n"
          ],
          "name": "stdout"
        },
        {
          "output_type": "stream",
          "text": [
            "100%|██████████| 11/11 [00:00<00:00, 375.43it/s]\n",
            "100%|██████████| 11/11 [00:00<00:00, 360.10it/s]\n",
            "100%|██████████| 11/11 [00:00<00:00, 414.96it/s]\n",
            "  0%|          | 0/11 [00:00<?, ?it/s]"
          ],
          "name": "stderr"
        },
        {
          "output_type": "stream",
          "text": [
            "Train loss: 2.15e-01, Val loss: 3.07e-01\n",
            "Best val loss is: 3.07e-01\n",
            "Train loss: 2.14e-01, Val loss: 3.07e-01\n",
            "Best val loss is: 3.07e-01\n",
            "Train loss: 2.14e-01, Val loss: 3.07e-01\n",
            "Best val loss is: 3.07e-01\n"
          ],
          "name": "stdout"
        },
        {
          "output_type": "stream",
          "text": [
            "100%|██████████| 11/11 [00:00<00:00, 364.48it/s]\n",
            "100%|██████████| 11/11 [00:00<00:00, 409.49it/s]\n",
            "100%|██████████| 11/11 [00:00<00:00, 393.67it/s]\n",
            "  0%|          | 0/11 [00:00<?, ?it/s]"
          ],
          "name": "stderr"
        },
        {
          "output_type": "stream",
          "text": [
            "Train loss: 2.14e-01, Val loss: 3.07e-01\n",
            "Best val loss is: 3.07e-01\n",
            "Train loss: 2.13e-01, Val loss: 3.07e-01\n",
            "Best val loss is: 3.07e-01\n",
            "Train loss: 2.13e-01, Val loss: 3.07e-01\n",
            "Best val loss is: 3.07e-01\n"
          ],
          "name": "stdout"
        },
        {
          "output_type": "stream",
          "text": [
            "100%|██████████| 11/11 [00:00<00:00, 349.50it/s]\n",
            "100%|██████████| 11/11 [00:00<00:00, 394.83it/s]\n",
            "100%|██████████| 11/11 [00:00<00:00, 331.07it/s]\n",
            "  0%|          | 0/11 [00:00<?, ?it/s]"
          ],
          "name": "stderr"
        },
        {
          "output_type": "stream",
          "text": [
            "Train loss: 2.13e-01, Val loss: 3.07e-01\n",
            "Best val loss is: 3.07e-01\n",
            "Train loss: 2.13e-01, Val loss: 3.07e-01\n",
            "Best val loss is: 3.07e-01\n",
            "Train loss: 2.12e-01, Val loss: 3.07e-01\n",
            "Best val loss is: 3.07e-01\n"
          ],
          "name": "stdout"
        },
        {
          "output_type": "stream",
          "text": [
            "100%|██████████| 11/11 [00:00<00:00, 326.09it/s]\n",
            "100%|██████████| 11/11 [00:00<00:00, 377.34it/s]\n",
            "100%|██████████| 11/11 [00:00<00:00, 369.36it/s]\n",
            "  0%|          | 0/11 [00:00<?, ?it/s]"
          ],
          "name": "stderr"
        },
        {
          "output_type": "stream",
          "text": [
            "Train loss: 2.12e-01, Val loss: 3.07e-01\n",
            "Best val loss is: 3.07e-01\n",
            "Train loss: 2.12e-01, Val loss: 3.07e-01\n",
            "Best val loss is: 3.07e-01\n",
            "Train loss: 2.11e-01, Val loss: 3.07e-01\n",
            "Best val loss is: 3.07e-01\n"
          ],
          "name": "stdout"
        },
        {
          "output_type": "stream",
          "text": [
            "100%|██████████| 11/11 [00:00<00:00, 345.51it/s]\n",
            "100%|██████████| 11/11 [00:00<00:00, 393.72it/s]\n",
            "100%|██████████| 11/11 [00:00<00:00, 399.81it/s]\n",
            "  0%|          | 0/11 [00:00<?, ?it/s]"
          ],
          "name": "stderr"
        },
        {
          "output_type": "stream",
          "text": [
            "Train loss: 2.11e-01, Val loss: 3.07e-01\n",
            "Best val loss is: 3.07e-01\n",
            "Train loss: 2.11e-01, Val loss: 3.07e-01\n",
            "Best val loss is: 3.07e-01\n",
            "Train loss: 2.11e-01, Val loss: 3.07e-01\n",
            "Best val loss is: 3.07e-01\n"
          ],
          "name": "stdout"
        },
        {
          "output_type": "stream",
          "text": [
            "100%|██████████| 11/11 [00:00<00:00, 350.46it/s]\n",
            "100%|██████████| 11/11 [00:00<00:00, 401.17it/s]\n",
            "100%|██████████| 11/11 [00:00<00:00, 383.98it/s]\n",
            "  0%|          | 0/11 [00:00<?, ?it/s]"
          ],
          "name": "stderr"
        },
        {
          "output_type": "stream",
          "text": [
            "Train loss: 2.10e-01, Val loss: 3.07e-01\n",
            "Best val loss is: 3.07e-01\n",
            "Train loss: 2.10e-01, Val loss: 3.07e-01\n",
            "Best val loss is: 3.07e-01\n",
            "Train loss: 2.10e-01, Val loss: 3.07e-01\n",
            "Best val loss is: 3.07e-01\n"
          ],
          "name": "stdout"
        },
        {
          "output_type": "stream",
          "text": [
            "100%|██████████| 11/11 [00:00<00:00, 382.12it/s]\n",
            "100%|██████████| 11/11 [00:00<00:00, 383.23it/s]\n",
            "100%|██████████| 11/11 [00:00<00:00, 369.10it/s]\n",
            "  0%|          | 0/11 [00:00<?, ?it/s]"
          ],
          "name": "stderr"
        },
        {
          "output_type": "stream",
          "text": [
            "Train loss: 2.10e-01, Val loss: 3.07e-01\n",
            "Best val loss is: 3.07e-01\n",
            "Train loss: 2.09e-01, Val loss: 3.07e-01\n",
            "Best val loss is: 3.07e-01\n",
            "Train loss: 2.09e-01, Val loss: 3.07e-01\n",
            "Best val loss is: 3.07e-01\n"
          ],
          "name": "stdout"
        },
        {
          "output_type": "stream",
          "text": [
            "100%|██████████| 11/11 [00:00<00:00, 357.01it/s]\n",
            "100%|██████████| 11/11 [00:00<00:00, 405.93it/s]\n",
            "100%|██████████| 11/11 [00:00<00:00, 392.90it/s]\n",
            "  0%|          | 0/11 [00:00<?, ?it/s]"
          ],
          "name": "stderr"
        },
        {
          "output_type": "stream",
          "text": [
            "Train loss: 2.09e-01, Val loss: 3.07e-01\n",
            "Best val loss is: 3.07e-01\n",
            "Train loss: 2.08e-01, Val loss: 3.07e-01\n",
            "Best val loss is: 3.07e-01\n",
            "Train loss: 2.08e-01, Val loss: 3.07e-01\n",
            "Best val loss is: 3.07e-01\n"
          ],
          "name": "stdout"
        },
        {
          "output_type": "stream",
          "text": [
            "100%|██████████| 11/11 [00:00<00:00, 374.50it/s]\n",
            "100%|██████████| 11/11 [00:00<00:00, 387.92it/s]\n",
            "100%|██████████| 11/11 [00:00<00:00, 405.05it/s]\n",
            "100%|██████████| 11/11 [00:00<00:00, 387.40it/s]\n"
          ],
          "name": "stderr"
        },
        {
          "output_type": "stream",
          "text": [
            "Train loss: 2.08e-01, Val loss: 3.07e-01\n",
            "Best val loss is: 3.07e-01\n",
            "Train loss: 2.08e-01, Val loss: 3.07e-01\n",
            "Best val loss is: 3.07e-01\n",
            "Train loss: 2.07e-01, Val loss: 3.07e-01\n",
            "Best val loss is: 3.07e-01\n"
          ],
          "name": "stdout"
        },
        {
          "output_type": "stream",
          "text": [
            "100%|██████████| 11/11 [00:00<00:00, 382.94it/s]\n",
            "100%|██████████| 11/11 [00:00<00:00, 376.27it/s]\n",
            "  0%|          | 0/11 [00:00<?, ?it/s]"
          ],
          "name": "stderr"
        },
        {
          "output_type": "stream",
          "text": [
            "Train loss: 2.07e-01, Val loss: 3.07e-01\n",
            "Best val loss is: 3.07e-01\n",
            "Train loss: 2.07e-01, Val loss: 3.07e-01\n",
            "Best val loss is: 3.07e-01\n",
            "Train loss: 2.07e-01, Val loss: 3.07e-01\n",
            "Best val loss is: 3.07e-01\n"
          ],
          "name": "stdout"
        },
        {
          "output_type": "stream",
          "text": [
            "100%|██████████| 11/11 [00:00<00:00, 364.85it/s]\n",
            "100%|██████████| 11/11 [00:00<00:00, 395.96it/s]\n",
            "100%|██████████| 11/11 [00:00<00:00, 407.16it/s]\n",
            "100%|██████████| 11/11 [00:00<00:00, 406.55it/s]"
          ],
          "name": "stderr"
        },
        {
          "output_type": "stream",
          "text": [
            "Train loss: 2.06e-01, Val loss: 3.07e-01\n",
            "Best val loss is: 3.07e-01\n",
            "Train loss: 2.06e-01, Val loss: 3.07e-01\n",
            "Best val loss is: 3.07e-01\n",
            "Train loss: 2.06e-01, Val loss: 3.07e-01\n",
            "Best val loss is: 3.07e-01\n",
            "Train loss: 2.06e-01, Val loss: 3.07e-01\n",
            "Best val loss is: 3.07e-01\n",
            "Stopped training after 233/5000 epochs.\n",
            "The loss is 7.15e-01 before training and 3.07e-01 after training.\n",
            "The training and validation losses are \n",
            "\t[0.705147705078125, 0.6721940612792969, 0.6423820495605469, 0.6152222442626953, 0.5906629943847657, 0.5685847091674805, 0.5487306213378906, 0.5308571624755859, 0.5147346496582031, 0.5001399230957031, 0.48688533782958987, 0.47480632781982424, 0.46375877380371094, 0.45362037658691406, 0.4442856979370117, 0.4356633377075195, 0.4276752090454102, 0.4202533721923828, 0.4133389282226563, 0.4068807220458984, 0.4008340072631836, 0.3951594543457031, 0.3898226547241211, 0.3847931671142578, 0.3800438690185547, 0.3755509948730469, 0.37129318237304687, 0.3672512054443359, 0.36340816497802736, 0.35974868774414065, 0.3562588882446289, 0.3529262924194336, 0.34973968505859376, 0.3466887283325195, 0.34376419067382813, 0.34095760345458986, 0.33826107025146485, 0.33566764831542967, 0.33317085266113283, 0.33076469421386717, 0.3284436798095703, 0.3262028121948242, 0.32403743743896485, 0.3219432830810547, 0.31991628646850584, 0.317952880859375, 0.3160496139526367, 0.3142033386230469, 0.31241100311279296, 0.310670051574707, 0.3089777565002441, 0.30733182907104495, 0.30573001861572263, 0.30417022705078123, 0.30265045166015625, 0.3011689376831055, 0.29972396850585936, 0.2983139228820801, 0.296937255859375, 0.2955925178527832, 0.2942784690856934, 0.2929937171936035, 0.29173717498779295, 0.2905076789855957, 0.2893041229248047, 0.28812551498413086, 0.2869709396362305, 0.28583942413330077, 0.2847302055358887, 0.2836423873901367, 0.2825752639770508, 0.28152812957763673, 0.28050014495849607, 0.2794908332824707, 0.2784994125366211, 0.2775253105163574, 0.27656803131103513, 0.27562700271606444, 0.2747016334533691, 0.273791561126709, 0.2728962135314941, 0.27201515197753906, 0.27114797592163087, 0.270294189453125, 0.2694535255432129, 0.2686255645751953, 0.2678098678588867, 0.2670061492919922, 0.26621404647827146, 0.265433235168457, 0.2646635055541992, 0.2639044380187988, 0.2631558036804199, 0.26241729736328123, 0.26168867111206057, 0.2609697341918945, 0.260260124206543, 0.2595597457885742, 0.25886829376220705, 0.25818557739257814, 0.2575112915039062, 0.25684532165527346, 0.2561875534057617, 0.2555375862121582, 0.25489542007446286, 0.2542608833312988, 0.2536337089538574, 0.2530136871337891, 0.2524008369445801, 0.2517948532104492, 0.2511956787109375, 0.2506031227111816, 0.25001705169677735, 0.2494373321533203, 0.24886381149291992, 0.24829639434814454, 0.24773494720458986, 0.24717939376831055, 0.24662956237792968, 0.24608537673950195, 0.24554662704467772, 0.24501337051391603, 0.2444853401184082, 0.2439626121520996, 0.2434449577331543, 0.24293231964111328, 0.24242460250854492, 0.2419217300415039, 0.24142356872558593, 0.24093013763427734, 0.2404412269592285, 0.23995685577392578, 0.23947689056396484, 0.2390012550354004, 0.23852994918823242, 0.238062801361084, 0.2375997543334961, 0.23714080810546875, 0.23668582916259764, 0.23623481750488282, 0.23578765869140625, 0.2353443145751953, 0.23490461349487304, 0.2344687080383301, 0.23403636932373048, 0.23360761642456054, 0.23318235397338868, 0.23276058197021485, 0.23234220504760741, 0.23192716598510743, 0.23151540756225586, 0.23110694885253907, 0.23070163726806642, 0.23029951095581055, 0.2299005126953125, 0.22950458526611328, 0.22911163330078124, 0.22872165679931641, 0.2283346939086914, 0.22795055389404298, 0.2275692939758301, 0.22719079971313477, 0.226815128326416, 0.22644216537475587, 0.22607189178466797, 0.22570430755615234, 0.22533935546875, 0.2249769401550293, 0.2246170997619629, 0.22425981521606445, 0.22390499114990234, 0.22355260848999023, 0.22320262908935548, 0.22285507202148438, 0.22250988006591796, 0.22216697692871093, 0.22182640075683593, 0.2214881134033203, 0.22115203857421875, 0.22081817626953126, 0.22048650741577147, 0.22015697479248048, 0.2198295783996582, 0.21950431823730468, 0.2191810989379883, 0.218859920501709, 0.21854085922241212, 0.21822370529174806, 0.21790857315063478, 0.2175954055786133, 0.2172842025756836, 0.21697486877441408, 0.21666736602783204, 0.21636178970336914, 0.21605806350708007, 0.21575613021850587, 0.2154560661315918, 0.21515773773193358, 0.21486112594604492, 0.21456634521484375, 0.21427322387695313, 0.21398183822631836, 0.21369211196899415, 0.2134040641784668, 0.21311763763427735, 0.21283285140991212, 0.21254968643188477, 0.212268123626709, 0.2119881248474121, 0.21170969009399415, 0.21143280029296874, 0.2111574363708496, 0.21088354110717775, 0.21061115264892577, 0.21034027099609376, 0.21007083892822265, 0.2098028564453125, 0.20953628540039063, 0.209271183013916, 0.20900741577148438, 0.208745059967041, 0.20848409652709962, 0.20822452545166015, 0.20796619415283202, 0.20770929336547853, 0.207453670501709, 0.2071993637084961, 0.20694635391235353, 0.2066946029663086, 0.206444149017334, 0.2061949348449707, 0.2059469413757324, 0.20570020675659179, None, None, None, None, None, None, None, None, None, None, None, None, None, None, None, None, None, None, None, None, None, None, None, None, None, None, None, None, None, None, None, None, None, None, None, None, None, None, None, None, None, None, None, None, None, None, None, None, None, None, None, None, None, None, None, None, None, None, None, None, None, None, None, None, None, None, None, None, None, None, None, None, None, None, None, None, None, None, None, None, None, None, None, None, None, None, None, None, None, None, None, None, None, None, None, None, None, None, None, None, None, None, None, None, None, None, None, None, None, None, None, None, None, None, None, None, None, None, None, None, None, None, None, None, None, None, None, None, None, None, None, None, None, None, None, None, None, None, None, None, None, None, None, None, None, None, None, None, None, None, None, None, None, None, None, None, None, None, None, None, None, None, None, None, None, None, None, None, None, None, None, None, None, None, None, None, None, None, None, None, None, None, None, None, None, None, None, None, None, None, None, None, None, None, None, None, None, None, None, None, None, None, None, None, None, None, None, None, None, None, None, None, None, None, None, None, None, None, None, None, None, None, None, None, None, None, None, None, None, None, None, None, None, None, None, None, None, None, None, None, None, None, None, None, None, None, None, None, None, None, None, None, None, None, None, None, None, None, None, None, None, None, None, None, None, None, None, None, None, None, None, None, None, None, None, None, None, None, None, None, None, None, None, None, None, None, None, None, None, None, None, None, None, None, None, None, None, None, None, None, None, None, None, None, None, None, None, None, None, None, None, None, None, None, None, None, None, None, None, None, None, None, None, None, None, None, None, None, None, None, None, None, None, None, None, None, None, None, None, None, None, None, None, None, None, None, None, None, None, None, None, None, None, None, None, None, None, None, None, None, None, None, None, None, None, None, None, None, None, None, None, None, None, None, None, None, None, None, None, None, None, None, None, None, None, None, None, None, None, None, None, None, None, None, None, None, None, None, None, None, None, None, None, None, None, None, None, None, None, None, None, None, None, None, None, None, None, None, None, None, None, None, None, None, None, None, None, None, None, None, None, None, None, None, None, None, None, None, None, None, None, None, None, None, None, None, None, None, None, None, None, None, None, None, None, None, None, None, None, None, None, None, None, None, None, None, None, None, None, None, None, None, None, None, None, None, None, None, None, None, None, None, None, None, None, None, None, None, None, None, None, None, None, None, None, None, None, None, None, None, None, None, None, None, None, None, None, None, None, None, None, None, None, None, None, None, None, None, None, None, None, None, None, None, None, None, None, None, None, None, None, None, None, None, None, None, None, None, None, None, None, None, None, None, None, None, None, None, None, None, None, None, None, None, None, None, None, None, None, None, None, None, None, None, None, None, None, None, None, None, None, None, None, None, None, None, None, None, None, None, None, None, None, None, None, None, None, None, None, None, None, None, None, None, None, None, None, None, None, None, None, None, None, None, None, None, None, None, None, None, None, None, None, None, None, None, None, None, None, None, None, None, None, None, None, None, None, None, None, None, None, None, None, None, None, None, None, None, None, None, None, None, None, None, None, None, None, None, None, None, None, None, None, None, None, None, None, None, None, None, None, None, None, None, None, None, None, None, None, None, None, None, None, None, None, None, None, None, None, None, None, None, None, None, None, None, None, None, None, None, None, None, None, None, None, None, None, None, None, None, None, None, None, None, None, None, None, None, None, None, None, None, None, None, None, None, None, None, None, None, None, None, None, None, None, None, None, None, None, None, None, None, None, None, None, None, None, None, None, None, None, None, None, None, None, None, None, None, None, None, None, None, None, None, None, None, None, None, None, None, None, None, None, None, None, None, None, None, None, None, None, None, None, None, None, None, None, None, None, None, None, None, None, None, None, None, None, None, None, None, None, None, None, None, None, None, None, None, None, None, None, None, None, None, None, None, None, None, None, None, None, None, None, None, None, None, None, None, None, None, None, None, None, None, None, None, None, None, None, None, None, None, None, None, None, None, None, None, None, None, None, None, None, None, None, None, None, None, None, None, None, None, None, None, None, None, None, None, None, None, None, None, None, None, None, None, None, None, None, None, None, None, None, None, None, None, None, None, None, None, None, None, None, None, None, None, None, None, None, None, None, None, None, None, None, None, None, None, None, None, None, None, None, None, None, None, None, None, None, None, None, None, None, None, None, None, None, None, None, None, None, None, None, None, None, None, None, None, None, None, None, None, None, None, None, None, None, None, None, None, None, None, None, None, None, None, None, None, None, None, None, None, None, None, None, None, None, None, None, None, None, None, None, None, None, None, None, None, None, None, None, None, None, None, None, None, None, None, None, None, None, None, None, None, None, None, None, None, None, None, None, None, None, None, None, None, None, None, None, None, None, None, None, None, None, None, None, None, None, None, None, None, None, None, None, None, None, None, None, None, None, None, None, None, None, None, None, None, None, None, None, None, None, None, None, None, None, None, None, None, None, None, None, None, None, None, None, None, None, None, None, None, None, None, None, None, None, None, None, None, None, None, None, None, None, None, None, None, None, None, None, None, None, None, None, None, None, None, None, None, None, None, None, None, None, None, None, None, None, None, None, None, None, None, None, None, None, None, None, None, None, None, None, None, None, None, None, None, None, None, None, None, None, None, None, None, None, None, None, None, None, None, None, None, None, None, None, None, None, None, None, None, None, None, None, None, None, None, None, None, None, None, None, None, None, None, None, None, None, None, None, None, None, None, None, None, None, None, None, None, None, None, None, None, None, None, None, None, None, None, None, None, None, None, None, None, None, None, None, None, None, None, None, None, None, None, None, None, None, None, None, None, None, None, None, None, None, None, None, None, None, None, None, None, None, None, None, None, None, None, None, None, None, None, None, None, None, None, None, None, None, None, None, None, None, None, None, None, None, None, None, None, None, None, None, None, None, None, None, None, None, None, None, None, None, None, None, None, None, None, None, None, None, None, None, None, None, None, None, None, None, None, None, None, None, None, None, None, None, None, None, None, None, None, None, None, None, None, None, None, None, None, None, None, None, None, None, None, None, None, None, None, None, None, None, None, None, None, None, None, None, None, None, None, None, None, None, None, None, None, None, None, None, None, None, None, None, None, None, None, None, None, None, None, None, None, None, None, None, None, None, None, None, None, None, None, None, None, None, None, None, None, None, None, None, None, None, None, None, None, None, None, None, None, None, None, None, None, None, None, None, None, None, None, None, None, None, None, None, None, None, None, None, None, None, None, None, None, None, None, None, None, None, None, None, None, None, None, None, None, None, None, None, None, None, None, None, None, None, None, None, None, None, None, None, None, None, None, None, None, None, None, None, None, None, None, None, None, None, None, None, None, None, None, None, None, None, None, None, None, None, None, None, None, None, None, None, None, None, None, None, None, None, None, None, None, None, None, None, None, None, None, None, None, None, None, None, None, None, None, None, None, None, None, None, None, None, None, None, None, None, None, None, None, None, None, None, None, None, None, None, None, None, None, None, None, None, None, None, None, None, None, None, None, None, None, None, None, None, None, None, None, None, None, None, None, None, None, None, None, None, None, None, None, None, None, None, None, None, None, None, None, None, None, None, None, None, None, None, None, None, None, None, None, None, None, None, None, None, None, None, None, None, None, None, None, None, None, None, None, None, None, None, None, None, None, None, None, None, None, None, None, None, None, None, None, None, None, None, None, None, None, None, None, None, None, None, None, None, None, None, None, None, None, None, None, None, None, None, None, None, None, None, None, None, None, None, None, None, None, None, None, None, None, None, None, None, None, None, None, None, None, None, None, None, None, None, None, None, None, None, None, None, None, None, None, None, None, None, None, None, None, None, None, None, None, None, None, None, None, None, None, None, None, None, None, None, None, None, None, None, None, None, None, None, None, None, None, None, None, None, None, None, None, None, None, None, None, None, None, None, None, None, None, None, None, None, None, None, None, None, None, None, None, None, None, None, None, None, None, None, None, None, None, None, None, None, None, None, None, None, None, None, None, None, None, None, None, None, None, None, None, None, None, None, None, None, None, None, None, None, None, None, None, None, None, None, None, None, None, None, None, None, None, None, None, None, None, None, None, None, None, None, None, None, None, None, None, None, None, None, None, None, None, None, None, None, None, None, None, None, None, None, None, None, None, None, None, None, None, None, None, None, None, None, None, None, None, None, None, None, None, None, None, None, None, None, None, None, None, None, None, None, None, None, None, None, None, None, None, None, None, None, None, None, None, None, None, None, None, None, None, None, None, None, None, None, None, None, None, None, None, None, None, None, None, None, None, None, None, None, None, None, None, None, None, None, None, None, None, None, None, None, None, None, None, None, None, None, None, None, None, None, None, None, None, None, None, None, None, None, None, None, None, None, None, None, None, None, None, None, None, None, None, None, None, None, None, None, None, None, None, None, None, None, None, None, None, None, None, None, None, None, None, None, None, None, None, None, None, None, None, None, None, None, None, None, None, None, None, None, None, None, None, None, None, None, None, None, None, None, None, None, None, None, None, None, None, None, None, None, None, None, None, None, None, None, None, None, None, None, None, None, None, None, None, None, None, None, None, None, None, None, None, None, None, None, None, None, None, None, None, None, None, None, None, None, None, None, None, None, None, None, None, None, None, None, None, None, None, None, None, None, None, None, None, None, None, None, None, None, None, None, None, None, None, None, None, None, None, None, None, None, None, None, None, None, None, None, None, None, None, None, None, None, None, None, None, None, None, None, None, None, None, None, None, None, None, None, None, None, None, None, None, None, None, None, None, None, None, None, None, None, None, None, None, None, None, None, None, None, None, None, None, None, None, None, None, None, None, None, None, None, None, None, None, None, None, None, None, None, None, None, None, None, None, None, None, None, None, None, None, None, None, None, None, None, None, None, None, None, None, None, None, None, None, None, None, None, None, None, None, None, None, None, None, None, None, None, None, None, None, None, None, None, None, None, None, None, None, None, None, None, None, None, None, None, None, None, None, None, None, None, None, None, None, None, None, None, None, None, None, None, None, None, None, None, None, None, None, None, None, None, None, None, None, None, None, None, None, None, None, None, None, None, None, None, None, None, None, None, None, None, None, None, None, None, None, None, None, None, None, None, None, None, None, None, None, None, None, None, None, None, None, None, None, None, None, None, None, None, None, None, None, None, None, None, None, None, None, None, None, None, None, None, None, None, None, None, None, None, None, None, None, None, None, None, None, None, None, None, None, None, None, None, None, None, None, None, None, None, None, None, None, None, None, None, None, None, None, None, None, None, None, None, None, None, None, None, None, None, None, None, None, None, None, None, None, None, None, None, None, None, None, None, None, None, None, None, None, None, None, None, None, None, None, None, None, None, None, None, None, None, None, None, None, None, None, None, None, None, None, None, None, None, None, None, None, None, None, None, None, None, None, None, None, None, None, None, None, None, None, None, None, None, None, None, None, None, None, None, None, None, None, None, None, None, None, None, None, None, None, None, None, None, None, None, None, None, None, None, None, None, None, None, None, None, None, None, None, None, None, None, None, None, None, None, None, None, None, None, None, None, None, None, None, None, None, None, None, None, None, None, None, None, None, None, None, None, None, None, None, None, None, None, None, None, None, None, None, None, None, None, None, None, None, None, None, None, None, None, None, None, None, None, None, None, None, None, None, None, None, None, None, None, None, None, None, None, None, None, None, None, None, None, None, None, None, None, None, None, None, None, None, None, None, None, None, None, None, None, None, None, None, None, None, None, None, None, None, None, None, None, None, None, None, None, None, None, None, None, None, None, None, None, None, None, None, None, None, None, None, None, None, None, None, None, None, None, None, None, None, None, None, None, None, None, None, None, None, None, None, None, None, None, None, None, None, None, None, None, None, None, None, None, None, None, None, None, None, None, None, None, None, None, None, None, None, None, None, None, None, None, None, None, None, None, None, None, None, None, None, None, None, None, None, None, None, None, None, None, None, None, None, None, None, None, None, None, None, None, None, None, None, None, None, None, None, None, None, None, None, None, None, None, None, None, None, None, None, None, None, None, None, None, None, None, None, None, None, None, None, None, None, None, None, None, None, None, None, None, None, None, None, None, None, None, None, None, None, None, None, None, None, None, None, None, None, None, None, None, None, None, None, None, None, None, None, None, None, None, None, None, None, None, None, None, None, None, None, None, None, None, None, None, None, None, None, None, None, None, None, None, None, None, None, None, None, None, None, None, None, None, None, None, None, None, None, None, None, None, None, None, None, None, None, None, None, None, None, None, None, None, None, None, None, None, None, None, None, None, None, None, None, None, None, None, None, None, None, None, None, None, None, None, None, None, None, None, None, None, None, None, None, None, None, None, None, None, None, None, None, None, None, None, None, None, None, None, None, None, None, None, None, None, None, None, None, None, None, None, None, None, None, None, None, None, None, None, None, None, None, None, None, None, None, None, None, None, None, None, None, None, None, None, None, None, None, None, None, None, None, None, None, None, None, None, None, None, None, None, None, None, None, None, None, None, None, None, None, None, None, None, None, None, None, None, None, None, None, None, None, None, None, None, None, None, None, None, None, None, None, None, None, None, None, None, None, None, None, None, None, None, None, None, None, None, None, None, None, None, None, None, None, None, None, None, None, None, None, None, None, None, None, None, None, None, None, None, None, None, None, None, None, None, None, None, None, None, None, None, None, None, None, None, None, None, None, None, None, None, None, None, None, None, None, None, None, None, None, None, None, None, None, None, None, None, None, None, None, None, None, None, None, None, None, None, None, None, None, None, None, None, None, None, None, None, None, None, None, None, None, None, None, None, None, None, None, None, None, None, None, None, None, None, None, None, None, None, None, None, None, None, None, None, None, None, None, None, None, None, None, None, None, None, None, None, None, None, None, None, None, None, None, None, None, None, None, None, None, None, None, None, None, None, None, None, None, None, None, None, None, None, None, None, None, None, None, None, None, None, None, None, None, None, None, None, None, None, None, None, None, None, None, None, None, None, None, None, None, None, None, None, None, None, None, None, None, None, None, None, None, None, None, None, None, None, None, None, None, None, None, None, None, None, None, None, None, None, None, None, None, None, None, None, None, None, None, None, None, None, None, None, None, None, None, None, None, None, None, None, None, None, None, None, None, None, None, None, None, None, None, None, None, None, None, None, None, None, None, None, None, None, None, None, None, None, None, None, None, None, None, None, None, None, None, None, None, None, None, None, None, None, None, None, None, None, None, None, None, None, None, None, None, None, None, None, None, None, None, None, None, None, None, None, None, None, None, None, None, None, None, None, None, None, None, None, None, None, None, None, None, None, None, None, None, None, None, None, None, None, None, None, None, None, None, None, None, None, None, None, None, None, None, None, None, None, None, None, None, None, None, None, None, None, None, None, None, None, None, None, None, None, None, None, None, None, None, None, None, None, None, None, None, None, None, None, None, None, None, None, None, None, None, None, None, None, None, None, None, None, None, None, None, None, None, None, None, None, None, None, None, None, None, None, None, None, None, None, None, None, None, None, None, None, None, None, None, None, None, None, None, None, None, None, None, None, None, None, None, None, None, None, None, None, None, None, None, None, None, None, None, None, None, None, None, None, None, None, None, None, None, None, None, None, None, None, None, None, None, None, None, None, None, None, None, None, None, None, None, None, None, None, None, None, None, None, None, None, None, None, None, None, None, None, None, None, None, None, None, None, None, None, None, None, None, None, None, None, None, None, None, None, None, None, None, None, None, None, None, None, None, None, None, None, None, None, None, None, None, None, None, None, None, None, None, None, None, None, None, None, None, None, None, None, None, None, None, None, None, None, None, None, None, None, None, None, None, None, None, None, None, None, None, None, None, None, None, None, None, None, None, None, None, None, None, None, None, None, None, None, None, None, None, None, None, None, None, None, None, None, None, None, None, None, None, None, None, None, None, None, None, None, None, None, None, None, None, None, None, None, None, None, None, None, None, None, None, None, None, None, None, None, None, None, None, None, None, None, None, None, None, None, None, None, None, None, None, None, None, None, None, None, None, None, None, None, None, None, None, None, None, None, None, None, None, None, None, None, None, None, None, None, None, None, None, None, None, None, None, None, None, None, None, None, None, None, None, None, None, None, None, None, None, None, None, None, None, None, None, None, None, None, None, None, None, None, None, None, None, None, None, None, None, None, None, None, None, None, None, None, None, None, None, None, None, None, None, None, None, None, None, None, None, None, None, None, None, None, None, None, None, None, None, None, None, None, None, None, None, None, None, None, None, None, None, None, None, None, None, None, None, None, None, None, None, None, None, None, None, None, None, None, None, None, None, None, None, None, None, None, None, None, None, None, None, None, None, None, None, None, None, None, None, None, None, None, None, None, None, None, None, None, None, None, None, None, None, None, None, None, None, None, None, None, None, None, None, None, None, None, None, None, None, None, None, None, None, None, None, None, None, None, None, None, None, None, None, None, None, None, None, None, None, None, None, None, None, None, None, None, None, None, None, None, None, None, None, None, None, None, None, None, None, None, None, None, None, None, None, None, None, None, None, None, None, None, None, None, None, None, None, None, None, None, None, None, None, None, None, None, None, None, None, None, None, None, None, None, None, None, None, None, None, None, None, None, None, None, None, None, None, None, None, None, None, None, None, None, None, None, None, None, None, None, None, None, None, None, None, None, None, None, None, None, None, None, None, None, None, None, None, None, None, None, None, None, None, None, None, None, None, None, None, None, None, None, None, None, None, None, None, None, None, None, None, None, None, None, None, None, None, None, None, None, None, None, None, None, None, None, None, None, None, None, None, None, None, None, None, None, None, None, None, None, None, None, None, None, None, None, None, None, None, None, None, None, None, None, None, None, None, None, None, None, None, None, None, None, None, None, None, None, None, None, None, None, None, None, None, None, None, None, None, None, None, None, None, None, None, None, None, None, None, None, None, None, None, None, None, None, None, None, None, None, None, None, None, None, None, None, None, None, None, None, None, None, None, None, None, None, None, None, None, None, None, None, None, None, None, None, None, None, None, None, None, None, None, None, None, None, None, None, None, None, None, None, None, None, None, None, None, None, None, None, None, None, None, None, None, None, None, None, None, None, None, None, None, None, None, None, None, None, None, None, None, None, None, None, None, None, None, None, None, None, None, None, None, None, None, None, None, None, None, None, None, None, None, None, None, None, None, None, None, None, None, None, None, None, None, None, None, None, None, None, None, None, None, None, None, None, None, None, None, None, None, None, None, None, None, None, None, None, None, None, None, None, None, None, None, None, None, None, None, None, None, None, None, None, None, None, None, None, None, None, None, None, None, None, None, None, None, None, None, None, None, None, None, None, None, None, None, None, None, None, None, None, None, None, None, None, None, None, None, None, None, None, None, None, None, None, None, None, None, None, None, None, None, None, None, None, None, None, None, None, None, None, None, None, None, None, None, None, None, None, None, None, None, None, None, None, None, None, None, None, None, None, None, None, None, None, None, None, None, None, None, None, None, None, None, None, None, None, None, None, None, None, None, None, None, None, None, None, None, None, None, None, None, None, None, None, None, None, None, None, None, None, None, None, None, None, None, None, None, None, None, None, None, None, None, None, None, None, None, None, None, None, None, None, None, None, None, None, None, None, None, None, None, None, None, None, None, None, None, None, None, None, None, None, None, None, None, None, None, None, None, None, None, None, None, None, None, None, None, None, None, None, None, None, None, None, None, None, None, None, None, None, None, None, None, None, None, None, None, None, None, None, None, None, None, None, None, None, None, None, None, None, None, None, None, None, None, None, None, None, None, None, None, None, None, None, None, None, None, None, None, None, None, None, None, None, None, None, None, None, None, None, None, None, None, None, None, None, None, None, None, None, None, None, None, None, None, None, None, None, None, None, None, None, None, None, None, None, None, None, None, None, None, None, None, None, None, None, None, None, None, None, None, None, None, None, None, None, None, None, None, None, None, None, None, None, None, None, None, None, None, None, None, None, None, None, None, None, None, None, None, None, None, None, None, None, None, None, None, None, None, None, None, None, None, None, None, None, None, None, None, None, None, None, None, None, None, None, None, None, None, None, None, None, None, None, None, None, None, None, None, None, None, None, None, None, None, None, None, None, None, None, None, None, None, None, None, None, None, None, None, None, None, None, None, None, None, None, None, None, None, None, None, None, None, None, None, None, None, None, None, None, None, None, None, None, None, None, None, None, None, None, None, None, None, None, None, None, None, None, None, None, None, None, None, None, None, None, None, None, None, None, None, None, None, None, None, None, None, None, None, None, None, None, None, None, None, None, None, None, None, None, None, None, None, None, None, None, None, None, None, None, None, None, None, None, None, None, None, None, None, None, None, None, None, None, None, None, None, None, None, None, None, None, None, None, None, None, None, None, None, None, None, None, None, None, None, None, None, None, None, None, None, None, None, None, None, None, None, None, None, None, None, None, None, None, None, None, None, None, None, None, None, None, None, None, None, None, None, None, None, None, None, None, None, None, None, None, None, None, None, None, None, None, None, None, None, None, None, None, None, None, None, None, None, None, None, None, None, None, None, None, None, None, None, None, None, None, None, None, None, None, None, None, None, None, None, None, None, None, None, None, None, None, None, None, None, None, None, None, None, None, None, None, None, None, None, None, None, None, None, None, None, None, None, None, None, None, None, None, None, None, None, None, None, None, None, None, None, None, None, None, None, None, None, None, None, None, None, None, None, None, None, None, None, None, None, None, None, None, None, None, None, None, None, None, None, None, None, None, None, None, None, None, None, None, None, None, None, None, None, None, None, None, None, None, None, None, None, None, None, None, None, None, None, None, None, None, None, None, None, None, None, None, None, None, None, None, None, None, None, None, None, None, None, None, None, None, None, None, None, None, None, None, None, None, None, None, None, None, None, None, None, None, None, None, None, None, None, None, None, None, None, None, None, None, None, None, None, None, None, None, None, None, None, None, None, None, None, None, None, None, None, None, None, None, None, None, None, None, None, None, None, None, None, None, None, None, None, None, None, None, None, None, None, None, None, None, None, None, None, None, None, None, None, None, None, None, None, None, None, None, None, None, None, None, None, None, None, None, None, None], \n",
            "\t[0.681260347366333, 0.6482701301574707, 0.619346022605896, 0.5938378572463989, 0.5704514384269714, 0.5497860908508301, 0.5314753651618958, 0.5150196552276611, 0.5003467798233032, 0.48718637228012085, 0.4753171503543854, 0.4646065831184387, 0.45489513874053955, 0.4460603594779968, 0.43800270557403564, 0.4306284785270691, 0.4238607585430145, 0.417633593082428, 0.41188883781433105, 0.4065763056278229, 0.4016518294811249, 0.39707857370376587, 0.3928214907646179, 0.3888520300388336, 0.38514336943626404, 0.3816728889942169, 0.3784201145172119, 0.37536635994911194, 0.37249529361724854, 0.3697921931743622, 0.3672439157962799, 0.364838570356369, 0.36256545782089233, 0.36041441559791565, 0.3583768904209137, 0.3564451038837433, 0.35461166501045227, 0.3528693616390228, 0.3512125611305237, 0.3496355712413788, 0.3481333553791046, 0.3467009961605072, 0.3453342914581299, 0.3440290689468384, 0.3427819013595581, 0.34158921241760254, 0.34044766426086426, 0.33935481309890747, 0.3383074104785919, 0.33730319142341614, 0.3363400995731354, 0.3354150652885437, 0.33452698588371277, 0.3336735963821411, 0.3328527510166168, 0.3320634365081787, 0.33130374550819397, 0.3305722773075104, 0.3298673927783966, 0.32918834686279297, 0.3285335302352905, 0.3279019594192505, 0.32729244232177734, 0.32670384645462036, 0.32613545656204224, 0.3255866467952728, 0.32505619525909424, 0.32454293966293335, 0.32404690980911255, 0.3235669732093811, 0.32310253381729126, 0.3226529359817505, 0.32221719622612, 0.3217957615852356, 0.32138699293136597, 0.3209909200668335, 0.3206069767475128, 0.3202345669269562, 0.31987306475639343, 0.31952252984046936, 0.3191826045513153, 0.31885233521461487, 0.3185316324234009, 0.3182202875614166, 0.3179174065589905, 0.3176238536834717, 0.31733793020248413, 0.3170603811740875, 0.31679022312164307, 0.31652793288230896, 0.31627243757247925, 0.3160240948200226, 0.3157823085784912, 0.3155471682548523, 0.3153179883956909, 0.31509506702423096, 0.31487801671028137, 0.31466659903526306, 0.31446075439453125, 0.3142600357532501, 0.3140645921230316, 0.3138743042945862, 0.31368857622146606, 0.3135077655315399, 0.313331663608551, 0.3131594955921173, 0.31299176812171936, 0.3128283619880676, 0.31266888976097107, 0.3125133812427521, 0.3123616874217987, 0.31221333146095276, 0.312068909406662, 0.3119279146194458, 0.3117903172969818, 0.31165575981140137, 0.3115248382091522, 0.31139686703681946, 0.31127169728279114, 0.31114959716796875, 0.31103047728538513, 0.31091421842575073, 0.31080037355422974, 0.3106893002986908, 0.3105810284614563, 0.31047511100769043, 0.3103713095188141, 0.31027042865753174, 0.3101716637611389, 0.31007519364356995, 0.30998072028160095, 0.3098887503147125, 0.30979862809181213, 0.3097105920314789, 0.30962467193603516, 0.3095405101776123, 0.30945852398872375, 0.3093782365322113, 0.3092997074127197, 0.30922308564186096, 0.3091481626033783, 0.3090747594833374, 0.30900320410728455, 0.3089333474636078, 0.30886492133140564, 0.30879828333854675, 0.30873292684555054, 0.3086692690849304, 0.3086068630218506, 0.30854570865631104, 0.3084864318370819, 0.3084280490875244, 0.30837124586105347, 0.30831578373908997, 0.3082614839076996, 0.30820849537849426, 0.30815672874450684, 0.30810603499412537, 0.30805695056915283, 0.3080084025859833, 0.30796143412590027, 0.30791565775871277, 0.30787044763565063, 0.30782681703567505, 0.30778422951698303, 0.30774232745170593, 0.30770155787467957, 0.3076617121696472, 0.30762314796447754, 0.30758535861968994, 0.3075483441352844, 0.30751264095306396, 0.30747732520103455, 0.3074432611465454, 0.30741000175476074, 0.3073776364326477, 0.30734631419181824, 0.3073154091835022, 0.3072854280471802, 0.3072564899921417, 0.3072282671928406, 0.3072006106376648, 0.30717384815216064, 0.3071480989456177, 0.30712276697158813, 0.30709823966026306, 0.30707427859306335, 0.30705127120018005, 0.30702880024909973, 0.30700722336769104, 0.3069862127304077, 0.30696576833724976, 0.3069462180137634, 0.3069268763065338, 0.30690863728523254, 0.30689138174057007, 0.3068739175796509, 0.3068576157093048, 0.3068414628505707, 0.3068263828754425, 0.30681174993515015, 0.30679744482040405, 0.3067837953567505, 0.30677103996276855, 0.3067585825920105, 0.3067467510700226, 0.30673542618751526, 0.3067246079444885, 0.3067144453525543, 0.30670469999313354, 0.30669546127319336, 0.3066868782043457, 0.3066787123680115, 0.3066711127758026, 0.30666399002075195, 0.30665719509124756, 0.30665117502212524, 0.3066455125808716, 0.3066401779651642, 0.30663537979125977, 0.30663132667541504, 0.3066276013851166, 0.30662405490875244, 0.30662110447883606, 0.30661869049072266, 0.3066166937351227, 0.3066151440143585, 0.3066140413284302, 0.30661335587501526, 0.30661317706108093, 0.30661317706108093, 0.3066137135028839, 0.3066146969795227, None, None, None, None, None, None, None, None, None, None, None, None, None, None, None, None, None, None, None, None, None, None, None, None, None, None, None, None, None, None, None, None, None, None, None, None, None, None, None, None, None, None, None, None, None, None, None, None, None, None, None, None, None, None, None, None, None, None, None, None, None, None, None, None, None, None, None, None, None, None, None, None, None, None, None, None, None, None, None, None, None, None, None, None, None, None, None, None, None, None, None, None, None, None, None, None, None, None, None, None, None, None, None, None, None, None, None, None, None, None, None, None, None, None, None, None, None, None, None, None, None, None, None, None, None, None, None, None, None, None, None, None, None, None, None, None, None, None, None, None, None, None, None, None, None, None, None, None, None, None, None, None, None, None, None, None, None, None, None, None, None, None, None, None, None, None, None, None, None, None, None, None, None, None, None, None, None, None, None, None, None, None, None, None, None, None, None, None, None, None, None, None, None, None, None, None, None, None, None, None, None, None, None, None, None, None, None, None, None, None, None, None, None, None, None, None, None, None, None, None, None, None, None, None, None, None, None, None, None, None, None, None, None, None, None, None, None, None, None, None, None, None, None, None, None, None, None, None, None, None, None, None, None, None, None, None, None, None, None, None, None, None, None, None, None, None, None, None, None, None, None, None, None, None, None, None, None, None, None, None, None, None, None, None, None, None, None, None, None, None, None, None, None, None, None, None, None, None, None, None, None, None, None, None, None, None, None, None, None, None, None, None, None, None, None, None, None, None, None, None, None, None, None, None, None, None, None, None, None, None, None, None, None, None, None, None, None, None, None, None, None, None, None, None, None, None, None, None, None, None, None, None, None, None, None, None, None, None, None, None, None, None, None, None, None, None, None, None, None, None, None, None, None, None, None, None, None, None, None, None, None, None, None, None, None, None, None, None, None, None, None, None, None, None, None, None, None, None, None, None, None, None, None, None, None, None, None, None, None, None, None, None, None, None, None, None, None, None, None, None, None, None, None, None, None, None, None, None, None, None, None, None, None, None, None, None, None, None, None, None, None, None, None, None, None, None, None, None, None, None, None, None, None, None, None, None, None, None, None, None, None, None, None, None, None, None, None, None, None, None, None, None, None, None, None, None, None, None, None, None, None, None, None, None, None, None, None, None, None, None, None, None, None, None, None, None, None, None, None, None, None, None, None, None, None, None, None, None, None, None, None, None, None, None, None, None, None, None, None, None, None, None, None, None, None, None, None, None, None, None, None, None, None, None, None, None, None, None, None, None, None, None, None, None, None, None, None, None, None, None, None, None, None, None, None, None, None, None, None, None, None, None, None, None, None, None, None, None, None, None, None, None, None, None, None, None, None, None, None, None, None, None, None, None, None, None, None, None, None, None, None, None, None, None, None, None, None, None, None, None, None, None, None, None, None, None, None, None, None, None, None, None, None, None, None, None, None, None, None, None, None, None, None, None, None, None, None, None, None, None, None, None, None, None, None, None, None, None, None, None, None, None, None, None, None, None, None, None, None, None, None, None, None, None, None, None, None, None, None, None, None, None, None, None, None, None, None, None, None, None, None, None, None, None, None, None, None, None, None, None, None, None, None, None, None, None, None, None, None, None, None, None, None, None, None, None, None, None, None, None, None, None, None, None, None, None, None, None, None, None, None, None, None, None, None, None, None, None, None, None, None, None, None, None, None, None, None, None, None, None, None, None, None, None, None, None, None, None, None, None, None, None, None, None, None, None, None, None, None, None, None, None, None, None, None, None, None, None, None, None, None, None, None, None, None, None, None, None, None, None, None, None, None, None, None, None, None, None, None, None, None, None, None, None, None, None, None, None, None, None, None, None, None, None, None, None, None, None, None, None, None, None, None, None, None, None, None, None, None, None, None, None, None, None, None, None, None, None, None, None, None, None, None, None, None, None, None, None, None, None, None, None, None, None, None, None, None, None, None, None, None, None, None, None, None, None, None, None, None, None, None, None, None, None, None, None, None, None, None, None, None, None, None, None, None, None, None, None, None, None, None, None, None, None, None, None, None, None, None, None, None, None, None, None, None, None, None, None, None, None, None, None, None, None, None, None, None, None, None, None, None, None, None, None, None, None, None, None, None, None, None, None, None, None, None, None, None, None, None, None, None, None, None, None, None, None, None, None, None, None, None, None, None, None, None, None, None, None, None, None, None, None, None, None, None, None, None, None, None, None, None, None, None, None, None, None, None, None, None, None, None, None, None, None, None, None, None, None, None, None, None, None, None, None, None, None, None, None, None, None, None, None, None, None, None, None, None, None, None, None, None, None, None, None, None, None, None, None, None, None, None, None, None, None, None, None, None, None, None, None, None, None, None, None, None, None, None, None, None, None, None, None, None, None, None, None, None, None, None, None, None, None, None, None, None, None, None, None, None, None, None, None, None, None, None, None, None, None, None, None, None, None, None, None, None, None, None, None, None, None, None, None, None, None, None, None, None, None, None, None, None, None, None, None, None, None, None, None, None, None, None, None, None, None, None, None, None, None, None, None, None, None, None, None, None, None, None, None, None, None, None, None, None, None, None, None, None, None, None, None, None, None, None, None, None, None, None, None, None, None, None, None, None, None, None, None, None, None, None, None, None, None, None, None, None, None, None, None, None, None, None, None, None, None, None, None, None, None, None, None, None, None, None, None, None, None, None, None, None, None, None, None, None, None, None, None, None, None, None, None, None, None, None, None, None, None, None, None, None, None, None, None, None, None, None, None, None, None, None, None, None, None, None, None, None, None, None, None, None, None, None, None, None, None, None, None, None, None, None, None, None, None, None, None, None, None, None, None, None, None, None, None, None, None, None, None, None, None, None, None, None, None, None, None, None, None, None, None, None, None, None, None, None, None, None, None, None, None, None, None, None, None, None, None, None, None, None, None, None, None, None, None, None, None, None, None, None, None, None, None, None, None, None, None, None, None, None, None, None, None, None, None, None, None, None, None, None, None, None, None, None, None, None, None, None, None, None, None, None, None, None, None, None, None, None, None, None, None, None, None, None, None, None, None, None, None, None, None, None, None, None, None, None, None, None, None, None, None, None, None, None, None, None, None, None, None, None, None, None, None, None, None, None, None, None, None, None, None, None, None, None, None, None, None, None, None, None, None, None, None, None, None, None, None, None, None, None, None, None, None, None, None, None, None, None, None, None, None, None, None, None, None, None, None, None, None, None, None, None, None, None, None, None, None, None, None, None, None, None, None, None, None, None, None, None, None, None, None, None, None, None, None, None, None, None, None, None, None, None, None, None, None, None, None, None, None, None, None, None, None, None, None, None, None, None, None, None, None, None, None, None, None, None, None, None, None, None, None, None, None, None, None, None, None, None, None, None, None, None, None, None, None, None, None, None, None, None, None, None, None, None, None, None, None, None, None, None, None, None, None, None, None, None, None, None, None, None, None, None, None, None, None, None, None, None, None, None, None, None, None, None, None, None, None, None, None, None, None, None, None, None, None, None, None, None, None, None, None, None, None, None, None, None, None, None, None, None, None, None, None, None, None, None, None, None, None, None, None, None, None, None, None, None, None, None, None, None, None, None, None, None, None, None, None, None, None, None, None, None, None, None, None, None, None, None, None, None, None, None, None, None, None, None, None, None, None, None, None, None, None, None, None, None, None, None, None, None, None, None, None, None, None, None, None, None, None, None, None, None, None, None, None, None, None, None, None, None, None, None, None, None, None, None, None, None, None, None, None, None, None, None, None, None, None, None, None, None, None, None, None, None, None, None, None, None, None, None, None, None, None, None, None, None, None, None, None, None, None, None, None, None, None, None, None, None, None, None, None, None, None, None, None, None, None, None, None, None, None, None, None, None, None, None, None, None, None, None, None, None, None, None, None, None, None, None, None, None, None, None, None, None, None, None, None, None, None, None, None, None, None, None, None, None, None, None, None, None, None, None, None, None, None, None, None, None, None, None, None, None, None, None, None, None, None, None, None, None, None, None, None, None, None, None, None, None, None, None, None, None, None, None, None, None, None, None, None, None, None, None, None, None, None, None, None, None, None, None, None, None, None, None, None, None, None, None, None, None, None, None, None, None, None, None, None, None, None, None, None, None, None, None, None, None, None, None, None, None, None, None, None, None, None, None, None, None, None, None, None, None, None, None, None, None, None, None, None, None, None, None, None, None, None, None, None, None, None, None, None, None, None, None, None, None, None, None, None, None, None, None, None, None, None, None, None, None, None, None, None, None, None, None, None, None, None, None, None, None, None, None, None, None, None, None, None, None, None, None, None, None, None, None, None, None, None, None, None, None, None, None, None, None, None, None, None, None, None, None, None, None, None, None, None, None, None, None, None, None, None, None, None, None, None, None, None, None, None, None, None, None, None, None, None, None, None, None, None, None, None, None, None, None, None, None, None, None, None, None, None, None, None, None, None, None, None, None, None, None, None, None, None, None, None, None, None, None, None, None, None, None, None, None, None, None, None, None, None, None, None, None, None, None, None, None, None, None, None, None, None, None, None, None, None, None, None, None, None, None, None, None, None, None, None, None, None, None, None, None, None, None, None, None, None, None, None, None, None, None, None, None, None, None, None, None, None, None, None, None, None, None, None, None, None, None, None, None, None, None, None, None, None, None, None, None, None, None, None, None, None, None, None, None, None, None, None, None, None, None, None, None, None, None, None, None, None, None, None, None, None, None, None, None, None, None, None, None, None, None, None, None, None, None, None, None, None, None, None, None, None, None, None, None, None, None, None, None, None, None, None, None, None, None, None, None, None, None, None, None, None, None, None, None, None, None, None, None, None, None, None, None, None, None, None, None, None, None, None, None, None, None, None, None, None, None, None, None, None, None, None, None, None, None, None, None, None, None, None, None, None, None, None, None, None, None, None, None, None, None, None, None, None, None, None, None, None, None, None, None, None, None, None, None, None, None, None, None, None, None, None, None, None, None, None, None, None, None, None, None, None, None, None, None, None, None, None, None, None, None, None, None, None, None, None, None, None, None, None, None, None, None, None, None, None, None, None, None, None, None, None, None, None, None, None, None, None, None, None, None, None, None, None, None, None, None, None, None, None, None, None, None, None, None, None, None, None, None, None, None, None, None, None, None, None, None, None, None, None, None, None, None, None, None, None, None, None, None, None, None, None, None, None, None, None, None, None, None, None, None, None, None, None, None, None, None, None, None, None, None, None, None, None, None, None, None, None, None, None, None, None, None, None, None, None, None, None, None, None, None, None, None, None, None, None, None, None, None, None, None, None, None, None, None, None, None, None, None, None, None, None, None, None, None, None, None, None, None, None, None, None, None, None, None, None, None, None, None, None, None, None, None, None, None, None, None, None, None, None, None, None, None, None, None, None, None, None, None, None, None, None, None, None, None, None, None, None, None, None, None, None, None, None, None, None, None, None, None, None, None, None, None, None, None, None, None, None, None, None, None, None, None, None, None, None, None, None, None, None, None, None, None, None, None, None, None, None, None, None, None, None, None, None, None, None, None, None, None, None, None, None, None, None, None, None, None, None, None, None, None, None, None, None, None, None, None, None, None, None, None, None, None, None, None, None, None, None, None, None, None, None, None, None, None, None, None, None, None, None, None, None, None, None, None, None, None, None, None, None, None, None, None, None, None, None, None, None, None, None, None, None, None, None, None, None, None, None, None, None, None, None, None, None, None, None, None, None, None, None, None, None, None, None, None, None, None, None, None, None, None, None, None, None, None, None, None, None, None, None, None, None, None, None, None, None, None, None, None, None, None, None, None, None, None, None, None, None, None, None, None, None, None, None, None, None, None, None, None, None, None, None, None, None, None, None, None, None, None, None, None, None, None, None, None, None, None, None, None, None, None, None, None, None, None, None, None, None, None, None, None, None, None, None, None, None, None, None, None, None, None, None, None, None, None, None, None, None, None, None, None, None, None, None, None, None, None, None, None, None, None, None, None, None, None, None, None, None, None, None, None, None, None, None, None, None, None, None, None, None, None, None, None, None, None, None, None, None, None, None, None, None, None, None, None, None, None, None, None, None, None, None, None, None, None, None, None, None, None, None, None, None, None, None, None, None, None, None, None, None, None, None, None, None, None, None, None, None, None, None, None, None, None, None, None, None, None, None, None, None, None, None, None, None, None, None, None, None, None, None, None, None, None, None, None, None, None, None, None, None, None, None, None, None, None, None, None, None, None, None, None, None, None, None, None, None, None, None, None, None, None, None, None, None, None, None, None, None, None, None, None, None, None, None, None, None, None, None, None, None, None, None, None, None, None, None, None, None, None, None, None, None, None, None, None, None, None, None, None, None, None, None, None, None, None, None, None, None, None, None, None, None, None, None, None, None, None, None, None, None, None, None, None, None, None, None, None, None, None, None, None, None, None, None, None, None, None, None, None, None, None, None, None, None, None, None, None, None, None, None, None, None, None, None, None, None, None, None, None, None, None, None, None, None, None, None, None, None, None, None, None, None, None, None, None, None, None, None, None, None, None, None, None, None, None, None, None, None, None, None, None, None, None, None, None, None, None, None, None, None, None, None, None, None, None, None, None, None, None, None, None, None, None, None, None, None, None, None, None, None, None, None, None, None, None, None, None, None, None, None, None, None, None, None, None, None, None, None, None, None, None, None, None, None, None, None, None, None, None, None, None, None, None, None, None, None, None, None, None, None, None, None, None, None, None, None, None, None, None, None, None, None, None, None, None, None, None, None, None, None, None, None, None, None, None, None, None, None, None, None, None, None, None, None, None, None, None, None, None, None, None, None, None, None, None, None, None, None, None, None, None, None, None, None, None, None, None, None, None, None, None, None, None, None, None, None, None, None, None, None, None, None, None, None, None, None, None, None, None, None, None, None, None, None, None, None, None, None, None, None, None, None, None, None, None, None, None, None, None, None, None, None, None, None, None, None, None, None, None, None, None, None, None, None, None, None, None, None, None, None, None, None, None, None, None, None, None, None, None, None, None, None, None, None, None, None, None, None, None, None, None, None, None, None, None, None, None, None, None, None, None, None, None, None, None, None, None, None, None, None, None, None, None, None, None, None, None, None, None, None, None, None, None, None, None, None, None, None, None, None, None, None, None, None, None, None, None, None, None, None, None, None, None, None, None, None, None, None, None, None, None, None, None, None, None, None, None, None, None, None, None, None, None, None, None, None, None, None, None, None, None, None, None, None, None, None, None, None, None, None, None, None, None, None, None, None, None, None, None, None, None, None, None, None, None, None, None, None, None, None, None, None, None, None, None, None, None, None, None, None, None, None, None, None, None, None, None, None, None, None, None, None, None, None, None, None, None, None, None, None, None, None, None, None, None, None, None, None, None, None, None, None, None, None, None, None, None, None, None, None, None, None, None, None, None, None, None, None, None, None, None, None, None, None, None, None, None, None, None, None, None, None, None, None, None, None, None, None, None, None, None, None, None, None, None, None, None, None, None, None, None, None, None, None, None, None, None, None, None, None, None, None, None, None, None, None, None, None, None, None, None, None, None, None, None, None, None, None, None, None, None, None, None, None, None, None, None, None, None, None, None, None, None, None, None, None, None, None, None, None, None, None, None, None, None, None, None, None, None, None, None, None, None, None, None, None, None, None, None, None, None, None, None, None, None, None, None, None, None, None, None, None, None, None, None, None, None, None, None, None, None, None, None, None, None, None, None, None, None, None, None, None, None, None, None, None, None, None, None, None, None, None, None, None, None, None, None, None, None, None, None, None, None, None, None, None, None, None, None, None, None, None, None, None, None, None, None, None, None, None, None, None, None, None, None, None, None, None, None, None, None, None, None, None, None, None, None, None, None, None, None, None, None, None, None, None, None, None, None, None, None, None, None, None, None, None, None, None, None, None, None, None, None, None, None, None, None, None, None, None, None, None, None, None, None, None, None, None, None, None, None, None, None, None, None, None, None, None, None, None, None, None, None, None, None, None, None, None, None, None, None, None, None, None, None, None, None, None, None, None, None, None, None, None, None, None, None, None, None, None, None, None, None, None, None, None, None, None, None, None, None, None, None, None, None, None, None, None, None, None, None, None, None, None, None, None, None, None, None, None, None, None, None, None, None, None, None, None, None, None, None, None, None, None, None, None, None, None, None, None, None, None, None, None, None, None, None, None, None, None, None, None, None, None, None, None, None, None, None, None, None, None, None, None, None, None, None, None, None, None, None, None, None, None, None, None, None, None, None, None, None, None, None, None, None, None, None, None, None, None, None, None, None, None, None, None, None, None, None, None, None, None, None, None, None, None, None, None, None, None, None, None, None, None, None, None, None, None, None, None, None, None, None, None, None, None, None, None, None, None, None, None, None, None, None, None, None, None, None, None, None, None, None, None, None, None, None, None, None, None, None, None, None, None, None, None, None, None, None, None, None, None, None, None, None, None, None, None, None, None, None, None, None, None, None, None, None, None, None, None, None, None, None, None, None, None, None, None, None, None, None, None, None, None, None, None, None, None, None, None, None, None, None, None, None, None, None, None, None, None, None, None, None, None, None, None, None, None, None, None, None, None, None, None, None, None, None, None, None, None, None, None, None, None, None, None, None, None, None, None, None, None, None, None, None, None, None, None, None, None, None, None, None, None, None, None, None, None, None, None, None, None, None, None, None, None, None, None, None, None, None, None, None, None, None, None, None, None, None, None, None, None, None, None, None, None, None, None, None, None, None, None, None, None, None, None, None, None, None, None, None, None, None, None, None, None, None, None, None, None, None, None, None, None, None, None, None, None, None, None, None, None, None, None, None, None, None, None, None, None, None, None, None, None, None, None, None, None, None, None, None, None, None, None, None, None, None, None, None, None, None, None, None, None, None, None, None, None, None, None, None, None, None, None, None, None, None, None, None, None, None, None, None, None, None, None, None, None, None, None, None, None, None, None, None, None, None, None, None, None, None, None, None, None, None, None, None, None, None, None, None, None, None, None, None, None, None, None, None, None, None, None, None, None, None, None, None, None, None, None, None, None, None, None, None, None, None, None, None, None, None, None, None, None, None, None, None, None, None, None, None, None, None, None, None, None, None, None, None, None, None, None, None, None, None, None, None, None, None, None, None, None, None, None, None, None, None, None, None, None, None, None, None, None, None, None, None, None, None, None, None, None, None, None, None, None, None, None, None, None, None, None, None, None, None, None, None, None, None, None, None, None, None, None, None, None, None, None, None, None, None, None, None, None, None, None, None, None, None, None, None, None, None, None, None, None, None, None, None, None, None, None, None, None, None, None, None, None, None, None, None, None, None, None, None, None, None, None, None, None, None, None, None, None, None, None, None, None, None, None, None, None, None, None, None, None, None, None, None, None, None, None, None, None, None, None, None, None, None, None, None, None, None, None, None, None, None, None, None, None, None, None, None, None, None, None, None, None, None, None, None, None, None, None, None, None, None, None, None, None, None, None, None, None, None, None, None, None, None, None, None, None, None, None, None, None, None, None, None, None, None, None, None, None, None, None, None, None, None, None, None, None, None, None, None, None, None, None, None, None, None, None, None, None, None, None, None, None, None, None, None, None, None, None, None, None, None, None, None, None, None, None, None, None, None, None, None, None, None, None, None, None, None, None, None, None, None, None, None, None, None, None, None, None, None, None, None, None, None, None, None, None, None, None, None, None, None, None, None, None, None, None, None, None, None, None, None, None, None, None, None, None, None, None, None, None, None, None, None, None, None, None, None, None, None, None, None, None, None, None, None, None, None, None, None, None, None, None, None, None, None, None, None, None, None, None, None, None, None, None, None, None, None, None, None, None, None, None, None, None, None, None, None, None, None, None, None, None, None, None, None, None, None, None, None, None, None, None, None, None, None, None, None, None, None, None, None, None, None, None, None, None, None, None, None, None, None, None, None, None, None, None, None, None, None, None, None, None, None, None, None, None, None, None, None, None, None, None, None, None, None, None, None, None, None, None, None, None, None, None, None, None, None, None, None, None, None, None, None, None, None, None, None, None, None, None, None, None, None, None, None, None, None, None, None, None, None, None, None, None, None, None, None, None, None, None, None, None, None, None, None, None, None, None, None, None, None, None, None, None, None, None, None, None, None, None, None, None, None, None, None, None, None, None, None, None, None, None, None, None, None, None, None, None, None, None, None, None, None, None, None, None, None, None, None, None, None, None, None, None, None, None, None, None, None, None, None, None, None, None, None, None, None, None, None, None, None, None, None, None, None, None, None, None, None, None, None, None, None, None, None, None, None, None, None, None, None, None, None, None, None, None, None, None, None, None, None, None, None, None, None, None, None, None, None, None, None, None, None, None, None, None, None, None, None, None, None, None, None, None, None, None, None, None, None, None, None, None, None, None, None, None, None, None, None, None, None, None, None, None, None, None, None, None, None, None, None, None, None, None, None, None, None, None, None, None, None, None, None, None, None, None, None, None, None, None, None, None, None, None, None, None, None, None, None, None, None, None, None, None, None, None, None, None, None, None, None, None, None, None, None, None, None, None, None, None, None, None, None, None, None, None, None, None, None, None, None, None, None, None, None, None, None, None, None, None, None, None, None, None, None, None, None, None, None, None, None, None, None, None, None, None, None, None, None, None, None, None, None, None, None, None, None, None, None, None, None, None, None, None, None, None, None, None, None, None, None, None, None, None, None, None, None, None, None, None, None, None, None, None, None, None, None, None, None, None, None, None, None, None, None, None, None, None, None, None, None, None, None, None, None, None, None, None, None, None, None, None, None, None, None, None, None, None, None, None, None, None, None, None, None, None, None, None, None, None, None, None, None, None, None, None, None, None, None, None, None, None, None, None, None, None, None, None, None, None, None, None, None, None, None, None, None, None, None, None, None, None, None, None, None, None, None, None, None, None, None, None, None, None, None, None, None, None, None, None, None, None, None, None, None, None, None, None, None, None, None, None, None, None, None, None, None, None, None, None, None, None, None, None, None], \n",
            "\tover the training epochs, respectively.\n"
          ],
          "name": "stdout"
        },
        {
          "output_type": "stream",
          "text": [
            "\n"
          ],
          "name": "stderr"
        }
      ]
    },
    {
      "cell_type": "markdown",
      "metadata": {
        "id": "N_6zjGmfNhDx"
      },
      "source": [
        "#### Visualizing the plots:"
      ]
    },
    {
      "cell_type": "code",
      "metadata": {
        "id": "4xyRtQNQNhDx",
        "colab": {
          "base_uri": "https://localhost:8080/",
          "height": 851
        },
        "outputId": "67c36a1a-30c5-41de-f414-e9d4d442fd53"
      },
      "source": [
        "plot_loss_graph(tr_loss34, val_loss34)\n",
        "plot_auc_graph(tr_auc34, val_auc34)\n",
        "\n",
        "def plot_loss_graph_for2_models(train_loss_list, validation_loss_list,train_loss_list34, validation_loss_list34,model1_name,model2_name):\n",
        "    plt.plot(train_loss_list, 'g', label='Training loss '+model1_name)\n",
        "    plt.plot(validation_loss_list, 'b', label='validation loss '+model1_name)\n",
        "    plt.plot(train_loss_list34, 'r', label='Training loss '+model2_name)\n",
        "    plt.plot(validation_loss_list34, 'y', label='validation loss '+model2_name)\n",
        "    plt.title('Training and Validation losses')\n",
        "    plt.xlabel('Epochs')\n",
        "    plt.ylabel('Loss')\n",
        "    plt.legend()\n",
        "    plt.show()\n",
        "\n",
        "plot_loss_graph_for2_models(tr_loss, val_loss,tr_loss34, val_loss34,\"18\",\"34\")\n",
        "\n"
      ],
      "execution_count": 19,
      "outputs": [
        {
          "output_type": "display_data",
          "data": {
            "image/png": "[encoded data removed]",
            "text/plain": [
              "<Figure size 432x288 with 1 Axes>"
            ]
          },
          "metadata": {
            "tags": [],
            "needs_background": "light"
          }
        },
        {
          "output_type": "display_data",
          "data": {
            "image/png": "[encoded data removed]",
            "text/plain": [
              "<Figure size 432x288 with 1 Axes>"
            ]
          },
          "metadata": {
            "tags": [],
            "needs_background": "light"
          }
        },
        {
          "output_type": "display_data",
          "data": {
            "image/png": "[encoded data removed]",
            "text/plain": [
              "<Figure size 432x288 with 1 Axes>"
            ]
          },
          "metadata": {
            "tags": [],
            "needs_background": "light"
          }
        }
      ]
    },
    {
      "cell_type": "markdown",
      "metadata": {
        "id": "GIR8NIZ1MaiZ"
      },
      "source": [
        "In the third graph we can see that there is little difference between 18 and 34 validation lossses.Most of the time 34 is a little better and Its probably extract almost the same features. "
      ]
    },
    {
      "cell_type": "markdown",
      "metadata": {
        "id": "ioOqwQgYM-ds"
      },
      "source": [
        "**Adding Hidden layers to classifyer**\r\n",
        "Now we want to check if adding more hidden layers to the classifyer will improve the results"
      ]
    },
    {
      "cell_type": "code",
      "metadata": {
        "colab": {
          "base_uri": "https://localhost:8080/",
          "height": 1000
        },
        "id": "emoCjfMcM-eL",
        "outputId": "f6e34035-87c4-434f-c6ed-53444e3180b3"
      },
      "source": [
        "classifyer_with_3_layers = nn.Sequential(\r\n",
        "    nn.Linear(512, 20), nn.Linear(20, 10), nn.Linear(10, 2))\r\n",
        "net34_with_3_layers_in_head = MyResNet(classifyer_with_3_layers, 18)\r\n",
        "tr_loss_3_layers34, val_loss_3_layers34, test_loss_3_layers34, tr_auc_3_layers34, val_auc_3_layers34, untrained_test_loss_3_layers34, untrained_test_auc_3_layers34 = training_loop(\r\n",
        "    args,\r\n",
        "    net34_with_3_layers_in_head,\r\n",
        "    X_extracted_features_train34,\r\n",
        "    y_extracted_features_train34,\r\n",
        "    X_extracted_features_test34,\r\n",
        "    y_extracted_features_test34,\r\n",
        "    val_dataloader=None,\r\n",
        "    criterion_func=nn.CrossEntropyLoss\r\n",
        ")\r\n",
        "plot_loss_graph(tr_loss_3_layers, val_loss_3_layers)\r\n",
        "plot_auc_graph(tr_auc_3_layers, val_auc_3_layers)\r\n",
        "plot_loss_graph_for2_models(tr_loss34, val_loss34,tr_loss_3_layers34, val_loss_3_layers34,\"34\",\"34 with hidden layers\")\r\n"
      ],
      "execution_count": 20,
      "outputs": [
        {
          "output_type": "stream",
          "text": [
            "100%|██████████| 11/11 [00:00<00:00, 344.00it/s]\n",
            "100%|██████████| 11/11 [00:00<00:00, 346.45it/s]\n",
            "100%|██████████| 11/11 [00:00<00:00, 336.92it/s]\n",
            "100%|██████████| 11/11 [00:00<00:00, 331.94it/s]\n",
            "100%|██████████| 11/11 [00:00<00:00, 298.47it/s]\n",
            "100%|██████████| 11/11 [00:00<00:00, 318.24it/s]"
          ],
          "name": "stderr"
        },
        {
          "output_type": "stream",
          "text": [
            "Train loss: 6.94e-01, Val loss: 6.79e-01\n",
            "Best val loss is: 6.79e-01\n",
            "Train loss: 6.70e-01, Val loss: 6.56e-01\n",
            "Best val loss is: 6.56e-01\n",
            "Train loss: 6.48e-01, Val loss: 6.34e-01\n",
            "Best val loss is: 6.34e-01\n",
            "Train loss: 6.25e-01, Val loss: 6.11e-01\n",
            "Best val loss is: 6.11e-01\n",
            "Train loss: 6.02e-01, Val loss: 5.88e-01\n",
            "Best val loss is: 5.88e-01\n"
          ],
          "name": "stdout"
        },
        {
          "output_type": "stream",
          "text": [
            "\n",
            "100%|██████████| 11/11 [00:00<00:00, 318.10it/s]\n",
            "100%|██████████| 11/11 [00:00<00:00, 340.41it/s]\n",
            "100%|██████████| 11/11 [00:00<00:00, 306.24it/s]\n",
            "100%|██████████| 11/11 [00:00<00:00, 344.06it/s]\n",
            "100%|██████████| 11/11 [00:00<00:00, 314.72it/s]"
          ],
          "name": "stderr"
        },
        {
          "output_type": "stream",
          "text": [
            "Train loss: 5.79e-01, Val loss: 5.65e-01\n",
            "Best val loss is: 5.65e-01\n",
            "Train loss: 5.55e-01, Val loss: 5.42e-01\n",
            "Best val loss is: 5.42e-01\n",
            "Train loss: 5.32e-01, Val loss: 5.19e-01\n",
            "Best val loss is: 5.19e-01\n",
            "Train loss: 5.09e-01, Val loss: 4.98e-01\n",
            "Best val loss is: 4.98e-01\n",
            "Train loss: 4.87e-01, Val loss: 4.78e-01\n",
            "Best val loss is: 4.78e-01\n"
          ],
          "name": "stdout"
        },
        {
          "output_type": "stream",
          "text": [
            "\n",
            "100%|██████████| 11/11 [00:00<00:00, 351.59it/s]\n",
            "100%|██████████| 11/11 [00:00<00:00, 346.22it/s]\n",
            "100%|██████████| 11/11 [00:00<00:00, 338.22it/s]\n",
            "100%|██████████| 11/11 [00:00<00:00, 324.12it/s]\n",
            "100%|██████████| 11/11 [00:00<00:00, 357.53it/s]\n",
            "  0%|          | 0/11 [00:00<?, ?it/s]"
          ],
          "name": "stderr"
        },
        {
          "output_type": "stream",
          "text": [
            "Train loss: 4.66e-01, Val loss: 4.59e-01\n",
            "Best val loss is: 4.59e-01\n",
            "Train loss: 4.47e-01, Val loss: 4.42e-01\n",
            "Best val loss is: 4.42e-01\n",
            "Train loss: 4.30e-01, Val loss: 4.27e-01\n",
            "Best val loss is: 4.27e-01\n",
            "Train loss: 4.13e-01, Val loss: 4.14e-01\n",
            "Best val loss is: 4.14e-01\n",
            "Train loss: 3.99e-01, Val loss: 4.02e-01\n",
            "Best val loss is: 4.02e-01\n",
            "Train loss: 3.86e-01, Val loss: 3.91e-01\n",
            "Best val loss is: 3.91e-01\n"
          ],
          "name": "stdout"
        },
        {
          "output_type": "stream",
          "text": [
            "100%|██████████| 11/11 [00:00<00:00, 328.97it/s]\n",
            "100%|██████████| 11/11 [00:00<00:00, 330.11it/s]\n",
            "100%|██████████| 11/11 [00:00<00:00, 332.35it/s]\n",
            "100%|██████████| 11/11 [00:00<00:00, 340.70it/s]\n",
            "100%|██████████| 11/11 [00:00<00:00, 340.82it/s]\n",
            "100%|██████████| 11/11 [00:00<00:00, 347.09it/s]"
          ],
          "name": "stderr"
        },
        {
          "output_type": "stream",
          "text": [
            "Train loss: 3.74e-01, Val loss: 3.82e-01\n",
            "Best val loss is: 3.82e-01\n",
            "Train loss: 3.63e-01, Val loss: 3.74e-01\n",
            "Best val loss is: 3.74e-01\n",
            "Train loss: 3.53e-01, Val loss: 3.67e-01\n",
            "Best val loss is: 3.67e-01\n",
            "Train loss: 3.45e-01, Val loss: 3.61e-01\n",
            "Best val loss is: 3.61e-01\n",
            "Train loss: 3.37e-01, Val loss: 3.56e-01\n",
            "Best val loss is: 3.56e-01\n"
          ],
          "name": "stdout"
        },
        {
          "output_type": "stream",
          "text": [
            "\n",
            "100%|██████████| 11/11 [00:00<00:00, 341.31it/s]\n",
            "100%|██████████| 11/11 [00:00<00:00, 345.48it/s]\n",
            "100%|██████████| 11/11 [00:00<00:00, 352.12it/s]\n",
            "100%|██████████| 11/11 [00:00<00:00, 351.36it/s]\n",
            "100%|██████████| 11/11 [00:00<00:00, 336.04it/s]\n",
            "  0%|          | 0/11 [00:00<?, ?it/s]"
          ],
          "name": "stderr"
        },
        {
          "output_type": "stream",
          "text": [
            "Train loss: 3.30e-01, Val loss: 3.52e-01\n",
            "Best val loss is: 3.52e-01\n",
            "Train loss: 3.23e-01, Val loss: 3.48e-01\n",
            "Best val loss is: 3.48e-01\n",
            "Train loss: 3.17e-01, Val loss: 3.44e-01\n",
            "Best val loss is: 3.44e-01\n",
            "Train loss: 3.12e-01, Val loss: 3.41e-01\n",
            "Best val loss is: 3.41e-01\n",
            "Train loss: 3.07e-01, Val loss: 3.38e-01\n",
            "Best val loss is: 3.38e-01\n",
            "Train loss: 3.02e-01, Val loss: 3.36e-01\n",
            "Best val loss is: 3.36e-01\n"
          ],
          "name": "stdout"
        },
        {
          "output_type": "stream",
          "text": [
            "100%|██████████| 11/11 [00:00<00:00, 268.97it/s]\n",
            "100%|██████████| 11/11 [00:00<00:00, 311.02it/s]\n",
            "100%|██████████| 11/11 [00:00<00:00, 291.12it/s]\n",
            "100%|██████████| 11/11 [00:00<00:00, 349.17it/s]\n",
            "100%|██████████| 11/11 [00:00<00:00, 339.39it/s]\n",
            "100%|██████████| 11/11 [00:00<00:00, 351.93it/s]"
          ],
          "name": "stderr"
        },
        {
          "output_type": "stream",
          "text": [
            "Train loss: 2.97e-01, Val loss: 3.34e-01\n",
            "Best val loss is: 3.34e-01\n",
            "Train loss: 2.93e-01, Val loss: 3.32e-01\n",
            "Best val loss is: 3.32e-01\n",
            "Train loss: 2.90e-01, Val loss: 3.30e-01\n",
            "Best val loss is: 3.30e-01\n",
            "Train loss: 2.86e-01, Val loss: 3.29e-01\n",
            "Best val loss is: 3.29e-01\n",
            "Train loss: 2.83e-01, Val loss: 3.28e-01\n",
            "Best val loss is: 3.28e-01\n",
            "Train loss: 2.80e-01, Val loss: 3.26e-01\n",
            "Best val loss is: 3.26e-01\n"
          ],
          "name": "stdout"
        },
        {
          "output_type": "stream",
          "text": [
            "\n",
            "100%|██████████| 11/11 [00:00<00:00, 337.71it/s]\n",
            "100%|██████████| 11/11 [00:00<00:00, 309.12it/s]\n",
            "100%|██████████| 11/11 [00:00<00:00, 321.51it/s]\n",
            "100%|██████████| 11/11 [00:00<00:00, 355.70it/s]\n",
            "100%|██████████| 11/11 [00:00<00:00, 333.38it/s]\n",
            "  0%|          | 0/11 [00:00<?, ?it/s]"
          ],
          "name": "stderr"
        },
        {
          "output_type": "stream",
          "text": [
            "Train loss: 2.77e-01, Val loss: 3.25e-01\n",
            "Best val loss is: 3.25e-01\n",
            "Train loss: 2.74e-01, Val loss: 3.25e-01\n",
            "Best val loss is: 3.25e-01\n",
            "Train loss: 2.71e-01, Val loss: 3.24e-01\n",
            "Best val loss is: 3.24e-01\n",
            "Train loss: 2.68e-01, Val loss: 3.23e-01\n",
            "Best val loss is: 3.23e-01\n",
            "Train loss: 2.66e-01, Val loss: 3.22e-01\n",
            "Best val loss is: 3.22e-01\n"
          ],
          "name": "stdout"
        },
        {
          "output_type": "stream",
          "text": [
            "100%|██████████| 11/11 [00:00<00:00, 325.83it/s]\n",
            "100%|██████████| 11/11 [00:00<00:00, 332.64it/s]\n",
            "100%|██████████| 11/11 [00:00<00:00, 347.32it/s]\n",
            "100%|██████████| 11/11 [00:00<00:00, 335.65it/s]\n",
            "100%|██████████| 11/11 [00:00<00:00, 322.71it/s]\n",
            "100%|██████████| 11/11 [00:00<00:00, 317.82it/s]\n"
          ],
          "name": "stderr"
        },
        {
          "output_type": "stream",
          "text": [
            "Train loss: 2.63e-01, Val loss: 3.22e-01\n",
            "Best val loss is: 3.22e-01\n",
            "Train loss: 2.61e-01, Val loss: 3.21e-01\n",
            "Best val loss is: 3.21e-01\n",
            "Train loss: 2.59e-01, Val loss: 3.21e-01\n",
            "Best val loss is: 3.21e-01\n",
            "Train loss: 2.57e-01, Val loss: 3.21e-01\n",
            "Best val loss is: 3.21e-01\n",
            "Train loss: 2.55e-01, Val loss: 3.20e-01\n",
            "Best val loss is: 3.20e-01\n"
          ],
          "name": "stdout"
        },
        {
          "output_type": "stream",
          "text": [
            "100%|██████████| 11/11 [00:00<00:00, 347.71it/s]\n",
            "100%|██████████| 11/11 [00:00<00:00, 352.16it/s]\n",
            "100%|██████████| 11/11 [00:00<00:00, 343.34it/s]\n",
            "100%|██████████| 11/11 [00:00<00:00, 352.62it/s]\n",
            "100%|██████████| 11/11 [00:00<00:00, 342.14it/s]\n",
            "  0%|          | 0/11 [00:00<?, ?it/s]"
          ],
          "name": "stderr"
        },
        {
          "output_type": "stream",
          "text": [
            "Train loss: 2.53e-01, Val loss: 3.20e-01\n",
            "Best val loss is: 3.20e-01\n",
            "Train loss: 2.51e-01, Val loss: 3.20e-01\n",
            "Best val loss is: 3.20e-01\n",
            "Train loss: 2.49e-01, Val loss: 3.19e-01\n",
            "Best val loss is: 3.19e-01\n",
            "Train loss: 2.47e-01, Val loss: 3.19e-01\n",
            "Best val loss is: 3.19e-01\n",
            "Train loss: 2.45e-01, Val loss: 3.19e-01\n",
            "Best val loss is: 3.19e-01\n",
            "Train loss: 2.44e-01, Val loss: 3.19e-01\n",
            "Best val loss is: 3.19e-01\n"
          ],
          "name": "stdout"
        },
        {
          "output_type": "stream",
          "text": [
            "100%|██████████| 11/11 [00:00<00:00, 310.23it/s]\n",
            "100%|██████████| 11/11 [00:00<00:00, 325.92it/s]\n",
            "100%|██████████| 11/11 [00:00<00:00, 335.93it/s]\n",
            "100%|██████████| 11/11 [00:00<00:00, 349.67it/s]\n",
            "100%|██████████| 11/11 [00:00<00:00, 345.42it/s]\n",
            "  0%|          | 0/11 [00:00<?, ?it/s]"
          ],
          "name": "stderr"
        },
        {
          "output_type": "stream",
          "text": [
            "Train loss: 2.42e-01, Val loss: 3.19e-01\n",
            "Best val loss is: 3.19e-01\n",
            "Train loss: 2.40e-01, Val loss: 3.19e-01\n",
            "Best val loss is: 3.19e-01\n",
            "Train loss: 2.39e-01, Val loss: 3.19e-01\n",
            "Best val loss is: 3.19e-01\n",
            "Train loss: 2.37e-01, Val loss: 3.19e-01\n",
            "Best val loss is: 3.19e-01\n",
            "Train loss: 2.35e-01, Val loss: 3.19e-01\n",
            "Best val loss is: 3.19e-01\n"
          ],
          "name": "stdout"
        },
        {
          "output_type": "stream",
          "text": [
            "100%|██████████| 11/11 [00:00<00:00, 252.21it/s]\n",
            "100%|██████████| 11/11 [00:00<00:00, 343.25it/s]\n",
            "100%|██████████| 11/11 [00:00<00:00, 344.22it/s]\n",
            "100%|██████████| 11/11 [00:00<00:00, 314.28it/s]\n"
          ],
          "name": "stderr"
        },
        {
          "output_type": "stream",
          "text": [
            "Train loss: 2.34e-01, Val loss: 3.19e-01\n",
            "Best val loss is: 3.19e-01\n",
            "Train loss: 2.32e-01, Val loss: 3.19e-01\n",
            "Best val loss is: 3.19e-01\n",
            "Train loss: 2.31e-01, Val loss: 3.19e-01\n",
            "Best val loss is: 3.19e-01\n",
            "Train loss: 2.30e-01, Val loss: 3.19e-01\n",
            "Best val loss is: 3.19e-01\n",
            "Stopped training after 58/5000 epochs.\n",
            "The loss is 7.06e-01 before training and 3.19e-01 after training.\n",
            "The training and validation losses are \n",
            "\t[0.6935117340087891, 0.6700255584716797, 0.6475380706787109, 0.6249613571166992, 0.6019981002807617, 0.5786465072631836, 0.5551092147827148, 0.5317459487915039, 0.5089500045776367, 0.4870907211303711, 0.4664642333984375, 0.4472677230834961, 0.4296026611328125, 0.4134864044189453, 0.39887317657470706, 0.38567447662353516, 0.3737776565551758, 0.36305938720703124, 0.3533953857421875, 0.34466705322265623, 0.3367642593383789, 0.32958744049072264, 0.32304767608642576, 0.31706676483154295, 0.3115761375427246, 0.30651599884033204, 0.30183446884155274, 0.29748676300048826, 0.29343381881713865, 0.2896419143676758, 0.28608184814453125, 0.2827283477783203, 0.2795592498779297, 0.2765554046630859, 0.2737000846862793, 0.2709786796569824, 0.26837835311889646, 0.26588777542114256, 0.26349716186523436, 0.26119768142700195, 0.2589815902709961, 0.2568420219421387, 0.2547729301452637, 0.25276878356933596, 0.25082481384277344, 0.2489366912841797, 0.24710044860839844, 0.24531257629394532, 0.24356990814208984, 0.24186962127685546, 0.24020912170410155, 0.2385860252380371, 0.23699825286865234, 0.23544384002685548, 0.23392097473144532, 0.23242801666259766, 0.23096349716186523, 0.2295260238647461, None, None, None, None, None, None, None, None, None, None, None, None, None, None, None, None, None, None, None, None, None, None, None, None, None, None, None, None, None, None, None, None, None, None, None, None, None, None, None, None, None, None, None, None, None, None, None, None, None, None, None, None, None, None, None, None, None, None, None, None, None, None, None, None, None, None, None, None, None, None, None, None, None, None, None, None, None, None, None, None, None, None, None, None, None, None, None, None, None, None, None, None, None, None, None, None, None, None, None, None, None, None, None, None, None, None, None, None, None, None, None, None, None, None, None, None, None, None, None, None, None, None, None, None, None, None, None, None, None, None, None, None, None, None, None, None, None, None, None, None, None, None, None, None, None, None, None, None, None, None, None, None, None, None, None, None, None, None, None, None, None, None, None, None, None, None, None, None, None, None, None, None, None, None, None, None, None, None, None, None, None, None, None, None, None, None, None, None, None, None, None, None, None, None, None, None, None, None, None, None, None, None, None, None, None, None, None, None, None, None, None, None, None, None, None, None, None, None, None, None, None, None, None, None, None, None, None, None, None, None, None, None, None, None, None, None, None, None, None, None, None, None, None, None, None, None, None, None, None, None, None, None, None, None, None, None, None, None, None, None, None, None, None, None, None, None, None, None, None, None, None, None, None, None, None, None, None, None, None, None, None, None, None, None, None, None, None, None, None, None, None, None, None, None, None, None, None, None, None, None, None, None, None, None, None, None, None, None, None, None, None, None, None, None, None, None, None, None, None, None, None, None, None, None, None, None, None, None, None, None, None, None, None, None, None, None, None, None, None, None, None, None, None, None, None, None, None, None, None, None, None, None, None, None, None, None, None, None, None, None, None, None, None, None, None, None, None, None, None, None, None, None, None, None, None, None, None, None, None, None, None, None, None, None, None, None, None, None, None, None, None, None, None, None, None, None, None, None, None, None, None, None, None, None, None, None, None, None, None, None, None, None, None, None, None, None, None, None, None, None, None, None, None, None, None, None, None, None, None, None, None, None, None, None, None, None, None, None, None, None, None, None, None, None, None, None, None, None, None, None, None, None, None, None, None, None, None, None, None, None, None, None, None, None, None, None, None, None, None, None, None, None, None, None, None, None, None, None, None, None, None, None, None, None, None, None, None, None, None, None, None, None, None, None, None, None, None, None, None, None, None, None, None, None, None, None, None, None, None, None, None, None, None, None, None, None, None, None, None, None, None, None, None, None, None, None, None, None, None, None, None, None, None, None, None, None, None, None, None, None, None, None, None, None, None, None, None, None, None, None, None, None, None, None, None, None, None, None, None, None, None, None, None, None, None, None, None, None, None, None, None, None, None, None, None, None, None, None, None, None, None, None, None, None, None, None, None, None, None, None, None, None, None, None, None, None, None, None, None, None, None, None, None, None, None, None, None, None, None, None, None, None, None, None, None, None, None, None, None, None, None, None, None, None, None, None, None, None, None, None, None, None, None, None, None, None, None, None, None, None, None, None, None, None, None, None, None, None, None, None, None, None, None, None, None, None, None, None, None, None, None, None, None, None, None, None, None, None, None, None, None, None, None, None, None, None, None, None, None, None, None, None, None, None, None, None, None, None, None, None, None, None, None, None, None, None, None, None, None, None, None, None, None, None, None, None, None, None, None, None, None, None, None, None, None, None, None, None, None, None, None, None, None, None, None, None, None, None, None, None, None, None, None, None, None, None, None, None, None, None, None, None, None, None, None, None, None, None, None, None, None, None, None, None, None, None, None, None, None, None, None, None, None, None, None, None, None, None, None, None, None, None, None, None, None, None, None, None, None, None, None, None, None, None, None, None, None, None, None, None, None, None, None, None, None, None, None, None, None, None, None, None, None, None, None, None, None, None, None, None, None, None, None, None, None, None, None, None, None, None, None, None, None, None, None, None, None, None, None, None, None, None, None, None, None, None, None, None, None, None, None, None, None, None, None, None, None, None, None, None, None, None, None, None, None, None, None, None, None, None, None, None, None, None, None, None, None, None, None, None, None, None, None, None, None, None, None, None, None, None, None, None, None, None, None, None, None, None, None, None, None, None, None, None, None, None, None, None, None, None, None, None, None, None, None, None, None, None, None, None, None, None, None, None, None, None, None, None, None, None, None, None, None, None, None, None, None, None, None, None, None, None, None, None, None, None, None, None, None, None, None, None, None, None, None, None, None, None, None, None, None, None, None, None, None, None, None, None, None, None, None, None, None, None, None, None, None, None, None, None, None, None, None, None, None, None, None, None, None, None, None, None, None, None, None, None, None, None, None, None, None, None, None, None, None, None, None, None, None, None, None, None, None, None, None, None, None, None, None, None, None, None, None, None, None, None, None, None, None, None, None, None, None, None, None, None, None, None, None, None, None, None, None, None, None, None, None, None, None, None, None, None, None, None, None, None, None, None, None, None, None, None, None, None, None, None, None, None, None, None, None, None, None, None, None, None, None, None, None, None, None, None, None, None, None, None, None, None, None, None, None, None, None, None, None, None, None, None, None, None, None, None, None, None, None, None, None, None, None, None, None, None, None, None, None, None, None, None, None, None, None, None, None, None, None, None, None, None, None, None, None, None, None, None, None, None, None, None, None, None, None, None, None, None, None, None, None, None, None, None, None, None, None, None, None, None, None, None, None, None, None, None, None, None, None, None, None, None, None, None, None, None, None, None, None, None, None, None, None, None, None, None, None, None, None, None, None, None, None, None, None, None, None, None, None, None, None, None, None, None, None, None, None, None, None, None, None, None, None, None, None, None, None, None, None, None, None, None, None, None, None, None, None, None, None, None, None, None, None, None, None, None, None, None, None, None, None, None, None, None, None, None, None, None, None, None, None, None, None, None, None, None, None, None, None, None, None, None, None, None, None, None, None, None, None, None, None, None, None, None, None, None, None, None, None, None, None, None, None, None, None, None, None, None, None, None, None, None, None, None, None, None, None, None, None, None, None, None, None, None, None, None, None, None, None, None, None, None, None, None, None, None, None, None, None, None, None, None, None, None, None, None, None, None, None, None, None, None, None, None, None, None, None, None, None, None, None, None, None, None, None, None, None, None, None, None, None, None, None, None, None, None, None, None, None, None, None, None, None, None, None, None, None, None, None, None, None, None, None, None, None, None, None, None, None, None, None, None, None, None, None, None, None, None, None, None, None, None, None, None, None, None, None, None, None, None, None, None, None, None, None, None, None, None, None, None, None, None, None, None, None, None, None, None, None, None, None, None, None, None, None, None, None, None, None, None, None, None, None, None, None, None, None, None, None, None, None, None, None, None, None, None, None, None, None, None, None, None, None, None, None, None, None, None, None, None, None, None, None, None, None, None, None, None, None, None, None, None, None, None, None, None, None, None, None, None, None, None, None, None, None, None, None, None, None, None, None, None, None, None, None, None, None, None, None, None, None, None, None, None, None, None, None, None, None, None, None, None, None, None, None, None, None, None, None, None, None, None, None, None, None, None, None, None, None, None, None, None, None, None, None, None, None, None, None, None, None, None, None, None, None, None, None, None, None, None, None, None, None, None, None, None, None, None, None, None, None, None, None, None, None, None, None, None, None, None, None, None, None, None, None, None, None, None, None, None, None, None, None, None, None, None, None, None, None, None, None, None, None, None, None, None, None, None, None, None, None, None, None, None, None, None, None, None, None, None, None, None, None, None, None, None, None, None, None, None, None, None, None, None, None, None, None, None, None, None, None, None, None, None, None, None, None, None, None, None, None, None, None, None, None, None, None, None, None, None, None, None, None, None, None, None, None, None, None, None, None, None, None, None, None, None, None, None, None, None, None, None, None, None, None, None, None, None, None, None, None, None, None, None, None, None, None, None, None, None, None, None, None, None, None, None, None, None, None, None, None, None, None, None, None, None, None, None, None, None, None, None, None, None, None, None, None, None, None, None, None, None, None, None, None, None, None, None, None, None, None, None, None, None, None, None, None, None, None, None, None, None, None, None, None, None, None, None, None, None, None, None, None, None, None, None, None, None, None, None, None, None, None, None, None, None, None, None, None, None, None, None, None, None, None, None, None, None, None, None, None, None, None, None, None, None, None, None, None, None, None, None, None, None, None, None, None, None, None, None, None, None, None, None, None, None, None, None, None, None, None, None, None, None, None, None, None, None, None, None, None, None, None, None, None, None, None, None, None, None, None, None, None, None, None, None, None, None, None, None, None, None, None, None, None, None, None, None, None, None, None, None, None, None, None, None, None, None, None, None, None, None, None, None, None, None, None, None, None, None, None, None, None, None, None, None, None, None, None, None, None, None, None, None, None, None, None, None, None, None, None, None, None, None, None, None, None, None, None, None, None, None, None, None, None, None, None, None, None, None, None, None, None, None, None, None, None, None, None, None, None, None, None, None, None, None, None, None, None, None, None, None, None, None, None, None, None, None, None, None, None, None, None, None, None, None, None, None, None, None, None, None, None, None, None, None, None, None, None, None, None, None, None, None, None, None, None, None, None, None, None, None, None, None, None, None, None, None, None, None, None, None, None, None, None, None, None, None, None, None, None, None, None, None, None, None, None, None, None, None, None, None, None, None, None, None, None, None, None, None, None, None, None, None, None, None, None, None, None, None, None, None, None, None, None, None, None, None, None, None, None, None, None, None, None, None, None, None, None, None, None, None, None, None, None, None, None, None, None, None, None, None, None, None, None, None, None, None, None, None, None, None, None, None, None, None, None, None, None, None, None, None, None, None, None, None, None, None, None, None, None, None, None, None, None, None, None, None, None, None, None, None, None, None, None, None, None, None, None, None, None, None, None, None, None, None, None, None, None, None, None, None, None, None, None, None, None, None, None, None, None, None, None, None, None, None, None, None, None, None, None, None, None, None, None, None, None, None, None, None, None, None, None, None, None, None, None, None, None, None, None, None, None, None, None, None, None, None, None, None, None, None, None, None, None, None, None, None, None, None, None, None, None, None, None, None, None, None, None, None, None, None, None, None, None, None, None, None, None, None, None, None, None, None, None, None, None, None, None, None, None, None, None, None, None, None, None, None, None, None, None, None, None, None, None, None, None, None, None, None, None, None, None, None, None, None, None, None, None, None, None, None, None, None, None, None, None, None, None, None, None, None, None, None, None, None, None, None, None, None, None, None, None, None, None, None, None, None, None, None, None, None, None, None, None, None, None, None, None, None, None, None, None, None, None, None, None, None, None, None, None, None, None, None, None, None, None, None, None, None, None, None, None, None, None, None, None, None, None, None, None, None, None, None, None, None, None, None, None, None, None, None, None, None, None, None, None, None, None, None, None, None, None, None, None, None, None, None, None, None, None, None, None, None, None, None, None, None, None, None, None, None, None, None, None, None, None, None, None, None, None, None, None, None, None, None, None, None, None, None, None, None, None, None, None, None, None, None, None, None, None, None, None, None, None, None, None, None, None, None, None, None, None, None, None, None, None, None, None, None, None, None, None, None, None, None, None, None, None, None, None, None, None, None, None, None, None, None, None, None, None, None, None, None, None, None, None, None, None, None, None, None, None, None, None, None, None, None, None, None, None, None, None, None, None, None, None, None, None, None, None, None, None, None, None, None, None, None, None, None, None, None, None, None, None, None, None, None, None, None, None, None, None, None, None, None, None, None, None, None, None, None, None, None, None, None, None, None, None, None, None, None, None, None, None, None, None, None, None, None, None, None, None, None, None, None, None, None, None, None, None, None, None, None, None, None, None, None, None, None, None, None, None, None, None, None, None, None, None, None, None, None, None, None, None, None, None, None, None, None, None, None, None, None, None, None, None, None, None, None, None, None, None, None, None, None, None, None, None, None, None, None, None, None, None, None, None, None, None, None, None, None, None, None, None, None, None, None, None, None, None, None, None, None, None, None, None, None, None, None, None, None, None, None, None, None, None, None, None, None, None, None, None, None, None, None, None, None, None, None, None, None, None, None, None, None, None, None, None, None, None, None, None, None, None, None, None, None, None, None, None, None, None, None, None, None, None, None, None, None, None, None, None, None, None, None, None, None, None, None, None, None, None, None, None, None, None, None, None, None, None, None, None, None, None, None, None, None, None, None, None, None, None, None, None, None, None, None, None, None, None, None, None, None, None, None, None, None, None, None, None, None, None, None, None, None, None, None, None, None, None, None, None, None, None, None, None, None, None, None, None, None, None, None, None, None, None, None, None, None, None, None, None, None, None, None, None, None, None, None, None, None, None, None, None, None, None, None, None, None, None, None, None, None, None, None, None, None, None, None, None, None, None, None, None, None, None, None, None, None, None, None, None, None, None, None, None, None, None, None, None, None, None, None, None, None, None, None, None, None, None, None, None, None, None, None, None, None, None, None, None, None, None, None, None, None, None, None, None, None, None, None, None, None, None, None, None, None, None, None, None, None, None, None, None, None, None, None, None, None, None, None, None, None, None, None, None, None, None, None, None, None, None, None, None, None, None, None, None, None, None, None, None, None, None, None, None, None, None, None, None, None, None, None, None, None, None, None, None, None, None, None, None, None, None, None, None, None, None, None, None, None, None, None, None, None, None, None, None, None, None, None, None, None, None, None, None, None, None, None, None, None, None, None, None, None, None, None, None, None, None, None, None, None, None, None, None, None, None, None, None, None, None, None, None, None, None, None, None, None, None, None, None, None, None, None, None, None, None, None, None, None, None, None, None, None, None, None, None, None, None, None, None, None, None, None, None, None, None, None, None, None, None, None, None, None, None, None, None, None, None, None, None, None, None, None, None, None, None, None, None, None, None, None, None, None, None, None, None, None, None, None, None, None, None, None, None, None, None, None, None, None, None, None, None, None, None, None, None, None, None, None, None, None, None, None, None, None, None, None, None, None, None, None, None, None, None, None, None, None, None, None, None, None, None, None, None, None, None, None, None, None, None, None, None, None, None, None, None, None, None, None, None, None, None, None, None, None, None, None, None, None, None, None, None, None, None, None, None, None, None, None, None, None, None, None, None, None, None, None, None, None, None, None, None, None, None, None, None, None, None, None, None, None, None, None, None, None, None, None, None, None, None, None, None, None, None, None, None, None, None, None, None, None, None, None, None, None, None, None, None, None, None, None, None, None, None, None, None, None, None, None, None, None, None, None, None, None, None, None, None, None, None, None, None, None, None, None, None, None, None, None, None, None, None, None, None, None, None, None, None, None, None, None, None, None, None, None, None, None, None, None, None, None, None, None, None, None, None, None, None, None, None, None, None, None, None, None, None, None, None, None, None, None, None, None, None, None, None, None, None, None, None, None, None, None, None, None, None, None, None, None, None, None, None, None, None, None, None, None, None, None, None, None, None, None, None, None, None, None, None, None, None, None, None, None, None, None, None, None, None, None, None, None, None, None, None, None, None, None, None, None, None, None, None, None, None, None, None, None, None, None, None, None, None, None, None, None, None, None, None, None, None, None, None, None, None, None, None, None, None, None, None, None, None, None, None, None, None, None, None, None, None, None, None, None, None, None, None, None, None, None, None, None, None, None, None, None, None, None, None, None, None, None, None, None, None, None, None, None, None, None, None, None, None, None, None, None, None, None, None, None, None, None, None, None, None, None, None, None, None, None, None, None, None, None, None, None, None, None, None, None, None, None, None, None, None, None, None, None, None, None, None, None, None, None, None, None, None, None, None, None, None, None, None, None, None, None, None, None, None, None, None, None, None, None, None, None, None, None, None, None, None, None, None, None, None, None, None, None, None, None, None, None, None, None, None, None, None, None, None, None, None, None, None, None, None, None, None, None, None, None, None, None, None, None, None, None, None, None, None, None, None, None, None, None, None, None, None, None, None, None, None, None, None, None, None, None, None, None, None, None, None, None, None, None, None, None, None, None, None, None, None, None, None, None, None, None, None, None, None, None, None, None, None, None, None, None, None, None, None, None, None, None, None, None, None, None, None, None, None, None, None, None, None, None, None, None, None, None, None, None, None, None, None, None, None, None, None, None, None, None, None, None, None, None, None, None, None, None, None, None, None, None, None, None, None, None, None, None, None, None, None, None, None, None, None, None, None, None, None, None, None, None, None, None, None, None, None, None, None, None, None, None, None, None, None, None, None, None, None, None, None, None, None, None, None, None, None, None, None, None, None, None, None, None, None, None, None, None, None, None, None, None, None, None, None, None, None, None, None, None, None, None, None, None, None, None, None, None, None, None, None, None, None, None, None, None, None, None, None, None, None, None, None, None, None, None, None, None, None, None, None, None, None, None, None, None, None, None, None, None, None, None, None, None, None, None, None, None, None, None, None, None, None, None, None, None, None, None, None, None, None, None, None, None, None, None, None, None, None, None, None, None, None, None, None, None, None, None, None, None, None, None, None, None, None, None, None, None, None, None, None, None, None, None, None, None, None, None, None, None, None, None, None, None, None, None, None, None, None, None, None, None, None, None, None, None, None, None, None, None, None, None, None, None, None, None, None, None, None, None, None, None, None, None, None, None, None, None, None, None, None, None, None, None, None, None, None, None, None, None, None, None, None, None, None, None, None, None, None, None, None, None, None, None, None, None, None, None, None, None, None, None, None, None, None, None, None, None, None, None, None, None, None, None, None, None, None, None, None, None, None, None, None, None, None, None, None, None, None, None, None, None, None, None, None, None, None, None, None, None, None, None, None, None, None, None, None, None, None, None, None, None, None, None, None, None, None, None, None, None, None, None, None, None, None, None, None, None, None, None, None, None, None, None, None, None, None, None, None, None, None, None, None, None, None, None, None, None, None, None, None, None, None, None, None, None, None, None, None, None, None, None, None, None, None, None, None, None, None, None, None, None, None, None, None, None, None, None, None, None, None, None, None, None, None, None, None, None, None, None, None, None, None, None, None, None, None, None, None, None, None, None, None, None, None, None, None, None, None, None, None, None, None, None, None, None, None, None, None, None, None, None, None, None, None, None, None, None, None, None, None, None, None, None, None, None, None, None, None, None, None, None, None, None, None, None, None, None, None, None, None, None, None, None, None, None, None, None, None, None, None, None, None, None, None, None, None, None, None, None, None, None, None, None, None, None, None, None, None, None, None, None, None, None, None, None, None, None, None, None, None, None, None, None, None, None, None, None, None, None, None, None, None, None, None, None, None, None, None, None, None, None, None, None, None, None, None, None, None, None, None, None, None, None, None, None, None, None, None, None, None, None, None, None, None, None, None, None, None, None, None, None, None, None, None, None, None, None, None, None, None, None, None, None, None, None, None, None, None, None, None, None, None, None, None, None, None, None, None, None, None, None, None, None, None, None, None, None, None, None, None, None, None, None, None, None, None, None, None, None, None, None, None, None, None, None, None, None, None, None, None, None, None, None, None, None, None, None, None, None, None, None, None, None, None, None, None, None, None, None, None, None, None, None, None, None, None, None, None, None, None, None, None, None, None, None, None, None, None, None, None, None, None, None, None, None, None, None, None, None, None, None, None, None, None, None, None, None, None, None, None, None, None, None, None, None, None, None, None, None, None, None, None, None, None, None, None, None, None, None, None, None, None, None, None, None, None, None, None, None, None, None, None, None, None, None, None, None, None, None, None, None, None, None, None, None, None, None, None, None, None, None, None, None, None, None, None, None, None, None, None, None, None, None, None, None, None, None, None, None, None, None, None, None, None, None, None, None, None, None, None, None, None, None, None, None, None, None, None, None, None, None, None, None, None, None, None, None, None, None, None, None, None, None, None, None, None, None, None, None, None, None, None, None, None, None, None, None, None, None, None, None, None, None, None, None, None, None, None, None, None, None, None, None, None, None, None, None, None, None, None, None, None, None, None, None, None, None, None, None, None, None, None, None, None, None, None, None, None, None, None, None, None, None, None, None, None, None, None, None, None, None, None, None, None, None, None, None, None, None, None, None, None, None, None, None, None, None, None, None, None, None, None, None, None, None, None, None, None, None, None, None, None, None, None, None, None, None, None, None, None, None, None, None, None, None, None, None, None, None, None, None, None, None, None, None, None, None, None, None, None, None, None, None, None, None, None, None, None, None, None, None, None, None, None, None, None, None, None, None, None, None, None, None, None, None, None, None, None, None, None, None, None, None, None, None, None, None, None, None, None, None, None, None, None, None, None, None, None, None, None, None, None, None, None, None, None, None, None, None, None, None, None, None, None, None, None, None, None, None, None, None, None, None, None, None, None, None, None, None, None, None, None, None, None, None, None, None, None, None, None, None, None, None, None, None, None, None, None, None, None, None, None, None, None, None, None, None, None, None, None, None, None, None, None, None, None, None, None, None, None, None, None, None, None, None, None, None, None, None, None, None, None, None, None, None, None, None, None, None, None, None, None, None, None, None, None, None, None, None, None, None, None, None, None, None, None, None, None, None, None, None, None, None, None, None, None, None, None, None, None, None, None, None, None, None, None, None, None, None, None, None, None, None, None, None, None, None, None, None, None, None, None, None, None, None, None, None, None, None, None, None, None, None, None, None, None, None, None, None, None, None, None, None, None, None, None, None, None, None, None, None, None, None, None, None, None, None, None, None, None, None, None, None, None, None, None, None, None, None, None, None, None, None, None, None, None, None, None, None, None, None, None, None, None, None, None, None, None, None, None, None, None, None, None, None, None, None, None, None, None, None, None, None, None, None, None, None, None, None, None, None, None, None, None, None, None, None, None, None, None, None, None, None, None, None, None, None, None, None, None, None, None, None, None, None, None, None, None, None, None, None, None, None, None, None, None, None, None, None, None, None, None, None, None, None, None, None, None, None, None, None, None, None, None, None, None, None, None, None, None, None, None, None, None, None, None, None, None, None, None, None, None, None, None, None, None, None, None, None, None, None, None, None, None, None, None, None, None, None, None, None, None, None, None, None, None, None, None, None, None, None, None, None, None, None, None, None, None, None, None, None, None, None, None, None, None, None, None, None, None, None, None, None, None, None, None, None, None, None, None, None, None, None, None, None, None, None, None, None, None, None, None, None, None, None, None, None, None, None, None, None, None, None, None, None, None, None, None, None, None, None, None, None, None, None, None, None, None, None, None, None, None, None, None, None, None, None, None, None, None, None, None, None, None, None, None, None, None, None, None, None, None, None, None, None, None, None, None, None, None, None, None, None, None, None, None, None, None, None, None, None, None, None, None, None, None, None, None, None, None, None, None, None, None, None, None, None, None, None, None, None, None, None, None, None, None, None, None, None, None, None, None, None, None, None, None, None, None, None, None, None, None, None, None, None, None, None, None, None, None, None, None, None, None, None, None, None, None, None, None, None, None, None, None, None, None, None, None, None, None, None, None, None, None, None, None, None, None, None, None, None, None, None, None, None, None, None, None, None, None, None, None, None], \n",
            "\t[0.6787108182907104, 0.656104326248169, 0.6338992118835449, 0.6111008524894714, 0.5879718661308289, 0.5648131370544434, 0.54175865650177, 0.5192932486534119, 0.4978511929512024, 0.47771790623664856, 0.45916616916656494, 0.4423085153102875, 0.4271787405014038, 0.41373211145401, 0.40186575055122375, 0.3914515972137451, 0.3823433518409729, 0.3743949830532074, 0.3674655854701996, 0.3614265024662018, 0.35616040229797363, 0.3515646457672119, 0.34754830598831177, 0.34403368830680847, 0.3409530520439148, 0.33824843168258667, 0.33586999773979187, 0.33377522230148315, 0.3319271206855774, 0.3302944600582123, 0.32885032892227173, 0.3275717496871948, 0.3264382481575012, 0.32543349266052246, 0.32454171776771545, 0.32375022768974304, 0.3230479061603546, 0.32242509722709656, 0.3218733072280884, 0.3213849663734436, 0.3209536075592041, 0.3205737769603729, 0.32024019956588745, 0.3199484050273895, 0.3196949362754822, 0.31947579979896545, 0.3192885220050812, 0.31912997364997864, 0.31899794936180115, 0.3188907206058502, 0.31880590319633484, 0.31874197721481323, 0.31869760155677795, 0.3186713457107544, 0.31866177916526794, 0.3186682164669037, 0.3186892569065094, 0.31872427463531494, None, None, None, None, None, None, None, None, None, None, None, None, None, None, None, None, None, None, None, None, None, None, None, None, None, None, None, None, None, None, None, None, None, None, None, None, None, None, None, None, None, None, None, None, None, None, None, None, None, None, None, None, None, None, None, None, None, None, None, None, None, None, None, None, None, None, None, None, None, None, None, None, None, None, None, None, None, None, None, None, None, None, None, None, None, None, None, None, None, None, None, None, None, None, None, None, None, None, None, None, None, None, None, None, None, None, None, None, None, None, None, None, None, None, None, None, None, None, None, None, None, None, None, None, None, None, None, None, None, None, None, None, None, None, None, None, None, None, None, None, None, None, None, None, None, None, None, None, None, None, None, None, None, None, None, None, None, None, None, None, None, None, None, None, None, None, None, None, None, None, None, None, None, None, None, None, None, None, None, None, None, None, None, None, None, None, None, None, None, None, None, None, None, None, None, None, None, None, None, None, None, None, None, None, None, None, None, None, None, None, None, None, None, None, None, None, None, None, None, None, None, None, None, None, None, None, None, None, None, None, None, None, None, None, None, None, None, None, None, None, None, None, None, None, None, None, None, None, None, None, None, None, None, None, None, None, None, None, None, None, None, None, None, None, None, None, None, None, None, None, None, None, None, None, None, None, None, None, None, None, None, None, None, None, None, None, None, None, None, None, None, None, None, None, None, None, None, None, None, None, None, None, None, None, None, None, None, None, None, None, None, None, None, None, None, None, None, None, None, None, None, None, None, None, None, None, None, None, None, None, None, None, None, None, None, None, None, None, None, None, None, None, None, None, None, None, None, None, None, None, None, None, None, None, None, None, None, None, None, None, None, None, None, None, None, None, None, None, None, None, None, None, None, None, None, None, None, None, None, None, None, None, None, None, None, None, None, None, None, None, None, None, None, None, None, None, None, None, None, None, None, None, None, None, None, None, None, None, None, None, None, None, None, None, None, None, None, None, None, None, None, None, None, None, None, None, None, None, None, None, None, None, None, None, None, None, None, None, None, None, None, None, None, None, None, None, None, None, None, None, None, None, None, None, None, None, None, None, None, None, None, None, None, None, None, None, None, None, None, None, None, None, None, None, None, None, None, None, None, None, None, None, None, None, None, None, None, None, None, None, None, None, None, None, None, None, None, None, None, None, None, None, None, None, None, None, None, None, None, None, None, None, None, None, None, None, None, None, None, None, None, None, None, None, None, None, None, None, None, None, None, None, None, None, None, None, None, None, None, None, None, None, None, None, None, None, None, None, None, None, None, None, None, None, None, None, None, None, None, None, None, None, None, None, None, None, None, None, None, None, None, None, None, None, None, None, None, None, None, None, None, None, None, None, None, None, None, None, None, None, None, None, None, None, None, None, None, None, None, None, None, None, None, None, None, None, None, None, None, None, None, None, None, None, None, None, None, None, None, None, None, None, None, None, None, None, None, None, None, None, None, None, None, None, None, None, None, None, None, None, None, None, None, None, None, None, None, None, None, None, None, None, None, None, None, None, None, None, None, None, None, None, None, None, None, None, None, None, None, None, None, None, None, None, None, None, None, None, None, None, None, None, None, None, None, None, None, None, None, None, None, None, None, None, None, None, None, None, None, None, None, None, None, None, None, None, None, None, None, None, None, None, None, None, None, None, None, None, None, None, None, None, None, None, None, None, None, None, None, None, None, None, None, None, None, None, None, None, None, None, None, None, None, None, None, None, None, None, None, None, None, None, None, None, None, None, None, None, None, None, None, None, None, None, None, None, None, None, None, None, None, None, None, None, None, None, None, None, None, None, None, None, None, None, None, None, None, None, None, None, None, None, None, None, None, None, None, None, None, None, None, None, None, None, None, None, None, None, None, None, None, None, None, None, None, None, None, None, None, None, None, None, None, None, None, None, None, None, None, None, None, None, None, None, None, None, None, None, None, None, None, None, None, None, None, None, None, None, None, None, None, None, None, None, None, None, None, None, None, None, None, None, None, None, None, None, None, None, None, None, None, None, None, None, None, None, None, None, None, None, None, None, None, None, None, None, None, None, None, None, None, None, None, None, None, None, None, None, None, None, None, None, None, None, None, None, None, None, None, None, None, None, None, None, None, None, None, None, None, None, None, None, None, None, None, None, None, None, None, None, None, None, None, None, None, None, None, None, None, None, None, None, None, None, None, None, None, None, None, None, None, None, None, None, None, None, None, None, None, None, None, None, None, None, None, None, None, None, None, None, None, None, None, None, None, None, None, None, None, None, None, None, None, None, None, None, None, None, None, None, None, None, None, None, None, None, None, None, None, None, None, None, None, None, None, None, None, None, None, None, None, None, None, None, None, None, None, None, None, None, None, None, None, None, None, None, None, None, None, None, None, None, None, None, None, None, None, None, None, None, None, None, None, None, None, None, None, None, None, None, None, None, None, None, None, None, None, None, None, None, None, None, None, None, None, None, None, None, None, None, None, None, None, None, None, None, None, None, None, None, None, None, None, None, None, None, None, None, None, None, None, None, None, None, None, None, None, None, None, None, None, None, None, None, None, None, None, None, None, None, None, None, None, None, None, None, None, None, None, None, None, None, None, None, None, None, None, None, None, None, None, None, None, None, None, None, None, None, None, None, None, None, None, None, None, None, None, None, None, None, None, None, None, None, None, None, None, None, None, None, None, None, None, None, None, None, None, None, None, None, None, None, None, None, None, None, None, None, None, None, None, None, None, None, None, None, None, None, None, None, None, None, None, None, None, None, None, None, None, None, None, None, None, None, None, None, None, None, None, None, None, None, None, None, None, None, None, None, None, None, None, None, None, None, None, None, None, None, None, None, None, None, None, None, None, None, None, None, None, None, None, None, None, None, None, None, None, None, None, None, None, None, None, None, None, None, None, None, None, None, None, None, None, None, None, None, None, None, None, None, None, None, None, None, None, None, None, None, None, None, None, None, None, None, None, None, None, None, None, None, None, None, None, None, None, None, None, None, None, None, None, None, None, None, None, None, None, None, None, None, None, None, None, None, None, None, None, None, None, None, None, None, None, None, None, None, None, None, None, None, None, None, None, None, None, None, None, None, None, None, None, None, None, None, None, None, None, None, None, None, None, None, None, None, None, None, None, None, None, None, None, None, None, None, None, None, None, None, None, None, None, None, None, None, None, None, None, None, None, None, None, None, None, None, None, None, None, None, None, None, None, None, None, None, None, None, None, None, None, None, None, None, None, None, None, None, None, None, None, None, None, None, None, None, None, None, None, None, None, None, None, None, None, None, None, None, None, None, None, None, None, None, None, None, None, None, None, None, None, None, None, None, None, None, None, None, None, None, None, None, None, None, None, None, None, None, None, None, None, None, None, None, None, None, None, None, None, None, None, None, None, None, None, None, None, None, None, None, None, None, None, None, None, None, None, None, None, None, None, None, None, None, None, None, None, None, None, None, None, None, None, None, None, None, None, None, None, None, None, None, None, None, None, None, None, None, None, None, None, None, None, None, None, None, None, None, None, None, None, None, None, None, None, None, None, None, None, None, None, None, None, None, None, None, None, None, None, None, None, None, None, None, None, None, None, None, None, None, None, None, None, None, None, None, None, None, None, None, None, None, None, None, None, None, None, None, None, None, None, None, None, None, None, None, None, None, None, None, None, None, None, None, None, None, None, None, None, None, None, None, None, None, None, None, None, None, None, None, None, None, None, None, None, None, None, None, None, None, None, None, None, None, None, None, None, None, None, None, None, None, None, None, None, None, None, None, None, None, None, None, None, None, None, None, None, None, None, None, None, None, None, None, None, None, None, None, None, None, None, None, None, None, None, None, None, None, None, None, None, None, None, None, None, None, None, None, None, None, None, None, None, None, None, None, None, None, None, None, None, None, None, None, None, None, None, None, None, None, None, None, None, None, None, None, None, None, None, None, None, None, None, None, None, None, None, None, None, None, None, None, None, None, None, None, None, None, None, None, None, None, None, None, None, None, None, None, None, None, None, None, None, None, None, None, None, None, None, None, None, None, None, None, None, None, None, None, None, None, None, None, None, None, None, None, None, None, None, None, None, None, None, None, None, None, None, None, None, None, None, None, None, None, None, None, None, None, None, None, None, None, None, None, None, None, None, None, None, None, None, None, None, None, None, None, None, None, None, None, None, None, None, None, None, None, None, None, None, None, None, None, None, None, None, None, None, None, None, None, None, None, None, None, None, None, None, None, None, None, None, None, None, None, None, None, None, None, None, None, None, None, None, None, None, None, None, None, None, None, None, None, None, None, None, None, None, None, None, None, None, None, None, None, None, None, None, None, None, None, None, None, None, None, None, None, None, None, None, None, None, None, None, None, None, None, None, None, None, None, None, None, None, None, None, None, None, None, None, None, None, None, None, None, None, None, None, None, None, None, None, None, None, None, None, None, None, None, None, None, None, None, None, None, None, None, None, None, None, None, None, None, None, None, None, None, None, None, None, None, None, None, None, None, None, None, None, None, None, None, None, None, None, None, None, None, None, None, None, None, None, None, None, None, None, None, None, None, None, None, None, None, None, None, None, None, None, None, None, None, None, None, None, None, None, None, None, None, None, None, None, None, None, None, None, None, None, None, None, None, None, None, None, None, None, None, None, None, None, None, None, None, None, None, None, None, None, None, None, None, None, None, None, None, None, None, None, None, None, None, None, None, None, None, None, None, None, None, None, None, None, None, None, None, None, None, None, None, None, None, None, None, None, None, None, None, None, None, None, None, None, None, None, None, None, None, None, None, None, None, None, None, None, None, None, None, None, None, None, None, None, None, None, None, None, None, None, None, None, None, None, None, None, None, None, None, None, None, None, None, None, None, None, None, None, None, None, None, None, None, None, None, None, None, None, None, None, None, None, None, None, None, None, None, None, None, None, None, None, None, None, None, None, None, None, None, None, None, None, None, None, None, None, None, None, None, None, None, None, None, None, None, None, None, None, None, None, None, None, None, None, None, None, None, None, None, None, None, None, None, None, None, None, None, None, None, None, None, None, None, None, None, None, None, None, None, None, None, None, None, None, None, None, None, None, None, None, None, None, None, None, None, None, None, None, None, None, None, None, None, None, None, None, None, None, None, None, None, None, None, None, None, None, None, None, None, None, None, None, None, None, None, None, None, None, None, None, None, None, None, None, None, None, None, None, None, None, None, None, None, None, None, None, None, None, None, None, None, None, None, None, None, None, None, None, None, None, None, None, None, None, None, None, None, None, None, None, None, None, None, None, None, None, None, None, None, None, None, None, None, None, None, None, None, None, None, None, None, None, None, None, None, None, None, None, None, None, None, None, None, None, None, None, None, None, None, None, None, None, None, None, None, None, None, None, None, None, None, None, None, None, None, None, None, None, None, None, None, None, None, None, None, None, None, None, None, None, None, None, None, None, None, None, None, None, None, None, None, None, None, None, None, None, None, None, None, None, None, None, None, None, None, None, None, None, None, None, None, None, None, None, None, None, None, None, None, None, None, None, None, None, None, None, None, None, None, None, None, None, None, None, None, None, None, None, None, None, None, None, None, None, None, None, None, None, None, None, None, None, None, None, None, None, None, None, None, None, None, None, None, None, None, None, None, None, None, None, None, None, None, None, None, None, None, None, None, None, None, None, None, None, None, None, None, None, None, None, None, None, None, None, None, None, None, None, None, None, None, None, None, None, None, None, None, None, None, None, None, None, None, None, None, None, None, None, None, None, None, None, None, None, None, None, None, None, None, None, None, None, None, None, None, None, None, None, None, None, None, None, None, None, None, None, None, None, None, None, None, None, None, None, None, None, None, None, None, None, None, None, None, None, None, None, None, None, None, None, None, None, None, None, None, None, None, None, None, None, None, None, None, None, None, None, None, None, None, None, None, None, None, None, None, None, None, None, None, None, None, None, None, None, None, None, None, None, None, None, None, None, None, None, None, None, None, None, None, None, None, None, None, None, None, None, None, None, None, None, None, None, None, None, None, None, None, None, None, None, None, None, None, None, None, None, None, None, None, None, None, None, None, None, None, None, None, None, None, None, None, None, None, None, None, None, None, None, None, None, None, None, None, None, None, None, None, None, None, None, None, None, None, None, None, None, None, None, None, None, None, None, None, None, None, None, None, None, None, None, None, None, None, None, None, None, None, None, None, None, None, None, None, None, None, None, None, None, None, None, None, None, None, None, None, None, None, None, None, None, None, None, None, None, None, None, None, None, None, None, None, None, None, None, None, None, None, None, None, None, None, None, None, None, None, None, None, None, None, None, None, None, None, None, None, None, None, None, None, None, None, None, None, None, None, None, None, None, None, None, None, None, None, None, None, None, None, None, None, None, None, None, None, None, None, None, None, None, None, None, None, None, None, None, None, None, None, None, None, None, None, None, None, None, None, None, None, None, None, None, None, None, None, None, None, None, None, None, None, None, None, None, None, None, None, None, None, None, None, None, None, None, None, None, None, None, None, None, None, None, None, None, None, None, None, None, None, None, None, None, None, None, None, None, None, None, None, None, None, None, None, None, None, None, None, None, None, None, None, None, None, None, None, None, None, None, None, None, None, None, None, None, None, None, None, None, None, None, None, None, None, None, None, None, None, None, None, None, None, None, None, None, None, None, None, None, None, None, None, None, None, None, None, None, None, None, None, None, None, None, None, None, None, None, None, None, None, None, None, None, None, None, None, None, None, None, None, None, None, None, None, None, None, None, None, None, None, None, None, None, None, None, None, None, None, None, None, None, None, None, None, None, None, None, None, None, None, None, None, None, None, None, None, None, None, None, None, None, None, None, None, None, None, None, None, None, None, None, None, None, None, None, None, None, None, None, None, None, None, None, None, None, None, None, None, None, None, None, None, None, None, None, None, None, None, None, None, None, None, None, None, None, None, None, None, None, None, None, None, None, None, None, None, None, None, None, None, None, None, None, None, None, None, None, None, None, None, None, None, None, None, None, None, None, None, None, None, None, None, None, None, None, None, None, None, None, None, None, None, None, None, None, None, None, None, None, None, None, None, None, None, None, None, None, None, None, None, None, None, None, None, None, None, None, None, None, None, None, None, None, None, None, None, None, None, None, None, None, None, None, None, None, None, None, None, None, None, None, None, None, None, None, None, None, None, None, None, None, None, None, None, None, None, None, None, None, None, None, None, None, None, None, None, None, None, None, None, None, None, None, None, None, None, None, None, None, None, None, None, None, None, None, None, None, None, None, None, None, None, None, None, None, None, None, None, None, None, None, None, None, None, None, None, None, None, None, None, None, None, None, None, None, None, None, None, None, None, None, None, None, None, None, None, None, None, None, None, None, None, None, None, None, None, None, None, None, None, None, None, None, None, None, None, None, None, None, None, None, None, None, None, None, None, None, None, None, None, None, None, None, None, None, None, None, None, None, None, None, None, None, None, None, None, None, None, None, None, None, None, None, None, None, None, None, None, None, None, None, None, None, None, None, None, None, None, None, None, None, None, None, None, None, None, None, None, None, None, None, None, None, None, None, None, None, None, None, None, None, None, None, None, None, None, None, None, None, None, None, None, None, None, None, None, None, None, None, None, None, None, None, None, None, None, None, None, None, None, None, None, None, None, None, None, None, None, None, None, None, None, None, None, None, None, None, None, None, None, None, None, None, None, None, None, None, None, None, None, None, None, None, None, None, None, None, None, None, None, None, None, None, None, None, None, None, None, None, None, None, None, None, None, None, None, None, None, None, None, None, None, None, None, None, None, None, None, None, None, None, None, None, None, None, None, None, None, None, None, None, None, None, None, None, None, None, None, None, None, None, None, None, None, None, None, None, None, None, None, None, None, None, None, None, None, None, None, None, None, None, None, None, None, None, None, None, None, None, None, None, None, None, None, None, None, None, None, None, None, None, None, None, None, None, None, None, None, None, None, None, None, None, None, None, None, None, None, None, None, None, None, None, None, None, None, None, None, None, None, None, None, None, None, None, None, None, None, None, None, None, None, None, None, None, None, None, None, None, None, None, None, None, None, None, None, None, None, None, None, None, None, None, None, None, None, None, None, None, None, None, None, None, None, None, None, None, None, None, None, None, None, None, None, None, None, None, None, None, None, None, None, None, None, None, None, None, None, None, None, None, None, None, None, None, None, None, None, None, None, None, None, None, None, None, None, None, None, None, None, None, None, None, None, None, None, None, None, None, None, None, None, None, None, None, None, None, None, None, None, None, None, None, None, None, None, None, None, None, None, None, None, None, None, None, None, None, None, None, None, None, None, None, None, None, None, None, None, None, None, None, None, None, None, None, None, None, None, None, None, None, None, None, None, None, None, None, None, None, None, None, None, None, None, None, None, None, None, None, None, None, None, None, None, None, None, None, None, None, None, None, None, None, None, None, None, None, None, None, None, None, None, None, None, None, None, None, None, None, None, None, None, None, None, None, None, None, None, None, None, None, None, None, None, None, None, None, None, None, None, None, None, None, None, None, None, None, None, None, None, None, None, None, None, None, None, None, None, None, None, None, None, None, None, None, None, None, None, None, None, None, None, None, None, None, None, None, None, None, None, None, None, None, None, None, None, None, None, None, None, None, None, None, None, None, None, None, None, None, None, None, None, None, None, None, None, None, None, None, None, None, None, None, None, None, None, None, None, None, None, None, None, None, None, None, None, None, None, None, None, None, None, None, None, None, None, None, None, None, None, None, None, None, None, None, None, None, None, None, None, None, None, None, None, None, None, None, None, None, None, None, None, None, None, None, None, None, None, None, None, None, None, None, None, None, None, None, None, None, None, None, None, None, None, None, None, None, None, None, None, None, None, None, None, None, None, None, None, None, None, None, None, None, None, None, None, None, None, None, None, None, None, None, None, None, None, None, None, None, None, None, None, None, None, None, None, None, None, None, None, None, None, None, None, None, None, None, None, None, None, None, None, None, None, None, None, None, None, None, None, None, None, None, None, None, None, None, None, None, None, None, None, None, None, None, None, None, None, None, None, None, None, None, None, None, None, None, None, None, None, None, None, None, None, None, None, None, None, None, None, None, None, None, None, None, None, None, None, None, None, None, None, None, None, None, None, None, None, None, None, None, None, None, None, None, None, None, None, None, None, None, None, None, None, None, None, None, None, None, None, None, None, None, None, None, None, None, None, None, None, None, None, None, None, None, None, None, None, None, None, None, None, None, None, None, None, None, None, None, None, None, None, None, None, None, None, None, None, None, None, None, None, None, None, None, None, None, None, None, None, None, None, None, None, None, None, None, None, None, None, None, None, None, None, None, None, None, None, None, None, None, None, None, None, None, None, None, None, None, None, None, None, None, None, None, None, None, None, None, None, None, None, None, None, None, None, None, None, None, None, None, None, None, None, None, None, None, None, None, None, None, None, None, None, None, None, None, None, None, None, None, None, None, None, None, None, None, None, None, None, None, None, None, None, None, None, None, None, None, None, None, None, None, None, None, None, None, None, None, None, None, None, None, None, None, None, None, None, None, None, None, None, None, None, None, None, None, None, None, None, None, None, None, None, None, None, None, None, None, None, None, None, None, None, None, None, None, None, None, None, None, None, None, None, None, None, None, None, None, None, None, None, None, None, None, None, None, None, None, None, None, None, None, None, None, None, None, None, None, None, None, None, None, None, None, None, None, None, None, None, None, None, None, None, None, None, None, None, None, None, None, None, None, None, None, None, None, None, None, None, None, None, None, None, None, None, None, None, None, None, None, None, None, None, None, None, None, None, None, None, None, None, None, None, None, None, None, None, None, None, None, None, None, None, None, None, None, None, None, None, None, None, None, None, None, None, None, None, None, None, None, None, None, None, None, None, None, None, None, None, None, None, None, None, None, None, None, None, None, None, None, None, None, None, None, None, None, None, None, None, None, None, None, None, None, None, None, None, None, None, None, None, None, None, None, None, None, None, None, None, None, None, None, None, None, None, None, None, None, None, None, None, None, None, None, None, None, None, None, None, None, None, None, None, None, None, None, None, None, None, None, None, None, None, None, None, None, None, None, None, None, None, None, None, None, None, None, None, None, None, None, None, None, None, None, None, None, None, None, None, None, None, None, None, None, None, None, None, None, None, None, None, None, None, None, None, None, None, None, None, None, None, None, None, None, None, None, None, None, None, None, None, None, None, None, None, None, None, None, None, None, None, None, None, None, None, None, None, None, None, None, None, None, None, None, None, None, None, None, None, None, None, None, None, None, None, None, None, None, None, None, None, None, None, None, None, None, None, None, None, None, None, None, None, None, None, None, None, None, None, None, None, None, None, None, None, None, None, None, None, None, None, None, None, None, None, None, None, None, None, None, None, None, None, None, None, None, None, None, None, None, None, None, None, None, None, None, None, None, None, None, None, None, None, None, None, None, None, None, None, None, None, None, None, None, None, None, None, None, None, None, None, None, None, None, None, None, None, None, None, None, None, None, None, None, None, None, None, None, None, None, None, None, None, None, None, None, None, None, None, None, None, None, None, None, None, None, None, None, None, None, None, None, None, None, None, None, None, None, None, None, None, None, None, None, None, None, None, None, None, None, None, None, None, None, None, None, None, None, None, None, None, None, None, None, None, None, None, None, None, None, None, None, None, None, None, None, None, None, None, None, None, None, None, None, None, None, None, None, None, None, None, None, None, None, None, None, None, None, None, None, None, None, None, None, None, None, None, None, None, None, None, None, None, None, None, None, None, None, None, None, None, None, None, None, None, None, None, None, None, None, None, None, None, None, None, None, None, None, None, None, None, None, None, None, None, None, None, None, None, None, None, None, None, None, None, None, None, None, None, None, None, None, None, None, None, None, None, None, None, None, None, None, None, None, None, None, None, None, None, None, None, None, None, None, None, None, None, None, None, None, None, None, None, None, None, None, None, None, None, None, None, None, None, None, None, None, None, None, None, None, None, None, None, None, None, None, None, None, None, None, None, None, None, None, None, None, None, None, None, None, None, None, None, None, None, None, None, None, None, None, None, None, None, None, None, None, None, None, None, None, None, None, None, None, None, None, None, None, None, None, None, None, None, None, None, None, None, None, None, None, None, None, None, None, None, None, None, None, None, None, None, None, None, None, None, None, None, None, None, None, None, None, None, None, None, None, None, None, None, None, None, None, None, None, None, None, None, None, None, None, None, None, None, None, None, None, None, None, None, None, None, None, None, None, None, None, None, None, None, None, None, None, None, None, None, None, None, None, None, None, None, None, None, None, None, None, None, None, None, None, None, None, None, None, None, None, None, None, None, None, None, None, None, None, None, None, None, None, None, None, None, None, None, None, None, None, None, None, None, None, None, None, None, None, None, None, None, None, None], \n",
            "\tover the training epochs, respectively.\n"
          ],
          "name": "stdout"
        },
        {
          "output_type": "display_data",
          "data": {
            "image/png": "[encoded data removed]",
            "text/plain": [
              "<Figure size 432x288 with 1 Axes>"
            ]
          },
          "metadata": {
            "tags": [],
            "needs_background": "light"
          }
        },
        {
          "output_type": "display_data",
          "data": {
            "image/png": "[encoded data removed]",
            "text/plain": [
              "<Figure size 432x288 with 1 Axes>"
            ]
          },
          "metadata": {
            "tags": [],
            "needs_background": "light"
          }
        },
        {
          "output_type": "display_data",
          "data": {
            "image/png": "[encoded data removed]",
            "text/plain": [
              "<Figure size 432x288 with 1 Axes>"
            ]
          },
          "metadata": {
            "tags": [],
            "needs_background": "light"
          }
        }
      ]
    },
    {
      "cell_type": "markdown",
      "metadata": {
        "id": "QnOKtBi5NsNE"
      },
      "source": [
        "As we can see again the results are pretty similar to the pytorch logisitic regression. Adding more layers to the classifyer dont  affect on the validation loss"
      ]
    },
    {
      "cell_type": "markdown",
      "metadata": {
        "id": "waxjuu7XNhDy"
      },
      "source": [
        "**Here you should merge the feature extractor network layers with the PyTorch logistic regression classifier.**"
      ]
    },
    {
      "cell_type": "code",
      "metadata": {
        "id": "KeULwtgjNhDy"
      },
      "source": [
        "### Already done on definition of MyResnet class using cases\n"
      ],
      "execution_count": 21,
      "outputs": []
    },
    {
      "cell_type": "markdown",
      "metadata": {
        "id": "bNJsjt3aNhDy"
      },
      "source": [
        "# Part 2- Fine-tuning"
      ]
    },
    {
      "cell_type": "markdown",
      "metadata": {
        "id": "hx34iLgINhDy"
      },
      "source": [
        "In the feature extraction experiment above you were training the classifier on the top of the pre-trained model. \n",
        "In this paert, you need to train (or \"fine-tune\") the original pre-trained Resnet18 model (or part of them) in an attempts to improve your results. You can determine the number of convolution layers you intend to re-train in order to avoid overfitting and hopefully achive better generalization. Note that the fine-tuning should only be attempted after you have trained the top-level classifier with a pre-trained model.\n",
        "\n",
        "1. Plot Loss and Accuracy v.s Epoch for train and validation sets:"
      ]
    },
    {
      "cell_type": "markdown",
      "metadata": {
        "id": "3MevMTB8NhDy"
      },
      "source": [
        "#### Define the model (use the merged feature extractor with the PyTorch logistic regression classifier)"
      ]
    },
    {
      "cell_type": "code",
      "metadata": {
        "id": "8LuT7thxNhDy",
        "colab": {
          "base_uri": "https://localhost:8080/"
        },
        "outputId": "d7397baa-f9d7-4057-a75c-fa3f4f836d46"
      },
      "source": [
        "print('finetuning')\n",
        "net_ft = net #trained net from resnet18 with classifyer nn.linear(512,2)+softmax as head\n",
        "for param in net_ft.features.parameters():\n",
        "    param.requires_grad = True\n",
        "args.lr = args.lr_finetune # choose small learning rate for finetuning\n",
        "args.early_stopping_min_improvement = args.early_stopping_min_improvement_ft\n",
        "args.early_stopping_num_epochs = args.early_stopping_num_epochs_ft"
      ],
      "execution_count": 22,
      "outputs": [
        {
          "output_type": "stream",
          "text": [
            "finetuning\n"
          ],
          "name": "stdout"
        }
      ]
    },
    {
      "cell_type": "markdown",
      "metadata": {
        "id": "K7MI3gouNhDz"
      },
      "source": [
        "#### Training and validation:"
      ]
    },
    {
      "cell_type": "code",
      "metadata": {
        "id": "etpfzr0PNhDz",
        "colab": {
          "base_uri": "https://localhost:8080/"
        },
        "outputId": "a9b5dca3-b7f0-4077-a0ab-f8d06be89005"
      },
      "source": [
        "tr_loss_ft, val_loss_ft, test_loss_ft, tr_auc_ft, val_auc_ft, untrained_test_loss_ft, untrained_test_auc_ft = training_loop_with_dataloaders(\n",
        "    args,\n",
        "    net_ft,\n",
        "    tr_dataloader=tr_dataloader,\n",
        "    val_dataloader=val_dataloader,\n",
        "    criterion_func=nn.CrossEntropyLoss,\n",
        "    fine_tune=True\n",
        ")"
      ],
      "execution_count": 23,
      "outputs": [
        {
          "output_type": "stream",
          "text": [
            "1\n",
            "1\n",
            "1\n",
            "1\n",
            "1\n",
            "1\n",
            "1\n",
            "1\n",
            "1\n",
            "1\n",
            "1\n",
            "Train loss: 2.29e-01, Val loss: 3.16e-01\n",
            "Best val loss is: 3.16e-01\n",
            "1\n",
            "1\n",
            "1\n",
            "1\n",
            "1\n",
            "1\n",
            "1\n",
            "1\n",
            "1\n",
            "1\n",
            "1\n",
            "Train loss: 1.72e-01, Val loss: 3.20e-01\n",
            "Best val loss is: 3.16e-01\n",
            "1\n",
            "1\n",
            "1\n",
            "1\n",
            "1\n",
            "1\n",
            "1\n",
            "1\n",
            "1\n",
            "1\n",
            "1\n",
            "Train loss: 1.35e-01, Val loss: 3.08e-01\n",
            "Best val loss is: 3.08e-01\n",
            "Stopped training after 3/5000 epochs.\n",
            "The loss is 3.33e-01 before training and 3.08e-01 after training.\n",
            "The training and validation losses are \n",
            "\t[0.22875236511230468, 0.17237226486206056, 0.13466958045959473, None, None, None, None, None, None, None, None, None, None, None, None, None, None, None, None, None, None, None, None, None, None, None, None, None, None, None, None, None, None, None, None, None, None, None, None, None, None, None, None, None, None, None, None, None, None, None, None, None, None, None, None, None, None, None, None, None, None, None, None, None, None, None, None, None, None, None, None, None, None, None, None, None, None, None, None, None, None, None, None, None, None, None, None, None, None, None, None, None, None, None, None, None, None, None, None, None, None, None, None, None, None, None, None, None, None, None, None, None, None, None, None, None, None, None, None, None, None, None, None, None, None, None, None, None, None, None, None, None, None, None, None, None, None, None, None, None, None, None, None, None, None, None, None, None, None, None, None, None, None, None, None, None, None, None, None, None, None, None, None, None, None, None, None, None, None, None, None, None, None, None, None, None, None, None, None, None, None, None, None, None, None, None, None, None, None, None, None, None, None, None, None, None, None, None, None, None, None, None, None, None, None, None, None, None, None, None, None, None, None, None, None, None, None, None, None, None, None, None, None, None, None, None, None, None, None, None, None, None, None, None, None, None, None, None, None, None, None, None, None, None, None, None, None, None, None, None, None, None, None, None, None, None, None, None, None, None, None, None, None, None, None, None, None, None, None, None, None, None, None, None, None, None, None, None, None, None, None, None, None, None, None, None, None, None, None, None, None, None, None, None, None, None, None, None, None, None, None, None, None, None, None, None, None, None, None, None, None, None, None, None, None, None, None, None, None, None, None, None, None, None, None, None, None, None, None, None, None, None, None, None, None, None, None, None, None, None, None, None, None, None, None, None, None, None, None, None, None, None, None, None, None, None, None, None, None, None, None, None, None, None, None, None, None, None, None, None, None, None, None, None, None, None, None, None, None, None, None, None, None, None, None, None, None, None, None, None, None, None, None, None, None, None, None, None, None, None, None, None, None, None, None, None, None, None, None, None, None, None, None, None, None, None, None, None, None, None, None, None, None, None, None, None, None, None, None, None, None, None, None, None, None, None, None, None, None, None, None, None, None, None, None, None, None, None, None, None, None, None, None, None, None, None, None, None, None, None, None, None, None, None, None, None, None, None, None, None, None, None, None, None, None, None, None, None, None, None, None, None, None, None, None, None, None, None, None, None, None, None, None, None, None, None, None, None, None, None, None, None, None, None, None, None, None, None, None, None, None, None, None, None, None, None, None, None, None, None, None, None, None, None, None, None, None, None, None, None, None, None, None, None, None, None, None, None, None, None, None, None, None, None, None, None, None, None, None, None, None, None, None, None, None, None, None, None, None, None, None, None, None, None, None, None, None, None, None, None, None, None, None, None, None, None, None, None, None, None, None, None, None, None, None, None, None, None, None, None, None, None, None, None, None, None, None, None, None, None, None, None, None, None, None, None, None, None, None, None, None, None, None, None, None, None, None, None, None, None, None, None, None, None, None, None, None, None, None, None, None, None, None, None, None, None, None, None, None, None, None, None, None, None, None, None, None, None, None, None, None, None, None, None, None, None, None, None, None, None, None, None, None, None, None, None, None, None, None, None, None, None, None, None, None, None, None, None, None, None, None, None, None, None, None, None, None, None, None, None, None, None, None, None, None, None, None, None, None, None, None, None, None, None, None, None, None, None, None, None, None, None, None, None, None, None, None, None, None, None, None, None, None, None, None, None, None, None, None, None, None, None, None, None, None, None, None, None, None, None, None, None, None, None, None, None, None, None, None, None, None, None, None, None, None, None, None, None, None, None, None, None, None, None, None, None, None, None, None, None, None, None, None, None, None, None, None, None, None, None, None, None, None, None, None, None, None, None, None, None, None, None, None, None, None, None, None, None, None, None, None, None, None, None, None, None, None, None, None, None, None, None, None, None, None, None, None, None, None, None, None, None, None, None, None, None, None, None, None, None, None, None, None, None, None, None, None, None, None, None, None, None, None, None, None, None, None, None, None, None, None, None, None, None, None, None, None, None, None, None, None, None, None, None, None, None, None, None, None, None, None, None, None, None, None, None, None, None, None, None, None, None, None, None, None, None, None, None, None, None, None, None, None, None, None, None, None, None, None, None, None, None, None, None, None, None, None, None, None, None, None, None, None, None, None, None, None, None, None, None, None, None, None, None, None, None, None, None, None, None, None, None, None, None, None, None, None, None, None, None, None, None, None, None, None, None, None, None, None, None, None, None, None, None, None, None, None, None, None, None, None, None, None, None, None, None, None, None, None, None, None, None, None, None, None, None, None, None, None, None, None, None, None, None, None, None, None, None, None, None, None, None, None, None, None, None, None, None, None, None, None, None, None, None, None, None, None, None, None, None, None, None, None, None, None, None, None, None, None, None, None, None, None, None, None, None, None, None, None, None, None, None, None, None, None, None, None, None, None, None, None, None, None, None, None, None, None, None, None, None, None, None, None, None, None, None, None, None, None, None, None, None, None, None, None, None, None, None, None, None, None, None, None, None, None, None, None, None, None, None, None, None, None, None, None, None, None, None, None, None, None, None, None, None, None, None, None, None, None, None, None, None, None, None, None, None, None, None, None, None, None, None, None, None, None, None, None, None, None, None, None, None, None, None, None, None, None, None, None, None, None, None, None, None, None, None, None, None, None, None, None, None, None, None, None, None, None, None, None, None, None, None, None, None, None, None, None, None, None, None, None, None, None, None, None, None, None, None, None, None, None, None, None, None, None, None, None, None, None, None, None, None, None, None, None, None, None, None, None, None, None, None, None, None, None, None, None, None, None, None, None, None, None, None, None, None, None, None, None, None, None, None, None, None, None, None, None, None, None, None, None, None, None, None, None, None, None, None, None, None, None, None, None, None, None, None, None, None, None, None, None, None, None, None, None, None, None, None, None, None, None, None, None, None, None, None, None, None, None, None, None, None, None, None, None, None, None, None, None, None, None, None, None, None, None, None, None, None, None, None, None, None, None, None, None, None, None, None, None, None, None, None, None, None, None, None, None, None, None, None, None, None, None, None, None, None, None, None, None, None, None, None, None, None, None, None, None, None, None, None, None, None, None, None, None, None, None, None, None, None, None, None, None, None, None, None, None, None, None, None, None, None, None, None, None, None, None, None, None, None, None, None, None, None, None, None, None, None, None, None, None, None, None, None, None, None, None, None, None, None, None, None, None, None, None, None, None, None, None, None, None, None, None, None, None, None, None, None, None, None, None, None, None, None, None, None, None, None, None, None, None, None, None, None, None, None, None, None, None, None, None, None, None, None, None, None, None, None, None, None, None, None, None, None, None, None, None, None, None, None, None, None, None, None, None, None, None, None, None, None, None, None, None, None, None, None, None, None, None, None, None, None, None, None, None, None, None, None, None, None, None, None, None, None, None, None, None, None, None, None, None, None, None, None, None, None, None, None, None, None, None, None, None, None, None, None, None, None, None, None, None, None, None, None, None, None, None, None, None, None, None, None, None, None, None, None, None, None, None, None, None, None, None, None, None, None, None, None, None, None, None, None, None, None, None, None, None, None, None, None, None, None, None, None, None, None, None, None, None, None, None, None, None, None, None, None, None, None, None, None, None, None, None, None, None, None, None, None, None, None, None, None, None, None, None, None, None, None, None, None, None, None, None, None, None, None, None, None, None, None, None, None, None, None, None, None, None, None, None, None, None, None, None, None, None, None, None, None, None, None, None, None, None, None, None, None, None, None, None, None, None, None, None, None, None, None, None, None, None, None, None, None, None, None, None, None, None, None, None, None, None, None, None, None, None, None, None, None, None, None, None, None, None, None, None, None, None, None, None, None, None, None, None, None, None, None, None, None, None, None, None, None, None, None, None, None, None, None, None, None, None, None, None, None, None, None, None, None, None, None, None, None, None, None, None, None, None, None, None, None, None, None, None, None, None, None, None, None, None, None, None, None, None, None, None, None, None, None, None, None, None, None, None, None, None, None, None, None, None, None, None, None, None, None, None, None, None, None, None, None, None, None, None, None, None, None, None, None, None, None, None, None, None, None, None, None, None, None, None, None, None, None, None, None, None, None, None, None, None, None, None, None, None, None, None, None, None, None, None, None, None, None, None, None, None, None, None, None, None, None, None, None, None, None, None, None, None, None, None, None, None, None, None, None, None, None, None, None, None, None, None, None, None, None, None, None, None, None, None, None, None, None, None, None, None, None, None, None, None, None, None, None, None, None, None, None, None, None, None, None, None, None, None, None, None, None, None, None, None, None, None, None, None, None, None, None, None, None, None, None, None, None, None, None, None, None, None, None, None, None, None, None, None, None, None, None, None, None, None, None, None, None, None, None, None, None, None, None, None, None, None, None, None, None, None, None, None, None, None, None, None, None, None, None, None, None, None, None, None, None, None, None, None, None, None, None, None, None, None, None, None, None, None, None, None, None, None, None, None, None, None, None, None, None, None, None, None, None, None, None, None, None, None, None, None, None, None, None, None, None, None, None, None, None, None, None, None, None, None, None, None, None, None, None, None, None, None, None, None, None, None, None, None, None, None, None, None, None, None, None, None, None, None, None, None, None, None, None, None, None, None, None, None, None, None, None, None, None, None, None, None, None, None, None, None, None, None, None, None, None, None, None, None, None, None, None, None, None, None, None, None, None, None, None, None, None, None, None, None, None, None, None, None, None, None, None, None, None, None, None, None, None, None, None, None, None, None, None, None, None, None, None, None, None, None, None, None, None, None, None, None, None, None, None, None, None, None, None, None, None, None, None, None, None, None, None, None, None, None, None, None, None, None, None, None, None, None, None, None, None, None, None, None, None, None, None, None, None, None, None, None, None, None, None, None, None, None, None, None, None, None, None, None, None, None, None, None, None, None, None, None, None, None, None, None, None, None, None, None, None, None, None, None, None, None, None, None, None, None, None, None, None, None, None, None, None, None, None, None, None, None, None, None, None, None, None, None, None, None, None, None, None, None, None, None, None, None, None, None, None, None, None, None, None, None, None, None, None, None, None, None, None, None, None, None, None, None, None, None, None, None, None, None, None, None, None, None, None, None, None, None, None, None, None, None, None, None, None, None, None, None, None, None, None, None, None, None, None, None, None, None, None, None, None, None, None, None, None, None, None, None, None, None, None, None, None, None, None, None, None, None, None, None, None, None, None, None, None, None, None, None, None, None, None, None, None, None, None, None, None, None, None, None, None, None, None, None, None, None, None, None, None, None, None, None, None, None, None, None, None, None, None, None, None, None, None, None, None, None, None, None, None, None, None, None, None, None, None, None, None, None, None, None, None, None, None, None, None, None, None, None, None, None, None, None, None, None, None, None, None, None, None, None, None, None, None, None, None, None, None, None, None, None, None, None, None, None, None, None, None, None, None, None, None, None, None, None, None, None, None, None, None, None, None, None, None, None, None, None, None, None, None, None, None, None, None, None, None, None, None, None, None, None, None, None, None, None, None, None, None, None, None, None, None, None, None, None, None, None, None, None, None, None, None, None, None, None, None, None, None, None, None, None, None, None, None, None, None, None, None, None, None, None, None, None, None, None, None, None, None, None, None, None, None, None, None, None, None, None, None, None, None, None, None, None, None, None, None, None, None, None, None, None, None, None, None, None, None, None, None, None, None, None, None, None, None, None, None, None, None, None, None, None, None, None, None, None, None, None, None, None, None, None, None, None, None, None, None, None, None, None, None, None, None, None, None, None, None, None, None, None, None, None, None, None, None, None, None, None, None, None, None, None, None, None, None, None, None, None, None, None, None, None, None, None, None, None, None, None, None, None, None, None, None, None, None, None, None, None, None, None, None, None, None, None, None, None, None, None, None, None, None, None, None, None, None, None, None, None, None, None, None, None, None, None, None, None, None, None, None, None, None, None, None, None, None, None, None, None, None, None, None, None, None, None, None, None, None, None, None, None, None, None, None, None, None, None, None, None, None, None, None, None, None, None, None, None, None, None, None, None, None, None, None, None, None, None, None, None, None, None, None, None, None, None, None, None, None, None, None, None, None, None, None, None, None, None, None, None, None, None, None, None, None, None, None, None, None, None, None, None, None, None, None, None, None, None, None, None, None, None, None, None, None, None, None, None, None, None, None, None, None, None, None, None, None, None, None, None, None, None, None, None, None, None, None, None, None, None, None, None, None, None, None, None, None, None, None, None, None, None, None, None, None, None, None, None, None, None, None, None, None, None, None, None, None, None, None, None, None, None, None, None, None, None, None, None, None, None, None, None, None, None, None, None, None, None, None, None, None, None, None, None, None, None, None, None, None, None, None, None, None, None, None, None, None, None, None, None, None, None, None, None, None, None, None, None, None, None, None, None, None, None, None, None, None, None, None, None, None, None, None, None, None, None, None, None, None, None, None, None, None, None, None, None, None, None, None, None, None, None, None, None, None, None, None, None, None, None, None, None, None, None, None, None, None, None, None, None, None, None, None, None, None, None, None, None, None, None, None, None, None, None, None, None, None, None, None, None, None, None, None, None, None, None, None, None, None, None, None, None, None, None, None, None, None, None, None, None, None, None, None, None, None, None, None, None, None, None, None, None, None, None, None, None, None, None, None, None, None, None, None, None, None, None, None, None, None, None, None, None, None, None, None, None, None, None, None, None, None, None, None, None, None, None, None, None, None, None, None, None, None, None, None, None, None, None, None, None, None, None, None, None, None, None, None, None, None, None, None, None, None, None, None, None, None, None, None, None, None, None, None, None, None, None, None, None, None, None, None, None, None, None, None, None, None, None, None, None, None, None, None, None, None, None, None, None, None, None, None, None, None, None, None, None, None, None, None, None, None, None, None, None, None, None, None, None, None, None, None, None, None, None, None, None, None, None, None, None, None, None, None, None, None, None, None, None, None, None, None, None, None, None, None, None, None, None, None, None, None, None, None, None, None, None, None, None, None, None, None, None, None, None, None, None, None, None, None, None, None, None, None, None, None, None, None, None, None, None, None, None, None, None, None, None, None, None, None, None, None, None, None, None, None, None, None, None, None, None, None, None, None, None, None, None, None, None, None, None, None, None, None, None, None, None, None, None, None, None, None, None, None, None, None, None, None, None, None, None, None, None, None, None, None, None, None, None, None, None, None, None, None, None, None, None, None, None, None, None, None, None, None, None, None, None, None, None, None, None, None, None, None, None, None, None, None, None, None, None, None, None, None, None, None, None, None, None, None, None, None, None, None, None, None, None, None, None, None, None, None, None, None, None, None, None, None, None, None, None, None, None, None, None, None, None, None, None, None, None, None, None, None, None, None, None, None, None, None, None, None, None, None, None, None, None, None, None, None, None, None, None, None, None, None, None, None, None, None, None, None, None, None, None, None, None, None, None, None, None, None, None, None, None, None, None, None, None, None, None, None, None, None, None, None, None, None, None, None, None, None, None, None, None, None, None, None, None, None, None, None, None, None, None, None, None, None, None, None, None, None, None, None, None, None, None, None, None, None, None, None, None, None, None, None, None, None, None, None, None, None, None, None, None, None, None, None, None, None, None, None, None, None, None, None, None, None, None, None, None, None, None, None, None, None, None, None, None, None, None, None, None, None, None, None, None, None, None, None, None, None, None, None, None, None, None, None, None, None, None, None, None, None, None, None, None, None, None, None, None, None, None, None, None, None, None, None, None, None, None, None, None, None, None, None, None, None, None, None, None, None, None, None, None, None, None, None, None, None, None, None, None, None, None, None, None, None, None, None, None, None, None, None, None, None, None, None, None, None, None, None, None, None, None, None, None, None, None, None, None, None, None, None, None, None, None, None, None, None, None, None, None, None, None, None, None, None, None, None, None, None, None, None, None, None, None, None, None, None, None, None, None, None, None, None, None, None, None, None, None, None, None, None, None, None, None, None, None, None, None, None, None, None, None, None, None, None, None, None, None, None, None, None, None, None, None, None, None, None, None, None, None, None, None, None, None, None, None, None, None, None, None, None, None, None, None, None, None, None, None, None, None, None, None, None, None, None, None, None, None, None, None, None, None, None, None, None, None, None, None, None, None, None, None, None, None, None, None, None, None, None, None, None, None, None, None, None, None, None, None, None, None, None, None, None, None, None, None, None, None, None, None, None, None, None, None, None, None, None, None, None, None, None, None, None, None, None, None, None, None, None, None, None, None, None, None, None, None, None, None, None, None, None, None, None, None, None, None, None, None, None, None, None, None, None, None, None, None, None, None, None, None, None, None, None, None, None, None, None, None, None, None, None, None, None, None, None, None, None, None, None, None, None, None, None, None, None, None, None, None, None, None, None, None, None, None, None, None, None, None, None, None, None, None, None, None, None, None, None, None, None, None, None, None, None, None, None, None, None, None, None, None, None, None, None, None, None, None, None, None, None, None, None, None, None, None, None, None, None, None, None, None, None, None, None, None, None, None, None, None, None, None, None, None, None, None, None, None, None, None, None, None, None, None, None, None, None, None, None, None, None, None, None, None, None, None, None, None, None, None, None, None, None, None, None, None, None, None, None, None, None, None, None, None, None, None, None, None, None, None, None, None, None, None, None, None, None, None, None, None, None, None, None, None, None, None, None, None, None, None, None, None, None, None, None, None, None, None, None, None, None, None, None, None, None, None, None, None, None, None, None, None, None, None, None, None, None, None, None, None, None, None, None, None, None, None, None, None, None, None, None, None, None, None, None, None, None, None, None, None, None, None, None, None, None, None, None, None, None, None, None, None, None, None, None, None, None, None, None, None, None, None, None, None, None, None, None, None, None, None, None, None, None, None, None, None, None, None, None, None, None, None, None, None, None, None, None, None, None, None, None, None, None, None, None, None, None, None, None, None, None, None, None, None, None, None, None, None, None, None, None, None, None, None, None, None, None, None, None, None, None, None, None, None, None, None, None, None, None, None, None, None, None, None, None, None, None, None, None, None, None, None, None, None, None, None, None, None, None, None, None, None, None, None, None, None, None, None, None, None, None, None, None, None, None, None, None, None, None, None, None, None, None, None, None, None, None, None, None, None, None, None, None, None, None, None, None, None, None, None, None, None, None, None, None, None, None, None, None, None, None, None, None, None, None, None, None, None, None, None, None, None, None, None, None, None, None, None, None, None, None, None, None, None, None, None, None, None, None, None, None, None, None, None, None, None, None, None, None, None, None, None, None, None, None, None, None, None, None, None, None, None, None, None, None, None, None, None, None, None, None, None, None, None, None, None, None, None, None, None, None, None, None, None, None, None, None, None, None, None, None, None, None, None, None, None, None, None, None, None, None, None, None, None, None, None, None, None, None, None, None, None, None, None, None, None, None, None, None, None, None, None, None, None, None, None, None, None, None, None, None, None, None, None, None, None, None, None, None, None, None, None, None, None, None, None, None, None, None, None, None, None, None, None, None, None, None, None, None, None, None, None, None, None, None, None, None, None, None, None, None, None, None, None, None, None, None, None, None, None, None, None, None, None, None, None, None, None, None, None, None, None, None, None, None, None, None, None, None, None, None, None, None, None, None, None, None, None, None, None, None, None, None, None, None, None, None, None, None, None, None, None, None, None, None, None, None, None, None, None, None, None, None, None, None, None, None, None, None, None, None, None, None, None, None, None, None, None, None, None, None, None, None, None, None, None, None, None, None, None, None, None, None, None, None, None, None, None, None, None, None, None, None, None, None, None, None, None, None, None, None, None, None, None, None, None, None, None, None, None, None, None, None, None, None, None, None, None, None, None, None, None, None, None, None, None, None, None, None, None, None, None, None, None, None, None, None, None, None, None, None, None, None, None, None, None, None, None, None, None, None, None, None, None, None, None, None, None, None, None, None, None, None, None, None, None, None, None, None, None, None, None, None, None, None, None, None, None, None, None, None, None, None, None, None, None, None, None, None, None, None, None, None, None, None, None, None, None, None, None, None, None, None, None, None, None, None, None, None, None, None, None, None, None, None, None, None, None, None, None, None, None, None, None, None, None, None, None, None, None, None, None, None, None, None, None, None, None, None, None, None, None, None, None, None, None, None, None, None, None, None, None, None, None, None, None, None, None, None, None, None, None, None, None, None, None, None, None, None, None, None, None, None, None, None, None, None, None, None, None, None, None, None, None, None, None, None, None, None, None, None, None, None, None, None, None, None, None, None, None, None, None, None, None, None, None, None, None, None, None, None, None, None, None, None, None, None, None, None, None, None, None, None, None, None, None, None, None, None, None, None, None, None, None, None, None, None, None, None, None, None, None, None, None, None, None, None, None, None, None, None, None, None, None, None, None, None, None, None, None, None, None, None, None, None, None, None, None, None, None, None, None, None, None, None, None, None, None, None, None, None, None, None, None, None, None, None, None, None, None, None, None, None, None, None, None, None, None, None, None, None, None, None, None, None, None, None, None, None, None, None, None, None, None, None, None, None, None, None, None, None, None, None, None, None, None, None, None, None, None, None, None, None, None, None, None, None, None, None, None, None, None, None, None, None, None, None, None, None, None, None, None, None, None, None, None, None, None, None, None, None, None, None, None, None, None, None, None, None, None, None, None, None, None, None, None, None, None, None, None, None, None, None, None, None, None, None, None, None, None, None, None, None, None, None, None, None, None, None, None, None, None, None, None, None, None, None, None, None, None, None, None, None, None, None, None, None, None, None, None, None, None, None, None, None, None, None, None, None, None, None, None, None, None, None, None, None, None, None, None, None, None, None, None, None, None, None, None, None, None, None, None, None, None, None, None, None, None, None, None, None, None, None, None, None, None, None, None, None, None, None, None, None, None, None, None, None, None, None, None, None, None, None, None, None, None, None, None, None, None, None, None, None, None, None, None, None, None, None, None, None, None, None, None, None, None, None, None, None, None, None, None, None, None, None, None, None, None, None, None, None, None, None, None, None, None, None, None, None, None, None, None, None, None, None, None, None, None, None, None, None, None, None, None, None, None, None, None, None, None, None, None, None, None, None, None, None, None, None, None, None, None, None, None, None, None, None, None, None, None, None, None, None, None, None, None, None, None, None, None, None, None, None, None, None, None, None, None, None, None, None, None, None, None, None, None, None, None, None, None, None, None, None, None, None, None, None, None, None, None, None, None, None, None, None, None, None, None, None, None, None, None, None, None, None, None, None, None, None, None, None, None, None, None, None, None, None, None, None, None, None, None, None, None, None, None, None, None, None, None, None, None, None, None, None, None, None, None, None, None, None, None, None, None, None, None, None, None, None, None, None, None, None, None, None, None, None, None, None, None, None, None, None, None, None, None, None, None, None, None, None, None, None, None, None, None, None, None, None, None, None, None, None, None, None, None, None, None, None, None, None, None, None, None, None, None, None, None, None, None, None, None, None, None, None, None, None, None, None, None, None, None, None, None, None, None, None, None, None, None, None, None, None, None, None, None, None, None, None, None, None, None, None, None, None, None, None, None, None, None, None, None, None, None, None, None, None, None, None, None, None, None, None, None, None, None, None, None, None, None, None, None, None, None, None, None, None, None, None, None, None], \n",
            "\t[0.3158978521823883, 0.32040494680404663, 0.30767229199409485, None, None, None, None, None, None, None, None, None, None, None, None, None, None, None, None, None, None, None, None, None, None, None, None, None, None, None, None, None, None, None, None, None, None, None, None, None, None, None, None, None, None, None, None, None, None, None, None, None, None, None, None, None, None, None, None, None, None, None, None, None, None, None, None, None, None, None, None, None, None, None, None, None, None, None, None, None, None, None, None, None, None, None, None, None, None, None, None, None, None, None, None, None, None, None, None, None, None, None, None, None, None, None, None, None, None, None, None, None, None, None, None, None, None, None, None, None, None, None, None, None, None, None, None, None, None, None, None, None, None, None, None, None, None, None, None, None, None, None, None, None, None, None, None, None, None, None, None, None, None, None, None, None, None, None, None, None, None, None, None, None, None, None, None, None, None, None, None, None, None, None, None, None, None, None, None, None, None, None, None, None, None, None, None, None, None, None, None, None, None, None, None, None, None, None, None, None, None, None, None, None, None, None, None, None, None, None, None, None, None, None, None, None, None, None, None, None, None, None, None, None, None, None, None, None, None, None, None, None, None, None, None, None, None, None, None, None, None, None, None, None, None, None, None, None, None, None, None, None, None, None, None, None, None, None, None, None, None, None, None, None, None, None, None, None, None, None, None, None, None, None, None, None, None, None, None, None, None, None, None, None, None, None, None, None, None, None, None, None, None, None, None, None, None, None, None, None, None, None, None, None, None, None, None, None, None, None, None, None, None, None, None, None, None, None, None, None, None, None, None, None, None, None, None, None, None, None, None, None, None, None, None, None, None, None, None, None, None, None, None, None, None, None, None, None, None, None, None, None, None, None, None, None, None, None, None, None, None, None, None, None, None, None, None, None, None, None, None, None, None, None, None, None, None, None, None, None, None, None, None, None, None, None, None, None, None, None, None, None, None, None, None, None, None, None, None, None, None, None, None, None, None, None, None, None, None, None, None, None, None, None, None, None, None, None, None, None, None, None, None, None, None, None, None, None, None, None, None, None, None, None, None, None, None, None, None, None, None, None, None, None, None, None, None, None, None, None, None, None, None, None, None, None, None, None, None, None, None, None, None, None, None, None, None, None, None, None, None, None, None, None, None, None, None, None, None, None, None, None, None, None, None, None, None, None, None, None, None, None, None, None, None, None, None, None, None, None, None, None, None, None, None, None, None, None, None, None, None, None, None, None, None, None, None, None, None, None, None, None, None, None, None, None, None, None, None, None, None, None, None, None, None, None, None, None, None, None, None, None, None, None, None, None, None, None, None, None, None, None, None, None, None, None, None, None, None, None, None, None, None, None, None, None, None, None, None, None, None, None, None, None, None, None, None, None, None, None, None, None, None, None, None, None, None, None, None, None, None, None, None, None, None, None, None, None, None, None, None, None, None, None, None, None, None, None, None, None, None, None, None, None, None, None, None, None, None, None, None, None, None, None, None, None, None, None, None, None, None, None, None, None, None, None, None, None, None, None, None, None, None, None, None, None, None, None, None, None, None, None, None, None, None, None, None, None, None, None, None, None, None, None, None, None, None, None, None, None, None, None, None, None, None, None, None, None, None, None, None, None, None, None, None, None, None, None, None, None, None, None, None, None, None, None, None, None, None, None, None, None, None, None, None, None, None, None, None, None, None, None, None, None, None, None, None, None, None, None, None, None, None, None, None, None, None, None, None, None, None, None, None, None, None, None, None, None, None, None, None, None, None, None, None, None, None, None, None, None, None, None, None, None, None, None, None, None, None, None, None, None, None, None, None, None, None, None, None, None, None, None, None, None, None, None, None, None, None, None, None, None, None, None, None, None, None, None, None, None, None, None, None, None, None, None, None, None, None, None, None, None, None, None, None, None, None, None, None, None, None, None, None, None, None, None, None, None, None, None, None, None, None, None, None, None, None, None, None, None, None, None, None, None, None, None, None, None, None, None, None, None, None, None, None, None, None, None, None, None, None, None, None, None, None, None, None, None, None, None, None, None, None, None, None, None, None, None, None, None, None, None, None, None, None, None, None, None, None, None, None, None, None, None, None, None, None, None, None, None, None, None, None, None, None, None, None, None, None, None, None, None, None, None, None, None, None, None, None, None, None, None, None, None, None, None, None, None, None, None, None, None, None, None, None, None, None, None, None, None, None, None, None, None, None, None, None, None, None, None, None, None, None, None, None, None, None, None, None, None, None, None, None, None, None, None, None, None, None, None, None, None, None, None, None, None, None, None, None, None, None, None, None, None, None, None, None, None, None, None, None, None, None, None, None, None, None, None, None, None, None, None, None, None, None, None, None, None, None, None, None, None, None, None, None, None, None, None, None, None, None, None, None, None, None, None, None, None, None, None, None, None, None, None, None, None, None, None, None, None, None, None, None, None, None, None, None, None, None, None, None, None, None, None, None, None, None, None, None, None, None, None, None, None, None, None, None, None, None, None, None, None, None, None, None, None, None, None, None, None, None, None, None, None, None, None, None, None, None, None, None, None, None, None, None, None, None, None, None, None, None, None, None, None, None, None, None, None, None, None, None, None, None, None, None, None, None, None, None, None, None, None, None, None, None, None, None, None, None, None, None, None, None, None, None, None, None, None, None, None, None, None, None, None, None, None, None, None, None, None, None, None, None, None, None, None, None, None, None, None, None, None, None, None, None, None, None, None, None, None, None, None, None, None, None, None, None, None, None, None, None, None, None, None, None, None, None, None, None, None, None, None, None, None, None, None, None, None, None, None, None, None, None, None, None, None, None, None, None, None, None, None, None, None, None, None, None, None, None, None, None, None, None, None, None, None, None, None, None, None, None, None, None, None, None, None, None, None, None, None, None, None, None, None, None, None, None, None, None, None, None, None, None, None, None, None, None, None, None, None, None, None, None, None, None, None, None, None, None, None, None, None, None, None, None, None, None, None, None, None, None, None, None, None, None, None, None, None, None, None, None, None, None, None, None, None, None, None, None, None, None, None, None, None, None, None, None, None, None, None, None, None, None, None, None, None, None, None, None, None, None, None, None, None, None, None, None, None, None, None, None, None, None, None, None, None, None, None, None, None, None, None, None, None, None, None, None, None, None, None, None, None, None, None, None, None, None, None, None, None, None, None, None, None, None, None, None, None, None, None, None, None, None, None, None, None, None, None, None, None, None, None, None, None, None, None, None, None, None, None, None, None, None, None, None, None, None, None, None, None, None, None, None, None, None, None, None, None, None, None, None, None, None, None, None, None, None, None, None, None, None, None, None, None, None, None, None, None, None, None, None, None, None, None, None, None, None, None, None, None, None, None, None, None, None, None, None, None, None, None, None, None, None, None, None, None, None, None, None, None, None, None, None, None, None, None, None, None, None, None, None, None, None, None, None, None, None, None, None, None, None, None, None, None, None, None, None, None, None, None, None, None, None, None, None, None, None, None, None, None, None, None, None, None, None, None, None, None, None, None, None, None, None, None, None, None, None, None, None, None, None, None, None, None, None, None, None, None, None, None, None, None, None, None, None, None, None, None, None, None, None, None, None, None, None, None, None, None, None, None, None, None, None, None, None, None, None, None, None, None, None, None, None, None, None, None, None, None, None, None, None, None, None, None, None, None, None, None, None, None, None, None, None, None, None, None, None, None, None, None, None, None, None, None, None, None, None, None, None, None, None, None, None, None, None, None, None, None, None, None, None, None, None, None, None, None, None, None, None, None, None, None, None, None, None, None, None, None, None, None, None, None, None, None, None, None, None, None, None, None, None, None, None, None, None, None, None, None, None, None, None, None, None, None, None, None, None, None, None, None, None, None, None, None, None, None, None, None, None, None, None, None, None, None, None, None, None, None, None, None, None, None, None, None, None, None, None, None, None, None, None, None, None, None, None, None, None, None, None, None, None, None, None, None, None, None, None, None, None, None, None, None, None, None, None, None, None, None, None, None, None, None, None, None, None, None, None, None, None, None, None, None, None, None, None, None, None, None, None, None, None, None, None, None, None, None, None, None, None, None, None, None, None, None, None, None, None, None, None, None, None, None, None, None, None, None, None, None, None, None, None, None, None, None, None, None, None, None, None, None, None, None, None, None, None, None, None, None, None, None, None, None, None, None, None, None, None, None, None, None, None, None, None, None, None, None, None, None, None, None, None, None, None, None, None, None, None, None, None, None, None, None, None, None, None, None, None, None, None, None, None, None, None, None, None, None, None, None, None, None, None, None, None, None, None, None, None, None, None, None, None, None, None, None, None, None, None, None, None, None, None, None, None, None, None, None, None, None, None, None, None, None, None, None, None, None, None, None, None, None, None, None, None, None, None, None, None, None, None, None, None, None, None, None, None, None, None, None, None, None, None, None, None, None, None, None, None, None, None, None, None, None, None, None, None, None, None, None, None, None, None, None, None, None, None, None, None, None, None, None, None, None, None, None, None, None, None, None, None, None, None, None, None, None, None, None, None, None, None, None, None, None, None, None, None, None, None, None, None, None, None, None, None, None, None, None, None, None, None, None, None, None, None, None, None, None, None, None, None, None, None, None, None, None, None, None, None, None, None, None, None, None, None, None, None, None, None, None, None, None, None, None, None, None, None, None, None, None, None, None, None, None, None, None, None, None, None, None, None, None, None, None, None, None, None, None, None, None, None, None, None, None, None, None, None, None, None, None, None, None, None, None, None, None, None, None, None, None, None, None, None, None, None, None, None, None, None, None, None, None, None, None, None, None, None, None, None, None, None, None, None, None, None, None, None, None, None, None, None, None, None, None, None, None, None, None, None, None, None, None, None, None, None, None, None, None, None, None, None, None, None, None, None, None, None, None, None, None, None, None, None, None, None, None, None, None, None, None, None, None, None, None, None, None, None, None, None, None, None, None, None, None, None, None, None, None, None, None, None, None, None, None, None, None, None, None, None, None, None, None, None, None, None, None, None, None, None, None, None, None, None, None, None, None, None, None, None, None, None, None, None, None, None, None, None, None, None, None, None, None, None, None, None, None, None, None, None, None, None, None, None, None, None, None, None, None, None, None, None, None, None, None, None, None, None, None, None, None, None, None, None, None, None, None, None, None, None, None, None, None, None, None, None, None, None, None, None, None, None, None, None, None, None, None, None, None, None, None, None, None, None, None, None, None, None, None, None, None, None, None, None, None, None, None, None, None, None, None, None, None, None, None, None, None, None, None, None, None, None, None, None, None, None, None, None, None, None, None, None, None, None, None, None, None, None, None, None, None, None, None, None, None, None, None, None, None, None, None, None, None, None, None, None, None, None, None, None, None, None, None, None, None, None, None, None, None, None, None, None, None, None, None, None, None, None, None, None, None, None, None, None, None, None, None, None, None, None, None, None, None, None, None, None, None, None, None, None, None, None, None, None, None, None, None, None, None, None, None, None, None, None, None, None, None, None, None, None, None, None, None, None, None, None, None, None, None, None, None, None, None, None, None, None, None, None, None, None, None, None, None, None, None, None, None, None, None, None, None, None, None, None, None, None, None, None, None, None, None, None, None, None, None, None, None, None, None, None, None, None, None, None, None, None, None, None, None, None, None, None, None, None, None, None, None, None, None, None, None, None, None, None, None, None, None, None, None, None, None, None, None, None, None, None, None, None, None, None, None, None, None, None, None, None, None, None, None, None, None, None, None, None, None, None, None, None, None, None, None, None, None, None, None, None, None, None, None, None, None, None, None, None, None, None, None, None, None, None, None, None, None, None, None, None, None, None, None, None, None, None, None, None, None, None, None, None, None, None, None, None, None, None, None, None, None, None, None, None, None, None, None, None, None, None, None, None, None, None, None, None, None, None, None, None, None, None, None, None, None, None, None, None, None, None, None, None, None, None, None, None, None, None, None, None, None, None, None, None, None, None, None, None, None, None, None, None, None, None, None, None, None, None, None, None, None, None, None, None, None, None, None, None, None, None, None, None, None, None, None, None, None, None, None, None, None, None, None, None, None, None, None, None, None, None, None, None, None, None, None, None, None, None, None, None, None, None, None, None, None, None, None, None, None, None, None, None, None, None, None, None, None, None, None, None, None, None, None, None, None, None, None, None, None, None, None, None, None, None, None, None, None, None, None, None, None, None, None, None, None, None, None, None, None, None, None, None, None, None, None, None, None, None, None, None, None, None, None, None, None, None, None, None, None, None, None, None, None, None, None, None, None, None, None, None, None, None, None, None, None, None, None, None, None, None, None, None, None, None, None, None, None, None, None, None, None, None, None, None, None, None, None, None, None, None, None, None, None, None, None, None, None, None, None, None, None, None, None, None, None, None, None, None, None, None, None, None, None, None, None, None, None, None, None, None, None, None, None, None, None, None, None, None, None, None, None, None, None, None, None, None, None, None, None, None, None, None, None, None, None, None, None, None, None, None, None, None, None, None, None, None, None, None, None, None, None, None, None, None, None, None, None, None, None, None, None, None, None, None, None, None, None, None, None, None, None, None, None, None, None, None, None, None, None, None, None, None, None, None, None, None, None, None, None, None, None, None, None, None, None, None, None, None, None, None, None, None, None, None, None, None, None, None, None, None, None, None, None, None, None, None, None, None, None, None, None, None, None, None, None, None, None, None, None, None, None, None, None, None, None, None, None, None, None, None, None, None, None, None, None, None, None, None, None, None, None, None, None, None, None, None, None, None, None, None, None, None, None, None, None, None, None, None, None, None, None, None, None, None, None, None, None, None, None, None, None, None, None, None, None, None, None, None, None, None, None, None, None, None, None, None, None, None, None, None, None, None, None, None, None, None, None, None, None, None, None, None, None, None, None, None, None, None, None, None, None, None, None, None, None, None, None, None, None, None, None, None, None, None, None, None, None, None, None, None, None, None, None, None, None, None, None, None, None, None, None, None, None, None, None, None, None, None, None, None, None, None, None, None, None, None, None, None, None, None, None, None, None, None, None, None, None, None, None, None, None, None, None, None, None, None, None, None, None, None, None, None, None, None, None, None, None, None, None, None, None, None, None, None, None, None, None, None, None, None, None, None, None, None, None, None, None, None, None, None, None, None, None, None, None, None, None, None, None, None, None, None, None, None, None, None, None, None, None, None, None, None, None, None, None, None, None, None, None, None, None, None, None, None, None, None, None, None, None, None, None, None, None, None, None, None, None, None, None, None, None, None, None, None, None, None, None, None, None, None, None, None, None, None, None, None, None, None, None, None, None, None, None, None, None, None, None, None, None, None, None, None, None, None, None, None, None, None, None, None, None, None, None, None, None, None, None, None, None, None, None, None, None, None, None, None, None, None, None, None, None, None, None, None, None, None, None, None, None, None, None, None, None, None, None, None, None, None, None, None, None, None, None, None, None, None, None, None, None, None, None, None, None, None, None, None, None, None, None, None, None, None, None, None, None, None, None, None, None, None, None, None, None, None, None, None, None, None, None, None, None, None, None, None, None, None, None, None, None, None, None, None, None, None, None, None, None, None, None, None, None, None, None, None, None, None, None, None, None, None, None, None, None, None, None, None, None, None, None, None, None, None, None, None, None, None, None, None, None, None, None, None, None, None, None, None, None, None, None, None, None, None, None, None, None, None, None, None, None, None, None, None, None, None, None, None, None, None, None, None, None, None, None, None, None, None, None, None, None, None, None, None, None, None, None, None, None, None, None, None, None, None, None, None, None, None, None, None, None, None, None, None, None, None, None, None, None, None, None, None, None, None, None, None, None, None, None, None, None, None, None, None, None, None, None, None, None, None, None, None, None, None, None, None, None, None, None, None, None, None, None, None, None, None, None, None, None, None, None, None, None, None, None, None, None, None, None, None, None, None, None, None, None, None, None, None, None, None, None, None, None, None, None, None, None, None, None, None, None, None, None, None, None, None, None, None, None, None, None, None, None, None, None, None, None, None, None, None, None, None, None, None, None, None, None, None, None, None, None, None, None, None, None, None, None, None, None, None, None, None, None, None, None, None, None, None, None, None, None, None, None, None, None, None, None, None, None, None, None, None, None, None, None, None, None, None, None, None, None, None, None, None, None, None, None, None, None, None, None, None, None, None, None, None, None, None, None, None, None, None, None, None, None, None, None, None, None, None, None, None, None, None, None, None, None, None, None, None, None, None, None, None, None, None, None, None, None, None, None, None, None, None, None, None, None, None, None, None, None, None, None, None, None, None, None, None, None, None, None, None, None, None, None, None, None, None, None, None, None, None, None, None, None, None, None, None, None, None, None, None, None, None, None, None, None, None, None, None, None, None, None, None, None, None, None, None, None, None, None, None, None, None, None, None, None, None, None, None, None, None, None, None, None, None, None, None, None, None, None, None, None, None, None, None, None, None, None, None, None, None, None, None, None, None, None, None, None, None, None, None, None, None, None, None, None, None, None, None, None, None, None, None, None, None, None, None, None, None, None, None, None, None, None, None, None, None, None, None, None, None, None, None, None, None, None, None, None, None, None, None, None, None, None, None, None, None, None, None, None, None, None, None, None, None, None, None, None, None, None, None, None, None, None, None, None, None, None, None, None, None, None, None, None, None, None, None, None, None, None, None, None, None, None, None, None, None, None, None, None, None, None, None, None, None, None, None, None, None, None, None, None, None, None, None, None, None, None, None, None, None, None, None, None, None, None, None, None, None, None, None, None, None, None, None, None, None, None, None, None, None, None, None, None, None, None, None, None, None, None, None, None, None, None, None, None, None, None, None, None, None, None, None, None, None, None, None, None, None, None, None, None, None, None, None, None, None, None, None, None, None, None, None, None, None, None, None, None, None, None, None, None, None, None, None, None, None, None, None, None, None, None, None, None, None, None, None, None, None, None, None, None, None, None, None, None, None, None, None, None, None, None, None, None, None, None, None, None, None, None, None, None, None, None, None, None, None, None, None, None, None, None, None, None, None, None, None, None, None, None, None, None, None, None, None, None, None, None, None, None, None, None, None, None, None, None, None, None, None, None, None, None, None, None, None, None, None, None, None, None, None, None, None, None, None, None, None, None, None, None, None, None, None, None, None, None, None, None, None, None, None, None, None, None, None, None, None, None, None, None, None, None, None, None, None, None, None, None, None, None, None, None, None, None, None, None, None, None, None, None, None, None, None, None, None, None, None, None, None, None, None, None, None, None, None, None, None, None, None, None, None, None, None, None, None, None, None, None, None, None, None, None, None, None, None, None, None, None, None, None, None, None, None, None, None, None, None, None, None, None, None, None, None, None, None, None, None, None, None, None, None, None, None, None, None, None, None, None, None, None, None, None, None, None, None, None, None, None, None, None, None, None, None, None, None, None, None, None, None, None, None, None, None, None, None, None, None, None, None, None, None, None, None, None, None, None, None, None, None, None, None, None, None, None, None, None, None, None, None, None, None, None, None, None, None, None, None, None, None, None, None, None, None, None, None, None, None, None, None, None, None, None, None, None, None, None, None, None, None, None, None, None, None, None, None, None, None, None, None, None, None, None, None, None, None, None, None, None, None, None, None, None, None, None, None, None, None, None, None, None, None, None, None, None, None, None, None, None, None, None, None, None, None, None, None, None, None, None, None, None, None, None, None, None, None, None, None, None, None, None, None, None, None, None, None, None, None, None, None, None, None, None, None, None, None, None, None, None, None, None, None, None, None, None, None, None, None, None, None, None, None, None, None, None, None, None, None, None, None, None, None, None, None, None, None, None, None, None, None, None, None, None, None, None, None, None, None, None, None, None, None, None, None, None, None, None, None, None, None, None, None, None, None, None, None, None, None, None, None, None, None, None, None, None, None, None, None, None, None, None, None, None, None, None, None, None, None, None, None, None, None, None, None, None, None, None, None, None, None, None, None, None, None, None, None, None, None, None, None, None, None, None, None, None, None, None, None, None, None, None, None, None, None, None, None, None, None, None, None, None, None, None, None, None, None, None, None, None, None, None, None, None, None, None, None, None, None, None, None, None, None, None, None, None, None, None, None, None, None, None, None, None, None, None, None, None, None, None, None, None, None, None, None, None, None, None, None, None, None, None, None, None, None, None, None, None, None, None, None, None, None, None, None, None, None, None, None, None, None, None, None, None, None, None, None, None, None, None, None, None, None, None, None, None, None, None, None, None, None, None, None, None, None, None, None, None, None, None, None, None, None, None, None, None, None, None, None, None, None, None, None, None, None, None, None, None, None, None, None, None, None, None, None, None, None, None, None, None, None, None, None, None, None, None, None, None, None, None, None, None, None, None, None, None, None, None, None, None, None, None, None, None, None, None, None, None, None, None, None, None, None, None, None, None, None, None, None, None, None, None, None, None, None, None, None, None, None, None, None, None, None, None, None, None, None, None, None, None, None, None, None, None, None, None, None, None, None, None, None, None, None, None, None, None, None, None, None, None, None, None, None, None, None, None, None, None, None, None, None, None, None, None, None, None, None, None, None, None, None, None, None, None, None, None, None, None, None, None, None, None, None, None, None, None, None, None, None, None, None, None, None, None, None, None, None, None, None, None, None, None, None, None, None, None, None, None, None, None, None, None, None, None, None, None, None, None, None, None, None, None, None, None, None, None, None, None, None, None, None, None, None, None, None, None, None, None, None, None, None, None, None, None, None, None, None, None, None, None, None, None, None, None, None, None, None, None, None, None, None, None, None, None, None, None, None, None, None, None, None, None, None, None, None, None, None, None, None, None, None, None, None, None, None, None, None, None, None, None, None, None, None, None, None, None, None, None, None, None, None, None, None, None, None, None, None, None, None, None, None, None, None, None, None, None, None, None, None, None, None, None, None, None, None, None, None, None, None, None, None, None, None, None, None, None, None, None, None, None, None, None, None, None, None, None, None, None, None, None, None, None, None, None, None, None, None, None, None, None, None, None, None, None, None, None, None, None, None, None, None, None, None, None, None, None, None, None, None, None, None, None, None, None, None, None, None, None, None, None, None, None, None, None, None, None, None, None, None, None, None, None, None, None, None, None, None, None, None, None, None, None, None, None, None, None, None, None, None, None, None, None, None, None, None, None, None, None, None, None, None, None, None, None, None, None, None, None, None, None, None, None, None, None, None, None, None, None, None, None, None, None, None, None, None, None, None, None, None, None, None, None, None, None, None, None, None, None, None, None, None, None, None, None, None, None, None, None, None, None, None, None, None, None, None, None, None, None, None, None, None, None, None, None, None, None, None, None, None, None, None, None, None, None, None, None, None, None, None, None, None, None, None, None, None, None, None, None, None, None, None, None, None, None, None, None, None, None, None, None, None, None, None, None, None, None, None, None, None, None, None, None, None, None, None, None, None, None, None, None, None, None, None, None, None, None, None, None, None, None, None, None, None, None, None, None, None, None, None, None, None, None, None, None, None, None, None, None, None, None, None, None, None, None, None, None, None, None, None, None, None, None, None, None, None, None, None, None, None, None, None, None, None, None, None, None, None, None, None, None, None, None, None, None, None, None, None, None, None, None, None, None, None, None, None, None, None, None, None, None], \n",
            "\tover the training epochs, respectively.\n"
          ],
          "name": "stdout"
        }
      ]
    },
    {
      "cell_type": "markdown",
      "metadata": {
        "id": "5i7TXjL-NhDz"
      },
      "source": [
        "#### Visualizing the plots:"
      ]
    },
    {
      "cell_type": "code",
      "metadata": {
        "id": "P7JavO5VNhDz",
        "colab": {
          "base_uri": "https://localhost:8080/",
          "height": 573
        },
        "outputId": "a56f316f-a0af-4a3c-e794-221e42a200ca"
      },
      "source": [
        "plot_loss_graph(tr_loss_ft, val_loss_ft)\n",
        "plot_auc_graph(tr_auc_ft, val_auc_ft)\n",
        "\n"
      ],
      "execution_count": 24,
      "outputs": [
        {
          "output_type": "display_data",
          "data": {
            "image/png": "[encoded data removed]",
            "text/plain": [
              "<Figure size 432x288 with 1 Axes>"
            ]
          },
          "metadata": {
            "tags": [],
            "needs_background": "light"
          }
        },
        {
          "output_type": "display_data",
          "data": {
            "image/png": "[encoded data removed]",
            "text/plain": [
              "<Figure size 432x288 with 1 Axes>"
            ]
          },
          "metadata": {
            "tags": [],
            "needs_background": "light"
          }
        }
      ]
    },
    {
      "cell_type": "markdown",
      "metadata": {
        "id": "7wbD8d2XNhDz"
      },
      "source": [
        "2. Compare your results between the two approaches. Is there any improvement? Explain your findings...\n"
      ]
    },
    {
      "cell_type": "markdown",
      "metadata": {
        "id": "JcVO0IcKNhD0"
      },
      "source": [
        "Type your answer here:\n"
      ]
    },
    {
      "cell_type": "code",
      "metadata": {
        "id": "qlqsOoreNhD0",
        "colab": {
          "base_uri": "https://localhost:8080/",
          "height": 295
        },
        "outputId": "f5b3506a-b8b3-4b99-8e8a-e163d7fadd8c"
      },
      "source": [
        "plot_loss_graph_for2_models(tr_loss,val_loss,tr_loss_ft,val_loss_ft,\"18\",\"18 fine tune\")\r\n"
      ],
      "execution_count": 25,
      "outputs": [
        {
          "output_type": "display_data",
          "data": {
            "image/png": "[encoded data removed]",
            "text/plain": [
              "<Figure size 432x288 with 1 Axes>"
            ]
          },
          "metadata": {
            "tags": [],
            "needs_background": "light"
          }
        }
      ]
    },
    {
      "cell_type": "code",
      "metadata": {
        "id": "zHgHAexuvl1d"
      },
      "source": [
        ""
      ],
      "execution_count": null,
      "outputs": []
    },
    {
      "cell_type": "markdown",
      "metadata": {
        "id": "6RPm2Z35WFbO"
      },
      "source": [
        "We can see that the fine tuning process gives lower validation loss( ~ 0.3) than using only feature extraction(~ 0.33).\r\n",
        "Fine tuning method uses the trained net of feature extraction process.\r\n",
        "In this process we train the whole net(including resnet!) and not just the classifyer. we used very small learning rate 1e-5\r\n",
        "to tune resnet18 weights so that it will fit more to our task(dogs and cats) than it's original task(ImageNet classes)\r\n",
        "Its make sense that when we take off the constraint(train only the classifyer), the results will be better."
      ]
    },
    {
      "cell_type": "code",
      "metadata": {
        "id": "iGEPnHmkv3Qh"
      },
      "source": [
        ""
      ],
      "execution_count": null,
      "outputs": []
    }
  ]
}