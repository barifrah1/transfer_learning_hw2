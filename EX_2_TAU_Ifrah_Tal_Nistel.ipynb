{
  "nbformat": 4,
  "nbformat_minor": 0,
  "metadata": {
    "kernelspec": {
      "name": "python3",
      "display_name": "Python 3.7.0 64-bit",
      "metadata": {
        "interpreter": {
          "hash": "764e53dc5e3cc7b54d77b51f4fb7ab4789ad4d184d9b79883b073a8f85e8cc44"
        }
      }
    },
    "language_info": {
      "codemirror_mode": {
        "name": "ipython",
        "version": 3
      },
      "file_extension": ".py",
      "mimetype": "text/x-python",
      "name": "python",
      "nbconvert_exporter": "python",
      "pygments_lexer": "ipython3",
      "version": "3.7.0-final"
    },
    "colab": {
      "name": "EX_2_TAU_Ifrah_Tal_Nistel_new.ipynb",
      "provenance": [],
      "collapsed_sections": []
    },
    "accelerator": "GPU",
    "widgets": {
      "application/vnd.jupyter.widget-state+json": {
        "0dcddbe95ebf48fa91f5627fc2726911": {
          "model_module": "@jupyter-widgets/controls",
          "model_name": "HBoxModel",
          "state": {
            "_view_name": "HBoxView",
            "_dom_classes": [],
            "_model_name": "HBoxModel",
            "_view_module": "@jupyter-widgets/controls",
            "_model_module_version": "1.5.0",
            "_view_count": null,
            "_view_module_version": "1.5.0",
            "box_style": "",
            "layout": "IPY_MODEL_9aa4b405bda24b70a6cf53a834bebc29",
            "_model_module": "@jupyter-widgets/controls",
            "children": [
              "IPY_MODEL_bc558134131e484f845258efb5c8a629",
              "IPY_MODEL_49b55132ff32498b896592f8939e683a"
            ]
          }
        },
        "9aa4b405bda24b70a6cf53a834bebc29": {
          "model_module": "@jupyter-widgets/base",
          "model_name": "LayoutModel",
          "state": {
            "_view_name": "LayoutView",
            "grid_template_rows": null,
            "right": null,
            "justify_content": null,
            "_view_module": "@jupyter-widgets/base",
            "overflow": null,
            "_model_module_version": "1.2.0",
            "_view_count": null,
            "flex_flow": null,
            "width": null,
            "min_width": null,
            "border": null,
            "align_items": null,
            "bottom": null,
            "_model_module": "@jupyter-widgets/base",
            "top": null,
            "grid_column": null,
            "overflow_y": null,
            "overflow_x": null,
            "grid_auto_flow": null,
            "grid_area": null,
            "grid_template_columns": null,
            "flex": null,
            "_model_name": "LayoutModel",
            "justify_items": null,
            "grid_row": null,
            "max_height": null,
            "align_content": null,
            "visibility": null,
            "align_self": null,
            "height": null,
            "min_height": null,
            "padding": null,
            "grid_auto_rows": null,
            "grid_gap": null,
            "max_width": null,
            "order": null,
            "_view_module_version": "1.2.0",
            "grid_template_areas": null,
            "object_position": null,
            "object_fit": null,
            "grid_auto_columns": null,
            "margin": null,
            "display": null,
            "left": null
          }
        },
        "bc558134131e484f845258efb5c8a629": {
          "model_module": "@jupyter-widgets/controls",
          "model_name": "FloatProgressModel",
          "state": {
            "_view_name": "ProgressView",
            "style": "IPY_MODEL_4b91d07be4ce4892b014c0f0092e5681",
            "_dom_classes": [],
            "description": "",
            "_model_name": "FloatProgressModel",
            "bar_style": "info",
            "max": 1,
            "_view_module": "@jupyter-widgets/controls",
            "_model_module_version": "1.5.0",
            "value": 1,
            "_view_count": null,
            "_view_module_version": "1.5.0",
            "orientation": "horizontal",
            "min": 0,
            "description_tooltip": null,
            "_model_module": "@jupyter-widgets/controls",
            "layout": "IPY_MODEL_1f83e4c2cb9642209a14fd5041971ea2"
          }
        },
        "49b55132ff32498b896592f8939e683a": {
          "model_module": "@jupyter-widgets/controls",
          "model_name": "HTMLModel",
          "state": {
            "_view_name": "HTMLView",
            "style": "IPY_MODEL_8da1dede67044911a31f2ec86623d270",
            "_dom_classes": [],
            "description": "",
            "_model_name": "HTMLModel",
            "placeholder": "​",
            "_view_module": "@jupyter-widgets/controls",
            "_model_module_version": "1.5.0",
            "value": " 170500096/? [00:20&lt;00:00, 50625929.64it/s]",
            "_view_count": null,
            "_view_module_version": "1.5.0",
            "description_tooltip": null,
            "_model_module": "@jupyter-widgets/controls",
            "layout": "IPY_MODEL_0663df149df24a10b34b01087ff222a9"
          }
        },
        "4b91d07be4ce4892b014c0f0092e5681": {
          "model_module": "@jupyter-widgets/controls",
          "model_name": "ProgressStyleModel",
          "state": {
            "_view_name": "StyleView",
            "_model_name": "ProgressStyleModel",
            "description_width": "initial",
            "_view_module": "@jupyter-widgets/base",
            "_model_module_version": "1.5.0",
            "_view_count": null,
            "_view_module_version": "1.2.0",
            "bar_color": null,
            "_model_module": "@jupyter-widgets/controls"
          }
        },
        "1f83e4c2cb9642209a14fd5041971ea2": {
          "model_module": "@jupyter-widgets/base",
          "model_name": "LayoutModel",
          "state": {
            "_view_name": "LayoutView",
            "grid_template_rows": null,
            "right": null,
            "justify_content": null,
            "_view_module": "@jupyter-widgets/base",
            "overflow": null,
            "_model_module_version": "1.2.0",
            "_view_count": null,
            "flex_flow": null,
            "width": null,
            "min_width": null,
            "border": null,
            "align_items": null,
            "bottom": null,
            "_model_module": "@jupyter-widgets/base",
            "top": null,
            "grid_column": null,
            "overflow_y": null,
            "overflow_x": null,
            "grid_auto_flow": null,
            "grid_area": null,
            "grid_template_columns": null,
            "flex": null,
            "_model_name": "LayoutModel",
            "justify_items": null,
            "grid_row": null,
            "max_height": null,
            "align_content": null,
            "visibility": null,
            "align_self": null,
            "height": null,
            "min_height": null,
            "padding": null,
            "grid_auto_rows": null,
            "grid_gap": null,
            "max_width": null,
            "order": null,
            "_view_module_version": "1.2.0",
            "grid_template_areas": null,
            "object_position": null,
            "object_fit": null,
            "grid_auto_columns": null,
            "margin": null,
            "display": null,
            "left": null
          }
        },
        "8da1dede67044911a31f2ec86623d270": {
          "model_module": "@jupyter-widgets/controls",
          "model_name": "DescriptionStyleModel",
          "state": {
            "_view_name": "StyleView",
            "_model_name": "DescriptionStyleModel",
            "description_width": "",
            "_view_module": "@jupyter-widgets/base",
            "_model_module_version": "1.5.0",
            "_view_count": null,
            "_view_module_version": "1.2.0",
            "_model_module": "@jupyter-widgets/controls"
          }
        },
        "0663df149df24a10b34b01087ff222a9": {
          "model_module": "@jupyter-widgets/base",
          "model_name": "LayoutModel",
          "state": {
            "_view_name": "LayoutView",
            "grid_template_rows": null,
            "right": null,
            "justify_content": null,
            "_view_module": "@jupyter-widgets/base",
            "overflow": null,
            "_model_module_version": "1.2.0",
            "_view_count": null,
            "flex_flow": null,
            "width": null,
            "min_width": null,
            "border": null,
            "align_items": null,
            "bottom": null,
            "_model_module": "@jupyter-widgets/base",
            "top": null,
            "grid_column": null,
            "overflow_y": null,
            "overflow_x": null,
            "grid_auto_flow": null,
            "grid_area": null,
            "grid_template_columns": null,
            "flex": null,
            "_model_name": "LayoutModel",
            "justify_items": null,
            "grid_row": null,
            "max_height": null,
            "align_content": null,
            "visibility": null,
            "align_self": null,
            "height": null,
            "min_height": null,
            "padding": null,
            "grid_auto_rows": null,
            "grid_gap": null,
            "max_width": null,
            "order": null,
            "_view_module_version": "1.2.0",
            "grid_template_areas": null,
            "object_position": null,
            "object_fit": null,
            "grid_auto_columns": null,
            "margin": null,
            "display": null,
            "left": null
          }
        },
        "8be12b60040644808fd32221a93f805f": {
          "model_module": "@jupyter-widgets/controls",
          "model_name": "HBoxModel",
          "state": {
            "_view_name": "HBoxView",
            "_dom_classes": [],
            "_model_name": "HBoxModel",
            "_view_module": "@jupyter-widgets/controls",
            "_model_module_version": "1.5.0",
            "_view_count": null,
            "_view_module_version": "1.5.0",
            "box_style": "",
            "layout": "IPY_MODEL_cb68632910604c5a913871ec4dec584d",
            "_model_module": "@jupyter-widgets/controls",
            "children": [
              "IPY_MODEL_80a19e04e9d64ade83985c40136d9850",
              "IPY_MODEL_c1f19408cb4c43bc87ccecfabe032bc0"
            ]
          }
        },
        "cb68632910604c5a913871ec4dec584d": {
          "model_module": "@jupyter-widgets/base",
          "model_name": "LayoutModel",
          "state": {
            "_view_name": "LayoutView",
            "grid_template_rows": null,
            "right": null,
            "justify_content": null,
            "_view_module": "@jupyter-widgets/base",
            "overflow": null,
            "_model_module_version": "1.2.0",
            "_view_count": null,
            "flex_flow": null,
            "width": null,
            "min_width": null,
            "border": null,
            "align_items": null,
            "bottom": null,
            "_model_module": "@jupyter-widgets/base",
            "top": null,
            "grid_column": null,
            "overflow_y": null,
            "overflow_x": null,
            "grid_auto_flow": null,
            "grid_area": null,
            "grid_template_columns": null,
            "flex": null,
            "_model_name": "LayoutModel",
            "justify_items": null,
            "grid_row": null,
            "max_height": null,
            "align_content": null,
            "visibility": null,
            "align_self": null,
            "height": null,
            "min_height": null,
            "padding": null,
            "grid_auto_rows": null,
            "grid_gap": null,
            "max_width": null,
            "order": null,
            "_view_module_version": "1.2.0",
            "grid_template_areas": null,
            "object_position": null,
            "object_fit": null,
            "grid_auto_columns": null,
            "margin": null,
            "display": null,
            "left": null
          }
        },
        "80a19e04e9d64ade83985c40136d9850": {
          "model_module": "@jupyter-widgets/controls",
          "model_name": "FloatProgressModel",
          "state": {
            "_view_name": "ProgressView",
            "style": "IPY_MODEL_99010502d6cf4460b15c67db6c5877b7",
            "_dom_classes": [],
            "description": "100%",
            "_model_name": "FloatProgressModel",
            "bar_style": "success",
            "max": 46827520,
            "_view_module": "@jupyter-widgets/controls",
            "_model_module_version": "1.5.0",
            "value": 46827520,
            "_view_count": null,
            "_view_module_version": "1.5.0",
            "orientation": "horizontal",
            "min": 0,
            "description_tooltip": null,
            "_model_module": "@jupyter-widgets/controls",
            "layout": "IPY_MODEL_aa72de39403147ab9250b222ce8ba797"
          }
        },
        "c1f19408cb4c43bc87ccecfabe032bc0": {
          "model_module": "@jupyter-widgets/controls",
          "model_name": "HTMLModel",
          "state": {
            "_view_name": "HTMLView",
            "style": "IPY_MODEL_9f82dbe9dbe9439c8bb40ebdf2fb1d36",
            "_dom_classes": [],
            "description": "",
            "_model_name": "HTMLModel",
            "placeholder": "​",
            "_view_module": "@jupyter-widgets/controls",
            "_model_module_version": "1.5.0",
            "value": " 44.7M/44.7M [02:08&lt;00:00, 364kB/s]",
            "_view_count": null,
            "_view_module_version": "1.5.0",
            "description_tooltip": null,
            "_model_module": "@jupyter-widgets/controls",
            "layout": "IPY_MODEL_3d3dc5c5d0d547ceb2b47cb22e78d936"
          }
        },
        "99010502d6cf4460b15c67db6c5877b7": {
          "model_module": "@jupyter-widgets/controls",
          "model_name": "ProgressStyleModel",
          "state": {
            "_view_name": "StyleView",
            "_model_name": "ProgressStyleModel",
            "description_width": "initial",
            "_view_module": "@jupyter-widgets/base",
            "_model_module_version": "1.5.0",
            "_view_count": null,
            "_view_module_version": "1.2.0",
            "bar_color": null,
            "_model_module": "@jupyter-widgets/controls"
          }
        },
        "aa72de39403147ab9250b222ce8ba797": {
          "model_module": "@jupyter-widgets/base",
          "model_name": "LayoutModel",
          "state": {
            "_view_name": "LayoutView",
            "grid_template_rows": null,
            "right": null,
            "justify_content": null,
            "_view_module": "@jupyter-widgets/base",
            "overflow": null,
            "_model_module_version": "1.2.0",
            "_view_count": null,
            "flex_flow": null,
            "width": null,
            "min_width": null,
            "border": null,
            "align_items": null,
            "bottom": null,
            "_model_module": "@jupyter-widgets/base",
            "top": null,
            "grid_column": null,
            "overflow_y": null,
            "overflow_x": null,
            "grid_auto_flow": null,
            "grid_area": null,
            "grid_template_columns": null,
            "flex": null,
            "_model_name": "LayoutModel",
            "justify_items": null,
            "grid_row": null,
            "max_height": null,
            "align_content": null,
            "visibility": null,
            "align_self": null,
            "height": null,
            "min_height": null,
            "padding": null,
            "grid_auto_rows": null,
            "grid_gap": null,
            "max_width": null,
            "order": null,
            "_view_module_version": "1.2.0",
            "grid_template_areas": null,
            "object_position": null,
            "object_fit": null,
            "grid_auto_columns": null,
            "margin": null,
            "display": null,
            "left": null
          }
        },
        "9f82dbe9dbe9439c8bb40ebdf2fb1d36": {
          "model_module": "@jupyter-widgets/controls",
          "model_name": "DescriptionStyleModel",
          "state": {
            "_view_name": "StyleView",
            "_model_name": "DescriptionStyleModel",
            "description_width": "",
            "_view_module": "@jupyter-widgets/base",
            "_model_module_version": "1.5.0",
            "_view_count": null,
            "_view_module_version": "1.2.0",
            "_model_module": "@jupyter-widgets/controls"
          }
        },
        "3d3dc5c5d0d547ceb2b47cb22e78d936": {
          "model_module": "@jupyter-widgets/base",
          "model_name": "LayoutModel",
          "state": {
            "_view_name": "LayoutView",
            "grid_template_rows": null,
            "right": null,
            "justify_content": null,
            "_view_module": "@jupyter-widgets/base",
            "overflow": null,
            "_model_module_version": "1.2.0",
            "_view_count": null,
            "flex_flow": null,
            "width": null,
            "min_width": null,
            "border": null,
            "align_items": null,
            "bottom": null,
            "_model_module": "@jupyter-widgets/base",
            "top": null,
            "grid_column": null,
            "overflow_y": null,
            "overflow_x": null,
            "grid_auto_flow": null,
            "grid_area": null,
            "grid_template_columns": null,
            "flex": null,
            "_model_name": "LayoutModel",
            "justify_items": null,
            "grid_row": null,
            "max_height": null,
            "align_content": null,
            "visibility": null,
            "align_self": null,
            "height": null,
            "min_height": null,
            "padding": null,
            "grid_auto_rows": null,
            "grid_gap": null,
            "max_width": null,
            "order": null,
            "_view_module_version": "1.2.0",
            "grid_template_areas": null,
            "object_position": null,
            "object_fit": null,
            "grid_auto_columns": null,
            "margin": null,
            "display": null,
            "left": null
          }
        },
        "c81aaf08bd01462d85e508666bd34ec0": {
          "model_module": "@jupyter-widgets/controls",
          "model_name": "HBoxModel",
          "state": {
            "_view_name": "HBoxView",
            "_dom_classes": [],
            "_model_name": "HBoxModel",
            "_view_module": "@jupyter-widgets/controls",
            "_model_module_version": "1.5.0",
            "_view_count": null,
            "_view_module_version": "1.5.0",
            "box_style": "",
            "layout": "IPY_MODEL_dd96519bbae64f29bfcd753885016df4",
            "_model_module": "@jupyter-widgets/controls",
            "children": [
              "IPY_MODEL_a455efc91e9f447ea8f83834e3ef64a6",
              "IPY_MODEL_4d9c05009855422e8d22ca6c6e4b73f1"
            ]
          }
        },
        "dd96519bbae64f29bfcd753885016df4": {
          "model_module": "@jupyter-widgets/base",
          "model_name": "LayoutModel",
          "state": {
            "_view_name": "LayoutView",
            "grid_template_rows": null,
            "right": null,
            "justify_content": null,
            "_view_module": "@jupyter-widgets/base",
            "overflow": null,
            "_model_module_version": "1.2.0",
            "_view_count": null,
            "flex_flow": null,
            "width": null,
            "min_width": null,
            "border": null,
            "align_items": null,
            "bottom": null,
            "_model_module": "@jupyter-widgets/base",
            "top": null,
            "grid_column": null,
            "overflow_y": null,
            "overflow_x": null,
            "grid_auto_flow": null,
            "grid_area": null,
            "grid_template_columns": null,
            "flex": null,
            "_model_name": "LayoutModel",
            "justify_items": null,
            "grid_row": null,
            "max_height": null,
            "align_content": null,
            "visibility": null,
            "align_self": null,
            "height": null,
            "min_height": null,
            "padding": null,
            "grid_auto_rows": null,
            "grid_gap": null,
            "max_width": null,
            "order": null,
            "_view_module_version": "1.2.0",
            "grid_template_areas": null,
            "object_position": null,
            "object_fit": null,
            "grid_auto_columns": null,
            "margin": null,
            "display": null,
            "left": null
          }
        },
        "a455efc91e9f447ea8f83834e3ef64a6": {
          "model_module": "@jupyter-widgets/controls",
          "model_name": "FloatProgressModel",
          "state": {
            "_view_name": "ProgressView",
            "style": "IPY_MODEL_93eeeb921ddf482e8bd66bd7a2f76591",
            "_dom_classes": [],
            "description": "100%",
            "_model_name": "FloatProgressModel",
            "bar_style": "success",
            "max": 87306240,
            "_view_module": "@jupyter-widgets/controls",
            "_model_module_version": "1.5.0",
            "value": 87306240,
            "_view_count": null,
            "_view_module_version": "1.5.0",
            "orientation": "horizontal",
            "min": 0,
            "description_tooltip": null,
            "_model_module": "@jupyter-widgets/controls",
            "layout": "IPY_MODEL_984aa3af3bb4483b998808aacec6213f"
          }
        },
        "4d9c05009855422e8d22ca6c6e4b73f1": {
          "model_module": "@jupyter-widgets/controls",
          "model_name": "HTMLModel",
          "state": {
            "_view_name": "HTMLView",
            "style": "IPY_MODEL_6ff7584f1b9a49be9611a2efb3f770aa",
            "_dom_classes": [],
            "description": "",
            "_model_name": "HTMLModel",
            "placeholder": "​",
            "_view_module": "@jupyter-widgets/controls",
            "_model_module_version": "1.5.0",
            "value": " 83.3M/83.3M [00:02&lt;00:00, 37.5MB/s]",
            "_view_count": null,
            "_view_module_version": "1.5.0",
            "description_tooltip": null,
            "_model_module": "@jupyter-widgets/controls",
            "layout": "IPY_MODEL_d74a0f78802b4cedb04eda13451bab31"
          }
        },
        "93eeeb921ddf482e8bd66bd7a2f76591": {
          "model_module": "@jupyter-widgets/controls",
          "model_name": "ProgressStyleModel",
          "state": {
            "_view_name": "StyleView",
            "_model_name": "ProgressStyleModel",
            "description_width": "initial",
            "_view_module": "@jupyter-widgets/base",
            "_model_module_version": "1.5.0",
            "_view_count": null,
            "_view_module_version": "1.2.0",
            "bar_color": null,
            "_model_module": "@jupyter-widgets/controls"
          }
        },
        "984aa3af3bb4483b998808aacec6213f": {
          "model_module": "@jupyter-widgets/base",
          "model_name": "LayoutModel",
          "state": {
            "_view_name": "LayoutView",
            "grid_template_rows": null,
            "right": null,
            "justify_content": null,
            "_view_module": "@jupyter-widgets/base",
            "overflow": null,
            "_model_module_version": "1.2.0",
            "_view_count": null,
            "flex_flow": null,
            "width": null,
            "min_width": null,
            "border": null,
            "align_items": null,
            "bottom": null,
            "_model_module": "@jupyter-widgets/base",
            "top": null,
            "grid_column": null,
            "overflow_y": null,
            "overflow_x": null,
            "grid_auto_flow": null,
            "grid_area": null,
            "grid_template_columns": null,
            "flex": null,
            "_model_name": "LayoutModel",
            "justify_items": null,
            "grid_row": null,
            "max_height": null,
            "align_content": null,
            "visibility": null,
            "align_self": null,
            "height": null,
            "min_height": null,
            "padding": null,
            "grid_auto_rows": null,
            "grid_gap": null,
            "max_width": null,
            "order": null,
            "_view_module_version": "1.2.0",
            "grid_template_areas": null,
            "object_position": null,
            "object_fit": null,
            "grid_auto_columns": null,
            "margin": null,
            "display": null,
            "left": null
          }
        },
        "6ff7584f1b9a49be9611a2efb3f770aa": {
          "model_module": "@jupyter-widgets/controls",
          "model_name": "DescriptionStyleModel",
          "state": {
            "_view_name": "StyleView",
            "_model_name": "DescriptionStyleModel",
            "description_width": "",
            "_view_module": "@jupyter-widgets/base",
            "_model_module_version": "1.5.0",
            "_view_count": null,
            "_view_module_version": "1.2.0",
            "_model_module": "@jupyter-widgets/controls"
          }
        },
        "d74a0f78802b4cedb04eda13451bab31": {
          "model_module": "@jupyter-widgets/base",
          "model_name": "LayoutModel",
          "state": {
            "_view_name": "LayoutView",
            "grid_template_rows": null,
            "right": null,
            "justify_content": null,
            "_view_module": "@jupyter-widgets/base",
            "overflow": null,
            "_model_module_version": "1.2.0",
            "_view_count": null,
            "flex_flow": null,
            "width": null,
            "min_width": null,
            "border": null,
            "align_items": null,
            "bottom": null,
            "_model_module": "@jupyter-widgets/base",
            "top": null,
            "grid_column": null,
            "overflow_y": null,
            "overflow_x": null,
            "grid_auto_flow": null,
            "grid_area": null,
            "grid_template_columns": null,
            "flex": null,
            "_model_name": "LayoutModel",
            "justify_items": null,
            "grid_row": null,
            "max_height": null,
            "align_content": null,
            "visibility": null,
            "align_self": null,
            "height": null,
            "min_height": null,
            "padding": null,
            "grid_auto_rows": null,
            "grid_gap": null,
            "max_width": null,
            "order": null,
            "_view_module_version": "1.2.0",
            "grid_template_areas": null,
            "object_position": null,
            "object_fit": null,
            "grid_auto_columns": null,
            "margin": null,
            "display": null,
            "left": null
          }
        }
      }
    }
  },
  "cells": [
    {
      "cell_type": "markdown",
      "metadata": {
        "id": "ELYNCTlcNhDe"
      },
      "source": [
        "# Transfer Learning with Pytorch"
      ]
    },
    {
      "cell_type": "markdown",
      "metadata": {
        "id": "v5LqZ96tNhDm"
      },
      "source": [
        "In this excercise, you will implement a 2-class classification neural network, using transfer learning from a pre-trained resnet18 network. A pre-trained model is a model that was trained on a large benchmark dataset to solve a problem similar to the one that we want to solve (but not identical). The pre-trained network could have been trained on a different dataset and sometimes also on a different task. The important thing is that it would be a related task and a realted dataset. This way, we can leverage previous learneinng to solve the new problem (instead of training the model from scratch). The ResNet18 model was pre-trained on the [ImageNet](http://image-net.org/index) dataset (a large dataset consisting of 1.4M images and 1000 classes). \n",
        "\n",
        "Transfer learning can be used in two ways:\n",
        "1. Feature extractor: Here we remove top layers, freeze the weights of all remaining layers, add a new fully connected layers on top of the pretrained model. Then. we train only these new layers to solve the new task.\n",
        "2. Fine tuning: Here we unfreezing the entire model (or part of it), add a new fully connected layers on top of the pre-trained model (as before) and re-train the entire model on the new data with a very low learning rate. We can use either end-to-end re-training, or re-train only part of the network.\n",
        "\n",
        "### CIFAR-10 Dataset:\n",
        "\n",
        "In this assignment, you will need to perform transfer learning using the ResNet18 network in order to classify and discern between images of cats and dogs in a different dataset: [CIFAR-10](https://www.cs.toronto.edu/~kriz/cifar.html) \n",
        "\n"
      ]
    },
    {
      "cell_type": "markdown",
      "metadata": {
        "id": "_nqsh39INhDn"
      },
      "source": [
        "# Part 1- Feature Extractor"
      ]
    },
    {
      "cell_type": "markdown",
      "metadata": {
        "id": "CnvyeWmyNhDn"
      },
      "source": [
        "In this part of the exercise, you need to classify images of 'Cat' and 'Dog' by using transfer learning with the feature extractor approach and a pre-trained ResNet18 network.\n",
        "\n",
        "The pre-trained model is built out of two main parts, the features and the classifier. The features part is a stack of convolutional layers. You will need to extract the image representation that should be fed into a classifier. For the classifier, please use a single fully-connected layer. \n",
        "\n",
        "\n",
        "In order to make things efficient, start by using the ResNet18 network in order to extract image represetnations for the images in CIFAR-10 dataset. Please make sure to this only once (please do not extract the image representations each time it is needed in the training phase)! You can store the resulting image representations as feature vectors and train the classifier using these vectors. At test time, you can merge both network in order to achive a single end-to-end classifier.  \n",
        "Note: This is different from what you saw in the recitation (dl_r4_cnns).\n",
        "\n",
        "At the test time, you can merge the feature extraction netowork with the new prediction head, in order to recive a \"full solution\".\n"
      ]
    },
    {
      "cell_type": "markdown",
      "metadata": {
        "id": "bER05IpTNhDo"
      },
      "source": [
        "**Let's first import all the packages that you will need during this part of assignment:**"
      ]
    },
    {
      "cell_type": "code",
      "metadata": {
        "id": "7YpD2XWzNhDo"
      },
      "source": [
        "import torch\n",
        "from torch import nn\n",
        "import torchvision\n",
        "from torchvision import datasets, models, transforms\n",
        "from torch import optim\n",
        "\n",
        "import matplotlib.pyplot as plt\n",
        "import numpy as np\n",
        "from sklearn.linear_model import LogisticRegression, LogisticRegressionCV\n",
        "import time\n",
        "import tqdm\n",
        "from tqdm import tqdm\n",
        "import sklearn\n",
        "from sklearn.linear_model import LogisticRegression, LinearRegression\n",
        "from sklearn.metrics import roc_auc_score, roc_curve, auc,accuracy_score\n",
        "from torch.utils.data import DataLoader, Dataset\n",
        "import os"
      ],
      "execution_count": 1,
      "outputs": []
    },
    {
      "cell_type": "markdown",
      "metadata": {
        "id": "EIZ1DudkNhDp"
      },
      "source": [
        "The ResNet18 network requires images of at least 200x200 pixels. However, the CIFAR-10 dataset consists of small images of 32x32 pixels. Hence, you will need to reshape the images before we use them into the ResNet18 network.\n",
        "Additionally, you will need to match the normalization used while training the ResNet18: each color channel should be normalized separately. The channel means are [0.485, 0.456, 0.406] and the standard deviations are [0.229, 0.224, 0.225]."
      ]
    },
    {
      "cell_type": "markdown",
      "metadata": {
        "id": "rHLdd1RcNhDp"
      },
      "source": [
        "**Use the transforms library from  torchvision and definethese transformations:**"
      ]
    },
    {
      "cell_type": "code",
      "metadata": {
        "id": "Icj127ojNhDq"
      },
      "source": [
        "# Specify transforms using torchvision.transforms as transforms library\n",
        "\n",
        "#transformation for the training data - here we will take 224 pixels every time from different part of the picture for generalization\n",
        "train_transform = transforms.Compose(\n",
        "    [\n",
        "        transforms.Resize(256),\n",
        "        transforms.RandomCrop(224),\n",
        "        transforms.ToTensor(),\n",
        "        transforms.Normalize([0.485, 0.456, 0.406], [\n",
        "            0.229, 0.224, 0.225]),\n",
        "    ]\n",
        ")\n",
        "#transformation for the validation data - here we take always the center of the image to get better results\n",
        "infer_transform = transforms.Compose(\n",
        "    [\n",
        "        transforms.Resize(256),\n",
        "        transforms.CenterCrop(224),\n",
        "        transforms.ToTensor(),\n",
        "        transforms.Normalize([0.485, 0.456, 0.406], [\n",
        "            0.229, 0.224, 0.225]),\n",
        "    ]\n",
        ")\n"
      ],
      "execution_count": 2,
      "outputs": []
    },
    {
      "cell_type": "markdown",
      "metadata": {
        "id": "t8Amslg0NPEt"
      },
      "source": [
        ""
      ]
    },
    {
      "cell_type": "markdown",
      "metadata": {
        "id": "Pu-adJyONhDq"
      },
      "source": [
        "#### Load CIFAR10 dataset and transform dataset from torchvision:"
      ]
    },
    {
      "cell_type": "code",
      "metadata": {
        "id": "7r_0V7AiNhDq"
      },
      "source": [
        "\n",
        "# a class that was made to take only the 'cat' and 'dog' labels from ciphar dataset\n",
        "\n",
        "\n",
        "class SubLoader(torchvision.datasets.CIFAR10):\n",
        "    def __init__(self, exclude_list, *args, **kwargs):\n",
        "        super(SubLoader, self).__init__(*args, **kwargs)\n",
        "\n",
        "        if exclude_list == []:\n",
        "            return\n",
        "        labels = np.array(self.targets)\n",
        "        exclude = np.array(exclude_list).reshape(1, -1)\n",
        "        mask = ~(labels.reshape(-1, 1) == exclude).any(axis=1)\n",
        "        self.data = self.data[mask]\n",
        "        self.targets = labels[mask].tolist()\n",
        "        self.targets = list(map(lambda x: 1 if x == 5 else 0, self.targets))\n",
        "\n",
        "\n",
        "# a class that inherit from Dataset and overide __len__ and __getitem__\n",
        "# overrides __len__ in order to limit the number of rows returned to a given parameter len_limit as we asked\n",
        "# overrides __getitem__ to return equal number of rows for each label as we asked(equal number of dogs and cats)\n",
        "class CIFAR10_DataLoader_Len_Limited(Dataset):\n",
        "    def __init__(self, original_datset, len_limit=None):\n",
        "        self.len_limit = len_limit\n",
        "        self.original_datset = original_datset\n",
        "        self.label_to_indices = {label: np.where(np.array(self.original_datset.targets) == label)[0].tolist()for label in [0, 1]}\n",
        "        self.ind_0 = 0  # counter for label 0\n",
        "        self.ind_1 = 0  # couner for label 1\n",
        "\n",
        "    def __getitem__(self, ind):\n",
        "        # In case we have already return more label 1 rows than label 0 rows, so the next row will be taken\n",
        "        # from the minority class\n",
        "        if(self.ind_0 <= self.ind_1):\n",
        "            next_ind = self.label_to_indices[0][self.ind_0]\n",
        "            label = self.original_datset.targets[next_ind]\n",
        "            self.ind_0 += 1\n",
        "            if(ind == self.len_limit-1):\n",
        "                self.ind_0 = 0\n",
        "                self.ind_1 = 0\n",
        "            return self.original_datset[next_ind]\n",
        "        else:\n",
        "            next_ind = self.label_to_indices[1][self.ind_1]\n",
        "            label = self.original_datset.targets[next_ind]\n",
        "            self.ind_1 += 1\n",
        "            if(ind == self.len_limit-1):\n",
        "                self.ind_0 = 0\n",
        "                self.ind_1 = 0\n",
        "            return self.original_datset[next_ind]\n",
        "\n",
        "    def __len__(self):  # return at most len_limit rows from the dataset\n",
        "        # we were asked to limit the number of training examples to do the training process more efficient\n",
        "        if self.len_limit:\n",
        "            return min(len(self.original_datset), self.len_limit)\n",
        "        return len(self.original_datset)\n",
        "\n",
        "\n",
        "\n",
        "\n"
      ],
      "execution_count": 3,
      "outputs": []
    },
    {
      "cell_type": "code",
      "metadata": {
        "id": "A8gchqicQsy0"
      },
      "source": [
        "# arguments for Net and dataloaders\r\n",
        "class NetArgs:\r\n",
        "    lr = 1e-4\r\n",
        "    lr_finetune = 1e-5\r\n",
        "    weight_decay = 5e-6\r\n",
        "    num_epochs = 5000\r\n",
        "    early_stopping_min_improvement = 1e-7\r\n",
        "    early_stopping_num_epochs = 5\r\n",
        "    early_stopping_min_improvement_ft = 1e-2\r\n",
        "    early_stopping_num_epochs_ft = 2\r\n",
        "    batch_size = 150\r\n",
        "    train_size = 2*800\r\n",
        "    test_size = 2*250\r\n",
        "    X_train_extracted_from_resnet18_file_name = \"X_extracted_features_train18.pt\"\r\n",
        "    y_train_extracted_from_resnet18_file_name = \"y_extracted_features_train18.pt\"\r\n",
        "    X_test_extracted_from_resnet18_file_name = \"X_extracted_features_test18.pt\"\r\n",
        "    y_test_extracted_from_resnet18_file_name = \"y_extracted_features_test18.pt\"\r\n",
        "    X_train_extracted_from_resnet34_file_name = \"X_extracted_features_train34.pt\"\r\n",
        "    y_train_extracted_from_resnet34_file_name = \"y_extracted_features_train34.pt\"\r\n",
        "    X_test_extracted_from_resnet34_file_name = \"X_extracted_features_test34.pt\"\r\n",
        "    y_test_extracted_from_resnet34_file_name = \"y_extracted_features_test34.pt\"\r\n",
        "\r\n",
        "args = NetArgs()"
      ],
      "execution_count": 4,
      "outputs": []
    },
    {
      "cell_type": "code",
      "metadata": {
        "colab": {
          "base_uri": "https://localhost:8080/",
          "height": 99,
          "referenced_widgets": [
            "0dcddbe95ebf48fa91f5627fc2726911",
            "9aa4b405bda24b70a6cf53a834bebc29",
            "bc558134131e484f845258efb5c8a629",
            "49b55132ff32498b896592f8939e683a",
            "4b91d07be4ce4892b014c0f0092e5681",
            "1f83e4c2cb9642209a14fd5041971ea2",
            "8da1dede67044911a31f2ec86623d270",
            "0663df149df24a10b34b01087ff222a9"
          ]
        },
        "id": "lZa9oIVhNhDr",
        "outputId": "da61bf24-a653-4d76-d1db-79a47f9fe304"
      },
      "source": [
        "# Note: In order to separating the data/label you can apply \"classes\"/\"targets\" methods on CIFAR10 data sets\n",
        "\n",
        "#flag that checkes if loading again and extract resnet18 features is needed or we should use extracted features files(used during development)\n",
        "RESNET18_EXTRACTED_DATA_EXIST = (os.path.exists(args.X_train_extracted_from_resnet18_file_name) == True and\n",
        "                                     os.path.exists(args.y_train_extracted_from_resnet18_file_name) == True and\n",
        "                                     os.path.exists(args.X_test_extracted_from_resnet18_file_name) == True and\n",
        "                                     os.path.exists(args.y_test_extracted_from_resnet18_file_name) == True)\n",
        "#flag that checkes if loading again and extract resnet34 features is needed or we should use extracted features files\n",
        "RESNET34_EXTRACTED_DATA_EXIST = (os.path.exists(args.X_train_extracted_from_resnet34_file_name) == True and\n",
        "                                     os.path.exists(args.y_train_extracted_from_resnet34_file_name) == True and\n",
        "                                     os.path.exists(args.X_test_extracted_from_resnet34_file_name) == True and\n",
        "                                     os.path.exists(args.y_test_extracted_from_resnet34_file_name) == True)\n",
        "\n",
        "# classes of the ciphar-10\n",
        "labels = {'airplane': 0, 'automobile': 1, 'bird': 2, 'cat': 3,\n",
        "          'deer': 4, 'dog': 5, 'frog': 6, 'horse': 7, 'ship': 8, 'truck': 9}\n",
        "print(labels)\n",
        "#exclude all classes except dog and cat\n",
        "exclude_labels = labels\n",
        "del exclude_labels['dog']\n",
        "del exclude_labels['cat']\n",
        "exclude_labels = list(exclude_labels.values())\n",
        "\n",
        "# Subloader inherits from Dataloader and overrides __init__. It takes only the 'dog' and 'cat' examples from the dataset\n",
        "tr_dataset = SubLoader(exclude_labels, \"cifar\",\n",
        "                        transform=train_transform, train=True, download=True)\n",
        "# CIFAR10_DataLoader_Len_Limited is a class inherits from cifar10DataSet and limits and number of examples used from the dataset to len_limit\n",
        "tr_dataloader = DataLoader(\n",
        "    CIFAR10_DataLoader_Len_Limited(tr_dataset, int(args.train_size)), batch_size=args.batch_size\n",
        ")\n",
        "#create validation dataloader\n",
        "val_dataset = SubLoader(exclude_labels, \"cifar\",\n",
        "                        transform=infer_transform, train=False, download=False)\n",
        "val_dataloader = DataLoader(\n",
        "    CIFAR10_DataLoader_Len_Limited(val_dataset, int(args.test_size)), batch_size=int(args.test_size)\n",
        ")\n"
      ],
      "execution_count": 5,
      "outputs": [
        {
          "output_type": "stream",
          "text": [
            "{'airplane': 0, 'automobile': 1, 'bird': 2, 'cat': 3, 'deer': 4, 'dog': 5, 'frog': 6, 'horse': 7, 'ship': 8, 'truck': 9}\n",
            "Downloading https://www.cs.toronto.edu/~kriz/cifar-10-python.tar.gz to cifar/cifar-10-python.tar.gz\n"
          ],
          "name": "stdout"
        },
        {
          "output_type": "display_data",
          "data": {
            "application/vnd.jupyter.widget-view+json": {
              "model_id": "0dcddbe95ebf48fa91f5627fc2726911",
              "version_minor": 0,
              "version_major": 2
            },
            "text/plain": [
              "HBox(children=(FloatProgress(value=1.0, bar_style='info', max=1.0), HTML(value='')))"
            ]
          },
          "metadata": {
            "tags": []
          }
        },
        {
          "output_type": "stream",
          "text": [
            "Extracting cifar/cifar-10-python.tar.gz to cifar\n"
          ],
          "name": "stdout"
        }
      ]
    },
    {
      "cell_type": "markdown",
      "metadata": {
        "id": "7IWhAINENhDq"
      },
      "source": [
        "**Note that the CIFAR10 data set includes 10 labels. Please extract from the entire dataset, only the images with 'Cat' or 'Dog' labels.\n",
        "In order to make the training process faster, you will need to trim the train set to 800 training images of each label (800 dogs and 800 cats). The test set should be trimmed to 250 images of cats and 250 images of dogs.**"
      ]
    },
    {
      "cell_type": "markdown",
      "metadata": {
        "id": "GfrK1EE7NhDr"
      },
      "source": [
        "**Download the ResNet18 Network from torchvision.models (as seen in the tutorial):**"
      ]
    },
    {
      "cell_type": "code",
      "metadata": {
        "id": "DN4DPC5UNhDr"
      },
      "source": [
        "import matplotlib.pyplot as plt\n",
        "\n",
        "class MyResNet(nn.Module):\n",
        "#A class inherits from nn and gets 2 parameter classifyer that replaces resnet head and which version \n",
        "#of resnet we should load resnet18 or resnet34\n",
        "    def __init__(self, classifyer, res34or18):\n",
        "        super(MyResNet, self).__init__()\n",
        "        if(res34or18 == 18):\n",
        "            resnet = models.resnet18(pretrained=True)\n",
        "        else:\n",
        "            resnet = models.resnet34(pretrained=True)\n",
        "        num_ftrs = resnet.fc.in_features\n",
        "        #cut resnet head\n",
        "        resnet.fc = nn.Identity()\n",
        "        #save features extractor as self.features\n",
        "        self.features = resnet\n",
        "        # Freezing resnet params:\n",
        "        for param in self.features.parameters():\n",
        "            param.requires_grad = False\n",
        "        # fc layer with softMax for classifying(given as parameter)\n",
        "        self.classifyer = classifyer\n",
        "    # function that feed forward images in resnet and returns tensor of extracted features\n",
        "    def extract_features_from_dataloader(self, dataloader):\n",
        "        X_extracted_features = torch.empty([0, 512])\n",
        "        y_extracted_features = torch.empty([0]).long()\n",
        "        self.features.eval()\n",
        "        with torch.no_grad():\n",
        "            for X, y in dataloader:\n",
        "                extracted_batch_features = self.features(X)\n",
        "                X_extracted_features = torch.cat(\n",
        "                    [X_extracted_features, extracted_batch_features], dim=0)\n",
        "                y_extracted_features = torch.cat(\n",
        "                    [y_extracted_features, y], dim=0)\n",
        "\n",
        "        return X_extracted_features, y_extracted_features\n",
        "\n",
        "    def forward(self, X):\n",
        "      # In case we get extracted features tensor (The length of it's shape is 2)\n",
        "        if(len(X.shape) != 4):\n",
        "            return self.classifyer(X)\n",
        "        # The (The length of image shape is 4)\n",
        "        #in case we feed forward images with shape [n,C,H,W] the len of shape is 4 so we need only to extract features\n",
        "        # using self.features and then feed it to the classifyer to get the output probabilities\n",
        "        else:\n",
        "            X = self.features(X)\n",
        "            return self.classifyer(X)\n",
        "\n",
        "\n",
        "\n"
      ],
      "execution_count": 6,
      "outputs": []
    },
    {
      "cell_type": "markdown",
      "metadata": {
        "id": "lp6gyGdKNhDr"
      },
      "source": [
        "#### Now, use the pre-trained Resnet18 to extract feautres from the CIFAR10 dataset and feed your classifier with these feature vectors. To do that, you need to cut the head of the pre-trained ResNet18 model, then feed the model with the CIFAR10 data sets (train and test).  The resulting image representations should be \"flattened\" and used as feature vectors:"
      ]
    },
    {
      "cell_type": "code",
      "metadata": {
        "id": "QrAjcVBSNhDs",
        "colab": {
          "base_uri": "https://localhost:8080/",
          "height": 116,
          "referenced_widgets": [
            "8be12b60040644808fd32221a93f805f",
            "cb68632910604c5a913871ec4dec584d",
            "80a19e04e9d64ade83985c40136d9850",
            "c1f19408cb4c43bc87ccecfabe032bc0",
            "99010502d6cf4460b15c67db6c5877b7",
            "aa72de39403147ab9250b222ce8ba797",
            "9f82dbe9dbe9439c8bb40ebdf2fb1d36",
            "3d3dc5c5d0d547ceb2b47cb22e78d936"
          ]
        },
        "outputId": "321dfa92-6baa-4226-b34e-62dff5493317"
      },
      "source": [
        "classifyer = nn.Sequential(nn.Linear(512, 2)) # classifyer is one linear layer(softmax layer from CrossEntropyLoss)\n",
        "net = MyResNet(classifyer, 18) #resnet18  with classifyer instead of resnet.fc\n",
        "# in case we already extracted the features using resnet18, skip the extraction process and load it from the files(for development mode)\n",
        "if(RESNET18_EXTRACTED_DATA_EXIST == False):\n",
        "  #extract training features tensor with shape  of [800*2,512]\n",
        "    X_extracted_features_train, y_extracted_features_train = net.extract_features_from_dataloader(\n",
        "        tr_dataloader)\n",
        "  #extract validation features tensor with shape  of [250*2,512]\n",
        "    X_extracted_features_test, y_extracted_features_test = net.extract_features_from_dataloader(\n",
        "        val_dataloader)\n",
        "    print(X_extracted_features_train.shape)\n",
        "    print(X_extracted_features_test.shape)\n",
        "    # save the extracted features to files(for development mode)\n",
        "    torch.save(X_extracted_features_train,\n",
        "                args.X_train_extracted_from_resnet18_file_name)\n",
        "    torch.save(y_extracted_features_train,\n",
        "                args.y_train_extracted_from_resnet18_file_name)\n",
        "    torch.save(X_extracted_features_test,\n",
        "                args.X_test_extracted_from_resnet18_file_name)\n",
        "    torch.save(y_extracted_features_test,\n",
        "                args.y_test_extracted_from_resnet18_file_name)\n",
        "else:\n",
        "    # load the extracted features files(for development mode)\n",
        "    X_extracted_features_train = torch.load(\n",
        "        args.X_train_extracted_from_resnet18_file_name)\n",
        "    y_extracted_features_train = torch.load(\n",
        "        args.y_train_extracted_from_resnet18_file_name)\n",
        "    X_extracted_features_test = torch.load(\n",
        "        args.X_test_extracted_from_resnet18_file_name)\n",
        "    y_extracted_features_test = torch.load(\n",
        "        args.y_test_extracted_from_resnet18_file_name)\n"
      ],
      "execution_count": 7,
      "outputs": [
        {
          "output_type": "stream",
          "text": [
            "Downloading: \"https://download.pytorch.org/models/resnet18-5c106cde.pth\" to /root/.cache/torch/hub/checkpoints/resnet18-5c106cde.pth\n"
          ],
          "name": "stderr"
        },
        {
          "output_type": "display_data",
          "data": {
            "application/vnd.jupyter.widget-view+json": {
              "model_id": "8be12b60040644808fd32221a93f805f",
              "version_minor": 0,
              "version_major": 2
            },
            "text/plain": [
              "HBox(children=(FloatProgress(value=0.0, max=46827520.0), HTML(value='')))"
            ]
          },
          "metadata": {
            "tags": []
          }
        },
        {
          "output_type": "stream",
          "text": [
            "\n",
            "torch.Size([1600, 512])\n",
            "torch.Size([500, 512])\n"
          ],
          "name": "stdout"
        }
      ]
    },
    {
      "cell_type": "markdown",
      "metadata": {
        "id": "93Ve1J_4NhDs"
      },
      "source": [
        "# Logistic Regression with scikit-learn library:"
      ]
    },
    {
      "cell_type": "markdown",
      "metadata": {
        "id": "oMiW5c3FNhDs"
      },
      "source": [
        "#### Here, you need to use a logistic regession model from scikit-learn and train it with the data you prepared above. You need to calculate and report the accuracy and AUC for the train and test sets and explain your results."
      ]
    },
    {
      "cell_type": "code",
      "metadata": {
        "colab": {
          "base_uri": "https://localhost:8080/"
        },
        "id": "BvwBRemgNhDs",
        "outputId": "f916804c-9723-4de5-fe14-677550370803"
      },
      "source": [
        "\n",
        "# logistic regression with sklearn\n",
        "\n",
        "logisticRegr = LogisticRegression(penalty='l2',solver='lbfgs',tol=1e-3, max_iter=1000)\n",
        "clf = logisticRegr.fit(X_extracted_features_train.numpy(),\n",
        "                        y_extracted_features_train.numpy())\n",
        "pred_probs_train_lr = clf.predict_proba(X_extracted_features_train)[:,1] # prediction on training set\n",
        "pred_probs_test_lr = clf.predict_proba(X_extracted_features_test)[:,1]  #prediction on test set\n",
        "\n",
        "\n",
        "# train accuracy and auc\n",
        "accuracy_train_lr = clf.score(\n",
        "    X_extracted_features_train, y_extracted_features_train)\n",
        "auc_train_lr = roc_auc_score(y_extracted_features_train.numpy(),pred_probs_train_lr)\n",
        "# test accuracy and auc\n",
        "accuracy_test_lr = clf.score(\n",
        "    X_extracted_features_test, y_extracted_features_test)\n",
        "auc_test_lr = roc_auc_score(y_extracted_features_test.numpy(),pred_probs_test_lr)\n",
        "\n",
        "print(\"train results:\")\n",
        "print('accuracy:', accuracy_train_lr)\n",
        "print('auc', auc_train_lr)\n",
        "print(\"test results:\")\n",
        "print('accuracy:', accuracy_test_lr)\n",
        "print('auc', auc_test_lr)\n",
        "\n",
        "\n",
        "\n"
      ],
      "execution_count": 8,
      "outputs": [
        {
          "output_type": "stream",
          "text": [
            "train results:\n",
            "accuracy: 0.983125\n",
            "auc 0.9983390625\n",
            "test results:\n",
            "accuracy: 0.81\n",
            "auc 0.910512\n"
          ],
          "name": "stdout"
        }
      ]
    },
    {
      "cell_type": "markdown",
      "metadata": {
        "id": "Rei66JcAeVWT"
      },
      "source": [
        "We used Logisitic regression algorithm to classify the images. First we used Resnet to extract the features into 1 dimensional vector, then we could have use any supevised learning algorithm(SVM,Random Forest, Logistic regression,...) to make the classification on the 1 dimensional vectors.\r\n",
        "We used logistic regression to get probablistic result and as we can see the training error is very small (auc and accuracy close to 1) while the accuracy on the test set is 0.83(overfitted even we used L2 regularization)"
      ]
    },
    {
      "cell_type": "markdown",
      "metadata": {
        "id": "7wc-gEx4NhDt"
      },
      "source": [
        "# Logistic Regression with pytorch:\n",
        "\n",
        "#### Next, you need to use a logistic regession using pythourch as follows:\n",
        "\n",
        "\n",
        "1. Explain the choice of architecture in the head of the neural network.\n",
        "2. Plot training loss per epoch.\n",
        "3. Plot AUC per epoch for train and validation sets.\n",
        "4. Explain your results and findings.\n",
        "5. Does adding one or two hidden layers affect the generalization capabilities of the model?"
      ]
    },
    {
      "cell_type": "markdown",
      "metadata": {
        "id": "cB7fPgqiNhDt"
      },
      "source": [
        "#### Define the model:"
      ]
    },
    {
      "cell_type": "code",
      "metadata": {
        "id": "N-nbKl3zNhDu"
      },
      "source": [
        "#Define above in MyResNet class"
      ],
      "execution_count": 9,
      "outputs": []
    },
    {
      "cell_type": "markdown",
      "metadata": {
        "id": "gy7uiaf_gQ6k"
      },
      "source": [
        "We used this head: Linear(in_features=512, out_features=2, bias=True) because the last layer of resnet18 and resnet 34 returns a tensor with shape [n,512] .  out_features=2 because we classify into 2 classes dogs and cats(we could have use also out_features=1 with BCELoss but we wanted to try to use CrossEntropyLoss  (even it's the same for the binary case).CrossEntropyLoss executes Softmax on the output before calculating loss."
      ]
    },
    {
      "cell_type": "markdown",
      "metadata": {
        "id": "DhYf3bbvNhDu"
      },
      "source": [
        "#### Training and validation:"
      ]
    },
    {
      "cell_type": "markdown",
      "metadata": {
        "id": "j10IZCdPhuaO"
      },
      "source": [
        "Training Loop, Infer and graphs functions"
      ]
    },
    {
      "cell_type": "code",
      "metadata": {
        "id": "ngAH1eFQNhDu",
        "tags": []
      },
      "source": [
        "\n",
        "# can pass to function dataloader or X,y\n",
        "def infer(net, criterion, X=None, y=None, dataloader=None):\n",
        "    net.eval()\n",
        "    running_loss = 0\n",
        "    running_auc = 0\n",
        "    running_acc=0\n",
        "    num_of_rows = 0\n",
        "    #train_on_gpu2 = torch.cuda.is_available()\n",
        "    with torch.no_grad():\n",
        "        # case when gets X and y tensors\n",
        "        if(dataloader == None):\n",
        "            pred = net(X)\n",
        "            loss = criterion(pred, y).item()\n",
        "            output_for_auc = torch.sigmoid(pred).detach().numpy()[:, 1]\n",
        "            auc = roc_auc_score(y, output_for_auc)\n",
        "            return loss, auc\n",
        "        # case when gets dataloader\n",
        "        else:\n",
        "            for X_batch, y_batch in dataloader:\n",
        "                #if train_on_gpu2:\n",
        "                #    X_batch, y_batch = X_batch.cuda(), y_batch.cuda()\n",
        "                pred = net(X_batch)\n",
        "                loss = criterion(pred, y_batch).item()\n",
        "                output_for_auc = torch.sigmoid(pred).detach().numpy()[:, 1]\n",
        "                auc = roc_auc_score(y_batch, output_for_auc)\n",
        "                _, predicted = torch.max(pred.data, 1)\n",
        "                predicted=predicted.detach().numpy()\n",
        "                accuracy=accuracy_score(y_batch,predicted)\n",
        "                running_loss += loss*y_batch.shape[0]\n",
        "                running_auc += auc*y_batch.shape[0]\n",
        "                running_acc+=accuracy*y_batch.shape[0]\n",
        "                num_of_rows += y_batch.shape[0]\n",
        "            return running_loss / num_of_rows, running_auc / num_of_rows,running_acc/num_of_rows\n",
        "\n",
        "# training loop function\n",
        "# gets: net,arguments of the net, train and validation data, Loss function and optimizer\n",
        "def training_loop(\n",
        "    args,\n",
        "    net,\n",
        "    X_train,\n",
        "    y_train,\n",
        "    X_test,\n",
        "    y_test,\n",
        "    tr_dataloader=None,\n",
        "    val_dataloader=None,\n",
        "    criterion_func=nn.CrossEntropyLoss,\n",
        "    optimizer_func=optim.SGD,\n",
        "):\n",
        "    criterion = criterion_func()\n",
        "    optimizer = optim.Adam(net.parameters(), lr=args.lr,\n",
        "                           weight_decay=args.weight_decay)\n",
        "    tr_loss, val_loss = [None] * args.num_epochs, [None] * args.num_epochs\n",
        "    tr_auc, val_auc = [None] * args.num_epochs, [None] * args.num_epochs\n",
        "    test_loss, untrained_test_loss = None, None\n",
        "    test_auc, untrained_test_auc = None, None\n",
        "    # calculate error before training on testset\n",
        "    auc_and_loss = infer(\n",
        "        net,  criterion, X=X_test, y=y_test, dataloader=val_dataloader)\n",
        "    untrained_test_loss = auc_and_loss[0]\n",
        "    untrained_test_auc = auc_and_loss[1]\n",
        "    for epoch in range(args.num_epochs):\n",
        "        net.train()\n",
        "        running_tr_loss = 0\n",
        "        running_tr_auc = 0\n",
        "\n",
        "        data_size = len(X_train) # get tesnor length(how many rows)\n",
        "        if(data_size % args.batch_size == 0):\n",
        "            no_of_batches = data_size // args.batch_size #calculate numbeer of batches\n",
        "        else:\n",
        "            no_of_batches = (data_size // args.batch_size)+1\n",
        "        for i in tqdm(range(no_of_batches)):\n",
        "            #build the next batch\n",
        "            start = i*args.batch_size\n",
        "            end = i*args.batch_size + args.batch_size\n",
        "            x = X_train[start:end]\n",
        "            y = y_train[start:end]\n",
        "            optimizer.zero_grad()\n",
        "            #calculate prediction using current net\n",
        "            pred = net(x)\n",
        "            #calculate auc and then loss with crossEntropyLoss\n",
        "            output_for_auc = torch.sigmoid(pred).detach().numpy()[:, 1]\n",
        "            auc = roc_auc_score(y, output_for_auc)\n",
        "            loss = criterion(pred, y)\n",
        "            # update weights using backpropgation\n",
        "            loss.backward()\n",
        "            optimizer.step()\n",
        "            #update train_loss and auc_train for current iter\n",
        "            running_tr_loss += loss*x.shape[0]\n",
        "            running_tr_auc += auc*x.shape[0]\n",
        "\n",
        "        #calculate train and validation losses and auc at the end of iteration\n",
        "        tr_loss[epoch] = running_tr_loss.item() / data_size\n",
        "        tr_auc[epoch] = running_tr_auc.item() / data_size\n",
        "\n",
        "        auc_and_loss = infer(\n",
        "            net, criterion, X=X_test, y=y_test, dataloader=None)\n",
        "        val_loss[epoch] = auc_and_loss[0]\n",
        "        val_auc[epoch] = auc_and_loss[1]\n",
        "        print(\n",
        "            f\"Train loss: {tr_loss[epoch]:.2e}, Val loss: {val_loss[epoch]:.2e}\")\n",
        "        print(\n",
        "            f\"Best val loss is: {min(x for x in val_loss if x is not None):.2e}\")\n",
        "        #early stopping - stop if improvment in validation set is not greater than args.early_stopping_min_improvement in the last args.early_stopping_num_epochs\n",
        "        if epoch >= args.early_stopping_num_epochs:\n",
        "            improvement = (\n",
        "                val_loss[epoch - args.early_stopping_num_epochs] -\n",
        "                val_loss[epoch]\n",
        "            )\n",
        "            if improvement < args.early_stopping_min_improvement:\n",
        "                break\n",
        "    auc_and_loss = infer(net, criterion, X=X_test, y=y_test, dataloader=None)\n",
        "    test_loss = auc_and_loss[0]\n",
        "    test_auc = auc_and_loss[1]\n",
        "    print(f\"Stopped training after {epoch+1}/{args.num_epochs} epochs.\")\n",
        "    print(\n",
        "        f\"The loss is {untrained_test_loss:.2e} before training and {test_loss:.2e} after training.\"\n",
        "    )\n",
        "    print(\n",
        "        f\"The training and validation losses are \"\n",
        "        f\"\\n\\t{tr_loss}, \\n\\t{val_loss}, \\n\\tover the training epochs, respectively.\"\n",
        "    )\n",
        "    return tr_loss, val_loss, test_loss, tr_auc, val_auc, untrained_test_loss, untrained_test_auc\n",
        "\n",
        "# Almost the same as trainig loop but using dataloaders, only used for finetuning part\n",
        "def training_loop_with_dataloaders(\n",
        "    args,\n",
        "    net,\n",
        "    tr_dataloader=None,\n",
        "    val_dataloader=None,\n",
        "    criterion_func=nn.CrossEntropyLoss,\n",
        "    optimizer_func=optim.SGD,\n",
        "    fine_tune=False\n",
        "):\n",
        "    num_of_params = 0\n",
        "    for par in net.features.parameters():\n",
        "        num_of_params += 1\n",
        "    criterion = criterion_func()\n",
        "    optimizer = optim.Adam(net.parameters(), lr=args.lr,\n",
        "                           weight_decay=args.weight_decay)\n",
        "    tr_loss, val_loss = [None] * args.num_epochs, [None] * args.num_epochs\n",
        "    tr_auc, val_auc = [None] * args.num_epochs, [None] * args.num_epochs\n",
        "    tr_acc,val_acc=[None] * args.num_epochs, [None] * args.num_epochs\n",
        "    test_loss, untrained_test_loss = None, None\n",
        "    test_auc, untrained_test_auc = None, None\n",
        "    # Note that I moved the inferences to a function because it was too much code duplication to read.\n",
        "    # calculate error before training\n",
        "    auc_and_loss = infer(\n",
        "        net,  criterion, X=None, y=None, dataloader=val_dataloader)\n",
        "    untrained_test_loss = auc_and_loss[0]\n",
        "    untrained_test_auc = auc_and_loss[1]\n",
        "    untrained_test_acc=auc_and_loss[2]\n",
        "    print('untrained accuracy:',untrained_test_acc)\n",
        "    for epoch in range(args.num_epochs):\n",
        "        net.eval()\n",
        "        running_tr_loss = 0\n",
        "        running_tr_auc = 0\n",
        "        running_tr_acc=0\n",
        "        for x, y in tr_dataloader:\n",
        "            optimizer.zero_grad()\n",
        "            pred = net(x)\n",
        "            output_for_auc = torch.sigmoid(pred).detach().numpy()[:, 1]\n",
        "            auc = roc_auc_score(y, output_for_auc)\n",
        "            loss = criterion(pred, y)\n",
        "            _, predicted = torch.max(pred.data, 1)\n",
        "            predicted=predicted.detach().numpy()\n",
        "            accuracy=accuracy_score(y,predicted)\n",
        "            loss.backward()\n",
        "            optimizer.step()\n",
        "            running_tr_loss += loss*x.shape[0]\n",
        "            running_tr_auc += auc*x.shape[0]\n",
        "            running_tr_acc += accuracy*x.shape[0]\n",
        "\n",
        "        tr_loss[epoch] = running_tr_loss.item() / args.train_size\n",
        "        tr_auc[epoch] = running_tr_auc.item() / args.train_size\n",
        "        tr_acc[epoch] = running_tr_acc.item() / args.train_size\n",
        "        auc_and_loss = infer(\n",
        "            net, criterion, X=None, y=None, dataloader=val_dataloader)\n",
        "        val_loss[epoch] = auc_and_loss[0]\n",
        "        val_auc[epoch] = auc_and_loss[1]\n",
        "        val_acc[epoch]=auc_and_loss[2]\n",
        "        print('validtaion_acc:',val_acc[epoch])\n",
        "        print(\n",
        "            f\"Train loss: {tr_loss[epoch]:.2e}, Val loss: {val_loss[epoch]:.2e}\")\n",
        "        print(\n",
        "            f\"Best val loss is: {min(x for x in val_loss if x is not None):.2e}\")\n",
        "        if epoch >= args.early_stopping_num_epochs:\n",
        "            improvement = (\n",
        "                val_loss[epoch - args.early_stopping_num_epochs] -\n",
        "                val_loss[epoch]\n",
        "            )\n",
        "            if improvement < args.early_stopping_min_improvement:\n",
        "                break\n",
        "        \n",
        "    auc_and_loss = infer(net, criterion, X=None, y=None,\n",
        "                         dataloader=val_dataloader)\n",
        "    test_loss = auc_and_loss[0]\n",
        "    test_auc = auc_and_loss[1]\n",
        "    print(f\"Stopped training after {epoch+1}/{args.num_epochs} epochs.\")\n",
        "    print(\n",
        "        f\"The loss is {untrained_test_loss:.2e} before training and {test_loss:.2e} after training.\"\n",
        "    )\n",
        "    print(\n",
        "        f\"The training and validation losses are \"\n",
        "        f\"\\n\\t{tr_loss}, \\n\\t{val_loss}, \\n\\tover the training epochs, respectively.\"\n",
        "    )\n",
        "    return tr_loss, val_loss, test_loss, tr_auc, val_auc, untrained_test_loss, untrained_test_auc,tr_acc,val_acc\n",
        "\n",
        "# plot loss grpah\n",
        "def plot_loss_graph(train_loss_list, validation_loss_list):\n",
        "    plt.plot(train_loss_list, 'g', label='Training loss')\n",
        "    plt.plot(validation_loss_list, 'b', label='validation loss')\n",
        "    plt.title('Training and Validation loss')\n",
        "    plt.xlabel('Epochs')\n",
        "    plt.ylabel('Loss')\n",
        "    plt.legend()\n",
        "    plt.show()\n",
        "\n",
        "#plot auc graph\n",
        "def plot_auc_graph(auc_train_list, auc_val_list):\n",
        "    plt.plot(auc_train_list, 'g', label='Training AUC')\n",
        "    plt.plot(auc_val_list, 'b', label='validation AUC')\n",
        "    plt.title('Training and Validation AUC')\n",
        "    plt.xlabel('Epochs')\n",
        "    plt.ylabel('AUC')\n",
        "    plt.legend()\n",
        "    plt.show()\n",
        "\n",
        "\n",
        "#plot auc graph\n",
        "def plot_Accuracy_graph(acc_train_list, acc_val_list):\n",
        "    plt.plot(acc_train_list, 'g', label='Training Accuracy')\n",
        "    plt.plot(acc_val_list, 'b', label='validation Accuracy')\n",
        "    plt.title('Training and Validation Accuracy')\n",
        "    plt.xlabel('Epochs')\n",
        "    plt.ylabel('Accuracy')\n",
        "    plt.legend()\n",
        "    plt.show()\n",
        "\n",
        "#plot roc curve graph\n",
        "def plot_roc(fpr, tpr):\n",
        "    plt.figure()\n",
        "    lw = 2\n",
        "    plt.plot(fpr, tpr, color='darkorange',\n",
        "             lw=lw)\n",
        "    plt.plot([0, 1], [0, 1], color='navy', lw=lw, linestyle='--')\n",
        "    plt.xlim([0.0, 1.0])\n",
        "    plt.ylim([0.0, 1.05])\n",
        "    plt.xlabel('False Positive Rate')\n",
        "    plt.ylabel('True Positive Rate')\n",
        "    plt.title('Roc curve on test set')\n",
        "    plt.legend(loc=\"lower right\")\n",
        "    plt.show()\n",
        "\n"
      ],
      "execution_count": 10,
      "outputs": []
    },
    {
      "cell_type": "code",
      "metadata": {
        "colab": {
          "base_uri": "https://localhost:8080/"
        },
        "id": "N6sI2QpolTOg",
        "outputId": "dcc1b0fb-bccc-4eb8-dfbc-c3cbe42352d3"
      },
      "source": [
        " # train the model using pytorch logistic regression  on resnet18 extracted features data\r\n",
        " tr_loss, val_loss, test_loss, tr_auc, val_auc, untrained_test_loss, untrained_test_auc = training_loop(\r\n",
        "      args,\r\n",
        "      net,\r\n",
        "      X_extracted_features_train,\r\n",
        "      y_extracted_features_train,\r\n",
        "      X_extracted_features_test,\r\n",
        "      y_extracted_features_test,\r\n",
        "      val_dataloader=None,\r\n",
        "      criterion_func=nn.CrossEntropyLoss\r\n",
        "  )"
      ],
      "execution_count": 11,
      "outputs": [
        {
          "output_type": "stream",
          "text": [
            "100%|██████████| 11/11 [00:00<00:00, 95.27it/s]\n",
            "100%|██████████| 11/11 [00:00<00:00, 454.90it/s]\n",
            "100%|██████████| 11/11 [00:00<00:00, 423.48it/s]\n",
            "100%|██████████| 11/11 [00:00<00:00, 429.20it/s]\n",
            "100%|██████████| 11/11 [00:00<00:00, 438.26it/s]\n",
            "100%|██████████| 11/11 [00:00<00:00, 516.13it/s]\n",
            "100%|██████████| 11/11 [00:00<00:00, 472.70it/s]\n",
            "  0%|          | 0/11 [00:00<?, ?it/s]"
          ],
          "name": "stderr"
        },
        {
          "output_type": "stream",
          "text": [
            "Train loss: 8.41e-01, Val loss: 8.03e-01\n",
            "Best val loss is: 8.03e-01\n",
            "Train loss: 7.92e-01, Val loss: 7.81e-01\n",
            "Best val loss is: 7.81e-01\n",
            "Train loss: 7.66e-01, Val loss: 7.50e-01\n",
            "Best val loss is: 7.50e-01\n",
            "Train loss: 7.38e-01, Val loss: 7.23e-01\n",
            "Best val loss is: 7.23e-01\n",
            "Train loss: 7.13e-01, Val loss: 6.98e-01\n",
            "Best val loss is: 6.98e-01\n",
            "Train loss: 6.88e-01, Val loss: 6.75e-01\n",
            "Best val loss is: 6.75e-01\n",
            "Train loss: 6.66e-01, Val loss: 6.53e-01\n",
            "Best val loss is: 6.53e-01\n"
          ],
          "name": "stdout"
        },
        {
          "output_type": "stream",
          "text": [
            "100%|██████████| 11/11 [00:00<00:00, 501.71it/s]\n",
            "100%|██████████| 11/11 [00:00<00:00, 531.25it/s]\n",
            "100%|██████████| 11/11 [00:00<00:00, 555.86it/s]\n",
            "100%|██████████| 11/11 [00:00<00:00, 477.15it/s]\n",
            "100%|██████████| 11/11 [00:00<00:00, 482.05it/s]\n",
            "100%|██████████| 11/11 [00:00<00:00, 522.96it/s]\n",
            "100%|██████████| 11/11 [00:00<00:00, 487.18it/s]\n",
            "100%|██████████| 11/11 [00:00<00:00, 512.24it/s]\n",
            "  0%|          | 0/11 [00:00<?, ?it/s]"
          ],
          "name": "stderr"
        },
        {
          "output_type": "stream",
          "text": [
            "Train loss: 6.45e-01, Val loss: 6.34e-01\n",
            "Best val loss is: 6.34e-01\n",
            "Train loss: 6.26e-01, Val loss: 6.16e-01\n",
            "Best val loss is: 6.16e-01\n",
            "Train loss: 6.08e-01, Val loss: 5.99e-01\n",
            "Best val loss is: 5.99e-01\n",
            "Train loss: 5.92e-01, Val loss: 5.84e-01\n",
            "Best val loss is: 5.84e-01\n",
            "Train loss: 5.77e-01, Val loss: 5.70e-01\n",
            "Best val loss is: 5.70e-01\n",
            "Train loss: 5.63e-01, Val loss: 5.57e-01\n",
            "Best val loss is: 5.57e-01\n",
            "Train loss: 5.50e-01, Val loss: 5.46e-01\n",
            "Best val loss is: 5.46e-01\n",
            "Train loss: 5.38e-01, Val loss: 5.35e-01\n",
            "Best val loss is: 5.35e-01\n"
          ],
          "name": "stdout"
        },
        {
          "output_type": "stream",
          "text": [
            "100%|██████████| 11/11 [00:00<00:00, 416.91it/s]\n",
            "100%|██████████| 11/11 [00:00<00:00, 438.61it/s]\n",
            "100%|██████████| 11/11 [00:00<00:00, 440.30it/s]\n",
            "100%|██████████| 11/11 [00:00<00:00, 483.32it/s]\n",
            "100%|██████████| 11/11 [00:00<00:00, 446.76it/s]\n",
            "100%|██████████| 11/11 [00:00<00:00, 463.53it/s]\n",
            "100%|██████████| 11/11 [00:00<00:00, 389.20it/s]\n",
            "  0%|          | 0/11 [00:00<?, ?it/s]"
          ],
          "name": "stderr"
        },
        {
          "output_type": "stream",
          "text": [
            "Train loss: 5.27e-01, Val loss: 5.25e-01\n",
            "Best val loss is: 5.25e-01\n",
            "Train loss: 5.17e-01, Val loss: 5.16e-01\n",
            "Best val loss is: 5.16e-01\n",
            "Train loss: 5.07e-01, Val loss: 5.08e-01\n",
            "Best val loss is: 5.08e-01\n",
            "Train loss: 4.98e-01, Val loss: 5.00e-01\n",
            "Best val loss is: 5.00e-01\n",
            "Train loss: 4.90e-01, Val loss: 4.93e-01\n",
            "Best val loss is: 4.93e-01\n",
            "Train loss: 4.82e-01, Val loss: 4.86e-01\n",
            "Best val loss is: 4.86e-01\n",
            "Train loss: 4.75e-01, Val loss: 4.80e-01\n",
            "Best val loss is: 4.80e-01\n"
          ],
          "name": "stdout"
        },
        {
          "output_type": "stream",
          "text": [
            "100%|██████████| 11/11 [00:00<00:00, 409.13it/s]\n",
            "100%|██████████| 11/11 [00:00<00:00, 433.02it/s]\n",
            "100%|██████████| 11/11 [00:00<00:00, 427.20it/s]\n",
            "100%|██████████| 11/11 [00:00<00:00, 453.25it/s]\n",
            "100%|██████████| 11/11 [00:00<00:00, 466.27it/s]\n",
            "100%|██████████| 11/11 [00:00<00:00, 446.26it/s]\n",
            "100%|██████████| 11/11 [00:00<00:00, 475.12it/s]\n",
            "  0%|          | 0/11 [00:00<?, ?it/s]"
          ],
          "name": "stderr"
        },
        {
          "output_type": "stream",
          "text": [
            "Train loss: 4.68e-01, Val loss: 4.74e-01\n",
            "Best val loss is: 4.74e-01\n",
            "Train loss: 4.61e-01, Val loss: 4.69e-01\n",
            "Best val loss is: 4.69e-01\n",
            "Train loss: 4.55e-01, Val loss: 4.64e-01\n",
            "Best val loss is: 4.64e-01\n",
            "Train loss: 4.49e-01, Val loss: 4.59e-01\n",
            "Best val loss is: 4.59e-01\n",
            "Train loss: 4.43e-01, Val loss: 4.54e-01\n",
            "Best val loss is: 4.54e-01\n",
            "Train loss: 4.38e-01, Val loss: 4.50e-01\n",
            "Best val loss is: 4.50e-01\n",
            "Train loss: 4.33e-01, Val loss: 4.46e-01\n",
            "Best val loss is: 4.46e-01\n"
          ],
          "name": "stdout"
        },
        {
          "output_type": "stream",
          "text": [
            "100%|██████████| 11/11 [00:00<00:00, 424.27it/s]\n",
            "100%|██████████| 11/11 [00:00<00:00, 479.21it/s]\n",
            "100%|██████████| 11/11 [00:00<00:00, 481.70it/s]\n",
            "100%|██████████| 11/11 [00:00<00:00, 525.68it/s]\n",
            "100%|██████████| 11/11 [00:00<00:00, 519.93it/s]\n",
            "100%|██████████| 11/11 [00:00<00:00, 541.42it/s]\n",
            "100%|██████████| 11/11 [00:00<00:00, 501.84it/s]\n",
            "100%|██████████| 11/11 [00:00<00:00, 579.99it/s]\n",
            "  0%|          | 0/11 [00:00<?, ?it/s]"
          ],
          "name": "stderr"
        },
        {
          "output_type": "stream",
          "text": [
            "Train loss: 4.28e-01, Val loss: 4.42e-01\n",
            "Best val loss is: 4.42e-01\n",
            "Train loss: 4.24e-01, Val loss: 4.38e-01\n",
            "Best val loss is: 4.38e-01\n",
            "Train loss: 4.19e-01, Val loss: 4.35e-01\n",
            "Best val loss is: 4.35e-01\n",
            "Train loss: 4.15e-01, Val loss: 4.32e-01\n",
            "Best val loss is: 4.32e-01\n",
            "Train loss: 4.11e-01, Val loss: 4.29e-01\n",
            "Best val loss is: 4.29e-01\n",
            "Train loss: 4.07e-01, Val loss: 4.26e-01\n",
            "Best val loss is: 4.26e-01\n",
            "Train loss: 4.04e-01, Val loss: 4.23e-01\n",
            "Best val loss is: 4.23e-01\n",
            "Train loss: 4.00e-01, Val loss: 4.20e-01\n",
            "Best val loss is: 4.20e-01\n"
          ],
          "name": "stdout"
        },
        {
          "output_type": "stream",
          "text": [
            "100%|██████████| 11/11 [00:00<00:00, 453.92it/s]\n",
            "100%|██████████| 11/11 [00:00<00:00, 525.66it/s]\n",
            "100%|██████████| 11/11 [00:00<00:00, 525.54it/s]\n",
            "100%|██████████| 11/11 [00:00<00:00, 532.42it/s]\n",
            "100%|██████████| 11/11 [00:00<00:00, 531.40it/s]\n",
            "100%|██████████| 11/11 [00:00<00:00, 463.53it/s]\n",
            "100%|██████████| 11/11 [00:00<00:00, 468.89it/s]\n",
            "100%|██████████| 11/11 [00:00<00:00, 464.79it/s]\n",
            "  0%|          | 0/11 [00:00<?, ?it/s]"
          ],
          "name": "stderr"
        },
        {
          "output_type": "stream",
          "text": [
            "Train loss: 3.97e-01, Val loss: 4.18e-01\n",
            "Best val loss is: 4.18e-01\n",
            "Train loss: 3.93e-01, Val loss: 4.15e-01\n",
            "Best val loss is: 4.15e-01\n",
            "Train loss: 3.90e-01, Val loss: 4.13e-01\n",
            "Best val loss is: 4.13e-01\n",
            "Train loss: 3.87e-01, Val loss: 4.10e-01\n",
            "Best val loss is: 4.10e-01\n",
            "Train loss: 3.84e-01, Val loss: 4.08e-01\n",
            "Best val loss is: 4.08e-01\n",
            "Train loss: 3.81e-01, Val loss: 4.06e-01\n",
            "Best val loss is: 4.06e-01\n",
            "Train loss: 3.78e-01, Val loss: 4.04e-01\n",
            "Best val loss is: 4.04e-01\n",
            "Train loss: 3.76e-01, Val loss: 4.02e-01\n",
            "Best val loss is: 4.02e-01\n"
          ],
          "name": "stdout"
        },
        {
          "output_type": "stream",
          "text": [
            "100%|██████████| 11/11 [00:00<00:00, 422.37it/s]\n",
            "100%|██████████| 11/11 [00:00<00:00, 371.34it/s]\n",
            "100%|██████████| 11/11 [00:00<00:00, 355.34it/s]\n",
            "100%|██████████| 11/11 [00:00<00:00, 425.63it/s]\n",
            "100%|██████████| 11/11 [00:00<00:00, 454.18it/s]\n",
            "100%|██████████| 11/11 [00:00<00:00, 429.29it/s]\n",
            "100%|██████████| 11/11 [00:00<00:00, 471.52it/s]\n"
          ],
          "name": "stderr"
        },
        {
          "output_type": "stream",
          "text": [
            "Train loss: 3.73e-01, Val loss: 4.00e-01\n",
            "Best val loss is: 4.00e-01\n",
            "Train loss: 3.71e-01, Val loss: 3.99e-01\n",
            "Best val loss is: 3.99e-01\n",
            "Train loss: 3.68e-01, Val loss: 3.97e-01\n",
            "Best val loss is: 3.97e-01\n",
            "Train loss: 3.66e-01, Val loss: 3.95e-01\n",
            "Best val loss is: 3.95e-01\n",
            "Train loss: 3.64e-01, Val loss: 3.94e-01\n",
            "Best val loss is: 3.94e-01\n",
            "Train loss: 3.61e-01, Val loss: 3.92e-01\n",
            "Best val loss is: 3.92e-01\n"
          ],
          "name": "stdout"
        },
        {
          "output_type": "stream",
          "text": [
            "100%|██████████| 11/11 [00:00<00:00, 475.80it/s]\n",
            "100%|██████████| 11/11 [00:00<00:00, 453.57it/s]\n",
            "100%|██████████| 11/11 [00:00<00:00, 450.82it/s]\n",
            "100%|██████████| 11/11 [00:00<00:00, 459.22it/s]\n",
            "100%|██████████| 11/11 [00:00<00:00, 465.16it/s]\n",
            "100%|██████████| 11/11 [00:00<00:00, 478.98it/s]\n",
            "  0%|          | 0/11 [00:00<?, ?it/s]"
          ],
          "name": "stderr"
        },
        {
          "output_type": "stream",
          "text": [
            "Train loss: 3.59e-01, Val loss: 3.91e-01\n",
            "Best val loss is: 3.91e-01\n",
            "Train loss: 3.57e-01, Val loss: 3.89e-01\n",
            "Best val loss is: 3.89e-01\n",
            "Train loss: 3.55e-01, Val loss: 3.88e-01\n",
            "Best val loss is: 3.88e-01\n",
            "Train loss: 3.53e-01, Val loss: 3.86e-01\n",
            "Best val loss is: 3.86e-01\n",
            "Train loss: 3.51e-01, Val loss: 3.85e-01\n",
            "Best val loss is: 3.85e-01\n",
            "Train loss: 3.49e-01, Val loss: 3.84e-01\n",
            "Best val loss is: 3.84e-01\n",
            "Train loss: 3.47e-01, Val loss: 3.83e-01\n",
            "Best val loss is: 3.83e-01\n"
          ],
          "name": "stdout"
        },
        {
          "output_type": "stream",
          "text": [
            "100%|██████████| 11/11 [00:00<00:00, 380.64it/s]\n",
            "100%|██████████| 11/11 [00:00<00:00, 410.53it/s]\n",
            "100%|██████████| 11/11 [00:00<00:00, 406.90it/s]\n",
            "100%|██████████| 11/11 [00:00<00:00, 303.23it/s]\n",
            "100%|██████████| 11/11 [00:00<00:00, 406.49it/s]\n",
            "100%|██████████| 11/11 [00:00<00:00, 402.74it/s]\n",
            "  0%|          | 0/11 [00:00<?, ?it/s]"
          ],
          "name": "stderr"
        },
        {
          "output_type": "stream",
          "text": [
            "Train loss: 3.45e-01, Val loss: 3.81e-01\n",
            "Best val loss is: 3.81e-01\n",
            "Train loss: 3.44e-01, Val loss: 3.80e-01\n",
            "Best val loss is: 3.80e-01\n",
            "Train loss: 3.42e-01, Val loss: 3.79e-01\n",
            "Best val loss is: 3.79e-01\n",
            "Train loss: 3.40e-01, Val loss: 3.78e-01\n",
            "Best val loss is: 3.78e-01\n",
            "Train loss: 3.39e-01, Val loss: 3.77e-01\n",
            "Best val loss is: 3.77e-01\n",
            "Train loss: 3.37e-01, Val loss: 3.76e-01\n",
            "Best val loss is: 3.76e-01\n"
          ],
          "name": "stdout"
        },
        {
          "output_type": "stream",
          "text": [
            "100%|██████████| 11/11 [00:00<00:00, 373.45it/s]\n",
            "100%|██████████| 11/11 [00:00<00:00, 432.85it/s]\n",
            "100%|██████████| 11/11 [00:00<00:00, 424.95it/s]\n",
            "100%|██████████| 11/11 [00:00<00:00, 449.18it/s]\n",
            "100%|██████████| 11/11 [00:00<00:00, 426.25it/s]\n",
            "100%|██████████| 11/11 [00:00<00:00, 483.28it/s]\n",
            "100%|██████████| 11/11 [00:00<00:00, 480.41it/s]\n",
            "  0%|          | 0/11 [00:00<?, ?it/s]"
          ],
          "name": "stderr"
        },
        {
          "output_type": "stream",
          "text": [
            "Train loss: 3.36e-01, Val loss: 3.75e-01\n",
            "Best val loss is: 3.75e-01\n",
            "Train loss: 3.34e-01, Val loss: 3.74e-01\n",
            "Best val loss is: 3.74e-01\n",
            "Train loss: 3.33e-01, Val loss: 3.73e-01\n",
            "Best val loss is: 3.73e-01\n",
            "Train loss: 3.31e-01, Val loss: 3.72e-01\n",
            "Best val loss is: 3.72e-01\n",
            "Train loss: 3.30e-01, Val loss: 3.71e-01\n",
            "Best val loss is: 3.71e-01\n",
            "Train loss: 3.28e-01, Val loss: 3.71e-01\n",
            "Best val loss is: 3.71e-01\n",
            "Train loss: 3.27e-01, Val loss: 3.70e-01\n",
            "Best val loss is: 3.70e-01\n"
          ],
          "name": "stdout"
        },
        {
          "output_type": "stream",
          "text": [
            "100%|██████████| 11/11 [00:00<00:00, 397.11it/s]\n",
            "100%|██████████| 11/11 [00:00<00:00, 410.70it/s]\n",
            "100%|██████████| 11/11 [00:00<00:00, 481.81it/s]\n",
            "100%|██████████| 11/11 [00:00<00:00, 513.72it/s]\n",
            "100%|██████████| 11/11 [00:00<00:00, 513.49it/s]\n",
            "100%|██████████| 11/11 [00:00<00:00, 529.52it/s]\n",
            "100%|██████████| 11/11 [00:00<00:00, 414.36it/s]\n",
            "100%|██████████| 11/11 [00:00<00:00, 515.01it/s]\n"
          ],
          "name": "stderr"
        },
        {
          "output_type": "stream",
          "text": [
            "Train loss: 3.25e-01, Val loss: 3.69e-01\n",
            "Best val loss is: 3.69e-01\n",
            "Train loss: 3.24e-01, Val loss: 3.68e-01\n",
            "Best val loss is: 3.68e-01\n",
            "Train loss: 3.23e-01, Val loss: 3.67e-01\n",
            "Best val loss is: 3.67e-01\n",
            "Train loss: 3.22e-01, Val loss: 3.67e-01\n",
            "Best val loss is: 3.67e-01\n",
            "Train loss: 3.20e-01, Val loss: 3.66e-01\n",
            "Best val loss is: 3.66e-01\n",
            "Train loss: 3.19e-01, Val loss: 3.65e-01\n",
            "Best val loss is: 3.65e-01\n",
            "Train loss: 3.18e-01, Val loss: 3.65e-01\n",
            "Best val loss is: 3.65e-01\n",
            "Train loss: 3.17e-01, Val loss: 3.64e-01\n",
            "Best val loss is: 3.64e-01\n"
          ],
          "name": "stdout"
        },
        {
          "output_type": "stream",
          "text": [
            "100%|██████████| 11/11 [00:00<00:00, 442.04it/s]\n",
            "100%|██████████| 11/11 [00:00<00:00, 444.13it/s]\n",
            "100%|██████████| 11/11 [00:00<00:00, 490.63it/s]\n",
            "100%|██████████| 11/11 [00:00<00:00, 497.57it/s]\n",
            "100%|██████████| 11/11 [00:00<00:00, 517.92it/s]\n",
            "100%|██████████| 11/11 [00:00<00:00, 546.24it/s]\n",
            "100%|██████████| 11/11 [00:00<00:00, 555.62it/s]\n",
            "100%|██████████| 11/11 [00:00<00:00, 548.14it/s]\n",
            "  0%|          | 0/11 [00:00<?, ?it/s]"
          ],
          "name": "stderr"
        },
        {
          "output_type": "stream",
          "text": [
            "Train loss: 3.16e-01, Val loss: 3.63e-01\n",
            "Best val loss is: 3.63e-01\n",
            "Train loss: 3.15e-01, Val loss: 3.63e-01\n",
            "Best val loss is: 3.63e-01\n",
            "Train loss: 3.13e-01, Val loss: 3.62e-01\n",
            "Best val loss is: 3.62e-01\n",
            "Train loss: 3.12e-01, Val loss: 3.61e-01\n",
            "Best val loss is: 3.61e-01\n",
            "Train loss: 3.11e-01, Val loss: 3.61e-01\n",
            "Best val loss is: 3.61e-01\n",
            "Train loss: 3.10e-01, Val loss: 3.60e-01\n",
            "Best val loss is: 3.60e-01\n",
            "Train loss: 3.09e-01, Val loss: 3.60e-01\n",
            "Best val loss is: 3.60e-01\n",
            "Train loss: 3.08e-01, Val loss: 3.59e-01\n",
            "Best val loss is: 3.59e-01\n"
          ],
          "name": "stdout"
        },
        {
          "output_type": "stream",
          "text": [
            "100%|██████████| 11/11 [00:00<00:00, 459.58it/s]\n",
            "100%|██████████| 11/11 [00:00<00:00, 509.24it/s]\n",
            "100%|██████████| 11/11 [00:00<00:00, 503.08it/s]\n",
            "100%|██████████| 11/11 [00:00<00:00, 538.77it/s]\n",
            "100%|██████████| 11/11 [00:00<00:00, 514.85it/s]\n",
            "100%|██████████| 11/11 [00:00<00:00, 533.78it/s]\n",
            "100%|██████████| 11/11 [00:00<00:00, 512.81it/s]\n",
            "100%|██████████| 11/11 [00:00<00:00, 535.53it/s]\n",
            "  0%|          | 0/11 [00:00<?, ?it/s]"
          ],
          "name": "stderr"
        },
        {
          "output_type": "stream",
          "text": [
            "Train loss: 3.07e-01, Val loss: 3.59e-01\n",
            "Best val loss is: 3.59e-01\n",
            "Train loss: 3.06e-01, Val loss: 3.58e-01\n",
            "Best val loss is: 3.58e-01\n",
            "Train loss: 3.05e-01, Val loss: 3.58e-01\n",
            "Best val loss is: 3.58e-01\n",
            "Train loss: 3.04e-01, Val loss: 3.57e-01\n",
            "Best val loss is: 3.57e-01\n",
            "Train loss: 3.03e-01, Val loss: 3.57e-01\n",
            "Best val loss is: 3.57e-01\n",
            "Train loss: 3.02e-01, Val loss: 3.56e-01\n",
            "Best val loss is: 3.56e-01\n",
            "Train loss: 3.01e-01, Val loss: 3.56e-01\n",
            "Best val loss is: 3.56e-01\n",
            "Train loss: 3.01e-01, Val loss: 3.55e-01\n",
            "Best val loss is: 3.55e-01\n"
          ],
          "name": "stdout"
        },
        {
          "output_type": "stream",
          "text": [
            "100%|██████████| 11/11 [00:00<00:00, 424.49it/s]\n",
            "100%|██████████| 11/11 [00:00<00:00, 425.05it/s]\n",
            "100%|██████████| 11/11 [00:00<00:00, 528.67it/s]\n",
            "100%|██████████| 11/11 [00:00<00:00, 501.78it/s]\n",
            "100%|██████████| 11/11 [00:00<00:00, 386.14it/s]\n",
            "100%|██████████| 11/11 [00:00<00:00, 415.68it/s]\n",
            "100%|██████████| 11/11 [00:00<00:00, 402.83it/s]\n",
            "  0%|          | 0/11 [00:00<?, ?it/s]"
          ],
          "name": "stderr"
        },
        {
          "output_type": "stream",
          "text": [
            "Train loss: 3.00e-01, Val loss: 3.55e-01\n",
            "Best val loss is: 3.55e-01\n",
            "Train loss: 2.99e-01, Val loss: 3.55e-01\n",
            "Best val loss is: 3.55e-01\n",
            "Train loss: 2.98e-01, Val loss: 3.54e-01\n",
            "Best val loss is: 3.54e-01\n",
            "Train loss: 2.97e-01, Val loss: 3.54e-01\n",
            "Best val loss is: 3.54e-01\n",
            "Train loss: 2.96e-01, Val loss: 3.53e-01\n",
            "Best val loss is: 3.53e-01\n",
            "Train loss: 2.95e-01, Val loss: 3.53e-01\n",
            "Best val loss is: 3.53e-01\n",
            "Train loss: 2.95e-01, Val loss: 3.53e-01\n",
            "Best val loss is: 3.53e-01\n"
          ],
          "name": "stdout"
        },
        {
          "output_type": "stream",
          "text": [
            "100%|██████████| 11/11 [00:00<00:00, 381.21it/s]\n",
            "100%|██████████| 11/11 [00:00<00:00, 467.12it/s]\n",
            "100%|██████████| 11/11 [00:00<00:00, 479.73it/s]\n",
            "100%|██████████| 11/11 [00:00<00:00, 496.05it/s]\n",
            "100%|██████████| 11/11 [00:00<00:00, 466.33it/s]\n",
            "100%|██████████| 11/11 [00:00<00:00, 484.26it/s]\n",
            "100%|██████████| 11/11 [00:00<00:00, 517.42it/s]\n",
            "100%|██████████| 11/11 [00:00<00:00, 443.47it/s]"
          ],
          "name": "stderr"
        },
        {
          "output_type": "stream",
          "text": [
            "Train loss: 2.94e-01, Val loss: 3.52e-01\n",
            "Best val loss is: 3.52e-01\n",
            "Train loss: 2.93e-01, Val loss: 3.52e-01\n",
            "Best val loss is: 3.52e-01\n",
            "Train loss: 2.92e-01, Val loss: 3.52e-01\n",
            "Best val loss is: 3.52e-01\n",
            "Train loss: 2.92e-01, Val loss: 3.51e-01\n",
            "Best val loss is: 3.51e-01\n",
            "Train loss: 2.91e-01, Val loss: 3.51e-01\n",
            "Best val loss is: 3.51e-01\n",
            "Train loss: 2.90e-01, Val loss: 3.51e-01\n",
            "Best val loss is: 3.51e-01\n",
            "Train loss: 2.89e-01, Val loss: 3.50e-01\n",
            "Best val loss is: 3.50e-01\n",
            "Train loss: 2.89e-01, Val loss: 3.50e-01\n",
            "Best val loss is: 3.50e-01\n"
          ],
          "name": "stdout"
        },
        {
          "output_type": "stream",
          "text": [
            "\n",
            "100%|██████████| 11/11 [00:00<00:00, 426.40it/s]\n",
            "100%|██████████| 11/11 [00:00<00:00, 469.20it/s]\n",
            "100%|██████████| 11/11 [00:00<00:00, 470.27it/s]\n",
            "100%|██████████| 11/11 [00:00<00:00, 461.38it/s]\n",
            "100%|██████████| 11/11 [00:00<00:00, 479.06it/s]\n",
            "100%|██████████| 11/11 [00:00<00:00, 471.78it/s]\n",
            "100%|██████████| 11/11 [00:00<00:00, 454.52it/s]\n",
            "100%|██████████| 11/11 [00:00<00:00, 463.79it/s]"
          ],
          "name": "stderr"
        },
        {
          "output_type": "stream",
          "text": [
            "Train loss: 2.88e-01, Val loss: 3.50e-01\n",
            "Best val loss is: 3.50e-01\n",
            "Train loss: 2.87e-01, Val loss: 3.49e-01\n",
            "Best val loss is: 3.49e-01\n",
            "Train loss: 2.87e-01, Val loss: 3.49e-01\n",
            "Best val loss is: 3.49e-01\n",
            "Train loss: 2.86e-01, Val loss: 3.49e-01\n",
            "Best val loss is: 3.49e-01\n",
            "Train loss: 2.85e-01, Val loss: 3.48e-01\n",
            "Best val loss is: 3.48e-01\n",
            "Train loss: 2.84e-01, Val loss: 3.48e-01\n",
            "Best val loss is: 3.48e-01\n",
            "Train loss: 2.84e-01, Val loss: 3.48e-01\n",
            "Best val loss is: 3.48e-01\n",
            "Train loss: 2.83e-01, Val loss: 3.48e-01\n",
            "Best val loss is: 3.48e-01\n"
          ],
          "name": "stdout"
        },
        {
          "output_type": "stream",
          "text": [
            "\n",
            "100%|██████████| 11/11 [00:00<00:00, 474.40it/s]\n",
            "100%|██████████| 11/11 [00:00<00:00, 478.96it/s]\n",
            "100%|██████████| 11/11 [00:00<00:00, 398.99it/s]\n",
            "100%|██████████| 11/11 [00:00<00:00, 422.40it/s]\n",
            "100%|██████████| 11/11 [00:00<00:00, 431.55it/s]\n",
            "100%|██████████| 11/11 [00:00<00:00, 456.81it/s]\n",
            "100%|██████████| 11/11 [00:00<00:00, 479.32it/s]\n",
            "  0%|          | 0/11 [00:00<?, ?it/s]"
          ],
          "name": "stderr"
        },
        {
          "output_type": "stream",
          "text": [
            "Train loss: 2.83e-01, Val loss: 3.47e-01\n",
            "Best val loss is: 3.47e-01\n",
            "Train loss: 2.82e-01, Val loss: 3.47e-01\n",
            "Best val loss is: 3.47e-01\n",
            "Train loss: 2.81e-01, Val loss: 3.47e-01\n",
            "Best val loss is: 3.47e-01\n",
            "Train loss: 2.81e-01, Val loss: 3.47e-01\n",
            "Best val loss is: 3.47e-01\n",
            "Train loss: 2.80e-01, Val loss: 3.46e-01\n",
            "Best val loss is: 3.46e-01\n",
            "Train loss: 2.79e-01, Val loss: 3.46e-01\n",
            "Best val loss is: 3.46e-01\n",
            "Train loss: 2.79e-01, Val loss: 3.46e-01\n",
            "Best val loss is: 3.46e-01\n"
          ],
          "name": "stdout"
        },
        {
          "output_type": "stream",
          "text": [
            "100%|██████████| 11/11 [00:00<00:00, 418.17it/s]\n",
            "100%|██████████| 11/11 [00:00<00:00, 505.91it/s]\n",
            "100%|██████████| 11/11 [00:00<00:00, 459.43it/s]\n",
            "100%|██████████| 11/11 [00:00<00:00, 491.70it/s]\n",
            "100%|██████████| 11/11 [00:00<00:00, 410.50it/s]\n",
            "100%|██████████| 11/11 [00:00<00:00, 437.90it/s]\n",
            "100%|██████████| 11/11 [00:00<00:00, 441.05it/s]\n",
            "  0%|          | 0/11 [00:00<?, ?it/s]"
          ],
          "name": "stderr"
        },
        {
          "output_type": "stream",
          "text": [
            "Train loss: 2.78e-01, Val loss: 3.46e-01\n",
            "Best val loss is: 3.46e-01\n",
            "Train loss: 2.78e-01, Val loss: 3.46e-01\n",
            "Best val loss is: 3.46e-01\n",
            "Train loss: 2.77e-01, Val loss: 3.45e-01\n",
            "Best val loss is: 3.45e-01\n",
            "Train loss: 2.76e-01, Val loss: 3.45e-01\n",
            "Best val loss is: 3.45e-01\n",
            "Train loss: 2.76e-01, Val loss: 3.45e-01\n",
            "Best val loss is: 3.45e-01\n",
            "Train loss: 2.75e-01, Val loss: 3.45e-01\n",
            "Best val loss is: 3.45e-01\n",
            "Train loss: 2.75e-01, Val loss: 3.45e-01\n",
            "Best val loss is: 3.45e-01\n"
          ],
          "name": "stdout"
        },
        {
          "output_type": "stream",
          "text": [
            "100%|██████████| 11/11 [00:00<00:00, 444.47it/s]\n",
            "100%|██████████| 11/11 [00:00<00:00, 514.99it/s]\n",
            "100%|██████████| 11/11 [00:00<00:00, 528.94it/s]\n",
            "100%|██████████| 11/11 [00:00<00:00, 525.52it/s]\n",
            "100%|██████████| 11/11 [00:00<00:00, 542.79it/s]\n",
            "100%|██████████| 11/11 [00:00<00:00, 438.44it/s]\n",
            "100%|██████████| 11/11 [00:00<00:00, 466.83it/s]\n",
            "100%|██████████| 11/11 [00:00<00:00, 402.62it/s]\n"
          ],
          "name": "stderr"
        },
        {
          "output_type": "stream",
          "text": [
            "Train loss: 2.74e-01, Val loss: 3.44e-01\n",
            "Best val loss is: 3.44e-01\n",
            "Train loss: 2.74e-01, Val loss: 3.44e-01\n",
            "Best val loss is: 3.44e-01\n",
            "Train loss: 2.73e-01, Val loss: 3.44e-01\n",
            "Best val loss is: 3.44e-01\n",
            "Train loss: 2.73e-01, Val loss: 3.44e-01\n",
            "Best val loss is: 3.44e-01\n",
            "Train loss: 2.72e-01, Val loss: 3.44e-01\n",
            "Best val loss is: 3.44e-01\n",
            "Train loss: 2.72e-01, Val loss: 3.44e-01\n",
            "Best val loss is: 3.44e-01\n",
            "Train loss: 2.71e-01, Val loss: 3.43e-01\n",
            "Best val loss is: 3.43e-01\n",
            "Train loss: 2.71e-01, Val loss: 3.43e-01\n",
            "Best val loss is: 3.43e-01\n"
          ],
          "name": "stdout"
        },
        {
          "output_type": "stream",
          "text": [
            "100%|██████████| 11/11 [00:00<00:00, 480.89it/s]\n",
            "100%|██████████| 11/11 [00:00<00:00, 522.70it/s]\n",
            "100%|██████████| 11/11 [00:00<00:00, 543.74it/s]\n",
            "100%|██████████| 11/11 [00:00<00:00, 486.70it/s]\n",
            "100%|██████████| 11/11 [00:00<00:00, 537.83it/s]\n",
            "100%|██████████| 11/11 [00:00<00:00, 534.86it/s]\n",
            "100%|██████████| 11/11 [00:00<00:00, 524.66it/s]\n",
            "100%|██████████| 11/11 [00:00<00:00, 528.29it/s]\n",
            "  0%|          | 0/11 [00:00<?, ?it/s]"
          ],
          "name": "stderr"
        },
        {
          "output_type": "stream",
          "text": [
            "Train loss: 2.70e-01, Val loss: 3.43e-01\n",
            "Best val loss is: 3.43e-01\n",
            "Train loss: 2.70e-01, Val loss: 3.43e-01\n",
            "Best val loss is: 3.43e-01\n",
            "Train loss: 2.69e-01, Val loss: 3.43e-01\n",
            "Best val loss is: 3.43e-01\n",
            "Train loss: 2.69e-01, Val loss: 3.43e-01\n",
            "Best val loss is: 3.43e-01\n",
            "Train loss: 2.68e-01, Val loss: 3.43e-01\n",
            "Best val loss is: 3.43e-01\n",
            "Train loss: 2.68e-01, Val loss: 3.42e-01\n",
            "Best val loss is: 3.42e-01\n",
            "Train loss: 2.67e-01, Val loss: 3.42e-01\n",
            "Best val loss is: 3.42e-01\n",
            "Train loss: 2.67e-01, Val loss: 3.42e-01\n",
            "Best val loss is: 3.42e-01\n"
          ],
          "name": "stdout"
        },
        {
          "output_type": "stream",
          "text": [
            "100%|██████████| 11/11 [00:00<00:00, 457.53it/s]\n",
            "100%|██████████| 11/11 [00:00<00:00, 479.24it/s]\n",
            "100%|██████████| 11/11 [00:00<00:00, 473.52it/s]\n",
            "100%|██████████| 11/11 [00:00<00:00, 460.65it/s]\n",
            "100%|██████████| 11/11 [00:00<00:00, 440.39it/s]\n",
            "100%|██████████| 11/11 [00:00<00:00, 466.75it/s]\n",
            "100%|██████████| 11/11 [00:00<00:00, 439.83it/s]\n",
            "  0%|          | 0/11 [00:00<?, ?it/s]"
          ],
          "name": "stderr"
        },
        {
          "output_type": "stream",
          "text": [
            "Train loss: 2.66e-01, Val loss: 3.42e-01\n",
            "Best val loss is: 3.42e-01\n",
            "Train loss: 2.66e-01, Val loss: 3.42e-01\n",
            "Best val loss is: 3.42e-01\n",
            "Train loss: 2.65e-01, Val loss: 3.42e-01\n",
            "Best val loss is: 3.42e-01\n",
            "Train loss: 2.65e-01, Val loss: 3.42e-01\n",
            "Best val loss is: 3.42e-01\n",
            "Train loss: 2.64e-01, Val loss: 3.42e-01\n",
            "Best val loss is: 3.42e-01\n",
            "Train loss: 2.64e-01, Val loss: 3.41e-01\n",
            "Best val loss is: 3.41e-01\n",
            "Train loss: 2.63e-01, Val loss: 3.41e-01\n",
            "Best val loss is: 3.41e-01\n"
          ],
          "name": "stdout"
        },
        {
          "output_type": "stream",
          "text": [
            "100%|██████████| 11/11 [00:00<00:00, 520.33it/s]\n",
            "100%|██████████| 11/11 [00:00<00:00, 523.77it/s]\n",
            "100%|██████████| 11/11 [00:00<00:00, 506.40it/s]\n",
            "100%|██████████| 11/11 [00:00<00:00, 534.34it/s]\n",
            "100%|██████████| 11/11 [00:00<00:00, 524.25it/s]\n",
            "100%|██████████| 11/11 [00:00<00:00, 525.85it/s]\n",
            "100%|██████████| 11/11 [00:00<00:00, 513.29it/s]\n",
            "100%|██████████| 11/11 [00:00<00:00, 524.65it/s]\n",
            "  0%|          | 0/11 [00:00<?, ?it/s]"
          ],
          "name": "stderr"
        },
        {
          "output_type": "stream",
          "text": [
            "Train loss: 2.63e-01, Val loss: 3.41e-01\n",
            "Best val loss is: 3.41e-01\n",
            "Train loss: 2.63e-01, Val loss: 3.41e-01\n",
            "Best val loss is: 3.41e-01\n",
            "Train loss: 2.62e-01, Val loss: 3.41e-01\n",
            "Best val loss is: 3.41e-01\n",
            "Train loss: 2.62e-01, Val loss: 3.41e-01\n",
            "Best val loss is: 3.41e-01\n",
            "Train loss: 2.61e-01, Val loss: 3.41e-01\n",
            "Best val loss is: 3.41e-01\n",
            "Train loss: 2.61e-01, Val loss: 3.41e-01\n",
            "Best val loss is: 3.41e-01\n",
            "Train loss: 2.60e-01, Val loss: 3.41e-01\n",
            "Best val loss is: 3.41e-01\n",
            "Train loss: 2.60e-01, Val loss: 3.41e-01\n",
            "Best val loss is: 3.41e-01\n"
          ],
          "name": "stdout"
        },
        {
          "output_type": "stream",
          "text": [
            "100%|██████████| 11/11 [00:00<00:00, 462.49it/s]\n",
            "100%|██████████| 11/11 [00:00<00:00, 485.35it/s]\n",
            "100%|██████████| 11/11 [00:00<00:00, 380.18it/s]\n",
            "100%|██████████| 11/11 [00:00<00:00, 514.07it/s]\n",
            "100%|██████████| 11/11 [00:00<00:00, 526.50it/s]\n",
            "100%|██████████| 11/11 [00:00<00:00, 503.51it/s]\n",
            "100%|██████████| 11/11 [00:00<00:00, 530.91it/s]\n",
            "100%|██████████| 11/11 [00:00<00:00, 514.64it/s]\n"
          ],
          "name": "stderr"
        },
        {
          "output_type": "stream",
          "text": [
            "Train loss: 2.60e-01, Val loss: 3.40e-01\n",
            "Best val loss is: 3.40e-01\n",
            "Train loss: 2.59e-01, Val loss: 3.40e-01\n",
            "Best val loss is: 3.40e-01\n",
            "Train loss: 2.59e-01, Val loss: 3.40e-01\n",
            "Best val loss is: 3.40e-01\n",
            "Train loss: 2.58e-01, Val loss: 3.40e-01\n",
            "Best val loss is: 3.40e-01\n",
            "Train loss: 2.58e-01, Val loss: 3.40e-01\n",
            "Best val loss is: 3.40e-01\n",
            "Train loss: 2.58e-01, Val loss: 3.40e-01\n",
            "Best val loss is: 3.40e-01\n",
            "Train loss: 2.57e-01, Val loss: 3.40e-01\n",
            "Best val loss is: 3.40e-01\n"
          ],
          "name": "stdout"
        },
        {
          "output_type": "stream",
          "text": [
            "100%|██████████| 11/11 [00:00<00:00, 490.50it/s]\n",
            "100%|██████████| 11/11 [00:00<00:00, 544.96it/s]\n",
            "100%|██████████| 11/11 [00:00<00:00, 542.35it/s]\n",
            "100%|██████████| 11/11 [00:00<00:00, 527.63it/s]\n",
            "100%|██████████| 11/11 [00:00<00:00, 517.44it/s]\n",
            "100%|██████████| 11/11 [00:00<00:00, 455.97it/s]\n",
            "100%|██████████| 11/11 [00:00<00:00, 374.33it/s]\n",
            "  0%|          | 0/11 [00:00<?, ?it/s]"
          ],
          "name": "stderr"
        },
        {
          "output_type": "stream",
          "text": [
            "Train loss: 2.57e-01, Val loss: 3.40e-01\n",
            "Best val loss is: 3.40e-01\n",
            "Train loss: 2.56e-01, Val loss: 3.40e-01\n",
            "Best val loss is: 3.40e-01\n",
            "Train loss: 2.56e-01, Val loss: 3.40e-01\n",
            "Best val loss is: 3.40e-01\n",
            "Train loss: 2.56e-01, Val loss: 3.40e-01\n",
            "Best val loss is: 3.40e-01\n",
            "Train loss: 2.55e-01, Val loss: 3.40e-01\n",
            "Best val loss is: 3.40e-01\n",
            "Train loss: 2.55e-01, Val loss: 3.40e-01\n",
            "Best val loss is: 3.40e-01\n",
            "Train loss: 2.54e-01, Val loss: 3.40e-01\n",
            "Best val loss is: 3.40e-01\n",
            "Train loss: 2.54e-01, Val loss: 3.39e-01\n",
            "Best val loss is: 3.39e-01\n"
          ],
          "name": "stdout"
        },
        {
          "output_type": "stream",
          "text": [
            "100%|██████████| 11/11 [00:00<00:00, 360.22it/s]\n",
            "100%|██████████| 11/11 [00:00<00:00, 446.18it/s]\n",
            "100%|██████████| 11/11 [00:00<00:00, 465.64it/s]\n",
            "100%|██████████| 11/11 [00:00<00:00, 278.31it/s]\n",
            "100%|██████████| 11/11 [00:00<00:00, 466.08it/s]\n",
            "100%|██████████| 11/11 [00:00<00:00, 474.56it/s]\n",
            "100%|██████████| 11/11 [00:00<00:00, 471.60it/s]\n",
            "  0%|          | 0/11 [00:00<?, ?it/s]"
          ],
          "name": "stderr"
        },
        {
          "output_type": "stream",
          "text": [
            "Train loss: 2.54e-01, Val loss: 3.39e-01\n",
            "Best val loss is: 3.39e-01\n",
            "Train loss: 2.53e-01, Val loss: 3.39e-01\n",
            "Best val loss is: 3.39e-01\n",
            "Train loss: 2.53e-01, Val loss: 3.39e-01\n",
            "Best val loss is: 3.39e-01\n",
            "Train loss: 2.53e-01, Val loss: 3.39e-01\n",
            "Best val loss is: 3.39e-01\n",
            "Train loss: 2.52e-01, Val loss: 3.39e-01\n",
            "Best val loss is: 3.39e-01\n",
            "Train loss: 2.52e-01, Val loss: 3.39e-01\n",
            "Best val loss is: 3.39e-01\n",
            "Train loss: 2.52e-01, Val loss: 3.39e-01\n",
            "Best val loss is: 3.39e-01\n"
          ],
          "name": "stdout"
        },
        {
          "output_type": "stream",
          "text": [
            "100%|██████████| 11/11 [00:00<00:00, 407.21it/s]\n",
            "100%|██████████| 11/11 [00:00<00:00, 494.62it/s]\n",
            "100%|██████████| 11/11 [00:00<00:00, 521.88it/s]\n",
            "100%|██████████| 11/11 [00:00<00:00, 535.95it/s]\n",
            "100%|██████████| 11/11 [00:00<00:00, 546.96it/s]\n",
            "100%|██████████| 11/11 [00:00<00:00, 496.44it/s]\n",
            "100%|██████████| 11/11 [00:00<00:00, 527.63it/s]\n",
            "100%|██████████| 11/11 [00:00<00:00, 513.76it/s]\n",
            "  0%|          | 0/11 [00:00<?, ?it/s]"
          ],
          "name": "stderr"
        },
        {
          "output_type": "stream",
          "text": [
            "Train loss: 2.51e-01, Val loss: 3.39e-01\n",
            "Best val loss is: 3.39e-01\n",
            "Train loss: 2.51e-01, Val loss: 3.39e-01\n",
            "Best val loss is: 3.39e-01\n",
            "Train loss: 2.51e-01, Val loss: 3.39e-01\n",
            "Best val loss is: 3.39e-01\n",
            "Train loss: 2.50e-01, Val loss: 3.39e-01\n",
            "Best val loss is: 3.39e-01\n",
            "Train loss: 2.50e-01, Val loss: 3.39e-01\n",
            "Best val loss is: 3.39e-01\n",
            "Train loss: 2.50e-01, Val loss: 3.39e-01\n",
            "Best val loss is: 3.39e-01\n",
            "Train loss: 2.49e-01, Val loss: 3.39e-01\n",
            "Best val loss is: 3.39e-01\n",
            "Train loss: 2.49e-01, Val loss: 3.39e-01\n",
            "Best val loss is: 3.39e-01\n"
          ],
          "name": "stdout"
        },
        {
          "output_type": "stream",
          "text": [
            "100%|██████████| 11/11 [00:00<00:00, 474.69it/s]\n",
            "100%|██████████| 11/11 [00:00<00:00, 533.63it/s]\n",
            "100%|██████████| 11/11 [00:00<00:00, 530.96it/s]\n",
            "100%|██████████| 11/11 [00:00<00:00, 531.65it/s]\n",
            "100%|██████████| 11/11 [00:00<00:00, 533.88it/s]\n",
            "100%|██████████| 11/11 [00:00<00:00, 505.33it/s]\n",
            "100%|██████████| 11/11 [00:00<00:00, 474.43it/s]\n",
            "100%|██████████| 11/11 [00:00<00:00, 438.23it/s]\n",
            "  0%|          | 0/11 [00:00<?, ?it/s]"
          ],
          "name": "stderr"
        },
        {
          "output_type": "stream",
          "text": [
            "Train loss: 2.49e-01, Val loss: 3.39e-01\n",
            "Best val loss is: 3.39e-01\n",
            "Train loss: 2.48e-01, Val loss: 3.39e-01\n",
            "Best val loss is: 3.39e-01\n",
            "Train loss: 2.48e-01, Val loss: 3.39e-01\n",
            "Best val loss is: 3.39e-01\n",
            "Train loss: 2.48e-01, Val loss: 3.39e-01\n",
            "Best val loss is: 3.39e-01\n",
            "Train loss: 2.47e-01, Val loss: 3.39e-01\n",
            "Best val loss is: 3.39e-01\n",
            "Train loss: 2.47e-01, Val loss: 3.39e-01\n",
            "Best val loss is: 3.39e-01\n",
            "Train loss: 2.47e-01, Val loss: 3.38e-01\n",
            "Best val loss is: 3.38e-01\n",
            "Train loss: 2.46e-01, Val loss: 3.38e-01\n",
            "Best val loss is: 3.38e-01\n"
          ],
          "name": "stdout"
        },
        {
          "output_type": "stream",
          "text": [
            "100%|██████████| 11/11 [00:00<00:00, 477.76it/s]\n",
            "100%|██████████| 11/11 [00:00<00:00, 534.21it/s]\n",
            "100%|██████████| 11/11 [00:00<00:00, 520.40it/s]\n",
            "100%|██████████| 11/11 [00:00<00:00, 527.14it/s]\n",
            "100%|██████████| 11/11 [00:00<00:00, 533.21it/s]\n",
            "100%|██████████| 11/11 [00:00<00:00, 530.84it/s]\n",
            "100%|██████████| 11/11 [00:00<00:00, 533.94it/s]\n",
            "100%|██████████| 11/11 [00:00<00:00, 534.89it/s]\n",
            "  0%|          | 0/11 [00:00<?, ?it/s]"
          ],
          "name": "stderr"
        },
        {
          "output_type": "stream",
          "text": [
            "Train loss: 2.46e-01, Val loss: 3.38e-01\n",
            "Best val loss is: 3.38e-01\n",
            "Train loss: 2.46e-01, Val loss: 3.38e-01\n",
            "Best val loss is: 3.38e-01\n",
            "Train loss: 2.45e-01, Val loss: 3.38e-01\n",
            "Best val loss is: 3.38e-01\n",
            "Train loss: 2.45e-01, Val loss: 3.38e-01\n",
            "Best val loss is: 3.38e-01\n",
            "Train loss: 2.45e-01, Val loss: 3.38e-01\n",
            "Best val loss is: 3.38e-01\n",
            "Train loss: 2.44e-01, Val loss: 3.38e-01\n",
            "Best val loss is: 3.38e-01\n",
            "Train loss: 2.44e-01, Val loss: 3.38e-01\n",
            "Best val loss is: 3.38e-01\n",
            "Train loss: 2.44e-01, Val loss: 3.38e-01\n",
            "Best val loss is: 3.38e-01\n"
          ],
          "name": "stdout"
        },
        {
          "output_type": "stream",
          "text": [
            "100%|██████████| 11/11 [00:00<00:00, 456.87it/s]\n",
            "100%|██████████| 11/11 [00:00<00:00, 491.99it/s]\n",
            "100%|██████████| 11/11 [00:00<00:00, 493.02it/s]\n",
            "100%|██████████| 11/11 [00:00<00:00, 476.59it/s]\n",
            "100%|██████████| 11/11 [00:00<00:00, 482.98it/s]\n",
            "100%|██████████| 11/11 [00:00<00:00, 473.58it/s]\n",
            "100%|██████████| 11/11 [00:00<00:00, 485.89it/s]\n",
            "100%|██████████| 11/11 [00:00<00:00, 449.27it/s]\n"
          ],
          "name": "stderr"
        },
        {
          "output_type": "stream",
          "text": [
            "Train loss: 2.43e-01, Val loss: 3.38e-01\n",
            "Best val loss is: 3.38e-01\n",
            "Train loss: 2.43e-01, Val loss: 3.38e-01\n",
            "Best val loss is: 3.38e-01\n",
            "Train loss: 2.43e-01, Val loss: 3.38e-01\n",
            "Best val loss is: 3.38e-01\n",
            "Train loss: 2.43e-01, Val loss: 3.38e-01\n",
            "Best val loss is: 3.38e-01\n",
            "Train loss: 2.42e-01, Val loss: 3.38e-01\n",
            "Best val loss is: 3.38e-01\n",
            "Train loss: 2.42e-01, Val loss: 3.38e-01\n",
            "Best val loss is: 3.38e-01\n",
            "Train loss: 2.42e-01, Val loss: 3.38e-01\n",
            "Best val loss is: 3.38e-01\n",
            "Train loss: 2.41e-01, Val loss: 3.38e-01\n",
            "Best val loss is: 3.38e-01"
          ],
          "name": "stdout"
        },
        {
          "output_type": "stream",
          "text": [
            "100%|██████████| 11/11 [00:00<00:00, 434.08it/s]\n",
            "100%|██████████| 11/11 [00:00<00:00, 510.28it/s]\n",
            "100%|██████████| 11/11 [00:00<00:00, 523.41it/s]\n",
            "100%|██████████| 11/11 [00:00<00:00, 508.00it/s]\n",
            "100%|██████████| 11/11 [00:00<00:00, 479.00it/s]\n",
            "100%|██████████| 11/11 [00:00<00:00, 496.79it/s]\n",
            "100%|██████████| 11/11 [00:00<00:00, 530.37it/s]\n",
            "  0%|          | 0/11 [00:00<?, ?it/s]"
          ],
          "name": "stderr"
        },
        {
          "output_type": "stream",
          "text": [
            "\n",
            "Train loss: 2.41e-01, Val loss: 3.38e-01\n",
            "Best val loss is: 3.38e-01\n",
            "Train loss: 2.41e-01, Val loss: 3.38e-01\n",
            "Best val loss is: 3.38e-01\n",
            "Train loss: 2.41e-01, Val loss: 3.38e-01\n",
            "Best val loss is: 3.38e-01\n",
            "Train loss: 2.40e-01, Val loss: 3.38e-01\n",
            "Best val loss is: 3.38e-01\n",
            "Train loss: 2.40e-01, Val loss: 3.38e-01\n",
            "Best val loss is: 3.38e-01\n",
            "Train loss: 2.40e-01, Val loss: 3.38e-01\n",
            "Best val loss is: 3.38e-01\n",
            "Train loss: 2.39e-01, Val loss: 3.38e-01\n",
            "Best val loss is: 3.38e-01\n"
          ],
          "name": "stdout"
        },
        {
          "output_type": "stream",
          "text": [
            "100%|██████████| 11/11 [00:00<00:00, 479.19it/s]\n",
            "100%|██████████| 11/11 [00:00<00:00, 508.84it/s]\n",
            "100%|██████████| 11/11 [00:00<00:00, 504.08it/s]\n",
            "100%|██████████| 11/11 [00:00<00:00, 530.04it/s]\n",
            "100%|██████████| 11/11 [00:00<00:00, 517.08it/s]\n",
            "100%|██████████| 11/11 [00:00<00:00, 499.88it/s]\n",
            "100%|██████████| 11/11 [00:00<00:00, 526.00it/s]\n",
            "100%|██████████| 11/11 [00:00<00:00, 512.95it/s]\n",
            "  0%|          | 0/11 [00:00<?, ?it/s]"
          ],
          "name": "stderr"
        },
        {
          "output_type": "stream",
          "text": [
            "Train loss: 2.39e-01, Val loss: 3.38e-01\n",
            "Best val loss is: 3.38e-01\n",
            "Train loss: 2.39e-01, Val loss: 3.38e-01\n",
            "Best val loss is: 3.38e-01\n",
            "Train loss: 2.39e-01, Val loss: 3.38e-01\n",
            "Best val loss is: 3.38e-01\n",
            "Train loss: 2.38e-01, Val loss: 3.38e-01\n",
            "Best val loss is: 3.38e-01\n",
            "Train loss: 2.38e-01, Val loss: 3.38e-01\n",
            "Best val loss is: 3.38e-01\n",
            "Train loss: 2.38e-01, Val loss: 3.38e-01\n",
            "Best val loss is: 3.38e-01\n",
            "Train loss: 2.38e-01, Val loss: 3.38e-01\n",
            "Best val loss is: 3.38e-01\n",
            "Train loss: 2.37e-01, Val loss: 3.38e-01\n",
            "Best val loss is: 3.38e-01\n"
          ],
          "name": "stdout"
        },
        {
          "output_type": "stream",
          "text": [
            "100%|██████████| 11/11 [00:00<00:00, 437.94it/s]\n",
            "100%|██████████| 11/11 [00:00<00:00, 516.81it/s]\n",
            "100%|██████████| 11/11 [00:00<00:00, 526.00it/s]\n",
            "100%|██████████| 11/11 [00:00<00:00, 434.18it/s]\n",
            "100%|██████████| 11/11 [00:00<00:00, 348.86it/s]\n",
            "100%|██████████| 11/11 [00:00<00:00, 507.65it/s]\n",
            "100%|██████████| 11/11 [00:00<00:00, 524.74it/s]"
          ],
          "name": "stderr"
        },
        {
          "output_type": "stream",
          "text": [
            "Train loss: 2.37e-01, Val loss: 3.38e-01\n",
            "Best val loss is: 3.38e-01\n",
            "Train loss: 2.37e-01, Val loss: 3.38e-01\n",
            "Best val loss is: 3.38e-01\n",
            "Train loss: 2.37e-01, Val loss: 3.38e-01\n",
            "Best val loss is: 3.38e-01\n",
            "Train loss: 2.36e-01, Val loss: 3.38e-01\n",
            "Best val loss is: 3.38e-01\n",
            "Train loss: 2.36e-01, Val loss: 3.38e-01\n",
            "Best val loss is: 3.38e-01\n",
            "Train loss: 2.36e-01, Val loss: 3.38e-01\n",
            "Best val loss is: 3.38e-01\n",
            "Train loss: 2.36e-01, Val loss: 3.38e-01\n",
            "Best val loss is: 3.38e-01\n",
            "Stopped training after 239/5000 epochs.\n",
            "The loss is 8.86e-01 before training and 3.38e-01 after training.\n",
            "The training and validation losses are \n",
            "\t[0.8413005065917969, 0.7924050903320312, 0.7660521697998047, 0.7381112670898438, 0.7126484680175781, 0.6884272003173828, 0.6659693145751953, 0.6450874328613281, 0.6257938003540039, 0.6080213165283204, 0.5916485595703125, 0.5765560913085938, 0.5626377487182617, 0.5497824478149415, 0.5378839111328125, 0.526849365234375, 0.5165933227539062, 0.5070384979248047, 0.49811630249023436, 0.48976615905761717, 0.4819338607788086, 0.4745714569091797, 0.4676362991333008, 0.4610908508300781, 0.454901237487793, 0.4490376663208008, 0.44347343444824217, 0.43818470001220705, 0.4331499099731445, 0.4283498382568359, 0.4237672424316406, 0.4193864440917969, 0.4151932907104492, 0.41117488861083984, 0.40731964111328123, 0.4036168670654297, 0.40005706787109374, 0.39663108825683596, 0.3933310699462891, 0.3901493835449219, 0.3870793151855469, 0.38411449432373046, 0.3812491226196289, 0.3784777069091797, 0.3757953262329102, 0.3731974411010742, 0.37067962646484376, 0.36823787689208987, 0.36586856842041016, 0.36356826782226564, 0.3613334274291992, 0.35916130065917967, 0.3570489501953125, 0.3549937057495117, 0.35299312591552734, 0.3510446548461914, 0.34914627075195315, 0.34729591369628904, 0.3454913711547852, 0.34373104095458984, 0.342012939453125, 0.34033565521240233, 0.3386974334716797, 0.3370967864990234, 0.33553237915039064, 0.334002799987793, 0.3325068664550781, 0.33104331970214845, 0.32961097717285154, 0.32820877075195315, 0.3268356704711914, 0.3254906463623047, 0.3241727828979492, 0.32288116455078125, 0.3216149139404297, 0.3203731536865234, 0.31915519714355467, 0.3179603004455566, 0.3167875862121582, 0.31563648223876956, 0.31450634002685546, 0.3133964729309082, 0.31230625152587893, 0.3112351417541504, 0.31018259048461916, 0.309148006439209, 0.3081309127807617, 0.3071307373046875, 0.30614709854125977, 0.305179443359375, 0.3042274856567383, 0.30329055786132814, 0.3023684501647949, 0.3014607048034668, 0.3005669403076172, 0.29968671798706054, 0.2988197517395019, 0.29796571731567384, 0.29712423324584963, 0.2962950325012207, 0.2954777908325195, 0.29467216491699216, 0.29387788772583007, 0.2930946922302246, 0.29232236862182615, 0.29156051635742186, 0.2908089828491211, 0.2900675392150879, 0.2893359184265137, 0.2886138916015625, 0.28790117263793946, 0.2871977424621582, 0.28650310516357425, 0.2858173179626465, 0.2851400375366211, 0.28447113037109373, 0.28381044387817383, 0.28315771102905274, 0.2825127983093262, 0.28187559127807615, 0.28124582290649414, 0.28062345504760744, 0.2800082778930664, 0.27940008163452146, 0.2787987899780273, 0.27820428848266604, 0.27761640548706057, 0.27703495025634767, 0.2764598846435547, 0.275891056060791, 0.275328254699707, 0.27477155685424803, 0.27422061920166013, 0.27367549896240234, 0.2731360054016113, 0.2726020431518555, 0.2720735359191895, 0.2715503692626953, 0.2710323524475098, 0.27051956176757813, 0.2700117874145508, 0.26950897216796876, 0.26901100158691404, 0.26851781845092776, 0.26802934646606447, 0.2675454521179199, 0.26706609725952146, 0.26659116744995115, 0.26612064361572263, 0.26565439224243165, 0.26519235610961917, 0.2647344398498535, 0.2642806625366211, 0.2638308715820312, 0.263385066986084, 0.2629431343078613, 0.2625049781799316, 0.26207063674926756, 0.26163990020751954, 0.26121280670166014, 0.26078941345214846, 0.2603693962097168, 0.25995290756225586, 0.25953983306884765, 0.25913013458251954, 0.25872369766235354, 0.2583205795288086, 0.2579206085205078, 0.2575238227844238, 0.2571301651000977, 0.256739501953125, 0.25635189056396485, 0.2559672355651855, 0.25558555603027344, 0.2552067375183105, 0.2548307228088379, 0.25445756912231443, 0.2540871620178223, 0.25371944427490234, 0.25335447311401366, 0.252992115020752, 0.2526323699951172, 0.2522752380371094, 0.2519205665588379, 0.25156843185424804, 0.25121875762939455, 0.25087158203125, 0.2505267333984375, 0.25018428802490233, 0.24984416961669922, 0.24950637817382812, 0.24917085647583007, 0.24883756637573243, 0.24850648880004883, 0.24817766189575197, 0.2478509521484375, 0.2475263786315918, 0.24720394134521484, 0.24688350677490234, 0.24656518936157226, 0.24624895095825194, 0.24593456268310546, 0.24562231063842774, 0.24531190872192382, 0.24500345230102538, 0.24469694137573242, 0.24439228057861329, 0.24408950805664062, 0.24378858566284178, 0.24348941802978516, 0.24319208145141602, 0.24289653778076173, 0.24260272979736328, 0.24231063842773437, 0.24202028274536133, 0.2417315673828125, 0.24144458770751953, 0.24115924835205077, 0.24087554931640626, 0.24059349060058594, 0.24031297683715822, 0.2400340461730957, 0.2397567367553711, 0.23948089599609376, 0.23920663833618164, 0.23893390655517577, 0.23866260528564454, 0.23839284896850585, 0.23812450408935548, 0.23785762786865233, 0.23759222030639648, 0.23732820510864258, 0.2370656204223633, 0.23680437088012696, 0.23654449462890625, 0.23628599166870118, 0.23602884292602538, 0.2357730484008789, 0.23551856994628906, None, None, None, None, None, None, None, None, None, None, None, None, None, None, None, None, None, None, None, None, None, None, None, None, None, None, None, None, None, None, None, None, None, None, None, None, None, None, None, None, None, None, None, None, None, None, None, None, None, None, None, None, None, None, None, None, None, None, None, None, None, None, None, None, None, None, None, None, None, None, None, None, None, None, None, None, None, None, None, None, None, None, None, None, None, None, None, None, None, None, None, None, None, None, None, None, None, None, None, None, None, None, None, None, None, None, None, None, None, None, None, None, None, None, None, None, None, None, None, None, None, None, None, None, None, None, None, None, None, None, None, None, None, None, None, None, None, None, None, None, None, None, None, None, None, None, None, None, None, None, None, None, None, None, None, None, None, None, None, None, None, None, None, None, None, None, None, None, None, None, None, None, None, None, None, None, None, None, None, None, None, None, None, None, None, None, None, None, None, None, None, None, None, None, None, None, None, None, None, None, None, None, None, None, None, None, None, None, None, None, None, None, None, None, None, None, None, None, None, None, None, None, None, None, None, None, None, None, None, None, None, None, None, None, None, None, None, None, None, None, None, None, None, None, None, None, None, None, None, None, None, None, None, None, None, None, None, None, None, None, None, None, None, None, None, None, None, None, None, None, None, None, None, None, None, None, None, None, None, None, None, None, None, None, None, None, None, None, None, None, None, None, None, None, None, None, None, None, None, None, None, None, None, None, None, None, None, None, None, None, None, None, None, None, None, None, None, None, None, None, None, None, None, None, None, None, None, None, None, None, None, None, None, None, None, None, None, None, None, None, None, None, None, None, None, None, None, None, None, None, None, None, None, None, None, None, None, None, None, None, None, None, None, None, None, None, None, None, None, None, None, None, None, None, None, None, None, None, None, None, None, None, None, None, None, None, None, None, None, None, None, None, None, None, None, None, None, None, None, None, None, None, None, None, None, None, None, None, None, None, None, None, None, None, None, None, None, None, None, None, None, None, None, None, None, None, None, None, None, None, None, None, None, None, None, None, None, None, None, None, None, None, None, None, None, None, None, None, None, None, None, None, None, None, None, None, None, None, None, None, None, None, None, None, None, None, None, None, None, None, None, None, None, None, None, None, None, None, None, None, None, None, None, None, None, None, None, None, None, None, None, None, None, None, None, None, None, None, None, None, None, None, None, None, None, None, None, None, None, None, None, None, None, None, None, None, None, None, None, None, None, None, None, None, None, None, None, None, None, None, None, None, None, None, None, None, None, None, None, None, None, None, None, None, None, None, None, None, None, None, None, None, None, None, None, None, None, None, None, None, None, None, None, None, None, None, None, None, None, None, None, None, None, None, None, None, None, None, None, None, None, None, None, None, None, None, None, None, None, None, None, None, None, None, None, None, None, None, None, None, None, None, None, None, None, None, None, None, None, None, None, None, None, None, None, None, None, None, None, None, None, None, None, None, None, None, None, None, None, None, None, None, None, None, None, None, None, None, None, None, None, None, None, None, None, None, None, None, None, None, None, None, None, None, None, None, None, None, None, None, None, None, None, None, None, None, None, None, None, None, None, None, None, None, None, None, None, None, None, None, None, None, None, None, None, None, None, None, None, None, None, None, None, None, None, None, None, None, None, None, None, None, None, None, None, None, None, None, None, None, None, None, None, None, None, None, None, None, None, None, None, None, None, None, None, None, None, None, None, None, None, None, None, None, None, None, None, None, None, None, None, None, None, None, None, None, None, None, None, None, None, None, None, None, None, None, None, None, None, None, None, None, None, None, None, None, None, None, None, None, None, None, None, None, None, None, None, None, None, None, None, None, None, None, None, None, None, None, None, None, None, None, None, None, None, None, None, None, None, None, None, None, None, None, None, None, None, None, None, None, None, None, None, None, None, None, None, None, None, None, None, None, None, None, None, None, None, None, None, None, None, None, None, None, None, None, None, None, None, None, None, None, None, None, None, None, None, None, None, None, None, None, None, None, None, None, None, None, None, None, None, None, None, None, None, None, None, None, None, None, None, None, None, None, None, None, None, None, None, None, None, None, None, None, None, None, None, None, None, None, None, None, None, None, None, None, None, None, None, None, None, None, None, None, None, None, None, None, None, None, None, None, None, None, None, None, None, None, None, None, None, None, None, None, None, None, None, None, None, None, None, None, None, None, None, None, None, None, None, None, None, None, None, None, None, None, None, None, None, None, None, None, None, None, None, None, None, None, None, None, None, None, None, None, None, None, None, None, None, None, None, None, None, None, None, None, None, None, None, None, None, None, None, None, None, None, None, None, None, None, None, None, None, None, None, None, None, None, None, None, None, None, None, None, None, None, None, None, None, None, None, None, None, None, None, None, None, None, None, None, None, None, None, None, None, None, None, None, None, None, None, None, None, None, None, None, None, None, None, None, None, None, None, None, None, None, None, None, None, None, None, None, None, None, None, None, None, None, None, None, None, None, None, None, None, None, None, None, None, None, None, None, None, None, None, None, None, None, None, None, None, None, None, None, None, None, None, None, None, None, None, None, None, None, None, None, None, None, None, None, None, None, None, None, None, None, None, None, None, None, None, None, None, None, None, None, None, None, None, None, None, None, None, None, None, None, None, None, None, None, None, None, None, None, None, None, None, None, None, None, None, None, None, None, None, None, None, None, None, None, None, None, None, None, None, None, None, None, None, None, None, None, None, None, None, None, None, None, None, None, None, None, None, None, None, None, None, None, None, None, None, None, None, None, None, None, None, None, None, None, None, None, None, None, None, None, None, None, None, None, None, None, None, None, None, None, None, None, None, None, None, None, None, None, None, None, None, None, None, None, None, None, None, None, None, None, None, None, None, None, None, None, None, None, None, None, None, None, None, None, None, None, None, None, None, None, None, None, None, None, None, None, None, None, None, None, None, None, None, None, None, None, None, None, None, None, None, None, None, None, None, None, None, None, None, None, None, None, None, None, None, None, None, None, None, None, None, None, None, None, None, None, None, None, None, None, None, None, None, None, None, None, None, None, None, None, None, None, None, None, None, None, None, None, None, None, None, None, None, None, None, None, None, None, None, None, None, None, None, None, None, None, None, None, None, None, None, None, None, None, None, None, None, None, None, None, None, None, None, None, None, None, None, None, None, None, None, None, None, None, None, None, None, None, None, None, None, None, None, None, None, None, None, None, None, None, None, None, None, None, None, None, None, None, None, None, None, None, None, None, None, None, None, None, None, None, None, None, None, None, None, None, None, None, None, None, None, None, None, None, None, None, None, None, None, None, None, None, None, None, None, None, None, None, None, None, None, None, None, None, None, None, None, None, None, None, None, None, None, None, None, None, None, None, None, None, None, None, None, None, None, None, None, None, None, None, None, None, None, None, None, None, None, None, None, None, None, None, None, None, None, None, None, None, None, None, None, None, None, None, None, None, None, None, None, None, None, None, None, None, None, None, None, None, None, None, None, None, None, None, None, None, None, None, None, None, None, None, None, None, None, None, None, None, None, None, None, None, None, None, None, None, None, None, None, None, None, None, None, None, None, None, None, None, None, None, None, None, None, None, None, None, None, None, None, None, None, None, None, None, None, None, None, None, None, None, None, None, None, None, None, None, None, None, None, None, None, None, None, None, None, None, None, None, None, None, None, None, None, None, None, None, None, None, None, None, None, None, None, None, None, None, None, None, None, None, None, None, None, None, None, None, None, None, None, None, None, None, None, None, None, None, None, None, None, None, None, None, None, None, None, None, None, None, None, None, None, None, None, None, None, None, None, None, None, None, None, None, None, None, None, None, None, None, None, None, None, None, None, None, None, None, None, None, None, None, None, None, None, None, None, None, None, None, None, None, None, None, None, None, None, None, None, None, None, None, None, None, None, None, None, None, None, None, None, None, None, None, None, None, None, None, None, None, None, None, None, None, None, None, None, None, None, None, None, None, None, None, None, None, None, None, None, None, None, None, None, None, None, None, None, None, None, None, None, None, None, None, None, None, None, None, None, None, None, None, None, None, None, None, None, None, None, None, None, None, None, None, None, None, None, None, None, None, None, None, None, None, None, None, None, None, None, None, None, None, None, None, None, None, None, None, None, None, None, None, None, None, None, None, None, None, None, None, None, None, None, None, None, None, None, None, None, None, None, None, None, None, None, None, None, None, None, None, None, None, None, None, None, None, None, None, None, None, None, None, None, None, None, None, None, None, None, None, None, None, None, None, None, None, None, None, None, None, None, None, None, None, None, None, None, None, None, None, None, None, None, None, None, None, None, None, None, None, None, None, None, None, None, None, None, None, None, None, None, None, None, None, None, None, None, None, None, None, None, None, None, None, None, None, None, None, None, None, None, None, None, None, None, None, None, None, None, None, None, None, None, None, None, None, None, None, None, None, None, None, None, None, None, None, None, None, None, None, None, None, None, None, None, None, None, None, None, None, None, None, None, None, None, None, None, None, None, None, None, None, None, None, None, None, None, None, None, None, None, None, None, None, None, None, None, None, None, None, None, None, None, None, None, None, None, None, None, None, None, None, None, None, None, None, None, None, None, None, None, None, None, None, None, None, None, None, None, None, None, None, None, None, None, None, None, None, None, None, None, None, None, None, None, None, None, None, None, None, None, None, None, None, None, None, None, None, None, None, None, None, None, None, None, None, None, None, None, None, None, None, None, None, None, None, None, None, None, None, None, None, None, None, None, None, None, None, None, None, None, None, None, None, None, None, None, None, None, None, None, None, None, None, None, None, None, None, None, None, None, None, None, None, None, None, None, None, None, None, None, None, None, None, None, None, None, None, None, None, None, None, None, None, None, None, None, None, None, None, None, None, None, None, None, None, None, None, None, None, None, None, None, None, None, None, None, None, None, None, None, None, None, None, None, None, None, None, None, None, None, None, None, None, None, None, None, None, None, None, None, None, None, None, None, None, None, None, None, None, None, None, None, None, None, None, None, None, None, None, None, None, None, None, None, None, None, None, None, None, None, None, None, None, None, None, None, None, None, None, None, None, None, None, None, None, None, None, None, None, None, None, None, None, None, None, None, None, None, None, None, None, None, None, None, None, None, None, None, None, None, None, None, None, None, None, None, None, None, None, None, None, None, None, None, None, None, None, None, None, None, None, None, None, None, None, None, None, None, None, None, None, None, None, None, None, None, None, None, None, None, None, None, None, None, None, None, None, None, None, None, None, None, None, None, None, None, None, None, None, None, None, None, None, None, None, None, None, None, None, None, None, None, None, None, None, None, None, None, None, None, None, None, None, None, None, None, None, None, None, None, None, None, None, None, None, None, None, None, None, None, None, None, None, None, None, None, None, None, None, None, None, None, None, None, None, None, None, None, None, None, None, None, None, None, None, None, None, None, None, None, None, None, None, None, None, None, None, None, None, None, None, None, None, None, None, None, None, None, None, None, None, None, None, None, None, None, None, None, None, None, None, None, None, None, None, None, None, None, None, None, None, None, None, None, None, None, None, None, None, None, None, None, None, None, None, None, None, None, None, None, None, None, None, None, None, None, None, None, None, None, None, None, None, None, None, None, None, None, None, None, None, None, None, None, None, None, None, None, None, None, None, None, None, None, None, None, None, None, None, None, None, None, None, None, None, None, None, None, None, None, None, None, None, None, None, None, None, None, None, None, None, None, None, None, None, None, None, None, None, None, None, None, None, None, None, None, None, None, None, None, None, None, None, None, None, None, None, None, None, None, None, None, None, None, None, None, None, None, None, None, None, None, None, None, None, None, None, None, None, None, None, None, None, None, None, None, None, None, None, None, None, None, None, None, None, None, None, None, None, None, None, None, None, None, None, None, None, None, None, None, None, None, None, None, None, None, None, None, None, None, None, None, None, None, None, None, None, None, None, None, None, None, None, None, None, None, None, None, None, None, None, None, None, None, None, None, None, None, None, None, None, None, None, None, None, None, None, None, None, None, None, None, None, None, None, None, None, None, None, None, None, None, None, None, None, None, None, None, None, None, None, None, None, None, None, None, None, None, None, None, None, None, None, None, None, None, None, None, None, None, None, None, None, None, None, None, None, None, None, None, None, None, None, None, None, None, None, None, None, None, None, None, None, None, None, None, None, None, None, None, None, None, None, None, None, None, None, None, None, None, None, None, None, None, None, None, None, None, None, None, None, None, None, None, None, None, None, None, None, None, None, None, None, None, None, None, None, None, None, None, None, None, None, None, None, None, None, None, None, None, None, None, None, None, None, None, None, None, None, None, None, None, None, None, None, None, None, None, None, None, None, None, None, None, None, None, None, None, None, None, None, None, None, None, None, None, None, None, None, None, None, None, None, None, None, None, None, None, None, None, None, None, None, None, None, None, None, None, None, None, None, None, None, None, None, None, None, None, None, None, None, None, None, None, None, None, None, None, None, None, None, None, None, None, None, None, None, None, None, None, None, None, None, None, None, None, None, None, None, None, None, None, None, None, None, None, None, None, None, None, None, None, None, None, None, None, None, None, None, None, None, None, None, None, None, None, None, None, None, None, None, None, None, None, None, None, None, None, None, None, None, None, None, None, None, None, None, None, None, None, None, None, None, None, None, None, None, None, None, None, None, None, None, None, None, None, None, None, None, None, None, None, None, None, None, None, None, None, None, None, None, None, None, None, None, None, None, None, None, None, None, None, None, None, None, None, None, None, None, None, None, None, None, None, None, None, None, None, None, None, None, None, None, None, None, None, None, None, None, None, None, None, None, None, None, None, None, None, None, None, None, None, None, None, None, None, None, None, None, None, None, None, None, None, None, None, None, None, None, None, None, None, None, None, None, None, None, None, None, None, None, None, None, None, None, None, None, None, None, None, None, None, None, None, None, None, None, None, None, None, None, None, None, None, None, None, None, None, None, None, None, None, None, None, None, None, None, None, None, None, None, None, None, None, None, None, None, None, None, None, None, None, None, None, None, None, None, None, None, None, None, None, None, None, None, None, None, None, None, None, None, None, None, None, None, None, None, None, None, None, None, None, None, None, None, None, None, None, None, None, None, None, None, None, None, None, None, None, None, None, None, None, None, None, None, None, None, None, None, None, None, None, None, None, None, None, None, None, None, None, None, None, None, None, None, None, None, None, None, None, None, None, None, None, None, None, None, None, None, None, None, None, None, None, None, None, None, None, None, None, None, None, None, None, None, None, None, None, None, None, None, None, None, None, None, None, None, None, None, None, None, None, None, None, None, None, None, None, None, None, None, None, None, None, None, None, None, None, None, None, None, None, None, None, None, None, None, None, None, None, None, None, None, None, None, None, None, None, None, None, None, None, None, None, None, None, None, None, None, None, None, None, None, None, None, None, None, None, None, None, None, None, None, None, None, None, None, None, None, None, None, None, None, None, None, None, None, None, None, None, None, None, None, None, None, None, None, None, None, None, None, None, None, None, None, None, None, None, None, None, None, None, None, None, None, None, None, None, None, None, None, None, None, None, None, None, None, None, None, None, None, None, None, None, None, None, None, None, None, None, None, None, None, None, None, None, None, None, None, None, None, None, None, None, None, None, None, None, None, None, None, None, None, None, None, None, None, None, None, None, None, None, None, None, None, None, None, None, None, None, None, None, None, None, None, None, None, None, None, None, None, None, None, None, None, None, None, None, None, None, None, None, None, None, None, None, None, None, None, None, None, None, None, None, None, None, None, None, None, None, None, None, None, None, None, None, None, None, None, None, None, None, None, None, None, None, None, None, None, None, None, None, None, None, None, None, None, None, None, None, None, None, None, None, None, None, None, None, None, None, None, None, None, None, None, None, None, None, None, None, None, None, None, None, None, None, None, None, None, None, None, None, None, None, None, None, None, None, None, None, None, None, None, None, None, None, None, None, None, None, None, None, None, None, None, None, None, None, None, None, None, None, None, None, None, None, None, None, None, None, None, None, None, None, None, None, None, None, None, None, None, None, None, None, None, None, None, None, None, None, None, None, None, None, None, None, None, None, None, None, None, None, None, None, None, None, None, None, None, None, None, None, None, None, None, None, None, None, None, None, None, None, None, None, None, None, None, None, None, None, None, None, None, None, None, None, None, None, None, None, None, None, None, None, None, None, None, None, None, None, None, None, None, None, None, None, None, None, None, None, None, None, None, None, None, None, None, None, None, None, None, None, None, None, None, None, None, None, None, None, None, None, None, None, None, None, None, None, None, None, None, None, None, None, None, None, None, None, None, None, None, None, None, None, None, None, None, None, None, None, None, None, None, None, None, None, None, None, None, None, None, None, None, None, None, None, None, None, None, None, None, None, None, None, None, None, None, None, None, None, None, None, None, None, None, None, None, None, None, None, None, None, None, None, None, None, None, None, None, None, None, None, None, None, None, None, None, None, None, None, None, None, None, None, None, None, None, None, None, None, None, None, None, None, None, None, None, None, None, None, None, None, None, None, None, None, None, None, None, None, None, None, None, None, None, None, None, None, None, None, None, None, None, None, None, None, None, None, None, None, None, None, None, None, None, None, None, None, None, None, None, None, None, None, None, None, None, None, None, None, None, None, None, None, None, None, None, None, None, None, None, None, None, None, None, None, None, None, None, None, None, None, None, None, None, None, None, None, None, None, None, None, None, None, None, None, None, None, None, None, None, None, None, None, None, None, None, None, None, None, None, None, None, None, None, None, None, None, None, None, None, None, None, None, None, None, None, None, None, None, None, None, None, None, None, None, None, None, None, None, None, None, None, None, None, None, None, None, None, None, None, None, None, None, None, None, None, None, None, None, None, None, None, None, None, None, None, None, None, None, None, None, None, None, None, None, None, None, None, None, None, None, None, None, None, None, None, None, None, None, None, None, None, None, None, None, None, None, None, None, None, None, None, None, None, None, None, None, None, None, None, None, None, None, None, None, None, None, None, None, None, None, None, None, None, None, None, None, None, None, None, None, None, None, None, None, None, None, None, None, None, None, None, None, None, None, None, None, None, None, None, None, None, None, None, None, None, None, None, None, None, None, None, None, None, None, None, None, None, None, None, None, None, None, None, None, None, None, None, None, None, None, None, None, None, None, None, None, None, None, None, None, None, None, None, None, None, None, None, None, None, None, None, None, None, None, None, None, None, None, None, None, None, None, None, None, None, None, None, None, None, None, None, None, None, None, None, None, None, None, None, None, None, None, None, None, None, None, None, None, None, None, None, None, None, None, None, None, None, None, None, None, None, None, None, None, None, None, None, None, None, None, None, None, None, None, None, None, None, None, None, None, None, None, None, None, None, None, None, None, None, None, None, None, None, None, None, None, None, None, None, None, None, None, None, None, None, None, None, None, None, None, None, None, None, None, None, None, None, None, None, None, None, None, None, None, None, None, None, None, None, None, None, None, None, None, None, None, None, None, None, None, None, None, None, None, None, None, None, None, None, None, None, None, None, None, None, None, None, None, None, None, None, None, None, None, None, None, None, None, None, None, None, None, None, None, None, None, None, None, None, None, None, None, None, None, None, None, None, None, None, None, None, None, None, None, None, None, None, None, None, None, None, None, None, None, None, None, None, None, None, None, None, None, None, None, None, None, None, None, None, None, None, None, None, None, None, None, None, None, None, None, None, None, None, None, None, None, None, None, None, None, None, None, None, None, None, None, None, None, None, None, None, None, None, None, None, None, None, None, None, None, None, None, None, None, None, None, None, None, None, None, None, None, None, None, None, None, None, None, None, None, None, None, None, None, None, None, None, None, None, None, None, None, None, None, None, None, None, None, None, None, None, None, None, None, None, None, None, None, None, None, None, None, None, None, None, None, None, None, None, None, None, None, None, None, None, None, None, None, None, None, None, None, None, None, None, None, None, None, None, None, None, None, None, None, None, None, None, None, None, None, None, None, None, None, None, None, None, None, None, None, None, None, None, None, None, None, None, None, None, None, None, None, None, None, None, None, None, None, None, None, None, None, None, None, None, None, None, None, None, None, None, None, None, None, None, None, None, None, None, None, None, None, None, None, None, None, None, None, None, None, None, None, None, None, None, None, None, None, None, None, None, None, None, None, None, None, None, None, None, None, None, None, None, None, None, None, None, None, None, None, None, None, None, None, None, None, None, None, None, None, None, None, None, None, None, None, None, None, None, None, None, None, None, None, None, None, None, None, None, None, None, None, None, None, None, None, None, None, None, None, None, None, None, None, None, None, None, None, None, None, None, None, None, None, None, None, None, None, None, None, None, None, None, None, None, None, None, None, None, None, None, None, None, None, None, None, None, None, None, None, None, None, None, None, None, None, None, None, None, None, None, None, None, None, None, None, None, None, None, None, None, None, None, None, None, None, None, None, None, None, None, None, None, None, None, None, None, None, None, None, None, None, None, None, None, None, None, None, None, None, None, None, None, None, None, None, None, None, None, None, None, None, None, None, None, None, None, None, None, None, None, None, None, None, None, None, None, None, None, None, None, None, None, None, None, None, None, None, None, None, None, None, None, None, None, None, None, None, None, None, None, None, None, None, None, None, None, None, None, None, None, None, None, None, None, None, None, None, None, None, None, None, None, None, None, None, None, None, None, None, None, None, None, None, None, None, None, None, None, None, None, None, None, None, None, None, None, None, None, None, None, None, None, None, None, None, None, None, None, None, None, None, None, None, None, None, None, None, None, None, None, None, None, None, None, None, None, None, None, None, None, None, None, None, None, None, None, None, None, None, None, None, None, None, None, None, None, None, None, None, None, None, None, None, None, None, None, None, None, None, None, None, None, None, None, None, None, None, None, None, None, None, None, None, None, None, None, None, None, None, None, None, None, None, None, None, None, None, None, None, None, None, None, None, None, None, None, None, None, None, None, None, None, None, None, None, None, None, None, None, None, None, None, None, None, None, None, None, None, None, None, None, None, None, None, None, None, None, None, None, None, None, None, None, None, None, None, None, None, None, None, None, None, None], \n",
            "\t[0.8025359511375427, 0.7809626460075378, 0.7498876452445984, 0.7227596044540405, 0.6980520486831665, 0.6751485466957092, 0.653486967086792, 0.6336420178413391, 0.6155850887298584, 0.5990251302719116, 0.5838524103164673, 0.5700023770332336, 0.5573317408561707, 0.5457099676132202, 0.5350418090820312, 0.5252290368080139, 0.5161813497543335, 0.5078203678131104, 0.5000774264335632, 0.49288952350616455, 0.48620182275772095, 0.4799659252166748, 0.4741387367248535, 0.46868225932121277, 0.4635627567768097, 0.4587498605251312, 0.4542178213596344, 0.4499419927597046, 0.44590166211128235, 0.44207775592803955, 0.43845298886299133, 0.43501317501068115, 0.4317433536052704, 0.4286312758922577, 0.4256665110588074, 0.422838419675827, 0.4201376140117645, 0.4175557792186737, 0.4150852859020233, 0.4127192795276642, 0.4104512929916382, 0.40827590227127075, 0.40618687868118286, 0.4041798412799835, 0.4022497832775116, 0.4003928303718567, 0.3986050486564636, 0.3968825340270996, 0.39522209763526917, 0.3936207890510559, 0.39207544922828674, 0.39058300852775574, 0.3891419768333435, 0.3877485394477844, 0.38640210032463074, 0.38509923219680786, 0.38383862376213074, 0.38261815905570984, 0.38143622875213623, 0.3802914321422577, 0.37918171286582947, 0.3781060576438904, 0.37706267833709717, 0.37605082988739014, 0.37506887316703796, 0.37411609292030334, 0.37319043278694153, 0.3722916841506958, 0.37141871452331543, 0.3705706298351288, 0.3697461187839508, 0.36894485354423523, 0.3681658208370209, 0.3674079179763794, 0.3666705787181854, 0.36595308780670166, 0.365255206823349, 0.36457568407058716, 0.3639146685600281, 0.3632704019546509, 0.3626430928707123, 0.3620321452617645, 0.3614371418952942, 0.36085739731788635, 0.36029231548309326, 0.3597415089607239, 0.35920488834381104, 0.35868149995803833, 0.358171284198761, 0.35767364501953125, 0.35718846321105957, 0.3567149043083191, 0.35625335574150085, 0.35580307245254517, 0.35536324977874756, 0.35493433475494385, 0.35451576113700867, 0.3541073203086853, 0.3537086248397827, 0.3533191978931427, 0.35293903946876526, 0.3525680899620056, 0.3522056043148041, 0.35185182094573975, 0.3515062630176544, 0.3511686325073242, 0.3508390486240387, 0.35051706433296204, 0.3502023220062256, 0.34989503026008606, 0.34959477186203003, 0.34930160641670227, 0.3490149676799774, 0.3487347662448883, 0.3484608829021454, 0.3481934368610382, 0.34793218970298767, 0.34767675399780273, 0.3474270701408386, 0.347182959318161, 0.3469444513320923, 0.3467114567756653, 0.3464837372303009, 0.34626084566116333, 0.3460433781147003, 0.3458304703235626, 0.34562262892723083, 0.34541890025138855, 0.3452202081680298, 0.34502583742141724, 0.3448360562324524, 0.3446502685546875, 0.3444686532020569, 0.3442915380001068, 0.3441182076931, 0.3439483344554901, 0.3437826335430145, 0.3436204791069031, 0.34346237778663635, 0.34330758452415466, 0.3431563079357147, 0.3430086374282837, 0.3428639769554138, 0.34272289276123047, 0.3425849676132202, 0.34244999289512634, 0.34231841564178467, 0.34218940138816833, 0.3420636057853699, 0.3419407606124878, 0.3418205976486206, 0.34170350432395935, 0.3415888249874115, 0.3414768576622009, 0.3413675129413605, 0.34126073122024536, 0.3411565124988556, 0.3410545587539673, 0.3409552574157715, 0.3408583402633667, 0.3407633900642395, 0.34067124128341675, 0.3405810296535492, 0.3404928147792816, 0.34040695428848267, 0.3403233289718628, 0.34024181962013245, 0.3401617705821991, 0.34008413553237915, 0.3400082290172577, 0.33993443846702576, 0.3398626148700714, 0.33979249000549316, 0.3397241532802582, 0.33965742588043213, 0.339592844247818, 0.3395298719406128, 0.3394682705402374, 0.3394087553024292, 0.33935031294822693, 0.3392940163612366, 0.3392390012741089, 0.3391854465007782, 0.3391335606575012, 0.3390832245349884, 0.3390341103076935, 0.3389863967895508, 0.33894041180610657, 0.3388954997062683, 0.33885180950164795, 0.3388097882270813, 0.33876895904541016, 0.3387295603752136, 0.33869102597236633, 0.3386540710926056, 0.3386184573173523, 0.33858388662338257, 0.3385504186153412, 0.33851805329322815, 0.3384869694709778, 0.3384568989276886, 0.338428258895874, 0.33840039372444153, 0.338373601436615, 0.3383479118347168, 0.3383232355117798, 0.33829957246780396, 0.33827701210975647, 0.33825552463531494, 0.33823469281196594, 0.3382149040699005, 0.3381960093975067, 0.33817824721336365, 0.33816108107566833, 0.33814531564712524, 0.3381299674510956, 0.3381156921386719, 0.33810240030288696, 0.33808955550193787, 0.33807769417762756, 0.33806684613227844, 0.3380568027496338, 0.3380470871925354, 0.33803850412368774, 0.3380308151245117, 0.3380236327648163, 0.33801746368408203, 0.33801186084747314, 0.33800679445266724, 0.3380028009414673, 0.33799949288368225, 0.33799606561660767, 0.3379943370819092, 0.33799272775650024, 0.33799219131469727, 0.3379919230937958, 0.3379923701286316, 0.3379933536052704, 0.33799517154693604, None, None, None, None, None, None, None, None, None, None, None, None, None, None, None, None, None, None, None, None, None, None, None, None, None, None, None, None, None, None, None, None, None, None, None, None, None, None, None, None, None, None, None, None, None, None, None, None, None, None, None, None, None, None, None, None, None, None, None, None, None, None, None, None, None, None, None, None, None, None, None, None, None, None, None, None, None, None, None, None, None, None, None, None, None, None, None, None, None, None, None, None, None, None, None, None, None, None, None, None, None, None, None, None, None, None, None, None, None, None, None, None, None, None, None, None, None, None, None, None, None, None, None, None, None, None, None, None, None, None, None, None, None, None, None, None, None, None, None, None, None, None, None, None, None, None, None, None, None, None, None, None, None, None, None, None, None, None, None, None, None, None, None, None, None, None, None, None, None, None, None, None, None, None, None, None, None, None, None, None, None, None, None, None, None, None, None, None, None, None, None, None, None, None, None, None, None, None, None, None, None, None, None, None, None, None, None, None, None, None, None, None, None, None, None, None, None, None, None, None, None, None, None, None, None, None, None, None, None, None, None, None, None, None, None, None, None, None, None, None, None, None, None, None, None, None, None, None, None, None, None, None, None, None, None, None, None, None, None, None, None, None, None, None, None, None, None, None, None, None, None, None, None, None, None, None, None, None, None, None, None, None, None, None, None, None, None, None, None, None, None, None, None, None, None, None, None, None, None, None, None, None, None, None, None, None, None, None, None, None, None, None, None, None, None, None, None, None, None, None, None, None, None, None, None, None, None, None, None, None, None, None, None, None, None, None, None, None, None, None, None, None, None, None, None, None, None, None, None, None, None, None, None, None, None, None, None, None, None, None, None, None, None, None, None, None, None, None, None, None, None, None, None, None, None, None, None, None, None, None, None, None, None, None, None, None, None, None, None, None, None, None, None, None, None, None, None, None, None, None, None, None, None, None, None, None, None, None, None, None, None, None, None, None, None, None, None, None, None, None, None, None, None, None, None, None, None, None, None, None, None, None, None, None, None, None, None, None, None, None, None, None, None, None, None, None, None, None, None, None, None, None, None, None, None, None, None, None, None, None, None, None, None, None, None, None, None, None, None, None, None, None, None, None, None, None, None, None, None, None, None, None, None, None, None, None, None, None, None, None, None, None, None, None, None, None, None, None, None, None, None, None, None, None, None, None, None, None, None, None, None, None, None, None, None, None, None, None, None, None, None, None, None, None, None, None, None, None, None, None, None, None, None, None, None, None, None, None, None, None, None, None, None, None, None, None, None, None, None, None, None, None, None, None, None, None, None, None, None, None, None, None, None, None, None, None, None, None, None, None, None, None, None, None, None, None, None, None, None, None, None, None, None, None, None, None, None, None, None, None, None, None, None, None, None, None, None, None, None, None, None, None, None, None, None, None, None, None, None, None, None, None, None, None, None, None, None, None, None, None, None, None, None, None, None, None, None, None, None, None, None, None, None, None, None, None, None, None, None, None, None, None, None, None, None, None, None, None, None, None, None, None, None, None, None, None, None, None, None, None, None, None, None, None, None, None, None, None, None, None, None, None, None, None, None, None, None, None, None, None, None, None, None, None, None, None, None, None, None, None, None, None, None, None, None, None, None, None, None, None, None, None, None, None, None, None, None, None, None, None, None, None, None, None, None, None, None, None, None, None, None, None, None, None, None, None, None, None, None, None, None, None, None, None, None, None, None, None, None, None, None, None, None, None, None, None, None, None, None, None, None, None, None, None, None, None, None, None, None, None, None, None, None, None, None, None, None, None, None, None, None, None, None, None, None, None, None, None, None, None, None, None, None, None, None, None, None, None, None, None, None, None, None, None, None, None, None, None, None, None, None, None, None, None, None, None, None, None, None, None, None, None, None, None, None, None, None, None, None, None, None, None, None, None, None, None, None, None, None, None, None, None, None, None, None, None, None, None, None, None, None, None, None, None, None, None, None, None, None, None, None, None, None, None, None, None, None, None, None, None, None, None, None, None, None, None, None, None, None, None, None, None, None, None, None, None, None, None, None, None, None, None, None, None, None, None, None, None, None, None, None, None, None, None, None, None, None, None, None, None, None, None, None, None, None, None, None, None, None, None, None, None, None, None, None, None, None, None, None, None, None, None, None, None, None, None, None, None, None, None, None, None, None, None, None, None, None, None, None, None, None, None, None, None, None, None, None, None, None, None, None, None, None, None, None, None, None, None, None, None, None, None, None, None, None, None, None, None, None, None, None, None, None, None, None, None, None, None, None, None, None, None, None, None, None, None, None, None, None, None, None, None, None, None, None, None, None, None, None, None, None, None, None, None, None, None, None, None, None, None, None, None, None, None, None, None, None, None, None, None, None, None, None, None, None, None, None, None, None, None, None, None, None, None, None, None, None, None, None, None, None, None, None, None, None, None, None, None, None, None, None, None, None, None, None, None, None, None, None, None, None, None, None, None, None, None, None, None, None, None, None, None, None, None, None, None, None, None, None, None, None, None, None, None, None, None, None, None, None, None, None, None, None, None, None, None, None, None, None, None, None, None, None, None, None, None, None, None, None, None, None, None, None, None, None, None, None, None, None, None, None, None, None, None, None, None, None, None, None, None, None, None, None, None, None, None, None, None, None, None, None, None, None, None, None, None, None, None, None, None, None, None, None, None, None, None, None, None, None, None, None, None, None, None, None, None, None, None, None, None, None, None, None, None, None, None, None, None, None, None, None, None, None, None, None, None, None, None, None, None, None, None, None, None, None, None, None, None, None, None, None, None, None, None, None, None, None, None, None, None, None, None, None, None, None, None, None, None, None, None, None, None, None, None, None, None, None, None, None, None, None, None, None, None, None, None, None, None, None, None, None, None, None, None, None, None, None, None, None, None, None, None, None, None, None, None, None, None, None, None, None, None, None, None, None, None, None, None, None, None, None, None, None, None, None, None, None, None, None, None, None, None, None, None, None, None, None, None, None, None, None, None, None, None, None, None, None, None, None, None, None, None, None, None, None, None, None, None, None, None, None, None, None, None, None, None, None, None, None, None, None, None, None, None, None, None, None, None, None, None, None, None, None, None, None, None, None, None, None, None, None, None, None, None, None, None, None, None, None, None, None, None, None, None, None, None, None, None, None, None, None, None, None, None, None, None, None, None, None, None, None, None, None, None, None, None, None, None, None, None, None, None, None, None, None, None, None, None, None, None, None, None, None, None, None, None, None, None, None, None, None, None, None, None, None, None, None, None, None, None, None, None, None, None, None, None, None, None, None, None, None, None, None, None, None, None, None, None, None, None, None, None, None, None, None, None, None, None, None, None, None, None, None, None, None, None, None, None, None, None, None, None, None, None, None, None, None, None, None, None, None, None, None, None, None, None, None, None, None, None, None, None, None, None, None, None, None, None, None, None, None, None, None, None, None, None, None, None, None, None, None, None, None, None, None, None, None, None, None, None, None, None, None, None, None, None, None, None, None, None, None, None, None, None, None, None, None, None, None, None, None, None, None, None, None, None, None, None, None, None, None, None, None, None, None, None, None, None, None, None, None, None, None, None, None, None, None, None, None, None, None, None, None, None, None, None, None, None, None, None, None, None, None, None, None, None, None, None, None, None, None, None, None, None, None, None, None, None, None, None, None, None, None, None, None, None, None, None, None, None, None, None, None, None, None, None, None, None, None, None, None, None, None, None, None, None, None, None, None, None, None, None, None, None, None, None, None, None, None, None, None, None, None, None, None, None, None, None, None, None, None, None, None, None, None, None, None, None, None, None, None, None, None, None, None, None, None, None, None, None, None, None, None, None, None, None, None, None, None, None, None, None, None, None, None, None, None, None, None, None, None, None, None, None, None, None, None, None, None, None, None, None, None, None, None, None, None, None, None, None, None, None, None, None, None, None, None, None, None, None, None, None, None, None, None, None, None, None, None, None, None, None, None, None, None, None, None, None, None, None, None, None, None, None, None, None, None, None, None, None, None, None, None, None, None, None, None, None, None, None, None, None, None, None, None, None, None, None, None, None, None, None, None, None, None, None, None, None, None, None, None, None, None, None, None, None, None, None, None, None, None, None, None, None, None, None, None, None, None, None, None, None, None, None, None, None, None, None, None, None, None, None, None, None, None, None, None, None, None, None, None, None, None, None, None, None, None, None, None, None, None, None, None, None, None, None, None, None, None, None, None, None, None, None, None, None, None, None, None, None, None, None, None, None, None, None, None, None, None, None, None, None, None, None, None, None, None, None, None, None, None, None, None, None, None, None, None, None, None, None, None, None, None, None, None, None, None, None, None, None, None, None, None, None, None, None, None, None, None, None, None, None, None, None, None, None, None, None, None, None, None, None, None, None, None, None, None, None, None, None, None, None, None, None, None, None, None, None, None, None, None, None, None, None, None, None, None, None, None, None, None, None, None, None, None, None, None, None, None, None, None, None, None, None, None, None, None, None, None, None, None, None, None, None, None, None, None, None, None, None, None, None, None, None, None, None, None, None, None, None, None, None, None, None, None, None, None, None, None, None, None, None, None, None, None, None, None, None, None, None, None, None, None, None, None, None, None, None, None, None, None, None, None, None, None, None, None, None, None, None, None, None, None, None, None, None, None, None, None, None, None, None, None, None, None, None, None, None, None, None, None, None, None, None, None, None, None, None, None, None, None, None, None, None, None, None, None, None, None, None, None, None, None, None, None, None, None, None, None, None, None, None, None, None, None, None, None, None, None, None, None, None, None, None, None, None, None, None, None, None, None, None, None, None, None, None, None, None, None, None, None, None, None, None, None, None, None, None, None, None, None, None, None, None, None, None, None, None, None, None, None, None, None, None, None, None, None, None, None, None, None, None, None, None, None, None, None, None, None, None, None, None, None, None, None, None, None, None, None, None, None, None, None, None, None, None, None, None, None, None, None, None, None, None, None, None, None, None, None, None, None, None, None, None, None, None, None, None, None, None, None, None, None, None, None, None, None, None, None, None, None, None, None, None, None, None, None, None, None, None, None, None, None, None, None, None, None, None, None, None, None, None, None, None, None, None, None, None, None, None, None, None, None, None, None, None, None, None, None, None, None, None, None, None, None, None, None, None, None, None, None, None, None, None, None, None, None, None, None, None, None, None, None, None, None, None, None, None, None, None, None, None, None, None, None, None, None, None, None, None, None, None, None, None, None, None, None, None, None, None, None, None, None, None, None, None, None, None, None, None, None, None, None, None, None, None, None, None, None, None, None, None, None, None, None, None, None, None, None, None, None, None, None, None, None, None, None, None, None, None, None, None, None, None, None, None, None, None, None, None, None, None, None, None, None, None, None, None, None, None, None, None, None, None, None, None, None, None, None, None, None, None, None, None, None, None, None, None, None, None, None, None, None, None, None, None, None, None, None, None, None, None, None, None, None, None, None, None, None, None, None, None, None, None, None, None, None, None, None, None, None, None, None, None, None, None, None, None, None, None, None, None, None, None, None, None, None, None, None, None, None, None, None, None, None, None, None, None, None, None, None, None, None, None, None, None, None, None, None, None, None, None, None, None, None, None, None, None, None, None, None, None, None, None, None, None, None, None, None, None, None, None, None, None, None, None, None, None, None, None, None, None, None, None, None, None, None, None, None, None, None, None, None, None, None, None, None, None, None, None, None, None, None, None, None, None, None, None, None, None, None, None, None, None, None, None, None, None, None, None, None, None, None, None, None, None, None, None, None, None, None, None, None, None, None, None, None, None, None, None, None, None, None, None, None, None, None, None, None, None, None, None, None, None, None, None, None, None, None, None, None, None, None, None, None, None, None, None, None, None, None, None, None, None, None, None, None, None, None, None, None, None, None, None, None, None, None, None, None, None, None, None, None, None, None, None, None, None, None, None, None, None, None, None, None, None, None, None, None, None, None, None, None, None, None, None, None, None, None, None, None, None, None, None, None, None, None, None, None, None, None, None, None, None, None, None, None, None, None, None, None, None, None, None, None, None, None, None, None, None, None, None, None, None, None, None, None, None, None, None, None, None, None, None, None, None, None, None, None, None, None, None, None, None, None, None, None, None, None, None, None, None, None, None, None, None, None, None, None, None, None, None, None, None, None, None, None, None, None, None, None, None, None, None, None, None, None, None, None, None, None, None, None, None, None, None, None, None, None, None, None, None, None, None, None, None, None, None, None, None, None, None, None, None, None, None, None, None, None, None, None, None, None, None, None, None, None, None, None, None, None, None, None, None, None, None, None, None, None, None, None, None, None, None, None, None, None, None, None, None, None, None, None, None, None, None, None, None, None, None, None, None, None, None, None, None, None, None, None, None, None, None, None, None, None, None, None, None, None, None, None, None, None, None, None, None, None, None, None, None, None, None, None, None, None, None, None, None, None, None, None, None, None, None, None, None, None, None, None, None, None, None, None, None, None, None, None, None, None, None, None, None, None, None, None, None, None, None, None, None, None, None, None, None, None, None, None, None, None, None, None, None, None, None, None, None, None, None, None, None, None, None, None, None, None, None, None, None, None, None, None, None, None, None, None, None, None, None, None, None, None, None, None, None, None, None, None, None, None, None, None, None, None, None, None, None, None, None, None, None, None, None, None, None, None, None, None, None, None, None, None, None, None, None, None, None, None, None, None, None, None, None, None, None, None, None, None, None, None, None, None, None, None, None, None, None, None, None, None, None, None, None, None, None, None, None, None, None, None, None, None, None, None, None, None, None, None, None, None, None, None, None, None, None, None, None, None, None, None, None, None, None, None, None, None, None, None, None, None, None, None, None, None, None, None, None, None, None, None, None, None, None, None, None, None, None, None, None, None, None, None, None, None, None, None, None, None, None, None, None, None, None, None, None, None, None, None, None, None, None, None, None, None, None, None, None, None, None, None, None, None, None, None, None, None, None, None, None, None, None, None, None, None, None, None, None, None, None, None, None, None, None, None, None, None, None, None, None, None, None, None, None, None, None, None, None, None, None, None, None, None, None, None, None, None, None, None, None, None, None, None, None, None, None, None, None, None, None, None, None, None, None, None, None, None, None, None, None, None, None, None, None, None, None, None, None, None, None, None, None, None, None, None, None, None, None, None, None, None, None, None, None, None, None, None, None, None, None, None, None, None, None, None, None, None, None, None, None, None, None, None, None, None, None, None, None, None, None, None, None, None, None, None, None, None, None, None, None, None, None, None, None, None, None, None, None, None, None, None, None, None, None, None, None, None, None, None, None, None, None, None, None, None, None, None, None, None, None, None, None, None, None, None, None, None, None, None, None, None, None, None, None, None, None, None, None, None, None, None, None, None, None, None, None, None, None, None, None, None, None, None, None, None, None, None, None, None, None, None, None, None, None, None, None, None, None, None, None, None, None, None, None, None, None, None, None, None, None, None, None, None, None, None, None, None, None, None, None, None, None, None, None, None, None, None, None, None, None, None, None, None, None, None, None, None, None, None, None, None, None, None, None, None, None, None, None, None, None, None, None, None, None, None, None, None, None, None, None, None, None, None, None, None, None, None, None, None, None, None, None, None, None, None, None, None, None, None, None, None, None, None, None, None, None, None, None, None, None, None, None, None, None, None, None, None, None, None, None, None, None, None, None, None, None, None, None, None, None, None, None, None, None, None, None, None, None, None, None, None, None, None, None, None, None, None, None, None, None, None, None, None, None, None, None, None, None, None, None, None, None, None, None, None, None, None, None, None, None, None, None, None, None, None, None, None, None, None, None, None, None, None, None, None, None, None, None, None, None, None, None, None, None, None, None, None, None, None, None, None, None, None, None, None, None, None, None, None, None, None, None, None, None, None, None, None, None, None, None, None, None, None, None, None, None, None, None, None, None, None, None, None, None, None, None, None, None, None, None, None, None, None, None, None, None, None, None, None, None, None, None, None, None, None, None, None, None, None, None, None, None, None, None, None, None, None, None, None, None, None, None, None, None, None, None, None, None, None, None, None, None, None, None, None, None, None, None, None, None, None, None, None, None, None, None, None, None, None, None, None, None, None, None, None, None, None, None, None, None, None, None, None, None, None, None, None, None, None, None, None, None, None, None, None, None, None, None, None, None, None, None, None, None, None, None, None, None, None, None, None, None, None, None, None, None, None, None, None, None, None, None, None, None, None, None, None, None, None, None, None, None, None, None, None, None, None, None, None, None, None, None, None, None, None, None, None, None, None, None, None, None, None, None, None, None, None, None, None, None, None, None, None, None, None, None, None, None, None, None, None, None, None, None, None, None, None, None, None, None, None, None, None, None, None, None, None, None, None, None, None, None, None, None, None, None, None, None, None, None, None, None, None, None, None, None, None, None, None, None, None, None, None, None, None, None, None, None, None, None, None, None, None, None, None, None, None, None, None, None, None, None, None, None, None, None, None, None, None, None, None, None, None, None, None, None, None, None, None, None, None, None, None, None, None, None, None, None, None, None, None, None, None, None, None, None, None, None, None, None, None, None, None, None, None, None, None, None, None, None, None, None, None, None, None, None, None, None, None, None, None, None, None, None, None, None, None, None, None, None, None, None, None, None, None, None, None, None, None, None, None, None, None, None, None, None, None, None, None, None, None, None, None, None, None, None, None, None, None, None, None, None, None, None, None, None, None, None, None, None, None, None, None, None, None, None, None, None, None, None, None, None, None, None, None, None, None, None, None, None, None, None, None, None, None, None, None, None, None, None, None, None, None, None, None, None, None, None, None, None, None, None, None, None, None, None, None, None, None, None, None, None, None, None, None, None, None, None, None, None, None, None, None, None, None, None, None, None, None, None, None, None, None, None, None, None, None, None, None, None, None, None, None, None, None, None, None, None, None, None, None, None, None, None, None, None, None, None, None, None, None, None, None, None, None, None, None, None, None, None, None, None, None, None, None, None, None, None, None, None, None, None, None, None, None, None, None, None, None, None, None, None, None, None, None, None, None, None, None, None, None, None, None, None, None, None, None, None, None, None, None, None, None, None, None, None, None, None, None, None, None, None, None, None, None, None, None, None, None, None, None, None, None, None, None, None, None, None, None, None, None, None, None, None, None, None, None, None, None, None, None, None, None, None, None, None, None, None, None, None, None, None, None, None, None, None, None, None, None, None, None, None, None, None, None, None, None, None, None, None, None, None, None, None, None, None, None, None, None, None, None, None, None, None, None, None, None, None, None, None, None, None, None, None, None, None, None, None, None, None, None, None, None, None, None, None, None, None, None, None, None, None, None, None, None, None, None, None, None, None, None, None, None, None, None, None, None, None, None, None, None, None, None, None, None, None, None, None, None, None, None, None, None, None, None, None, None, None, None, None, None, None, None, None, None, None, None, None, None, None, None, None, None, None, None, None, None, None, None, None, None, None, None, None, None, None, None, None, None, None, None, None, None, None, None, None, None, None, None, None, None, None, None, None, None, None, None, None, None, None, None, None, None, None, None, None, None, None, None, None, None, None, None, None, None, None, None, None, None, None, None, None, None, None, None, None, None, None, None, None, None, None, None, None, None, None, None, None, None, None, None, None, None, None, None, None, None, None, None, None, None, None, None, None, None, None, None, None, None, None, None, None, None, None, None, None, None, None, None, None, None, None, None, None, None, None, None, None, None, None, None, None, None, None, None, None, None, None, None, None, None, None, None, None, None, None, None, None, None, None, None, None, None, None, None, None, None, None, None, None, None, None, None, None, None, None, None, None, None, None, None, None, None, None, None, None, None, None, None, None, None, None, None, None, None, None, None, None, None, None, None, None, None, None, None, None, None, None, None, None, None, None, None, None, None, None, None, None, None, None, None, None, None, None, None, None, None, None, None, None, None, None, None, None, None, None, None, None, None, None, None, None, None, None, None, None, None, None, None, None, None, None, None, None, None, None, None, None, None, None, None, None, None, None, None, None, None, None, None, None, None, None, None, None, None, None, None, None, None, None, None, None, None, None, None, None, None, None, None, None, None, None, None, None, None, None, None, None, None, None, None, None, None, None, None, None, None, None, None, None, None, None, None, None, None, None, None, None, None, None, None, None, None, None, None, None, None, None, None, None, None, None, None, None, None, None, None, None, None, None, None, None, None, None, None, None, None, None, None, None, None, None, None, None, None, None, None, None, None, None, None, None, None, None, None, None, None, None, None, None, None, None, None, None, None, None, None, None, None, None, None, None, None, None, None, None, None, None, None, None, None, None, None, None, None, None, None, None, None, None, None, None, None, None, None, None, None, None, None, None, None, None, None, None, None, None, None, None, None, None, None, None, None, None, None, None, None, None, None, None, None, None, None, None, None, None, None, None, None, None, None, None, None, None, None, None, None, None, None, None, None, None, None, None, None, None, None, None, None, None, None, None, None, None, None, None, None, None, None, None, None, None, None, None, None, None, None, None, None, None, None, None, None, None, None, None, None, None, None, None, None, None, None, None, None, None, None, None, None, None, None, None, None, None, None, None, None, None, None, None, None, None, None, None, None, None, None, None, None, None, None, None, None, None, None, None, None, None, None, None, None, None, None, None, None, None, None, None, None, None, None, None, None, None, None, None, None, None, None, None, None, None, None, None, None, None, None, None, None, None, None, None, None, None, None, None, None, None, None, None, None, None, None, None, None, None, None, None, None, None, None, None, None, None, None, None, None, None, None, None, None, None, None, None, None, None, None, None, None, None, None, None, None, None, None, None, None, None, None, None, None, None, None, None, None, None, None, None, None, None, None, None, None, None, None, None, None, None, None, None, None, None, None, None, None, None, None, None, None, None, None, None, None, None, None, None, None, None, None, None, None, None, None, None, None, None, None, None, None, None, None, None, None, None, None, None, None, None, None, None, None, None, None, None, None, None, None, None, None, None, None, None, None, None, None, None, None, None, None, None, None, None, None, None, None, None, None, None, None, None, None, None, None, None, None, None, None, None, None, None, None, None, None], \n",
            "\tover the training epochs, respectively.\n"
          ],
          "name": "stdout"
        },
        {
          "output_type": "stream",
          "text": [
            "\n"
          ],
          "name": "stderr"
        }
      ]
    },
    {
      "cell_type": "markdown",
      "metadata": {
        "id": "47DGt7MKNhDu"
      },
      "source": [
        "#### Visualizing the plots:"
      ]
    },
    {
      "cell_type": "code",
      "metadata": {
        "id": "Ffs5QkbRNhDu",
        "colab": {
          "base_uri": "https://localhost:8080/",
          "height": 573
        },
        "outputId": "1adb15e8-90e6-4e32-c9f9-17514a2b2a89"
      },
      "source": [
        "plot_loss_graph(tr_loss,val_loss)\n",
        "plot_auc_graph(tr_auc,val_auc) \n",
        "\n"
      ],
      "execution_count": 12,
      "outputs": [
        {
          "output_type": "display_data",
          "data": {
            "image/png": "[encoded data removed]",
            "text/plain": [
              "<Figure size 432x288 with 1 Axes>"
            ]
          },
          "metadata": {
            "tags": [],
            "needs_background": "light"
          }
        },
        {
          "output_type": "display_data",
          "data": {
            "image/png": "[encoded data removed]",
            "text/plain": [
              "<Figure size 432x288 with 1 Axes>"
            ]
          },
          "metadata": {
            "tags": [],
            "needs_background": "light"
          }
        }
      ]
    },
    {
      "cell_type": "markdown",
      "metadata": {
        "id": "TpCqUVVkpINB"
      },
      "source": [
        "We got a loss of ~0.33 on validation set when auc on validation set is ~0.92. we stopped the training when the validation loss improvment is too small over 5 consecutive epoches "
      ]
    },
    {
      "cell_type": "markdown",
      "metadata": {
        "id": "l0rfAb_anAnE"
      },
      "source": [
        "**Adding Hidden layers to classifyer**\r\n",
        "Now we want to check if adding more hidden layers to the classifyer will improve the results"
      ]
    },
    {
      "cell_type": "code",
      "metadata": {
        "colab": {
          "base_uri": "https://localhost:8080/",
          "height": 1000
        },
        "id": "_hQGPw-ynOpG",
        "outputId": "e7273814-69d2-414b-8d91-f01dfc3b895c"
      },
      "source": [
        "classifyer_with_3_layers = nn.Sequential(\r\n",
        "    nn.Linear(512, 20), nn.Linear(20, 10), nn.Linear(10, 2))\r\n",
        "net_with_3_layers_in_head = MyResNet(classifyer_with_3_layers, 18)\r\n",
        "tr_loss_3_layers, val_loss_3_layers, test_loss_3_layers, tr_auc_3_layers, val_auc_3_layers, untrained_test_loss_3_layers, untrained_test_auc_3_layers = training_loop(\r\n",
        "    args,\r\n",
        "    net_with_3_layers_in_head,\r\n",
        "    X_extracted_features_train,\r\n",
        "    y_extracted_features_train,\r\n",
        "    X_extracted_features_test,\r\n",
        "    y_extracted_features_test,\r\n",
        "    val_dataloader=None,\r\n",
        "    criterion_func=nn.CrossEntropyLoss\r\n",
        ")\r\n",
        "plot_loss_graph(tr_loss_3_layers, val_loss_3_layers)\r\n",
        "plot_auc_graph(tr_auc_3_layers, val_auc_3_layers)"
      ],
      "execution_count": 13,
      "outputs": [
        {
          "output_type": "stream",
          "text": [
            "100%|██████████| 11/11 [00:00<00:00, 349.04it/s]\n",
            "100%|██████████| 11/11 [00:00<00:00, 399.98it/s]\n",
            "100%|██████████| 11/11 [00:00<00:00, 401.89it/s]\n",
            "100%|██████████| 11/11 [00:00<00:00, 417.44it/s]\n",
            "100%|██████████| 11/11 [00:00<00:00, 418.29it/s]\n",
            "100%|██████████| 11/11 [00:00<00:00, 417.49it/s]\n",
            "100%|██████████| 11/11 [00:00<00:00, 419.19it/s]\n",
            "  0%|          | 0/11 [00:00<?, ?it/s]"
          ],
          "name": "stderr"
        },
        {
          "output_type": "stream",
          "text": [
            "Train loss: 6.80e-01, Val loss: 6.63e-01\n",
            "Best val loss is: 6.63e-01\n",
            "Train loss: 6.55e-01, Val loss: 6.43e-01\n",
            "Best val loss is: 6.43e-01\n",
            "Train loss: 6.34e-01, Val loss: 6.21e-01\n",
            "Best val loss is: 6.21e-01\n",
            "Train loss: 6.13e-01, Val loss: 6.00e-01\n",
            "Best val loss is: 6.00e-01\n",
            "Train loss: 5.92e-01, Val loss: 5.79e-01\n",
            "Best val loss is: 5.79e-01\n",
            "Train loss: 5.71e-01, Val loss: 5.58e-01\n",
            "Best val loss is: 5.58e-01\n",
            "Train loss: 5.50e-01, Val loss: 5.38e-01\n",
            "Best val loss is: 5.38e-01\n"
          ],
          "name": "stdout"
        },
        {
          "output_type": "stream",
          "text": [
            "100%|██████████| 11/11 [00:00<00:00, 389.34it/s]\n",
            "100%|██████████| 11/11 [00:00<00:00, 411.29it/s]\n",
            "100%|██████████| 11/11 [00:00<00:00, 410.94it/s]\n",
            "100%|██████████| 11/11 [00:00<00:00, 351.90it/s]\n",
            "100%|██████████| 11/11 [00:00<00:00, 405.30it/s]\n",
            "100%|██████████| 11/11 [00:00<00:00, 414.39it/s]\n",
            "100%|██████████| 11/11 [00:00<00:00, 377.77it/s]"
          ],
          "name": "stderr"
        },
        {
          "output_type": "stream",
          "text": [
            "Train loss: 5.29e-01, Val loss: 5.19e-01\n",
            "Best val loss is: 5.19e-01\n",
            "Train loss: 5.10e-01, Val loss: 5.01e-01\n",
            "Best val loss is: 5.01e-01\n",
            "Train loss: 4.91e-01, Val loss: 4.85e-01\n",
            "Best val loss is: 4.85e-01\n",
            "Train loss: 4.74e-01, Val loss: 4.70e-01\n",
            "Best val loss is: 4.70e-01\n",
            "Train loss: 4.58e-01, Val loss: 4.57e-01\n",
            "Best val loss is: 4.57e-01\n",
            "Train loss: 4.44e-01, Val loss: 4.44e-01\n",
            "Best val loss is: 4.44e-01\n"
          ],
          "name": "stdout"
        },
        {
          "output_type": "stream",
          "text": [
            "\n",
            "100%|██████████| 11/11 [00:00<00:00, 384.64it/s]\n",
            "100%|██████████| 11/11 [00:00<00:00, 406.51it/s]\n",
            "100%|██████████| 11/11 [00:00<00:00, 422.14it/s]\n",
            "100%|██████████| 11/11 [00:00<00:00, 412.31it/s]\n",
            "100%|██████████| 11/11 [00:00<00:00, 415.92it/s]\n",
            "100%|██████████| 11/11 [00:00<00:00, 408.12it/s]\n",
            "100%|██████████| 11/11 [00:00<00:00, 371.55it/s]"
          ],
          "name": "stderr"
        },
        {
          "output_type": "stream",
          "text": [
            "Train loss: 4.30e-01, Val loss: 4.34e-01\n",
            "Best val loss is: 4.34e-01\n",
            "Train loss: 4.18e-01, Val loss: 4.24e-01\n",
            "Best val loss is: 4.24e-01\n",
            "Train loss: 4.07e-01, Val loss: 4.16e-01\n",
            "Best val loss is: 4.16e-01\n",
            "Train loss: 3.97e-01, Val loss: 4.08e-01\n",
            "Best val loss is: 4.08e-01\n",
            "Train loss: 3.88e-01, Val loss: 4.01e-01\n",
            "Best val loss is: 4.01e-01\n",
            "Train loss: 3.79e-01, Val loss: 3.95e-01\n",
            "Best val loss is: 3.95e-01\n",
            "Train loss: 3.71e-01, Val loss: 3.90e-01\n",
            "Best val loss is: 3.90e-01\n"
          ],
          "name": "stdout"
        },
        {
          "output_type": "stream",
          "text": [
            "\n",
            "100%|██████████| 11/11 [00:00<00:00, 357.38it/s]\n",
            "100%|██████████| 11/11 [00:00<00:00, 377.39it/s]\n",
            "100%|██████████| 11/11 [00:00<00:00, 393.91it/s]\n",
            "100%|██████████| 11/11 [00:00<00:00, 418.27it/s]\n",
            "100%|██████████| 11/11 [00:00<00:00, 420.32it/s]\n",
            "100%|██████████| 11/11 [00:00<00:00, 409.97it/s]"
          ],
          "name": "stderr"
        },
        {
          "output_type": "stream",
          "text": [
            "Train loss: 3.64e-01, Val loss: 3.85e-01\n",
            "Best val loss is: 3.85e-01\n",
            "Train loss: 3.57e-01, Val loss: 3.81e-01\n",
            "Best val loss is: 3.81e-01\n",
            "Train loss: 3.51e-01, Val loss: 3.77e-01\n",
            "Best val loss is: 3.77e-01\n",
            "Train loss: 3.45e-01, Val loss: 3.73e-01\n",
            "Best val loss is: 3.73e-01\n",
            "Train loss: 3.39e-01, Val loss: 3.70e-01\n",
            "Best val loss is: 3.70e-01\n",
            "Train loss: 3.34e-01, Val loss: 3.67e-01\n",
            "Best val loss is: 3.67e-01\n",
            "Train loss: 3.29e-01, Val loss: 3.64e-01\n",
            "Best val loss is: 3.64e-01\n"
          ],
          "name": "stdout"
        },
        {
          "output_type": "stream",
          "text": [
            "\n",
            "100%|██████████| 11/11 [00:00<00:00, 408.85it/s]\n",
            "100%|██████████| 11/11 [00:00<00:00, 405.91it/s]\n",
            "100%|██████████| 11/11 [00:00<00:00, 396.23it/s]\n",
            "100%|██████████| 11/11 [00:00<00:00, 366.58it/s]\n",
            "100%|██████████| 11/11 [00:00<00:00, 378.44it/s]\n",
            "100%|██████████| 11/11 [00:00<00:00, 413.97it/s]\n",
            "100%|██████████| 11/11 [00:00<00:00, 421.13it/s]"
          ],
          "name": "stderr"
        },
        {
          "output_type": "stream",
          "text": [
            "Train loss: 3.24e-01, Val loss: 3.62e-01\n",
            "Best val loss is: 3.62e-01\n",
            "Train loss: 3.20e-01, Val loss: 3.60e-01\n",
            "Best val loss is: 3.60e-01\n",
            "Train loss: 3.16e-01, Val loss: 3.58e-01\n",
            "Best val loss is: 3.58e-01\n",
            "Train loss: 3.12e-01, Val loss: 3.56e-01\n",
            "Best val loss is: 3.56e-01\n",
            "Train loss: 3.08e-01, Val loss: 3.54e-01\n",
            "Best val loss is: 3.54e-01\n",
            "Train loss: 3.05e-01, Val loss: 3.53e-01\n",
            "Best val loss is: 3.53e-01\n"
          ],
          "name": "stdout"
        },
        {
          "output_type": "stream",
          "text": [
            "\n",
            "100%|██████████| 11/11 [00:00<00:00, 389.65it/s]\n",
            "100%|██████████| 11/11 [00:00<00:00, 404.15it/s]\n",
            "100%|██████████| 11/11 [00:00<00:00, 414.71it/s]\n",
            "100%|██████████| 11/11 [00:00<00:00, 419.38it/s]\n",
            "100%|██████████| 11/11 [00:00<00:00, 401.04it/s]\n",
            "100%|██████████| 11/11 [00:00<00:00, 388.10it/s]\n"
          ],
          "name": "stderr"
        },
        {
          "output_type": "stream",
          "text": [
            "Train loss: 3.02e-01, Val loss: 3.51e-01\n",
            "Best val loss is: 3.51e-01\n",
            "Train loss: 2.98e-01, Val loss: 3.50e-01\n",
            "Best val loss is: 3.50e-01\n",
            "Train loss: 2.95e-01, Val loss: 3.49e-01\n",
            "Best val loss is: 3.49e-01\n",
            "Train loss: 2.92e-01, Val loss: 3.48e-01\n",
            "Best val loss is: 3.48e-01\n",
            "Train loss: 2.90e-01, Val loss: 3.47e-01\n",
            "Best val loss is: 3.47e-01\n",
            "Train loss: 2.87e-01, Val loss: 3.46e-01\n",
            "Best val loss is: 3.46e-01\n",
            "Train loss: 2.84e-01, Val loss: 3.46e-01\n",
            "Best val loss is: 3.46e-01\n"
          ],
          "name": "stdout"
        },
        {
          "output_type": "stream",
          "text": [
            "100%|██████████| 11/11 [00:00<00:00, 316.46it/s]\n",
            "100%|██████████| 11/11 [00:00<00:00, 375.43it/s]\n",
            "100%|██████████| 11/11 [00:00<00:00, 351.38it/s]\n",
            "100%|██████████| 11/11 [00:00<00:00, 350.86it/s]\n",
            "100%|██████████| 11/11 [00:00<00:00, 352.44it/s]\n",
            "100%|██████████| 11/11 [00:00<00:00, 353.41it/s]\n",
            "  0%|          | 0/11 [00:00<?, ?it/s]"
          ],
          "name": "stderr"
        },
        {
          "output_type": "stream",
          "text": [
            "Train loss: 2.82e-01, Val loss: 3.45e-01\n",
            "Best val loss is: 3.45e-01\n",
            "Train loss: 2.79e-01, Val loss: 3.44e-01\n",
            "Best val loss is: 3.44e-01\n",
            "Train loss: 2.77e-01, Val loss: 3.44e-01\n",
            "Best val loss is: 3.44e-01\n",
            "Train loss: 2.75e-01, Val loss: 3.43e-01\n",
            "Best val loss is: 3.43e-01\n",
            "Train loss: 2.73e-01, Val loss: 3.43e-01\n",
            "Best val loss is: 3.43e-01\n",
            "Train loss: 2.71e-01, Val loss: 3.43e-01\n",
            "Best val loss is: 3.43e-01\n"
          ],
          "name": "stdout"
        },
        {
          "output_type": "stream",
          "text": [
            "100%|██████████| 11/11 [00:00<00:00, 383.07it/s]\n",
            "100%|██████████| 11/11 [00:00<00:00, 416.74it/s]\n",
            "100%|██████████| 11/11 [00:00<00:00, 349.34it/s]\n",
            "100%|██████████| 11/11 [00:00<00:00, 352.35it/s]\n",
            "100%|██████████| 11/11 [00:00<00:00, 356.74it/s]\n",
            "100%|██████████| 11/11 [00:00<00:00, 356.82it/s]\n",
            "  0%|          | 0/11 [00:00<?, ?it/s]"
          ],
          "name": "stderr"
        },
        {
          "output_type": "stream",
          "text": [
            "Train loss: 2.69e-01, Val loss: 3.42e-01\n",
            "Best val loss is: 3.42e-01\n",
            "Train loss: 2.67e-01, Val loss: 3.42e-01\n",
            "Best val loss is: 3.42e-01\n",
            "Train loss: 2.65e-01, Val loss: 3.42e-01\n",
            "Best val loss is: 3.42e-01\n",
            "Train loss: 2.63e-01, Val loss: 3.42e-01\n",
            "Best val loss is: 3.42e-01\n",
            "Train loss: 2.61e-01, Val loss: 3.42e-01\n",
            "Best val loss is: 3.42e-01\n",
            "Train loss: 2.60e-01, Val loss: 3.42e-01\n",
            "Best val loss is: 3.42e-01\n"
          ],
          "name": "stdout"
        },
        {
          "output_type": "stream",
          "text": [
            "100%|██████████| 11/11 [00:00<00:00, 312.25it/s]\n",
            "100%|██████████| 11/11 [00:00<00:00, 359.45it/s]\n",
            "100%|██████████| 11/11 [00:00<00:00, 357.58it/s]\n",
            "100%|██████████| 11/11 [00:00<00:00, 394.59it/s]\n"
          ],
          "name": "stderr"
        },
        {
          "output_type": "stream",
          "text": [
            "Train loss: 2.58e-01, Val loss: 3.42e-01\n",
            "Best val loss is: 3.42e-01\n",
            "Train loss: 2.56e-01, Val loss: 3.42e-01\n",
            "Best val loss is: 3.42e-01\n",
            "Train loss: 2.55e-01, Val loss: 3.42e-01\n",
            "Best val loss is: 3.42e-01\n",
            "Train loss: 2.53e-01, Val loss: 3.42e-01\n",
            "Best val loss is: 3.42e-01\n",
            "Stopped training after 56/5000 epochs.\n",
            "The loss is 6.97e-01 before training and 3.42e-01 after training.\n",
            "The training and validation losses are \n",
            "\t[0.6798959350585938, 0.6553937530517578, 0.6338084411621093, 0.6128209686279297, 0.5916514587402344, 0.5705092239379883, 0.5495751953125, 0.5292240905761719, 0.5097362136840821, 0.49133880615234377, 0.4741904830932617, 0.45833492279052734, 0.4437701416015625, 0.430436897277832, 0.41824935913085937, 0.4071086120605469, 0.39691062927246096, 0.3875566482543945, 0.378953742980957, 0.3710190963745117, 0.3636788558959961, 0.35686851501464845, 0.35053142547607424, 0.34461849212646484, 0.33908695220947266, 0.333899040222168, 0.3290222930908203, 0.3244278335571289, 0.32009029388427734, 0.3159871482849121, 0.3120986366271973, 0.3084069633483887, 0.3048961639404297, 0.3015520477294922, 0.29836181640625, 0.29531389236450195, 0.29239778518676757, 0.28960397720336917, 0.28692380905151366, 0.2843493461608887, 0.2818733787536621, 0.27948928833007813, 0.27719099044799805, 0.2749727439880371, 0.27282958984375, 0.27075666427612305, 0.26874954223632813, 0.2668042373657227, 0.2649169921875, 0.2630842971801758, 0.26130290985107424, 0.2595698356628418, 0.2578823852539063, 0.2562378692626953, 0.2546339416503906, 0.2530684089660645, None, None, None, None, None, None, None, None, None, None, None, None, None, None, None, None, None, None, None, None, None, None, None, None, None, None, None, None, None, None, None, None, None, None, None, None, None, None, None, None, None, None, None, None, None, None, None, None, None, None, None, None, None, None, None, None, None, None, None, None, None, None, None, None, None, None, None, None, None, None, None, None, None, None, None, None, None, None, None, None, None, None, None, None, None, None, None, None, None, None, None, None, None, None, None, None, None, None, None, None, None, None, None, None, None, None, None, None, None, None, None, None, None, None, None, None, None, None, None, None, None, None, None, None, None, None, None, None, None, None, None, None, None, None, None, None, None, None, None, None, None, None, None, None, None, None, None, None, None, None, None, None, None, None, None, None, None, None, None, None, None, None, None, None, None, None, None, None, None, None, None, None, None, None, None, None, None, None, None, None, None, None, None, None, None, None, None, None, None, None, None, None, None, None, None, None, None, None, None, None, None, None, None, None, None, None, None, None, None, None, None, None, None, None, None, None, None, None, None, None, None, None, None, None, None, None, None, None, None, None, None, None, None, None, None, None, None, None, None, None, None, None, None, None, None, None, None, None, None, None, None, None, None, None, None, None, None, None, None, None, None, None, None, None, None, None, None, None, None, None, None, None, None, None, None, None, None, None, None, None, None, None, None, None, None, None, None, None, None, None, None, None, None, None, None, None, None, None, None, None, None, None, None, None, None, None, None, None, None, None, None, None, None, None, None, None, None, None, None, None, None, None, None, None, None, None, None, None, None, None, None, None, None, None, None, None, None, None, None, None, None, None, None, None, None, None, None, None, None, None, None, None, None, None, None, None, None, None, None, None, None, None, None, None, None, None, None, None, None, None, None, None, None, None, None, None, None, None, None, None, None, None, None, None, None, None, None, None, None, None, None, None, None, None, None, None, None, None, None, None, None, None, None, None, None, None, None, None, None, None, None, None, None, None, None, None, None, None, None, None, None, None, None, None, None, None, None, None, None, None, None, None, None, None, None, None, None, None, None, None, None, None, None, None, None, None, None, None, None, None, None, None, None, None, None, None, None, None, None, None, None, None, None, None, None, None, None, None, None, None, None, None, None, None, None, None, None, None, None, None, None, None, None, None, None, None, None, None, None, None, None, None, None, None, None, None, None, None, None, None, None, None, None, None, None, None, None, None, None, None, None, None, None, None, None, None, None, None, None, None, None, None, None, None, None, None, None, None, None, None, None, None, None, None, None, None, None, None, None, None, None, None, None, None, None, None, None, None, None, None, None, None, None, None, None, None, None, None, None, None, None, None, None, None, None, None, None, None, None, None, None, None, None, None, None, None, None, None, None, None, None, None, None, None, None, None, None, None, None, None, None, None, None, None, None, None, None, None, None, None, None, None, None, None, None, None, None, None, None, None, None, None, None, None, None, None, None, None, None, None, None, None, None, None, None, None, None, None, None, None, None, None, None, None, None, None, None, None, None, None, None, None, None, None, None, None, None, None, None, None, None, None, None, None, None, None, None, None, None, None, None, None, None, None, None, None, None, None, None, None, None, None, None, None, None, None, None, None, None, None, None, None, None, None, None, None, None, None, None, None, None, None, None, None, None, None, None, None, None, None, None, None, None, None, None, None, None, None, None, None, None, None, None, None, None, None, None, None, None, None, None, None, None, None, None, None, None, None, None, None, None, None, None, None, None, None, None, None, None, None, None, None, None, None, None, None, None, None, None, None, None, None, None, None, None, None, None, None, None, None, None, None, None, None, None, None, None, None, None, None, None, None, None, None, None, None, None, None, None, None, None, None, None, None, None, None, None, None, None, None, None, None, None, None, None, None, None, None, None, None, None, None, None, None, None, None, None, None, None, None, None, None, None, None, None, None, None, None, None, None, None, None, None, None, None, None, None, None, None, None, None, None, None, None, None, None, None, None, None, None, None, None, None, None, None, None, None, None, None, None, None, None, None, None, None, None, None, None, None, None, None, None, None, None, None, None, None, None, None, None, None, None, None, None, None, None, None, None, None, None, None, None, None, None, None, None, None, None, None, None, None, None, None, None, None, None, None, None, None, None, None, None, None, None, None, None, None, None, None, None, None, None, None, None, None, None, None, None, None, None, None, None, None, None, None, None, None, None, None, None, None, None, None, None, None, None, None, None, None, None, None, None, None, None, None, None, None, None, None, None, None, None, None, None, None, None, None, None, None, None, None, None, None, None, None, None, None, None, None, None, None, None, None, None, None, None, None, None, None, None, None, None, None, None, None, None, None, None, None, None, None, None, None, None, None, None, None, None, None, None, None, None, None, None, None, None, None, None, None, None, None, None, None, None, None, None, None, None, None, None, None, None, None, None, None, None, None, None, None, None, None, None, None, None, None, None, None, None, None, None, None, None, None, None, None, None, None, None, None, None, None, None, None, None, None, None, None, None, None, None, None, None, None, None, None, None, None, None, None, None, None, None, None, None, None, None, None, None, None, None, None, None, None, None, None, None, None, None, None, None, None, None, None, None, None, None, None, None, None, None, None, None, None, None, None, None, None, None, None, None, None, None, None, None, None, None, None, None, None, None, None, None, None, None, None, None, None, None, None, None, None, None, None, None, None, None, None, None, None, None, None, None, None, None, None, None, None, None, None, None, None, None, None, None, None, None, None, None, None, None, None, None, None, None, None, None, None, None, None, None, None, None, None, None, None, None, None, None, None, None, None, None, None, None, None, None, None, None, None, None, None, None, None, None, None, None, None, None, None, None, None, None, None, None, None, None, None, None, None, None, None, None, None, None, None, None, None, None, None, None, None, None, None, None, None, None, None, None, None, None, None, None, None, None, None, None, None, None, None, None, None, None, None, None, None, None, None, None, None, None, None, None, None, None, None, None, None, None, None, None, None, None, None, None, None, None, None, None, None, None, None, None, None, None, None, None, None, None, None, None, None, None, None, None, None, None, None, None, None, None, None, None, None, None, None, None, None, None, None, None, None, None, None, None, None, None, None, None, None, None, None, None, None, None, None, None, None, None, None, None, None, None, None, None, None, None, None, None, None, None, None, None, None, None, None, None, None, None, None, None, None, None, None, None, None, None, None, None, None, None, None, None, None, None, None, None, None, None, None, None, None, None, None, None, None, None, None, None, None, None, None, None, None, None, None, None, None, None, None, None, None, None, None, None, None, None, None, None, None, None, None, None, None, None, None, None, None, None, None, None, None, None, None, None, None, None, None, None, None, None, None, None, None, None, None, None, None, None, None, None, None, None, None, None, None, None, None, None, None, None, None, None, None, None, None, None, None, None, None, None, None, None, None, None, None, None, None, None, None, None, None, None, None, None, None, None, None, None, None, None, None, None, None, None, None, None, None, None, None, None, None, None, None, None, None, None, None, None, None, None, None, None, None, None, None, None, None, None, None, None, None, None, None, None, None, None, None, None, None, None, None, None, None, None, None, None, None, None, None, None, None, None, None, None, None, None, None, None, None, None, None, None, None, None, None, None, None, None, None, None, None, None, None, None, None, None, None, None, None, None, None, None, None, None, None, None, None, None, None, None, None, None, None, None, None, None, None, None, None, None, None, None, None, None, None, None, None, None, None, None, None, None, None, None, None, None, None, None, None, None, None, None, None, None, None, None, None, None, None, None, None, None, None, None, None, None, None, None, None, None, None, None, None, None, None, None, None, None, None, None, None, None, None, None, None, None, None, None, None, None, None, None, None, None, None, None, None, None, None, None, None, None, None, None, None, None, None, None, None, None, None, None, None, None, None, None, None, None, None, None, None, None, None, None, None, None, None, None, None, None, None, None, None, None, None, None, None, None, None, None, None, None, None, None, None, None, None, None, None, None, None, None, None, None, None, None, None, None, None, None, None, None, None, None, None, None, None, None, None, None, None, None, None, None, None, None, None, None, None, None, None, None, None, None, None, None, None, None, None, None, None, None, None, None, None, None, None, None, None, None, None, None, None, None, None, None, None, None, None, None, None, None, None, None, None, None, None, None, None, None, None, None, None, None, None, None, None, None, None, None, None, None, None, None, None, None, None, None, None, None, None, None, None, None, None, None, None, None, None, None, None, None, None, None, None, None, None, None, None, None, None, None, None, None, None, None, None, None, None, None, None, None, None, None, None, None, None, None, None, None, None, None, None, None, None, None, None, None, None, None, None, None, None, None, None, None, None, None, None, None, None, None, None, None, None, None, None, None, None, None, None, None, None, None, None, None, None, None, None, None, None, None, None, None, None, None, None, None, None, None, None, None, None, None, None, None, None, None, None, None, None, None, None, None, None, None, None, None, None, None, None, None, None, None, None, None, None, None, None, None, None, None, None, None, None, None, None, None, None, None, None, None, None, None, None, None, None, None, None, None, None, None, None, None, None, None, None, None, None, None, None, None, None, None, None, None, None, None, None, None, None, None, None, None, None, None, None, None, None, None, None, None, None, None, None, None, None, None, None, None, None, None, None, None, None, None, None, None, None, None, None, None, None, None, None, None, None, None, None, None, None, None, None, None, None, None, None, None, None, None, None, None, None, None, None, None, None, None, None, None, None, None, None, None, None, None, None, None, None, None, None, None, None, None, None, None, None, None, None, None, None, None, None, None, None, None, None, None, None, None, None, None, None, None, None, None, None, None, None, None, None, None, None, None, None, None, None, None, None, None, None, None, None, None, None, None, None, None, None, None, None, None, None, None, None, None, None, None, None, None, None, None, None, None, None, None, None, None, None, None, None, None, None, None, None, None, None, None, None, None, None, None, None, None, None, None, None, None, None, None, None, None, None, None, None, None, None, None, None, None, None, None, None, None, None, None, None, None, None, None, None, None, None, None, None, None, None, None, None, None, None, None, None, None, None, None, None, None, None, None, None, None, None, None, None, None, None, None, None, None, None, None, None, None, None, None, None, None, None, None, None, None, None, None, None, None, None, None, None, None, None, None, None, None, None, None, None, None, None, None, None, None, None, None, None, None, None, None, None, None, None, None, None, None, None, None, None, None, None, None, None, None, None, None, None, None, None, None, None, None, None, None, None, None, None, None, None, None, None, None, None, None, None, None, None, None, None, None, None, None, None, None, None, None, None, None, None, None, None, None, None, None, None, None, None, None, None, None, None, None, None, None, None, None, None, None, None, None, None, None, None, None, None, None, None, None, None, None, None, None, None, None, None, None, None, None, None, None, None, None, None, None, None, None, None, None, None, None, None, None, None, None, None, None, None, None, None, None, None, None, None, None, None, None, None, None, None, None, None, None, None, None, None, None, None, None, None, None, None, None, None, None, None, None, None, None, None, None, None, None, None, None, None, None, None, None, None, None, None, None, None, None, None, None, None, None, None, None, None, None, None, None, None, None, None, None, None, None, None, None, None, None, None, None, None, None, None, None, None, None, None, None, None, None, None, None, None, None, None, None, None, None, None, None, None, None, None, None, None, None, None, None, None, None, None, None, None, None, None, None, None, None, None, None, None, None, None, None, None, None, None, None, None, None, None, None, None, None, None, None, None, None, None, None, None, None, None, None, None, None, None, None, None, None, None, None, None, None, None, None, None, None, None, None, None, None, None, None, None, None, None, None, None, None, None, None, None, None, None, None, None, None, None, None, None, None, None, None, None, None, None, None, None, None, None, None, None, None, None, None, None, None, None, None, None, None, None, None, None, None, None, None, None, None, None, None, None, None, None, None, None, None, None, None, None, None, None, None, None, None, None, None, None, None, None, None, None, None, None, None, None, None, None, None, None, None, None, None, None, None, None, None, None, None, None, None, None, None, None, None, None, None, None, None, None, None, None, None, None, None, None, None, None, None, None, None, None, None, None, None, None, None, None, None, None, None, None, None, None, None, None, None, None, None, None, None, None, None, None, None, None, None, None, None, None, None, None, None, None, None, None, None, None, None, None, None, None, None, None, None, None, None, None, None, None, None, None, None, None, None, None, None, None, None, None, None, None, None, None, None, None, None, None, None, None, None, None, None, None, None, None, None, None, None, None, None, None, None, None, None, None, None, None, None, None, None, None, None, None, None, None, None, None, None, None, None, None, None, None, None, None, None, None, None, None, None, None, None, None, None, None, None, None, None, None, None, None, None, None, None, None, None, None, None, None, None, None, None, None, None, None, None, None, None, None, None, None, None, None, None, None, None, None, None, None, None, None, None, None, None, None, None, None, None, None, None, None, None, None, None, None, None, None, None, None, None, None, None, None, None, None, None, None, None, None, None, None, None, None, None, None, None, None, None, None, None, None, None, None, None, None, None, None, None, None, None, None, None, None, None, None, None, None, None, None, None, None, None, None, None, None, None, None, None, None, None, None, None, None, None, None, None, None, None, None, None, None, None, None, None, None, None, None, None, None, None, None, None, None, None, None, None, None, None, None, None, None, None, None, None, None, None, None, None, None, None, None, None, None, None, None, None, None, None, None, None, None, None, None, None, None, None, None, None, None, None, None, None, None, None, None, None, None, None, None, None, None, None, None, None, None, None, None, None, None, None, None, None, None, None, None, None, None, None, None, None, None, None, None, None, None, None, None, None, None, None, None, None, None, None, None, None, None, None, None, None, None, None, None, None, None, None, None, None, None, None, None, None, None, None, None, None, None, None, None, None, None, None, None, None, None, None, None, None, None, None, None, None, None, None, None, None, None, None, None, None, None, None, None, None, None, None, None, None, None, None, None, None, None, None, None, None, None, None, None, None, None, None, None, None, None, None, None, None, None, None, None, None, None, None, None, None, None, None, None, None, None, None, None, None, None, None, None, None, None, None, None, None, None, None, None, None, None, None, None, None, None, None, None, None, None, None, None, None, None, None, None, None, None, None, None, None, None, None, None, None, None, None, None, None, None, None, None, None, None, None, None, None, None, None, None, None, None, None, None, None, None, None, None, None, None, None, None, None, None, None, None, None, None, None, None, None, None, None, None, None, None, None, None, None, None, None, None, None, None, None, None, None, None, None, None, None, None, None, None, None, None, None, None, None, None, None, None, None, None, None, None, None, None, None, None, None, None, None, None, None, None, None, None, None, None, None, None, None, None, None, None, None, None, None, None, None, None, None, None, None, None, None, None, None, None, None, None, None, None, None, None, None, None, None, None, None, None, None, None, None, None, None, None, None, None, None, None, None, None, None, None, None, None, None, None, None, None, None, None, None, None, None, None, None, None, None, None, None, None, None, None, None, None, None, None, None, None, None, None, None, None, None, None, None, None, None, None, None, None, None, None, None, None, None, None, None, None, None, None, None, None, None, None, None, None, None, None, None, None, None, None, None, None, None, None, None, None, None, None, None, None, None, None, None, None, None, None, None, None, None, None, None, None, None, None, None, None, None, None, None, None, None, None, None, None, None, None, None, None, None, None, None, None, None, None, None, None, None, None, None, None, None, None, None, None, None, None, None, None, None, None, None, None, None, None, None, None, None, None, None, None, None, None, None, None, None, None, None, None, None, None, None, None, None, None, None, None, None, None, None, None, None, None, None, None, None, None, None, None, None, None, None, None, None, None, None, None, None, None, None, None, None, None, None, None, None, None, None, None, None, None, None, None, None, None, None, None, None, None, None, None, None, None, None, None, None, None, None, None, None, None, None, None, None, None, None, None, None, None, None, None, None, None, None, None, None, None, None, None, None, None, None, None, None, None, None, None, None, None, None, None, None, None, None, None, None, None, None, None, None, None, None, None, None, None, None, None, None, None, None, None, None, None, None, None, None, None, None, None, None, None, None, None, None, None, None, None, None, None, None, None, None, None, None, None, None, None, None, None, None, None, None, None, None, None, None, None, None, None, None, None, None, None, None, None, None, None, None, None, None, None, None, None, None, None, None, None, None, None, None, None, None, None, None, None, None, None, None, None, None, None, None, None, None, None, None, None, None, None, None, None, None, None, None, None, None, None, None, None, None, None, None, None, None, None, None, None, None, None, None, None, None, None, None, None, None, None, None, None, None, None, None, None, None, None, None, None, None, None, None, None, None, None, None, None, None, None, None, None, None, None, None, None, None, None, None, None, None, None, None, None, None, None, None, None, None, None, None, None, None, None, None, None, None, None, None, None, None, None, None, None, None, None, None, None, None, None, None, None, None, None, None, None, None, None, None, None, None, None, None, None, None, None, None, None, None, None, None, None, None, None, None, None, None, None, None, None, None, None, None, None, None, None, None, None, None, None, None, None, None, None, None, None, None, None, None, None, None, None, None, None, None, None, None, None, None, None, None, None, None, None, None, None, None, None, None, None, None, None, None, None, None, None, None, None, None, None, None, None, None, None, None, None, None, None, None, None, None, None, None, None, None, None, None, None, None, None, None, None, None, None, None, None, None, None, None, None, None, None, None, None, None, None, None, None, None, None, None, None, None, None, None, None, None, None, None, None, None, None, None, None, None, None, None, None, None, None, None, None, None, None, None, None, None, None, None, None, None, None, None, None, None, None, None, None, None, None, None, None, None, None, None, None, None, None, None, None, None, None, None, None, None, None, None, None, None, None, None, None, None, None, None, None, None, None, None, None, None, None, None, None, None, None, None, None, None, None, None, None, None, None, None, None, None, None, None, None, None, None, None, None, None, None, None, None, None, None, None, None, None, None, None, None, None, None, None, None, None, None, None, None, None, None, None, None, None, None, None, None, None, None, None, None, None, None, None, None, None, None, None, None, None, None, None, None, None, None, None, None, None, None, None, None, None, None, None, None, None, None, None, None, None, None, None, None, None, None, None, None, None, None, None, None, None, None, None, None, None, None, None, None, None, None, None, None, None, None, None, None, None, None, None, None, None, None, None, None, None, None, None, None, None, None, None, None, None, None, None, None, None, None, None, None, None, None, None, None, None, None, None, None, None, None, None, None, None, None, None, None, None, None, None, None, None, None, None, None, None, None, None, None, None, None, None, None, None, None, None, None, None, None, None, None, None, None, None, None, None, None, None, None, None, None, None, None, None, None, None, None, None, None, None, None, None, None, None, None, None, None, None, None, None, None, None, None, None, None, None, None, None, None, None, None, None, None, None, None, None, None, None, None, None, None, None, None, None, None, None, None, None, None, None, None, None, None, None, None, None, None, None, None, None, None, None, None, None, None, None, None, None, None, None, None, None, None, None, None, None, None, None, None, None, None, None, None, None, None, None, None, None, None, None, None, None, None, None, None, None, None, None, None, None, None, None, None, None, None, None, None, None, None, None, None, None, None, None, None, None, None, None, None, None, None, None, None, None, None, None, None, None, None, None, None, None, None, None, None, None, None, None, None, None, None, None, None, None, None, None, None, None, None, None, None, None, None, None, None, None, None, None, None, None, None, None, None, None, None, None, None, None, None, None, None, None, None, None, None, None, None, None, None, None, None, None, None, None, None, None, None, None, None, None, None, None, None, None, None, None, None, None, None, None, None, None, None, None, None, None, None, None, None, None, None, None, None, None, None, None, None, None, None, None, None, None, None, None, None, None, None, None, None, None, None, None, None, None, None, None, None, None, None, None, None, None, None, None, None, None, None, None, None, None, None, None, None, None, None, None, None, None, None, None, None, None, None, None, None, None, None, None, None, None, None, None, None, None, None, None, None, None, None, None, None, None, None, None, None, None, None, None, None, None, None, None, None, None, None, None, None, None, None, None, None, None, None, None, None, None, None, None, None, None, None, None, None, None, None, None, None, None, None, None, None, None, None, None, None, None, None, None, None, None, None, None, None, None, None, None, None, None, None, None, None, None, None, None, None, None, None, None, None, None, None, None, None, None, None, None, None, None, None, None, None, None, None, None, None, None, None, None, None, None, None, None, None, None, None, None, None, None, None, None, None, None, None, None, None, None, None, None, None, None, None, None, None, None, None, None, None, None, None, None, None, None, None, None, None, None, None, None, None, None, None, None, None, None, None, None, None, None, None, None, None, None, None, None, None, None, None, None, None, None, None, None, None, None, None, None, None, None, None, None, None, None, None, None, None, None, None, None, None, None, None, None, None, None, None, None, None, None, None, None, None, None, None, None, None, None, None, None, None, None, None, None, None, None, None, None, None, None, None, None, None, None, None, None, None, None, None, None, None, None, None, None, None, None, None, None, None, None, None, None, None, None, None, None, None, None, None, None, None, None, None, None, None, None, None, None, None, None, None, None, None, None, None, None, None, None, None, None, None, None, None, None, None, None, None, None, None, None, None, None, None, None, None, None, None, None, None, None, None, None, None, None, None, None, None, None, None, None, None, None, None, None, None, None, None, None, None, None, None, None, None, None, None, None, None, None, None, None, None, None, None, None, None, None, None, None, None, None, None, None, None, None, None, None, None, None, None, None, None, None, None, None, None, None, None, None, None, None, None, None, None, None, None, None, None, None, None, None, None, None, None, None, None, None, None, None, None, None, None, None, None, None, None, None, None, None, None, None, None, None, None, None, None, None, None, None, None, None, None, None, None, None, None, None, None, None, None, None, None, None, None, None, None, None, None, None, None, None, None, None, None, None, None, None, None, None, None, None, None, None, None, None, None, None, None, None, None, None, None, None, None, None, None, None, None, None, None, None, None, None, None, None, None, None, None, None, None, None, None, None, None, None, None, None, None, None, None, None, None, None, None, None, None, None, None, None, None, None, None, None, None, None, None, None, None, None, None, None, None, None, None, None, None, None, None, None, None, None, None, None, None, None, None, None, None, None, None, None, None, None, None, None, None, None, None, None, None, None, None, None, None, None, None, None, None, None, None, None, None, None, None, None, None, None, None, None, None, None, None, None, None, None, None, None, None, None, None, None, None, None, None, None, None, None, None, None, None, None, None, None, None, None, None, None, None, None, None, None, None, None, None, None, None, None, None, None, None, None, None, None, None, None, None, None, None, None, None, None, None, None, None, None, None, None, None, None, None, None, None, None, None, None, None, None, None, None, None, None, None, None, None, None, None, None, None, None, None, None, None, None, None, None, None, None, None, None, None, None, None, None, None, None, None, None, None, None, None, None, None, None, None, None, None, None, None, None, None, None, None, None, None, None, None, None, None, None, None, None, None, None, None, None, None, None, None, None, None, None, None, None, None, None, None, None, None, None, None, None, None, None, None, None, None, None, None, None, None, None, None, None, None, None, None, None, None, None, None, None, None, None, None, None, None, None, None, None, None, None, None, None, None, None, None, None, None, None, None, None, None, None, None, None, None, None, None, None, None, None, None, None, None, None, None, None, None, None, None, None, None, None, None, None, None, None, None, None, None, None, None, None, None, None, None, None, None, None, None, None, None, None, None, None, None, None, None, None, None, None, None, None, None, None, None, None, None, None], \n",
            "\t[0.6632300615310669, 0.6426001191139221, 0.6205783486366272, 0.5996753573417664, 0.5789480805397034, 0.5581439733505249, 0.538135826587677, 0.5191150903701782, 0.5012673139572144, 0.4848766624927521, 0.46995192766189575, 0.4565047025680542, 0.44446709752082825, 0.4337272346019745, 0.42416897416114807, 0.41565945744514465, 0.408079594373703, 0.4013144373893738, 0.3952641487121582, 0.38984015583992004, 0.38496702909469604, 0.3805779814720154, 0.37661778926849365, 0.3730381727218628, 0.36979740858078003, 0.3668597638607025, 0.3641946017742157, 0.36177492141723633, 0.3595771789550781, 0.3575809597969055, 0.35576799511909485, 0.3541220724582672, 0.3526286780834198, 0.3512752056121826, 0.35005050897598267, 0.348943829536438, 0.34794604778289795, 0.34704869985580444, 0.34624433517456055, 0.34552595019340515, 0.3448869585990906, 0.3443220257759094, 0.3438253700733185, 0.3433932065963745, 0.3430202901363373, 0.3427025377750397, 0.34243646264076233, 0.3422189950942993, 0.34204643964767456, 0.3419157862663269, 0.34182459115982056, 0.34177088737487793, 0.3417512774467468, 0.3417646586894989, 0.3418084681034088, 0.34188112616539, None, None, None, None, None, None, None, None, None, None, None, None, None, None, None, None, None, None, None, None, None, None, None, None, None, None, None, None, None, None, None, None, None, None, None, None, None, None, None, None, None, None, None, None, None, None, None, None, None, None, None, None, None, None, None, None, None, None, None, None, None, None, None, None, None, None, None, None, None, None, None, None, None, None, None, None, None, None, None, None, None, None, None, None, None, None, None, None, None, None, None, None, None, None, None, None, None, None, None, None, None, None, None, None, None, None, None, None, None, None, None, None, None, None, None, None, None, None, None, None, None, None, None, None, None, None, None, None, None, None, None, None, None, None, None, None, None, None, None, None, None, None, None, None, None, None, None, None, None, None, None, None, None, None, None, None, None, None, None, None, None, None, None, None, None, None, None, None, None, None, None, None, None, None, None, None, None, None, None, None, None, None, None, None, None, None, None, None, None, None, None, None, None, None, None, None, None, None, None, None, None, None, None, None, None, None, None, None, None, None, None, None, None, None, None, None, None, None, None, None, None, None, None, None, None, None, None, None, None, None, None, None, None, None, None, None, None, None, None, None, None, None, None, None, None, None, None, None, None, None, None, None, None, None, None, None, None, None, None, None, None, None, None, None, None, None, None, None, None, None, None, None, None, None, None, None, None, None, None, None, None, None, None, None, None, None, None, None, None, None, None, None, None, None, None, None, None, None, None, None, None, None, None, None, None, None, None, None, None, None, None, None, None, None, None, None, None, None, None, None, None, None, None, None, None, None, None, None, None, None, None, None, None, None, None, None, None, None, None, None, None, None, None, None, None, None, None, None, None, None, None, None, None, None, None, None, None, None, None, None, None, None, None, None, None, None, None, None, None, None, None, None, None, None, None, None, None, None, None, None, None, None, None, None, None, None, None, None, None, None, None, None, None, None, None, None, None, None, None, None, None, None, None, None, None, None, None, None, None, None, None, None, None, None, None, None, None, None, None, None, None, None, None, None, None, None, None, None, None, None, None, None, None, None, None, None, None, None, None, None, None, None, None, None, None, None, None, None, None, None, None, None, None, None, None, None, None, None, None, None, None, None, None, None, None, None, None, None, None, None, None, None, None, None, None, None, None, None, None, None, None, None, None, None, None, None, None, None, None, None, None, None, None, None, None, None, None, None, None, None, None, None, None, None, None, None, None, None, None, None, None, None, None, None, None, None, None, None, None, None, None, None, None, None, None, None, None, None, None, None, None, None, None, None, None, None, None, None, None, None, None, None, None, None, None, None, None, None, None, None, None, None, None, None, None, None, None, None, None, None, None, None, None, None, None, None, None, None, None, None, None, None, None, None, None, None, None, None, None, None, None, None, None, None, None, None, None, None, None, None, None, None, None, None, None, None, None, None, None, None, None, None, None, None, None, None, None, None, None, None, None, None, None, None, None, None, None, None, None, None, None, None, None, None, None, None, None, None, None, None, None, None, None, None, None, None, None, None, None, None, None, None, None, None, None, None, None, None, None, None, None, None, None, None, None, None, None, None, None, None, None, None, None, None, None, None, None, None, None, None, None, None, None, None, None, None, None, None, None, None, None, None, None, None, None, None, None, None, None, None, None, None, None, None, None, None, None, None, None, None, None, None, None, None, None, None, None, None, None, None, None, None, None, None, None, None, None, None, None, None, None, None, None, None, None, None, None, None, None, None, None, None, None, None, None, None, None, None, None, None, None, None, None, None, None, None, None, None, None, None, None, None, None, None, None, None, None, None, None, None, None, None, None, None, None, None, None, None, None, None, None, None, None, None, None, None, None, None, None, None, None, None, None, None, None, None, None, None, None, None, None, None, None, None, None, None, None, None, None, None, None, None, None, None, None, None, None, None, None, None, None, None, None, None, None, None, None, None, None, None, None, None, None, None, None, None, None, None, None, None, None, None, None, None, None, None, None, None, None, None, None, None, None, None, None, None, None, None, None, None, None, None, None, None, None, None, None, None, None, None, None, None, None, None, None, None, None, None, None, None, None, None, None, None, None, None, None, None, None, None, None, None, None, None, None, None, None, None, None, None, None, None, None, None, None, None, None, None, None, None, None, None, None, None, None, None, None, None, None, None, None, None, None, None, None, None, None, None, None, None, None, None, None, None, None, None, None, None, None, None, None, None, None, None, None, None, None, None, None, None, None, None, None, None, None, None, None, None, None, None, None, None, None, None, None, None, None, None, None, None, None, None, None, None, None, None, None, None, None, None, None, None, None, None, None, None, None, None, None, None, None, None, None, None, None, None, None, None, None, None, None, None, None, None, None, None, None, None, None, None, None, None, None, None, None, None, None, None, None, None, None, None, None, None, None, None, None, None, None, None, None, None, None, None, None, None, None, None, None, None, None, None, None, None, None, None, None, None, None, None, None, None, None, None, None, None, None, None, None, None, None, None, None, None, None, None, None, None, None, None, None, None, None, None, None, None, None, None, None, None, None, None, None, None, None, None, None, None, None, None, None, None, None, None, None, None, None, None, None, None, None, None, None, None, None, None, None, None, None, None, None, None, None, None, None, None, None, None, None, None, None, None, None, None, None, None, None, None, None, None, None, None, None, None, None, None, None, None, None, None, None, None, None, None, None, None, None, None, None, None, None, None, None, None, None, None, None, None, None, None, None, None, None, None, None, None, None, None, None, None, None, None, None, None, None, None, None, None, None, None, None, None, None, None, None, None, None, None, None, None, None, None, None, None, None, None, None, None, None, None, None, None, None, None, None, None, None, None, None, None, None, None, None, None, None, None, None, None, None, None, None, None, None, None, None, None, None, None, None, None, None, None, None, None, None, None, None, None, None, None, None, None, None, None, None, None, None, None, None, None, None, None, None, None, None, None, None, None, None, None, None, None, None, None, None, None, None, None, None, None, None, None, None, None, None, None, None, None, None, None, None, None, None, None, None, None, None, None, None, None, None, None, None, None, None, None, None, None, None, None, None, None, None, None, None, None, None, None, None, None, None, None, None, None, None, None, None, None, None, None, None, None, None, None, None, None, None, None, None, None, None, None, None, None, None, None, None, None, None, None, None, None, None, None, None, None, None, None, None, None, None, None, None, None, None, None, None, None, None, None, None, None, None, None, None, None, None, None, None, None, None, None, None, None, None, None, None, None, None, None, None, None, None, None, None, None, None, None, None, None, None, None, None, None, None, None, None, None, None, None, None, None, None, None, None, None, None, None, None, None, None, None, None, None, None, None, None, None, None, None, None, None, None, None, None, None, None, None, None, None, None, None, None, None, None, None, None, None, None, None, None, None, None, None, None, None, None, None, None, None, None, None, None, None, None, None, None, None, None, None, None, None, None, None, None, None, None, None, None, None, None, None, None, None, None, None, None, None, None, None, None, None, None, None, None, None, None, None, None, None, None, None, None, None, None, None, None, None, None, None, None, None, None, None, None, None, None, None, None, None, None, None, None, None, None, None, None, None, None, None, None, None, None, None, None, None, None, None, None, None, None, None, None, None, None, None, None, None, None, None, None, None, None, None, None, None, None, None, None, None, None, None, None, None, None, None, None, None, None, None, None, None, None, None, None, None, None, None, None, None, None, None, None, None, None, None, None, None, None, None, None, None, None, None, None, None, None, None, None, None, None, None, None, None, None, None, None, None, None, None, None, None, None, None, None, None, None, None, None, None, None, None, None, None, None, None, None, None, None, None, None, None, None, None, None, None, None, None, None, None, None, None, None, None, None, None, None, None, None, None, None, None, None, None, None, None, None, None, None, None, None, None, None, None, None, None, None, None, None, None, None, None, None, None, None, None, None, None, None, None, None, None, None, None, None, None, None, None, None, None, None, None, None, None, None, None, None, None, None, None, None, None, None, None, None, None, None, None, None, None, None, None, None, None, None, None, None, None, None, None, None, None, None, None, None, None, None, None, None, None, None, None, None, None, None, None, None, None, None, None, None, None, None, None, None, None, None, None, None, None, None, None, None, None, None, None, None, None, None, None, None, None, None, None, None, None, None, None, None, None, None, None, None, None, None, None, None, None, None, None, None, None, None, None, None, None, None, None, None, None, None, None, None, None, None, None, None, None, None, None, None, None, None, None, None, None, None, None, None, None, None, None, None, None, None, None, None, None, None, None, None, None, None, None, None, None, None, None, None, None, None, None, None, None, None, None, None, None, None, None, None, None, None, None, None, None, None, None, None, None, None, None, None, None, None, None, None, None, None, None, None, None, None, None, None, None, None, None, None, None, None, None, None, None, None, None, None, None, None, None, None, None, None, None, None, None, None, None, None, None, None, None, None, None, None, None, None, None, None, None, None, None, None, None, None, None, None, None, None, None, None, None, None, None, None, None, None, None, None, None, None, None, None, None, None, None, None, None, None, None, None, None, None, None, None, None, None, None, None, None, None, None, None, None, None, None, None, None, None, None, None, None, None, None, None, None, None, None, None, None, None, None, None, None, None, None, None, None, None, None, None, None, None, None, None, None, None, None, None, None, None, None, None, None, None, None, None, None, None, None, None, None, None, None, None, None, None, None, None, None, None, None, None, None, None, None, None, None, None, None, None, None, None, None, None, None, None, None, None, None, None, None, None, None, None, None, None, None, None, None, None, None, None, None, None, None, None, None, None, None, None, None, None, None, None, None, None, None, None, None, None, None, None, None, None, None, None, None, None, None, None, None, None, None, None, None, None, None, None, None, None, None, None, None, None, None, None, None, None, None, None, None, None, None, None, None, None, None, None, None, None, None, None, None, None, None, None, None, None, None, None, None, None, None, None, None, None, None, None, None, None, None, None, None, None, None, None, None, None, None, None, None, None, None, None, None, None, None, None, None, None, None, None, None, None, None, None, None, None, None, None, None, None, None, None, None, None, None, None, None, None, None, None, None, None, None, None, None, None, None, None, None, None, None, None, None, None, None, None, None, None, None, None, None, None, None, None, None, None, None, None, None, None, None, None, None, None, None, None, None, None, None, None, None, None, None, None, None, None, None, None, None, None, None, None, None, None, None, None, None, None, None, None, None, None, None, None, None, None, None, None, None, None, None, None, None, None, None, None, None, None, None, None, None, None, None, None, None, None, None, None, None, None, None, None, None, None, None, None, None, None, None, None, None, None, None, None, None, None, None, None, None, None, None, None, None, None, None, None, None, None, None, None, None, None, None, None, None, None, None, None, None, None, None, None, None, None, None, None, None, None, None, None, None, None, None, None, None, None, None, None, None, None, None, None, None, None, None, None, None, None, None, None, None, None, None, None, None, None, None, None, None, None, None, None, None, None, None, None, None, None, None, None, None, None, None, None, None, None, None, None, None, None, None, None, None, None, None, None, None, None, None, None, None, None, None, None, None, None, None, None, None, None, None, None, None, None, None, None, None, None, None, None, None, None, None, None, None, None, None, None, None, None, None, None, None, None, None, None, None, None, None, None, None, None, None, None, None, None, None, None, None, None, None, None, None, None, None, None, None, None, None, None, None, None, None, None, None, None, None, None, None, None, None, None, None, None, None, None, None, None, None, None, None, None, None, None, None, None, None, None, None, None, None, None, None, None, None, None, None, None, None, None, None, None, None, None, None, None, None, None, None, None, None, None, None, None, None, None, None, None, None, None, None, None, None, None, None, None, None, None, None, None, None, None, None, None, None, None, None, None, None, None, None, None, None, None, None, None, None, None, None, None, None, None, None, None, None, None, None, None, None, None, None, None, None, None, None, None, None, None, None, None, None, None, None, None, None, None, None, None, None, None, None, None, None, None, None, None, None, None, None, None, None, None, None, None, None, None, None, None, None, None, None, None, None, None, None, None, None, None, None, None, None, None, None, None, None, None, None, None, None, None, None, None, None, None, None, None, None, None, None, None, None, None, None, None, None, None, None, None, None, None, None, None, None, None, None, None, None, None, None, None, None, None, None, None, None, None, None, None, None, None, None, None, None, None, None, None, None, None, None, None, None, None, None, None, None, None, None, None, None, None, None, None, None, None, None, None, None, None, None, None, None, None, None, None, None, None, None, None, None, None, None, None, None, None, None, None, None, None, None, None, None, None, None, None, None, None, None, None, None, None, None, None, None, None, None, None, None, None, None, None, None, None, None, None, None, None, None, None, None, None, None, None, None, None, None, None, None, None, None, None, None, None, None, None, None, None, None, None, None, None, None, None, None, None, None, None, None, None, None, None, None, None, None, None, None, None, None, None, None, None, None, None, None, None, None, None, None, None, None, None, None, None, None, None, None, None, None, None, None, None, None, None, None, None, None, None, None, None, None, None, None, None, None, None, None, None, None, None, None, None, None, None, None, None, None, None, None, None, None, None, None, None, None, None, None, None, None, None, None, None, None, None, None, None, None, None, None, None, None, None, None, None, None, None, None, None, None, None, None, None, None, None, None, None, None, None, None, None, None, None, None, None, None, None, None, None, None, None, None, None, None, None, None, None, None, None, None, None, None, None, None, None, None, None, None, None, None, None, None, None, None, None, None, None, None, None, None, None, None, None, None, None, None, None, None, None, None, None, None, None, None, None, None, None, None, None, None, None, None, None, None, None, None, None, None, None, None, None, None, None, None, None, None, None, None, None, None, None, None, None, None, None, None, None, None, None, None, None, None, None, None, None, None, None, None, None, None, None, None, None, None, None, None, None, None, None, None, None, None, None, None, None, None, None, None, None, None, None, None, None, None, None, None, None, None, None, None, None, None, None, None, None, None, None, None, None, None, None, None, None, None, None, None, None, None, None, None, None, None, None, None, None, None, None, None, None, None, None, None, None, None, None, None, None, None, None, None, None, None, None, None, None, None, None, None, None, None, None, None, None, None, None, None, None, None, None, None, None, None, None, None, None, None, None, None, None, None, None, None, None, None, None, None, None, None, None, None, None, None, None, None, None, None, None, None, None, None, None, None, None, None, None, None, None, None, None, None, None, None, None, None, None, None, None, None, None, None, None, None, None, None, None, None, None, None, None, None, None, None, None, None, None, None, None, None, None, None, None, None, None, None, None, None, None, None, None, None, None, None, None, None, None, None, None, None, None, None, None, None, None, None, None, None, None, None, None, None, None, None, None, None, None, None, None, None, None, None, None, None, None, None, None, None, None, None, None, None, None, None, None, None, None, None, None, None, None, None, None, None, None, None, None, None, None, None, None, None, None, None, None, None, None, None, None, None, None, None, None, None, None, None, None, None, None, None, None, None, None, None, None, None, None, None, None, None, None, None, None, None, None, None, None, None, None, None, None, None, None, None, None, None, None, None, None, None, None, None, None, None, None, None, None, None, None, None, None, None, None, None, None, None, None, None, None, None, None, None, None, None, None, None, None, None, None, None, None, None, None, None, None, None, None, None, None, None, None, None, None, None, None, None, None, None, None, None, None, None, None, None, None, None, None, None, None, None, None, None, None, None, None, None, None, None, None, None, None, None, None, None, None, None, None, None, None, None, None, None, None, None, None, None, None, None, None, None, None, None, None, None, None, None, None, None, None, None, None, None, None, None, None, None, None, None, None, None, None, None, None, None, None, None, None, None, None, None, None, None, None, None, None, None, None, None, None, None, None, None, None, None, None, None, None, None, None, None, None, None, None, None, None, None, None, None, None, None, None, None, None, None, None, None, None, None, None, None, None, None, None, None, None, None, None, None, None, None, None, None, None, None, None, None, None, None, None, None, None, None, None, None, None, None, None, None, None, None, None, None, None, None, None, None, None, None, None, None, None, None, None, None, None, None, None, None, None, None, None, None, None, None, None, None, None, None, None, None, None, None, None, None, None, None, None, None, None, None, None, None, None, None, None, None, None, None, None, None, None, None, None, None, None, None, None, None, None, None, None, None, None, None, None, None, None, None, None, None, None, None, None, None, None, None, None, None, None, None, None, None, None, None, None, None, None, None, None, None, None, None, None, None, None, None, None, None, None, None, None, None, None, None, None, None, None, None, None, None, None, None, None, None, None, None, None, None, None, None, None, None, None, None, None, None, None, None, None, None, None, None, None, None, None, None, None, None, None, None, None, None, None, None, None, None, None, None, None, None, None, None, None, None, None, None, None, None, None, None, None, None, None, None, None, None, None, None, None, None, None, None, None, None, None, None, None, None, None, None, None, None, None, None, None, None, None, None, None, None, None, None, None, None, None, None, None, None, None, None, None, None, None, None, None, None, None, None, None, None, None, None, None, None, None, None, None, None, None, None, None, None, None, None, None, None, None, None, None, None, None, None, None, None, None, None, None, None, None, None, None, None, None, None, None, None, None, None, None, None, None, None, None, None, None, None, None, None, None, None, None, None, None, None, None, None, None, None, None, None, None, None, None, None, None, None, None, None, None, None, None, None, None, None, None, None, None, None, None, None, None, None, None, None, None, None, None, None, None, None, None, None, None, None, None, None, None, None, None, None, None, None, None, None, None, None, None, None, None, None, None, None, None, None, None, None, None, None, None, None, None, None, None, None, None, None, None, None, None, None, None, None, None, None, None, None, None, None, None, None, None, None, None, None, None, None, None, None, None, None, None, None, None, None, None, None, None, None, None, None, None, None, None, None, None, None, None, None, None, None, None, None, None, None, None, None, None, None, None, None, None, None, None, None, None, None, None, None, None, None, None, None, None, None, None, None, None, None, None, None, None, None, None, None, None, None, None, None, None, None, None, None, None, None, None, None, None, None, None, None, None, None, None, None, None, None, None, None, None, None, None, None, None, None, None, None, None, None, None, None, None, None, None, None, None, None, None, None, None, None, None, None, None, None, None, None, None, None, None, None, None, None, None, None, None, None, None, None, None, None, None, None, None, None, None, None, None, None, None, None, None, None, None, None, None, None, None, None, None, None, None, None, None, None, None, None, None, None, None, None, None, None, None, None, None, None, None, None, None, None, None, None, None, None, None, None, None, None, None, None, None, None, None, None, None, None, None, None, None, None, None, None, None, None, None, None, None, None, None, None, None, None, None, None, None, None, None, None, None, None, None, None, None, None, None, None, None, None, None, None, None, None, None, None, None, None, None, None, None, None, None, None, None, None, None, None, None, None, None, None, None, None, None, None, None, None, None, None, None, None, None, None, None, None, None, None, None, None, None, None, None, None, None, None, None, None, None, None, None, None, None, None, None, None, None, None, None, None, None, None, None, None, None, None, None, None, None, None, None, None, None, None, None, None, None, None, None, None, None, None, None, None, None, None, None, None, None, None, None, None, None, None, None, None, None, None, None, None, None, None, None, None, None, None, None, None, None, None, None, None, None, None, None, None, None, None, None, None, None, None, None, None, None, None, None, None, None, None, None, None, None, None, None, None, None, None, None, None, None, None, None, None, None, None, None, None, None, None, None, None, None, None, None, None, None, None, None, None, None, None, None, None, None, None, None, None, None, None, None, None, None, None, None, None, None, None, None, None, None, None, None, None, None, None, None, None, None, None, None, None, None, None, None, None, None, None, None, None, None, None, None, None, None, None, None, None, None, None, None, None, None, None, None, None, None, None, None, None, None, None, None, None, None, None, None, None, None, None, None, None, None, None, None, None, None, None, None, None, None, None, None, None, None, None, None, None, None, None, None, None, None, None, None, None, None, None, None, None, None, None, None, None, None, None, None, None, None, None, None, None, None, None, None, None, None, None, None, None, None, None, None, None, None, None, None, None, None, None, None, None, None, None, None, None, None, None, None, None, None, None, None, None, None, None, None, None, None, None, None, None, None, None, None, None, None, None, None, None, None, None, None, None, None, None, None, None, None, None, None, None, None, None, None, None, None, None, None, None, None, None, None, None, None, None, None, None, None, None, None, None, None, None, None, None, None, None, None, None, None, None, None, None, None, None, None, None, None, None, None, None, None, None, None, None, None, None, None, None, None, None, None, None, None, None, None, None, None, None, None, None, None, None, None, None, None, None, None, None, None, None, None, None, None, None, None, None, None, None, None, None, None, None, None, None, None, None, None, None, None, None, None, None, None, None, None, None, None, None, None, None, None, None, None, None, None, None, None, None, None, None, None, None, None, None, None, None, None, None, None, None, None, None, None, None, None, None, None, None, None, None, None, None, None, None, None, None, None, None, None, None, None, None, None, None, None, None, None, None, None, None, None, None, None, None, None, None, None, None, None, None, None, None, None, None, None, None, None, None, None, None, None, None, None, None, None, None, None, None, None, None, None, None, None, None, None, None, None, None, None, None, None, None, None, None, None, None, None, None, None, None, None, None, None, None, None, None, None, None, None, None, None, None, None, None, None, None, None, None, None, None, None, None, None, None, None, None, None, None, None, None, None, None, None, None, None, None, None, None, None, None, None, None, None, None, None, None, None, None, None, None, None, None, None, None, None, None, None, None, None, None, None, None, None, None, None, None, None, None, None, None, None, None, None, None, None, None, None, None, None, None, None, None, None, None, None, None, None, None, None, None, None, None, None, None, None, None, None, None, None, None, None, None, None, None, None, None, None, None, None, None, None, None, None, None, None, None, None, None, None, None, None, None, None, None, None, None, None, None, None, None, None, None, None, None, None, None, None, None, None, None, None, None, None, None, None, None, None, None, None, None, None, None, None, None, None, None, None, None, None, None, None, None, None, None, None, None, None, None, None, None, None, None, None, None, None, None, None, None, None, None, None, None, None, None, None, None, None, None, None, None, None, None, None, None, None, None, None, None, None, None, None, None, None, None, None, None, None, None, None, None, None, None, None, None, None, None, None, None, None, None, None, None, None, None, None, None, None, None, None, None, None, None, None, None, None, None, None, None, None, None, None, None, None, None, None, None, None, None, None, None, None, None, None, None, None, None, None, None, None, None, None, None, None, None, None, None, None, None, None, None, None, None, None, None, None, None, None, None, None, None, None, None, None, None, None, None, None, None, None, None, None, None, None, None, None, None, None, None, None, None, None, None, None, None, None, None, None, None, None, None, None, None, None, None, None, None, None, None, None, None, None, None, None, None, None, None, None, None, None, None, None, None, None, None, None, None, None, None, None, None, None, None, None, None, None, None, None, None, None, None, None, None, None, None, None, None, None, None, None, None, None, None, None, None, None, None, None, None, None, None, None, None, None, None, None, None, None, None, None, None, None, None, None, None, None, None, None, None, None, None, None, None, None, None, None, None, None, None, None, None, None, None, None, None, None, None, None, None, None, None, None, None, None, None, None, None, None, None, None, None, None, None, None, None, None, None, None, None, None, None, None, None, None, None, None, None, None, None, None, None, None, None, None, None, None, None, None, None, None, None, None, None, None, None, None, None, None, None, None, None, None, None, None, None, None, None, None, None, None, None, None, None, None, None, None, None], \n",
            "\tover the training epochs, respectively.\n"
          ],
          "name": "stdout"
        },
        {
          "output_type": "display_data",
          "data": {
            "image/png": "[encoded data removed]",
            "text/plain": [
              "<Figure size 432x288 with 1 Axes>"
            ]
          },
          "metadata": {
            "tags": [],
            "needs_background": "light"
          }
        },
        {
          "output_type": "display_data",
          "data": {
            "image/png": "[encoded data removed]",
            "text/plain": [
              "<Figure size 432x288 with 1 Axes>"
            ]
          },
          "metadata": {
            "tags": [],
            "needs_background": "light"
          }
        }
      ]
    },
    {
      "cell_type": "markdown",
      "metadata": {
        "id": "Bz21WU0_qQQN"
      },
      "source": [
        "As we can see the results are pretty similar to the logisitic regression. we also got val loss around ~0.33. In most cases even a little bit bigger than logisitic regression. 1 layer is good enough to generlize the extracted features data."
      ]
    },
    {
      "cell_type": "markdown",
      "metadata": {
        "id": "jMgHb-WkNhDv"
      },
      "source": [
        "**Here you should merge the feature extractor network layers with the PyTorch logistic regression classifier.**"
      ]
    },
    {
      "cell_type": "code",
      "metadata": {
        "id": "opU-zD3NNhDv"
      },
      "source": [
        "#already done on definiton of MyResnet using cases in MyResnet class"
      ],
      "execution_count": 14,
      "outputs": []
    },
    {
      "cell_type": "markdown",
      "metadata": {
        "id": "PTfaIOqGNhDv"
      },
      "source": [
        "# Comparing  ResNet18 with ResNet34:"
      ]
    },
    {
      "cell_type": "markdown",
      "metadata": {
        "id": "mDH0ovjoNhDv"
      },
      "source": [
        "#### Download the ResNet34 Network from torchvision.models. Then, repeat the steps described above in order to compare between these ResNet18 and ResNet34. Explain your findings and results!"
      ]
    },
    {
      "cell_type": "code",
      "metadata": {
        "id": "2E8cu6frNhDv",
        "colab": {
          "base_uri": "https://localhost:8080/",
          "height": 116,
          "referenced_widgets": [
            "c81aaf08bd01462d85e508666bd34ec0",
            "dd96519bbae64f29bfcd753885016df4",
            "a455efc91e9f447ea8f83834e3ef64a6",
            "4d9c05009855422e8d22ca6c6e4b73f1",
            "93eeeb921ddf482e8bd66bd7a2f76591",
            "984aa3af3bb4483b998808aacec6213f",
            "6ff7584f1b9a49be9611a2efb3f770aa",
            "d74a0f78802b4cedb04eda13451bab31"
          ]
        },
        "outputId": "13545a20-3261-4b16-90fb-a1fa1d7d6496"
      },
      "source": [
        "# logistic regression with resnet34 and pytorch\n",
        "classifyer34 = nn.Sequential(nn.Linear(512, 2))\n",
        "net34 = MyResNet(classifyer34, 34)\n",
        "# in case we already extracted the features using resnet34, skip the extraction process(for development)\n",
        "if(RESNET34_EXTRACTED_DATA_EXIST == False):\n",
        "\n",
        "    X_extracted_features_train34, y_extracted_features_train34 = net34.extract_features_from_dataloader(\n",
        "        tr_dataloader)\n",
        "    X_extracted_features_test34, y_extracted_features_test34 = net34.extract_features_from_dataloader(\n",
        "        val_dataloader)\n",
        "    print(X_extracted_features_train34.shape)\n",
        "    print(X_extracted_features_test34.shape)\n",
        "    torch.save(X_extracted_features_train,\n",
        "                args.X_train_extracted_from_resnet34_file_name)\n",
        "    torch.save(y_extracted_features_train,\n",
        "                args.y_train_extracted_from_resnet34_file_name)\n",
        "    torch.save(X_extracted_features_test,\n",
        "                args.X_test_extracted_from_resnet34_file_name)\n",
        "    torch.save(y_extracted_features_test,\n",
        "                args.y_test_extracted_from_resnet34_file_name)\n",
        "else:\n",
        "    # load the files\n",
        "    X_extracted_features_train34 = torch.load(\n",
        "        args.X_train_extracted_from_resnet34_file_name)\n",
        "    y_extracted_features_train34 = torch.load(\n",
        "        args.y_train_extracted_from_resnet34_file_name)\n",
        "    X_extracted_features_test34 = torch.load(\n",
        "        args.X_test_extracted_from_resnet34_file_name)\n",
        "    y_extracted_features_test34 = torch.load(\n",
        "        args.y_test_extracted_from_resnet34_file_name)"
      ],
      "execution_count": 15,
      "outputs": [
        {
          "output_type": "stream",
          "text": [
            "Downloading: \"https://download.pytorch.org/models/resnet34-333f7ec4.pth\" to /root/.cache/torch/hub/checkpoints/resnet34-333f7ec4.pth\n"
          ],
          "name": "stderr"
        },
        {
          "output_type": "display_data",
          "data": {
            "application/vnd.jupyter.widget-view+json": {
              "model_id": "c81aaf08bd01462d85e508666bd34ec0",
              "version_minor": 0,
              "version_major": 2
            },
            "text/plain": [
              "HBox(children=(FloatProgress(value=0.0, max=87306240.0), HTML(value='')))"
            ]
          },
          "metadata": {
            "tags": []
          }
        },
        {
          "output_type": "stream",
          "text": [
            "\n",
            "torch.Size([1600, 512])\n",
            "torch.Size([500, 512])\n"
          ],
          "name": "stdout"
        }
      ]
    },
    {
      "cell_type": "markdown",
      "metadata": {
        "id": "BqQ1XkVBNhDw"
      },
      "source": [
        "# Logistic Regression with scikit-learn library:"
      ]
    },
    {
      "cell_type": "code",
      "metadata": {
        "id": "TobCVpA7NhDw",
        "colab": {
          "base_uri": "https://localhost:8080/"
        },
        "outputId": "1da9e230-6515-41ad-d417-9e9699ba5919"
      },
      "source": [
        "# logistic regression with sklearn over resnet34 extracted data\n",
        "\n",
        "logisticRegr34 = LogisticRegression(penalty='l2',solver='lbfgs',tol=1e-3, max_iter=1000)\n",
        "clf34 = logisticRegr34.fit(X_extracted_features_train34,\n",
        "                        y_extracted_features_train34)\n",
        "pred_probs_train34 = clf34.predict_proba(X_extracted_features_train34)[:,1] # prediction on training set\n",
        "pred_probs_test34 = clf34.predict_proba(X_extracted_features_test34)[:,1]  #prediction on test set\n",
        "\n",
        "\n",
        "# train accuracy and auc\n",
        "accuracy_train_lr34 = clf34.score(\n",
        "    X_extracted_features_train34, y_extracted_features_train34)\n",
        "auc_train_lr34 = roc_auc_score(y_extracted_features_train34.numpy(),pred_probs_train34)\n",
        "# test accuracy and auc\n",
        "accuracy_test_lr34 = clf34.score(\n",
        "    X_extracted_features_test34, y_extracted_features_test34)\n",
        "auc_test_lr34 = roc_auc_score(y_extracted_features_test34.numpy(),pred_probs_test34)\n",
        "\n",
        "print(\"train results:\")\n",
        "print('accuracy:', accuracy_train_lr34)\n",
        "print('auc', auc_train_lr34)\n",
        "print(\"test results:\")\n",
        "print('accuracy:', accuracy_test_lr34)\n",
        "print('auc', auc_test_lr34)\n",
        "print()\n"
      ],
      "execution_count": 16,
      "outputs": [
        {
          "output_type": "stream",
          "text": [
            "train results:\n",
            "accuracy: 0.995\n",
            "auc 0.999821875\n",
            "test results:\n",
            "accuracy: 0.828\n",
            "auc 0.9155840000000001\n",
            "\n"
          ],
          "name": "stdout"
        }
      ]
    },
    {
      "cell_type": "markdown",
      "metadata": {
        "id": "ZbFuwjKZtbdQ"
      },
      "source": [
        "As we can see , accuracy and auc are very similar to resnet18.\r\n",
        "the auc is around ~0.92 and accuracy is around ~0.82.\r\n",
        "Hence we can conclude that the resnet18 extracted the features good enough so resnet34 hasn't any added value."
      ]
    },
    {
      "cell_type": "markdown",
      "metadata": {
        "id": "6aifqyfvNhDw"
      },
      "source": [
        "# Logistic Regression with pytorch for ResNet34:"
      ]
    },
    {
      "cell_type": "markdown",
      "metadata": {
        "id": "GckeBwueNhDw"
      },
      "source": [
        "#### Define the model:"
      ]
    },
    {
      "cell_type": "code",
      "metadata": {
        "id": "eWk9z9NONhDx",
        "colab": {
          "base_uri": "https://localhost:8080/"
        },
        "outputId": "0f66ba4e-8fa3-4df5-82b4-60da51262fdf"
      },
      "source": [
        "#Define above in MyResNet class\n",
        "net34\n"
      ],
      "execution_count": 17,
      "outputs": [
        {
          "output_type": "execute_result",
          "data": {
            "text/plain": [
              "MyResNet(\n",
              "  (features): ResNet(\n",
              "    (conv1): Conv2d(3, 64, kernel_size=(7, 7), stride=(2, 2), padding=(3, 3), bias=False)\n",
              "    (bn1): BatchNorm2d(64, eps=1e-05, momentum=0.1, affine=True, track_running_stats=True)\n",
              "    (relu): ReLU(inplace=True)\n",
              "    (maxpool): MaxPool2d(kernel_size=3, stride=2, padding=1, dilation=1, ceil_mode=False)\n",
              "    (layer1): Sequential(\n",
              "      (0): BasicBlock(\n",
              "        (conv1): Conv2d(64, 64, kernel_size=(3, 3), stride=(1, 1), padding=(1, 1), bias=False)\n",
              "        (bn1): BatchNorm2d(64, eps=1e-05, momentum=0.1, affine=True, track_running_stats=True)\n",
              "        (relu): ReLU(inplace=True)\n",
              "        (conv2): Conv2d(64, 64, kernel_size=(3, 3), stride=(1, 1), padding=(1, 1), bias=False)\n",
              "        (bn2): BatchNorm2d(64, eps=1e-05, momentum=0.1, affine=True, track_running_stats=True)\n",
              "      )\n",
              "      (1): BasicBlock(\n",
              "        (conv1): Conv2d(64, 64, kernel_size=(3, 3), stride=(1, 1), padding=(1, 1), bias=False)\n",
              "        (bn1): BatchNorm2d(64, eps=1e-05, momentum=0.1, affine=True, track_running_stats=True)\n",
              "        (relu): ReLU(inplace=True)\n",
              "        (conv2): Conv2d(64, 64, kernel_size=(3, 3), stride=(1, 1), padding=(1, 1), bias=False)\n",
              "        (bn2): BatchNorm2d(64, eps=1e-05, momentum=0.1, affine=True, track_running_stats=True)\n",
              "      )\n",
              "      (2): BasicBlock(\n",
              "        (conv1): Conv2d(64, 64, kernel_size=(3, 3), stride=(1, 1), padding=(1, 1), bias=False)\n",
              "        (bn1): BatchNorm2d(64, eps=1e-05, momentum=0.1, affine=True, track_running_stats=True)\n",
              "        (relu): ReLU(inplace=True)\n",
              "        (conv2): Conv2d(64, 64, kernel_size=(3, 3), stride=(1, 1), padding=(1, 1), bias=False)\n",
              "        (bn2): BatchNorm2d(64, eps=1e-05, momentum=0.1, affine=True, track_running_stats=True)\n",
              "      )\n",
              "    )\n",
              "    (layer2): Sequential(\n",
              "      (0): BasicBlock(\n",
              "        (conv1): Conv2d(64, 128, kernel_size=(3, 3), stride=(2, 2), padding=(1, 1), bias=False)\n",
              "        (bn1): BatchNorm2d(128, eps=1e-05, momentum=0.1, affine=True, track_running_stats=True)\n",
              "        (relu): ReLU(inplace=True)\n",
              "        (conv2): Conv2d(128, 128, kernel_size=(3, 3), stride=(1, 1), padding=(1, 1), bias=False)\n",
              "        (bn2): BatchNorm2d(128, eps=1e-05, momentum=0.1, affine=True, track_running_stats=True)\n",
              "        (downsample): Sequential(\n",
              "          (0): Conv2d(64, 128, kernel_size=(1, 1), stride=(2, 2), bias=False)\n",
              "          (1): BatchNorm2d(128, eps=1e-05, momentum=0.1, affine=True, track_running_stats=True)\n",
              "        )\n",
              "      )\n",
              "      (1): BasicBlock(\n",
              "        (conv1): Conv2d(128, 128, kernel_size=(3, 3), stride=(1, 1), padding=(1, 1), bias=False)\n",
              "        (bn1): BatchNorm2d(128, eps=1e-05, momentum=0.1, affine=True, track_running_stats=True)\n",
              "        (relu): ReLU(inplace=True)\n",
              "        (conv2): Conv2d(128, 128, kernel_size=(3, 3), stride=(1, 1), padding=(1, 1), bias=False)\n",
              "        (bn2): BatchNorm2d(128, eps=1e-05, momentum=0.1, affine=True, track_running_stats=True)\n",
              "      )\n",
              "      (2): BasicBlock(\n",
              "        (conv1): Conv2d(128, 128, kernel_size=(3, 3), stride=(1, 1), padding=(1, 1), bias=False)\n",
              "        (bn1): BatchNorm2d(128, eps=1e-05, momentum=0.1, affine=True, track_running_stats=True)\n",
              "        (relu): ReLU(inplace=True)\n",
              "        (conv2): Conv2d(128, 128, kernel_size=(3, 3), stride=(1, 1), padding=(1, 1), bias=False)\n",
              "        (bn2): BatchNorm2d(128, eps=1e-05, momentum=0.1, affine=True, track_running_stats=True)\n",
              "      )\n",
              "      (3): BasicBlock(\n",
              "        (conv1): Conv2d(128, 128, kernel_size=(3, 3), stride=(1, 1), padding=(1, 1), bias=False)\n",
              "        (bn1): BatchNorm2d(128, eps=1e-05, momentum=0.1, affine=True, track_running_stats=True)\n",
              "        (relu): ReLU(inplace=True)\n",
              "        (conv2): Conv2d(128, 128, kernel_size=(3, 3), stride=(1, 1), padding=(1, 1), bias=False)\n",
              "        (bn2): BatchNorm2d(128, eps=1e-05, momentum=0.1, affine=True, track_running_stats=True)\n",
              "      )\n",
              "    )\n",
              "    (layer3): Sequential(\n",
              "      (0): BasicBlock(\n",
              "        (conv1): Conv2d(128, 256, kernel_size=(3, 3), stride=(2, 2), padding=(1, 1), bias=False)\n",
              "        (bn1): BatchNorm2d(256, eps=1e-05, momentum=0.1, affine=True, track_running_stats=True)\n",
              "        (relu): ReLU(inplace=True)\n",
              "        (conv2): Conv2d(256, 256, kernel_size=(3, 3), stride=(1, 1), padding=(1, 1), bias=False)\n",
              "        (bn2): BatchNorm2d(256, eps=1e-05, momentum=0.1, affine=True, track_running_stats=True)\n",
              "        (downsample): Sequential(\n",
              "          (0): Conv2d(128, 256, kernel_size=(1, 1), stride=(2, 2), bias=False)\n",
              "          (1): BatchNorm2d(256, eps=1e-05, momentum=0.1, affine=True, track_running_stats=True)\n",
              "        )\n",
              "      )\n",
              "      (1): BasicBlock(\n",
              "        (conv1): Conv2d(256, 256, kernel_size=(3, 3), stride=(1, 1), padding=(1, 1), bias=False)\n",
              "        (bn1): BatchNorm2d(256, eps=1e-05, momentum=0.1, affine=True, track_running_stats=True)\n",
              "        (relu): ReLU(inplace=True)\n",
              "        (conv2): Conv2d(256, 256, kernel_size=(3, 3), stride=(1, 1), padding=(1, 1), bias=False)\n",
              "        (bn2): BatchNorm2d(256, eps=1e-05, momentum=0.1, affine=True, track_running_stats=True)\n",
              "      )\n",
              "      (2): BasicBlock(\n",
              "        (conv1): Conv2d(256, 256, kernel_size=(3, 3), stride=(1, 1), padding=(1, 1), bias=False)\n",
              "        (bn1): BatchNorm2d(256, eps=1e-05, momentum=0.1, affine=True, track_running_stats=True)\n",
              "        (relu): ReLU(inplace=True)\n",
              "        (conv2): Conv2d(256, 256, kernel_size=(3, 3), stride=(1, 1), padding=(1, 1), bias=False)\n",
              "        (bn2): BatchNorm2d(256, eps=1e-05, momentum=0.1, affine=True, track_running_stats=True)\n",
              "      )\n",
              "      (3): BasicBlock(\n",
              "        (conv1): Conv2d(256, 256, kernel_size=(3, 3), stride=(1, 1), padding=(1, 1), bias=False)\n",
              "        (bn1): BatchNorm2d(256, eps=1e-05, momentum=0.1, affine=True, track_running_stats=True)\n",
              "        (relu): ReLU(inplace=True)\n",
              "        (conv2): Conv2d(256, 256, kernel_size=(3, 3), stride=(1, 1), padding=(1, 1), bias=False)\n",
              "        (bn2): BatchNorm2d(256, eps=1e-05, momentum=0.1, affine=True, track_running_stats=True)\n",
              "      )\n",
              "      (4): BasicBlock(\n",
              "        (conv1): Conv2d(256, 256, kernel_size=(3, 3), stride=(1, 1), padding=(1, 1), bias=False)\n",
              "        (bn1): BatchNorm2d(256, eps=1e-05, momentum=0.1, affine=True, track_running_stats=True)\n",
              "        (relu): ReLU(inplace=True)\n",
              "        (conv2): Conv2d(256, 256, kernel_size=(3, 3), stride=(1, 1), padding=(1, 1), bias=False)\n",
              "        (bn2): BatchNorm2d(256, eps=1e-05, momentum=0.1, affine=True, track_running_stats=True)\n",
              "      )\n",
              "      (5): BasicBlock(\n",
              "        (conv1): Conv2d(256, 256, kernel_size=(3, 3), stride=(1, 1), padding=(1, 1), bias=False)\n",
              "        (bn1): BatchNorm2d(256, eps=1e-05, momentum=0.1, affine=True, track_running_stats=True)\n",
              "        (relu): ReLU(inplace=True)\n",
              "        (conv2): Conv2d(256, 256, kernel_size=(3, 3), stride=(1, 1), padding=(1, 1), bias=False)\n",
              "        (bn2): BatchNorm2d(256, eps=1e-05, momentum=0.1, affine=True, track_running_stats=True)\n",
              "      )\n",
              "    )\n",
              "    (layer4): Sequential(\n",
              "      (0): BasicBlock(\n",
              "        (conv1): Conv2d(256, 512, kernel_size=(3, 3), stride=(2, 2), padding=(1, 1), bias=False)\n",
              "        (bn1): BatchNorm2d(512, eps=1e-05, momentum=0.1, affine=True, track_running_stats=True)\n",
              "        (relu): ReLU(inplace=True)\n",
              "        (conv2): Conv2d(512, 512, kernel_size=(3, 3), stride=(1, 1), padding=(1, 1), bias=False)\n",
              "        (bn2): BatchNorm2d(512, eps=1e-05, momentum=0.1, affine=True, track_running_stats=True)\n",
              "        (downsample): Sequential(\n",
              "          (0): Conv2d(256, 512, kernel_size=(1, 1), stride=(2, 2), bias=False)\n",
              "          (1): BatchNorm2d(512, eps=1e-05, momentum=0.1, affine=True, track_running_stats=True)\n",
              "        )\n",
              "      )\n",
              "      (1): BasicBlock(\n",
              "        (conv1): Conv2d(512, 512, kernel_size=(3, 3), stride=(1, 1), padding=(1, 1), bias=False)\n",
              "        (bn1): BatchNorm2d(512, eps=1e-05, momentum=0.1, affine=True, track_running_stats=True)\n",
              "        (relu): ReLU(inplace=True)\n",
              "        (conv2): Conv2d(512, 512, kernel_size=(3, 3), stride=(1, 1), padding=(1, 1), bias=False)\n",
              "        (bn2): BatchNorm2d(512, eps=1e-05, momentum=0.1, affine=True, track_running_stats=True)\n",
              "      )\n",
              "      (2): BasicBlock(\n",
              "        (conv1): Conv2d(512, 512, kernel_size=(3, 3), stride=(1, 1), padding=(1, 1), bias=False)\n",
              "        (bn1): BatchNorm2d(512, eps=1e-05, momentum=0.1, affine=True, track_running_stats=True)\n",
              "        (relu): ReLU(inplace=True)\n",
              "        (conv2): Conv2d(512, 512, kernel_size=(3, 3), stride=(1, 1), padding=(1, 1), bias=False)\n",
              "        (bn2): BatchNorm2d(512, eps=1e-05, momentum=0.1, affine=True, track_running_stats=True)\n",
              "      )\n",
              "    )\n",
              "    (avgpool): AdaptiveAvgPool2d(output_size=(1, 1))\n",
              "    (fc): Identity()\n",
              "  )\n",
              "  (classifyer): Sequential(\n",
              "    (0): Linear(in_features=512, out_features=2, bias=True)\n",
              "  )\n",
              ")"
            ]
          },
          "metadata": {
            "tags": []
          },
          "execution_count": 17
        }
      ]
    },
    {
      "cell_type": "markdown",
      "metadata": {
        "id": "hBFj1SxzNhDx"
      },
      "source": [
        "#### Training and validation:"
      ]
    },
    {
      "cell_type": "code",
      "metadata": {
        "id": "LfPTfDqTNhDx",
        "colab": {
          "base_uri": "https://localhost:8080/"
        },
        "outputId": "435eb686-1297-4a5b-95f0-f28486f4c239"
      },
      "source": [
        "tr_loss34, val_loss34, test_loss34, tr_auc34, val_auc34, untrained_test_loss34, untrained_test_auc34 = training_loop(\n",
        "    args,\n",
        "    net34,\n",
        "    X_extracted_features_train34,\n",
        "    y_extracted_features_train34,\n",
        "    X_extracted_features_test34,\n",
        "    y_extracted_features_test34,\n",
        "    val_dataloader=None,\n",
        "    criterion_func=nn.CrossEntropyLoss\n",
        ")"
      ],
      "execution_count": 18,
      "outputs": [
        {
          "output_type": "stream",
          "text": [
            "100%|██████████| 11/11 [00:00<00:00, 268.49it/s]\n",
            "100%|██████████| 11/11 [00:00<00:00, 256.46it/s]\n",
            "100%|██████████| 11/11 [00:00<00:00, 432.60it/s]\n",
            "100%|██████████| 11/11 [00:00<00:00, 463.85it/s]\n",
            "  0%|          | 0/11 [00:00<?, ?it/s]"
          ],
          "name": "stderr"
        },
        {
          "output_type": "stream",
          "text": [
            "Train loss: 7.07e-01, Val loss: 7.07e-01\n",
            "Best val loss is: 7.07e-01\n",
            "Train loss: 6.71e-01, Val loss: 6.72e-01\n",
            "Best val loss is: 6.72e-01\n",
            "Train loss: 6.39e-01, Val loss: 6.40e-01\n",
            "Best val loss is: 6.40e-01\n",
            "Train loss: 6.10e-01, Val loss: 6.13e-01\n",
            "Best val loss is: 6.13e-01\n"
          ],
          "name": "stdout"
        },
        {
          "output_type": "stream",
          "text": [
            "100%|██████████| 11/11 [00:00<00:00, 427.44it/s]\n",
            "100%|██████████| 11/11 [00:00<00:00, 478.79it/s]\n",
            "100%|██████████| 11/11 [00:00<00:00, 473.78it/s]\n",
            "  0%|          | 0/11 [00:00<?, ?it/s]"
          ],
          "name": "stderr"
        },
        {
          "output_type": "stream",
          "text": [
            "Train loss: 5.84e-01, Val loss: 5.87e-01\n",
            "Best val loss is: 5.87e-01\n",
            "Train loss: 5.61e-01, Val loss: 5.65e-01\n",
            "Best val loss is: 5.65e-01\n",
            "Train loss: 5.40e-01, Val loss: 5.45e-01\n",
            "Best val loss is: 5.45e-01\n"
          ],
          "name": "stdout"
        },
        {
          "output_type": "stream",
          "text": [
            "100%|██████████| 11/11 [00:00<00:00, 420.37it/s]\n",
            "100%|██████████| 11/11 [00:00<00:00, 426.33it/s]\n",
            "100%|██████████| 11/11 [00:00<00:00, 413.41it/s]\n",
            "100%|██████████| 11/11 [00:00<00:00, 446.50it/s]\n",
            "  0%|          | 0/11 [00:00<?, ?it/s]"
          ],
          "name": "stderr"
        },
        {
          "output_type": "stream",
          "text": [
            "Train loss: 5.21e-01, Val loss: 5.27e-01\n",
            "Best val loss is: 5.27e-01\n",
            "Train loss: 5.05e-01, Val loss: 5.12e-01\n",
            "Best val loss is: 5.12e-01\n",
            "Train loss: 4.90e-01, Val loss: 4.97e-01\n",
            "Best val loss is: 4.97e-01\n",
            "Train loss: 4.76e-01, Val loss: 4.84e-01\n",
            "Best val loss is: 4.84e-01\n"
          ],
          "name": "stdout"
        },
        {
          "output_type": "stream",
          "text": [
            "100%|██████████| 11/11 [00:00<00:00, 428.59it/s]\n",
            "100%|██████████| 11/11 [00:00<00:00, 433.39it/s]\n",
            "100%|██████████| 11/11 [00:00<00:00, 464.24it/s]\n",
            "  0%|          | 0/11 [00:00<?, ?it/s]"
          ],
          "name": "stderr"
        },
        {
          "output_type": "stream",
          "text": [
            "Train loss: 4.64e-01, Val loss: 4.73e-01\n",
            "Best val loss is: 4.73e-01\n",
            "Train loss: 4.52e-01, Val loss: 4.62e-01\n",
            "Best val loss is: 4.62e-01\n",
            "Train loss: 4.42e-01, Val loss: 4.53e-01\n",
            "Best val loss is: 4.53e-01\n"
          ],
          "name": "stdout"
        },
        {
          "output_type": "stream",
          "text": [
            "100%|██████████| 11/11 [00:00<00:00, 393.32it/s]\n",
            "100%|██████████| 11/11 [00:00<00:00, 478.68it/s]\n",
            "100%|██████████| 11/11 [00:00<00:00, 476.11it/s]\n",
            "100%|██████████| 11/11 [00:00<00:00, 460.85it/s]\n",
            "  0%|          | 0/11 [00:00<?, ?it/s]"
          ],
          "name": "stderr"
        },
        {
          "output_type": "stream",
          "text": [
            "Train loss: 4.33e-01, Val loss: 4.44e-01\n",
            "Best val loss is: 4.44e-01\n",
            "Train loss: 4.24e-01, Val loss: 4.36e-01\n",
            "Best val loss is: 4.36e-01\n",
            "Train loss: 4.16e-01, Val loss: 4.29e-01\n",
            "Best val loss is: 4.29e-01\n",
            "Train loss: 4.08e-01, Val loss: 4.22e-01\n",
            "Best val loss is: 4.22e-01\n"
          ],
          "name": "stdout"
        },
        {
          "output_type": "stream",
          "text": [
            "100%|██████████| 11/11 [00:00<00:00, 438.89it/s]\n",
            "100%|██████████| 11/11 [00:00<00:00, 393.50it/s]\n",
            "100%|██████████| 11/11 [00:00<00:00, 395.34it/s]\n",
            "  0%|          | 0/11 [00:00<?, ?it/s]"
          ],
          "name": "stderr"
        },
        {
          "output_type": "stream",
          "text": [
            "Train loss: 4.01e-01, Val loss: 4.16e-01\n",
            "Best val loss is: 4.16e-01\n",
            "Train loss: 3.95e-01, Val loss: 4.10e-01\n",
            "Best val loss is: 4.10e-01\n",
            "Train loss: 3.89e-01, Val loss: 4.05e-01\n",
            "Best val loss is: 4.05e-01\n"
          ],
          "name": "stdout"
        },
        {
          "output_type": "stream",
          "text": [
            "100%|██████████| 11/11 [00:00<00:00, 390.00it/s]\n",
            "100%|██████████| 11/11 [00:00<00:00, 427.47it/s]\n",
            "100%|██████████| 11/11 [00:00<00:00, 385.15it/s]\n",
            "100%|██████████| 11/11 [00:00<00:00, 447.96it/s]\n"
          ],
          "name": "stderr"
        },
        {
          "output_type": "stream",
          "text": [
            "Train loss: 3.83e-01, Val loss: 4.00e-01\n",
            "Best val loss is: 4.00e-01\n",
            "Train loss: 3.78e-01, Val loss: 3.96e-01\n",
            "Best val loss is: 3.96e-01\n",
            "Train loss: 3.73e-01, Val loss: 3.91e-01\n",
            "Best val loss is: 3.91e-01\n",
            "Train loss: 3.68e-01, Val loss: 3.87e-01\n",
            "Best val loss is: 3.87e-01\n"
          ],
          "name": "stdout"
        },
        {
          "output_type": "stream",
          "text": [
            "100%|██████████| 11/11 [00:00<00:00, 374.33it/s]\n",
            "100%|██████████| 11/11 [00:00<00:00, 404.87it/s]\n",
            "100%|██████████| 11/11 [00:00<00:00, 425.98it/s]"
          ],
          "name": "stderr"
        },
        {
          "output_type": "stream",
          "text": [
            "Train loss: 3.64e-01, Val loss: 3.84e-01\n",
            "Best val loss is: 3.84e-01\n",
            "Train loss: 3.60e-01, Val loss: 3.80e-01\n",
            "Best val loss is: 3.80e-01\n"
          ],
          "name": "stdout"
        },
        {
          "output_type": "stream",
          "text": [
            "\n",
            "100%|██████████| 11/11 [00:00<00:00, 431.04it/s]\n",
            "100%|██████████| 11/11 [00:00<00:00, 410.97it/s]\n",
            "100%|██████████| 11/11 [00:00<00:00, 395.85it/s]\n",
            "100%|██████████| 11/11 [00:00<00:00, 423.30it/s]\n",
            "  0%|          | 0/11 [00:00<?, ?it/s]"
          ],
          "name": "stderr"
        },
        {
          "output_type": "stream",
          "text": [
            "Train loss: 3.56e-01, Val loss: 3.77e-01\n",
            "Best val loss is: 3.77e-01\n",
            "Train loss: 3.52e-01, Val loss: 3.74e-01\n",
            "Best val loss is: 3.74e-01\n",
            "Train loss: 3.48e-01, Val loss: 3.71e-01\n",
            "Best val loss is: 3.71e-01\n",
            "Train loss: 3.45e-01, Val loss: 3.69e-01\n",
            "Best val loss is: 3.69e-01\n",
            "Train loss: 3.42e-01, Val loss: 3.66e-01\n",
            "Best val loss is: 3.66e-01\n"
          ],
          "name": "stdout"
        },
        {
          "output_type": "stream",
          "text": [
            "100%|██████████| 11/11 [00:00<00:00, 383.00it/s]\n",
            "100%|██████████| 11/11 [00:00<00:00, 446.00it/s]\n",
            "  0%|          | 0/11 [00:00<?, ?it/s]"
          ],
          "name": "stderr"
        },
        {
          "output_type": "stream",
          "text": [
            "Train loss: 3.38e-01, Val loss: 3.64e-01\n",
            "Best val loss is: 3.64e-01\n",
            "Train loss: 3.35e-01, Val loss: 3.62e-01\n",
            "Best val loss is: 3.62e-01\n"
          ],
          "name": "stdout"
        },
        {
          "output_type": "stream",
          "text": [
            "100%|██████████| 11/11 [00:00<00:00, 387.58it/s]\n",
            "100%|██████████| 11/11 [00:00<00:00, 446.87it/s]\n",
            "100%|██████████| 11/11 [00:00<00:00, 429.38it/s]\n",
            "100%|██████████| 11/11 [00:00<00:00, 439.57it/s]\n",
            "100%|██████████| 11/11 [00:00<00:00, 425.96it/s]\n",
            "  0%|          | 0/11 [00:00<?, ?it/s]"
          ],
          "name": "stderr"
        },
        {
          "output_type": "stream",
          "text": [
            "Train loss: 3.33e-01, Val loss: 3.59e-01\n",
            "Best val loss is: 3.59e-01\n",
            "Train loss: 3.30e-01, Val loss: 3.58e-01\n",
            "Best val loss is: 3.58e-01\n",
            "Train loss: 3.27e-01, Val loss: 3.56e-01\n",
            "Best val loss is: 3.56e-01\n",
            "Train loss: 3.25e-01, Val loss: 3.54e-01\n",
            "Best val loss is: 3.54e-01\n",
            "Train loss: 3.22e-01, Val loss: 3.52e-01\n",
            "Best val loss is: 3.52e-01\n"
          ],
          "name": "stdout"
        },
        {
          "output_type": "stream",
          "text": [
            "100%|██████████| 11/11 [00:00<00:00, 336.88it/s]\n",
            "100%|██████████| 11/11 [00:00<00:00, 431.14it/s]"
          ],
          "name": "stderr"
        },
        {
          "output_type": "stream",
          "text": [
            "Train loss: 3.20e-01, Val loss: 3.51e-01\n",
            "Best val loss is: 3.51e-01\n",
            "Train loss: 3.18e-01, Val loss: 3.49e-01\n",
            "Best val loss is: 3.49e-01\n"
          ],
          "name": "stdout"
        },
        {
          "output_type": "stream",
          "text": [
            "\n",
            "100%|██████████| 11/11 [00:00<00:00, 415.88it/s]\n",
            "100%|██████████| 11/11 [00:00<00:00, 457.85it/s]\n",
            "100%|██████████| 11/11 [00:00<00:00, 487.62it/s]\n",
            "100%|██████████| 11/11 [00:00<00:00, 498.15it/s]\n",
            "100%|██████████| 11/11 [00:00<00:00, 496.19it/s]\n",
            "  0%|          | 0/11 [00:00<?, ?it/s]"
          ],
          "name": "stderr"
        },
        {
          "output_type": "stream",
          "text": [
            "Train loss: 3.16e-01, Val loss: 3.48e-01\n",
            "Best val loss is: 3.48e-01\n",
            "Train loss: 3.13e-01, Val loss: 3.46e-01\n",
            "Best val loss is: 3.46e-01\n",
            "Train loss: 3.11e-01, Val loss: 3.45e-01\n",
            "Best val loss is: 3.45e-01\n",
            "Train loss: 3.09e-01, Val loss: 3.44e-01\n",
            "Best val loss is: 3.44e-01\n",
            "Train loss: 3.08e-01, Val loss: 3.43e-01\n",
            "Best val loss is: 3.43e-01\n"
          ],
          "name": "stdout"
        },
        {
          "output_type": "stream",
          "text": [
            "100%|██████████| 11/11 [00:00<00:00, 425.26it/s]\n",
            "100%|██████████| 11/11 [00:00<00:00, 486.71it/s]\n",
            "  0%|          | 0/11 [00:00<?, ?it/s]"
          ],
          "name": "stderr"
        },
        {
          "output_type": "stream",
          "text": [
            "Train loss: 3.06e-01, Val loss: 3.42e-01\n",
            "Best val loss is: 3.42e-01\n",
            "Train loss: 3.04e-01, Val loss: 3.41e-01\n",
            "Best val loss is: 3.41e-01\n"
          ],
          "name": "stdout"
        },
        {
          "output_type": "stream",
          "text": [
            "100%|██████████| 11/11 [00:00<00:00, 456.01it/s]\n",
            "100%|██████████| 11/11 [00:00<00:00, 465.94it/s]\n",
            "100%|██████████| 11/11 [00:00<00:00, 472.22it/s]\n",
            "100%|██████████| 11/11 [00:00<00:00, 361.18it/s]\n",
            "100%|██████████| 11/11 [00:00<00:00, 422.60it/s]\n",
            "  0%|          | 0/11 [00:00<?, ?it/s]"
          ],
          "name": "stderr"
        },
        {
          "output_type": "stream",
          "text": [
            "Train loss: 3.02e-01, Val loss: 3.40e-01\n",
            "Best val loss is: 3.40e-01\n",
            "Train loss: 3.01e-01, Val loss: 3.39e-01\n",
            "Best val loss is: 3.39e-01\n",
            "Train loss: 2.99e-01, Val loss: 3.38e-01\n",
            "Best val loss is: 3.38e-01\n",
            "Train loss: 2.97e-01, Val loss: 3.37e-01\n",
            "Best val loss is: 3.37e-01\n",
            "Train loss: 2.96e-01, Val loss: 3.36e-01\n",
            "Best val loss is: 3.36e-01\n"
          ],
          "name": "stdout"
        },
        {
          "output_type": "stream",
          "text": [
            "100%|██████████| 11/11 [00:00<00:00, 412.65it/s]\n",
            "100%|██████████| 11/11 [00:00<00:00, 478.16it/s]\n",
            "  0%|          | 0/11 [00:00<?, ?it/s]"
          ],
          "name": "stderr"
        },
        {
          "output_type": "stream",
          "text": [
            "Train loss: 2.94e-01, Val loss: 3.35e-01\n",
            "Best val loss is: 3.35e-01\n",
            "Train loss: 2.93e-01, Val loss: 3.34e-01\n",
            "Best val loss is: 3.34e-01\n"
          ],
          "name": "stdout"
        },
        {
          "output_type": "stream",
          "text": [
            "100%|██████████| 11/11 [00:00<00:00, 442.09it/s]\n",
            "100%|██████████| 11/11 [00:00<00:00, 428.72it/s]\n",
            "100%|██████████| 11/11 [00:00<00:00, 353.59it/s]\n",
            "100%|██████████| 11/11 [00:00<00:00, 475.34it/s]\n",
            "100%|██████████| 11/11 [00:00<00:00, 469.38it/s]\n",
            "  0%|          | 0/11 [00:00<?, ?it/s]"
          ],
          "name": "stderr"
        },
        {
          "output_type": "stream",
          "text": [
            "Train loss: 2.91e-01, Val loss: 3.34e-01\n",
            "Best val loss is: 3.34e-01\n",
            "Train loss: 2.90e-01, Val loss: 3.33e-01\n",
            "Best val loss is: 3.33e-01\n",
            "Train loss: 2.89e-01, Val loss: 3.32e-01\n",
            "Best val loss is: 3.32e-01\n",
            "Train loss: 2.87e-01, Val loss: 3.32e-01\n",
            "Best val loss is: 3.32e-01\n",
            "Train loss: 2.86e-01, Val loss: 3.31e-01\n",
            "Best val loss is: 3.31e-01\n"
          ],
          "name": "stdout"
        },
        {
          "output_type": "stream",
          "text": [
            "100%|██████████| 11/11 [00:00<00:00, 434.71it/s]\n",
            "100%|██████████| 11/11 [00:00<00:00, 489.76it/s]\n",
            "  0%|          | 0/11 [00:00<?, ?it/s]"
          ],
          "name": "stderr"
        },
        {
          "output_type": "stream",
          "text": [
            "Train loss: 2.85e-01, Val loss: 3.31e-01\n",
            "Best val loss is: 3.31e-01\n",
            "Train loss: 2.84e-01, Val loss: 3.30e-01\n",
            "Best val loss is: 3.30e-01\n"
          ],
          "name": "stdout"
        },
        {
          "output_type": "stream",
          "text": [
            "100%|██████████| 11/11 [00:00<00:00, 424.86it/s]\n",
            "100%|██████████| 11/11 [00:00<00:00, 447.65it/s]\n",
            "100%|██████████| 11/11 [00:00<00:00, 482.87it/s]\n",
            "100%|██████████| 11/11 [00:00<00:00, 480.26it/s]\n",
            "100%|██████████| 11/11 [00:00<00:00, 486.20it/s]\n",
            "100%|██████████| 11/11 [00:00<00:00, 468.35it/s]"
          ],
          "name": "stderr"
        },
        {
          "output_type": "stream",
          "text": [
            "Train loss: 2.83e-01, Val loss: 3.30e-01\n",
            "Best val loss is: 3.30e-01\n",
            "Train loss: 2.81e-01, Val loss: 3.29e-01\n",
            "Best val loss is: 3.29e-01\n",
            "Train loss: 2.80e-01, Val loss: 3.29e-01\n",
            "Best val loss is: 3.29e-01\n",
            "Train loss: 2.79e-01, Val loss: 3.28e-01\n",
            "Best val loss is: 3.28e-01\n",
            "Train loss: 2.78e-01, Val loss: 3.28e-01\n",
            "Best val loss is: 3.28e-01\n"
          ],
          "name": "stdout"
        },
        {
          "output_type": "stream",
          "text": [
            "\n",
            "100%|██████████| 11/11 [00:00<00:00, 468.82it/s]\n",
            "100%|██████████| 11/11 [00:00<00:00, 496.72it/s]"
          ],
          "name": "stderr"
        },
        {
          "output_type": "stream",
          "text": [
            "Train loss: 2.77e-01, Val loss: 3.27e-01\n",
            "Best val loss is: 3.27e-01\n",
            "Train loss: 2.76e-01, Val loss: 3.27e-01\n",
            "Best val loss is: 3.27e-01\n",
            "Train loss: 2.75e-01, Val loss: 3.26e-01\n",
            "Best val loss is: 3.26e-01\n"
          ],
          "name": "stdout"
        },
        {
          "output_type": "stream",
          "text": [
            "\n",
            "100%|██████████| 11/11 [00:00<00:00, 391.02it/s]\n",
            "100%|██████████| 11/11 [00:00<00:00, 477.91it/s]\n",
            "100%|██████████| 11/11 [00:00<00:00, 482.61it/s]\n",
            "100%|██████████| 11/11 [00:00<00:00, 472.18it/s]\n",
            "100%|██████████| 11/11 [00:00<00:00, 478.74it/s]"
          ],
          "name": "stderr"
        },
        {
          "output_type": "stream",
          "text": [
            "Train loss: 2.74e-01, Val loss: 3.26e-01\n",
            "Best val loss is: 3.26e-01\n",
            "Train loss: 2.73e-01, Val loss: 3.26e-01\n",
            "Best val loss is: 3.26e-01\n",
            "Train loss: 2.72e-01, Val loss: 3.25e-01\n",
            "Best val loss is: 3.25e-01\n",
            "Train loss: 2.71e-01, Val loss: 3.25e-01\n",
            "Best val loss is: 3.25e-01\n"
          ],
          "name": "stdout"
        },
        {
          "output_type": "stream",
          "text": [
            "\n",
            "100%|██████████| 11/11 [00:00<00:00, 466.64it/s]\n",
            "100%|██████████| 11/11 [00:00<00:00, 414.25it/s]\n",
            "  0%|          | 0/11 [00:00<?, ?it/s]"
          ],
          "name": "stderr"
        },
        {
          "output_type": "stream",
          "text": [
            "Train loss: 2.70e-01, Val loss: 3.25e-01\n",
            "Best val loss is: 3.25e-01\n",
            "Train loss: 2.69e-01, Val loss: 3.24e-01\n",
            "Best val loss is: 3.24e-01\n",
            "Train loss: 2.68e-01, Val loss: 3.24e-01\n",
            "Best val loss is: 3.24e-01\n"
          ],
          "name": "stdout"
        },
        {
          "output_type": "stream",
          "text": [
            "100%|██████████| 11/11 [00:00<00:00, 348.17it/s]\n",
            "100%|██████████| 11/11 [00:00<00:00, 420.70it/s]\n",
            "100%|██████████| 11/11 [00:00<00:00, 414.88it/s]\n",
            "100%|██████████| 11/11 [00:00<00:00, 452.07it/s]\n",
            "  0%|          | 0/11 [00:00<?, ?it/s]"
          ],
          "name": "stderr"
        },
        {
          "output_type": "stream",
          "text": [
            "Train loss: 2.67e-01, Val loss: 3.24e-01\n",
            "Best val loss is: 3.24e-01\n",
            "Train loss: 2.67e-01, Val loss: 3.24e-01\n",
            "Best val loss is: 3.24e-01\n",
            "Train loss: 2.66e-01, Val loss: 3.23e-01\n",
            "Best val loss is: 3.23e-01\n",
            "Train loss: 2.65e-01, Val loss: 3.23e-01\n",
            "Best val loss is: 3.23e-01\n"
          ],
          "name": "stdout"
        },
        {
          "output_type": "stream",
          "text": [
            "100%|██████████| 11/11 [00:00<00:00, 415.24it/s]\n",
            "100%|██████████| 11/11 [00:00<00:00, 466.80it/s]\n",
            "100%|██████████| 11/11 [00:00<00:00, 473.79it/s]\n",
            "  0%|          | 0/11 [00:00<?, ?it/s]"
          ],
          "name": "stderr"
        },
        {
          "output_type": "stream",
          "text": [
            "Train loss: 2.64e-01, Val loss: 3.23e-01\n",
            "Best val loss is: 3.23e-01\n",
            "Train loss: 2.63e-01, Val loss: 3.23e-01\n",
            "Best val loss is: 3.23e-01\n",
            "Train loss: 2.63e-01, Val loss: 3.22e-01\n",
            "Best val loss is: 3.22e-01\n"
          ],
          "name": "stdout"
        },
        {
          "output_type": "stream",
          "text": [
            "100%|██████████| 11/11 [00:00<00:00, 394.96it/s]\n",
            "100%|██████████| 11/11 [00:00<00:00, 468.58it/s]\n",
            "100%|██████████| 11/11 [00:00<00:00, 477.50it/s]\n",
            "100%|██████████| 11/11 [00:00<00:00, 465.59it/s]\n",
            "  0%|          | 0/11 [00:00<?, ?it/s]"
          ],
          "name": "stderr"
        },
        {
          "output_type": "stream",
          "text": [
            "Train loss: 2.62e-01, Val loss: 3.22e-01\n",
            "Best val loss is: 3.22e-01\n",
            "Train loss: 2.61e-01, Val loss: 3.22e-01\n",
            "Best val loss is: 3.22e-01\n",
            "Train loss: 2.60e-01, Val loss: 3.22e-01\n",
            "Best val loss is: 3.22e-01\n",
            "Train loss: 2.59e-01, Val loss: 3.22e-01\n",
            "Best val loss is: 3.22e-01\n"
          ],
          "name": "stdout"
        },
        {
          "output_type": "stream",
          "text": [
            "100%|██████████| 11/11 [00:00<00:00, 417.48it/s]\n",
            "100%|██████████| 11/11 [00:00<00:00, 472.22it/s]\n",
            "100%|██████████| 11/11 [00:00<00:00, 387.41it/s]\n",
            "  0%|          | 0/11 [00:00<?, ?it/s]"
          ],
          "name": "stderr"
        },
        {
          "output_type": "stream",
          "text": [
            "Train loss: 2.59e-01, Val loss: 3.21e-01\n",
            "Best val loss is: 3.21e-01\n",
            "Train loss: 2.58e-01, Val loss: 3.21e-01\n",
            "Best val loss is: 3.21e-01\n",
            "Train loss: 2.57e-01, Val loss: 3.21e-01\n",
            "Best val loss is: 3.21e-01\n"
          ],
          "name": "stdout"
        },
        {
          "output_type": "stream",
          "text": [
            "100%|██████████| 11/11 [00:00<00:00, 425.38it/s]\n",
            "100%|██████████| 11/11 [00:00<00:00, 474.74it/s]\n",
            "100%|██████████| 11/11 [00:00<00:00, 480.67it/s]\n",
            "100%|██████████| 11/11 [00:00<00:00, 469.47it/s]\n",
            "  0%|          | 0/11 [00:00<?, ?it/s]"
          ],
          "name": "stderr"
        },
        {
          "output_type": "stream",
          "text": [
            "Train loss: 2.57e-01, Val loss: 3.21e-01\n",
            "Best val loss is: 3.21e-01\n",
            "Train loss: 2.56e-01, Val loss: 3.21e-01\n",
            "Best val loss is: 3.21e-01\n",
            "Train loss: 2.55e-01, Val loss: 3.21e-01\n",
            "Best val loss is: 3.21e-01\n",
            "Train loss: 2.55e-01, Val loss: 3.21e-01\n",
            "Best val loss is: 3.21e-01\n"
          ],
          "name": "stdout"
        },
        {
          "output_type": "stream",
          "text": [
            "100%|██████████| 11/11 [00:00<00:00, 447.57it/s]\n",
            "100%|██████████| 11/11 [00:00<00:00, 484.87it/s]\n",
            "100%|██████████| 11/11 [00:00<00:00, 482.49it/s]\n",
            "100%|██████████| 11/11 [00:00<00:00, 488.71it/s]\n",
            "  0%|          | 0/11 [00:00<?, ?it/s]"
          ],
          "name": "stderr"
        },
        {
          "output_type": "stream",
          "text": [
            "Train loss: 2.54e-01, Val loss: 3.20e-01\n",
            "Best val loss is: 3.20e-01\n",
            "Train loss: 2.53e-01, Val loss: 3.20e-01\n",
            "Best val loss is: 3.20e-01\n",
            "Train loss: 2.53e-01, Val loss: 3.20e-01\n",
            "Best val loss is: 3.20e-01\n",
            "Train loss: 2.52e-01, Val loss: 3.20e-01\n",
            "Best val loss is: 3.20e-01\n"
          ],
          "name": "stdout"
        },
        {
          "output_type": "stream",
          "text": [
            "100%|██████████| 11/11 [00:00<00:00, 401.69it/s]\n",
            "100%|██████████| 11/11 [00:00<00:00, 491.90it/s]\n",
            "100%|██████████| 11/11 [00:00<00:00, 470.65it/s]\n",
            "100%|██████████| 11/11 [00:00<00:00, 486.42it/s]"
          ],
          "name": "stderr"
        },
        {
          "output_type": "stream",
          "text": [
            "Train loss: 2.51e-01, Val loss: 3.20e-01\n",
            "Best val loss is: 3.20e-01\n",
            "Train loss: 2.51e-01, Val loss: 3.20e-01\n",
            "Best val loss is: 3.20e-01\n",
            "Train loss: 2.50e-01, Val loss: 3.20e-01\n",
            "Best val loss is: 3.20e-01\n",
            "Train loss: 2.50e-01, Val loss: 3.20e-01\n",
            "Best val loss is: 3.20e-01\n"
          ],
          "name": "stdout"
        },
        {
          "output_type": "stream",
          "text": [
            "\n",
            "100%|██████████| 11/11 [00:00<00:00, 480.00it/s]\n",
            "100%|██████████| 11/11 [00:00<00:00, 479.02it/s]\n",
            "100%|██████████| 11/11 [00:00<00:00, 484.05it/s]\n",
            "100%|██████████| 11/11 [00:00<00:00, 517.00it/s]\n"
          ],
          "name": "stderr"
        },
        {
          "output_type": "stream",
          "text": [
            "Train loss: 2.49e-01, Val loss: 3.20e-01\n",
            "Best val loss is: 3.20e-01\n",
            "Train loss: 2.48e-01, Val loss: 3.20e-01\n",
            "Best val loss is: 3.20e-01\n",
            "Train loss: 2.48e-01, Val loss: 3.19e-01\n",
            "Best val loss is: 3.19e-01\n",
            "Train loss: 2.47e-01, Val loss: 3.19e-01\n",
            "Best val loss is: 3.19e-01\n"
          ],
          "name": "stdout"
        },
        {
          "output_type": "stream",
          "text": [
            "100%|██████████| 11/11 [00:00<00:00, 469.92it/s]\n",
            "100%|██████████| 11/11 [00:00<00:00, 429.27it/s]\n",
            "100%|██████████| 11/11 [00:00<00:00, 410.62it/s]\n",
            "  0%|          | 0/11 [00:00<?, ?it/s]"
          ],
          "name": "stderr"
        },
        {
          "output_type": "stream",
          "text": [
            "Train loss: 2.47e-01, Val loss: 3.19e-01\n",
            "Best val loss is: 3.19e-01\n",
            "Train loss: 2.46e-01, Val loss: 3.19e-01\n",
            "Best val loss is: 3.19e-01\n",
            "Train loss: 2.46e-01, Val loss: 3.19e-01\n",
            "Best val loss is: 3.19e-01\n"
          ],
          "name": "stdout"
        },
        {
          "output_type": "stream",
          "text": [
            "100%|██████████| 11/11 [00:00<00:00, 291.74it/s]\n",
            "100%|██████████| 11/11 [00:00<00:00, 364.13it/s]\n",
            "100%|██████████| 11/11 [00:00<00:00, 425.39it/s]\n",
            "  0%|          | 0/11 [00:00<?, ?it/s]"
          ],
          "name": "stderr"
        },
        {
          "output_type": "stream",
          "text": [
            "Train loss: 2.45e-01, Val loss: 3.19e-01\n",
            "Best val loss is: 3.19e-01\n",
            "Train loss: 2.45e-01, Val loss: 3.19e-01\n",
            "Best val loss is: 3.19e-01\n",
            "Train loss: 2.44e-01, Val loss: 3.19e-01\n",
            "Best val loss is: 3.19e-01\n"
          ],
          "name": "stdout"
        },
        {
          "output_type": "stream",
          "text": [
            "100%|██████████| 11/11 [00:00<00:00, 409.41it/s]\n",
            "100%|██████████| 11/11 [00:00<00:00, 483.86it/s]\n",
            "100%|██████████| 11/11 [00:00<00:00, 474.52it/s]\n",
            "100%|██████████| 11/11 [00:00<00:00, 412.46it/s]\n",
            "  0%|          | 0/11 [00:00<?, ?it/s]"
          ],
          "name": "stderr"
        },
        {
          "output_type": "stream",
          "text": [
            "Train loss: 2.44e-01, Val loss: 3.19e-01\n",
            "Best val loss is: 3.19e-01\n",
            "Train loss: 2.43e-01, Val loss: 3.19e-01\n",
            "Best val loss is: 3.19e-01\n",
            "Train loss: 2.42e-01, Val loss: 3.19e-01\n",
            "Best val loss is: 3.19e-01\n",
            "Train loss: 2.42e-01, Val loss: 3.19e-01\n",
            "Best val loss is: 3.19e-01\n"
          ],
          "name": "stdout"
        },
        {
          "output_type": "stream",
          "text": [
            "100%|██████████| 11/11 [00:00<00:00, 379.14it/s]\n",
            "100%|██████████| 11/11 [00:00<00:00, 425.70it/s]\n",
            "100%|██████████| 11/11 [00:00<00:00, 397.93it/s]\n",
            "  0%|          | 0/11 [00:00<?, ?it/s]"
          ],
          "name": "stderr"
        },
        {
          "output_type": "stream",
          "text": [
            "Train loss: 2.41e-01, Val loss: 3.19e-01\n",
            "Best val loss is: 3.19e-01\n",
            "Train loss: 2.41e-01, Val loss: 3.19e-01\n",
            "Best val loss is: 3.19e-01\n",
            "Train loss: 2.41e-01, Val loss: 3.19e-01\n",
            "Best val loss is: 3.19e-01\n"
          ],
          "name": "stdout"
        },
        {
          "output_type": "stream",
          "text": [
            "100%|██████████| 11/11 [00:00<00:00, 343.30it/s]\n",
            "100%|██████████| 11/11 [00:00<00:00, 391.77it/s]\n",
            "100%|██████████| 11/11 [00:00<00:00, 332.89it/s]\n",
            "  0%|          | 0/11 [00:00<?, ?it/s]"
          ],
          "name": "stderr"
        },
        {
          "output_type": "stream",
          "text": [
            "Train loss: 2.40e-01, Val loss: 3.19e-01\n",
            "Best val loss is: 3.19e-01\n",
            "Train loss: 2.40e-01, Val loss: 3.19e-01\n",
            "Best val loss is: 3.19e-01\n",
            "Train loss: 2.39e-01, Val loss: 3.19e-01\n",
            "Best val loss is: 3.19e-01\n"
          ],
          "name": "stdout"
        },
        {
          "output_type": "stream",
          "text": [
            "100%|██████████| 11/11 [00:00<00:00, 372.89it/s]\n",
            "100%|██████████| 11/11 [00:00<00:00, 427.85it/s]\n",
            "100%|██████████| 11/11 [00:00<00:00, 404.20it/s]\n",
            "  0%|          | 0/11 [00:00<?, ?it/s]"
          ],
          "name": "stderr"
        },
        {
          "output_type": "stream",
          "text": [
            "Train loss: 2.39e-01, Val loss: 3.19e-01\n",
            "Best val loss is: 3.19e-01\n",
            "Train loss: 2.38e-01, Val loss: 3.19e-01\n",
            "Best val loss is: 3.19e-01\n",
            "Train loss: 2.38e-01, Val loss: 3.18e-01\n",
            "Best val loss is: 3.18e-01\n"
          ],
          "name": "stdout"
        },
        {
          "output_type": "stream",
          "text": [
            "100%|██████████| 11/11 [00:00<00:00, 382.67it/s]\n",
            "100%|██████████| 11/11 [00:00<00:00, 426.91it/s]\n",
            "100%|██████████| 11/11 [00:00<00:00, 430.90it/s]\n",
            "100%|██████████| 11/11 [00:00<00:00, 468.11it/s]\n",
            "  0%|          | 0/11 [00:00<?, ?it/s]"
          ],
          "name": "stderr"
        },
        {
          "output_type": "stream",
          "text": [
            "Train loss: 2.37e-01, Val loss: 3.18e-01\n",
            "Best val loss is: 3.18e-01\n",
            "Train loss: 2.37e-01, Val loss: 3.18e-01\n",
            "Best val loss is: 3.18e-01\n",
            "Train loss: 2.36e-01, Val loss: 3.18e-01\n",
            "Best val loss is: 3.18e-01\n",
            "Train loss: 2.36e-01, Val loss: 3.18e-01\n",
            "Best val loss is: 3.18e-01\n"
          ],
          "name": "stdout"
        },
        {
          "output_type": "stream",
          "text": [
            "100%|██████████| 11/11 [00:00<00:00, 398.93it/s]\n",
            "100%|██████████| 11/11 [00:00<00:00, 443.80it/s]\n",
            "100%|██████████| 11/11 [00:00<00:00, 473.56it/s]\n",
            "  0%|          | 0/11 [00:00<?, ?it/s]"
          ],
          "name": "stderr"
        },
        {
          "output_type": "stream",
          "text": [
            "Train loss: 2.35e-01, Val loss: 3.18e-01\n",
            "Best val loss is: 3.18e-01\n",
            "Train loss: 2.35e-01, Val loss: 3.18e-01\n",
            "Best val loss is: 3.18e-01\n",
            "Train loss: 2.35e-01, Val loss: 3.18e-01\n",
            "Best val loss is: 3.18e-01\n"
          ],
          "name": "stdout"
        },
        {
          "output_type": "stream",
          "text": [
            "100%|██████████| 11/11 [00:00<00:00, 375.42it/s]\n",
            "100%|██████████| 11/11 [00:00<00:00, 466.05it/s]\n",
            "100%|██████████| 11/11 [00:00<00:00, 474.17it/s]\n",
            "100%|██████████| 11/11 [00:00<00:00, 407.62it/s]\n",
            "  0%|          | 0/11 [00:00<?, ?it/s]"
          ],
          "name": "stderr"
        },
        {
          "output_type": "stream",
          "text": [
            "Train loss: 2.34e-01, Val loss: 3.18e-01\n",
            "Best val loss is: 3.18e-01\n",
            "Train loss: 2.34e-01, Val loss: 3.18e-01\n",
            "Best val loss is: 3.18e-01\n",
            "Train loss: 2.33e-01, Val loss: 3.18e-01\n",
            "Best val loss is: 3.18e-01\n",
            "Train loss: 2.33e-01, Val loss: 3.18e-01\n",
            "Best val loss is: 3.18e-01\n"
          ],
          "name": "stdout"
        },
        {
          "output_type": "stream",
          "text": [
            "100%|██████████| 11/11 [00:00<00:00, 417.75it/s]\n",
            "100%|██████████| 11/11 [00:00<00:00, 479.65it/s]\n",
            "100%|██████████| 11/11 [00:00<00:00, 490.35it/s]\n",
            "  0%|          | 0/11 [00:00<?, ?it/s]"
          ],
          "name": "stderr"
        },
        {
          "output_type": "stream",
          "text": [
            "Train loss: 2.33e-01, Val loss: 3.18e-01\n",
            "Best val loss is: 3.18e-01\n",
            "Train loss: 2.32e-01, Val loss: 3.18e-01\n",
            "Best val loss is: 3.18e-01\n",
            "Train loss: 2.32e-01, Val loss: 3.18e-01\n",
            "Best val loss is: 3.18e-01\n"
          ],
          "name": "stdout"
        },
        {
          "output_type": "stream",
          "text": [
            "100%|██████████| 11/11 [00:00<00:00, 391.88it/s]\n",
            "100%|██████████| 11/11 [00:00<00:00, 442.04it/s]\n",
            "100%|██████████| 11/11 [00:00<00:00, 442.84it/s]\n",
            "100%|██████████| 11/11 [00:00<00:00, 468.39it/s]\n",
            "  0%|          | 0/11 [00:00<?, ?it/s]"
          ],
          "name": "stderr"
        },
        {
          "output_type": "stream",
          "text": [
            "Train loss: 2.31e-01, Val loss: 3.18e-01\n",
            "Best val loss is: 3.18e-01\n",
            "Train loss: 2.31e-01, Val loss: 3.18e-01\n",
            "Best val loss is: 3.18e-01\n",
            "Train loss: 2.31e-01, Val loss: 3.18e-01\n",
            "Best val loss is: 3.18e-01\n",
            "Train loss: 2.30e-01, Val loss: 3.18e-01\n",
            "Best val loss is: 3.18e-01\n"
          ],
          "name": "stdout"
        },
        {
          "output_type": "stream",
          "text": [
            "\r100%|██████████| 11/11 [00:00<00:00, 437.70it/s]"
          ],
          "name": "stderr"
        },
        {
          "output_type": "stream",
          "text": [
            "Train loss: 2.30e-01, Val loss: 3.18e-01\n",
            "Best val loss is: 3.18e-01\n",
            "Stopped training after 145/5000 epochs.\n",
            "The loss is 7.45e-01 before training and 3.18e-01 after training.\n",
            "The training and validation losses are \n",
            "\t[0.7069248962402344, 0.6710040283203125, 0.6389613342285156, 0.6099291610717773, 0.5839464950561524, 0.5607358551025391, 0.5399740982055664, 0.5213884735107421, 0.504694938659668, 0.4896467971801758, 0.47603443145751956, 0.4636730194091797, 0.45240566253662107, 0.4420987319946289, 0.43263710021972657, 0.4239225387573242, 0.4158707427978516, 0.40840873718261717, 0.4014735794067383, 0.39501075744628905, 0.38897266387939455, 0.3833177947998047, 0.3780097579956055, 0.37301631927490236, 0.36830959320068357, 0.36386421203613284, 0.3596581268310547, 0.35567138671875, 0.35188629150390627, 0.3482871246337891, 0.3448595428466797, 0.3415906524658203, 0.33846900939941404, 0.3354840087890625, 0.33262622833251954, 0.3298869323730469, 0.32725837707519534, 0.3247332382202148, 0.32230506896972655, 0.3199677276611328, 0.3177156448364258, 0.31554397583007815, 0.3134477996826172, 0.31142292022705076, 0.309465274810791, 0.3075711441040039, 0.305737247467041, 0.3039602851867676, 0.30223730087280276, 0.3005655860900879, 0.2989426040649414, 0.2973658561706543, 0.29583316802978515, 0.29434249877929686, 0.29289180755615235, 0.29147930145263673, 0.29010337829589844, 0.28876218795776365, 0.28745431900024415, 0.28617841720581055, 0.2849330711364746, 0.283717041015625, 0.2825290298461914, 0.28136798858642575, 0.2802328681945801, 0.2791225814819336, 0.27803627014160154, 0.2769729423522949, 0.2759317588806152, 0.2749118995666504, 0.27391265869140624, 0.2729331970214844, 0.2719728660583496, 0.27103103637695314, 0.27010698318481446, 0.26920017242431643, 0.2683100128173828, 0.26743587493896487, 0.26657739639282224, 0.26573389053344726, 0.2649050521850586, 0.2640903663635254, 0.2632893180847168, 0.26250152587890624, 0.2617266845703125, 0.26096429824829104, 0.2602140235900879, 0.25947547912597657, 0.2587484931945801, 0.25803251266479493, 0.2573274040222168, 0.2566326904296875, 0.2559482192993164, 0.25527372360229494, 0.25460886001586913, 0.2539534187316895, 0.25330707550048825, 0.25266973495483397, 0.2520410346984863, 0.251420841217041, 0.2508089065551758, 0.25020503997802734, 0.24960897445678712, 0.24902063369750976, 0.2484397506713867, 0.24786619186401368, 0.247299747467041, 0.24674022674560547, 0.24618759155273437, 0.2456415557861328, 0.24510204315185546, 0.2445688819885254, 0.24404191970825195, 0.2435210609436035, 0.2430061149597168, 0.24249696731567383, 0.2419935417175293, 0.24149566650390625, 0.24100330352783203, 0.2405162239074707, 0.24003435134887696, 0.23955764770507812, 0.23908596038818358, 0.2386191749572754, 0.2381572151184082, 0.2377000045776367, 0.23724740982055664, 0.23679933547973633, 0.23635576248168946, 0.23591651916503906, 0.23548160552978514, 0.23505088806152344, 0.23462430953979493, 0.23420177459716796, 0.2337832260131836, 0.23336854934692383, 0.232957763671875, 0.23255075454711915, 0.2321474266052246, 0.23174772262573243, 0.23135162353515626, 0.2309590148925781, 0.23056989669799804, 0.23018415451049803, 0.22980173110961913, None, None, None, None, None, None, None, None, None, None, None, None, None, None, None, None, None, None, None, None, None, None, None, None, None, None, None, None, None, None, None, None, None, None, None, None, None, None, None, None, None, None, None, None, None, None, None, None, None, None, None, None, None, None, None, None, None, None, None, None, None, None, None, None, None, None, None, None, None, None, None, None, None, None, None, None, None, None, None, None, None, None, None, None, None, None, None, None, None, None, None, None, None, None, None, None, None, None, None, None, None, None, None, None, None, None, None, None, None, None, None, None, None, None, None, None, None, None, None, None, None, None, None, None, None, None, None, None, None, None, None, None, None, None, None, None, None, None, None, None, None, None, None, None, None, None, None, None, None, None, None, None, None, None, None, None, None, None, None, None, None, None, None, None, None, None, None, None, None, None, None, None, None, None, None, None, None, None, None, None, None, None, None, None, None, None, None, None, None, None, None, None, None, None, None, None, None, None, None, None, None, None, None, None, None, None, None, None, None, None, None, None, None, None, None, None, None, None, None, None, None, None, None, None, None, None, None, None, None, None, None, None, None, None, None, None, None, None, None, None, None, None, None, None, None, None, None, None, None, None, None, None, None, None, None, None, None, None, None, None, None, None, None, None, None, None, None, None, None, None, None, None, None, None, None, None, None, None, None, None, None, None, None, None, None, None, None, None, None, None, None, None, None, None, None, None, None, None, None, None, None, None, None, None, None, None, None, None, None, None, None, None, None, None, None, None, None, None, None, None, None, None, None, None, None, None, None, None, None, None, None, None, None, None, None, None, None, None, None, None, None, None, None, None, None, None, None, None, None, None, None, None, None, None, None, None, None, None, None, None, None, None, None, None, None, None, None, None, None, None, None, None, None, None, None, None, None, None, None, None, None, None, None, None, None, None, None, None, None, None, None, None, None, None, None, None, None, None, None, None, None, None, None, None, None, None, None, None, None, None, None, None, None, None, None, None, None, None, None, None, None, None, None, None, None, None, None, None, None, None, None, None, None, None, None, None, None, None, None, None, None, None, None, None, None, None, None, None, None, None, None, None, None, None, None, None, None, None, None, None, None, None, None, None, None, None, None, None, None, None, None, None, None, None, None, None, None, None, None, None, None, None, None, None, None, None, None, None, None, None, None, None, None, None, None, None, None, None, None, None, None, None, None, None, None, None, None, None, None, None, None, None, None, None, None, None, None, None, None, None, None, None, None, None, None, None, None, None, None, None, None, None, None, None, None, None, None, None, None, None, None, None, None, None, None, None, None, None, None, None, None, None, None, None, None, None, None, None, None, None, None, None, None, None, None, None, None, None, None, None, None, None, None, None, None, None, None, None, None, None, None, None, None, None, None, None, None, None, None, None, None, None, None, None, None, None, None, None, None, None, None, None, None, None, None, None, None, None, None, None, None, None, None, None, None, None, None, None, None, None, None, None, None, None, None, None, None, None, None, None, None, None, None, None, None, None, None, None, None, None, None, None, None, None, None, None, None, None, None, None, None, None, None, None, None, None, None, None, None, None, None, None, None, None, None, None, None, None, None, None, None, None, None, None, None, None, None, None, None, None, None, None, None, None, None, None, None, None, None, None, None, None, None, None, None, None, None, None, None, None, None, None, None, None, None, None, None, None, None, None, None, None, None, None, None, None, None, None, None, None, None, None, None, None, None, None, None, None, None, None, None, None, None, None, None, None, None, None, None, None, None, None, None, None, None, None, None, None, None, None, None, None, None, None, None, None, None, None, None, None, None, None, None, None, None, None, None, None, None, None, None, None, None, None, None, None, None, None, None, None, None, None, None, None, None, None, None, None, None, None, None, None, None, None, None, None, None, None, None, None, None, None, None, None, None, None, None, None, None, None, None, None, None, None, None, None, None, None, None, None, None, None, None, None, None, None, None, None, None, None, None, None, None, None, None, None, None, None, None, None, None, None, None, None, None, None, None, None, None, None, None, None, None, None, None, None, None, None, None, None, None, None, None, None, None, None, None, None, None, None, None, None, None, None, None, None, None, None, None, None, None, None, None, None, None, None, None, None, None, None, None, None, None, None, None, None, None, None, None, None, None, None, None, None, None, None, None, None, None, None, None, None, None, None, None, None, None, None, None, None, None, None, None, None, None, None, None, None, None, None, None, None, None, None, None, None, None, None, None, None, None, None, None, None, None, None, None, None, None, None, None, None, None, None, None, None, None, None, None, None, None, None, None, None, None, None, None, None, None, None, None, None, None, None, None, None, None, None, None, None, None, None, None, None, None, None, None, None, None, None, None, None, None, None, None, None, None, None, None, None, None, None, None, None, None, None, None, None, None, None, None, None, None, None, None, None, None, None, None, None, None, None, None, None, None, None, None, None, None, None, None, None, None, None, None, None, None, None, None, None, None, None, None, None, None, None, None, None, None, None, None, None, None, None, None, None, None, None, None, None, None, None, None, None, None, None, None, None, None, None, None, None, None, None, None, None, None, None, None, None, None, None, None, None, None, None, None, None, None, None, None, None, None, None, None, None, None, None, None, None, None, None, None, None, None, None, None, None, None, None, None, None, None, None, None, None, None, None, None, None, None, None, None, None, None, None, None, None, None, None, None, None, None, None, None, None, None, None, None, None, None, None, None, None, None, None, None, None, None, None, None, None, None, None, None, None, None, None, None, None, None, None, None, None, None, None, None, None, None, None, None, None, None, None, None, None, None, None, None, None, None, None, None, None, None, None, None, None, None, None, None, None, None, None, None, None, None, None, None, None, None, None, None, None, None, None, None, None, None, None, None, None, None, None, None, None, None, None, None, None, None, None, None, None, None, None, None, None, None, None, None, None, None, None, None, None, None, None, None, None, None, None, None, None, None, None, None, None, None, None, None, None, None, None, None, None, None, None, None, None, None, None, None, None, None, None, None, None, None, None, None, None, None, None, None, None, None, None, None, None, None, None, None, None, None, None, None, None, None, None, None, None, None, None, None, None, None, None, None, None, None, None, None, None, None, None, None, None, None, None, None, None, None, None, None, None, None, None, None, None, None, None, None, None, None, None, None, None, None, None, None, None, None, None, None, None, None, None, None, None, None, None, None, None, None, None, None, None, None, None, None, None, None, None, None, None, None, None, None, None, None, None, None, None, None, None, None, None, None, None, None, None, None, None, None, None, None, None, None, None, None, None, None, None, None, None, None, None, None, None, None, None, None, None, None, None, None, None, None, None, None, None, None, None, None, None, None, None, None, None, None, None, None, None, None, None, None, None, None, None, None, None, None, None, None, None, None, None, None, None, None, None, None, None, None, None, None, None, None, None, None, None, None, None, None, None, None, None, None, None, None, None, None, None, None, None, None, None, None, None, None, None, None, None, None, None, None, None, None, None, None, None, None, None, None, None, None, None, None, None, None, None, None, None, None, None, None, None, None, None, None, None, None, None, None, None, None, None, None, None, None, None, None, None, None, None, None, None, None, None, None, None, None, None, None, None, None, None, None, None, None, None, None, None, None, None, None, None, None, None, None, None, None, None, None, None, None, None, None, None, None, None, None, None, None, None, None, None, None, None, None, None, None, None, None, None, None, None, None, None, None, None, None, None, None, None, None, None, None, None, None, None, None, None, None, None, None, None, None, None, None, None, None, None, None, None, None, None, None, None, None, None, None, None, None, None, None, None, None, None, None, None, None, None, None, None, None, None, None, None, None, None, None, None, None, None, None, None, None, None, None, None, None, None, None, None, None, None, None, None, None, None, None, None, None, None, None, None, None, None, None, None, None, None, None, None, None, None, None, None, None, None, None, None, None, None, None, None, None, None, None, None, None, None, None, None, None, None, None, None, None, None, None, None, None, None, None, None, None, None, None, None, None, None, None, None, None, None, None, None, None, None, None, None, None, None, None, None, None, None, None, None, None, None, None, None, None, None, None, None, None, None, None, None, None, None, None, None, None, None, None, None, None, None, None, None, None, None, None, None, None, None, None, None, None, None, None, None, None, None, None, None, None, None, None, None, None, None, None, None, None, None, None, None, None, None, None, None, None, None, None, None, None, None, None, None, None, None, None, None, None, None, None, None, None, None, None, None, None, None, None, None, None, None, None, None, None, None, None, None, None, None, None, None, None, None, None, None, None, None, None, None, None, None, None, None, None, None, None, None, None, None, None, None, None, None, None, None, None, None, None, None, None, None, None, None, None, None, None, None, None, None, None, None, None, None, None, None, None, None, None, None, None, None, None, None, None, None, None, None, None, None, None, None, None, None, None, None, None, None, None, None, None, None, None, None, None, None, None, None, None, None, None, None, None, None, None, None, None, None, None, None, None, None, None, None, None, None, None, None, None, None, None, None, None, None, None, None, None, None, None, None, None, None, None, None, None, None, None, None, None, None, None, None, None, None, None, None, None, None, None, None, None, None, None, None, None, None, None, None, None, None, None, None, None, None, None, None, None, None, None, None, None, None, None, None, None, None, None, None, None, None, None, None, None, None, None, None, None, None, None, None, None, None, None, None, None, None, None, None, None, None, None, None, None, None, None, None, None, None, None, None, None, None, None, None, None, None, None, None, None, None, None, None, None, None, None, None, None, None, None, None, None, None, None, None, None, None, None, None, None, None, None, None, None, None, None, None, None, None, None, None, None, None, None, None, None, None, None, None, None, None, None, None, None, None, None, None, None, None, None, None, None, None, None, None, None, None, None, None, None, None, None, None, None, None, None, None, None, None, None, None, None, None, None, None, None, None, None, None, None, None, None, None, None, None, None, None, None, None, None, None, None, None, None, None, None, None, None, None, None, None, None, None, None, None, None, None, None, None, None, None, None, None, None, None, None, None, None, None, None, None, None, None, None, None, None, None, None, None, None, None, None, None, None, None, None, None, None, None, None, None, None, None, None, None, None, None, None, None, None, None, None, None, None, None, None, None, None, None, None, None, None, None, None, None, None, None, None, None, None, None, None, None, None, None, None, None, None, None, None, None, None, None, None, None, None, None, None, None, None, None, None, None, None, None, None, None, None, None, None, None, None, None, None, None, None, None, None, None, None, None, None, None, None, None, None, None, None, None, None, None, None, None, None, None, None, None, None, None, None, None, None, None, None, None, None, None, None, None, None, None, None, None, None, None, None, None, None, None, None, None, None, None, None, None, None, None, None, None, None, None, None, None, None, None, None, None, None, None, None, None, None, None, None, None, None, None, None, None, None, None, None, None, None, None, None, None, None, None, None, None, None, None, None, None, None, None, None, None, None, None, None, None, None, None, None, None, None, None, None, None, None, None, None, None, None, None, None, None, None, None, None, None, None, None, None, None, None, None, None, None, None, None, None, None, None, None, None, None, None, None, None, None, None, None, None, None, None, None, None, None, None, None, None, None, None, None, None, None, None, None, None, None, None, None, None, None, None, None, None, None, None, None, None, None, None, None, None, None, None, None, None, None, None, None, None, None, None, None, None, None, None, None, None, None, None, None, None, None, None, None, None, None, None, None, None, None, None, None, None, None, None, None, None, None, None, None, None, None, None, None, None, None, None, None, None, None, None, None, None, None, None, None, None, None, None, None, None, None, None, None, None, None, None, None, None, None, None, None, None, None, None, None, None, None, None, None, None, None, None, None, None, None, None, None, None, None, None, None, None, None, None, None, None, None, None, None, None, None, None, None, None, None, None, None, None, None, None, None, None, None, None, None, None, None, None, None, None, None, None, None, None, None, None, None, None, None, None, None, None, None, None, None, None, None, None, None, None, None, None, None, None, None, None, None, None, None, None, None, None, None, None, None, None, None, None, None, None, None, None, None, None, None, None, None, None, None, None, None, None, None, None, None, None, None, None, None, None, None, None, None, None, None, None, None, None, None, None, None, None, None, None, None, None, None, None, None, None, None, None, None, None, None, None, None, None, None, None, None, None, None, None, None, None, None, None, None, None, None, None, None, None, None, None, None, None, None, None, None, None, None, None, None, None, None, None, None, None, None, None, None, None, None, None, None, None, None, None, None, None, None, None, None, None, None, None, None, None, None, None, None, None, None, None, None, None, None, None, None, None, None, None, None, None, None, None, None, None, None, None, None, None, None, None, None, None, None, None, None, None, None, None, None, None, None, None, None, None, None, None, None, None, None, None, None, None, None, None, None, None, None, None, None, None, None, None, None, None, None, None, None, None, None, None, None, None, None, None, None, None, None, None, None, None, None, None, None, None, None, None, None, None, None, None, None, None, None, None, None, None, None, None, None, None, None, None, None, None, None, None, None, None, None, None, None, None, None, None, None, None, None, None, None, None, None, None, None, None, None, None, None, None, None, None, None, None, None, None, None, None, None, None, None, None, None, None, None, None, None, None, None, None, None, None, None, None, None, None, None, None, None, None, None, None, None, None, None, None, None, None, None, None, None, None, None, None, None, None, None, None, None, None, None, None, None, None, None, None, None, None, None, None, None, None, None, None, None, None, None, None, None, None, None, None, None, None, None, None, None, None, None, None, None, None, None, None, None, None, None, None, None, None, None, None, None, None, None, None, None, None, None, None, None, None, None, None, None, None, None, None, None, None, None, None, None, None, None, None, None, None, None, None, None, None, None, None, None, None, None, None, None, None, None, None, None, None, None, None, None, None, None, None, None, None, None, None, None, None, None, None, None, None, None, None, None, None, None, None, None, None, None, None, None, None, None, None, None, None, None, None, None, None, None, None, None, None, None, None, None, None, None, None, None, None, None, None, None, None, None, None, None, None, None, None, None, None, None, None, None, None, None, None, None, None, None, None, None, None, None, None, None, None, None, None, None, None, None, None, None, None, None, None, None, None, None, None, None, None, None, None, None, None, None, None, None, None, None, None, None, None, None, None, None, None, None, None, None, None, None, None, None, None, None, None, None, None, None, None, None, None, None, None, None, None, None, None, None, None, None, None, None, None, None, None, None, None, None, None, None, None, None, None, None, None, None, None, None, None, None, None, None, None, None, None, None, None, None, None, None, None, None, None, None, None, None, None, None, None, None, None, None, None, None, None, None, None, None, None, None, None, None, None, None, None, None, None, None, None, None, None, None, None, None, None, None, None, None, None, None, None, None, None, None, None, None, None, None, None, None, None, None, None, None, None, None, None, None, None, None, None, None, None, None, None, None, None, None, None, None, None, None, None, None, None, None, None, None, None, None, None, None, None, None, None, None, None, None, None, None, None, None, None, None, None, None, None, None, None, None, None, None, None, None, None, None, None, None, None, None, None, None, None, None, None, None, None, None, None, None, None, None, None, None, None, None, None, None, None, None, None, None, None, None, None, None, None, None, None, None, None, None, None, None, None, None, None, None, None, None, None, None, None, None, None, None, None, None, None, None, None, None, None, None, None, None, None, None, None, None, None, None, None, None, None, None, None, None, None, None, None, None, None, None, None, None, None, None, None, None, None, None, None, None, None, None, None, None, None, None, None, None, None, None, None, None, None, None, None, None, None, None, None, None, None, None, None, None, None, None, None, None, None, None, None, None, None, None, None, None, None, None, None, None, None, None, None, None, None, None, None, None, None, None, None, None, None, None, None, None, None, None, None, None, None, None, None, None, None, None, None, None, None, None, None, None, None, None, None, None, None, None, None, None, None, None, None, None, None, None, None, None, None, None, None, None, None, None, None, None, None, None, None, None, None, None, None, None, None, None, None, None, None, None, None, None, None, None, None, None, None, None, None, None, None, None, None, None, None, None, None, None, None, None, None, None, None, None, None, None, None, None, None, None, None, None, None, None, None, None, None, None, None, None, None, None, None, None, None, None, None, None, None, None, None, None, None, None, None, None, None, None, None, None, None, None, None, None, None, None, None, None, None, None, None, None, None, None, None, None, None, None, None, None, None, None, None, None, None, None, None, None, None, None, None, None, None, None, None, None, None, None, None, None, None, None, None, None, None, None, None, None, None, None, None, None, None, None, None, None, None, None, None, None, None, None, None, None, None, None, None, None, None, None, None, None, None, None, None, None, None, None, None, None, None, None, None, None, None, None, None, None, None, None, None, None, None, None, None, None, None, None, None, None, None, None, None, None, None, None, None, None, None, None, None, None, None, None, None, None, None, None, None, None, None, None, None, None, None, None, None, None, None, None, None, None, None, None, None, None, None, None, None, None, None, None, None, None, None, None, None, None, None, None, None, None, None, None, None, None, None, None, None, None, None, None, None, None, None, None, None, None, None, None, None, None, None, None, None, None, None, None, None, None, None, None, None, None, None, None, None, None, None, None, None, None, None, None, None, None, None, None, None, None, None, None, None, None, None, None, None, None, None, None, None, None, None, None, None, None, None, None, None, None, None, None, None, None, None, None, None, None, None, None, None, None, None, None, None, None, None, None, None, None, None, None, None, None, None, None, None, None, None, None, None, None, None, None, None, None, None, None, None, None, None, None, None, None, None, None, None, None, None, None, None, None, None, None, None, None, None, None, None, None, None, None, None, None, None, None, None, None, None, None, None, None, None, None, None, None, None, None, None, None, None, None, None, None, None, None, None, None, None, None, None, None, None, None, None, None, None, None, None, None, None, None, None, None, None, None, None, None, None, None, None, None, None, None, None, None, None, None, None, None, None, None, None, None, None, None, None, None, None, None, None, None, None, None, None, None, None, None, None, None, None, None, None, None, None, None, None, None, None, None, None, None, None, None, None, None, None, None, None, None, None, None, None, None, None, None, None, None, None, None, None, None, None, None, None, None, None, None, None, None, None, None, None, None, None, None, None, None, None, None, None, None, None, None, None, None, None, None, None, None, None, None, None, None, None, None, None, None, None, None, None, None, None, None, None, None, None, None, None, None, None, None, None, None, None, None, None, None, None, None, None, None, None, None, None, None, None, None, None, None, None, None, None, None, None, None, None, None, None, None, None, None, None, None, None, None, None, None, None, None, None, None, None, None, None, None, None, None, None, None, None, None, None, None, None, None, None, None, None, None, None, None, None, None, None, None, None, None, None, None, None, None, None, None, None, None, None, None, None, None, None, None, None, None, None, None, None, None, None, None, None, None, None, None, None, None, None, None, None, None, None, None, None, None, None, None, None, None, None, None, None, None, None, None, None, None, None, None, None, None, None, None, None, None, None, None, None, None, None, None, None, None, None, None, None, None, None, None, None, None, None, None, None, None, None, None, None, None, None, None, None, None, None, None, None, None, None, None, None, None, None, None, None, None, None, None, None, None, None, None, None, None, None, None, None, None, None, None, None, None, None, None, None, None, None, None, None, None, None, None, None, None, None, None, None, None, None, None, None, None, None, None, None, None, None, None, None, None, None, None, None, None, None, None, None, None, None, None, None, None, None, None, None, None, None, None, None, None, None, None, None, None, None, None, None, None, None, None, None, None, None, None, None, None, None, None, None, None, None, None, None, None, None, None, None, None, None, None, None, None, None, None, None, None, None, None, None, None, None, None, None, None, None, None, None, None, None, None, None, None, None, None, None, None, None, None, None, None, None, None, None, None, None, None, None, None, None, None, None, None, None, None, None, None, None, None, None, None, None, None, None, None, None, None, None, None, None, None, None, None, None, None, None, None, None, None, None, None, None, None, None, None, None, None, None, None, None, None, None, None, None, None, None, None, None, None, None, None, None, None, None, None, None, None, None, None, None, None, None, None, None, None, None, None, None, None, None, None, None, None, None, None, None, None, None, None, None, None, None, None, None, None, None, None, None, None, None, None, None, None, None, None, None, None, None, None, None, None, None, None, None, None, None, None, None, None, None, None, None, None, None, None, None, None, None, None, None, None, None, None, None, None, None, None, None, None, None, None, None, None, None, None, None, None, None, None, None, None, None, None, None, None, None, None, None, None, None, None, None, None, None, None, None, None, None, None, None, None, None, None, None, None, None, None, None, None, None, None, None, None, None, None, None, None, None, None, None, None, None, None, None, None, None, None, None, None, None, None, None, None, None, None, None, None, None, None, None, None, None, None, None, None, None, None, None, None, None, None, None, None, None, None, None, None, None, None, None, None, None, None, None, None, None, None, None, None, None, None, None, None, None, None, None, None, None, None, None, None, None, None, None, None, None, None, None, None, None, None, None, None, None, None, None, None, None, None, None, None, None, None, None, None, None, None, None, None, None, None, None, None, None, None, None, None, None, None, None, None, None, None, None, None, None, None, None, None, None, None, None, None, None, None, None, None, None, None, None, None, None, None, None, None, None, None, None, None, None, None, None, None, None, None, None, None, None, None, None, None, None, None, None, None, None, None, None, None, None, None, None, None, None, None, None, None, None, None, None, None, None, None, None, None, None, None, None, None, None, None, None, None, None, None, None, None, None, None, None, None, None, None, None, None, None, None, None, None, None, None, None, None, None, None, None, None, None, None, None, None, None, None, None, None, None, None, None, None, None, None, None, None, None, None, None, None, None, None, None, None, None, None, None, None, None, None, None, None, None, None, None, None, None, None, None, None, None, None, None, None, None, None, None, None, None, None, None, None, None, None, None, None, None, None, None, None, None, None, None, None, None, None, None, None, None, None, None, None, None, None, None, None, None, None, None, None, None, None, None, None, None, None, None, None, None, None, None, None, None, None, None, None, None, None, None, None, None, None, None, None, None, None, None, None, None, None, None, None, None, None, None, None, None, None, None, None, None, None, None, None, None, None, None, None, None, None, None, None, None, None, None, None, None, None, None, None, None, None, None, None, None, None, None, None, None, None, None, None, None, None, None, None, None, None, None, None, None, None, None, None, None, None, None, None, None, None, None, None, None, None, None, None, None, None, None, None, None, None, None, None, None, None, None, None, None, None, None, None, None, None, None, None, None, None, None, None, None, None, None, None, None, None, None, None, None, None, None, None, None, None, None, None, None, None, None, None, None, None, None, None, None, None, None, None, None, None, None, None, None, None, None, None, None, None, None, None, None, None, None, None, None, None, None, None, None, None, None, None, None, None, None, None, None, None, None, None, None, None, None, None, None, None, None, None, None, None, None, None, None, None, None, None, None, None, None, None, None, None, None, None, None, None, None, None, None, None, None, None, None, None, None, None, None, None, None, None, None, None, None, None, None, None, None, None, None, None, None, None, None, None, None, None, None, None, None, None, None, None, None, None, None, None, None], \n",
            "\t[0.7070064544677734, 0.6715890765190125, 0.6403765082359314, 0.6125673055648804, 0.5873427391052246, 0.5650765299797058, 0.5452333092689514, 0.5274520516395569, 0.5115892887115479, 0.4973336458206177, 0.48449090123176575, 0.47290000319480896, 0.462391197681427, 0.4528403580188751, 0.44413483142852783, 0.4361763000488281, 0.42888179421424866, 0.42217931151390076, 0.4160061180591583, 0.410307377576828, 0.4050357937812805, 0.4001491367816925, 0.39561137557029724, 0.3913901150226593, 0.3874562382698059, 0.38378486037254333, 0.38035330176353455, 0.37714117765426636, 0.37413036823272705, 0.37130501866340637, 0.3686508536338806, 0.36615440249443054, 0.36380305886268616, 0.3615877330303192, 0.35949695110321045, 0.3575229346752167, 0.3556571304798126, 0.35389262437820435, 0.3522219955921173, 0.3506396412849426, 0.3491393029689789, 0.34771668910980225, 0.3463655412197113, 0.3450825810432434, 0.3438630700111389, 0.3427037298679352, 0.34160059690475464, 0.3405507206916809, 0.33955085277557373, 0.33859822154045105, 0.3376901149749756, 0.3368241786956787, 0.33599841594696045, 0.3352103531360626, 0.3344578444957733, 0.33373942971229553, 0.3330530822277069, 0.3323970139026642, 0.33177000284194946, 0.3311707377433777, 0.3305976688861847, 0.3300492763519287, 0.32952454686164856, 0.32902243733406067, 0.32854166626930237, 0.32808157801628113, 0.32764092087745667, 0.32721880078315735, 0.32681480050086975, 0.32642751932144165, 0.32605618238449097, 0.32570090889930725, 0.32535991072654724, 0.32503339648246765, 0.3247203230857849, 0.32442033290863037, 0.32413250207901, 0.3238565921783447, 0.3235922157764435, 0.3233385980129242, 0.32309553027153015, 0.3228623867034912, 0.32263901829719543, 0.3224247097969055, 0.32221949100494385, 0.3220227062702179, 0.3218339681625366, 0.3216530978679657, 0.32148000597953796, 0.321313738822937, 0.3211545944213867, 0.32100236415863037, 0.32085639238357544, 0.32071653008461, 0.3205828070640564, 0.32045477628707886, 0.3203320801258087, 0.32021480798721313, 0.3201028108596802, 0.3199957013130188, 0.3198931813240051, 0.3197954595088959, 0.3197020888328552, 0.31961286067962646, 0.31952789425849915, 0.319446861743927, 0.31936952471733093, 0.3192959129810333, 0.31922590732574463, 0.31915926933288574, 0.3190959692001343, 0.3190358281135559, 0.31897902488708496, 0.31892481446266174, 0.3188740015029907, 0.3188256025314331, 0.31877976655960083, 0.3187367916107178, 0.3186963200569153, 0.3186580538749695, 0.31862255930900574, 0.31858909130096436, 0.3185577392578125, 0.3185287415981293, 0.31850162148475647, 0.3184765875339508, 0.318453311920166, 0.31843191385269165, 0.3184126317501068, 0.31839483976364136, 0.31837859749794006, 0.31836432218551636, 0.3183515965938568, 0.31834039092063904, 0.3183306157588959, 0.3183221220970154, 0.3183150291442871, 0.31830957531929016, 0.31830528378486633, 0.3183022439479828, 0.3183005750179291, 0.3182997405529022, 0.3183004558086395, 0.3183022737503052, 0.318305104970932, None, None, None, None, None, None, None, None, None, None, None, None, None, None, None, None, None, None, None, None, None, None, None, None, None, None, None, None, None, None, None, None, None, None, None, None, None, None, None, None, None, None, None, None, None, None, None, None, None, None, None, None, None, None, None, None, None, None, None, None, None, None, None, None, None, None, None, None, None, None, None, None, None, None, None, None, None, None, None, None, None, None, None, None, None, None, None, None, None, None, None, None, None, None, None, None, None, None, None, None, None, None, None, None, None, None, None, None, None, None, None, None, None, None, None, None, None, None, None, None, None, None, None, None, None, None, None, None, None, None, None, None, None, None, None, None, None, None, None, None, None, None, None, None, None, None, None, None, None, None, None, None, None, None, None, None, None, None, None, None, None, None, None, None, None, None, None, None, None, None, None, None, None, None, None, None, None, None, None, None, None, None, None, None, None, None, None, None, None, None, None, None, None, None, None, None, None, None, None, None, None, None, None, None, None, None, None, None, None, None, None, None, None, None, None, None, None, None, None, None, None, None, None, None, None, None, None, None, None, None, None, None, None, None, None, None, None, None, None, None, None, None, None, None, None, None, None, None, None, None, None, None, None, None, None, None, None, None, None, None, None, None, None, None, None, None, None, None, None, None, None, None, None, None, None, None, None, None, None, None, None, None, None, None, None, None, None, None, None, None, None, None, None, None, None, None, None, None, None, None, None, None, None, None, None, None, None, None, None, None, None, None, None, None, None, None, None, None, None, None, None, None, None, None, None, None, None, None, None, None, None, None, None, None, None, None, None, None, None, None, None, None, None, None, None, None, None, None, None, None, None, None, None, None, None, None, None, None, None, None, None, None, None, None, None, None, None, None, None, None, None, None, None, None, None, None, None, None, None, None, None, None, None, None, None, None, None, None, None, None, None, None, None, None, None, None, None, None, None, None, None, None, None, None, None, None, None, None, None, None, None, None, None, None, None, None, None, None, None, None, None, None, None, None, None, None, None, None, None, None, None, None, None, None, None, None, None, None, None, None, None, None, None, None, None, None, None, None, None, None, None, None, None, None, None, None, None, None, None, None, None, None, None, None, None, None, None, None, None, None, None, None, None, None, None, None, None, None, None, None, None, None, None, None, None, None, None, None, None, None, None, None, None, None, None, None, None, None, None, None, None, None, None, None, None, None, None, None, None, None, None, None, None, None, None, None, None, None, None, None, None, None, None, None, None, None, None, None, None, None, None, None, None, None, None, None, None, None, None, None, None, None, None, None, None, None, None, None, None, None, None, None, None, None, None, None, None, None, None, None, None, None, None, None, None, None, None, None, None, None, None, None, None, None, None, None, None, None, None, None, None, None, None, None, None, None, None, None, None, None, None, None, None, None, None, None, None, None, None, None, None, None, None, None, None, None, None, None, None, None, None, None, None, None, None, None, None, None, None, None, None, None, None, None, None, None, None, None, None, None, None, None, None, None, None, None, None, None, None, None, None, None, None, None, None, None, None, None, None, None, None, None, None, None, None, None, None, None, None, None, None, None, None, None, None, None, None, None, None, None, None, None, None, None, None, None, None, None, None, None, None, None, None, None, None, None, None, None, None, None, None, None, None, None, None, None, None, None, None, None, None, None, None, None, None, None, None, None, None, None, None, None, None, None, None, None, None, None, None, None, None, None, None, None, None, None, None, None, None, None, None, None, None, None, None, None, None, None, None, None, None, None, None, None, None, None, None, None, None, None, None, None, None, None, None, None, None, None, None, None, None, None, None, None, None, None, None, None, None, None, None, None, None, None, None, None, None, None, None, None, None, None, None, None, None, None, None, None, None, None, None, None, None, None, None, None, None, None, None, None, None, None, None, None, None, None, None, None, None, None, None, None, None, None, None, None, None, None, None, None, None, None, None, None, None, None, None, None, None, None, None, None, None, None, None, None, None, None, None, None, None, None, None, None, None, None, None, None, None, None, None, None, None, None, None, None, None, None, None, None, None, None, None, None, None, None, None, None, None, None, None, None, None, None, None, None, None, None, None, None, None, None, None, None, None, None, None, None, None, None, None, None, None, None, None, None, None, None, None, None, None, None, None, None, None, None, None, None, None, None, None, None, None, None, None, None, None, None, None, None, None, None, None, None, None, None, None, None, None, None, None, None, None, None, None, None, None, None, None, None, None, None, None, None, None, None, None, None, None, None, None, None, None, None, None, None, None, None, None, None, None, None, None, None, None, None, None, None, None, None, None, None, None, None, None, None, None, None, None, None, None, None, None, None, None, None, None, None, None, None, None, None, None, None, None, None, None, None, None, None, None, None, None, None, None, None, None, None, None, None, None, None, None, None, None, None, None, None, None, None, None, None, None, None, None, None, None, None, None, None, None, None, None, None, None, None, None, None, None, None, None, None, None, None, None, None, None, None, None, None, None, None, None, None, None, None, None, None, None, None, None, None, None, None, None, None, None, None, None, None, None, None, None, None, None, None, None, None, None, None, None, None, None, None, None, None, None, None, None, None, None, None, None, None, None, None, None, None, None, None, None, None, None, None, None, None, None, None, None, None, None, None, None, None, None, None, None, None, None, None, None, None, None, None, None, None, None, None, None, None, None, None, None, None, None, None, None, None, None, None, None, None, None, None, None, None, None, None, None, None, None, None, None, None, None, None, None, None, None, None, None, None, None, None, None, None, None, None, None, None, None, None, None, None, None, None, None, None, None, None, None, None, None, None, None, None, None, None, None, None, None, None, None, None, None, None, None, None, None, None, None, None, None, None, None, None, None, None, None, None, None, None, None, None, None, None, None, None, None, None, None, None, None, None, None, None, None, None, None, None, None, None, None, None, None, None, None, None, None, None, None, None, None, None, None, None, None, None, None, None, None, None, None, None, None, None, None, None, None, None, None, None, None, None, None, None, None, None, None, None, None, None, None, None, None, None, None, None, None, None, None, None, None, None, None, None, None, None, None, None, None, None, None, None, None, None, None, None, None, None, None, None, None, None, None, None, None, None, None, None, None, None, None, None, None, None, None, None, None, None, None, None, None, None, None, None, None, None, None, None, None, None, None, None, None, None, None, None, None, None, None, None, None, None, None, None, None, None, None, None, None, None, None, None, None, None, None, None, None, None, None, None, None, None, None, None, None, None, None, None, None, None, None, None, None, None, None, None, None, None, None, None, None, None, None, None, None, None, None, None, None, None, None, None, None, None, None, None, None, None, None, None, None, None, None, None, None, None, None, None, None, None, None, None, None, None, None, None, None, None, None, None, None, None, None, None, None, None, None, None, None, None, None, None, None, None, None, None, None, None, None, None, None, None, None, None, None, None, None, None, None, None, None, None, None, None, None, None, None, None, None, None, None, None, None, None, None, None, None, None, None, None, None, None, None, None, None, None, None, None, None, None, None, None, None, None, None, None, None, None, None, None, None, None, None, None, None, None, None, None, None, None, None, None, None, None, None, None, None, None, None, None, None, None, None, None, None, None, None, None, None, None, None, None, None, None, None, None, None, None, None, None, None, None, None, None, None, None, None, None, None, None, None, None, None, None, None, None, None, None, None, None, None, None, None, None, None, None, None, None, None, None, None, None, None, None, None, None, None, None, None, None, None, None, None, None, None, None, None, None, None, None, None, None, None, None, None, None, None, None, None, None, None, None, None, None, None, None, None, None, None, None, None, None, None, None, None, None, None, None, None, None, None, None, None, None, None, None, None, None, None, None, None, None, None, None, None, None, None, None, None, None, None, None, None, None, None, None, None, None, None, None, None, None, None, None, None, None, None, None, None, None, None, None, None, None, None, None, None, None, None, None, None, None, None, None, None, None, None, None, None, None, None, None, None, None, None, None, None, None, None, None, None, None, None, None, None, None, None, None, None, None, None, None, None, None, None, None, None, None, None, None, None, None, None, None, None, None, None, None, None, None, None, None, None, None, None, None, None, None, None, None, None, None, None, None, None, None, None, None, None, None, None, None, None, None, None, None, None, None, None, None, None, None, None, None, None, None, None, None, None, None, None, None, None, None, None, None, None, None, None, None, None, None, None, None, None, None, None, None, None, None, None, None, None, None, None, None, None, None, None, None, None, None, None, None, None, None, None, None, None, None, None, None, None, None, None, None, None, None, None, None, None, None, None, None, None, None, None, None, None, None, None, None, None, None, None, None, None, None, None, None, None, None, None, None, None, None, None, None, None, None, None, None, None, None, None, None, None, None, None, None, None, None, None, None, None, None, None, None, None, None, None, None, None, None, None, None, None, None, None, None, None, None, None, None, None, None, None, None, None, None, None, None, None, None, None, None, None, None, None, None, None, None, None, None, None, None, None, None, None, None, None, None, None, None, None, None, None, None, None, None, None, None, None, None, None, None, None, None, None, None, None, None, None, None, None, None, None, None, None, None, None, None, None, None, None, None, None, None, None, None, None, None, None, None, None, None, None, None, None, None, None, None, None, None, None, None, None, None, None, None, None, None, None, None, None, None, None, None, None, None, None, None, None, None, None, None, None, None, None, None, None, None, None, None, None, None, None, None, None, None, None, None, None, None, None, None, None, None, None, None, None, None, None, None, None, None, None, None, None, None, None, None, None, None, None, None, None, None, None, None, None, None, None, None, None, None, None, None, None, None, None, None, None, None, None, None, None, None, None, None, None, None, None, None, None, None, None, None, None, None, None, None, None, None, None, None, None, None, None, None, None, None, None, None, None, None, None, None, None, None, None, None, None, None, None, None, None, None, None, None, None, None, None, None, None, None, None, None, None, None, None, None, None, None, None, None, None, None, None, None, None, None, None, None, None, None, None, None, None, None, None, None, None, None, None, None, None, None, None, None, None, None, None, None, None, None, None, None, None, None, None, None, None, None, None, None, None, None, None, None, None, None, None, None, None, None, None, None, None, None, None, None, None, None, None, None, None, None, None, None, None, None, None, None, None, None, None, None, None, None, None, None, None, None, None, None, None, None, None, None, None, None, None, None, None, None, None, None, None, None, None, None, None, None, None, None, None, None, None, None, None, None, None, None, None, None, None, None, None, None, None, None, None, None, None, None, None, None, None, None, None, None, None, None, None, None, None, None, None, None, None, None, None, None, None, None, None, None, None, None, None, None, None, None, None, None, None, None, None, None, None, None, None, None, None, None, None, None, None, None, None, None, None, None, None, None, None, None, None, None, None, None, None, None, None, None, None, None, None, None, None, None, None, None, None, None, None, None, None, None, None, None, None, None, None, None, None, None, None, None, None, None, None, None, None, None, None, None, None, None, None, None, None, None, None, None, None, None, None, None, None, None, None, None, None, None, None, None, None, None, None, None, None, None, None, None, None, None, None, None, None, None, None, None, None, None, None, None, None, None, None, None, None, None, None, None, None, None, None, None, None, None, None, None, None, None, None, None, None, None, None, None, None, None, None, None, None, None, None, None, None, None, None, None, None, None, None, None, None, None, None, None, None, None, None, None, None, None, None, None, None, None, None, None, None, None, None, None, None, None, None, None, None, None, None, None, None, None, None, None, None, None, None, None, None, None, None, None, None, None, None, None, None, None, None, None, None, None, None, None, None, None, None, None, None, None, None, None, None, None, None, None, None, None, None, None, None, None, None, None, None, None, None, None, None, None, None, None, None, None, None, None, None, None, None, None, None, None, None, None, None, None, None, None, None, None, None, None, None, None, None, None, None, None, None, None, None, None, None, None, None, None, None, None, None, None, None, None, None, None, None, None, None, None, None, None, None, None, None, None, None, None, None, None, None, None, None, None, None, None, None, None, None, None, None, None, None, None, None, None, None, None, None, None, None, None, None, None, None, None, None, None, None, None, None, None, None, None, None, None, None, None, None, None, None, None, None, None, None, None, None, None, None, None, None, None, None, None, None, None, None, None, None, None, None, None, None, None, None, None, None, None, None, None, None, None, None, None, None, None, None, None, None, None, None, None, None, None, None, None, None, None, None, None, None, None, None, None, None, None, None, None, None, None, None, None, None, None, None, None, None, None, None, None, None, None, None, None, None, None, None, None, None, None, None, None, None, None, None, None, None, None, None, None, None, None, None, None, None, None, None, None, None, None, None, None, None, None, None, None, None, None, None, None, None, None, None, None, None, None, None, None, None, None, None, None, None, None, None, None, None, None, None, None, None, None, None, None, None, None, None, None, None, None, None, None, None, None, None, None, None, None, None, None, None, None, None, None, None, None, None, None, None, None, None, None, None, None, None, None, None, None, None, None, None, None, None, None, None, None, None, None, None, None, None, None, None, None, None, None, None, None, None, None, None, None, None, None, None, None, None, None, None, None, None, None, None, None, None, None, None, None, None, None, None, None, None, None, None, None, None, None, None, None, None, None, None, None, None, None, None, None, None, None, None, None, None, None, None, None, None, None, None, None, None, None, None, None, None, None, None, None, None, None, None, None, None, None, None, None, None, None, None, None, None, None, None, None, None, None, None, None, None, None, None, None, None, None, None, None, None, None, None, None, None, None, None, None, None, None, None, None, None, None, None, None, None, None, None, None, None, None, None, None, None, None, None, None, None, None, None, None, None, None, None, None, None, None, None, None, None, None, None, None, None, None, None, None, None, None, None, None, None, None, None, None, None, None, None, None, None, None, None, None, None, None, None, None, None, None, None, None, None, None, None, None, None, None, None, None, None, None, None, None, None, None, None, None, None, None, None, None, None, None, None, None, None, None, None, None, None, None, None, None, None, None, None, None, None, None, None, None, None, None, None, None, None, None, None, None, None, None, None, None, None, None, None, None, None, None, None, None, None, None, None, None, None, None, None, None, None, None, None, None, None, None, None, None, None, None, None, None, None, None, None, None, None, None, None, None, None, None, None, None, None, None, None, None, None, None, None, None, None, None, None, None, None, None, None, None, None, None, None, None, None, None, None, None, None, None, None, None, None, None, None, None, None, None, None, None, None, None, None, None, None, None, None, None, None, None, None, None, None, None, None, None, None, None, None, None, None, None, None, None, None, None, None, None, None, None, None, None, None, None, None, None, None, None, None, None, None, None, None, None, None, None, None, None, None, None, None, None, None, None, None, None, None, None, None, None, None, None, None, None, None, None, None, None, None, None, None, None, None, None, None, None, None, None, None, None, None, None, None, None, None, None, None, None, None, None, None, None, None, None, None, None, None, None, None, None, None, None, None, None, None, None, None, None, None, None, None, None, None, None, None, None, None, None, None, None, None, None, None, None, None, None, None, None, None, None, None, None, None, None, None, None, None, None, None, None, None, None, None, None, None, None, None, None, None, None, None, None, None, None, None, None, None, None, None, None, None, None, None, None, None, None, None, None, None, None, None, None, None, None, None, None, None, None, None, None, None, None, None, None, None, None, None, None, None, None, None, None, None, None, None, None, None, None, None, None, None, None, None, None, None, None, None, None, None, None, None, None, None, None, None, None, None, None, None, None, None, None, None, None, None, None, None, None, None, None, None, None, None, None, None, None, None, None, None, None, None, None, None, None, None, None, None, None, None, None, None, None, None, None, None, None, None, None, None, None, None, None, None, None, None, None, None, None, None, None, None, None, None, None, None, None, None, None, None, None, None, None, None, None, None, None, None, None, None, None, None, None, None, None, None, None, None, None, None, None, None, None, None, None, None, None, None, None, None, None, None, None, None, None, None, None, None, None, None, None, None, None, None, None, None, None, None, None, None, None, None, None, None, None, None, None, None, None, None, None, None, None, None, None, None, None, None, None, None, None, None, None, None, None, None, None, None, None, None, None, None, None, None, None, None, None, None, None, None, None, None, None, None, None, None, None, None, None, None, None, None, None, None, None, None, None, None, None, None, None, None, None, None, None, None, None, None, None, None, None, None, None, None, None, None, None, None, None, None, None, None, None, None, None, None, None, None, None, None, None, None, None, None, None, None, None, None, None, None, None, None, None, None, None, None, None, None, None, None, None, None, None, None, None, None, None, None, None, None, None, None, None, None, None, None, None, None, None, None, None, None, None, None, None, None, None, None, None, None, None, None, None, None, None, None, None, None, None, None, None, None, None, None, None, None, None, None, None, None, None, None, None, None, None, None, None, None, None, None, None, None, None, None, None, None, None, None, None, None, None, None, None, None, None, None, None, None, None, None, None, None, None, None, None, None, None, None, None, None, None, None, None, None, None, None, None, None, None, None, None, None, None, None, None, None, None, None, None, None, None, None, None, None, None, None, None, None, None, None, None, None, None, None, None, None, None, None, None, None, None, None, None, None, None, None, None, None, None, None, None, None, None, None, None, None, None, None, None, None, None, None, None, None, None, None, None, None, None, None, None, None, None, None, None, None, None, None, None, None, None, None, None, None, None, None, None, None, None, None, None, None, None, None, None, None, None, None, None, None, None, None, None, None, None, None, None, None, None, None, None, None, None, None, None, None, None, None, None, None, None, None, None, None, None, None, None, None, None, None, None, None, None, None, None, None, None, None, None, None, None, None, None, None, None, None, None, None, None, None, None, None, None, None, None, None, None, None, None, None, None, None, None, None, None, None, None, None, None, None, None, None, None, None, None, None, None, None, None, None, None, None, None, None, None, None, None, None, None, None, None, None, None, None, None, None, None, None, None, None, None, None, None, None, None, None, None, None, None, None, None, None, None, None, None, None, None, None, None, None, None, None, None, None, None, None, None, None, None, None, None, None, None, None, None, None, None, None, None, None, None, None, None, None, None, None, None, None, None, None, None, None, None, None, None, None, None, None, None, None, None, None, None, None, None, None, None, None, None, None, None, None, None, None, None, None, None, None, None, None, None, None, None, None, None, None, None, None, None, None, None, None, None, None, None, None, None, None, None, None, None, None, None, None, None, None, None, None, None, None, None, None, None, None, None, None, None, None, None, None, None, None, None, None, None, None, None, None, None, None, None, None, None, None, None, None, None, None, None, None, None, None, None, None, None, None, None, None, None, None, None, None, None, None, None, None, None, None, None, None, None, None, None, None, None, None, None, None, None, None, None, None, None, None, None, None, None, None, None, None, None, None, None, None, None, None, None, None, None, None, None, None, None, None, None, None, None, None, None, None, None, None, None, None, None, None, None, None, None, None, None, None, None, None, None, None, None, None, None, None, None, None, None, None, None, None, None, None, None, None, None, None, None, None, None, None, None, None, None, None, None, None, None, None, None, None, None, None, None, None, None, None, None, None, None, None, None, None, None, None, None, None, None, None, None, None, None, None, None, None, None, None, None, None, None, None, None, None, None, None, None, None, None, None, None, None, None, None, None, None, None, None, None, None, None, None, None, None, None, None, None, None, None, None, None, None, None, None, None, None, None, None, None, None, None, None, None, None, None, None, None, None, None, None, None, None, None, None, None, None, None, None, None, None, None, None, None, None, None, None, None, None, None, None, None, None, None, None, None, None, None, None, None, None, None, None, None, None, None, None, None, None, None, None, None, None, None, None, None, None, None, None, None, None, None, None, None, None, None, None, None, None, None, None, None, None, None, None, None, None, None, None, None, None, None, None, None, None, None, None, None, None, None, None, None, None, None, None, None, None, None, None, None, None, None, None, None, None, None, None, None, None, None, None, None, None, None, None, None, None, None, None, None, None, None, None, None, None, None, None, None, None, None, None, None, None, None, None, None, None, None, None, None, None, None, None, None, None, None, None, None, None, None, None, None, None, None, None, None, None, None, None, None, None, None, None, None, None, None, None, None, None, None, None, None, None, None, None, None, None, None, None, None, None, None, None, None, None, None, None, None, None, None, None, None, None, None, None, None, None, None, None, None, None, None, None, None, None, None, None, None, None, None, None, None, None, None, None, None, None, None, None, None, None, None, None, None, None, None, None, None, None, None, None, None, None, None, None, None, None, None, None, None, None, None, None, None, None, None, None, None, None, None, None, None, None, None, None, None, None, None, None, None, None, None, None, None, None, None, None, None, None, None, None, None, None, None, None, None, None, None, None, None, None, None, None, None, None, None, None, None, None, None, None, None, None, None, None, None, None, None, None, None, None, None, None, None, None, None, None, None, None, None, None, None, None, None, None, None, None, None, None, None, None, None, None, None, None, None, None, None, None, None, None, None, None, None, None, None, None, None, None, None, None, None, None, None, None, None, None, None, None, None, None, None, None, None, None, None, None, None, None, None, None, None, None, None, None, None, None, None, None, None, None, None, None, None, None, None, None, None, None, None, None, None, None, None, None, None, None, None, None, None, None, None, None, None, None, None, None, None, None, None, None, None, None, None, None, None, None, None, None, None, None, None, None, None, None, None, None, None, None, None, None, None, None, None, None, None, None, None, None, None, None, None, None, None, None, None, None, None, None, None, None, None, None, None, None, None, None, None, None, None, None, None, None, None, None, None, None, None, None, None, None, None, None, None, None, None, None, None, None, None, None, None, None, None, None, None, None, None, None, None, None, None, None, None, None, None, None, None, None, None, None, None, None, None, None, None, None, None, None, None, None, None, None, None, None, None, None, None, None, None, None, None, None, None, None, None, None, None, None, None, None, None, None, None, None, None, None, None, None, None, None, None, None, None, None, None, None, None, None, None, None, None, None, None, None, None, None, None, None, None, None, None, None, None, None, None, None, None, None, None, None, None, None, None, None, None, None, None, None, None, None, None, None, None, None, None, None, None, None, None, None, None, None, None, None, None, None, None, None, None, None, None, None, None, None, None, None, None, None, None, None, None, None, None, None, None, None, None, None, None, None, None, None, None, None, None, None, None, None, None, None, None, None, None, None, None, None, None, None, None, None, None, None, None, None, None, None, None, None, None, None, None, None, None, None, None, None, None, None, None, None, None, None, None, None, None, None, None, None, None, None, None, None, None, None, None, None, None, None, None, None, None, None, None, None, None, None, None, None, None, None, None, None, None, None, None, None, None, None, None, None, None, None, None, None, None, None, None, None, None, None, None, None, None, None, None, None, None, None, None, None, None, None, None, None, None, None, None, None, None, None, None, None, None, None, None, None, None, None, None, None, None, None, None, None, None, None, None, None, None, None, None, None, None, None, None, None, None, None, None, None, None, None, None, None, None, None, None, None, None, None, None, None, None, None, None, None, None, None, None, None, None, None, None, None, None, None, None, None, None, None], \n",
            "\tover the training epochs, respectively.\n"
          ],
          "name": "stdout"
        },
        {
          "output_type": "stream",
          "text": [
            "\n"
          ],
          "name": "stderr"
        }
      ]
    },
    {
      "cell_type": "markdown",
      "metadata": {
        "id": "N_6zjGmfNhDx"
      },
      "source": [
        "#### Visualizing the plots:"
      ]
    },
    {
      "cell_type": "code",
      "metadata": {
        "id": "4xyRtQNQNhDx",
        "colab": {
          "base_uri": "https://localhost:8080/",
          "height": 851
        },
        "outputId": "017b9abf-e3f9-40dc-ccdc-bc083e18a4c3"
      },
      "source": [
        "plot_loss_graph(tr_loss34, val_loss34)\n",
        "plot_auc_graph(tr_auc34, val_auc34)\n",
        "\n",
        "def plot_loss_graph_for2_models(train_loss_list, validation_loss_list,train_loss_list34, validation_loss_list34,model1_name,model2_name):\n",
        "    plt.plot(train_loss_list, 'g', label='Training loss '+model1_name)\n",
        "    plt.plot(validation_loss_list, 'b', label='validation loss '+model1_name)\n",
        "    plt.plot(train_loss_list34, 'r', label='Training loss '+model2_name)\n",
        "    plt.plot(validation_loss_list34, 'y', label='validation loss '+model2_name)\n",
        "    plt.title('Training and Validation losses')\n",
        "    plt.xlabel('Epochs')\n",
        "    plt.ylabel('Loss')\n",
        "    plt.legend()\n",
        "    plt.show()\n",
        "\n",
        "plot_loss_graph_for2_models(tr_loss, val_loss,tr_loss34, val_loss34,\"18\",\"34\")\n",
        "\n"
      ],
      "execution_count": 19,
      "outputs": [
        {
          "output_type": "display_data",
          "data": {
            "image/png": "[encoded data removed]",
            "text/plain": [
              "<Figure size 432x288 with 1 Axes>"
            ]
          },
          "metadata": {
            "tags": [],
            "needs_background": "light"
          }
        },
        {
          "output_type": "display_data",
          "data": {
            "image/png": "[encoded data removed]",
            "text/plain": [
              "<Figure size 432x288 with 1 Axes>"
            ]
          },
          "metadata": {
            "tags": [],
            "needs_background": "light"
          }
        },
        {
          "output_type": "display_data",
          "data": {
            "image/png": "[encoded data removed]",
            "text/plain": [
              "<Figure size 432x288 with 1 Axes>"
            ]
          },
          "metadata": {
            "tags": [],
            "needs_background": "light"
          }
        }
      ]
    },
    {
      "cell_type": "markdown",
      "metadata": {
        "id": "GIR8NIZ1MaiZ"
      },
      "source": [
        "In the third graph we can see that resnet34 is little better( ~ 0.318) than resnet18 and converged faster(blue and yellow lines)"
      ]
    },
    {
      "cell_type": "markdown",
      "metadata": {
        "id": "ioOqwQgYM-ds"
      },
      "source": [
        "**Adding Hidden layers to classifyer**\r\n",
        "Now we want to check if adding more hidden layers to the classifyer will improve the results"
      ]
    },
    {
      "cell_type": "code",
      "metadata": {
        "colab": {
          "base_uri": "https://localhost:8080/",
          "height": 1000
        },
        "id": "emoCjfMcM-eL",
        "outputId": "a2d52856-d272-434b-cf13-a55552bdd01d"
      },
      "source": [
        "classifyer_with_3_layers = nn.Sequential(\r\n",
        "    nn.Linear(512, 20), nn.Linear(20, 10), nn.Linear(10, 2))\r\n",
        "net34_with_3_layers_in_head = MyResNet(classifyer_with_3_layers, 18)\r\n",
        "tr_loss_3_layers34, val_loss_3_layers34, test_loss_3_layers34, tr_auc_3_layers34, val_auc_3_layers34, untrained_test_loss_3_layers34, untrained_test_auc_3_layers34 = training_loop(\r\n",
        "    args,\r\n",
        "    net34_with_3_layers_in_head,\r\n",
        "    X_extracted_features_train34,\r\n",
        "    y_extracted_features_train34,\r\n",
        "    X_extracted_features_test34,\r\n",
        "    y_extracted_features_test34,\r\n",
        "    val_dataloader=None,\r\n",
        "    criterion_func=nn.CrossEntropyLoss\r\n",
        ")\r\n",
        "plot_loss_graph(tr_loss_3_layers, val_loss_3_layers)\r\n",
        "plot_auc_graph(tr_auc_3_layers, val_auc_3_layers)\r\n",
        "plot_loss_graph_for2_models(tr_loss34, val_loss34,tr_loss_3_layers34, val_loss_3_layers34,\"34\",\"34 with hidden layers\")\r\n"
      ],
      "execution_count": 20,
      "outputs": [
        {
          "output_type": "stream",
          "text": [
            "100%|██████████| 11/11 [00:00<00:00, 386.14it/s]\n",
            "100%|██████████| 11/11 [00:00<00:00, 421.25it/s]\n",
            "100%|██████████| 11/11 [00:00<00:00, 405.77it/s]\n",
            "100%|██████████| 11/11 [00:00<00:00, 418.10it/s]\n",
            "100%|██████████| 11/11 [00:00<00:00, 405.13it/s]\n",
            "100%|██████████| 11/11 [00:00<00:00, 355.91it/s]\n",
            "  0%|          | 0/11 [00:00<?, ?it/s]"
          ],
          "name": "stderr"
        },
        {
          "output_type": "stream",
          "text": [
            "Train loss: 7.40e-01, Val loss: 7.18e-01\n",
            "Best val loss is: 7.18e-01\n",
            "Train loss: 7.03e-01, Val loss: 6.85e-01\n",
            "Best val loss is: 6.85e-01\n",
            "Train loss: 6.71e-01, Val loss: 6.54e-01\n",
            "Best val loss is: 6.54e-01\n",
            "Train loss: 6.41e-01, Val loss: 6.26e-01\n",
            "Best val loss is: 6.26e-01\n",
            "Train loss: 6.12e-01, Val loss: 5.98e-01\n",
            "Best val loss is: 5.98e-01\n",
            "Train loss: 5.85e-01, Val loss: 5.71e-01\n",
            "Best val loss is: 5.71e-01\n"
          ],
          "name": "stdout"
        },
        {
          "output_type": "stream",
          "text": [
            "100%|██████████| 11/11 [00:00<00:00, 274.36it/s]\n",
            "100%|██████████| 11/11 [00:00<00:00, 307.61it/s]\n",
            "100%|██████████| 11/11 [00:00<00:00, 335.55it/s]\n",
            "100%|██████████| 11/11 [00:00<00:00, 360.93it/s]\n",
            "100%|██████████| 11/11 [00:00<00:00, 363.79it/s]\n",
            "100%|██████████| 11/11 [00:00<00:00, 348.72it/s]\n",
            "  0%|          | 0/11 [00:00<?, ?it/s]"
          ],
          "name": "stderr"
        },
        {
          "output_type": "stream",
          "text": [
            "Train loss: 5.58e-01, Val loss: 5.45e-01\n",
            "Best val loss is: 5.45e-01\n",
            "Train loss: 5.32e-01, Val loss: 5.21e-01\n",
            "Best val loss is: 5.21e-01\n",
            "Train loss: 5.07e-01, Val loss: 4.98e-01\n",
            "Best val loss is: 4.98e-01\n",
            "Train loss: 4.84e-01, Val loss: 4.77e-01\n",
            "Best val loss is: 4.77e-01\n",
            "Train loss: 4.62e-01, Val loss: 4.58e-01\n",
            "Best val loss is: 4.58e-01\n",
            "Train loss: 4.42e-01, Val loss: 4.41e-01\n",
            "Best val loss is: 4.41e-01\n"
          ],
          "name": "stdout"
        },
        {
          "output_type": "stream",
          "text": [
            "100%|██████████| 11/11 [00:00<00:00, 326.93it/s]\n",
            "100%|██████████| 11/11 [00:00<00:00, 303.21it/s]\n",
            "100%|██████████| 11/11 [00:00<00:00, 355.05it/s]\n",
            "100%|██████████| 11/11 [00:00<00:00, 343.79it/s]\n",
            "100%|██████████| 11/11 [00:00<00:00, 358.23it/s]\n",
            "100%|██████████| 11/11 [00:00<00:00, 357.26it/s]\n",
            "  0%|          | 0/11 [00:00<?, ?it/s]"
          ],
          "name": "stderr"
        },
        {
          "output_type": "stream",
          "text": [
            "Train loss: 4.24e-01, Val loss: 4.25e-01\n",
            "Best val loss is: 4.25e-01\n",
            "Train loss: 4.08e-01, Val loss: 4.12e-01\n",
            "Best val loss is: 4.12e-01\n",
            "Train loss: 3.93e-01, Val loss: 4.00e-01\n",
            "Best val loss is: 4.00e-01\n",
            "Train loss: 3.80e-01, Val loss: 3.89e-01\n",
            "Best val loss is: 3.89e-01\n",
            "Train loss: 3.68e-01, Val loss: 3.80e-01\n",
            "Best val loss is: 3.80e-01\n",
            "Train loss: 3.57e-01, Val loss: 3.72e-01\n",
            "Best val loss is: 3.72e-01\n"
          ],
          "name": "stdout"
        },
        {
          "output_type": "stream",
          "text": [
            "100%|██████████| 11/11 [00:00<00:00, 381.74it/s]\n",
            "100%|██████████| 11/11 [00:00<00:00, 410.44it/s]\n",
            "100%|██████████| 11/11 [00:00<00:00, 415.03it/s]\n",
            "100%|██████████| 11/11 [00:00<00:00, 420.31it/s]\n",
            "100%|██████████| 11/11 [00:00<00:00, 393.24it/s]\n",
            "100%|██████████| 11/11 [00:00<00:00, 427.06it/s]\n",
            "100%|██████████| 11/11 [00:00<00:00, 395.11it/s]\n",
            "  0%|          | 0/11 [00:00<?, ?it/s]"
          ],
          "name": "stderr"
        },
        {
          "output_type": "stream",
          "text": [
            "Train loss: 3.48e-01, Val loss: 3.65e-01\n",
            "Best val loss is: 3.65e-01\n",
            "Train loss: 3.39e-01, Val loss: 3.59e-01\n",
            "Best val loss is: 3.59e-01\n",
            "Train loss: 3.31e-01, Val loss: 3.54e-01\n",
            "Best val loss is: 3.54e-01\n",
            "Train loss: 3.24e-01, Val loss: 3.49e-01\n",
            "Best val loss is: 3.49e-01\n",
            "Train loss: 3.17e-01, Val loss: 3.45e-01\n",
            "Best val loss is: 3.45e-01\n",
            "Train loss: 3.11e-01, Val loss: 3.42e-01\n",
            "Best val loss is: 3.42e-01\n",
            "Train loss: 3.06e-01, Val loss: 3.39e-01\n",
            "Best val loss is: 3.39e-01\n"
          ],
          "name": "stdout"
        },
        {
          "output_type": "stream",
          "text": [
            "100%|██████████| 11/11 [00:00<00:00, 317.73it/s]\n",
            "100%|██████████| 11/11 [00:00<00:00, 356.12it/s]\n",
            "100%|██████████| 11/11 [00:00<00:00, 364.59it/s]\n",
            "100%|██████████| 11/11 [00:00<00:00, 338.21it/s]\n",
            "100%|██████████| 11/11 [00:00<00:00, 361.80it/s]\n",
            "100%|██████████| 11/11 [00:00<00:00, 350.12it/s]\n",
            "  0%|          | 0/11 [00:00<?, ?it/s]"
          ],
          "name": "stderr"
        },
        {
          "output_type": "stream",
          "text": [
            "Train loss: 3.00e-01, Val loss: 3.36e-01\n",
            "Best val loss is: 3.36e-01\n",
            "Train loss: 2.96e-01, Val loss: 3.34e-01\n",
            "Best val loss is: 3.34e-01\n",
            "Train loss: 2.91e-01, Val loss: 3.32e-01\n",
            "Best val loss is: 3.32e-01\n",
            "Train loss: 2.87e-01, Val loss: 3.30e-01\n",
            "Best val loss is: 3.30e-01\n",
            "Train loss: 2.83e-01, Val loss: 3.29e-01\n",
            "Best val loss is: 3.29e-01\n",
            "Train loss: 2.80e-01, Val loss: 3.27e-01\n",
            "Best val loss is: 3.27e-01\n"
          ],
          "name": "stdout"
        },
        {
          "output_type": "stream",
          "text": [
            "100%|██████████| 11/11 [00:00<00:00, 326.70it/s]\n",
            "100%|██████████| 11/11 [00:00<00:00, 356.65it/s]\n",
            "100%|██████████| 11/11 [00:00<00:00, 355.09it/s]\n",
            "100%|██████████| 11/11 [00:00<00:00, 417.91it/s]\n",
            "100%|██████████| 11/11 [00:00<00:00, 325.03it/s]\n",
            "100%|██████████| 11/11 [00:00<00:00, 318.94it/s]\n",
            "  0%|          | 0/11 [00:00<?, ?it/s]"
          ],
          "name": "stderr"
        },
        {
          "output_type": "stream",
          "text": [
            "Train loss: 2.76e-01, Val loss: 3.26e-01\n",
            "Best val loss is: 3.26e-01\n",
            "Train loss: 2.73e-01, Val loss: 3.25e-01\n",
            "Best val loss is: 3.25e-01\n",
            "Train loss: 2.70e-01, Val loss: 3.24e-01\n",
            "Best val loss is: 3.24e-01\n",
            "Train loss: 2.67e-01, Val loss: 3.24e-01\n",
            "Best val loss is: 3.24e-01\n",
            "Train loss: 2.64e-01, Val loss: 3.23e-01\n",
            "Best val loss is: 3.23e-01\n",
            "Train loss: 2.62e-01, Val loss: 3.23e-01\n",
            "Best val loss is: 3.23e-01\n"
          ],
          "name": "stdout"
        },
        {
          "output_type": "stream",
          "text": [
            "100%|██████████| 11/11 [00:00<00:00, 329.00it/s]\n",
            "100%|██████████| 11/11 [00:00<00:00, 348.63it/s]\n",
            "100%|██████████| 11/11 [00:00<00:00, 356.11it/s]\n",
            "100%|██████████| 11/11 [00:00<00:00, 320.31it/s]\n",
            "100%|██████████| 11/11 [00:00<00:00, 292.14it/s]\n",
            "100%|██████████| 11/11 [00:00<00:00, 357.45it/s]\n",
            "  0%|          | 0/11 [00:00<?, ?it/s]"
          ],
          "name": "stderr"
        },
        {
          "output_type": "stream",
          "text": [
            "Train loss: 2.59e-01, Val loss: 3.23e-01\n",
            "Best val loss is: 3.23e-01\n",
            "Train loss: 2.57e-01, Val loss: 3.22e-01\n",
            "Best val loss is: 3.22e-01\n",
            "Train loss: 2.54e-01, Val loss: 3.22e-01\n",
            "Best val loss is: 3.22e-01\n",
            "Train loss: 2.52e-01, Val loss: 3.22e-01\n",
            "Best val loss is: 3.22e-01\n",
            "Train loss: 2.50e-01, Val loss: 3.22e-01\n",
            "Best val loss is: 3.22e-01\n",
            "Train loss: 2.48e-01, Val loss: 3.22e-01\n",
            "Best val loss is: 3.22e-01\n"
          ],
          "name": "stdout"
        },
        {
          "output_type": "stream",
          "text": [
            "100%|██████████| 11/11 [00:00<00:00, 324.43it/s]\n",
            "100%|██████████| 11/11 [00:00<00:00, 365.94it/s]\n",
            "100%|██████████| 11/11 [00:00<00:00, 369.75it/s]\n"
          ],
          "name": "stderr"
        },
        {
          "output_type": "stream",
          "text": [
            "Train loss: 2.46e-01, Val loss: 3.22e-01\n",
            "Best val loss is: 3.22e-01\n",
            "Train loss: 2.44e-01, Val loss: 3.22e-01\n",
            "Best val loss is: 3.22e-01\n",
            "Train loss: 2.42e-01, Val loss: 3.22e-01\n",
            "Best val loss is: 3.22e-01\n",
            "Stopped training after 46/5000 epochs.\n",
            "The loss is 7.63e-01 before training and 3.22e-01 after training.\n",
            "The training and validation losses are \n",
            "\t[0.74009765625, 0.7033081817626953, 0.6709416961669922, 0.6411076354980468, 0.6123169708251953, 0.5845088195800782, 0.5575684356689453, 0.5316026687622071, 0.5068881988525391, 0.4836553955078125, 0.46208412170410157, 0.44227012634277346, 0.42422134399414063, 0.4078831100463867, 0.3931513214111328, 0.3798964309692383, 0.3679764938354492, 0.35724925994873047, 0.34757869720458984, 0.3388389205932617, 0.33091629028320313, 0.32370986938476565, 0.31713075637817384, 0.3111016082763672, 0.30555507659912107, 0.30043294906616214, 0.2956849479675293, 0.2912677574157715, 0.28714372634887697, 0.28328054428100585, 0.2796501731872559, 0.2762281799316406, 0.2729934501647949, 0.26992753982543943, 0.2670143508911133, 0.2642397689819336, 0.26159139633178713, 0.25905834197998046, 0.25663103103637697, 0.25430076599121093, 0.2520600700378418, 0.2499021530151367, 0.24782106399536133, 0.24581121444702148, 0.2438679313659668, 0.24198673248291017, None, None, None, None, None, None, None, None, None, None, None, None, None, None, None, None, None, None, None, None, None, None, None, None, None, None, None, None, None, None, None, None, None, None, None, None, None, None, None, None, None, None, None, None, None, None, None, None, None, None, None, None, None, None, None, None, None, None, None, None, None, None, None, None, None, None, None, None, None, None, None, None, None, None, None, None, None, None, None, None, None, None, None, None, None, None, None, None, None, None, None, None, None, None, None, None, None, None, None, None, None, None, None, None, None, None, None, None, None, None, None, None, None, None, None, None, None, None, None, None, None, None, None, None, None, None, None, None, None, None, None, None, None, None, None, None, None, None, None, None, None, None, None, None, None, None, None, None, None, None, None, None, None, None, None, None, None, None, None, None, None, None, None, None, None, None, None, None, None, None, None, None, None, None, None, None, None, None, None, None, None, None, None, None, None, None, None, None, None, None, None, None, None, None, None, None, None, None, None, None, None, None, None, None, None, None, None, None, None, None, None, None, None, None, None, None, None, None, None, None, None, None, None, None, None, None, None, None, None, None, None, None, None, None, None, None, None, None, None, None, None, None, None, None, None, None, None, None, None, None, None, None, None, None, None, None, None, None, None, None, None, None, None, None, None, None, None, None, None, None, None, None, None, None, None, None, None, None, None, None, None, None, None, None, None, None, None, None, None, None, None, None, None, None, None, None, None, None, None, None, None, None, None, None, None, None, None, None, None, None, None, None, None, None, None, None, None, None, None, None, None, None, None, None, None, None, None, None, None, None, None, None, None, None, None, None, None, None, None, None, None, None, None, None, None, None, None, None, None, None, None, None, None, None, None, None, None, None, None, None, None, None, None, None, None, None, None, None, None, None, None, None, None, None, None, None, None, None, None, None, None, None, None, None, None, None, None, None, None, None, None, None, None, None, None, None, None, None, None, None, None, None, None, None, None, None, None, None, None, None, None, None, None, None, None, None, None, None, None, None, None, None, None, None, None, None, None, None, None, None, None, None, None, None, None, None, None, None, None, None, None, None, None, None, None, None, None, None, None, None, None, None, None, None, None, None, None, None, None, None, None, None, None, None, None, None, None, None, None, None, None, None, None, None, None, None, None, None, None, None, None, None, None, None, None, None, None, None, None, None, None, None, None, None, None, None, None, None, None, None, None, None, None, None, None, None, None, None, None, None, None, None, None, None, None, None, None, None, None, None, None, None, None, None, None, None, None, None, None, None, None, None, None, None, None, None, None, None, None, None, None, None, None, None, None, None, None, None, None, None, None, None, None, None, None, None, None, None, None, None, None, None, None, None, None, None, None, None, None, None, None, None, None, None, None, None, None, None, None, None, None, None, None, None, None, None, None, None, None, None, None, None, None, None, None, None, None, None, None, None, None, None, None, None, None, None, None, None, None, None, None, None, None, None, None, None, None, None, None, None, None, None, None, None, None, None, None, None, None, None, None, None, None, None, None, None, None, None, None, None, None, None, None, None, None, None, None, None, None, None, None, None, None, None, None, None, None, None, None, None, None, None, None, None, None, None, None, None, None, None, None, None, None, None, None, None, None, None, None, None, None, None, None, None, None, None, None, None, None, None, None, None, None, None, None, None, None, None, None, None, None, None, None, None, None, None, None, None, None, None, None, None, None, None, None, None, None, None, None, None, None, None, None, None, None, None, None, None, None, None, None, None, None, None, None, None, None, None, None, None, None, None, None, None, None, None, None, None, None, None, None, None, None, None, None, None, None, None, None, None, None, None, None, None, None, None, None, None, None, None, None, None, None, None, None, None, None, None, None, None, None, None, None, None, None, None, None, None, None, None, None, None, None, None, None, None, None, None, None, None, None, None, None, None, None, None, None, None, None, None, None, None, None, None, None, None, None, None, None, None, None, None, None, None, None, None, None, None, None, None, None, None, None, None, None, None, None, None, None, None, None, None, None, None, None, None, None, None, None, None, None, None, None, None, None, None, None, None, None, None, None, None, None, None, None, None, None, None, None, None, None, None, None, None, None, None, None, None, None, None, None, None, None, None, None, None, None, None, None, None, None, None, None, None, None, None, None, None, None, None, None, None, None, None, None, None, None, None, None, None, None, None, None, None, None, None, None, None, None, None, None, None, None, None, None, None, None, None, None, None, None, None, None, None, None, None, None, None, None, None, None, None, None, None, None, None, None, None, None, None, None, None, None, None, None, None, None, None, None, None, None, None, None, None, None, None, None, None, None, None, None, None, None, None, None, None, None, None, None, None, None, None, None, None, None, None, None, None, None, None, None, None, None, None, None, None, None, None, None, None, None, None, None, None, None, None, None, None, None, None, None, None, None, None, None, None, None, None, None, None, None, None, None, None, None, None, None, None, None, None, None, None, None, None, None, None, None, None, None, None, None, None, None, None, None, None, None, None, None, None, None, None, None, None, None, None, None, None, None, None, None, None, None, None, None, None, None, None, None, None, None, None, None, None, None, None, None, None, None, None, None, None, None, None, None, None, None, None, None, None, None, None, None, None, None, None, None, None, None, None, None, None, None, None, None, None, None, None, None, None, None, None, None, None, None, None, None, None, None, None, None, None, None, None, None, None, None, None, None, None, None, None, None, None, None, None, None, None, None, None, None, None, None, None, None, None, None, None, None, None, None, None, None, None, None, None, None, None, None, None, None, None, None, None, None, None, None, None, None, None, None, None, None, None, None, None, None, None, None, None, None, None, None, None, None, None, None, None, None, None, None, None, None, None, None, None, None, None, None, None, None, None, None, None, None, None, None, None, None, None, None, None, None, None, None, None, None, None, None, None, None, None, None, None, None, None, None, None, None, None, None, None, None, None, None, None, None, None, None, None, None, None, None, None, None, None, None, None, None, None, None, None, None, None, None, None, None, None, None, None, None, None, None, None, None, None, None, None, None, None, None, None, None, None, None, None, None, None, None, None, None, None, None, None, None, None, None, None, None, None, None, None, None, None, None, None, None, None, None, None, None, None, None, None, None, None, None, None, None, None, None, None, None, None, None, None, None, None, None, None, None, None, None, None, None, None, None, None, None, None, None, None, None, None, None, None, None, None, None, None, None, None, None, None, None, None, None, None, None, None, None, None, None, None, None, None, None, None, None, None, None, None, None, None, None, None, None, None, None, None, None, None, None, None, None, None, None, None, None, None, None, None, None, None, None, None, None, None, None, None, None, None, None, None, None, None, None, None, None, None, None, None, None, None, None, None, None, None, None, None, None, None, None, None, None, None, None, None, None, None, None, None, None, None, None, None, None, None, None, None, None, None, None, None, None, None, None, None, None, None, None, None, None, None, None, None, None, None, None, None, None, None, None, None, None, None, None, None, None, None, None, None, None, None, None, None, None, None, None, None, None, None, None, None, None, None, None, None, None, None, None, None, None, None, None, None, None, None, None, None, None, None, None, None, None, None, None, None, None, None, None, None, None, None, None, None, None, None, None, None, None, None, None, None, None, None, None, None, None, None, None, None, None, None, None, None, None, None, None, None, None, None, None, None, None, None, None, None, None, None, None, None, None, None, None, None, None, None, None, None, None, None, None, None, None, None, None, None, None, None, None, None, None, None, None, None, None, None, None, None, None, None, None, None, None, None, None, None, None, None, None, None, None, None, None, None, None, None, None, None, None, None, None, None, None, None, None, None, None, None, None, None, None, None, None, None, None, None, None, None, None, None, None, None, None, None, None, None, None, None, None, None, None, None, None, None, None, None, None, None, None, None, None, None, None, None, None, None, None, None, None, None, None, None, None, None, None, None, None, None, None, None, None, None, None, None, None, None, None, None, None, None, None, None, None, None, None, None, None, None, None, None, None, None, None, None, None, None, None, None, None, None, None, None, None, None, None, None, None, None, None, None, None, None, None, None, None, None, None, None, None, None, None, None, None, None, None, None, None, None, None, None, None, None, None, None, None, None, None, None, None, None, None, None, None, None, None, None, None, None, None, None, None, None, None, None, None, None, None, None, None, None, None, None, None, None, None, None, None, None, None, None, None, None, None, None, None, None, None, None, None, None, None, None, None, None, None, None, None, None, None, None, None, None, None, None, None, None, None, None, None, None, None, None, None, None, None, None, None, None, None, None, None, None, None, None, None, None, None, None, None, None, None, None, None, None, None, None, None, None, None, None, None, None, None, None, None, None, None, None, None, None, None, None, None, None, None, None, None, None, None, None, None, None, None, None, None, None, None, None, None, None, None, None, None, None, None, None, None, None, None, None, None, None, None, None, None, None, None, None, None, None, None, None, None, None, None, None, None, None, None, None, None, None, None, None, None, None, None, None, None, None, None, None, None, None, None, None, None, None, None, None, None, None, None, None, None, None, None, None, None, None, None, None, None, None, None, None, None, None, None, None, None, None, None, None, None, None, None, None, None, None, None, None, None, None, None, None, None, None, None, None, None, None, None, None, None, None, None, None, None, None, None, None, None, None, None, None, None, None, None, None, None, None, None, None, None, None, None, None, None, None, None, None, None, None, None, None, None, None, None, None, None, None, None, None, None, None, None, None, None, None, None, None, None, None, None, None, None, None, None, None, None, None, None, None, None, None, None, None, None, None, None, None, None, None, None, None, None, None, None, None, None, None, None, None, None, None, None, None, None, None, None, None, None, None, None, None, None, None, None, None, None, None, None, None, None, None, None, None, None, None, None, None, None, None, None, None, None, None, None, None, None, None, None, None, None, None, None, None, None, None, None, None, None, None, None, None, None, None, None, None, None, None, None, None, None, None, None, None, None, None, None, None, None, None, None, None, None, None, None, None, None, None, None, None, None, None, None, None, None, None, None, None, None, None, None, None, None, None, None, None, None, None, None, None, None, None, None, None, None, None, None, None, None, None, None, None, None, None, None, None, None, None, None, None, None, None, None, None, None, None, None, None, None, None, None, None, None, None, None, None, None, None, None, None, None, None, None, None, None, None, None, None, None, None, None, None, None, None, None, None, None, None, None, None, None, None, None, None, None, None, None, None, None, None, None, None, None, None, None, None, None, None, None, None, None, None, None, None, None, None, None, None, None, None, None, None, None, None, None, None, None, None, None, None, None, None, None, None, None, None, None, None, None, None, None, None, None, None, None, None, None, None, None, None, None, None, None, None, None, None, None, None, None, None, None, None, None, None, None, None, None, None, None, None, None, None, None, None, None, None, None, None, None, None, None, None, None, None, None, None, None, None, None, None, None, None, None, None, None, None, None, None, None, None, None, None, None, None, None, None, None, None, None, None, None, None, None, None, None, None, None, None, None, None, None, None, None, None, None, None, None, None, None, None, None, None, None, None, None, None, None, None, None, None, None, None, None, None, None, None, None, None, None, None, None, None, None, None, None, None, None, None, None, None, None, None, None, None, None, None, None, None, None, None, None, None, None, None, None, None, None, None, None, None, None, None, None, None, None, None, None, None, None, None, None, None, None, None, None, None, None, None, None, None, None, None, None, None, None, None, None, None, None, None, None, None, None, None, None, None, None, None, None, None, None, None, None, None, None, None, None, None, None, None, None, None, None, None, None, None, None, None, None, None, None, None, None, None, None, None, None, None, None, None, None, None, None, None, None, None, None, None, None, None, None, None, None, None, None, None, None, None, None, None, None, None, None, None, None, None, None, None, None, None, None, None, None, None, None, None, None, None, None, None, None, None, None, None, None, None, None, None, None, None, None, None, None, None, None, None, None, None, None, None, None, None, None, None, None, None, None, None, None, None, None, None, None, None, None, None, None, None, None, None, None, None, None, None, None, None, None, None, None, None, None, None, None, None, None, None, None, None, None, None, None, None, None, None, None, None, None, None, None, None, None, None, None, None, None, None, None, None, None, None, None, None, None, None, None, None, None, None, None, None, None, None, None, None, None, None, None, None, None, None, None, None, None, None, None, None, None, None, None, None, None, None, None, None, None, None, None, None, None, None, None, None, None, None, None, None, None, None, None, None, None, None, None, None, None, None, None, None, None, None, None, None, None, None, None, None, None, None, None, None, None, None, None, None, None, None, None, None, None, None, None, None, None, None, None, None, None, None, None, None, None, None, None, None, None, None, None, None, None, None, None, None, None, None, None, None, None, None, None, None, None, None, None, None, None, None, None, None, None, None, None, None, None, None, None, None, None, None, None, None, None, None, None, None, None, None, None, None, None, None, None, None, None, None, None, None, None, None, None, None, None, None, None, None, None, None, None, None, None, None, None, None, None, None, None, None, None, None, None, None, None, None, None, None, None, None, None, None, None, None, None, None, None, None, None, None, None, None, None, None, None, None, None, None, None, None, None, None, None, None, None, None, None, None, None, None, None, None, None, None, None, None, None, None, None, None, None, None, None, None, None, None, None, None, None, None, None, None, None, None, None, None, None, None, None, None, None, None, None, None, None, None, None, None, None, None, None, None, None, None, None, None, None, None, None, None, None, None, None, None, None, None, None, None, None, None, None, None, None, None, None, None, None, None, None, None, None, None, None, None, None, None, None, None, None, None, None, None, None, None, None, None, None, None, None, None, None, None, None, None, None, None, None, None, None, None, None, None, None, None, None, None, None, None, None, None, None, None, None, None, None, None, None, None, None, None, None, None, None, None, None, None, None, None, None, None, None, None, None, None, None, None, None, None, None, None, None, None, None, None, None, None, None, None, None, None, None, None, None, None, None, None, None, None, None, None, None, None, None, None, None, None, None, None, None, None, None, None, None, None, None, None, None, None, None, None, None, None, None, None, None, None, None, None, None, None, None, None, None, None, None, None, None, None, None, None, None, None, None, None, None, None, None, None, None, None, None, None, None, None, None, None, None, None, None, None, None, None, None, None, None, None, None, None, None, None, None, None, None, None, None, None, None, None, None, None, None, None, None, None, None, None, None, None, None, None, None, None, None, None, None, None, None, None, None, None, None, None, None, None, None, None, None, None, None, None, None, None, None, None, None, None, None, None, None, None, None, None, None, None, None, None, None, None, None, None, None, None, None, None, None, None, None, None, None, None, None, None, None, None, None, None, None, None, None, None, None, None, None, None, None, None, None, None, None, None, None, None, None, None, None, None, None, None, None, None, None, None, None, None, None, None, None, None, None, None, None, None, None, None, None, None, None, None, None, None, None, None, None, None, None, None, None, None, None, None, None, None, None, None, None, None, None, None, None, None, None, None, None, None, None, None, None, None, None, None, None, None, None, None, None, None, None, None, None, None, None, None, None, None, None, None, None, None, None, None, None, None, None, None, None, None, None, None, None, None, None, None, None, None, None, None, None, None, None, None, None, None, None, None, None, None, None, None, None, None, None, None, None, None, None, None, None, None, None, None, None, None, None, None, None, None, None, None, None, None, None, None, None, None, None, None, None, None, None, None, None, None, None, None, None, None, None, None, None, None, None, None, None, None, None, None, None, None, None, None, None, None, None, None, None, None, None, None, None, None, None, None, None, None, None, None, None, None, None, None, None, None, None, None, None, None, None, None, None, None, None, None, None, None, None, None, None, None, None, None, None, None, None, None, None, None, None, None, None, None, None, None, None, None, None, None, None, None, None, None, None, None, None, None, None, None, None, None, None, None, None, None, None, None, None, None, None, None, None, None, None, None, None, None, None, None, None, None, None, None, None, None, None, None, None, None, None, None, None, None, None, None, None, None, None, None, None, None, None, None, None, None, None, None, None, None, None, None, None, None, None, None, None, None, None, None, None, None, None, None, None, None, None, None, None, None, None, None, None, None, None, None, None, None, None, None, None, None, None, None, None, None, None, None, None, None, None, None, None, None, None, None, None, None, None, None, None, None, None, None, None, None, None, None, None, None, None, None, None, None, None, None, None, None, None, None, None, None, None, None, None, None, None, None, None, None, None, None, None, None, None, None, None, None, None, None, None, None, None, None, None, None, None, None, None, None, None, None, None, None, None, None, None, None, None, None, None, None, None, None, None, None, None, None, None, None, None, None, None, None, None, None, None, None, None, None, None, None, None, None, None, None, None, None, None, None, None, None, None, None, None, None, None, None, None, None, None, None, None, None, None, None, None, None, None, None, None, None, None, None, None, None, None, None, None, None, None, None, None, None, None, None, None, None, None, None, None, None, None, None, None, None, None, None, None, None, None, None, None, None, None, None, None, None, None, None, None, None, None, None, None, None, None, None, None, None, None, None, None, None, None, None, None, None, None, None, None, None, None, None, None, None, None, None, None, None, None, None, None, None, None, None, None, None, None, None, None, None, None, None, None, None, None, None, None, None, None, None, None, None, None, None, None, None, None, None, None, None, None, None, None, None, None, None, None, None, None, None, None, None, None, None, None, None, None, None, None, None, None, None, None, None, None, None, None, None, None, None, None, None, None, None, None, None, None, None, None, None, None, None, None, None, None, None, None, None, None, None, None, None, None, None, None, None, None, None, None, None, None, None, None, None, None, None, None, None, None, None, None, None, None, None, None, None, None, None, None, None, None, None, None, None, None, None, None, None, None, None, None, None, None, None, None, None, None, None, None, None, None, None, None, None, None, None, None, None, None, None, None, None, None, None, None, None, None, None, None, None, None, None, None, None, None, None, None, None, None, None, None, None, None, None, None, None, None, None, None, None, None, None, None, None, None, None, None, None, None, None, None, None, None, None, None, None, None, None, None, None, None, None, None, None, None, None, None, None, None, None, None, None, None, None, None, None, None, None, None, None, None, None, None, None, None, None, None, None, None, None, None, None, None, None, None, None, None, None, None, None, None, None, None, None, None, None, None, None, None, None, None, None, None, None, None, None, None, None, None, None, None, None, None, None, None, None, None, None, None, None, None, None, None, None, None, None, None, None, None, None, None, None, None, None, None, None, None, None, None, None, None, None, None, None, None, None, None, None, None, None, None, None, None, None, None, None, None, None, None, None, None, None, None, None, None, None, None, None, None, None, None, None, None, None, None, None, None, None, None, None, None, None, None, None, None, None, None, None, None, None, None, None, None, None, None, None, None, None, None, None, None, None, None, None, None, None, None, None, None, None, None, None, None, None, None, None, None, None, None, None, None, None, None, None, None, None, None, None, None, None, None, None, None, None, None, None, None, None, None, None, None, None, None, None, None, None, None, None, None, None, None, None, None, None, None, None, None, None, None, None, None, None, None, None, None, None, None, None, None, None, None, None, None, None, None, None, None, None, None, None, None, None, None, None, None, None, None, None, None, None, None, None, None, None, None, None, None, None, None, None, None, None, None, None, None, None, None, None, None, None, None, None, None, None, None, None, None, None, None, None, None, None, None, None, None, None, None, None, None, None, None, None, None, None, None, None, None, None, None, None, None, None, None, None, None, None, None, None, None, None, None, None, None, None, None, None, None, None, None, None, None, None, None, None, None, None, None, None, None, None, None, None, None, None, None, None, None, None, None, None, None, None, None, None, None, None, None, None, None, None, None, None, None, None, None, None, None, None, None, None, None, None, None, None, None, None, None, None, None, None, None, None, None, None, None, None, None, None, None, None, None, None, None, None, None, None, None, None, None, None, None, None, None, None, None, None, None, None, None, None, None, None, None, None, None, None, None, None, None, None, None, None, None, None, None, None, None, None, None, None, None, None, None, None, None, None, None, None, None, None, None, None, None, None, None, None, None, None, None, None, None, None, None, None, None, None, None, None, None, None, None, None, None, None, None, None, None, None, None, None, None, None, None, None, None, None, None, None, None, None, None, None, None, None, None, None, None, None, None, None, None, None, None, None, None, None, None, None, None, None, None, None, None, None, None, None, None, None, None, None, None, None, None, None, None, None, None, None, None, None, None, None, None, None, None, None, None, None, None, None, None, None, None, None, None, None, None, None, None, None, None, None, None, None, None, None, None, None, None, None, None, None, None, None, None, None, None, None, None, None, None, None, None, None, None, None, None, None, None, None, None, None, None, None, None, None, None, None, None, None, None, None, None, None, None, None, None, None, None, None, None, None, None, None, None, None, None, None, None, None, None, None, None, None, None, None, None, None, None, None, None, None, None, None, None, None, None, None, None, None, None, None, None, None, None, None, None, None, None, None, None, None, None, None, None, None, None, None, None, None, None, None, None, None, None, None, None, None, None, None, None, None, None, None, None, None, None, None, None, None, None, None, None, None, None, None, None, None, None, None, None, None, None, None, None, None, None, None, None, None, None, None, None, None, None, None, None, None, None, None, None, None, None, None, None, None, None, None, None, None, None, None, None, None, None, None, None, None, None, None, None, None, None, None, None, None, None, None, None, None, None, None, None, None, None, None, None, None, None, None, None, None, None, None, None, None, None, None, None, None, None, None, None, None, None, None, None, None, None, None, None, None, None, None, None, None, None, None, None, None, None, None, None, None, None, None, None, None, None, None, None, None, None, None, None, None, None, None, None, None, None, None, None, None, None, None, None, None, None, None, None, None, None, None, None, None, None, None, None, None, None, None, None, None, None, None, None, None, None, None, None, None, None, None, None, None, None, None, None, None, None, None, None, None, None, None, None, None, None, None, None, None, None, None, None, None, None, None, None, None, None, None, None, None, None, None, None, None, None, None, None, None, None, None, None, None, None, None, None, None, None, None, None, None, None, None, None, None, None, None, None, None, None, None, None, None, None, None, None, None, None, None, None, None, None, None, None, None, None, None, None, None, None, None, None, None, None, None, None, None, None, None, None, None, None, None, None, None, None, None, None, None, None, None, None, None, None, None, None, None, None, None, None, None, None, None, None, None, None, None, None, None, None, None, None, None, None, None, None, None, None, None, None, None, None, None, None, None, None, None, None, None, None, None, None, None, None, None, None, None, None, None, None, None, None, None, None, None, None, None, None, None, None, None, None, None, None, None, None, None, None, None, None, None, None, None, None, None, None, None, None, None, None, None, None, None, None, None, None, None, None, None, None, None, None, None, None, None, None, None, None, None, None, None, None, None, None, None, None, None, None, None, None, None, None, None, None, None, None, None, None, None, None, None, None, None, None, None, None, None, None, None, None, None, None, None, None, None, None, None, None, None, None, None, None, None, None, None, None, None, None, None, None, None, None, None, None, None, None, None, None, None, None, None, None, None, None, None, None, None, None, None, None, None, None, None, None, None, None, None, None, None, None, None, None, None, None, None, None, None, None, None, None, None, None, None, None, None, None, None, None, None, None, None, None, None, None, None, None, None, None, None, None, None, None, None, None, None, None, None, None, None, None, None, None, None, None, None, None, None, None, None, None, None, None, None, None, None, None, None, None, None, None, None, None, None, None, None, None, None, None, None, None, None, None, None, None, None, None, None, None, None, None, None, None, None, None, None, None, None, None, None, None, None, None, None, None, None, None, None, None, None, None, None], \n",
            "\t[0.7184587717056274, 0.6853969097137451, 0.6541180610656738, 0.6256020069122314, 0.5980432033538818, 0.5710458755493164, 0.5454559922218323, 0.5210691094398499, 0.4981866180896759, 0.4771517217159271, 0.457955002784729, 0.4407094717025757, 0.42533379793167114, 0.41173315048217773, 0.3997713327407837, 0.38928651809692383, 0.3801249861717224, 0.3721303641796112, 0.3651628792285919, 0.35909250378608704, 0.3538058400154114, 0.3492020070552826, 0.3451932966709137, 0.3417038917541504, 0.33866792917251587, 0.33602914214134216, 0.3337373435497284, 0.33175063133239746, 0.3300324082374573, 0.32855015993118286, 0.3272766172885895, 0.3261873126029968, 0.32526156306266785, 0.3244803249835968, 0.32382816076278687, 0.32329049706459045, 0.32285529375076294, 0.32251104712486267, 0.3222486078739166, 0.32205912470817566, 0.32193511724472046, 0.32186996936798096, 0.3218577802181244, 0.3218936622142792, 0.32197219133377075, 0.3220897316932678, None, None, None, None, None, None, None, None, None, None, None, None, None, None, None, None, None, None, None, None, None, None, None, None, None, None, None, None, None, None, None, None, None, None, None, None, None, None, None, None, None, None, None, None, None, None, None, None, None, None, None, None, None, None, None, None, None, None, None, None, None, None, None, None, None, None, None, None, None, None, None, None, None, None, None, None, None, None, None, None, None, None, None, None, None, None, None, None, None, None, None, None, None, None, None, None, None, None, None, None, None, None, None, None, None, None, None, None, None, None, None, None, None, None, None, None, None, None, None, None, None, None, None, None, None, None, None, None, None, None, None, None, None, None, None, None, None, None, None, None, None, None, None, None, None, None, None, None, None, None, None, None, None, None, None, None, None, None, None, None, None, None, None, None, None, None, None, None, None, None, None, None, None, None, None, None, None, None, None, None, None, None, None, None, None, None, None, None, None, None, None, None, None, None, None, None, None, None, None, None, None, None, None, None, None, None, None, None, None, None, None, None, None, None, None, None, None, None, None, None, None, None, None, None, None, None, None, None, None, None, None, None, None, None, None, None, None, None, None, None, None, None, None, None, None, None, None, None, None, None, None, None, None, None, None, None, None, None, None, None, None, None, None, None, None, None, None, None, None, None, None, None, None, None, None, None, None, None, None, None, None, None, None, None, None, None, None, None, None, None, None, None, None, None, None, None, None, None, None, None, None, None, None, None, None, None, None, None, None, None, None, None, None, None, None, None, None, None, None, None, None, None, None, None, None, None, None, None, None, None, None, None, None, None, None, None, None, None, None, None, None, None, None, None, None, None, None, None, None, None, None, None, None, None, None, None, None, None, None, None, None, None, None, None, None, None, None, None, None, None, None, None, None, None, None, None, None, None, None, None, None, None, None, None, None, None, None, None, None, None, None, None, None, None, None, None, None, None, None, None, None, None, None, None, None, None, None, None, None, None, None, None, None, None, None, None, None, None, None, None, None, None, None, None, None, None, None, None, None, None, None, None, None, None, None, None, None, None, None, None, None, None, None, None, None, None, None, None, None, None, None, None, None, None, None, None, None, None, None, None, None, None, None, None, None, None, None, None, None, None, None, None, None, None, None, None, None, None, None, None, None, None, None, None, None, None, None, None, None, None, None, None, None, None, None, None, None, None, None, None, None, None, None, None, None, None, None, None, None, None, None, None, None, None, None, None, None, None, None, None, None, None, None, None, None, None, None, None, None, None, None, None, None, None, None, None, None, None, None, None, None, None, None, None, None, None, None, None, None, None, None, None, None, None, None, None, None, None, None, None, None, None, None, None, None, None, None, None, None, None, None, None, None, None, None, None, None, None, None, None, None, None, None, None, None, None, None, None, None, None, None, None, None, None, None, None, None, None, None, None, None, None, None, None, None, None, None, None, None, None, None, None, None, None, None, None, None, None, None, None, None, None, None, None, None, None, None, None, None, None, None, None, None, None, None, None, None, None, None, None, None, None, None, None, None, None, None, None, None, None, None, None, None, None, None, None, None, None, None, None, None, None, None, None, None, None, None, None, None, None, None, None, None, None, None, None, None, None, None, None, None, None, None, None, None, None, None, None, None, None, None, None, None, None, None, None, None, None, None, None, None, None, None, None, None, None, None, None, None, None, None, None, None, None, None, None, None, None, None, None, None, None, None, None, None, None, None, None, None, None, None, None, None, None, None, None, None, None, None, None, None, None, None, None, None, None, None, None, None, None, None, None, None, None, None, None, None, None, None, None, None, None, None, None, None, None, None, None, None, None, None, None, None, None, None, None, None, None, None, None, None, None, None, None, None, None, None, None, None, None, None, None, None, None, None, None, None, None, None, None, None, None, None, None, None, None, None, None, None, None, None, None, None, None, None, None, None, None, None, None, None, None, None, None, None, None, None, None, None, None, None, None, None, None, None, None, None, None, None, None, None, None, None, None, None, None, None, None, None, None, None, None, None, None, None, None, None, None, None, None, None, None, None, None, None, None, None, None, None, None, None, None, None, None, None, None, None, None, None, None, None, None, None, None, None, None, None, None, None, None, None, None, None, None, None, None, None, None, None, None, None, None, None, None, None, None, None, None, None, None, None, None, None, None, None, None, None, None, None, None, None, None, None, None, None, None, None, None, None, None, None, None, None, None, None, None, None, None, None, None, None, None, None, None, None, None, None, None, None, None, None, None, None, None, None, None, None, None, None, None, None, None, None, None, None, None, None, None, None, None, None, None, None, None, None, None, None, None, None, None, None, None, None, None, None, None, None, None, None, None, None, None, None, None, None, None, None, None, None, None, None, None, None, None, None, None, None, None, None, None, None, None, None, None, None, None, None, None, None, None, None, None, None, None, None, None, None, None, None, None, None, None, None, None, None, None, None, None, None, None, None, None, None, None, None, None, None, None, None, None, None, None, None, None, None, None, None, None, None, None, None, None, None, None, None, None, None, None, None, None, None, None, None, None, None, None, None, None, None, None, None, None, None, None, None, None, None, None, None, None, None, None, None, None, None, None, None, None, None, None, None, None, None, None, None, None, None, None, None, None, None, None, None, None, None, None, None, None, None, None, None, None, None, None, None, None, None, None, None, None, None, None, None, None, None, None, None, None, None, None, None, None, None, None, None, None, None, None, None, None, None, None, None, None, None, None, None, None, None, None, None, None, None, None, None, None, None, None, None, None, None, None, None, None, None, None, None, None, None, None, None, None, None, None, None, None, None, None, None, None, None, None, None, None, None, None, None, None, None, None, None, None, None, None, None, None, None, None, None, None, None, None, None, None, None, None, None, None, None, None, None, None, None, None, None, None, None, None, None, None, None, None, None, None, None, None, None, None, None, None, None, None, None, None, None, None, None, None, None, None, None, None, None, None, None, None, None, None, None, None, None, None, None, None, None, None, None, None, None, None, None, None, None, None, None, None, None, None, None, None, None, None, None, None, None, None, None, None, None, None, None, None, None, None, None, None, None, None, None, None, None, None, None, None, None, None, None, None, None, None, None, None, None, None, None, None, None, None, None, None, None, None, None, None, None, None, None, None, None, None, None, None, None, None, None, None, None, None, None, None, None, None, None, None, None, None, None, None, None, None, None, None, None, None, None, None, None, None, None, None, None, None, None, None, None, None, None, None, None, None, None, None, None, None, None, None, None, None, None, None, None, None, None, None, None, None, None, None, None, None, None, None, None, None, None, None, None, None, None, None, None, None, None, None, None, None, None, None, None, None, None, None, None, None, None, None, None, None, None, None, None, None, None, None, None, None, None, None, None, None, None, None, None, None, None, None, None, None, None, None, None, None, None, None, None, None, None, None, None, None, None, None, None, None, None, None, None, None, None, None, None, None, None, None, None, None, None, None, None, None, None, None, None, None, None, None, None, None, None, None, None, None, None, None, None, None, None, None, None, None, None, None, None, None, None, None, None, None, None, None, None, None, None, None, None, None, None, None, None, None, None, None, None, None, None, None, None, None, None, None, None, None, None, None, None, None, None, None, None, None, None, None, None, None, None, None, None, None, None, None, None, None, None, None, None, None, None, None, None, None, None, None, None, None, None, None, None, None, None, None, None, None, None, None, None, None, None, None, None, None, None, None, None, None, None, None, None, None, None, None, None, None, None, None, None, None, None, None, None, None, None, None, None, None, None, None, None, None, None, None, None, None, None, None, None, None, None, None, None, None, None, None, None, None, None, None, None, None, None, None, None, None, None, None, None, None, None, None, None, None, None, None, None, None, None, None, None, None, None, None, None, None, None, None, None, None, None, None, None, None, None, None, None, None, None, None, None, None, None, None, None, None, None, None, None, None, None, None, None, None, None, None, None, None, None, None, None, None, None, None, None, None, None, None, None, None, None, None, None, None, None, None, None, None, None, None, None, None, None, None, None, None, None, None, None, None, None, None, None, None, None, None, None, None, None, None, None, None, None, None, None, None, None, None, None, None, None, None, None, None, None, None, None, None, None, None, None, None, None, None, None, None, None, None, None, None, None, None, None, None, None, None, None, None, None, None, None, None, None, None, None, None, None, None, None, None, None, None, None, None, None, None, None, None, None, None, None, None, None, None, None, None, None, None, None, None, None, None, None, None, None, None, None, None, None, None, None, None, None, None, None, None, None, None, None, None, None, None, None, None, None, None, None, None, None, None, None, None, None, None, None, None, None, None, None, None, None, None, None, None, None, None, None, None, None, None, None, None, None, None, None, None, None, None, None, None, None, None, None, None, None, None, None, None, None, None, None, None, None, None, None, None, None, None, None, None, None, None, None, None, None, None, None, None, None, None, None, None, None, None, None, None, None, None, None, None, None, None, None, None, None, None, None, None, None, None, None, None, None, None, None, None, None, None, None, None, None, None, None, None, None, None, None, None, None, None, None, None, None, None, None, None, None, None, None, None, None, None, None, None, None, None, None, None, None, None, None, None, None, None, None, None, None, None, None, None, None, None, None, None, None, None, None, None, None, None, None, None, None, None, None, None, None, None, None, None, None, None, None, None, None, None, None, None, None, None, None, None, None, None, None, None, None, None, None, None, None, None, None, None, None, None, None, None, None, None, None, None, None, None, None, None, None, None, None, None, None, None, None, None, None, None, None, None, None, None, None, None, None, None, None, None, None, None, None, None, None, None, None, None, None, None, None, None, None, None, None, None, None, None, None, None, None, None, None, None, None, None, None, None, None, None, None, None, None, None, None, None, None, None, None, None, None, None, None, None, None, None, None, None, None, None, None, None, None, None, None, None, None, None, None, None, None, None, None, None, None, None, None, None, None, None, None, None, None, None, None, None, None, None, None, None, None, None, None, None, None, None, None, None, None, None, None, None, None, None, None, None, None, None, None, None, None, None, None, None, None, None, None, None, None, None, None, None, None, None, None, None, None, None, None, None, None, None, None, None, None, None, None, None, None, None, None, None, None, None, None, None, None, None, None, None, None, None, None, None, None, None, None, None, None, None, None, None, None, None, None, None, None, None, None, None, None, None, None, None, None, None, None, None, None, None, None, None, None, None, None, None, None, None, None, None, None, None, None, None, None, None, None, None, None, None, None, None, None, None, None, None, None, None, None, None, None, None, None, None, None, None, None, None, None, None, None, None, None, None, None, None, None, None, None, None, None, None, None, None, None, None, None, None, None, None, None, None, None, None, None, None, None, None, None, None, None, None, None, None, None, None, None, None, None, None, None, None, None, None, None, None, None, None, None, None, None, None, None, None, None, None, None, None, None, None, None, None, None, None, None, None, None, None, None, None, None, None, None, None, None, None, None, None, None, None, None, None, None, None, None, None, None, None, None, None, None, None, None, None, None, None, None, None, None, None, None, None, None, None, None, None, None, None, None, None, None, None, None, None, None, None, None, None, None, None, None, None, None, None, None, None, None, None, None, None, None, None, None, None, None, None, None, None, None, None, None, None, None, None, None, None, None, None, None, None, None, None, None, None, None, None, None, None, None, None, None, None, None, None, None, None, None, None, None, None, None, None, None, None, None, None, None, None, None, None, None, None, None, None, None, None, None, None, None, None, None, None, None, None, None, None, None, None, None, None, None, None, None, None, None, None, None, None, None, None, None, None, None, None, None, None, None, None, None, None, None, None, None, None, None, None, None, None, None, None, None, None, None, None, None, None, None, None, None, None, None, None, None, None, None, None, None, None, None, None, None, None, None, None, None, None, None, None, None, None, None, None, None, None, None, None, None, None, None, None, None, None, None, None, None, None, None, None, None, None, None, None, None, None, None, None, None, None, None, None, None, None, None, None, None, None, None, None, None, None, None, None, None, None, None, None, None, None, None, None, None, None, None, None, None, None, None, None, None, None, None, None, None, None, None, None, None, None, None, None, None, None, None, None, None, None, None, None, None, None, None, None, None, None, None, None, None, None, None, None, None, None, None, None, None, None, None, None, None, None, None, None, None, None, None, None, None, None, None, None, None, None, None, None, None, None, None, None, None, None, None, None, None, None, None, None, None, None, None, None, None, None, None, None, None, None, None, None, None, None, None, None, None, None, None, None, None, None, None, None, None, None, None, None, None, None, None, None, None, None, None, None, None, None, None, None, None, None, None, None, None, None, None, None, None, None, None, None, None, None, None, None, None, None, None, None, None, None, None, None, None, None, None, None, None, None, None, None, None, None, None, None, None, None, None, None, None, None, None, None, None, None, None, None, None, None, None, None, None, None, None, None, None, None, None, None, None, None, None, None, None, None, None, None, None, None, None, None, None, None, None, None, None, None, None, None, None, None, None, None, None, None, None, None, None, None, None, None, None, None, None, None, None, None, None, None, None, None, None, None, None, None, None, None, None, None, None, None, None, None, None, None, None, None, None, None, None, None, None, None, None, None, None, None, None, None, None, None, None, None, None, None, None, None, None, None, None, None, None, None, None, None, None, None, None, None, None, None, None, None, None, None, None, None, None, None, None, None, None, None, None, None, None, None, None, None, None, None, None, None, None, None, None, None, None, None, None, None, None, None, None, None, None, None, None, None, None, None, None, None, None, None, None, None, None, None, None, None, None, None, None, None, None, None, None, None, None, None, None, None, None, None, None, None, None, None, None, None, None, None, None, None, None, None, None, None, None, None, None, None, None, None, None, None, None, None, None, None, None, None, None, None, None, None, None, None, None, None, None, None, None, None, None, None, None, None, None, None, None, None, None, None, None, None, None, None, None, None, None, None, None, None, None, None, None, None, None, None, None, None, None, None, None, None, None, None, None, None, None, None, None, None, None, None, None, None, None, None, None, None, None, None, None, None, None, None, None, None, None, None, None, None, None, None, None, None, None, None, None, None, None, None, None, None, None, None, None, None, None, None, None, None, None, None, None, None, None, None, None, None, None, None, None, None, None, None, None, None, None, None, None, None, None, None, None, None, None, None, None, None, None, None, None, None, None, None, None, None, None, None, None, None, None, None, None, None, None, None, None, None, None, None, None, None, None, None, None, None, None, None, None, None, None, None, None, None, None, None, None, None, None, None, None, None, None, None, None, None, None, None, None, None, None, None, None, None, None, None, None, None, None, None, None, None, None, None, None, None, None, None, None, None, None, None, None, None, None, None, None, None, None, None, None, None, None, None, None, None, None, None, None, None, None, None, None, None, None, None, None, None, None, None, None, None, None, None, None, None, None, None, None, None, None, None, None, None, None, None, None, None, None, None, None, None, None, None, None, None, None, None, None, None, None, None, None, None, None, None, None, None, None, None, None, None, None, None, None, None, None, None, None, None, None, None, None, None, None, None, None, None, None, None, None, None, None, None, None, None, None, None, None, None, None, None, None, None, None, None, None, None, None, None, None, None, None, None, None, None, None, None, None, None, None, None, None, None, None, None, None, None, None, None, None, None, None, None, None, None, None, None, None, None, None, None, None, None, None, None, None, None, None, None, None, None, None, None, None, None, None, None, None, None, None, None, None, None, None, None, None, None, None, None, None, None, None, None, None, None, None, None, None, None, None, None, None, None, None, None, None, None, None, None, None, None, None, None, None, None, None, None, None, None, None, None, None, None, None, None, None, None, None, None, None, None, None, None, None, None, None, None, None, None, None, None, None, None, None, None, None, None, None, None, None, None, None, None, None, None, None, None, None, None, None, None, None, None, None, None, None, None, None, None, None, None, None, None, None, None, None, None, None, None, None, None, None, None, None, None, None, None, None, None, None, None, None, None, None, None, None, None, None, None, None, None, None, None, None, None, None, None, None, None, None, None, None, None, None, None, None, None, None, None, None, None, None, None, None, None, None, None, None, None, None, None, None, None, None, None, None, None, None, None, None, None, None, None, None, None, None, None, None, None, None, None, None, None, None, None, None, None, None, None, None, None, None, None, None, None, None, None, None, None, None, None, None, None, None, None, None, None, None, None, None, None, None, None, None, None, None, None, None, None, None, None, None, None, None, None, None, None, None, None, None, None, None, None, None, None, None, None, None, None, None, None, None, None, None, None, None, None, None, None, None, None, None, None, None, None, None, None, None, None, None, None, None, None, None, None, None, None, None, None, None, None, None, None, None, None, None, None, None, None, None, None, None, None, None, None, None, None, None, None, None, None, None, None, None, None, None, None, None, None, None, None, None, None, None, None, None, None, None, None, None, None, None, None, None, None, None, None, None, None, None, None, None, None, None, None, None, None, None, None, None, None, None, None, None, None, None, None, None, None, None, None, None, None, None, None, None, None, None, None, None, None, None, None, None, None, None, None, None, None, None, None, None, None, None, None, None, None, None, None, None, None, None, None, None, None, None, None, None, None, None, None, None, None, None, None, None, None, None, None, None, None, None, None, None, None, None, None, None, None, None, None, None, None, None, None, None, None, None, None, None, None, None, None, None, None, None, None, None, None, None, None, None, None, None, None, None, None, None, None, None, None, None, None, None, None, None, None, None, None, None, None, None, None, None, None, None, None, None, None, None, None, None, None, None, None, None, None, None, None, None, None, None, None, None, None, None, None, None, None, None, None, None, None, None, None, None, None, None, None, None, None, None, None, None, None, None, None, None, None, None, None, None, None, None, None, None, None, None, None, None, None, None, None, None, None, None, None, None, None, None, None, None, None, None, None, None, None, None, None, None, None, None, None, None, None, None, None, None, None, None, None, None, None, None, None, None, None, None, None, None, None, None, None, None, None, None, None, None, None, None, None, None, None, None, None, None, None, None, None, None, None, None, None, None, None, None, None, None, None, None, None, None, None, None, None, None, None, None, None, None, None, None, None, None, None, None, None, None, None, None, None, None, None, None, None, None, None, None, None, None, None, None, None, None, None, None, None, None, None, None, None, None, None, None, None, None, None, None, None, None, None, None, None, None, None, None, None, None, None, None, None, None, None, None, None, None, None, None, None, None, None, None, None, None, None, None, None, None, None, None, None, None, None, None, None, None, None, None, None, None, None, None, None, None, None, None, None, None, None, None, None, None, None, None, None, None, None, None, None, None, None, None, None, None, None, None, None, None, None, None, None, None, None, None, None, None, None, None, None, None, None, None, None, None, None, None, None, None, None, None, None, None, None, None, None, None, None, None, None, None, None, None, None, None, None, None, None, None, None, None, None, None, None, None, None, None, None, None, None, None, None, None, None, None, None, None, None, None, None, None, None, None, None, None, None, None, None, None, None, None, None, None, None, None, None, None, None, None, None, None, None, None, None, None, None, None, None, None, None, None, None, None, None, None, None, None, None, None, None, None, None, None, None, None, None, None, None, None, None, None, None, None, None, None, None, None, None, None, None, None, None, None, None, None, None, None, None, None, None, None, None, None, None, None, None, None, None, None, None, None, None, None, None, None, None, None, None, None, None, None, None, None, None, None, None, None, None, None, None, None, None, None, None, None, None, None, None, None, None, None, None, None, None, None, None, None, None, None, None, None, None, None, None, None, None, None, None, None, None, None, None, None, None, None, None, None, None, None, None, None, None, None, None, None, None, None, None, None, None, None, None, None, None, None, None, None, None, None, None, None, None, None, None, None, None, None, None, None, None, None, None, None, None, None, None, None, None, None, None, None, None, None, None, None, None, None, None, None, None, None, None, None, None, None, None, None, None, None, None, None, None, None, None, None, None, None, None, None, None, None, None, None, None, None, None, None, None, None, None, None, None, None, None, None, None, None, None, None, None, None, None, None, None, None, None, None, None, None, None, None, None, None, None, None, None, None, None, None, None, None, None, None, None, None, None, None, None, None, None, None, None, None, None, None, None, None, None, None, None, None, None, None, None, None, None, None, None, None, None, None, None, None, None, None, None, None, None, None, None, None, None, None, None, None, None, None, None, None, None, None, None, None, None, None, None, None, None, None, None, None, None, None, None, None, None, None, None, None, None, None, None, None, None, None, None, None, None, None, None, None, None, None, None, None, None, None, None, None, None, None, None, None, None, None, None, None, None, None, None, None, None, None, None, None, None, None, None, None, None, None, None, None, None, None, None, None, None, None, None, None, None, None, None, None, None, None, None, None, None, None, None, None, None, None, None, None, None, None, None, None, None, None, None, None, None, None, None, None, None, None, None, None, None, None, None, None, None, None, None, None, None, None, None, None, None, None, None, None, None, None, None, None, None, None, None, None, None, None, None, None, None, None, None, None, None, None, None, None, None, None, None, None, None, None, None, None, None, None, None, None, None, None, None, None, None, None, None, None, None, None, None, None, None, None, None, None, None, None, None, None, None, None, None, None, None, None, None, None, None, None, None, None, None, None, None, None, None, None, None, None, None, None, None, None, None, None, None, None, None, None, None, None, None, None, None, None, None, None, None, None, None, None, None, None, None, None, None, None, None, None, None, None, None, None, None, None, None, None, None, None, None, None, None, None, None, None, None, None, None, None, None, None, None, None, None, None, None, None, None, None, None, None, None, None, None, None, None, None, None, None, None, None, None, None, None, None, None, None, None, None, None, None, None, None, None, None, None, None, None, None, None, None, None, None, None, None, None, None, None, None, None, None, None, None, None, None, None, None, None, None, None, None, None, None, None, None, None, None, None, None, None, None, None, None, None, None, None, None, None, None, None, None, None, None, None, None, None, None, None, None, None, None, None, None, None, None, None, None, None, None, None, None, None, None, None, None, None, None, None, None, None, None, None, None, None, None, None, None, None, None, None, None, None, None, None, None, None, None, None, None, None, None, None, None, None, None, None, None, None, None, None, None, None, None, None, None, None, None, None, None, None, None, None, None, None, None, None, None, None, None, None, None, None, None, None, None, None, None, None, None, None, None, None, None, None, None, None, None, None, None, None, None, None, None, None, None, None, None, None, None, None, None, None, None, None, None, None, None, None, None, None, None, None, None, None, None, None, None, None, None, None, None, None, None, None, None, None, None, None, None, None, None, None, None, None, None, None, None, None, None, None, None, None, None, None, None, None, None, None, None, None, None, None, None, None, None, None, None, None, None, None, None, None, None, None, None, None, None, None, None, None, None, None, None, None, None, None, None, None, None, None, None, None, None, None, None, None, None, None, None, None, None, None, None, None, None, None, None, None, None, None, None, None, None, None, None, None, None, None, None, None, None, None, None, None, None, None, None, None, None, None, None, None, None, None, None, None, None, None, None, None, None, None, None, None, None, None, None, None, None, None, None, None, None, None, None, None, None, None, None, None, None, None, None, None, None, None, None, None, None, None, None, None, None, None, None, None, None, None, None, None, None, None, None, None, None, None, None, None, None, None, None, None, None, None, None, None, None, None, None, None, None, None, None, None, None, None, None, None, None, None, None, None, None, None, None, None, None, None, None, None, None, None, None, None, None, None, None, None, None, None, None, None, None, None, None, None, None, None], \n",
            "\tover the training epochs, respectively.\n"
          ],
          "name": "stdout"
        },
        {
          "output_type": "display_data",
          "data": {
            "image/png": "[encoded data removed]",
            "text/plain": [
              "<Figure size 432x288 with 1 Axes>"
            ]
          },
          "metadata": {
            "tags": [],
            "needs_background": "light"
          }
        },
        {
          "output_type": "display_data",
          "data": {
            "image/png": "[encoded data removed]",
            "text/plain": [
              "<Figure size 432x288 with 1 Axes>"
            ]
          },
          "metadata": {
            "tags": [],
            "needs_background": "light"
          }
        },
        {
          "output_type": "display_data",
          "data": {
            "image/png": "[encoded data removed]",
            "text/plain": [
              "<Figure size 432x288 with 1 Axes>"
            ]
          },
          "metadata": {
            "tags": [],
            "needs_background": "light"
          }
        }
      ]
    },
    {
      "cell_type": "markdown",
      "metadata": {
        "id": "QnOKtBi5NsNE"
      },
      "source": [
        "As we can see again the results are pretty similar to the 1 layer in classifyer. Adding more layers to the classifyer dont have any affect on the validation loss"
      ]
    },
    {
      "cell_type": "markdown",
      "metadata": {
        "id": "waxjuu7XNhDy"
      },
      "source": [
        "**Here you should merge the feature extractor network layers with the PyTorch logistic regression classifier.**"
      ]
    },
    {
      "cell_type": "code",
      "metadata": {
        "id": "KeULwtgjNhDy"
      },
      "source": [
        "### Already done on definition of MyResnet class using cases\n"
      ],
      "execution_count": 21,
      "outputs": []
    },
    {
      "cell_type": "markdown",
      "metadata": {
        "id": "bNJsjt3aNhDy"
      },
      "source": [
        "# Part 2- Fine-tuning"
      ]
    },
    {
      "cell_type": "markdown",
      "metadata": {
        "id": "hx34iLgINhDy"
      },
      "source": [
        "In the feature extraction experiment above you were training the classifier on the top of the pre-trained model. \n",
        "In this paert, you need to train (or \"fine-tune\") the original pre-trained Resnet18 model (or part of them) in an attempts to improve your results. You can determine the number of convolution layers you intend to re-train in order to avoid overfitting and hopefully achive better generalization. Note that the fine-tuning should only be attempted after you have trained the top-level classifier with a pre-trained model.\n",
        "\n",
        "1. Plot Loss and Accuracy v.s Epoch for train and validation sets:"
      ]
    },
    {
      "cell_type": "markdown",
      "metadata": {
        "id": "3MevMTB8NhDy"
      },
      "source": [
        "#### Define the model (use the merged feature extractor with the PyTorch logistic regression classifier)"
      ]
    },
    {
      "cell_type": "code",
      "metadata": {
        "id": "8LuT7thxNhDy",
        "colab": {
          "base_uri": "https://localhost:8080/"
        },
        "outputId": "beeeec5b-fda0-4d00-beb6-a4d8dec14dad"
      },
      "source": [
        "print('finetuning')\n",
        "net_ft = net #trained net from resnet18 with classifyer nn.linear(512,2)+softmax as head\n",
        "for param in net_ft.features.parameters():\n",
        "    param.requires_grad = True\n",
        "args.lr = args.lr_finetune # choose small learning rate for finetuning\n",
        "args.early_stopping_min_improvement = args.early_stopping_min_improvement_ft\n",
        "args.early_stopping_num_epochs = args.early_stopping_num_epochs_ft"
      ],
      "execution_count": 26,
      "outputs": [
        {
          "output_type": "stream",
          "text": [
            "finetuning\n"
          ],
          "name": "stdout"
        }
      ]
    },
    {
      "cell_type": "markdown",
      "metadata": {
        "id": "K7MI3gouNhDz"
      },
      "source": [
        "#### Training and validation:"
      ]
    },
    {
      "cell_type": "code",
      "metadata": {
        "id": "etpfzr0PNhDz",
        "colab": {
          "base_uri": "https://localhost:8080/"
        },
        "outputId": "0dc29ce1-2f73-468a-a1bc-96c5acc2eb10"
      },
      "source": [
        "tr_loss_ft, val_loss_ft, test_loss_ft, tr_auc_ft, val_auc_ft, untrained_test_loss_ft, untrained_test_auc_ft,tr_accuracy,val_accuracy = training_loop_with_dataloaders(\n",
        "    args,\n",
        "    net_ft,\n",
        "    tr_dataloader=tr_dataloader,\n",
        "    val_dataloader=val_dataloader,\n",
        "    criterion_func=nn.CrossEntropyLoss,\n",
        "    fine_tune=True\n",
        ")"
      ],
      "execution_count": 23,
      "outputs": [
        {
          "output_type": "stream",
          "text": [
            "untrained accuracy: 0.844\n",
            "validtaion_acc: 0.856\n",
            "Train loss: 2.48e-01, Val loss: 3.26e-01\n",
            "Best val loss is: 3.26e-01\n",
            "validtaion_acc: 0.864\n",
            "Train loss: 1.86e-01, Val loss: 3.16e-01\n",
            "Best val loss is: 3.16e-01\n",
            "validtaion_acc: 0.864\n",
            "Train loss: 1.46e-01, Val loss: 3.16e-01\n",
            "Best val loss is: 3.16e-01\n",
            "validtaion_acc: 0.866\n",
            "Train loss: 1.18e-01, Val loss: 3.23e-01\n",
            "Best val loss is: 3.16e-01\n",
            "Stopped training after 4/5000 epochs.\n",
            "The loss is 3.38e-01 before training and 3.23e-01 after training.\n",
            "The training and validation losses are \n",
            "\t[0.24814678192138673, 0.18609451293945312, 0.14582244873046876, 0.11848459243774415, None, None, None, None, None, None, None, None, None, None, None, None, None, None, None, None, None, None, None, None, None, None, None, None, None, None, None, None, None, None, None, None, None, None, None, None, None, None, None, None, None, None, None, None, None, None, None, None, None, None, None, None, None, None, None, None, None, None, None, None, None, None, None, None, None, None, None, None, None, None, None, None, None, None, None, None, None, None, None, None, None, None, None, None, None, None, None, None, None, None, None, None, None, None, None, None, None, None, None, None, None, None, None, None, None, None, None, None, None, None, None, None, None, None, None, None, None, None, None, None, None, None, None, None, None, None, None, None, None, None, None, None, None, None, None, None, None, None, None, None, None, None, None, None, None, None, None, None, None, None, None, None, None, None, None, None, None, None, None, None, None, None, None, None, None, None, None, None, None, None, None, None, None, None, None, None, None, None, None, None, None, None, None, None, None, None, None, None, None, None, None, None, None, None, None, None, None, None, None, None, None, None, None, None, None, None, None, None, None, None, None, None, None, None, None, None, None, None, None, None, None, None, None, None, None, None, None, None, None, None, None, None, None, None, None, None, None, None, None, None, None, None, None, None, None, None, None, None, None, None, None, None, None, None, None, None, None, None, None, None, None, None, None, None, None, None, None, None, None, None, None, None, None, None, None, None, None, None, None, None, None, None, None, None, None, None, None, None, None, None, None, None, None, None, None, None, None, None, None, None, None, None, None, None, None, None, None, None, None, None, None, None, None, None, None, None, None, None, None, None, None, None, None, None, None, None, None, None, None, None, None, None, None, None, None, None, None, None, None, None, None, None, None, None, None, None, None, None, None, None, None, None, None, None, None, None, None, None, None, None, None, None, None, None, None, None, None, None, None, None, None, None, None, None, None, None, None, None, None, None, None, None, None, None, None, None, None, None, None, None, None, None, None, None, None, None, None, None, None, None, None, None, None, None, None, None, None, None, None, None, None, None, None, None, None, None, None, None, None, None, None, None, None, None, None, None, None, None, None, None, None, None, None, None, None, None, None, None, None, None, None, None, None, None, None, None, None, None, None, None, None, None, None, None, None, None, None, None, None, None, None, None, None, None, None, None, None, None, None, None, None, None, None, None, None, None, None, None, None, None, None, None, None, None, None, None, None, None, None, None, None, None, None, None, None, None, None, None, None, None, None, None, None, None, None, None, None, None, None, None, None, None, None, None, None, None, None, None, None, None, None, None, None, None, None, None, None, None, None, None, None, None, None, None, None, None, None, None, None, None, None, None, None, None, None, None, None, None, None, None, None, None, None, None, None, None, None, None, None, None, None, None, None, None, None, None, None, None, None, None, None, None, None, None, None, None, None, None, None, None, None, None, None, None, None, None, None, None, None, None, None, None, None, None, None, None, None, None, None, None, None, None, None, None, None, None, None, None, None, None, None, None, None, None, None, None, None, None, None, None, None, None, None, None, None, None, None, None, None, None, None, None, None, None, None, None, None, None, None, None, None, None, None, None, None, None, None, None, None, None, None, None, None, None, None, None, None, None, None, None, None, None, None, None, None, None, None, None, None, None, None, None, None, None, None, None, None, None, None, None, None, None, None, None, None, None, None, None, None, None, None, None, None, None, None, None, None, None, None, None, None, None, None, None, None, None, None, None, None, None, None, None, None, None, None, None, None, None, None, None, None, None, None, None, None, None, None, None, None, None, None, None, None, None, None, None, None, None, None, None, None, None, None, None, None, None, None, None, None, None, None, None, None, None, None, None, None, None, None, None, None, None, None, None, None, None, None, None, None, None, None, None, None, None, None, None, None, None, None, None, None, None, None, None, None, None, None, None, None, None, None, None, None, None, None, None, None, None, None, None, None, None, None, None, None, None, None, None, None, None, None, None, None, None, None, None, None, None, None, None, None, None, None, None, None, None, None, None, None, None, None, None, None, None, None, None, None, None, None, None, None, None, None, None, None, None, None, None, None, None, None, None, None, None, None, None, None, None, None, None, None, None, None, None, None, None, None, None, None, None, None, None, None, None, None, None, None, None, None, None, None, None, None, None, None, None, None, None, None, None, None, None, None, None, None, None, None, None, None, None, None, None, None, None, None, None, None, None, None, None, None, None, None, None, None, None, None, None, None, None, None, None, None, None, None, None, None, None, None, None, None, None, None, None, None, None, None, None, None, None, None, None, None, None, None, None, None, None, None, None, None, None, None, None, None, None, None, None, None, None, None, None, None, None, None, None, None, None, None, None, None, None, None, None, None, None, None, None, None, None, None, None, None, None, None, None, None, None, None, None, None, None, None, None, None, None, None, None, None, None, None, None, None, None, None, None, None, None, None, None, None, None, None, None, None, None, None, None, None, None, None, None, None, None, None, None, None, None, None, None, None, None, None, None, None, None, None, None, None, None, None, None, None, None, None, None, None, None, None, None, None, None, None, None, None, None, None, None, None, None, None, None, None, None, None, None, None, None, None, None, None, None, None, None, None, None, None, None, None, None, None, None, None, None, None, None, None, None, None, None, None, None, None, None, None, None, None, None, None, None, None, None, None, None, None, None, None, None, None, None, None, None, None, None, None, None, None, None, None, None, None, None, None, None, None, None, None, None, None, None, None, None, None, None, None, None, None, None, None, None, None, None, None, None, None, None, None, None, None, None, None, None, None, None, None, None, None, None, None, None, None, None, None, None, None, None, None, None, None, None, None, None, None, None, None, None, None, None, None, None, None, None, None, None, None, None, None, None, None, None, None, None, None, None, None, None, None, None, None, None, None, None, None, None, None, None, None, None, None, None, None, None, None, None, None, None, None, None, None, None, None, None, None, None, None, None, None, None, None, None, None, None, None, None, None, None, None, None, None, None, None, None, None, None, None, None, None, None, None, None, None, None, None, None, None, None, None, None, None, None, None, None, None, None, None, None, None, None, None, None, None, None, None, None, None, None, None, None, None, None, None, None, None, None, None, None, None, None, None, None, None, None, None, None, None, None, None, None, None, None, None, None, None, None, None, None, None, None, None, None, None, None, None, None, None, None, None, None, None, None, None, None, None, None, None, None, None, None, None, None, None, None, None, None, None, None, None, None, None, None, None, None, None, None, None, None, None, None, None, None, None, None, None, None, None, None, None, None, None, None, None, None, None, None, None, None, None, None, None, None, None, None, None, None, None, None, None, None, None, None, None, None, None, None, None, None, None, None, None, None, None, None, None, None, None, None, None, None, None, None, None, None, None, None, None, None, None, None, None, None, None, None, None, None, None, None, None, None, None, None, None, None, None, None, None, None, None, None, None, None, None, None, None, None, None, None, None, None, None, None, None, None, None, None, None, None, None, None, None, None, None, None, None, None, None, None, None, None, None, None, None, None, None, None, None, None, None, None, None, None, None, None, None, None, None, None, None, None, None, None, None, None, None, None, None, None, None, None, None, None, None, None, None, None, None, None, None, None, None, None, None, None, None, None, None, None, None, None, None, None, None, None, None, None, None, None, None, None, None, None, None, None, None, None, None, None, None, None, None, None, None, None, None, None, None, None, None, None, None, None, None, None, None, None, None, None, None, None, None, None, None, None, None, None, None, None, None, None, None, None, None, None, None, None, None, None, None, None, None, None, None, None, None, None, None, None, None, None, None, None, None, None, None, None, None, None, None, None, None, None, None, None, None, None, None, None, None, None, None, None, None, None, None, None, None, None, None, None, None, None, None, None, None, None, None, None, None, None, None, None, None, None, None, None, None, None, None, None, None, None, None, None, None, None, None, None, None, None, None, None, None, None, None, None, None, None, None, None, None, None, None, None, None, None, None, None, None, None, None, None, None, None, None, None, None, None, None, None, None, None, None, None, None, None, None, None, None, None, None, None, None, None, None, None, None, None, None, None, None, None, None, None, None, None, None, None, None, None, None, None, None, None, None, None, None, None, None, None, None, None, None, None, None, None, None, None, None, None, None, None, None, None, None, None, None, None, None, None, None, None, None, None, None, None, None, None, None, None, None, None, None, None, None, None, None, None, None, None, None, None, None, None, None, None, None, None, None, None, None, None, None, None, None, None, None, None, None, None, None, None, None, None, None, None, None, None, None, None, None, None, None, None, None, None, None, None, None, None, None, None, None, None, None, None, None, None, None, None, None, None, None, None, None, None, None, None, None, None, None, None, None, None, None, None, None, None, None, None, None, None, None, None, None, None, None, None, None, None, None, None, None, None, None, None, None, None, None, None, None, None, None, None, None, None, None, None, None, None, None, None, None, None, None, None, None, None, None, None, None, None, None, None, None, None, None, None, None, None, None, None, None, None, None, None, None, None, None, None, None, None, None, None, None, None, None, None, None, None, None, None, None, None, None, None, None, None, None, None, None, None, None, None, None, None, None, None, None, None, None, None, None, None, None, None, None, None, None, None, None, None, None, None, None, None, None, None, None, None, None, None, None, None, None, None, None, None, None, None, None, None, None, None, None, None, None, None, None, None, None, None, None, None, None, None, None, None, None, None, None, None, None, None, None, None, None, None, None, None, None, None, None, None, None, None, None, None, None, None, None, None, None, None, None, None, None, None, None, None, None, None, None, None, None, None, None, None, None, None, None, None, None, None, None, None, None, None, None, None, None, None, None, None, None, None, None, None, None, None, None, None, None, None, None, None, None, None, None, None, None, None, None, None, None, None, None, None, None, None, None, None, None, None, None, None, None, None, None, None, None, None, None, None, None, None, None, None, None, None, None, None, None, None, None, None, None, None, None, None, None, None, None, None, None, None, None, None, None, None, None, None, None, None, None, None, None, None, None, None, None, None, None, None, None, None, None, None, None, None, None, None, None, None, None, None, None, None, None, None, None, None, None, None, None, None, None, None, None, None, None, None, None, None, None, None, None, None, None, None, None, None, None, None, None, None, None, None, None, None, None, None, None, None, None, None, None, None, None, None, None, None, None, None, None, None, None, None, None, None, None, None, None, None, None, None, None, None, None, None, None, None, None, None, None, None, None, None, None, None, None, None, None, None, None, None, None, None, None, None, None, None, None, None, None, None, None, None, None, None, None, None, None, None, None, None, None, None, None, None, None, None, None, None, None, None, None, None, None, None, None, None, None, None, None, None, None, None, None, None, None, None, None, None, None, None, None, None, None, None, None, None, None, None, None, None, None, None, None, None, None, None, None, None, None, None, None, None, None, None, None, None, None, None, None, None, None, None, None, None, None, None, None, None, None, None, None, None, None, None, None, None, None, None, None, None, None, None, None, None, None, None, None, None, None, None, None, None, None, None, None, None, None, None, None, None, None, None, None, None, None, None, None, None, None, None, None, None, None, None, None, None, None, None, None, None, None, None, None, None, None, None, None, None, None, None, None, None, None, None, None, None, None, None, None, None, None, None, None, None, None, None, None, None, None, None, None, None, None, None, None, None, None, None, None, None, None, None, None, None, None, None, None, None, None, None, None, None, None, None, None, None, None, None, None, None, None, None, None, None, None, None, None, None, None, None, None, None, None, None, None, None, None, None, None, None, None, None, None, None, None, None, None, None, None, None, None, None, None, None, None, None, None, None, None, None, None, None, None, None, None, None, None, None, None, None, None, None, None, None, None, None, None, None, None, None, None, None, None, None, None, None, None, None, None, None, None, None, None, None, None, None, None, None, None, None, None, None, None, None, None, None, None, None, None, None, None, None, None, None, None, None, None, None, None, None, None, None, None, None, None, None, None, None, None, None, None, None, None, None, None, None, None, None, None, None, None, None, None, None, None, None, None, None, None, None, None, None, None, None, None, None, None, None, None, None, None, None, None, None, None, None, None, None, None, None, None, None, None, None, None, None, None, None, None, None, None, None, None, None, None, None, None, None, None, None, None, None, None, None, None, None, None, None, None, None, None, None, None, None, None, None, None, None, None, None, None, None, None, None, None, None, None, None, None, None, None, None, None, None, None, None, None, None, None, None, None, None, None, None, None, None, None, None, None, None, None, None, None, None, None, None, None, None, None, None, None, None, None, None, None, None, None, None, None, None, None, None, None, None, None, None, None, None, None, None, None, None, None, None, None, None, None, None, None, None, None, None, None, None, None, None, None, None, None, None, None, None, None, None, None, None, None, None, None, None, None, None, None, None, None, None, None, None, None, None, None, None, None, None, None, None, None, None, None, None, None, None, None, None, None, None, None, None, None, None, None, None, None, None, None, None, None, None, None, None, None, None, None, None, None, None, None, None, None, None, None, None, None, None, None, None, None, None, None, None, None, None, None, None, None, None, None, None, None, None, None, None, None, None, None, None, None, None, None, None, None, None, None, None, None, None, None, None, None, None, None, None, None, None, None, None, None, None, None, None, None, None, None, None, None, None, None, None, None, None, None, None, None, None, None, None, None, None, None, None, None, None, None, None, None, None, None, None, None, None, None, None, None, None, None, None, None, None, None, None, None, None, None, None, None, None, None, None, None, None, None, None, None, None, None, None, None, None, None, None, None, None, None, None, None, None, None, None, None, None, None, None, None, None, None, None, None, None, None, None, None, None, None, None, None, None, None, None, None, None, None, None, None, None, None, None, None, None, None, None, None, None, None, None, None, None, None, None, None, None, None, None, None, None, None, None, None, None, None, None, None, None, None, None, None, None, None, None, None, None, None, None, None, None, None, None, None, None, None, None, None, None, None, None, None, None, None, None, None, None, None, None, None, None, None, None, None, None, None, None, None, None, None, None, None, None, None, None, None, None, None, None, None, None, None, None, None, None, None, None, None, None, None, None, None, None, None, None, None, None, None, None, None, None, None, None, None, None, None, None, None, None, None, None, None, None, None, None, None, None, None, None, None, None, None, None, None, None, None, None, None, None, None, None, None, None, None, None, None, None, None, None, None, None, None, None, None, None, None, None, None, None, None, None, None, None, None, None, None, None, None, None, None, None, None, None, None, None, None, None, None, None, None, None, None, None, None, None, None, None, None, None, None, None, None, None, None, None, None, None, None, None, None, None, None, None, None, None, None, None, None, None, None, None, None, None, None, None, None, None, None, None, None, None, None, None, None, None, None, None, None, None, None, None, None, None, None, None, None, None, None, None, None, None, None, None, None, None, None, None, None, None, None, None, None, None, None, None, None, None, None, None, None, None, None, None, None, None, None, None, None, None, None, None, None, None, None, None, None, None, None, None, None, None, None, None, None, None, None, None, None, None, None, None, None, None, None, None, None, None, None, None, None, None, None, None, None, None, None, None, None, None, None, None, None, None, None, None, None, None, None, None, None, None, None, None, None, None, None, None, None, None, None, None, None, None, None, None, None, None, None, None, None, None, None, None, None, None, None, None, None, None, None, None, None, None, None, None, None, None, None, None, None, None, None, None, None, None, None, None, None, None, None, None, None, None, None, None, None, None, None, None, None, None, None, None, None, None, None, None, None, None, None, None, None, None, None, None, None, None, None, None, None, None, None, None, None, None, None, None, None, None, None, None, None, None, None, None, None, None, None, None, None, None, None, None, None, None, None, None, None, None, None, None, None, None, None, None, None, None, None, None, None, None, None, None, None, None, None, None, None, None, None, None, None, None, None, None, None, None, None, None, None, None, None, None, None, None, None, None, None, None, None, None, None, None, None, None, None, None, None, None, None, None, None, None, None, None, None, None, None, None, None, None, None, None, None, None, None, None, None, None, None, None, None, None, None, None, None, None, None, None, None, None, None, None, None, None, None, None, None, None, None, None, None, None, None, None, None, None, None, None, None, None, None, None, None, None, None, None, None, None, None, None, None, None, None, None, None, None, None, None, None, None, None, None, None, None, None, None, None, None, None, None, None, None, None, None, None, None, None, None, None, None, None, None, None, None, None, None, None, None, None, None, None, None, None, None, None, None, None, None, None, None, None, None, None, None, None, None, None, None, None, None, None, None, None, None, None, None, None, None, None, None, None, None, None, None, None, None, None, None, None, None, None, None, None, None, None, None, None, None, None, None, None, None, None, None, None, None, None, None, None, None, None, None, None, None, None, None, None, None, None, None, None, None, None, None, None, None, None, None, None, None, None, None, None, None, None, None, None, None, None, None, None, None, None, None, None, None, None, None, None, None, None, None, None, None, None, None, None, None, None, None, None, None, None, None, None, None, None, None, None, None, None, None, None, None, None, None, None, None, None, None, None, None, None, None, None, None, None, None, None, None, None, None, None, None, None, None, None, None, None, None, None, None, None, None, None, None, None, None, None, None, None, None, None, None, None, None, None, None, None, None, None, None, None, None, None, None, None, None, None, None, None, None, None, None, None, None, None, None, None, None, None, None, None, None, None, None, None, None, None, None, None, None, None, None, None, None, None, None, None, None, None, None, None, None, None, None, None, None, None, None, None, None, None, None, None, None, None, None, None, None, None, None, None, None, None, None, None, None, None, None, None, None, None, None, None, None, None, None, None, None, None, None, None, None, None, None, None, None, None, None, None, None, None, None, None, None, None, None, None, None, None, None, None, None, None, None, None, None, None, None, None, None, None, None, None, None, None, None, None, None, None, None, None, None, None, None, None, None, None, None, None, None, None, None, None, None, None, None, None, None, None, None, None, None, None, None, None, None, None, None, None, None, None, None, None, None, None, None, None, None, None, None, None, None, None, None, None, None, None, None, None, None, None, None, None, None, None, None, None, None, None, None, None, None, None, None, None, None, None, None, None, None, None, None, None, None, None, None, None, None, None, None, None, None, None, None, None, None, None, None, None, None, None, None, None, None, None, None, None, None, None, None, None, None, None, None, None, None, None, None, None, None, None, None, None, None, None, None, None, None, None, None, None, None, None, None, None, None, None, None, None, None, None, None, None, None, None, None, None, None, None, None, None, None, None, None, None, None, None, None, None, None, None, None, None, None, None, None, None, None, None, None, None, None, None, None, None, None, None, None, None, None, None, None, None, None, None, None, None, None, None, None, None, None, None, None, None, None, None, None, None, None, None, None, None, None, None, None, None, None, None, None, None, None, None, None, None, None, None, None, None, None, None, None, None, None, None, None, None, None, None, None, None, None, None, None, None, None, None, None, None, None, None, None, None, None, None, None, None, None, None, None, None, None, None, None, None, None, None, None, None, None, None, None, None, None, None, None, None, None, None, None, None, None, None, None, None, None, None, None, None, None, None, None, None, None, None, None, None, None, None, None, None, None, None, None, None, None, None, None, None, None, None, None, None, None, None, None, None, None, None, None, None, None, None, None, None, None, None, None, None, None, None, None, None, None, None, None, None, None, None, None, None, None, None, None, None, None, None, None, None, None, None, None, None, None, None, None, None, None, None, None, None, None, None, None, None, None, None, None, None, None, None, None, None, None, None, None, None, None, None, None, None, None, None, None, None, None, None, None, None, None, None, None, None, None, None, None, None, None, None, None, None, None, None, None, None, None, None, None, None, None, None, None, None, None, None, None, None, None, None, None, None, None, None, None, None, None, None, None, None, None, None, None, None, None, None, None, None, None, None, None, None, None, None, None, None, None, None, None, None, None, None, None, None, None, None, None, None, None, None, None, None, None, None, None, None, None, None, None, None, None, None, None, None, None, None, None, None, None, None, None, None, None, None, None, None, None, None, None, None, None, None, None, None, None, None, None, None, None, None, None, None, None, None, None, None, None, None, None, None, None, None, None, None, None, None, None, None, None, None, None, None, None, None, None, None, None, None, None, None, None, None, None, None, None, None, None, None, None, None, None, None, None, None, None, None, None, None, None, None, None, None, None, None, None, None, None, None, None, None, None, None, None, None, None, None, None, None, None, None, None, None, None, None, None, None, None, None, None, None, None, None, None, None, None, None, None, None, None, None, None, None, None, None, None, None, None, None, None, None, None, None, None, None, None, None, None, None, None, None, None, None, None, None, None, None, None, None, None, None, None, None, None, None, None, None, None, None, None, None, None, None, None, None, None, None, None, None, None, None, None, None, None, None, None, None, None, None, None, None, None, None, None, None, None, None, None, None, None, None, None, None, None, None, None, None, None, None, None, None, None, None, None, None, None, None, None, None, None, None, None, None, None, None, None, None, None, None, None, None, None, None, None, None, None, None, None, None, None, None, None, None, None, None, None, None, None, None, None, None, None, None, None, None, None, None, None, None, None, None, None, None, None, None, None, None, None, None, None, None, None, None, None, None, None, None, None, None, None, None, None, None, None, None, None, None, None, None, None, None, None, None, None, None, None, None, None, None, None, None, None, None, None, None, None, None, None, None, None, None, None, None, None, None, None, None, None, None, None, None, None, None, None, None, None, None, None, None, None, None, None, None, None, None, None, None, None, None, None, None, None, None, None, None, None, None, None, None, None, None, None, None, None, None, None, None, None, None, None, None, None, None, None, None, None, None, None, None, None, None, None, None, None, None, None, None, None, None, None, None, None, None, None, None, None, None, None, None, None, None, None, None, None, None, None, None, None, None, None, None, None, None, None, None, None, None, None, None, None, None, None, None, None, None, None, None, None, None, None, None, None, None, None, None, None, None, None, None, None, None, None, None, None, None, None, None, None, None, None, None, None, None, None, None, None, None, None, None, None, None, None, None, None, None, None, None, None, None, None, None, None, None, None, None, None, None, None, None, None, None, None, None, None, None, None, None, None, None, None, None, None, None, None, None, None, None, None, None, None, None, None, None, None, None, None, None, None, None, None, None, None, None, None, None, None, None, None, None, None, None, None, None, None, None, None, None, None, None, None, None, None, None, None, None, None, None, None, None, None, None, None, None, None, None, None, None, None, None, None, None, None, None, None, None, None, None, None, None, None, None, None, None, None, None, None, None, None, None, None, None, None, None, None, None, None, None, None, None, None, None, None, None, None, None, None, None, None, None, None, None, None, None, None, None, None, None, None, None, None, None, None, None, None, None, None, None, None, None, None, None, None, None, None, None, None, None, None, None, None, None, None, None, None, None, None, None, None, None, None, None, None, None, None, None, None, None, None, None, None, None, None, None, None, None, None, None, None, None, None, None, None, None, None, None, None, None, None, None, None, None, None, None, None, None, None, None, None, None, None, None, None, None, None, None, None, None, None, None, None, None, None, None, None, None, None, None, None, None, None, None, None, None, None, None, None, None, None, None, None, None, None, None, None, None, None, None, None, None, None, None, None, None, None, None, None, None, None, None, None, None, None, None, None, None, None, None, None, None, None, None, None, None, None, None, None, None, None, None, None, None, None, None, None, None, None, None, None, None, None, None, None, None, None, None, None, None, None, None, None, None, None, None, None, None, None, None, None, None, None, None, None, None, None, None, None, None, None, None, None, None, None, None, None, None, None, None, None, None, None, None, None, None, None, None, None, None, None, None, None, None, None, None, None, None, None, None, None, None, None, None, None, None, None, None, None, None, None, None, None, None, None, None, None, None, None, None, None, None, None, None, None, None, None, None, None, None, None, None, None, None, None, None, None, None, None, None, None], \n",
            "\t[0.32597678899765015, 0.3162476718425751, 0.31560060381889343, 0.3232400715351105, None, None, None, None, None, None, None, None, None, None, None, None, None, None, None, None, None, None, None, None, None, None, None, None, None, None, None, None, None, None, None, None, None, None, None, None, None, None, None, None, None, None, None, None, None, None, None, None, None, None, None, None, None, None, None, None, None, None, None, None, None, None, None, None, None, None, None, None, None, None, None, None, None, None, None, None, None, None, None, None, None, None, None, None, None, None, None, None, None, None, None, None, None, None, None, None, None, None, None, None, None, None, None, None, None, None, None, None, None, None, None, None, None, None, None, None, None, None, None, None, None, None, None, None, None, None, None, None, None, None, None, None, None, None, None, None, None, None, None, None, None, None, None, None, None, None, None, None, None, None, None, None, None, None, None, None, None, None, None, None, None, None, None, None, None, None, None, None, None, None, None, None, None, None, None, None, None, None, None, None, None, None, None, None, None, None, None, None, None, None, None, None, None, None, None, None, None, None, None, None, None, None, None, None, None, None, None, None, None, None, None, None, None, None, None, None, None, None, None, None, None, None, None, None, None, None, None, None, None, None, None, None, None, None, None, None, None, None, None, None, None, None, None, None, None, None, None, None, None, None, None, None, None, None, None, None, None, None, None, None, None, None, None, None, None, None, None, None, None, None, None, None, None, None, None, None, None, None, None, None, None, None, None, None, None, None, None, None, None, None, None, None, None, None, None, None, None, None, None, None, None, None, None, None, None, None, None, None, None, None, None, None, None, None, None, None, None, None, None, None, None, None, None, None, None, None, None, None, None, None, None, None, None, None, None, None, None, None, None, None, None, None, None, None, None, None, None, None, None, None, None, None, None, None, None, None, None, None, None, None, None, None, None, None, None, None, None, None, None, None, None, None, None, None, None, None, None, None, None, None, None, None, None, None, None, None, None, None, None, None, None, None, None, None, None, None, None, None, None, None, None, None, None, None, None, None, None, None, None, None, None, None, None, None, None, None, None, None, None, None, None, None, None, None, None, None, None, None, None, None, None, None, None, None, None, None, None, None, None, None, None, None, None, None, None, None, None, None, None, None, None, None, None, None, None, None, None, None, None, None, None, None, None, None, None, None, None, None, None, None, None, None, None, None, None, None, None, None, None, None, None, None, None, None, None, None, None, None, None, None, None, None, None, None, None, None, None, None, None, None, None, None, None, None, None, None, None, None, None, None, None, None, None, None, None, None, None, None, None, None, None, None, None, None, None, None, None, None, None, None, None, None, None, None, None, None, None, None, None, None, None, None, None, None, None, None, None, None, None, None, None, None, None, None, None, None, None, None, None, None, None, None, None, None, None, None, None, None, None, None, None, None, None, None, None, None, None, None, None, None, None, None, None, None, None, None, None, None, None, None, None, None, None, None, None, None, None, None, None, None, None, None, None, None, None, None, None, None, None, None, None, None, None, None, None, None, None, None, None, None, None, None, None, None, None, None, None, None, None, None, None, None, None, None, None, None, None, None, None, None, None, None, None, None, None, None, None, None, None, None, None, None, None, None, None, None, None, None, None, None, None, None, None, None, None, None, None, None, None, None, None, None, None, None, None, None, None, None, None, None, None, None, None, None, None, None, None, None, None, None, None, None, None, None, None, None, None, None, None, None, None, None, None, None, None, None, None, None, None, None, None, None, None, None, None, None, None, None, None, None, None, None, None, None, None, None, None, None, None, None, None, None, None, None, None, None, None, None, None, None, None, None, None, None, None, None, None, None, None, None, None, None, None, None, None, None, None, None, None, None, None, None, None, None, None, None, None, None, None, None, None, None, None, None, None, None, None, None, None, None, None, None, None, None, None, None, None, None, None, None, None, None, None, None, None, None, None, None, None, None, None, None, None, None, None, None, None, None, None, None, None, None, None, None, None, None, None, None, None, None, None, None, None, None, None, None, None, None, None, None, None, None, None, None, None, None, None, None, None, None, None, None, None, None, None, None, None, None, None, None, None, None, None, None, None, None, None, None, None, None, None, None, None, None, None, None, None, None, None, None, None, None, None, None, None, None, None, None, None, None, None, None, None, None, None, None, None, None, None, None, None, None, None, None, None, None, None, None, None, None, None, None, None, None, None, None, None, None, None, None, None, None, None, None, None, None, None, None, None, None, None, None, None, None, None, None, None, None, None, None, None, None, None, None, None, None, None, None, None, None, None, None, None, None, None, None, None, None, None, None, None, None, None, None, None, None, None, None, None, None, None, None, None, None, None, None, None, None, None, None, None, None, None, None, None, None, None, None, None, None, None, None, None, None, None, None, None, None, None, None, None, None, None, None, None, None, None, None, None, None, None, None, None, None, None, None, None, None, None, None, None, None, None, None, None, None, None, None, None, None, None, None, None, None, None, None, None, None, None, None, None, None, None, None, None, None, None, None, None, None, None, None, None, None, None, None, None, None, None, None, None, None, None, None, None, None, None, None, None, None, None, None, None, None, None, None, None, None, None, None, None, None, None, None, None, None, None, None, None, None, None, None, None, None, None, None, None, None, None, None, None, None, None, None, None, None, None, None, None, None, None, None, None, None, None, None, None, None, None, None, None, None, None, None, None, None, None, None, None, None, None, None, None, None, None, None, None, None, None, None, None, None, None, None, None, None, None, None, None, None, None, None, None, None, None, None, None, None, None, None, None, None, None, None, None, None, None, None, None, None, None, None, None, None, None, None, None, None, None, None, None, None, None, None, None, None, None, None, None, None, None, None, None, None, None, None, None, None, None, None, None, None, None, None, None, None, None, None, None, None, None, None, None, None, None, None, None, None, None, None, None, None, None, None, None, None, None, None, None, None, None, None, None, None, None, None, None, None, None, None, None, None, None, None, None, None, None, None, None, None, None, None, None, None, None, None, None, None, None, None, None, None, None, None, None, None, None, None, None, None, None, None, None, None, None, None, None, None, None, None, None, None, None, None, None, None, None, None, None, None, None, None, None, None, None, None, None, None, None, None, None, None, None, None, None, None, None, None, None, None, None, None, None, None, None, None, None, None, None, None, None, None, None, None, None, None, None, None, None, None, None, None, None, None, None, None, None, None, None, None, None, None, None, None, None, None, None, None, None, None, None, None, None, None, None, None, None, None, None, None, None, None, None, None, None, None, None, None, None, None, None, None, None, None, None, None, None, None, None, None, None, None, None, None, None, None, None, None, None, None, None, None, None, None, None, None, None, None, None, None, None, None, None, None, None, None, None, None, None, None, None, None, None, None, None, None, None, None, None, None, None, None, None, None, None, None, None, None, None, None, None, None, None, None, None, None, None, None, None, None, None, None, None, None, None, None, None, None, None, None, None, None, None, None, None, None, None, None, None, None, None, None, None, None, None, None, None, None, None, None, None, None, None, None, None, None, None, None, None, None, None, None, None, None, None, None, None, None, None, None, None, None, None, None, None, None, None, None, None, None, None, None, None, None, None, None, None, None, None, None, None, None, None, None, None, None, None, None, None, None, None, None, None, None, None, None, None, None, None, None, None, None, None, None, None, None, None, None, None, None, None, None, None, None, None, None, None, None, None, None, None, None, None, None, None, None, None, None, None, None, None, None, None, None, None, None, None, None, None, None, None, None, None, None, None, None, None, None, None, None, None, None, None, None, None, None, None, None, None, None, None, None, None, None, None, None, None, None, None, None, None, None, None, None, None, None, None, None, None, None, None, None, None, None, None, None, None, None, None, None, None, None, None, None, None, None, None, None, None, None, None, None, None, None, None, None, None, None, None, None, None, None, None, None, None, None, None, None, None, None, None, None, None, None, None, None, None, None, None, None, None, None, None, None, None, None, None, None, None, None, None, None, None, None, None, None, None, None, None, None, None, None, None, None, None, None, None, None, None, None, None, None, None, None, None, None, None, None, None, None, None, None, None, None, None, None, None, None, None, None, None, None, None, None, None, None, None, None, None, None, None, None, None, None, None, None, None, None, None, None, None, None, None, None, None, None, None, None, None, None, None, None, None, None, None, None, None, None, None, None, None, None, None, None, None, None, None, None, None, None, None, None, None, None, None, None, None, None, None, None, None, None, None, None, None, None, None, None, None, None, None, None, None, None, None, None, None, None, None, None, None, None, None, None, None, None, None, None, None, None, None, None, None, None, None, None, None, None, None, None, None, None, None, None, None, None, None, None, None, None, None, None, None, None, None, None, None, None, None, None, None, None, None, None, None, None, None, None, None, None, None, None, None, None, None, None, None, None, None, None, None, None, None, None, None, None, None, None, None, None, None, None, None, None, None, None, None, None, None, None, None, None, None, None, None, None, None, None, None, None, None, None, None, None, None, None, None, None, None, None, None, None, None, None, None, None, None, None, None, None, None, None, None, None, None, None, None, None, None, None, None, None, None, None, None, None, None, None, None, None, None, None, None, None, None, None, None, None, None, None, None, None, None, None, None, None, None, None, None, None, None, None, None, None, None, None, None, None, None, None, None, None, None, None, None, None, None, None, None, None, None, None, None, None, None, None, None, None, None, None, None, None, None, None, None, None, None, None, None, None, None, None, None, None, None, None, None, None, None, None, None, None, None, None, None, None, None, None, None, None, None, None, None, None, None, None, None, None, None, None, None, None, None, None, None, None, None, None, None, None, None, None, None, None, None, None, None, None, None, None, None, None, None, None, None, None, None, None, None, None, None, None, None, None, None, None, None, None, None, None, None, None, None, None, None, None, None, None, None, None, None, None, None, None, None, None, None, None, None, None, None, None, None, None, None, None, None, None, None, None, None, None, None, None, None, None, None, None, None, None, None, None, None, None, None, None, None, None, None, None, None, None, None, None, None, None, None, None, None, None, None, None, None, None, None, None, None, None, None, None, None, None, None, None, None, None, None, None, None, None, None, None, None, None, None, None, None, None, None, None, None, None, None, None, None, None, None, None, None, None, None, None, None, None, None, None, None, None, None, None, None, None, None, None, None, None, None, None, None, None, None, None, None, None, None, None, None, None, None, None, None, None, None, None, None, None, None, None, None, None, None, None, None, None, None, None, None, None, None, None, None, None, None, None, None, None, None, None, None, None, None, None, None, None, None, None, None, None, None, None, None, None, None, None, None, None, None, None, None, None, None, None, None, None, None, None, None, None, None, None, None, None, None, None, None, None, None, None, None, None, None, None, None, None, None, None, None, None, None, None, None, None, None, None, None, None, None, None, None, None, None, None, None, None, None, None, None, None, None, None, None, None, None, None, None, None, None, None, None, None, None, None, None, None, None, None, None, None, None, None, None, None, None, None, None, None, None, None, None, None, None, None, None, None, None, None, None, None, None, None, None, None, None, None, None, None, None, None, None, None, None, None, None, None, None, None, None, None, None, None, None, None, None, None, None, None, None, None, None, None, None, None, None, None, None, None, None, None, None, None, None, None, None, None, None, None, None, None, None, None, None, None, None, None, None, None, None, None, None, None, None, None, None, None, None, None, None, None, None, None, None, None, None, None, None, None, None, None, None, None, None, None, None, None, None, None, None, None, None, None, None, None, None, None, None, None, None, None, None, None, None, None, None, None, None, None, None, None, None, None, None, None, None, None, None, None, None, None, None, None, None, None, None, None, None, None, None, None, None, None, None, None, None, None, None, None, None, None, None, None, None, None, None, None, None, None, None, None, None, None, None, None, None, None, None, None, None, None, None, None, None, None, None, None, None, None, None, None, None, None, None, None, None, None, None, None, None, None, None, None, None, None, None, None, None, None, None, None, None, None, None, None, None, None, None, None, None, None, None, None, None, None, None, None, None, None, None, None, None, None, None, None, None, None, None, None, None, None, None, None, None, None, None, None, None, None, None, None, None, None, None, None, None, None, None, None, None, None, None, None, None, None, None, None, None, None, None, None, None, None, None, None, None, None, None, None, None, None, None, None, None, None, None, None, None, None, None, None, None, None, None, None, None, None, None, None, None, None, None, None, None, None, None, None, None, None, None, None, None, None, None, None, None, None, None, None, None, None, None, None, None, None, None, None, None, None, None, None, None, None, None, None, None, None, None, None, None, None, None, None, None, None, None, None, None, None, None, None, None, None, None, None, None, None, None, None, None, None, None, None, None, None, None, None, None, None, None, None, None, None, None, None, None, None, None, None, None, None, None, None, None, None, None, None, None, None, None, None, None, None, None, None, None, None, None, None, None, None, None, None, None, None, None, None, None, None, None, None, None, None, None, None, None, None, None, None, None, None, None, None, None, None, None, None, None, None, None, None, None, None, None, None, None, None, None, None, None, None, None, None, None, None, None, None, None, None, None, None, None, None, None, None, None, None, None, None, None, None, None, None, None, None, None, None, None, None, None, None, None, None, None, None, None, None, None, None, None, None, None, None, None, None, None, None, None, None, None, None, None, None, None, None, None, None, None, None, None, None, None, None, None, None, None, None, None, None, None, None, None, None, None, None, None, None, None, None, None, None, None, None, None, None, None, None, None, None, None, None, None, None, None, None, None, None, None, None, None, None, None, None, None, None, None, None, None, None, None, None, None, None, None, None, None, None, None, None, None, None, None, None, None, None, None, None, None, None, None, None, None, None, None, None, None, None, None, None, None, None, None, None, None, None, None, None, None, None, None, None, None, None, None, None, None, None, None, None, None, None, None, None, None, None, None, None, None, None, None, None, None, None, None, None, None, None, None, None, None, None, None, None, None, None, None, None, None, None, None, None, None, None, None, None, None, None, None, None, None, None, None, None, None, None, None, None, None, None, None, None, None, None, None, None, None, None, None, None, None, None, None, None, None, None, None, None, None, None, None, None, None, None, None, None, None, None, None, None, None, None, None, None, None, None, None, None, None, None, None, None, None, None, None, None, None, None, None, None, None, None, None, None, None, None, None, None, None, None, None, None, None, None, None, None, None, None, None, None, None, None, None, None, None, None, None, None, None, None, None, None, None, None, None, None, None, None, None, None, None, None, None, None, None, None, None, None, None, None, None, None, None, None, None, None, None, None, None, None, None, None, None, None, None, None, None, None, None, None, None, None, None, None, None, None, None, None, None, None, None, None, None, None, None, None, None, None, None, None, None, None, None, None, None, None, None, None, None, None, None, None, None, None, None, None, None, None, None, None, None, None, None, None, None, None, None, None, None, None, None, None, None, None, None, None, None, None, None, None, None, None, None, None, None, None, None, None, None, None, None, None, None, None, None, None, None, None, None, None, None, None, None, None, None, None, None, None, None, None, None, None, None, None, None, None, None, None, None, None, None, None, None, None, None, None, None, None, None, None, None, None, None, None, None, None, None, None, None, None, None, None, None, None, None, None, None, None, None, None, None, None, None, None, None, None, None, None, None, None, None, None, None, None, None, None, None, None, None, None, None, None, None, None, None, None, None, None, None, None, None, None, None, None, None, None, None, None, None, None, None, None, None, None, None, None, None, None, None, None, None, None, None, None, None, None, None, None, None, None, None, None, None, None, None, None, None, None, None, None, None, None, None, None, None, None, None, None, None, None, None, None, None, None, None, None, None, None, None, None, None, None, None, None, None, None, None, None, None, None, None, None, None, None, None, None, None, None, None, None, None, None, None, None, None, None, None, None, None, None, None, None, None, None, None, None, None, None, None, None, None, None, None, None, None, None, None, None, None, None, None, None, None, None, None, None, None, None, None, None, None, None, None, None, None, None, None, None, None, None, None, None, None, None, None, None, None, None, None, None, None, None, None, None, None, None, None, None, None, None, None, None, None, None, None, None, None, None, None, None, None, None, None, None, None, None, None, None, None, None, None, None, None, None, None, None, None, None, None, None, None, None, None, None, None, None, None, None, None, None, None, None, None, None, None, None, None, None, None, None, None, None, None, None, None, None, None, None, None, None, None, None, None, None, None, None, None, None, None, None, None, None, None, None, None, None, None, None, None, None, None, None, None, None, None, None, None, None, None, None, None, None, None, None, None, None, None, None, None, None, None, None, None, None, None, None, None, None, None, None, None, None, None, None, None, None, None, None, None, None, None, None, None, None, None, None, None, None, None, None, None, None, None, None, None, None, None, None, None, None, None, None, None, None, None, None, None, None, None, None, None, None, None, None, None, None, None, None, None, None, None, None, None, None, None, None, None, None, None, None, None, None, None, None, None, None, None, None, None, None, None, None, None, None, None, None, None, None, None, None, None, None, None, None, None, None, None, None, None, None, None, None, None, None, None, None, None, None, None, None, None, None, None, None, None, None, None, None, None, None, None, None, None, None, None, None, None, None, None, None, None, None, None, None, None, None, None, None, None, None, None, None, None, None, None, None, None, None, None, None, None, None, None, None, None, None, None, None, None, None, None, None, None, None, None, None, None, None, None, None, None, None, None, None, None, None, None, None, None, None, None, None, None, None, None, None, None, None, None, None, None, None, None, None, None, None, None, None, None, None, None, None, None, None, None, None, None, None, None, None, None, None, None, None, None, None, None, None, None, None, None, None, None, None, None, None, None, None, None, None, None, None, None, None, None, None, None, None, None, None, None, None, None, None, None, None, None, None, None, None, None, None, None, None, None, None, None, None, None, None, None, None, None, None, None, None, None, None, None, None, None, None, None, None, None, None, None, None, None, None, None, None, None, None, None, None, None, None, None, None, None, None, None, None, None, None, None, None, None, None, None, None, None, None, None, None, None, None, None, None, None, None, None, None, None, None, None, None, None, None, None, None, None, None, None, None, None, None, None, None, None, None, None, None, None, None, None, None, None, None, None, None, None, None, None, None, None, None, None, None, None, None, None, None, None, None, None, None, None, None, None, None, None, None, None, None, None, None, None, None, None, None, None, None, None, None, None, None, None, None, None, None, None, None, None, None, None, None, None, None, None, None, None, None, None, None, None, None, None, None, None, None, None, None, None, None, None, None, None, None, None, None, None, None, None, None, None, None, None, None, None, None, None, None, None, None, None, None, None, None, None, None, None, None, None, None, None, None, None, None, None, None, None, None, None, None, None, None, None, None, None, None, None, None, None, None, None, None, None, None, None, None, None, None, None, None, None, None, None, None, None, None, None, None, None, None, None, None, None, None, None, None, None, None, None, None, None, None, None, None, None, None, None, None, None, None, None, None, None, None, None, None, None, None, None, None, None, None, None, None, None, None, None, None, None, None, None, None, None, None, None, None, None, None, None, None, None, None, None, None, None, None, None, None, None, None, None, None, None, None, None, None, None, None, None, None, None, None, None, None, None, None, None, None, None, None, None, None, None, None, None, None, None, None, None, None, None, None, None, None, None, None, None, None, None, None, None, None, None, None, None, None, None, None, None, None, None, None, None, None, None, None, None, None, None, None, None, None, None, None, None, None, None, None, None, None, None, None, None, None, None, None, None, None, None, None, None, None, None, None, None, None, None, None, None, None, None, None, None, None, None, None, None, None, None, None, None, None, None, None, None, None, None, None, None, None, None, None, None, None, None, None, None, None, None, None, None, None, None, None, None, None, None, None, None, None, None, None, None, None, None, None, None, None, None, None, None, None, None, None, None, None, None, None, None, None, None, None, None, None, None, None, None, None, None, None, None, None, None, None, None, None, None, None, None, None, None, None, None, None, None, None, None, None, None, None, None, None, None, None, None, None, None, None, None, None, None, None, None, None, None, None, None, None, None, None, None, None, None, None, None, None, None, None, None, None, None, None, None, None, None, None, None, None, None, None, None, None, None, None, None, None, None, None, None, None, None, None, None, None, None, None, None, None, None, None, None, None, None, None, None, None, None, None, None, None, None, None, None, None, None, None, None, None, None, None, None, None, None, None, None, None, None, None, None, None, None, None, None, None, None, None, None, None, None, None, None, None, None, None, None, None, None, None, None, None, None, None, None, None, None, None, None, None, None, None, None, None, None, None, None, None, None, None, None, None, None, None, None, None, None, None, None, None, None, None, None, None, None, None, None, None, None, None, None, None, None, None, None, None, None, None, None, None, None, None, None, None, None, None, None, None, None, None, None, None, None, None, None, None, None, None, None, None, None, None, None, None, None, None, None, None, None, None, None, None, None, None, None, None, None, None, None, None, None, None, None, None, None, None, None, None, None, None, None, None, None, None, None, None, None, None, None, None, None, None, None, None, None, None, None, None, None, None, None, None, None, None, None, None, None, None, None, None, None, None, None, None, None, None, None, None, None, None, None, None, None, None, None, None, None, None, None, None, None, None, None, None, None, None, None, None, None, None, None, None, None, None, None, None, None, None, None, None, None, None, None, None, None, None, None, None, None, None, None, None, None, None, None, None, None, None, None, None, None, None, None, None, None, None, None, None, None, None, None, None, None, None, None, None, None, None, None, None, None, None, None, None, None, None, None, None, None, None, None, None, None, None, None, None, None, None, None, None, None, None, None, None, None, None, None, None, None, None, None, None, None, None, None, None, None, None, None, None, None, None, None, None, None, None, None, None, None, None, None, None, None, None, None, None, None, None, None, None, None, None, None, None, None, None, None, None, None, None, None, None, None, None, None, None, None, None, None, None, None, None, None, None, None, None, None, None, None, None, None, None, None, None, None, None, None, None, None, None, None, None, None, None, None, None, None, None, None, None, None, None, None, None, None, None, None, None, None, None, None, None, None, None, None, None, None, None, None, None, None, None, None, None, None, None, None, None, None, None, None, None, None, None, None, None, None, None, None, None, None, None, None, None, None, None, None, None, None, None, None, None, None, None, None, None, None, None, None, None, None, None, None, None, None, None, None, None, None, None, None, None, None, None, None, None, None, None, None, None, None, None, None, None, None, None, None, None, None, None, None, None, None, None, None, None, None, None, None, None, None, None, None, None, None, None, None, None, None, None, None, None, None, None, None, None, None, None, None, None, None, None, None, None, None, None, None, None, None, None, None, None, None, None, None, None, None, None, None, None, None, None, None, None, None, None, None, None, None, None, None, None, None, None, None, None, None, None, None, None, None, None, None, None, None, None, None, None, None, None, None, None, None, None, None, None, None, None, None, None, None, None, None, None, None, None, None, None, None, None, None, None, None, None, None, None, None, None, None, None, None, None, None, None, None, None, None, None, None, None, None, None, None, None, None, None, None, None, None, None, None, None, None, None, None, None, None, None, None, None, None, None, None, None, None, None, None, None, None, None, None, None, None, None, None, None, None, None, None, None, None, None, None, None, None, None, None, None, None, None, None, None, None, None, None, None, None, None, None, None, None, None, None, None, None, None, None, None, None, None, None, None, None, None, None, None, None, None, None, None, None, None, None, None, None, None, None, None, None, None, None, None, None, None, None, None, None, None, None, None, None, None, None, None, None, None, None, None, None, None, None, None, None, None, None, None, None, None, None, None, None, None, None, None, None, None, None, None, None, None, None, None, None, None, None, None, None, None, None, None, None, None, None, None, None, None, None, None, None, None, None, None, None, None, None, None, None, None, None, None, None, None, None, None, None, None, None, None, None, None, None, None, None, None, None, None], \n",
            "\tover the training epochs, respectively.\n"
          ],
          "name": "stdout"
        }
      ]
    },
    {
      "cell_type": "markdown",
      "metadata": {
        "id": "5i7TXjL-NhDz"
      },
      "source": [
        "#### Visualizing the plots:"
      ]
    },
    {
      "cell_type": "code",
      "metadata": {
        "id": "P7JavO5VNhDz",
        "colab": {
          "base_uri": "https://localhost:8080/",
          "height": 851
        },
        "outputId": "ebb4f7b0-0475-41c6-9e9e-453475376dcc"
      },
      "source": [
        "plot_loss_graph(tr_loss_ft, val_loss_ft)\n",
        "plot_auc_graph(tr_auc_ft, val_auc_ft)\n",
        "plot_Accuracy_graph(tr_accuracy,val_accuracy)\n",
        "\n"
      ],
      "execution_count": 24,
      "outputs": [
        {
          "output_type": "display_data",
          "data": {
            "image/png": "[encoded data removed]",
            "text/plain": [
              "<Figure size 432x288 with 1 Axes>"
            ]
          },
          "metadata": {
            "tags": [],
            "needs_background": "light"
          }
        },
        {
          "output_type": "display_data",
          "data": {
            "image/png": "[encoded data removed]",
            "text/plain": [
              "<Figure size 432x288 with 1 Axes>"
            ]
          },
          "metadata": {
            "tags": [],
            "needs_background": "light"
          }
        },
        {
          "output_type": "display_data",
          "data": {
            "image/png": "[encoded data removed]",
            "text/plain": [
              "<Figure size 432x288 with 1 Axes>"
            ]
          },
          "metadata": {
            "tags": [],
            "needs_background": "light"
          }
        }
      ]
    },
    {
      "cell_type": "markdown",
      "metadata": {
        "id": "7wbD8d2XNhDz"
      },
      "source": [
        "2. Compare your results between the two approaches. Is there any improvement? Explain your findings...\n"
      ]
    },
    {
      "cell_type": "markdown",
      "metadata": {
        "id": "JcVO0IcKNhD0"
      },
      "source": [
        "Type your answer here:\n"
      ]
    },
    {
      "cell_type": "code",
      "metadata": {
        "id": "qlqsOoreNhD0",
        "colab": {
          "base_uri": "https://localhost:8080/",
          "height": 295
        },
        "outputId": "0c6216e5-0ae8-4a38-e237-4c3bfa6f0eaa"
      },
      "source": [
        "plot_loss_graph_for2_models(tr_loss,val_loss,tr_loss_ft,val_loss_ft,\"18\",\"18 fine tune\")\r\n"
      ],
      "execution_count": 25,
      "outputs": [
        {
          "output_type": "display_data",
          "data": {
            "image/png": "[encoded data removed]",
            "text/plain": [
              "<Figure size 432x288 with 1 Axes>"
            ]
          },
          "metadata": {
            "tags": [],
            "needs_background": "light"
          }
        }
      ]
    },
    {
      "cell_type": "markdown",
      "metadata": {
        "id": "6RPm2Z35WFbO"
      },
      "source": [
        "We can see that the fine tuning process(yellow line) gives lower loss(~ 0.31) and better accuracy than using only feature extraction(~0.33) -blue line.\r\n",
        "Fine tuning method uses the trained net of feature extraction process.\r\n",
        "In this process we train the whole net(including resnet!) and not just the classifyer. we used very small learning rate\r\n",
        "to tune resnet18 weights so that it will fit more to our mission(dogs and cats) than it's original task(ImageNet classes)\r\n",
        "Its make sense that when we take off the constraint(train only the classifyer), the results will be better."
      ]
    }
  ]
}